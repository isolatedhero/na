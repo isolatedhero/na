{
 "cells": [
  {
   "cell_type": "markdown",
   "id": "4a126b4d",
   "metadata": {},
   "source": [
    "## 데이터 시각화"
   ]
  },
  {
   "cell_type": "markdown",
   "id": "c0d55f24",
   "metadata": {},
   "source": [
    "### 관련 라이브러리 호출"
   ]
  },
  {
   "cell_type": "code",
   "execution_count": null,
   "id": "36550452",
   "metadata": {
    "ExecuteTime": {
     "end_time": "2022-06-11T04:51:26.918915Z",
     "start_time": "2022-06-11T04:51:26.601731Z"
    }
   },
   "outputs": [],
   "source": [
    "# 관련 라이브러리를 호출합니다.\n",
    "import os\n",
    "import chardet\n",
    "import numpy as np\n",
    "import pandas as pd\n",
    "import joblib"
   ]
  },
  {
   "cell_type": "markdown",
   "id": "a65db77f",
   "metadata": {},
   "source": [
    "### 작업 경로 확인 및 변경"
   ]
  },
  {
   "cell_type": "code",
   "execution_count": null,
   "id": "cb66b080",
   "metadata": {
    "ExecuteTime": {
     "end_time": "2022-06-11T04:51:26.928915Z",
     "start_time": "2022-06-11T04:51:26.921244Z"
    }
   },
   "outputs": [],
   "source": [
    "# 현재 작업 경로를 확인합니다.\n",
    "os.getcwd()"
   ]
  },
  {
   "cell_type": "code",
   "execution_count": null,
   "id": "479ac0b2",
   "metadata": {
    "ExecuteTime": {
     "end_time": "2022-06-11T04:51:26.932995Z",
     "start_time": "2022-06-11T04:51:26.930689Z"
    }
   },
   "outputs": [],
   "source": [
    "# data 폴더로 작업 경로를 변경합니다.\n",
    "os.chdir(path = '../data')"
   ]
  },
  {
   "cell_type": "code",
   "execution_count": null,
   "id": "c5aea48f",
   "metadata": {
    "ExecuteTime": {
     "end_time": "2022-06-11T04:51:26.938997Z",
     "start_time": "2022-06-11T04:51:26.935649Z"
    }
   },
   "outputs": [],
   "source": [
    "# 현재 작업 경로에 있는 폴더명과 파일명을 출력합니다.\n",
    "os.listdir()"
   ]
  },
  {
   "cell_type": "markdown",
   "id": "6cd877d5",
   "metadata": {},
   "source": [
    "### 실습 데이터셋 준비: z 파일"
   ]
  },
  {
   "cell_type": "code",
   "execution_count": null,
   "id": "eff1ecf2",
   "metadata": {
    "ExecuteTime": {
     "end_time": "2022-06-11T04:51:26.992117Z",
     "start_time": "2022-06-11T04:51:26.940544Z"
    }
   },
   "outputs": [],
   "source": [
    "# z 파일을 호출하고 데이터프레임 apt에 할당합니다.\n",
    "apt = joblib.load(filename = 'APT_List_Seoul_2021.z')"
   ]
  },
  {
   "cell_type": "code",
   "execution_count": null,
   "id": "4e7db604",
   "metadata": {
    "ExecuteTime": {
     "end_time": "2022-06-11T04:51:27.042699Z",
     "start_time": "2022-06-11T04:51:26.993733Z"
    },
    "scrolled": true
   },
   "outputs": [],
   "source": [
    "# apt의 정보를 확인합니다.\n",
    "apt.info()"
   ]
  },
  {
   "cell_type": "code",
   "execution_count": null,
   "id": "27ac8cff",
   "metadata": {
    "ExecuteTime": {
     "end_time": "2022-06-11T04:51:27.060171Z",
     "start_time": "2022-06-11T04:51:27.044412Z"
    }
   },
   "outputs": [],
   "source": [
    "# apt의 처음 5행을 출력합니다.\n",
    "apt.head()"
   ]
  },
  {
   "cell_type": "code",
   "execution_count": null,
   "id": "c9bb6db2",
   "metadata": {
    "ExecuteTime": {
     "end_time": "2022-06-11T04:51:27.065590Z",
     "start_time": "2022-06-11T04:51:27.061590Z"
    }
   },
   "outputs": [],
   "source": [
    "# apt에 거래월을 추가합니다.\n",
    "apt['거래월'] = apt['거래일'].dt.month"
   ]
  },
  {
   "cell_type": "markdown",
   "id": "ceb2bdd1",
   "metadata": {},
   "source": [
    "### 시각화 설정: 라이브러리 호출"
   ]
  },
  {
   "cell_type": "code",
   "execution_count": null,
   "id": "verified-houston",
   "metadata": {
    "ExecuteTime": {
     "end_time": "2022-06-11T04:51:27.924994Z",
     "start_time": "2022-06-11T04:51:27.067199Z"
    }
   },
   "outputs": [],
   "source": [
    "# 관련 라이브러리를 호출합니다.\n",
    "import seaborn as sns\n",
    "import matplotlib.pyplot as plt\n",
    "import matplotlib.font_manager as fm"
   ]
  },
  {
   "cell_type": "code",
   "execution_count": null,
   "id": "a56cebda",
   "metadata": {
    "ExecuteTime": {
     "end_time": "2022-06-11T04:51:28.398599Z",
     "start_time": "2022-06-11T04:51:27.930288Z"
    }
   },
   "outputs": [],
   "source": [
    "# 테스트용 그래프를 그립니다.\n",
    "sns.histplot(data = apt, x = '거래금액')\n",
    "plt.title(label = '아파트 거래금액 분포');"
   ]
  },
  {
   "cell_type": "markdown",
   "id": "sound-defense",
   "metadata": {},
   "source": [
    "### 시각화 설정: 스타일시트"
   ]
  },
  {
   "cell_type": "code",
   "execution_count": null,
   "id": "77059457",
   "metadata": {
    "ExecuteTime": {
     "end_time": "2022-06-11T04:51:28.404130Z",
     "start_time": "2022-06-11T04:51:28.400903Z"
    },
    "scrolled": true
   },
   "outputs": [],
   "source": [
    "# matplotlib 라이브러리에서 사용할 수 있는 스타일시트 목록을 확인합니다.\n",
    "plt.style.available"
   ]
  },
  {
   "cell_type": "code",
   "execution_count": null,
   "id": "6affc420",
   "metadata": {
    "ExecuteTime": {
     "end_time": "2022-06-11T04:51:28.408211Z",
     "start_time": "2022-06-11T04:51:28.405735Z"
    }
   },
   "outputs": [],
   "source": [
    "# 그래프에 적용할 스타일시트를 지정합니다.\n",
    "plt.style.use(style = 'seaborn-white')"
   ]
  },
  {
   "cell_type": "markdown",
   "id": "imposed-slave",
   "metadata": {},
   "source": [
    "### 시각화 설정: 한글폰트"
   ]
  },
  {
   "cell_type": "code",
   "execution_count": null,
   "id": "separated-donna",
   "metadata": {
    "ExecuteTime": {
     "end_time": "2022-06-11T04:51:28.486094Z",
     "start_time": "2022-06-11T04:51:28.409923Z"
    }
   },
   "outputs": [],
   "source": [
    "# 현재 사용 중인 컴퓨터에 설치한 전체 폰트 파일명을 리스트로 반환합니다.\n",
    "fontList = fm.findSystemFonts(fontext = 'ttf')"
   ]
  },
  {
   "cell_type": "code",
   "execution_count": null,
   "id": "informational-giant",
   "metadata": {
    "ExecuteTime": {
     "end_time": "2022-06-11T04:51:28.491466Z",
     "start_time": "2022-06-11T04:51:28.488507Z"
    }
   },
   "outputs": [],
   "source": [
    "# 특정 문자열을 갖는 파일명을 남깁니다.\n",
    "fontPath = [font for font in fontList if 'Gamja' in font]"
   ]
  },
  {
   "cell_type": "code",
   "execution_count": null,
   "id": "88c6a3c5",
   "metadata": {
    "ExecuteTime": {
     "end_time": "2022-06-11T04:51:28.495379Z",
     "start_time": "2022-06-11T04:51:28.493373Z"
    }
   },
   "outputs": [],
   "source": [
    "# fontPath를 오름차순 정렬합니다.\n",
    "fontPath.sort()"
   ]
  },
  {
   "cell_type": "code",
   "execution_count": null,
   "id": "eleven-wound",
   "metadata": {
    "ExecuteTime": {
     "end_time": "2022-06-11T04:51:28.500719Z",
     "start_time": "2022-06-11T04:51:28.497154Z"
    }
   },
   "outputs": [],
   "source": [
    "# 반복문으로 폰트명을 출력합니다.\n",
    "for font in fontPath:\n",
    "    print(fm.FontProperties(fname = font).get_name())"
   ]
  },
  {
   "cell_type": "markdown",
   "id": "378d8068",
   "metadata": {},
   "source": [
    "### 시각화 설정: 그래픽 파라미터"
   ]
  },
  {
   "cell_type": "code",
   "execution_count": null,
   "id": "positive-reasoning",
   "metadata": {
    "ExecuteTime": {
     "end_time": "2022-06-11T04:51:28.504806Z",
     "start_time": "2022-06-11T04:51:28.502378Z"
    }
   },
   "outputs": [],
   "source": [
    "# 그래프 크기와 해상도를 설정합니다.\n",
    "plt.rc(group = 'figure', figsize = (8, 4), dpi = 100)"
   ]
  },
  {
   "cell_type": "code",
   "execution_count": null,
   "id": "sized-citation",
   "metadata": {
    "ExecuteTime": {
     "end_time": "2022-06-11T04:51:28.508739Z",
     "start_time": "2022-06-11T04:51:28.506520Z"
    }
   },
   "outputs": [],
   "source": [
    "# 한글폰트와 글자 크기를 설정합니다.\n",
    "plt.rc(group = 'font', family = 'Gamja Flower', size = 10)"
   ]
  },
  {
   "cell_type": "code",
   "execution_count": null,
   "id": "d79dbc92",
   "metadata": {
    "ExecuteTime": {
     "end_time": "2022-06-11T04:51:28.513076Z",
     "start_time": "2022-06-11T04:51:28.510422Z"
    }
   },
   "outputs": [],
   "source": [
    "# 유니코드 마이너스를 축에 출력하지 않도록 설정합니다.\n",
    "plt.rc(group = 'axes', unicode_minus = False)"
   ]
  },
  {
   "cell_type": "code",
   "execution_count": null,
   "id": "35cf3eed",
   "metadata": {
    "ExecuteTime": {
     "end_time": "2022-06-11T04:51:28.518130Z",
     "start_time": "2022-06-11T04:51:28.515599Z"
    }
   },
   "outputs": [],
   "source": [
    "# 범례에 채우기 색과 테두리 색을 추가합니다.\n",
    "plt.rc(group = 'legend', frameon = True, fc = '1', ec = '0')"
   ]
  },
  {
   "cell_type": "markdown",
   "id": "8dde36cd",
   "metadata": {},
   "source": [
    "### [참고] 한글을 네모로 출력하는 문제 해결 방법"
   ]
  },
  {
   "cell_type": "raw",
   "id": "c64c4b26",
   "metadata": {},
   "source": [
    "# 관련 라이브러리를 호출합니다.\n",
    "import matplotlib, glob"
   ]
  },
  {
   "cell_type": "raw",
   "id": "01af09c3",
   "metadata": {},
   "source": [
    "# matplotlib 라이브러리 임시 폴더 경로를 path에 할당합니다.\n",
    "path = matplotlib.get_cachedir()"
   ]
  },
  {
   "cell_type": "raw",
   "id": "b56e8c94",
   "metadata": {},
   "source": [
    "# 폰트 목록을 담고 있는 json 파일명을 file에 할당합니다.\n",
    "file = glob.glob(pathname = f'{path}/fontlist-*.json')[0]"
   ]
  },
  {
   "cell_type": "raw",
   "id": "5adcd506",
   "metadata": {},
   "source": [
    "# matplotlib 라이브러리의 임시 폴더에 있는 json 파일을 삭제합니다.\n",
    "os.remove(path = file)"
   ]
  },
  {
   "cell_type": "markdown",
   "id": "ae31677a",
   "metadata": {},
   "source": [
    "### [참고] 그래픽 파라미터 설정 관련 모듈 생성"
   ]
  },
  {
   "cell_type": "raw",
   "id": "fa6febde-a11b-47d7-a4d8-254338ccdc5b",
   "metadata": {},
   "source": [
    "# 시각화 설정 모듈을 호출합니다.\n",
    "from GraphicSetting import *"
   ]
  },
  {
   "cell_type": "markdown",
   "id": "e290bc30",
   "metadata": {},
   "source": [
    "### [참고] Python 파일 탐색 경로 확인"
   ]
  },
  {
   "cell_type": "raw",
   "id": "5d29f879",
   "metadata": {},
   "source": [
    "# 관련 라이브러리를 호출합니다.\n",
    "import sys"
   ]
  },
  {
   "cell_type": "raw",
   "id": "7fcb1eb4",
   "metadata": {},
   "source": [
    "# Python 파일 탐색 경로를 모두 출력합니다.\n",
    "sys.path"
   ]
  },
  {
   "cell_type": "markdown",
   "id": "located-cricket",
   "metadata": {},
   "source": [
    "### 히스토그램 그리기"
   ]
  },
  {
   "cell_type": "code",
   "execution_count": null,
   "id": "6d6a2c21",
   "metadata": {
    "ExecuteTime": {
     "end_time": "2022-06-11T04:51:29.039380Z",
     "start_time": "2022-06-11T04:51:28.519887Z"
    }
   },
   "outputs": [],
   "source": [
    "# 거래금액으로 히스토그램을 그립니다.\n",
    "sns.histplot(data = apt, x = '거래금액');"
   ]
  },
  {
   "cell_type": "code",
   "execution_count": null,
   "id": "19387f18",
   "metadata": {
    "ExecuteTime": {
     "end_time": "2022-06-11T04:51:29.230791Z",
     "start_time": "2022-06-11T04:51:29.041166Z"
    }
   },
   "outputs": [],
   "source": [
    "# 히스토그램의 막대 개수를 50으로 지정합니다.\n",
    "sns.histplot(data = apt, x = '거래금액', bins = 50, \n",
    "             color = '1', edgecolor = '0');"
   ]
  },
  {
   "cell_type": "code",
   "execution_count": null,
   "id": "28ca75b2",
   "metadata": {
    "ExecuteTime": {
     "end_time": "2022-06-11T04:51:29.507418Z",
     "start_time": "2022-06-11T04:51:29.232837Z"
    }
   },
   "outputs": [],
   "source": [
    "# 히스토그램의 막대 너비를 2로 지정합니다.\n",
    "sns.histplot(data = apt, x = '거래금액', binwidth = 2, \n",
    "             color = '1', edgecolor = '0');"
   ]
  },
  {
   "cell_type": "markdown",
   "id": "580304ab",
   "metadata": {},
   "source": [
    "### [참고] 색상 목록"
   ]
  },
  {
   "cell_type": "code",
   "execution_count": null,
   "id": "2e769e42",
   "metadata": {
    "ExecuteTime": {
     "end_time": "2022-06-11T04:51:29.511565Z",
     "start_time": "2022-06-11T04:51:29.509099Z"
    }
   },
   "outputs": [],
   "source": [
    "# 관련 모듈을 호출합니다.\n",
    "import matplotlib.colors as mcolors"
   ]
  },
  {
   "cell_type": "code",
   "execution_count": null,
   "id": "490166f3",
   "metadata": {
    "ExecuteTime": {
     "end_time": "2022-06-11T04:51:29.520416Z",
     "start_time": "2022-06-11T04:51:29.513824Z"
    },
    "scrolled": true
   },
   "outputs": [],
   "source": [
    "# 148가지 색이름과 Hex Code를 딕셔너리로 출력합니다.\n",
    "mcolors.CSS4_COLORS"
   ]
  },
  {
   "cell_type": "markdown",
   "id": "90081572",
   "metadata": {},
   "source": [
    "### 히스토그램 계급 설정"
   ]
  },
  {
   "cell_type": "code",
   "execution_count": null,
   "id": "dimensional-bermuda",
   "metadata": {
    "ExecuteTime": {
     "end_time": "2022-06-11T04:51:29.529750Z",
     "start_time": "2022-06-11T04:51:29.522268Z"
    }
   },
   "outputs": [],
   "source": [
    "# 거래금액 최솟값과 최댓값을 확인합니다.\n",
    "apt['거래금액'].describe()[['min', 'max']]"
   ]
  },
  {
   "cell_type": "code",
   "execution_count": null,
   "id": "detected-revision",
   "metadata": {
    "ExecuteTime": {
     "end_time": "2022-06-11T04:51:29.538025Z",
     "start_time": "2022-06-11T04:51:29.531991Z"
    }
   },
   "outputs": [],
   "source": [
    "# 히스토그램 계급(막대 경계)을 설정합니다.\n",
    "bins = np.arange(start = 0, stop = 121, step = 2)\n",
    "bins"
   ]
  },
  {
   "cell_type": "code",
   "execution_count": null,
   "id": "c8b6b484",
   "metadata": {
    "ExecuteTime": {
     "end_time": "2022-06-11T04:51:29.768553Z",
     "start_time": "2022-06-11T04:51:29.548088Z"
    }
   },
   "outputs": [],
   "source": [
    "# 히스토그램에 계급을 추가합니다.\n",
    "sns.histplot(data = apt, x = '거래금액', bins = bins, \n",
    "             color = '1', edgecolor = '0');"
   ]
  },
  {
   "cell_type": "markdown",
   "id": "b316a863",
   "metadata": {},
   "source": [
    "### 히스토그램 막대 채우기 색 변경"
   ]
  },
  {
   "cell_type": "code",
   "execution_count": null,
   "id": "b3c2edf9",
   "metadata": {
    "ExecuteTime": {
     "end_time": "2022-06-11T04:51:30.129169Z",
     "start_time": "2022-06-11T04:51:29.770318Z"
    }
   },
   "outputs": [],
   "source": [
    "# 금액구분(범주형 변수)에 따라 채우기 색을 다르게 설정합니다.\n",
    "sns.histplot(data = apt, x = '거래금액', bins = bins, \n",
    "             hue = '금액구분', edgecolor = '0');"
   ]
  },
  {
   "cell_type": "code",
   "execution_count": null,
   "id": "c9b78a72",
   "metadata": {
    "ExecuteTime": {
     "end_time": "2022-06-11T04:51:30.471869Z",
     "start_time": "2022-06-11T04:51:30.130977Z"
    }
   },
   "outputs": [],
   "source": [
    "# 채우기 색 배합을 범주형 변수에 적합한 팔레트로 변경합니다.\n",
    "sns.histplot(data = apt, x = '거래금액', bins = bins, \n",
    "             hue = '금액구분', edgecolor = '0', palette = 'Set1');"
   ]
  },
  {
   "cell_type": "markdown",
   "id": "lesser-adapter",
   "metadata": {},
   "source": [
    "### [참고] 팔레트 탐색: Color Brewer"
   ]
  },
  {
   "cell_type": "raw",
   "id": "8516cd69-f57f-474d-b0d0-0817ea5eecfb",
   "metadata": {},
   "source": [
    "# 관련 라이브러리를 설치합니다.\n",
    "!pip install ipywidgets"
   ]
  },
  {
   "cell_type": "code",
   "execution_count": null,
   "id": "c36ebec2-17c9-4484-accf-ce38150ec2c9",
   "metadata": {
    "ExecuteTime": {
     "end_time": "2022-06-11T04:51:30.557094Z",
     "start_time": "2022-06-11T04:51:30.473504Z"
    }
   },
   "outputs": [],
   "source": [
    "# Color Brewer Palettet를 탐색합니다.\n",
    "sns.choose_colorbrewer_palette(data_type = 'qualitative')"
   ]
  },
  {
   "cell_type": "markdown",
   "id": "f17dd680",
   "metadata": {},
   "source": [
    "### [참고] 팔레트 설정"
   ]
  },
  {
   "cell_type": "code",
   "execution_count": null,
   "id": "obvious-syracuse",
   "metadata": {
    "ExecuteTime": {
     "end_time": "2022-06-11T04:51:30.563417Z",
     "start_time": "2022-06-11T04:51:30.559159Z"
    }
   },
   "outputs": [],
   "source": [
    "# 기본 팔레트 색을 출력합니다.\n",
    "sns.color_palette()"
   ]
  },
  {
   "cell_type": "code",
   "execution_count": null,
   "id": "vietnamese-hebrew",
   "metadata": {
    "ExecuteTime": {
     "end_time": "2022-06-11T04:51:30.570689Z",
     "start_time": "2022-06-11T04:51:30.565680Z"
    }
   },
   "outputs": [],
   "source": [
    "# Color Brewer에서 탐색한 팔레트 색을 출력합니다.\n",
    "sns.color_palette(palette = 'Set1', n_colors = 9)"
   ]
  },
  {
   "cell_type": "code",
   "execution_count": null,
   "id": "838e21c1",
   "metadata": {
    "ExecuteTime": {
     "end_time": "2022-06-11T04:51:30.575197Z",
     "start_time": "2022-06-11T04:51:30.572674Z"
    }
   },
   "outputs": [],
   "source": [
    "# 기본 팔레트를 변경합니다.\n",
    "sns.set_palette(palette = 'Set1', n_colors = 9)"
   ]
  },
  {
   "cell_type": "code",
   "execution_count": null,
   "id": "3f3dcbe6",
   "metadata": {
    "ExecuteTime": {
     "end_time": "2022-06-11T04:51:30.581946Z",
     "start_time": "2022-06-11T04:51:30.576968Z"
    }
   },
   "outputs": [],
   "source": [
    "# 새로 설정한 기본 팔레트 색을 확인합니다.\n",
    "sns.color_palette()"
   ]
  },
  {
   "cell_type": "markdown",
   "id": "a40e7731",
   "metadata": {},
   "source": [
    "### [참고] 사용자 팔레트 생성"
   ]
  },
  {
   "cell_type": "code",
   "execution_count": null,
   "id": "837597e3",
   "metadata": {
    "ExecuteTime": {
     "end_time": "2022-06-11T04:51:30.587022Z",
     "start_time": "2022-06-11T04:51:30.583873Z"
    }
   },
   "outputs": [],
   "source": [
    "# 색이름을 원소로 갖는 리스트(사용자 팔레트)를 생성합니다.\n",
    "myPal = ['crimson', 'royalblue']"
   ]
  },
  {
   "cell_type": "code",
   "execution_count": null,
   "id": "6e6ae6d7",
   "metadata": {
    "ExecuteTime": {
     "end_time": "2022-06-11T04:51:30.953054Z",
     "start_time": "2022-06-11T04:51:30.589078Z"
    }
   },
   "outputs": [],
   "source": [
    "# 기존 그래프에 사용자 팔레트를 적용합니다.\n",
    "sns.histplot(data = apt, x = '거래금액', bins = bins, \n",
    "             hue = '금액구분', edgecolor = '0', palette = myPal, \n",
    "             hue_order = ['5천 미만', '5천 이상']);"
   ]
  },
  {
   "cell_type": "markdown",
   "id": "9f5f0111",
   "metadata": {},
   "source": [
    "### 히스토그램에 제목 및 축이름 추가"
   ]
  },
  {
   "cell_type": "code",
   "execution_count": null,
   "id": "98d663a6",
   "metadata": {
    "ExecuteTime": {
     "end_time": "2022-06-11T04:51:31.402625Z",
     "start_time": "2022-06-11T04:51:30.955045Z"
    }
   },
   "outputs": [],
   "source": [
    "# 히스토그램에 제목, x축이름 및 y축이름을 추가합니다.\n",
    "sns.histplot(data = apt, x = '거래금액', bins = bins, \n",
    "             hue = '금액구분', edgecolor = '0', palette = myPal, \n",
    "             hue_order = ['5천 미만', '5천 이상'])\n",
    "plt.title(label = '거래금액의 분포')\n",
    "plt.xlabel(xlabel = '매매가격')\n",
    "plt.ylabel(ylabel = '거래건수');"
   ]
  },
  {
   "cell_type": "markdown",
   "id": "3b278898",
   "metadata": {},
   "source": [
    "### 히스토그램에 커널 밀도 추정 곡선 추가"
   ]
  },
  {
   "cell_type": "code",
   "execution_count": null,
   "id": "311d3aad",
   "metadata": {
    "ExecuteTime": {
     "end_time": "2022-06-11T04:51:31.697931Z",
     "start_time": "2022-06-11T04:51:31.404520Z"
    }
   },
   "outputs": [],
   "source": [
    "# 히스토그램의 y축을 빈도수 대신 밀도로 변경합니다.\n",
    "sns.histplot(data = apt, x = '거래금액', bins = bins, \n",
    "             color = '1', edgecolor = '0', \n",
    "             stat = 'density')\n",
    "\n",
    "# 히스토그램에 커널 밀도 추정 곡선을 추가합니다.\n",
    "sns.kdeplot(data = apt, x = '거래금액', color = 'red', \n",
    "            linewidth = 0.5, linestyle = '-');"
   ]
  },
  {
   "cell_type": "markdown",
   "id": "c7e40765",
   "metadata": {},
   "source": [
    "### 관심 있는 자치구 선택"
   ]
  },
  {
   "cell_type": "code",
   "execution_count": null,
   "id": "approved-garlic",
   "metadata": {
    "ExecuteTime": {
     "end_time": "2022-06-11T04:51:31.731569Z",
     "start_time": "2022-06-11T04:51:31.699676Z"
    }
   },
   "outputs": [],
   "source": [
    "# apt에서 관심 있는 자치구를 선택하고 sub에 할당합니다.\n",
    "sub = apt[apt['자치구'].str.contains(pat = '강[남동북]')].copy()"
   ]
  },
  {
   "cell_type": "code",
   "execution_count": null,
   "id": "e0bd3d65",
   "metadata": {
    "ExecuteTime": {
     "end_time": "2022-06-11T04:51:31.741416Z",
     "start_time": "2022-06-11T04:51:31.733453Z"
    }
   },
   "outputs": [],
   "source": [
    "# 자치구별 거래금액 평균(분포의 중심)을 확인합니다.\n",
    "sub.groupby(by = ['자치구']).mean()['거래금액']"
   ]
  },
  {
   "cell_type": "code",
   "execution_count": null,
   "id": "incorporated-profile",
   "metadata": {
    "ExecuteTime": {
     "end_time": "2022-06-11T04:51:31.749780Z",
     "start_time": "2022-06-11T04:51:31.743046Z"
    }
   },
   "outputs": [],
   "source": [
    "# 거래금액 최솟값과 최댓값을 확인합니다.\n",
    "sub['거래금액'].describe()[['min', 'max']]"
   ]
  },
  {
   "cell_type": "code",
   "execution_count": null,
   "id": "metropolitan-province",
   "metadata": {
    "ExecuteTime": {
     "end_time": "2022-06-11T04:51:31.754939Z",
     "start_time": "2022-06-11T04:51:31.751932Z"
    }
   },
   "outputs": [],
   "source": [
    "# 히스토그램의 계급을 다시 생성합니다.\n",
    "bins = np.arange(start = 0, stop = 116, step = 1)"
   ]
  },
  {
   "cell_type": "markdown",
   "id": "69cd11d0",
   "metadata": {},
   "source": [
    "### 히스토그램을 겹쳐서 그리기"
   ]
  },
  {
   "cell_type": "code",
   "execution_count": null,
   "id": "afb96803",
   "metadata": {
    "ExecuteTime": {
     "end_time": "2022-06-11T04:51:32.404520Z",
     "start_time": "2022-06-11T04:51:31.756823Z"
    }
   },
   "outputs": [],
   "source": [
    "# 자치구별 히스토그램을 겹쳐서 그립니다.\n",
    "sns.histplot(data = sub, x = '거래금액', bins = bins, hue = '자치구');"
   ]
  },
  {
   "cell_type": "code",
   "execution_count": null,
   "id": "d071af40",
   "metadata": {
    "ExecuteTime": {
     "end_time": "2022-06-11T04:51:32.588940Z",
     "start_time": "2022-06-11T04:51:32.406201Z"
    }
   },
   "outputs": [],
   "source": [
    "# 커널 밀도 추정 곡선을 겹쳐서 그리는 것이 더 낫습니다.\n",
    "sns.kdeplot(data = sub, x = '거래금액', hue = '자치구', shade = True);"
   ]
  },
  {
   "cell_type": "markdown",
   "id": "9c6bb10f",
   "metadata": {},
   "source": [
    "### 히스토그램을 나눠서 그리기"
   ]
  },
  {
   "cell_type": "code",
   "execution_count": null,
   "id": "beneficial-incident",
   "metadata": {
    "ExecuteTime": {
     "end_time": "2022-06-11T04:51:33.397971Z",
     "start_time": "2022-06-11T04:51:32.590647Z"
    }
   },
   "outputs": [],
   "source": [
    "# 자치구별 히스토그램을 열(가로) 방향으로 나눠서 그립니다.\n",
    "sns.displot(data = sub, x = '거래금액', bins = bins, \n",
    "            hue = '자치구', col = '자치구', legend = False, \n",
    "            height = 3, aspect = 0.8);"
   ]
  },
  {
   "cell_type": "markdown",
   "id": "incorrect-tonight",
   "metadata": {},
   "source": [
    "### 일변량 상자 수염 그림 그리기"
   ]
  },
  {
   "cell_type": "code",
   "execution_count": null,
   "id": "destroyed-afternoon",
   "metadata": {
    "ExecuteTime": {
     "end_time": "2022-06-11T04:51:33.499652Z",
     "start_time": "2022-06-11T04:51:33.399958Z"
    }
   },
   "outputs": [],
   "source": [
    "# 거래금액으로 상자 수염 그림을 그립니다.\n",
    "sns.boxplot(data = apt, y = '거래금액', color = '1', linewidth = 0.5);"
   ]
  },
  {
   "cell_type": "code",
   "execution_count": null,
   "id": "2bb86c0d",
   "metadata": {
    "ExecuteTime": {
     "end_time": "2022-06-11T04:51:33.599716Z",
     "start_time": "2022-06-11T04:51:33.501504Z"
    }
   },
   "outputs": [],
   "source": [
    "# 이상치 관련 속성을 딕셔너리로 생성하고 상자 수염 그림에 추가합니다.\n",
    "outlier = {'marker': 'o', \n",
    "           'markersize': 3, \n",
    "           'markerfacecolor': 'pink',\n",
    "           'markeredgecolor': 'red', \n",
    "           'markeredgewidth': 0.2}\n",
    "\n",
    "sns.boxplot(data = apt, y = '거래금액', color = '1', linewidth = 0.5, flierprops = outlier);"
   ]
  },
  {
   "cell_type": "markdown",
   "id": "8566b93e",
   "metadata": {},
   "source": [
    "### 이변량 상자 수염 그림 그리기"
   ]
  },
  {
   "cell_type": "code",
   "execution_count": null,
   "id": "6c2af0f2",
   "metadata": {
    "ExecuteTime": {
     "end_time": "2022-06-11T04:51:33.617036Z",
     "start_time": "2022-06-11T04:51:33.601516Z"
    },
    "scrolled": true
   },
   "outputs": [],
   "source": [
    "# apt의 자치구별 거래금액 중위수를 오름차순 정렬한 grp를 생성합니다.\n",
    "grp = apt.groupby(by = ['자치구']).median()['거래금액']\n",
    "grp = grp.sort_values()\n",
    "grp.head()"
   ]
  },
  {
   "cell_type": "code",
   "execution_count": null,
   "id": "4cc2b4c3",
   "metadata": {
    "ExecuteTime": {
     "end_time": "2022-06-11T04:51:33.980813Z",
     "start_time": "2022-06-11T04:51:33.619815Z"
    }
   },
   "outputs": [],
   "source": [
    "# x축에 자치구, y축에 거래금액을 지정하고 이변량 상자 수염 그림을 그립니다.\n",
    "sns.boxplot(data = apt, x = '자치구', y = '거래금액', linewidth = 0.5, \n",
    "            flierprops = outlier, order = grp.index)\n",
    "plt.xticks(rotation = 45);"
   ]
  },
  {
   "cell_type": "markdown",
   "id": "victorian-listening",
   "metadata": {},
   "source": [
    "### 일변량 막대 그래프 그리기"
   ]
  },
  {
   "cell_type": "code",
   "execution_count": null,
   "id": "f2337b4a",
   "metadata": {
    "ExecuteTime": {
     "end_time": "2022-06-11T04:51:34.026437Z",
     "start_time": "2022-06-11T04:51:33.983072Z"
    },
    "scrolled": true
   },
   "outputs": [],
   "source": [
    "# apt의 자치구별 거래금액 빈도수를 내림차순 정렬한 grp를 생성합니다.\n",
    "grp = apt.groupby(by = ['자치구']).count()['거래금액']\n",
    "grp = grp.sort_values(ascending = False)\n",
    "grp.head()"
   ]
  },
  {
   "cell_type": "code",
   "execution_count": null,
   "id": "4cc15ced",
   "metadata": {
    "ExecuteTime": {
     "end_time": "2022-06-11T04:51:34.312522Z",
     "start_time": "2022-06-11T04:51:34.028037Z"
    }
   },
   "outputs": [],
   "source": [
    "# 자치구별 빈도수로 일변량 막대 그래프를 그립니다.\n",
    "sns.countplot(data = apt, x = '자치구', order = grp.index)\n",
    "plt.ylim(0, 4000)\n",
    "plt.xticks(rotation = 45)\n",
    "\n",
    "# 막대 위에 자치구별 빈도수를 텍스트로 추가합니다.\n",
    "for i, v in enumerate(grp):\n",
    "    plt.text(x = i, y = v, s = v, ha = 'center', va = 'bottom', \n",
    "             color = 'black', fontsize = 9, fontweight = 'bold')"
   ]
  },
  {
   "cell_type": "markdown",
   "id": "de73b0c9",
   "metadata": {},
   "source": [
    "### [참고] 파이 차트 그리기"
   ]
  },
  {
   "cell_type": "code",
   "execution_count": null,
   "id": "8dfb32c9",
   "metadata": {
    "ExecuteTime": {
     "end_time": "2022-06-11T04:51:34.587865Z",
     "start_time": "2022-06-11T04:51:34.314023Z"
    }
   },
   "outputs": [],
   "source": [
    "# 자치구별 빈도수로 파이 차트를 그립니다.\n",
    "plt.figure(figsize = (6, 6), dpi = 100)\n",
    "pal = sns.color_palette(palette = 'Greys', n_colors = 50)\n",
    "plt.pie(x = grp.values, labels = grp.index, colors = pal, \n",
    "        autopct = '%.1f%%', pctdistance = 0.9, labeldistance = 1,\n",
    "        startangle = 90, counterclock = False, rotatelabels = True, \n",
    "        wedgeprops = dict(edgecolor = '0.5', linewidth = 0.2))\n",
    "plt.axis('equal');"
   ]
  },
  {
   "cell_type": "markdown",
   "id": "4207726a",
   "metadata": {},
   "source": [
    "### 이변량 막대 그래프 그리기"
   ]
  },
  {
   "cell_type": "code",
   "execution_count": null,
   "id": "73afd607",
   "metadata": {
    "ExecuteTime": {
     "end_time": "2022-06-11T04:51:34.600473Z",
     "start_time": "2022-06-11T04:51:34.589552Z"
    }
   },
   "outputs": [],
   "source": [
    "# apt의 자치구별 거래금액 평균을 내림차순 정렬한 grp를 생성합니다.\n",
    "grp = apt.groupby(by = ['자치구']).mean()['거래금액']\n",
    "grp = grp.sort_values(ascending = False).round(1)\n",
    "grp.head()"
   ]
  },
  {
   "cell_type": "code",
   "execution_count": null,
   "id": "84ab7258",
   "metadata": {
    "ExecuteTime": {
     "end_time": "2022-06-11T04:51:34.882386Z",
     "start_time": "2022-06-11T04:51:34.602190Z"
    }
   },
   "outputs": [],
   "source": [
    "# 자치구별 거래금액 평균으로 이변량 막대 그래프를 그립니다.\n",
    "sns.barplot(data = apt, x = '자치구', y = '거래금액', order = grp.index, \n",
    "            estimator = np.mean, ci = None)\n",
    "plt.ylim(0, 21)\n",
    "plt.xticks(rotation = 45)\n",
    "\n",
    "# 막대 위에 거래금액 평균을 텍스트로 추가합니다.\n",
    "for i, v in enumerate(grp):\n",
    "    plt.text(x = i, y = v, s = v, ha = 'center', va = 'bottom',\n",
    "             color = 'black', fontsize = 9, fontweight = 'bold')"
   ]
  },
  {
   "cell_type": "markdown",
   "id": "bf50f6d3",
   "metadata": {},
   "source": [
    "### [참고] 묶음 막대 그래프 그리기"
   ]
  },
  {
   "cell_type": "code",
   "execution_count": null,
   "id": "6e4e63e6",
   "metadata": {
    "ExecuteTime": {
     "end_time": "2022-06-11T04:51:34.893907Z",
     "start_time": "2022-06-11T04:51:34.884523Z"
    }
   },
   "outputs": [],
   "source": [
    "# sub의 자치구와 금액구분별 거래금액 평균으로 grp를 생성합니다.\n",
    "grp = sub.groupby(by = ['자치구', '금액구분']).mean()['거래금액']\n",
    "grp = grp.round(1)\n",
    "grp.head()"
   ]
  },
  {
   "cell_type": "code",
   "execution_count": null,
   "id": "e9ad1bf6",
   "metadata": {
    "ExecuteTime": {
     "end_time": "2022-06-11T04:51:35.032777Z",
     "start_time": "2022-06-11T04:51:34.895462Z"
    }
   },
   "outputs": [],
   "source": [
    "# 이변량 막대 그래프의 x축에 범주형 변수를 추가한 묶음 막대 그래프를 그립니다.\n",
    "sns.barplot(data = sub, x = '자치구', y = '거래금액', hue = '금액구분', \n",
    "            order = grp.index.levels[0], hue_order = grp.index.levels[1],\n",
    "            estimator = np.mean, ci = None)\n",
    "\n",
    "# 묶음 막대 위에 거래금액 평균을 텍스트로 추가합니다.\n",
    "for i, v in enumerate(grp):\n",
    "    if i % 2 == 0:\n",
    "        i = i/2 - 0.2\n",
    "    else:\n",
    "        i = (i-1)/2 + 0.2\n",
    "    plt.text(x = i, y = v, s = v, ha = 'center', va = 'bottom')"
   ]
  },
  {
   "cell_type": "markdown",
   "id": "artistic-hometown",
   "metadata": {},
   "source": [
    "### 선 그래프 그리기"
   ]
  },
  {
   "cell_type": "code",
   "execution_count": null,
   "id": "98869815",
   "metadata": {
    "ExecuteTime": {
     "end_time": "2022-06-11T04:51:35.253333Z",
     "start_time": "2022-06-11T04:51:35.034934Z"
    }
   },
   "outputs": [],
   "source": [
    "# 거래월별 거래금액 평균으로 선 그래프를 그립니다.\n",
    "sns.lineplot(data = apt, x = '거래월', y = '거래금액', color = 'red', \n",
    "             estimator = np.mean, ci = None);"
   ]
  },
  {
   "cell_type": "code",
   "execution_count": null,
   "id": "c1158f1d",
   "metadata": {
    "ExecuteTime": {
     "end_time": "2022-06-11T04:51:35.406175Z",
     "start_time": "2022-06-11T04:51:35.255915Z"
    }
   },
   "outputs": [],
   "source": [
    "# 선 그래프에 점을 추가합니다.\n",
    "sns.lineplot(data = apt, x = '거래월', y = '거래금액', color = 'red', \n",
    "             markers = True, style = 1, legend = False, \n",
    "             estimator = np.mean, ci = None);"
   ]
  },
  {
   "cell_type": "markdown",
   "id": "1fe69971",
   "metadata": {},
   "source": [
    "### x축 눈금명 추가"
   ]
  },
  {
   "cell_type": "code",
   "execution_count": null,
   "id": "92f36ef9",
   "metadata": {
    "ExecuteTime": {
     "end_time": "2022-06-11T04:51:35.411427Z",
     "start_time": "2022-06-11T04:51:35.407971Z"
    }
   },
   "outputs": [],
   "source": [
    "# 선 그래프에 추가할 x축 눈금명을 생성합니다.\n",
    "months = [f'{i}월' for i in range(1, 13)]\n",
    "months"
   ]
  },
  {
   "cell_type": "code",
   "execution_count": null,
   "id": "corporate-times",
   "metadata": {
    "ExecuteTime": {
     "end_time": "2022-06-11T04:51:35.574366Z",
     "start_time": "2022-06-11T04:51:35.413146Z"
    }
   },
   "outputs": [],
   "source": [
    "# 선 그래프에 x축 눈금명을 추가합니다.\n",
    "sns.lineplot(data = apt, x = '거래월', y = '거래금액', color = 'red', \n",
    "             markers = True, style = 1, legend = False, \n",
    "             estimator = np.mean, ci = None)\n",
    "plt.xticks(ticks = range(1, 13), labels = months);"
   ]
  },
  {
   "cell_type": "markdown",
   "id": "99fff4fe",
   "metadata": {},
   "source": [
    "### 선 그래프를 겹쳐서 그리기"
   ]
  },
  {
   "cell_type": "code",
   "execution_count": null,
   "id": "smart-socket",
   "metadata": {
    "ExecuteTime": {
     "end_time": "2022-06-11T04:51:35.766800Z",
     "start_time": "2022-06-11T04:51:35.576189Z"
    }
   },
   "outputs": [],
   "source": [
    "# 자치구별 선 그래프를 겹쳐서 그립니다.\n",
    "sns.lineplot(data = sub, x = '거래월', y = '거래금액', hue = '자치구', \n",
    "             markers = True, style = '자치구', \n",
    "             estimator = np.mean, ci = None)\n",
    "plt.xticks(ticks = range(1, 13), labels = months);"
   ]
  },
  {
   "cell_type": "markdown",
   "id": "stunning-witness",
   "metadata": {},
   "source": [
    "### 산점도 그리기"
   ]
  },
  {
   "cell_type": "code",
   "execution_count": null,
   "id": "e15a97c9",
   "metadata": {
    "ExecuteTime": {
     "end_time": "2022-06-11T04:51:35.950518Z",
     "start_time": "2022-06-11T04:51:35.769092Z"
    }
   },
   "outputs": [],
   "source": [
    "# 전용면적과 거래금액으로 산점도를 그립니다.\n",
    "sns.scatterplot(data = apt, x = '전용면적', y = '거래금액', \n",
    "                color = '0.3', s = 15, \n",
    "                lw = 0.5, alpha = 0.2);"
   ]
  },
  {
   "cell_type": "code",
   "execution_count": null,
   "id": "a06d035d",
   "metadata": {
    "ExecuteTime": {
     "end_time": "2022-06-11T04:51:36.883291Z",
     "start_time": "2022-06-11T04:51:35.952703Z"
    }
   },
   "outputs": [],
   "source": [
    "# 세대수(연속형 변수)에 따라 채우기 색을 다르게 설정합니다.\n",
    "sns.scatterplot(data = apt, x = '전용면적', y = '거래금액', \n",
    "                hue = '세대수', palette = 'RdYlGn', s = 15, \n",
    "                lw = 0.5, alpha = 0.2);"
   ]
  },
  {
   "cell_type": "markdown",
   "id": "b2ef7f86",
   "metadata": {},
   "source": [
    "### 강남구 데이터로 산점도 그리기"
   ]
  },
  {
   "cell_type": "code",
   "execution_count": null,
   "id": "e4354c5f",
   "metadata": {
    "ExecuteTime": {
     "end_time": "2022-06-11T04:51:36.891445Z",
     "start_time": "2022-06-11T04:51:36.885370Z"
    }
   },
   "outputs": [],
   "source": [
    "# apt에서 강남구만 선택하고 gng에 할당합니다.\n",
    "gng = apt[apt['자치구'].eq('강남구')].copy()"
   ]
  },
  {
   "cell_type": "code",
   "execution_count": null,
   "id": "96b27b6f",
   "metadata": {
    "ExecuteTime": {
     "end_time": "2022-06-11T04:51:37.029387Z",
     "start_time": "2022-06-11T04:51:36.893041Z"
    }
   },
   "outputs": [],
   "source": [
    "# gng로 산점도를 그립니다.\n",
    "sns.scatterplot(data = gng, x = '전용면적', y = '거래금액', \n",
    "                color = '0.3', s = 15, \n",
    "                lw = 0.5, alpha = 0.2);"
   ]
  },
  {
   "cell_type": "markdown",
   "id": "fe6f9ab7",
   "metadata": {},
   "source": [
    "### 산점도에 회귀직선, 수직선 및 수평선 추가"
   ]
  },
  {
   "cell_type": "code",
   "execution_count": null,
   "id": "3d6dc1aa",
   "metadata": {
    "ExecuteTime": {
     "end_time": "2022-06-11T04:51:37.172832Z",
     "start_time": "2022-06-11T04:51:37.031072Z"
    }
   },
   "outputs": [],
   "source": [
    "# 산점도에 회귀직선, 수직선(x 평균) 및 수평선(y 평균)을 추가합니다.\n",
    "sns.regplot(data = gng, x = '전용면적', y = '거래금액', \n",
    "            scatter_kws = dict(color = '0.3', s = 15, alpha = 0.2),  \n",
    "            line_kws = dict(color = 'red', lw = 1), \n",
    "            ci = None)\n",
    "plt.axvline(x = gng['전용면적'].mean(), color = 'red', ls = '--')\n",
    "plt.axhline(y = gng['거래금액'].mean(), color = 'red', ls = '--');"
   ]
  },
  {
   "cell_type": "markdown",
   "id": "dietary-transparency",
   "metadata": {},
   "source": [
    "### 산점도 행렬 그리기"
   ]
  },
  {
   "cell_type": "code",
   "execution_count": null,
   "id": "moral-documentation",
   "metadata": {
    "ExecuteTime": {
     "end_time": "2022-06-11T04:51:40.607952Z",
     "start_time": "2022-06-11T04:51:37.175103Z"
    }
   },
   "outputs": [],
   "source": [
    "# 산점도 행렬에 추가할 변수명으로 리스트를 생성하고 산점도 행렬을 그립니다.\n",
    "cols = ['거래금액', '전용면적', '층', '세대수', '경도']\n",
    "sns.pairplot(data = sub[cols], plot_kws = dict(color = '0.3', s = 15));"
   ]
  },
  {
   "cell_type": "markdown",
   "id": "70cf1c6b",
   "metadata": {},
   "source": [
    "### 산점도 행렬을 간결하게 그리기"
   ]
  },
  {
   "cell_type": "code",
   "execution_count": null,
   "id": "1d7bdaeb",
   "metadata": {
    "ExecuteTime": {
     "end_time": "2022-06-11T04:51:42.069662Z",
     "start_time": "2022-06-11T04:51:40.609593Z"
    }
   },
   "outputs": [],
   "source": [
    "# x축에 입력변수, y축에 목표변수를 산점도 행렬을 간결하게 그립니다.\n",
    "sns.pairplot(data = sub, \n",
    "             x_vars = ['전용면적', '층', '세대수', '경도'], \n",
    "             y_vars = '거래금액', \n",
    "             kind = 'reg', \n",
    "             plot_kws = dict(scatter_kws = dict(color = '0.3', s = 15),\n",
    "                             line_kws = dict(color = 'red', lw = 1)));"
   ]
  },
  {
   "cell_type": "markdown",
   "id": "portuguese-field",
   "metadata": {},
   "source": [
    "## End of Document"
   ]
  }
 ],
 "metadata": {
  "kernelspec": {
   "display_name": "Python 3 (ipykernel)",
   "language": "python",
   "name": "python3"
  },
  "language_info": {
   "codemirror_mode": {
    "name": "ipython",
    "version": 3
   },
   "file_extension": ".py",
   "mimetype": "text/x-python",
   "name": "python",
   "nbconvert_exporter": "python",
   "pygments_lexer": "ipython3",
   "version": "3.10.4"
  },
  "toc": {
   "base_numbering": 1,
   "nav_menu": {},
   "number_sections": false,
   "sideBar": true,
   "skip_h1_title": false,
   "title_cell": "Table of Contents",
   "title_sidebar": "Contents",
   "toc_cell": false,
   "toc_position": {},
   "toc_section_display": true,
   "toc_window_display": false
  },
  "varInspector": {
   "cols": {
    "lenName": 16,
    "lenType": 16,
    "lenVar": 40
   },
   "kernels_config": {
    "python": {
     "delete_cmd_postfix": "",
     "delete_cmd_prefix": "del ",
     "library": "var_list.py",
     "varRefreshCmd": "print(var_dic_list())"
    },
    "r": {
     "delete_cmd_postfix": ") ",
     "delete_cmd_prefix": "rm(",
     "library": "var_list.r",
     "varRefreshCmd": "cat(var_dic_list()) "
    }
   },
   "types_to_exclude": [
    "module",
    "function",
    "builtin_function_or_method",
    "instance",
    "_Feature"
   ],
   "window_display": false
  }
 },
 "nbformat": 4,
 "nbformat_minor": 5
}
