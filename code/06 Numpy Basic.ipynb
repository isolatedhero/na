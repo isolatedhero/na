{
 "cells": [
  {
   "cell_type": "markdown",
   "id": "a97a133f",
   "metadata": {},
   "source": [
    "## numpy 기초"
   ]
  },
  {
   "cell_type": "markdown",
   "id": "human-lawrence",
   "metadata": {},
   "source": [
    "### 라이브러리 호출"
   ]
  },
  {
   "cell_type": "raw",
   "id": "ec44178a",
   "metadata": {},
   "source": [
    "# numpy 라이브러리를 설치합니다.\n",
    "# [참고] 아나콘다를 설치했다면 아래 코드를 실행하지 않아도 됩니다.\n",
    "!pip install numpy"
   ]
  },
  {
   "cell_type": "code",
   "execution_count": null,
   "id": "facial-pizza",
   "metadata": {},
   "outputs": [],
   "source": [
    "# numpy 라이브러리를 호출합니다.\n",
    "import numpy as np"
   ]
  },
  {
   "cell_type": "markdown",
   "id": "coupled-assistant",
   "metadata": {},
   "source": [
    "### 1차원 배열 생성"
   ]
  },
  {
   "cell_type": "code",
   "execution_count": null,
   "id": "published-rally",
   "metadata": {},
   "outputs": [],
   "source": [
    "# 리스트로 1차원 배열을 생성합니다.\n",
    "ar1 = np.array(object = [1, 2, 3])"
   ]
  },
  {
   "cell_type": "code",
   "execution_count": null,
   "id": "latter-chocolate",
   "metadata": {},
   "outputs": [],
   "source": [
    "# ar1을 출력합니다. 전체 원소가 한 줄로 늘어서 있는 형태입니다.\n",
    "ar1"
   ]
  },
  {
   "cell_type": "code",
   "execution_count": null,
   "id": "above-radius",
   "metadata": {},
   "outputs": [],
   "source": [
    "# ar1의 클래스를 확인합니다. ar1의 클래스는 numpy.ndarray입니다.\n",
    "type(ar1)"
   ]
  },
  {
   "cell_type": "code",
   "execution_count": null,
   "id": "dramatic-porcelain",
   "metadata": {},
   "outputs": [],
   "source": [
    "# ar1의 차원을 확인합니다.(1차원)\n",
    "ar1.ndim"
   ]
  },
  {
   "cell_type": "code",
   "execution_count": null,
   "id": "attractive-corps",
   "metadata": {},
   "outputs": [],
   "source": [
    "# ar1의 형태를 확인합니다. ar1은 1차원이며 원소 개수는 3입니다.\n",
    "ar1.shape"
   ]
  },
  {
   "cell_type": "code",
   "execution_count": null,
   "id": "tested-consent",
   "metadata": {},
   "outputs": [],
   "source": [
    "# ar1 원소의 자료형을 확인합니다.\n",
    "ar1.dtype"
   ]
  },
  {
   "cell_type": "markdown",
   "id": "random-product",
   "metadata": {},
   "source": [
    "### 1차원 배열 원소의 자료형 변환"
   ]
  },
  {
   "cell_type": "code",
   "execution_count": null,
   "id": "df565221",
   "metadata": {},
   "outputs": [],
   "source": [
    "# 다양한 자료형을 원소로 갖는 리스트를 생성합니다.\n",
    "a = [1, 2.0, '3']"
   ]
  },
  {
   "cell_type": "code",
   "execution_count": null,
   "id": "deluxe-measurement",
   "metadata": {},
   "outputs": [],
   "source": [
    "# 리스트로 배열을 생성하면 원소의 자료형을 자동 변환됩니다.\n",
    "# [참고] 정수 < 실수 < 문자열 방향으로 변환합니다.\n",
    "ar1 = np.array(object = a)"
   ]
  },
  {
   "cell_type": "code",
   "execution_count": null,
   "id": "91d229f9",
   "metadata": {},
   "outputs": [],
   "source": [
    "# ar1을 출력합니다.\n",
    "ar1"
   ]
  },
  {
   "cell_type": "code",
   "execution_count": null,
   "id": "green-edinburgh",
   "metadata": {},
   "outputs": [],
   "source": [
    "# ar1 원소의 자료형을 실수로 변환합니다.\n",
    "ar1.astype('float')"
   ]
  },
  {
   "cell_type": "code",
   "execution_count": null,
   "id": "genuine-seeking",
   "metadata": {},
   "outputs": [],
   "source": [
    "# ar1 원소의 자료형을 정수로 변환하려고 하면 '2.0' 때문에 에러가 발생합니다!\n",
    "ar1.astype('int')"
   ]
  },
  {
   "cell_type": "code",
   "execution_count": null,
   "id": "b14286e6",
   "metadata": {},
   "outputs": [],
   "source": [
    "# ar1 원소의 자료형을 실수로 변환하면 여전히 배열이므로 이어서 정수로 변환할 수 있습니다.\n",
    "ar1.astype('float').astype('int')"
   ]
  },
  {
   "cell_type": "markdown",
   "id": "9f6cb212",
   "metadata": {},
   "source": [
    "### [참고] 배열 원소의 자료형 설정"
   ]
  },
  {
   "cell_type": "code",
   "execution_count": null,
   "id": "179a174d",
   "metadata": {},
   "outputs": [],
   "source": [
    "# 배열 원소의 자료형을 실수로 지정합니다.\n",
    "np.array(object = a, dtype = 'float')"
   ]
  },
  {
   "cell_type": "code",
   "execution_count": null,
   "id": "8af01f56",
   "metadata": {},
   "outputs": [],
   "source": [
    "# 배열 원소의 자료형을 정수로 지정합니다.\n",
    "np.array(object = a, dtype = 'int')"
   ]
  },
  {
   "cell_type": "code",
   "execution_count": null,
   "id": "ddfa9a85",
   "metadata": {},
   "outputs": [],
   "source": [
    "# 배열 원소의 자료형을 문자열로 지정합니다.\n",
    "np.array(object = a, dtype = 'str')"
   ]
  },
  {
   "cell_type": "code",
   "execution_count": null,
   "id": "349063f4",
   "metadata": {},
   "outputs": [],
   "source": [
    "# 배열 원소의 자료형을 객체로 지정합니다.\n",
    "# 리스트 원소의 자료형을 그대로 유지합니다.\n",
    "np.array(object = a, dtype = 'object')"
   ]
  },
  {
   "cell_type": "markdown",
   "id": "7e37be6d",
   "metadata": {},
   "source": [
    "### 간격이 일정한 배열 생성"
   ]
  },
  {
   "cell_type": "code",
   "execution_count": null,
   "id": "innocent-think",
   "metadata": {},
   "outputs": [],
   "source": [
    "# 0부터 4까지 연속한 정수를 반환합니다.\n",
    "np.arange(5)"
   ]
  },
  {
   "cell_type": "code",
   "execution_count": null,
   "id": "dominican-classics",
   "metadata": {},
   "outputs": [],
   "source": [
    "# 1부터 5까지 연속한 정수를 반환합니다.\n",
    "np.arange(start = 1, stop = 6)"
   ]
  },
  {
   "cell_type": "code",
   "execution_count": null,
   "id": "destroyed-boundary",
   "metadata": {},
   "outputs": [],
   "source": [
    "# 1부터 10에서 홀수를 정수로 반환합니다.\n",
    "np.arange(start = 1, stop = 11, step = 2)"
   ]
  },
  {
   "cell_type": "code",
   "execution_count": null,
   "id": "dutch-fusion",
   "metadata": {},
   "outputs": [],
   "source": [
    "# 0부터 1까지 0.1 간격의 연속한 실수를 반환합니다. [참고] 1을 포함하지 않습니다.\n",
    "np.arange(start = 0, stop = 1, step = 0.1)"
   ]
  },
  {
   "cell_type": "code",
   "execution_count": null,
   "id": "6895f6af",
   "metadata": {},
   "outputs": [],
   "source": [
    "# 0부터 1까지 원소 개수가 11개인 실수를 반환합니다. [참고] 1을 포함합니다.\n",
    "np.linspace(start = 0, stop = 1, num = 11)"
   ]
  },
  {
   "cell_type": "code",
   "execution_count": null,
   "id": "51d0efca",
   "metadata": {
    "scrolled": true
   },
   "outputs": [],
   "source": [
    "# 80부터 75까지 원소 개수가 31개인 실수를 반환합니다.\n",
    "np.linspace(start = 80, stop = 75, num = 31)"
   ]
  },
  {
   "cell_type": "markdown",
   "id": "60369222",
   "metadata": {},
   "source": [
    "### 원소를 반복한 배열 생성"
   ]
  },
  {
   "cell_type": "code",
   "execution_count": null,
   "id": "13beded3",
   "metadata": {},
   "outputs": [],
   "source": [
    "# 배열 전체 원소를 두 번 반복합니다.\n",
    "np.tile(A = ar1, reps = 2)"
   ]
  },
  {
   "cell_type": "code",
   "execution_count": null,
   "id": "434a9b35",
   "metadata": {},
   "outputs": [],
   "source": [
    "# 배열 원소를 두 번씩 반복합니다.\n",
    "np.repeat(a = ar1, repeats = 2)"
   ]
  },
  {
   "cell_type": "code",
   "execution_count": null,
   "id": "3a3dfa80",
   "metadata": {},
   "outputs": [],
   "source": [
    "# 배열 원소별로 반복할 횟수를 지정합니다.\n",
    "np.repeat(a = ar1, repeats = [3, 2, 1])"
   ]
  },
  {
   "cell_type": "code",
   "execution_count": null,
   "id": "ac0bfe4d",
   "metadata": {},
   "outputs": [],
   "source": [
    "# 반복 횟수를 지정할 때 range() 함수로 대신할 수 있습니다.\n",
    "np.repeat(a = ar1, repeats = range(3, 0, -1))"
   ]
  },
  {
   "cell_type": "markdown",
   "id": "fifth-medium",
   "metadata": {},
   "source": [
    "### 1차원 배열 인덱싱 및 슬라이싱"
   ]
  },
  {
   "cell_type": "code",
   "execution_count": null,
   "id": "statutory-resolution",
   "metadata": {},
   "outputs": [],
   "source": [
    "# 1부터 11까지 홀수를 원소로 갖는 1차원 배열을 생성합니다. \n",
    "ar1 = np.arange(start = 1, stop = 12, step = 2)"
   ]
  },
  {
   "cell_type": "code",
   "execution_count": null,
   "id": "raised-richardson",
   "metadata": {},
   "outputs": [],
   "source": [
    "# ar1의 0번 인덱스(첫 번째) 원소를 선택합니다.\n",
    "ar1[0]"
   ]
  },
  {
   "cell_type": "code",
   "execution_count": null,
   "id": "velvet-bottom",
   "metadata": {},
   "outputs": [],
   "source": [
    "# ar1의 1번 인덱스(두 번째) 원소를 선택합니다.\n",
    "ar1[1]"
   ]
  },
  {
   "cell_type": "code",
   "execution_count": null,
   "id": "pressed-import",
   "metadata": {},
   "outputs": [],
   "source": [
    "# ar1의 -1번 인덱스(마지막) 원소를 선택합니다.\n",
    "ar1[-1]"
   ]
  },
  {
   "cell_type": "code",
   "execution_count": null,
   "id": "controlling-transparency",
   "metadata": {},
   "outputs": [],
   "source": [
    "# 정수 스칼라 대신 리스트를 지정합니다.(팬시 인덱싱)\n",
    "ar1[[3, 2, 1]]"
   ]
  },
  {
   "cell_type": "code",
   "execution_count": null,
   "id": "824e7372",
   "metadata": {},
   "outputs": [],
   "source": [
    "# np.arange() 함수로 대신합니다.\n",
    "ar1[np.arange(start = 3, stop = 0, step = -1)]"
   ]
  },
  {
   "cell_type": "code",
   "execution_count": null,
   "id": "controlled-binary",
   "metadata": {},
   "outputs": [],
   "source": [
    "# 리스트 원소를 반복하면 같은 원소를 여러 번 선택합니다.\n",
    "ar1[[3, 3, 3]]"
   ]
  },
  {
   "cell_type": "code",
   "execution_count": null,
   "id": "82959fec",
   "metadata": {},
   "outputs": [],
   "source": [
    "# np.tile() 함수로 대신합니다.\n",
    "ar1[np.tile(A = 3, reps = 3)]"
   ]
  },
  {
   "cell_type": "code",
   "execution_count": null,
   "id": "checked-madonna",
   "metadata": {},
   "outputs": [],
   "source": [
    "# ar1의 0~2번 인덱스 원소를 선택합니다. \n",
    "ar1[:3]"
   ]
  },
  {
   "cell_type": "code",
   "execution_count": null,
   "id": "thorough-jacket",
   "metadata": {},
   "outputs": [],
   "source": [
    "# ar1의 3번 인덱스 원소부터 마지막 원소까지 선택합니다.\n",
    "ar1[3:]"
   ]
  },
  {
   "cell_type": "markdown",
   "id": "neural-norman",
   "metadata": {},
   "source": [
    "### 2차원 배열 생성"
   ]
  },
  {
   "cell_type": "code",
   "execution_count": null,
   "id": "spanish-flexibility",
   "metadata": {},
   "outputs": [],
   "source": [
    "# 같은 길이의 리스트를 원소로 갖는 리스트로 2차원 배열을 생성합니다.\n",
    "ar2 = np.array(object = [[1, 2, 3], [4, 5, 6]])"
   ]
  },
  {
   "cell_type": "code",
   "execution_count": null,
   "id": "architectural-wallpaper",
   "metadata": {},
   "outputs": [],
   "source": [
    "# ar2를 출력합니다. 전체 원소가 2행 3열로 되어 있습니다.\n",
    "ar2"
   ]
  },
  {
   "cell_type": "code",
   "execution_count": null,
   "id": "dutch-saying",
   "metadata": {},
   "outputs": [],
   "source": [
    "# ar2의 클래스를 확인합니다. ar2의 클래스는 numpy.ndarray입니다.\n",
    "type(ar2)"
   ]
  },
  {
   "cell_type": "code",
   "execution_count": null,
   "id": "gorgeous-quality",
   "metadata": {},
   "outputs": [],
   "source": [
    "# ar2의 차원을 확인합니다.(2차원)\n",
    "ar2.ndim"
   ]
  },
  {
   "cell_type": "code",
   "execution_count": null,
   "id": "minimal-allowance",
   "metadata": {},
   "outputs": [],
   "source": [
    "# ar2의 형태를 확인합니다. ar2는 2차원이며 2행 3열이므로 원소 개수는 6입니다.\n",
    "ar2.shape"
   ]
  },
  {
   "cell_type": "code",
   "execution_count": null,
   "id": "instant-solution",
   "metadata": {},
   "outputs": [],
   "source": [
    "# ar2 원소의 자료형을 확인합니다.\n",
    "ar2.dtype"
   ]
  },
  {
   "cell_type": "markdown",
   "id": "patent-recorder",
   "metadata": {},
   "source": [
    "### 배열의 재구조화"
   ]
  },
  {
   "cell_type": "code",
   "execution_count": null,
   "id": "stable-capital",
   "metadata": {},
   "outputs": [],
   "source": [
    "# 0부터 11까지 12개의 원소를 갖는 1차원 배열을 생성합니다.\n",
    "ar1 = np.arange(12)"
   ]
  },
  {
   "cell_type": "code",
   "execution_count": null,
   "id": "utility-acrobat",
   "metadata": {},
   "outputs": [],
   "source": [
    "# ar1을 4행 3열인 2차원 배열로 변환합니다. 원소 입력 방향은 가로입니다.\n",
    "ar1.reshape(4, 3)"
   ]
  },
  {
   "cell_type": "code",
   "execution_count": null,
   "id": "animal-professor",
   "metadata": {},
   "outputs": [],
   "source": [
    "# order = 'F'를 추가하면 원소 입력 방향을 세로로 변경합니다.\n",
    "ar1.reshape(4, 3, order = 'F')"
   ]
  },
  {
   "cell_type": "code",
   "execution_count": null,
   "id": "lucky-stretch",
   "metadata": {},
   "outputs": [],
   "source": [
    "# ar1을 4행 3열인 2차원 배열로 변환하고 ar2에 할당합니다.\n",
    "# [참고] 열 위치에 -1을 지정하면 열 개수를 자동 계산합니다.\n",
    "ar2 = ar1.reshape(4, -1)\n",
    "ar2"
   ]
  },
  {
   "cell_type": "code",
   "execution_count": null,
   "id": "8f394354",
   "metadata": {},
   "outputs": [],
   "source": [
    "# 2차원 배열을 1차원 배열로 변환합니다.\n",
    "ar2.flatten()"
   ]
  },
  {
   "cell_type": "markdown",
   "id": "visible-router",
   "metadata": {},
   "source": [
    "### 2차원 배열 인덱싱 및 슬라이싱"
   ]
  },
  {
   "cell_type": "code",
   "execution_count": null,
   "id": "lesbian-flooring",
   "metadata": {},
   "outputs": [],
   "source": [
    "# ar2의 1행 1열 원소를 선택합니다.\n",
    "ar2[0, 0]"
   ]
  },
  {
   "cell_type": "code",
   "execution_count": null,
   "id": "legislative-horror",
   "metadata": {},
   "outputs": [],
   "source": [
    "# ar2의 2행 2열 원소를 선택합니다. \n",
    "ar2[1, 1]"
   ]
  },
  {
   "cell_type": "code",
   "execution_count": null,
   "id": "answering-huntington",
   "metadata": {},
   "outputs": [],
   "source": [
    "# ar2의 1~2행 1~2열 원소를 선택합니다.\n",
    "ar2[0:2, 0:2]"
   ]
  },
  {
   "cell_type": "code",
   "execution_count": null,
   "id": "fiscal-reaction",
   "metadata": {},
   "outputs": [],
   "source": [
    "# ar2의 전체 행 2~3열 원소를 선택합니다. [주의] 전체 행 선택시 빈 콜론을 추가합니다.\n",
    "ar2[:, 1:3]"
   ]
  },
  {
   "cell_type": "code",
   "execution_count": null,
   "id": "exotic-start",
   "metadata": {},
   "outputs": [],
   "source": [
    "# ar2의 일부 열 순서를 변경합니다. [주의] 행과 열 순서를 함께 변경할 수 없습니다.\n",
    "ar2[:, [2, 1]]"
   ]
  },
  {
   "cell_type": "markdown",
   "id": "64515bb3",
   "metadata": {},
   "source": [
    "### 배열 산술 연산"
   ]
  },
  {
   "cell_type": "code",
   "execution_count": null,
   "id": "58af504e",
   "metadata": {},
   "outputs": [],
   "source": [
    "# 원소 개수가 3인 1차원 배열을 생성합니다.\n",
    "ar1 = np.array(object = range(3))\n",
    "ar1"
   ]
  },
  {
   "cell_type": "code",
   "execution_count": null,
   "id": "ac043242",
   "metadata": {},
   "outputs": [],
   "source": [
    "# 3행 1열의 2차원 배열을 생성합니다.\n",
    "ar2 = ar1.reshape(-1, 1)\n",
    "ar2"
   ]
  },
  {
   "cell_type": "code",
   "execution_count": null,
   "id": "266a40e6",
   "metadata": {},
   "outputs": [],
   "source": [
    "# ar1의 각 원소에 1을 더합니다.\n",
    "ar1 + 1"
   ]
  },
  {
   "cell_type": "code",
   "execution_count": null,
   "id": "afdc62a2",
   "metadata": {},
   "outputs": [],
   "source": [
    "# ar2의 각 원소에 2를 곱합니다.\n",
    "ar2 * 2"
   ]
  },
  {
   "cell_type": "code",
   "execution_count": null,
   "id": "e24943b8",
   "metadata": {},
   "outputs": [],
   "source": [
    "# ar1과 ar2를 더합니다.\n",
    "ar1 + ar2"
   ]
  },
  {
   "cell_type": "markdown",
   "id": "38b7b65c",
   "metadata": {},
   "source": [
    "### 수학 관련 값과 함수"
   ]
  },
  {
   "cell_type": "code",
   "execution_count": null,
   "id": "317c8c6f",
   "metadata": {},
   "outputs": [],
   "source": [
    "# 자연상수(2.7182)를 반환합니다.\n",
    "np.e"
   ]
  },
  {
   "cell_type": "code",
   "execution_count": null,
   "id": "402a2af9",
   "metadata": {},
   "outputs": [],
   "source": [
    "# 파이(3.141592)를 반환합니다.\n",
    "np.pi"
   ]
  },
  {
   "cell_type": "code",
   "execution_count": null,
   "id": "e85c2989",
   "metadata": {},
   "outputs": [],
   "source": [
    "# 결측값을 반환합니다.\n",
    "np.nan"
   ]
  },
  {
   "cell_type": "code",
   "execution_count": null,
   "id": "a58214a1",
   "metadata": {},
   "outputs": [],
   "source": [
    "# 무한대를 반환합니다.\n",
    "np.inf"
   ]
  },
  {
   "cell_type": "code",
   "execution_count": null,
   "id": "7a7c0d78",
   "metadata": {},
   "outputs": [],
   "source": [
    "# 소수점을 버립니다.\n",
    "np.floor(np.e)"
   ]
  },
  {
   "cell_type": "code",
   "execution_count": null,
   "id": "fd7d06b4",
   "metadata": {},
   "outputs": [],
   "source": [
    "# 소수점을 올립니다.\n",
    "np.ceil(np.pi)"
   ]
  },
  {
   "cell_type": "code",
   "execution_count": null,
   "id": "fe6fa3d5",
   "metadata": {},
   "outputs": [],
   "source": [
    "# 소수점 둘째자리까지 남도록 반올림합니다.\n",
    "np.round(np.e, 2)"
   ]
  },
  {
   "cell_type": "code",
   "execution_count": null,
   "id": "c4fb4e35",
   "metadata": {},
   "outputs": [],
   "source": [
    "# 제곱근을 반환합니다.\n",
    "np.sqrt(4)"
   ]
  },
  {
   "cell_type": "code",
   "execution_count": null,
   "id": "05bd1458",
   "metadata": {},
   "outputs": [],
   "source": [
    "# 거듭제곱을 반환합니다.\n",
    "np.power(2, 3)"
   ]
  },
  {
   "cell_type": "code",
   "execution_count": null,
   "id": "2638b184",
   "metadata": {},
   "outputs": [],
   "source": [
    "# 자연상수 거듭제곱을 반환합니다.\n",
    "np.exp(1)"
   ]
  },
  {
   "cell_type": "code",
   "execution_count": null,
   "id": "b4df29e2",
   "metadata": {},
   "outputs": [],
   "source": [
    "# 자연로그를 반환합니다.\n",
    "np.log(10)"
   ]
  },
  {
   "cell_type": "code",
   "execution_count": null,
   "id": "7b414f96",
   "metadata": {
    "scrolled": true
   },
   "outputs": [],
   "source": [
    "# 모든 원소를 더합니다.\n",
    "np.sum(ar1)"
   ]
  },
  {
   "cell_type": "code",
   "execution_count": null,
   "id": "63e29631",
   "metadata": {},
   "outputs": [],
   "source": [
    "# 모든 원소를 곱합니다.\n",
    "np.prod(ar1)"
   ]
  },
  {
   "cell_type": "code",
   "execution_count": null,
   "id": "09d72f29",
   "metadata": {},
   "outputs": [],
   "source": [
    "# 원소의 차이를 반환합니다.\n",
    "np.diff(ar1)"
   ]
  },
  {
   "cell_type": "code",
   "execution_count": null,
   "id": "f15dd6b8",
   "metadata": {},
   "outputs": [],
   "source": [
    "# 최솟값을 반환합니다.\n",
    "np.min(ar1)"
   ]
  },
  {
   "cell_type": "code",
   "execution_count": null,
   "id": "67ca03a4",
   "metadata": {},
   "outputs": [],
   "source": [
    "# 최댓값을 반환합니다.\n",
    "np.max(ar1)"
   ]
  },
  {
   "cell_type": "code",
   "execution_count": null,
   "id": "440f9b71",
   "metadata": {},
   "outputs": [],
   "source": [
    "# 평균을 반환합니다.\n",
    "np.mean(ar1)"
   ]
  },
  {
   "cell_type": "code",
   "execution_count": null,
   "id": "c927af65",
   "metadata": {},
   "outputs": [],
   "source": [
    "# 중위수를 반환합니다.\n",
    "np.median(ar1)"
   ]
  },
  {
   "cell_type": "code",
   "execution_count": null,
   "id": "f18b3040",
   "metadata": {},
   "outputs": [],
   "source": [
    "# 분산을 반환합니다.\n",
    "np.var(ar1)"
   ]
  },
  {
   "cell_type": "code",
   "execution_count": null,
   "id": "6c9ef401",
   "metadata": {},
   "outputs": [],
   "source": [
    "# 표준편차를 반환합니다.\n",
    "np.std(ar1)"
   ]
  },
  {
   "cell_type": "code",
   "execution_count": null,
   "id": "caad3e4b",
   "metadata": {},
   "outputs": [],
   "source": [
    "# 원소 개수를 반환합니다.\n",
    "np.size(ar1)"
   ]
  },
  {
   "cell_type": "markdown",
   "id": "vocational-sacrifice",
   "metadata": {},
   "source": [
    "## End of Document"
   ]
  }
 ],
 "metadata": {
  "kernelspec": {
   "display_name": "Python 3 (ipykernel)",
   "language": "python",
   "name": "python3"
  },
  "language_info": {
   "codemirror_mode": {
    "name": "ipython",
    "version": 3
   },
   "file_extension": ".py",
   "mimetype": "text/x-python",
   "name": "python",
   "nbconvert_exporter": "python",
   "pygments_lexer": "ipython3",
   "version": "3.10.4"
  },
  "toc": {
   "base_numbering": 1,
   "nav_menu": {},
   "number_sections": false,
   "sideBar": true,
   "skip_h1_title": false,
   "title_cell": "Table of Contents",
   "title_sidebar": "Contents",
   "toc_cell": false,
   "toc_position": {},
   "toc_section_display": true,
   "toc_window_display": false
  },
  "varInspector": {
   "cols": {
    "lenName": 16,
    "lenType": 16,
    "lenVar": 40
   },
   "kernels_config": {
    "python": {
     "delete_cmd_postfix": "",
     "delete_cmd_prefix": "del ",
     "library": "var_list.py",
     "varRefreshCmd": "print(var_dic_list())"
    },
    "r": {
     "delete_cmd_postfix": ") ",
     "delete_cmd_prefix": "rm(",
     "library": "var_list.r",
     "varRefreshCmd": "cat(var_dic_list()) "
    }
   },
   "types_to_exclude": [
    "module",
    "function",
    "builtin_function_or_method",
    "instance",
    "_Feature"
   ],
   "window_display": false
  }
 },
 "nbformat": 4,
 "nbformat_minor": 5
}
