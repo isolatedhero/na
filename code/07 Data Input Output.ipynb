{
 "cells": [
  {
   "cell_type": "markdown",
   "id": "a97a133f",
   "metadata": {},
   "source": [
    "## 데이터 입출력"
   ]
  },
  {
   "cell_type": "markdown",
   "id": "7cfe26c4",
   "metadata": {},
   "source": [
    "### 작업 경로 확인 및 변경"
   ]
  },
  {
   "cell_type": "code",
   "execution_count": null,
   "id": "119f04a1",
   "metadata": {},
   "outputs": [],
   "source": [
    "# 관련 라이브러리를 호출합니다.\n",
    "import os"
   ]
  },
  {
   "cell_type": "code",
   "execution_count": null,
   "id": "a2915472",
   "metadata": {},
   "outputs": [],
   "source": [
    "# 현재 작업 경로를 확인합니다.\n",
    "os.getcwd()"
   ]
  },
  {
   "cell_type": "code",
   "execution_count": null,
   "id": "5e106a76",
   "metadata": {},
   "outputs": [],
   "source": [
    "# 데이터 파일이 있는 폴더로 작업 경로를 변경합니다.(절대 경로)\n",
    "# os.chdir(path = 'C:\\\\Users\\\\계정명\\\\Documents\\\\PythonBasic-main\\\\data')\n",
    "os.chdir(path = '../data')"
   ]
  },
  {
   "cell_type": "markdown",
   "id": "24d583b6",
   "metadata": {},
   "source": [
    "### 작업 경로에 있는 폴더명과 파일명 확인"
   ]
  },
  {
   "cell_type": "code",
   "execution_count": null,
   "id": "3e57e1ad",
   "metadata": {},
   "outputs": [],
   "source": [
    "# 현재 작업 경로에 있는 폴더명과 파일명을 출력합니다.\n",
    "os.listdir()"
   ]
  },
  {
   "cell_type": "code",
   "execution_count": null,
   "id": "1b35f53e",
   "metadata": {},
   "outputs": [],
   "source": [
    "# [참고] path 매개변수에 경로명을 문자열로 지정하면 해당 경로에 있는\n",
    "# 폴더명과 파일명을 리스트로 반환합니다.\n",
    "os.listdir(path = '../code')"
   ]
  },
  {
   "cell_type": "code",
   "execution_count": null,
   "id": "1abc578d",
   "metadata": {},
   "outputs": [],
   "source": [
    "# 현재 작업 경로를 출력했을 때 오름차순 정렬하고 싶으면 아래 코드를 참고하세요.\n",
    "files = os.listdir()\n",
    "files.sort()\n",
    "files"
   ]
  },
  {
   "cell_type": "markdown",
   "id": "27d194e6",
   "metadata": {},
   "source": [
    "### 새 텍스트 파일 생성"
   ]
  },
  {
   "cell_type": "code",
   "execution_count": null,
   "id": "27227fca",
   "metadata": {},
   "outputs": [],
   "source": [
    "# 텍스트 파일을 쓰기모드로 엽니다.\n",
    "file = open(file = 'test.txt', mode = 'w', encoding = 'UTF-8')"
   ]
  },
  {
   "cell_type": "code",
   "execution_count": null,
   "id": "930e227b",
   "metadata": {},
   "outputs": [],
   "source": [
    "# 텍스트 파일에 문자열을 입력합니다.\n",
    "for i in range(1, 6):\n",
    "    file.write(f'{i} 페이지 수집!\\n')"
   ]
  },
  {
   "cell_type": "code",
   "execution_count": null,
   "id": "1588cd3d",
   "metadata": {},
   "outputs": [],
   "source": [
    "# 텍스트 파일을 닫습니다.\n",
    "file.close()"
   ]
  },
  {
   "cell_type": "markdown",
   "id": "035f2a18",
   "metadata": {},
   "source": [
    "### 기존 텍스트 파일에 문자열 추가"
   ]
  },
  {
   "cell_type": "code",
   "execution_count": null,
   "id": "5ba89cf1",
   "metadata": {},
   "outputs": [],
   "source": [
    "# 텍스트 파일을 추가모드로 엽니다.\n",
    "file = open(file = 'test.txt', mode = 'a', encoding = 'UTF-8')"
   ]
  },
  {
   "cell_type": "code",
   "execution_count": null,
   "id": "fb2e45e0",
   "metadata": {},
   "outputs": [],
   "source": [
    "# 텍스트 파일에 문자열을 입력합니다.\n",
    "for i in range(11, 16):\n",
    "    file.write(f'{i} 페이지 수집!\\n')"
   ]
  },
  {
   "cell_type": "code",
   "execution_count": null,
   "id": "57fd18d0",
   "metadata": {},
   "outputs": [],
   "source": [
    "# 텍스트 파일을 닫습니다.\n",
    "file.close()"
   ]
  },
  {
   "cell_type": "markdown",
   "id": "4a347544",
   "metadata": {},
   "source": [
    "### 텍스트 파일을 문자열로 읽기"
   ]
  },
  {
   "cell_type": "code",
   "execution_count": null,
   "id": "d38efb10",
   "metadata": {},
   "outputs": [],
   "source": [
    "# 텍스트 파일을 문자열 읽기모드로 엽니다.\n",
    "file = open(file = 'test.txt', mode = 'r', encoding = 'UTF-8')"
   ]
  },
  {
   "cell_type": "code",
   "execution_count": null,
   "id": "21a714ee",
   "metadata": {},
   "outputs": [],
   "source": [
    "# file을 읽고 text에 할당합니다.\n",
    "text = file.read()\n",
    "text"
   ]
  },
  {
   "cell_type": "code",
   "execution_count": null,
   "id": "2f660de6",
   "metadata": {},
   "outputs": [],
   "source": [
    "# text의 클래스를 확인합니다. text의 클래스는 str입니다.\n",
    "type(text)"
   ]
  },
  {
   "cell_type": "code",
   "execution_count": null,
   "id": "77e23c3b",
   "metadata": {},
   "outputs": [],
   "source": [
    "# 문자열(str)을 인코딩하면 바이너리(bytes)로 변환합니다.\n",
    "text.encode(encoding = 'UTF-8')"
   ]
  },
  {
   "cell_type": "markdown",
   "id": "68073c24",
   "metadata": {},
   "source": [
    "### 텍스트 파일을 바이너리로 읽기"
   ]
  },
  {
   "cell_type": "code",
   "execution_count": null,
   "id": "45c54f06",
   "metadata": {},
   "outputs": [],
   "source": [
    "# 텍스트 파일을 바이너리 읽기모드로 엽니다.\n",
    "# [주의] 인코딩 방식을 추가할 수 없습니다.\n",
    "file = open(file = 'test.txt', mode = 'rb')"
   ]
  },
  {
   "cell_type": "code",
   "execution_count": null,
   "id": "4c278876",
   "metadata": {},
   "outputs": [],
   "source": [
    "# file을 읽고 text에 할당합니다.\n",
    "text = file.read()\n",
    "text"
   ]
  },
  {
   "cell_type": "code",
   "execution_count": null,
   "id": "bca05ebe",
   "metadata": {},
   "outputs": [],
   "source": [
    "# text의 클래스를 확인합니다. text의 클래스는 bytes입니다.\n",
    "type(text)"
   ]
  },
  {
   "cell_type": "code",
   "execution_count": null,
   "id": "7abe1054",
   "metadata": {},
   "outputs": [],
   "source": [
    "# 바이너리(bytes)를 디코딩하면 문자열(str)로 변환합니다.\n",
    "text.decode(encoding = 'UTF-8')"
   ]
  },
  {
   "cell_type": "markdown",
   "id": "651c915c",
   "metadata": {},
   "source": [
    "### 관련 라이브러리 호출"
   ]
  },
  {
   "cell_type": "raw",
   "id": "1b9c1d67-b270-41bd-a4a3-6eeaad275700",
   "metadata": {},
   "source": [
    "# chardet 라이브러리를 설치합니다.\n",
    "!pip install chardet"
   ]
  },
  {
   "cell_type": "raw",
   "id": "0e47f624-5a45-42e6-9298-08f47820f2ac",
   "metadata": {},
   "source": [
    "# joblib 라이브러리를 설치합니다.\n",
    "!pip install joblib"
   ]
  },
  {
   "cell_type": "code",
   "execution_count": null,
   "id": "f12d97f3",
   "metadata": {},
   "outputs": [],
   "source": [
    "# 관련 라이브러리를 호출합니다.\n",
    "import chardet\n",
    "import numpy as np\n",
    "import pandas as pd\n",
    "import joblib"
   ]
  },
  {
   "cell_type": "markdown",
   "id": "israeli-water",
   "metadata": {},
   "source": [
    "### xlsx 파일 입출력"
   ]
  },
  {
   "cell_type": "code",
   "execution_count": null,
   "id": "sustained-blank",
   "metadata": {},
   "outputs": [],
   "source": [
    "# xlsx 파일을 읽고 데이터프레임을 생성합니다.\n",
    "df = pd.read_excel(io = 'KBO_Hitters_2021.xlsx', \n",
    "                   sheet_name = 'Hitters', \n",
    "                   skiprows = 4)"
   ]
  },
  {
   "cell_type": "code",
   "execution_count": null,
   "id": "cd325c5c",
   "metadata": {},
   "outputs": [],
   "source": [
    "# df를 출력합니다.\n",
    "df"
   ]
  },
  {
   "cell_type": "code",
   "execution_count": null,
   "id": "derived-result",
   "metadata": {},
   "outputs": [],
   "source": [
    "# 데이터프레임을 xlsx 파일로 저장합니다.\n",
    "df.to_excel(excel_writer = 'test.xlsx', index = None)"
   ]
  },
  {
   "cell_type": "markdown",
   "id": "b14579d6",
   "metadata": {},
   "source": [
    "### [참고] 데이터프레임 행/열 최대 출력 옵션 변경"
   ]
  },
  {
   "cell_type": "code",
   "execution_count": null,
   "id": "2768aacc-6078-4c2d-8e3d-8915052380bc",
   "metadata": {},
   "outputs": [],
   "source": [
    "# 최대 행 출력 옵션을 확인합니다.\n",
    "pd.get_option('display.max_rows')"
   ]
  },
  {
   "cell_type": "code",
   "execution_count": null,
   "id": "80c1da14",
   "metadata": {},
   "outputs": [],
   "source": [
    "# 최대 행 출력 옵션에 None을 할당하면 전체 행을 출력합니다.\n",
    "pd.set_option('display.max_rows', None)"
   ]
  },
  {
   "cell_type": "code",
   "execution_count": null,
   "id": "15452422",
   "metadata": {
    "scrolled": true
   },
   "outputs": [],
   "source": [
    "# df를 출력하면 전체 행을 출력합니다.\n",
    "df"
   ]
  },
  {
   "cell_type": "code",
   "execution_count": null,
   "id": "056a5fe8-ad52-47f5-ac52-1cd6e7d6bd14",
   "metadata": {},
   "outputs": [],
   "source": [
    "# 최대 행 출력 옵션을 초기화합니다.\n",
    "pd.reset_option('display.max_rows')"
   ]
  },
  {
   "cell_type": "code",
   "execution_count": null,
   "id": "84c90239-5e8e-4b9b-b746-81cd2982d3ce",
   "metadata": {},
   "outputs": [],
   "source": [
    "# 최대 행 출력 옵션을 확인합니다.\n",
    "pd.options.display.max_rows"
   ]
  },
  {
   "cell_type": "markdown",
   "id": "8c5abbc0",
   "metadata": {},
   "source": [
    "### 데이터프레임 미리보기"
   ]
  },
  {
   "cell_type": "code",
   "execution_count": null,
   "id": "fcab08cb",
   "metadata": {},
   "outputs": [],
   "source": [
    "# 데이터프레임의 처음 5행을 출력합니다.\n",
    "df.head()"
   ]
  },
  {
   "cell_type": "code",
   "execution_count": null,
   "id": "4360bfc1",
   "metadata": {},
   "outputs": [],
   "source": [
    "# 데이터프레임의 처음 10행을 출력합니다.\n",
    "df.head(n = 10)"
   ]
  },
  {
   "cell_type": "code",
   "execution_count": null,
   "id": "a0f2902e",
   "metadata": {},
   "outputs": [],
   "source": [
    "# 데이터프레임의 마지막 5행을 출력합니다.\n",
    "df.tail()"
   ]
  },
  {
   "cell_type": "code",
   "execution_count": null,
   "id": "7238ce41",
   "metadata": {},
   "outputs": [],
   "source": [
    "# 데이터프레임을 무작위로 1행을 추출합니다.\n",
    "df.sample()"
   ]
  },
  {
   "cell_type": "markdown",
   "id": "664c4ced",
   "metadata": {},
   "source": [
    "### csv 파일 입출력"
   ]
  },
  {
   "cell_type": "code",
   "execution_count": null,
   "id": "f213d37d",
   "metadata": {},
   "outputs": [],
   "source": [
    "# csv 파일명을 재사용할 수 있도록 변수에 할당합니다.\n",
    "file = 'KBO_Hitters_2021.csv'"
   ]
  },
  {
   "cell_type": "raw",
   "id": "a0ecc73b",
   "metadata": {},
   "source": [
    "# csv 파일을 읽고 데이터프레임을 생성합니다.\n",
    "df = pd.read_csv(filepath_or_buffer = file)"
   ]
  },
  {
   "cell_type": "code",
   "execution_count": null,
   "id": "willing-transcription",
   "metadata": {},
   "outputs": [],
   "source": [
    "# csv 파일을 바이너리 모드로 읽습니다.\n",
    "text = open(file = file, mode = 'rb').read()"
   ]
  },
  {
   "cell_type": "code",
   "execution_count": null,
   "id": "consecutive-inspiration",
   "metadata": {},
   "outputs": [],
   "source": [
    "# csv 파일의 문자 인코딩 방식을 확인합니다.\n",
    "chardet.detect(text)"
   ]
  },
  {
   "cell_type": "code",
   "execution_count": null,
   "id": "specialized-cameroon",
   "metadata": {},
   "outputs": [],
   "source": [
    "# csv 파일을 읽고 데이터프레임을 생성합니다.\n",
    "df = pd.read_csv(filepath_or_buffer = file, encoding = 'EUC-KR')"
   ]
  },
  {
   "cell_type": "code",
   "execution_count": null,
   "id": "necessary-pepper",
   "metadata": {},
   "outputs": [],
   "source": [
    "# df의 인덱스를 정수 1부터 시작하도록 변경합니다.\n",
    "df.index = range(1, df.shape[0] + 1)"
   ]
  },
  {
   "cell_type": "code",
   "execution_count": null,
   "id": "037b4345",
   "metadata": {},
   "outputs": [],
   "source": [
    "# df의 처음 5행을 출력합니다.\n",
    "df.head()"
   ]
  },
  {
   "cell_type": "code",
   "execution_count": null,
   "id": "endless-operator",
   "metadata": {},
   "outputs": [],
   "source": [
    "# 데이터프레임을 csv 파일로 저장합니다.\n",
    "df.to_csv(path_or_buf = 'test.csv', index = None, encoding = 'UTF-8')"
   ]
  },
  {
   "cell_type": "markdown",
   "id": "7cdcbc16",
   "metadata": {},
   "source": [
    "### 압축 파일 입출력"
   ]
  },
  {
   "cell_type": "code",
   "execution_count": null,
   "id": "75ea3245",
   "metadata": {},
   "outputs": [],
   "source": [
    "# df를 확장자가 z인 압축 파일로 저장합니다.\n",
    "joblib.dump(value = df, filename = 'test.z')"
   ]
  },
  {
   "cell_type": "code",
   "execution_count": null,
   "id": "2ebedc2e",
   "metadata": {},
   "outputs": [],
   "source": [
    "# z 파일을 호출하고 데이터프레임에 할당합니다.\n",
    "df = joblib.load(filename = 'test.z')"
   ]
  },
  {
   "cell_type": "markdown",
   "id": "983e9fef",
   "metadata": {},
   "source": [
    "### 실습 파일 삭제"
   ]
  },
  {
   "cell_type": "code",
   "execution_count": null,
   "id": "73b35402",
   "metadata": {},
   "outputs": [],
   "source": [
    "# 현재 작업 경로에 'test'로 시작하는 실습 파일을 삭제합니다.\n",
    "files = [file for file in os.listdir() if 'test' in file]\n",
    "files"
   ]
  },
  {
   "cell_type": "code",
   "execution_count": null,
   "id": "ec7f1f6c",
   "metadata": {},
   "outputs": [],
   "source": [
    "# 반복문으로 파일을 모두 삭제합니다.\n",
    "for file in files:\n",
    "    os.remove(path = file)"
   ]
  },
  {
   "cell_type": "code",
   "execution_count": null,
   "id": "5c423d25",
   "metadata": {},
   "outputs": [],
   "source": [
    "# 현재 작업 경로에 있는 폴더명과 파일명을 출력합니다.\n",
    "os.listdir()"
   ]
  },
  {
   "cell_type": "markdown",
   "id": "vocational-sacrifice",
   "metadata": {},
   "source": [
    "## End of Document"
   ]
  }
 ],
 "metadata": {
  "kernelspec": {
   "display_name": "Python 3",
   "language": "python",
   "name": "python3"
  },
  "language_info": {
   "codemirror_mode": {
    "name": "ipython",
    "version": 3
   },
   "file_extension": ".py",
   "mimetype": "text/x-python",
   "name": "python",
   "nbconvert_exporter": "python",
   "pygments_lexer": "ipython3",
   "version": "3.10.4"
  },
  "toc": {
   "base_numbering": 1,
   "nav_menu": {},
   "number_sections": false,
   "sideBar": true,
   "skip_h1_title": false,
   "title_cell": "Table of Contents",
   "title_sidebar": "Contents",
   "toc_cell": false,
   "toc_position": {},
   "toc_section_display": true,
   "toc_window_display": false
  },
  "varInspector": {
   "cols": {
    "lenName": 16,
    "lenType": 16,
    "lenVar": 40
   },
   "kernels_config": {
    "python": {
     "delete_cmd_postfix": "",
     "delete_cmd_prefix": "del ",
     "library": "var_list.py",
     "varRefreshCmd": "print(var_dic_list())"
    },
    "r": {
     "delete_cmd_postfix": ") ",
     "delete_cmd_prefix": "rm(",
     "library": "var_list.r",
     "varRefreshCmd": "cat(var_dic_list()) "
    }
   },
   "types_to_exclude": [
    "module",
    "function",
    "builtin_function_or_method",
    "instance",
    "_Feature"
   ],
   "window_display": false
  }
 },
 "nbformat": 4,
 "nbformat_minor": 5
}
