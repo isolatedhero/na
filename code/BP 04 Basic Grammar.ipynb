{
 "cells": [
  {
   "cell_type": "markdown",
   "id": "96237ba2",
   "metadata": {},
   "source": [
    "# Python 기초 문법"
   ]
  },
  {
   "cell_type": "markdown",
   "id": "emerging-stevens",
   "metadata": {},
   "source": [
    "### if 조건문"
   ]
  },
  {
   "cell_type": "code",
   "execution_count": null,
   "id": "written-import",
   "metadata": {},
   "outputs": [],
   "source": [
    "# input() 함수는 값을 입력받아 문자열로 반환하여 major에 할당합니다.\n",
    "major = input('전공: ')"
   ]
  },
  {
   "cell_type": "code",
   "execution_count": null,
   "id": "moved-diamond",
   "metadata": {},
   "outputs": [],
   "source": [
    "# 학습할 언어를 답변하는 조건문을 작성합니다.\n",
    "if '통계' in major:\n",
    "    print('Study R!')\n",
    "elif '컴퓨터' in major:\n",
    "    print('Study Python!')\n",
    "else:\n",
    "    print('Study what you want!')"
   ]
  },
  {
   "cell_type": "markdown",
   "id": "dominant-indian",
   "metadata": {},
   "source": [
    "### for 반복문"
   ]
  },
  {
   "cell_type": "code",
   "execution_count": 1,
   "id": "experimental-forest",
   "metadata": {},
   "outputs": [],
   "source": [
    "# 중식당 메뉴를 리스트로 생성합니다.\n",
    "menu = ['짜장면', '탕수육', '짬뽕', '깐풍기', '전가복', '샥스핀']"
   ]
  },
  {
   "cell_type": "code",
   "execution_count": 2,
   "id": "cooked-chase",
   "metadata": {},
   "outputs": [
    {
     "name": "stdout",
     "output_type": "stream",
     "text": [
      "짜장면\n",
      "탕수육\n",
      "짬뽕\n",
      "깐풍기\n",
      "전가복\n",
      "샥스핀\n"
     ]
    }
   ],
   "source": [
    "# 반복문을 사용하여 중식당 메뉴를 차례대로 출력합니다.\n",
    "for order in menu:\n",
    "    print(order)"
   ]
  },
  {
   "cell_type": "code",
   "execution_count": 3,
   "id": "intermediate-horror",
   "metadata": {},
   "outputs": [
    {
     "name": "stdout",
     "output_type": "stream",
     "text": [
      "짜장면 시킬까요?\n",
      "탕수육 시킬까요?\n",
      "짬뽕 시킬까요?\n",
      "깐풍기 시킬까요?\n",
      "전가복 시킬까요?\n",
      "샥스핀 시킬까요?\n"
     ]
    }
   ],
   "source": [
    "# 문자열 결합을 통해 출력되는 안내문을 변경합니다.\n",
    "for order in menu:\n",
    "    print(order, '시킬까요?')"
   ]
  },
  {
   "cell_type": "markdown",
   "id": "beac0331",
   "metadata": {},
   "source": [
    "### 반복문 + 조건문"
   ]
  },
  {
   "cell_type": "code",
   "execution_count": 4,
   "id": "1dc99c50",
   "metadata": {},
   "outputs": [
    {
     "name": "stdout",
     "output_type": "stream",
     "text": [
      "짜장면 시킬까요?\n",
      "-> 요리부터 주문합시다!\n",
      "\n",
      "탕수육 시킬까요?\n",
      "-> 다음 메뉴는 뭔가요?\n",
      "\n",
      "짬뽕 시킬까요?\n",
      "-> 요리부터 주문합시다!\n",
      "\n",
      "깐풍기 시킬까요?\n",
      "-> 다음 메뉴는 뭔가요?\n",
      "\n",
      "전가복 시킬까요?\n",
      "-> 다음 메뉴는 뭔가요?\n",
      "\n",
      "샥스핀 시킬까요?\n",
      "-> 다음 메뉴는 뭔가요?\n",
      "\n"
     ]
    }
   ],
   "source": [
    "# 반복문 실행 도중 조건에 따라 코드를 다르게 실행합니다.\n",
    "for order in menu:\n",
    "    print(order, '시킬까요?')\n",
    "    if order in ['짜장면', '짬뽕']:\n",
    "        print('-> 요리부터 주문합시다!\\n')\n",
    "    else:\n",
    "        print('-> 다음 메뉴는 뭔가요?\\n')"
   ]
  },
  {
   "cell_type": "markdown",
   "id": "b1a531bd",
   "metadata": {},
   "source": [
    "### 반복문 제어: continue 실습"
   ]
  },
  {
   "cell_type": "code",
   "execution_count": 5,
   "id": "a2214dd5",
   "metadata": {},
   "outputs": [
    {
     "name": "stdout",
     "output_type": "stream",
     "text": [
      "짜장면 시킬까요?\n",
      "탕수육 시킬까요?\n",
      "-> 다음 메뉴는 뭔가요?\n",
      "\n",
      "짬뽕 시킬까요?\n",
      "깐풍기 시킬까요?\n",
      "-> 다음 메뉴는 뭔가요?\n",
      "\n",
      "전가복 시킬까요?\n",
      "-> 다음 메뉴는 뭔가요?\n",
      "\n",
      "샥스핀 시킬까요?\n",
      "-> 다음 메뉴는 뭔가요?\n",
      "\n"
     ]
    }
   ],
   "source": [
    "# 반복문 실행 도중 continue를 만나면 반복문의 처음으로 되돌아갑니다.\n",
    "for order in menu:\n",
    "    print(order, '시킬까요?')\n",
    "    if order in ['짜장면', '짬뽕']:\n",
    "        continue\n",
    "    else:\n",
    "        print('-> 다음 메뉴는 뭔가요?\\n')"
   ]
  },
  {
   "cell_type": "markdown",
   "id": "06113b1a",
   "metadata": {},
   "source": [
    "### 반복문 제어: break 실습"
   ]
  },
  {
   "cell_type": "code",
   "execution_count": 6,
   "id": "plain-medication",
   "metadata": {},
   "outputs": [
    {
     "name": "stdout",
     "output_type": "stream",
     "text": [
      "짜장면 시킬까요?\n",
      "탕수육 시킬까요?\n",
      "-> 다음 메뉴는 뭔가요?\n",
      "\n",
      "짬뽕 시킬까요?\n",
      "깐풍기 시킬까요?\n",
      "-> 다음 메뉴는 뭔가요?\n",
      "\n",
      "전가복 시킬까요?\n",
      "-> 다음 메뉴는 뭔가요?\n",
      "\n",
      "샥스핀 시킬까요?\n",
      "-> 다음 메뉴는 뭔가요?\n",
      "\n"
     ]
    }
   ],
   "source": [
    "# 반복문 실행 도중 break를 만나면 반복문을 중단시킵니다.\n",
    "for order in menu:\n",
    "    print(order, '시킬까요?')\n",
    "    if order in ['짜장면', '짬뽕']:\n",
    "        continue\n",
    "        print('-> 요리부터 주문합시다!\\n')\n",
    "    else:\n",
    "        print('-> 다음 메뉴는 뭔가요?\\n')"
   ]
  },
  {
   "cell_type": "markdown",
   "id": "seven-electronics",
   "metadata": {},
   "source": [
    "### [참고] 중첩 for 반복문"
   ]
  },
  {
   "cell_type": "code",
   "execution_count": 7,
   "id": "certified-accordance",
   "metadata": {
    "scrolled": true
   },
   "outputs": [
    {
     "name": "stdout",
     "output_type": "stream",
     "text": [
      "*** 2단 ***\n",
      "2 * 1 = 2\n",
      "2 * 2 = 4\n",
      "2 * 3 = 6\n",
      "2 * 4 = 8\n",
      "2 * 5 = 10\n",
      "2 * 6 = 12\n",
      "2 * 7 = 14\n",
      "2 * 8 = 16\n",
      "2 * 9 = 18\n",
      "*** 3단 ***\n",
      "3 * 1 = 3\n",
      "3 * 2 = 6\n",
      "3 * 3 = 9\n",
      "3 * 4 = 12\n",
      "3 * 5 = 15\n",
      "3 * 6 = 18\n",
      "3 * 7 = 21\n",
      "3 * 8 = 24\n",
      "3 * 9 = 27\n",
      "*** 4단 ***\n",
      "4 * 1 = 4\n",
      "4 * 2 = 8\n",
      "4 * 3 = 12\n",
      "4 * 4 = 16\n",
      "4 * 5 = 20\n",
      "4 * 6 = 24\n",
      "4 * 7 = 28\n",
      "4 * 8 = 32\n",
      "4 * 9 = 36\n",
      "*** 5단 ***\n",
      "5 * 1 = 5\n",
      "5 * 2 = 10\n",
      "5 * 3 = 15\n",
      "5 * 4 = 20\n",
      "5 * 5 = 25\n",
      "5 * 6 = 30\n",
      "5 * 7 = 35\n",
      "5 * 8 = 40\n",
      "5 * 9 = 45\n",
      "*** 6단 ***\n",
      "6 * 1 = 6\n",
      "6 * 2 = 12\n",
      "6 * 3 = 18\n",
      "6 * 4 = 24\n",
      "6 * 5 = 30\n",
      "6 * 6 = 36\n",
      "6 * 7 = 42\n",
      "6 * 8 = 48\n",
      "6 * 9 = 54\n",
      "*** 7단 ***\n",
      "7 * 1 = 7\n",
      "7 * 2 = 14\n",
      "7 * 3 = 21\n",
      "7 * 4 = 28\n",
      "7 * 5 = 35\n",
      "7 * 6 = 42\n",
      "7 * 7 = 49\n",
      "7 * 8 = 56\n",
      "7 * 9 = 63\n",
      "*** 8단 ***\n",
      "8 * 1 = 8\n",
      "8 * 2 = 16\n",
      "8 * 3 = 24\n",
      "8 * 4 = 32\n",
      "8 * 5 = 40\n",
      "8 * 6 = 48\n",
      "8 * 7 = 56\n",
      "8 * 8 = 64\n",
      "8 * 9 = 72\n",
      "*** 9단 ***\n",
      "9 * 1 = 9\n",
      "9 * 2 = 18\n",
      "9 * 3 = 27\n",
      "9 * 4 = 36\n",
      "9 * 5 = 45\n",
      "9 * 6 = 54\n",
      "9 * 7 = 63\n",
      "9 * 8 = 72\n",
      "9 * 9 = 81\n"
     ]
    }
   ],
   "source": [
    "# 두 개의 리스트 원소에 대한 모든 경우의 수를 반복 실행합니다.\n",
    "for i in range(2, 10):\n",
    "    print(f'*** {i}단 ***')\n",
    "    for j in range(1, 10):\n",
    "        print(f'{i} * {j} = {i*j}')"
   ]
  },
  {
   "cell_type": "code",
   "execution_count": 8,
   "id": "simplified-professor",
   "metadata": {},
   "outputs": [
    {
     "name": "stdout",
     "output_type": "stream",
     "text": [
      "1 * 1 = 1\n",
      "2 * 2 = 4\n",
      "3 * 3 = 9\n",
      "4 * 4 = 16\n",
      "5 * 5 = 25\n",
      "6 * 6 = 36\n",
      "7 * 7 = 49\n",
      "8 * 8 = 64\n",
      "9 * 9 = 81\n"
     ]
    }
   ],
   "source": [
    "# 두 개의 리스트에서 서로 대응하는 원소끼리 반복문을 실행합니다.\n",
    "for i, j in zip(range(1, 10), range(1, 10)):\n",
    "    print(f'{i} * {j} = {i*j}')"
   ]
  },
  {
   "cell_type": "markdown",
   "id": "c4cbe765",
   "metadata": {},
   "source": [
    "### 반복문 실행 결과를 리스트로 반환"
   ]
  },
  {
   "cell_type": "code",
   "execution_count": 9,
   "id": "0417a471",
   "metadata": {},
   "outputs": [],
   "source": [
    "# 정수 1~10을 원소로 갖는 리스트를 생성합니다.\n",
    "nums = list(range(1, 11))"
   ]
  },
  {
   "cell_type": "code",
   "execution_count": 10,
   "id": "cb961803",
   "metadata": {},
   "outputs": [],
   "source": [
    "# for 반복문을 실행하기 전에 결과를 저장할 빈 리스트를 미리 생성합니다.\n",
    "sqrs = []"
   ]
  },
  {
   "cell_type": "code",
   "execution_count": 11,
   "id": "3d9cc67b",
   "metadata": {},
   "outputs": [],
   "source": [
    "# nums의 각 원소를 제곱한 값을 sqrs에 마지막 원소로 추가합니다.\n",
    "for num in nums:\n",
    "    sqrs.append(num ** 2)"
   ]
  },
  {
   "cell_type": "code",
   "execution_count": 12,
   "id": "94f3c6a9",
   "metadata": {},
   "outputs": [
    {
     "data": {
      "text/plain": [
       "[1, 4, 9, 16, 25, 36, 49, 64, 81, 100]"
      ]
     },
     "execution_count": 12,
     "metadata": {},
     "output_type": "execute_result"
    }
   ],
   "source": [
    "# sqrs를 출력합니다.\n",
    "sqrs"
   ]
  },
  {
   "cell_type": "markdown",
   "id": "noted-patent",
   "metadata": {},
   "source": [
    "### [참고] 리스트 컴프리헨션"
   ]
  },
  {
   "cell_type": "code",
   "execution_count": 13,
   "id": "chinese-cathedral",
   "metadata": {},
   "outputs": [
    {
     "data": {
      "text/plain": [
       "[1, 4, 9, 16, 25, 36, 49, 64, 81, 100]"
      ]
     },
     "execution_count": 13,
     "metadata": {},
     "output_type": "execute_result"
    }
   ],
   "source": [
    "# 한 줄 코드로 for 반복문과 같은 결과를 반환합니다.\n",
    "[num ** 2 for num in nums]"
   ]
  },
  {
   "cell_type": "code",
   "execution_count": 14,
   "id": "russian-record",
   "metadata": {},
   "outputs": [
    {
     "data": {
      "text/plain": [
       "[4, 16, 36, 64, 100]"
      ]
     },
     "execution_count": 14,
     "metadata": {},
     "output_type": "execute_result"
    }
   ],
   "source": [
    "# nums의 원소 중 짝수 원소만 제곱한 결과를 리스트로 반환합니다.\n",
    "[num ** 2 for num in nums if num % 2 == 0]"
   ]
  },
  {
   "cell_type": "code",
   "execution_count": 15,
   "id": "dependent-killing",
   "metadata": {
    "scrolled": true
   },
   "outputs": [
    {
     "data": {
      "text/plain": [
       "['2 * 1 = 2',\n",
       " '2 * 2 = 4',\n",
       " '2 * 3 = 6',\n",
       " '2 * 4 = 8',\n",
       " '2 * 5 = 10',\n",
       " '2 * 6 = 12',\n",
       " '2 * 7 = 14',\n",
       " '2 * 8 = 16',\n",
       " '2 * 9 = 18',\n",
       " '3 * 1 = 3',\n",
       " '3 * 2 = 6',\n",
       " '3 * 3 = 9',\n",
       " '3 * 4 = 12',\n",
       " '3 * 5 = 15',\n",
       " '3 * 6 = 18',\n",
       " '3 * 7 = 21',\n",
       " '3 * 8 = 24',\n",
       " '3 * 9 = 27',\n",
       " '4 * 1 = 4',\n",
       " '4 * 2 = 8',\n",
       " '4 * 3 = 12',\n",
       " '4 * 4 = 16',\n",
       " '4 * 5 = 20',\n",
       " '4 * 6 = 24',\n",
       " '4 * 7 = 28',\n",
       " '4 * 8 = 32',\n",
       " '4 * 9 = 36',\n",
       " '5 * 1 = 5',\n",
       " '5 * 2 = 10',\n",
       " '5 * 3 = 15',\n",
       " '5 * 4 = 20',\n",
       " '5 * 5 = 25',\n",
       " '5 * 6 = 30',\n",
       " '5 * 7 = 35',\n",
       " '5 * 8 = 40',\n",
       " '5 * 9 = 45',\n",
       " '6 * 1 = 6',\n",
       " '6 * 2 = 12',\n",
       " '6 * 3 = 18',\n",
       " '6 * 4 = 24',\n",
       " '6 * 5 = 30',\n",
       " '6 * 6 = 36',\n",
       " '6 * 7 = 42',\n",
       " '6 * 8 = 48',\n",
       " '6 * 9 = 54',\n",
       " '7 * 1 = 7',\n",
       " '7 * 2 = 14',\n",
       " '7 * 3 = 21',\n",
       " '7 * 4 = 28',\n",
       " '7 * 5 = 35',\n",
       " '7 * 6 = 42',\n",
       " '7 * 7 = 49',\n",
       " '7 * 8 = 56',\n",
       " '7 * 9 = 63',\n",
       " '8 * 1 = 8',\n",
       " '8 * 2 = 16',\n",
       " '8 * 3 = 24',\n",
       " '8 * 4 = 32',\n",
       " '8 * 5 = 40',\n",
       " '8 * 6 = 48',\n",
       " '8 * 7 = 56',\n",
       " '8 * 8 = 64',\n",
       " '8 * 9 = 72',\n",
       " '9 * 1 = 9',\n",
       " '9 * 2 = 18',\n",
       " '9 * 3 = 27',\n",
       " '9 * 4 = 36',\n",
       " '9 * 5 = 45',\n",
       " '9 * 6 = 54',\n",
       " '9 * 7 = 63',\n",
       " '9 * 8 = 72',\n",
       " '9 * 9 = 81']"
      ]
     },
     "execution_count": 15,
     "metadata": {},
     "output_type": "execute_result"
    }
   ],
   "source": [
    "# 중첩 for 반복문을 리스트 컴프리헨션으로 실행합니다.\n",
    "[f'{i} * {j} = {i*j}' for i in range(2, 10) for j in range(1, 10)]"
   ]
  },
  {
   "cell_type": "markdown",
   "id": "a78c086c",
   "metadata": {},
   "source": [
    "### 예외 처리"
   ]
  },
  {
   "cell_type": "code",
   "execution_count": 16,
   "id": "9471728e",
   "metadata": {},
   "outputs": [
    {
     "ename": "TypeError",
     "evalue": "unsupported operand type(s) for ** or pow(): 'int' and 'str'",
     "output_type": "error",
     "traceback": [
      "\u001b[0;31m---------------------------------------------------------------------------\u001b[0m",
      "\u001b[0;31mTypeError\u001b[0m                                 Traceback (most recent call last)",
      "\u001b[0;32m/var/folders/qg/f_t6jpvn24333vkxvq5psnxc0000gn/T/ipykernel_24851/2782698926.py\u001b[0m in \u001b[0;36m<module>\u001b[0;34m\u001b[0m\n\u001b[1;32m      1\u001b[0m \u001b[0;31m# 실행하려는 코드에 오류가 있으면 에러가 발생하면 코드 실행이 중단됩니다.\u001b[0m\u001b[0;34m\u001b[0m\u001b[0;34m\u001b[0m\u001b[0m\n\u001b[0;32m----> 2\u001b[0;31m \u001b[0mnums\u001b[0m\u001b[0;34m[\u001b[0m\u001b[0;36m0\u001b[0m\u001b[0;34m]\u001b[0m \u001b[0;34m**\u001b[0m \u001b[0;34m'2'\u001b[0m\u001b[0;34m\u001b[0m\u001b[0;34m\u001b[0m\u001b[0m\n\u001b[0m",
      "\u001b[0;31mTypeError\u001b[0m: unsupported operand type(s) for ** or pow(): 'int' and 'str'"
     ]
    }
   ],
   "source": [
    "# 실행하려는 코드에 오류가 있으면 에러가 발생하면 코드 실행이 중단됩니다.\n",
    "nums[0] ** '2'"
   ]
  },
  {
   "cell_type": "code",
   "execution_count": 18,
   "id": "2bbd66f6",
   "metadata": {},
   "outputs": [
    {
     "name": "stdout",
     "output_type": "stream",
     "text": [
      "에러 발생!\n",
      "다음 코드 실행 중\n"
     ]
    }
   ],
   "source": [
    "# 예외 처리 구문을 통해 다른 코드를 대신 실행하도록 설정할 수 있습니다.\n",
    "try:\n",
    "    nums[0] ** '2'\n",
    "except TypeError:\n",
    "    print('에러 발생!')\n",
    "print('다음 코드 실행 중')"
   ]
  },
  {
   "cell_type": "markdown",
   "id": "df7de124",
   "metadata": {},
   "source": [
    "### 반복문 + 예외 처리"
   ]
  },
  {
   "cell_type": "code",
   "execution_count": 19,
   "id": "154ec746",
   "metadata": {},
   "outputs": [],
   "source": [
    "# nums의 세 번째 원소를 문자열로 변환합니다.\n",
    "nums[2] = '3'"
   ]
  },
  {
   "cell_type": "code",
   "execution_count": 29,
   "id": "de265ad5",
   "metadata": {},
   "outputs": [
    {
     "name": "stdout",
     "output_type": "stream",
     "text": [
      "1\n",
      "4\n",
      "unsupported operand type(s) for ** or pow(): 'str' and 'int'\n",
      "16\n",
      "25\n",
      "36\n",
      "49\n",
      "64\n",
      "81\n",
      "100\n"
     ]
    }
   ],
   "source": [
    "# for 반복문에 예외 처리를 추가하면, 도중에 에러가 발생해도 끝까지 실행합니다.\n",
    "for num in nums:\n",
    "    try:\n",
    "        print(num ** 2)\n",
    "    except Exception as e:\n",
    "        print(e)"
   ]
  },
  {
   "cell_type": "markdown",
   "id": "accredited-asset",
   "metadata": {},
   "source": [
    "### while 반복문"
   ]
  },
  {
   "cell_type": "code",
   "execution_count": null,
   "id": "f460c279",
   "metadata": {},
   "outputs": [],
   "source": [
    "# i에 정수 5를 할당합니다.\n",
    "i = 5"
   ]
  },
  {
   "cell_type": "code",
   "execution_count": null,
   "id": "beginning-constitutional",
   "metadata": {},
   "outputs": [],
   "source": [
    "# i를 출력하고 i에서 1씩 차감하다가, i가 0이 되면 반복문을 중단합니다.\n",
    "while i > 0:\n",
    "    print(i)\n",
    "    i -= 1"
   ]
  },
  {
   "cell_type": "code",
   "execution_count": null,
   "id": "patient-shadow",
   "metadata": {
    "scrolled": true
   },
   "outputs": [],
   "source": [
    "# 강제로 중단하기 전까지 무한 반복합니다.(멈추려면 interrupt키를 누르세요!)\n",
    "while True:\n",
    "    print(i)\n",
    "    i += 1"
   ]
  },
  {
   "cell_type": "markdown",
   "id": "secret-equity",
   "metadata": {},
   "source": [
    "### 사용자 정의 함수"
   ]
  },
  {
   "cell_type": "code",
   "execution_count": null,
   "id": "knowing-combine",
   "metadata": {},
   "outputs": [],
   "source": [
    "# 체질량지수를 반환하는 사용자 정의 함수를 생성합니다.\n",
    "def BMI(height, weight):\n",
    "    bmi = weight / (height/100)**2\n",
    "    return bmi"
   ]
  },
  {
   "cell_type": "code",
   "execution_count": null,
   "id": "based-building",
   "metadata": {},
   "outputs": [],
   "source": [
    "# 사용자 정의 함수를 실행합니다.\n",
    "BMI(175, 65)"
   ]
  },
  {
   "cell_type": "code",
   "execution_count": null,
   "id": "dirty-korea",
   "metadata": {},
   "outputs": [],
   "source": [
    "# 함수의 매개변수를 추가하면 순서가 바뀌어도 정상 실행됩니다.\n",
    "BMI(weight = 65, height = 175)"
   ]
  },
  {
   "cell_type": "code",
   "execution_count": null,
   "id": "generic-patrol",
   "metadata": {},
   "outputs": [],
   "source": [
    "# 사용자 정의 함수를 생성할 때 인자의 기본값을 설정합니다.\n",
    "def BMI(height = 175, weight = 65):\n",
    "    bmi = weight / (height/100)**2\n",
    "    return bmi"
   ]
  },
  {
   "cell_type": "code",
   "execution_count": null,
   "id": "stable-maintenance",
   "metadata": {},
   "outputs": [],
   "source": [
    "# 사용자 정의 함수를 실행할 때 인자를 생략하면 기본값이 자동으로 적용됩니다.\n",
    "BMI()"
   ]
  },
  {
   "cell_type": "code",
   "execution_count": null,
   "id": "after-stupid",
   "metadata": {},
   "outputs": [],
   "source": [
    "# 사용자 정의 함수의 인자를 원하는 값으로 입력합니다.\n",
    "BMI(height = 190, weight = 85)"
   ]
  },
  {
   "cell_type": "markdown",
   "id": "looking-million",
   "metadata": {},
   "source": [
    "### [참고] 람다 표현식 사용법"
   ]
  },
  {
   "cell_type": "code",
   "execution_count": null,
   "id": "rural-institute",
   "metadata": {},
   "outputs": [],
   "source": [
    "# lambda 표현식은 '한 줄의 코드'로 함수를 만들 때 사용합니다.\n",
    "BMI2 = lambda height = 175, weight = 65: weight / (height/100)**2\n",
    "BMI2(190, 85)"
   ]
  },
  {
   "cell_type": "code",
   "execution_count": null,
   "id": "harmful-crossing",
   "metadata": {},
   "outputs": [],
   "source": [
    "# lambda 표현식은 함수명 없이도 사용할 수 있으므로 '익명함수'로 불립니다.\n",
    "(lambda height, weight: weight / (height/100)**2)(190, 85)"
   ]
  },
  {
   "cell_type": "markdown",
   "id": "258c1d3d",
   "metadata": {},
   "source": [
    "### 매개변수를 정의하지 않은 함수"
   ]
  },
  {
   "cell_type": "code",
   "execution_count": null,
   "id": "f6fd57f3",
   "metadata": {},
   "outputs": [],
   "source": [
    "# 사용자 정의 함수는 정의한 매개변수의 개수만큼 전달인자를 지정해야 합니다.\n",
    "def printValues1(a, b, c):\n",
    "    for i in [a, b, c]:\n",
    "        print(i)"
   ]
  },
  {
   "cell_type": "code",
   "execution_count": null,
   "id": "ae2fdf06",
   "metadata": {},
   "outputs": [],
   "source": [
    "# 괄호 안에 인자를 3개 지정하고 함수를 실행합니다.\n",
    "printValues1(1, 2, 3)"
   ]
  },
  {
   "cell_type": "code",
   "execution_count": null,
   "id": "e80f1559",
   "metadata": {},
   "outputs": [],
   "source": [
    "# 괄호 안에 인자를 2개 지정하고 함수를 실행하면 에러가 발생합니다.\n",
    "printValues1(1, 2)"
   ]
  },
  {
   "cell_type": "code",
   "execution_count": null,
   "id": "b40b6a05",
   "metadata": {},
   "outputs": [],
   "source": [
    "# 함수의 괄호 안에 *args를 지정하면 전달인자 개수가 달라져도 됩니다.\n",
    "def printValues2(*args):\n",
    "    for i in args:\n",
    "        print(i)"
   ]
  },
  {
   "cell_type": "code",
   "execution_count": null,
   "id": "cfa04450",
   "metadata": {},
   "outputs": [],
   "source": [
    "# 괄호 안에 인자를 3개 지정하고 함수를 실행합니다.\n",
    "printValues2(1, 2, 3)"
   ]
  },
  {
   "cell_type": "code",
   "execution_count": null,
   "id": "259b4c64",
   "metadata": {},
   "outputs": [],
   "source": [
    "# 괄호 안에 인자를 2개 지정하고 함수를 실행합니다.\n",
    "printValues2(1, 2)"
   ]
  },
  {
   "cell_type": "code",
   "execution_count": null,
   "id": "49e5ed9e",
   "metadata": {},
   "outputs": [],
   "source": [
    "# 함수의 괄호 안에 **kwargs를 지정하면 딕셔너리처럼 키와 값의 쌍을 받습니다.\n",
    "def printValues3(**kwargs):\n",
    "    for i in kwargs.items():\n",
    "        print(f'{i[0]}은 {i[1]}입니다.')"
   ]
  },
  {
   "cell_type": "code",
   "execution_count": null,
   "id": "20abe55d",
   "metadata": {},
   "outputs": [],
   "source": [
    "# 괄호 안에 키와 값을 1쌍 지정하고 함수를 실행합니다.\n",
    "# dict() 클래스처럼 괄호 안에 키와 값을 등호로 연결합니다.\n",
    "printValues3(name = '유재석')"
   ]
  },
  {
   "cell_type": "code",
   "execution_count": null,
   "id": "6a29fde5",
   "metadata": {},
   "outputs": [],
   "source": [
    "# 괄호 안에 키와 값을 2쌍 지정하고 함수를 실행합니다.\n",
    "printValues3(name = '유재석', nick = '메뚜기')"
   ]
  },
  {
   "cell_type": "markdown",
   "id": "alive-supply",
   "metadata": {},
   "source": [
    "## End of Document"
   ]
  }
 ],
 "metadata": {
  "kernelspec": {
   "display_name": "Python 3 (ipykernel)",
   "language": "python",
   "name": "python3"
  },
  "language_info": {
   "codemirror_mode": {
    "name": "ipython",
    "version": 3
   },
   "file_extension": ".py",
   "mimetype": "text/x-python",
   "name": "python",
   "nbconvert_exporter": "python",
   "pygments_lexer": "ipython3",
   "version": "3.9.7"
  },
  "toc": {
   "base_numbering": 1,
   "nav_menu": {},
   "number_sections": true,
   "sideBar": true,
   "skip_h1_title": false,
   "title_cell": "Table of Contents",
   "title_sidebar": "Contents",
   "toc_cell": false,
   "toc_position": {},
   "toc_section_display": true,
   "toc_window_display": false
  },
  "varInspector": {
   "cols": {
    "lenName": 16,
    "lenType": 16,
    "lenVar": 40
   },
   "kernels_config": {
    "python": {
     "delete_cmd_postfix": "",
     "delete_cmd_prefix": "del ",
     "library": "var_list.py",
     "varRefreshCmd": "print(var_dic_list())"
    },
    "r": {
     "delete_cmd_postfix": ") ",
     "delete_cmd_prefix": "rm(",
     "library": "var_list.r",
     "varRefreshCmd": "cat(var_dic_list()) "
    }
   },
   "types_to_exclude": [
    "module",
    "function",
    "builtin_function_or_method",
    "instance",
    "_Feature"
   ],
   "window_display": false
  }
 },
 "nbformat": 4,
 "nbformat_minor": 5
}
