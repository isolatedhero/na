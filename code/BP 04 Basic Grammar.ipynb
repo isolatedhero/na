{
 "cells": [
  {
   "cell_type": "markdown",
   "id": "96237ba2",
   "metadata": {},
   "source": [
    "# Python 기초 문법"
   ]
  },
  {
   "cell_type": "markdown",
   "id": "emerging-stevens",
   "metadata": {},
   "source": [
    "### if 조건문"
   ]
  },
  {
   "cell_type": "code",
   "execution_count": null,
   "id": "written-import",
   "metadata": {},
   "outputs": [],
   "source": [
    "# input() 함수는 값을 입력받아 문자열로 반환하여 major에 할당합니다.\n",
    "major = input('전공: ')"
   ]
  },
  {
   "cell_type": "code",
   "execution_count": null,
   "id": "moved-diamond",
   "metadata": {},
   "outputs": [],
   "source": [
    "# 학습할 언어를 답변하는 조건문을 작성합니다.\n",
    "if '통계' in major:\n",
    "    print('Study R!')\n",
    "elif '컴퓨터' in major:\n",
    "    print('Study Python!')\n",
    "else:\n",
    "    print('Study what you want!')"
   ]
  },
  {
   "cell_type": "markdown",
   "id": "dominant-indian",
   "metadata": {},
   "source": [
    "### for 반복문"
   ]
  },
  {
   "cell_type": "code",
   "execution_count": null,
   "id": "experimental-forest",
   "metadata": {},
   "outputs": [],
   "source": [
    "# 중식당 메뉴를 리스트로 생성합니다.\n",
    "menu = ['짜장면', '탕수육', '짬뽕', '깐풍기', '전가복', '샥스핀']"
   ]
  },
  {
   "cell_type": "code",
   "execution_count": null,
   "id": "cooked-chase",
   "metadata": {},
   "outputs": [],
   "source": [
    "# 반복문을 사용하여 중식당 메뉴를 차례대로 출력합니다.\n",
    "for order in menu:\n",
    "    print(order)"
   ]
  },
  {
   "cell_type": "code",
   "execution_count": null,
   "id": "intermediate-horror",
   "metadata": {},
   "outputs": [],
   "source": [
    "# 문자열 결합을 통해 출력되는 안내문을 변경합니다.\n",
    "for order in menu:\n",
    "    print(order + ' 시킬까요?')"
   ]
  },
  {
   "cell_type": "code",
   "execution_count": null,
   "id": "plain-medication",
   "metadata": {},
   "outputs": [],
   "source": [
    "# 중식당 메뉴를 차례대로 출력하면서, 조건에 따라 코드를 다르게 실행합니다.\n",
    "for order in menu:\n",
    "    print(order + ' 시킬까요?')\n",
    "    if order in ['짜장면', '짬뽕']:\n",
    "        continue\n",
    "        print('-> 요리부터 주문합시다!\\n')\n",
    "    else:\n",
    "        print('-> 다음 메뉴는 뭔가요?\\n')"
   ]
  },
  {
   "cell_type": "markdown",
   "id": "seven-electronics",
   "metadata": {},
   "source": [
    "### [참고] 중첩 for 반복문"
   ]
  },
  {
   "cell_type": "code",
   "execution_count": null,
   "id": "certified-accordance",
   "metadata": {
    "scrolled": true
   },
   "outputs": [],
   "source": [
    "# 두 개의 리스트 원소에 대한 모든 경우의 수를 반복 실행합니다.\n",
    "for i in range(2, 10):\n",
    "    for j in range(1, 10):\n",
    "        print(f'{i} * {j} = {i*j}')\n",
    "    print('*' * 10)"
   ]
  },
  {
   "cell_type": "code",
   "execution_count": null,
   "id": "simplified-professor",
   "metadata": {},
   "outputs": [],
   "source": [
    "# 두 개의 리스트에서 서로 대응하는 원소끼리 반복문을 실행합니다.\n",
    "for i, j in zip(range(1, 10), range(1, 10)):\n",
    "    print(f'{i} * {j} = {i*j}')"
   ]
  },
  {
   "cell_type": "markdown",
   "id": "noted-patent",
   "metadata": {},
   "source": [
    "### [참고] 리스트 컴프리헨션"
   ]
  },
  {
   "cell_type": "code",
   "execution_count": null,
   "id": "closing-berlin",
   "metadata": {},
   "outputs": [],
   "source": [
    "# 정수 1~10을 원소로 갖는 리스트를 생성합니다.\n",
    "nums = list(range(1, 11))"
   ]
  },
  {
   "cell_type": "code",
   "execution_count": null,
   "id": "sticky-comparison",
   "metadata": {},
   "outputs": [],
   "source": [
    "# 결과를 저장할 빈 리스트를 미리 생성합니다.\n",
    "sqrs1 = []\n",
    "\n",
    "# 반복문을 사용하여 nums의 각 원소를 제곱합니다.\n",
    "for num in nums:\n",
    "    sqrs1.append(num ** 2)\n",
    "\n",
    "# sqrs1을 출력합니다.\n",
    "sqrs1"
   ]
  },
  {
   "cell_type": "code",
   "execution_count": null,
   "id": "chinese-cathedral",
   "metadata": {},
   "outputs": [],
   "source": [
    "# 리스트 컴프리헨션으로 리스트를 생성하고 출력합니다.\n",
    "sqrs2 = [num ** 2 for num in nums]\n",
    "sqrs2"
   ]
  },
  {
   "cell_type": "code",
   "execution_count": null,
   "id": "russian-record",
   "metadata": {},
   "outputs": [],
   "source": [
    "# 리스트 컴프리헨션 안에 조건문을 추가하여 특정 조건을 만족하는 리스트 원소만 대상으로 코드를 실행할 수 있습니다.\n",
    "[num ** 2 for num in nums if num % 2 == 0]"
   ]
  },
  {
   "cell_type": "code",
   "execution_count": null,
   "id": "dependent-killing",
   "metadata": {
    "scrolled": true
   },
   "outputs": [],
   "source": [
    "# 중첩 for 반복문을 리스트 컴프리헨션으로 실행합니다.\n",
    "[f'{i} * {j} = {i*j}' for i in range(2, 10) for j in range(1, 10)]"
   ]
  },
  {
   "cell_type": "code",
   "execution_count": null,
   "id": "7a1419b2",
   "metadata": {},
   "outputs": [],
   "source": [
    "# 서로 대응하는 원소의 반복 실행을 리스트 컴프리헨션으로 실행합니다.\n",
    "[f'{i} * {j} = {i*j}' for i, j in zip(range(1, 10), range(1, 10))]"
   ]
  },
  {
   "cell_type": "markdown",
   "id": "accredited-asset",
   "metadata": {},
   "source": [
    "### while 반복문"
   ]
  },
  {
   "cell_type": "code",
   "execution_count": null,
   "id": "f460c279",
   "metadata": {},
   "outputs": [],
   "source": [
    "# 변수 i에 정수 5를 할당합니다.\n",
    "i = 5"
   ]
  },
  {
   "cell_type": "code",
   "execution_count": null,
   "id": "beginning-constitutional",
   "metadata": {},
   "outputs": [],
   "source": [
    "# i를 출력하고 i에서 1씩 차감하다가, i가 0이 되면 반복문을 중단합니다.\n",
    "while i > 0:\n",
    "    print(i)\n",
    "    i -= 1"
   ]
  },
  {
   "cell_type": "code",
   "execution_count": null,
   "id": "patient-shadow",
   "metadata": {
    "scrolled": true
   },
   "outputs": [],
   "source": [
    "# 강제로 중단하기 전까지 무한 반복합니다.(멈추려면 interrupt키를 누르세요!)\n",
    "while True:\n",
    "    print(i)\n",
    "    i += 1"
   ]
  },
  {
   "cell_type": "code",
   "execution_count": null,
   "id": "8affc2e7",
   "metadata": {},
   "outputs": [],
   "source": [
    "# 별다방 선불카드에 30000원을 충전합니다.\n",
    "card = 30000"
   ]
  },
  {
   "cell_type": "code",
   "execution_count": null,
   "id": "studied-breakdown",
   "metadata": {},
   "outputs": [],
   "source": [
    "# 별다방 선불카드 잔액이 일정 금액 이하일 때, 커피 주문을 멈추도록 설정합니다.\n",
    "while card:\n",
    "    if card < 4100:\n",
    "        print('카드를 충전하세요!')\n",
    "        break\n",
    "    else:\n",
    "        card -= 4100\n",
    "        print(f'아메리카노 결제 후 잔액은 {card}입니다.')"
   ]
  },
  {
   "cell_type": "markdown",
   "id": "secret-equity",
   "metadata": {},
   "source": [
    "### 사용자 정의 함수"
   ]
  },
  {
   "cell_type": "code",
   "execution_count": null,
   "id": "knowing-combine",
   "metadata": {},
   "outputs": [],
   "source": [
    "# 체질량지수를 반환하는 사용자 정의 함수를 생성합니다.\n",
    "def BMI(height, weight):\n",
    "    height /= 100\n",
    "    bmi = weight / height**2\n",
    "    return bmi"
   ]
  },
  {
   "cell_type": "code",
   "execution_count": null,
   "id": "based-building",
   "metadata": {},
   "outputs": [],
   "source": [
    "# 사용자 정의 함수를 실행합니다.\n",
    "BMI(175, 65)"
   ]
  },
  {
   "cell_type": "code",
   "execution_count": null,
   "id": "dirty-korea",
   "metadata": {},
   "outputs": [],
   "source": [
    "# 함수의 매개변수를 추가하면 순서가 바뀌어도 정상 실행됩니다.\n",
    "BMI(weight = 65, height = 175)"
   ]
  },
  {
   "cell_type": "code",
   "execution_count": null,
   "id": "generic-patrol",
   "metadata": {},
   "outputs": [],
   "source": [
    "# 사용자 정의 함수를 생성할 때 인자의 기본값을 설정합니다.\n",
    "def BMI(height = 175, weight = 65):\n",
    "    height /= 100\n",
    "    bmi = weight / height**2\n",
    "    return bmi"
   ]
  },
  {
   "cell_type": "code",
   "execution_count": null,
   "id": "stable-maintenance",
   "metadata": {},
   "outputs": [],
   "source": [
    "# 사용자 정의 함수를 실행할 때 인자를 생략하면 기본값이 자동으로 적용됩니다.\n",
    "BMI()"
   ]
  },
  {
   "cell_type": "code",
   "execution_count": null,
   "id": "after-stupid",
   "metadata": {},
   "outputs": [],
   "source": [
    "# 사용자 정의 함수의 인자를 원하는 값으로 입력합니다.\n",
    "BMI(height = 190, weight = 85)"
   ]
  },
  {
   "cell_type": "markdown",
   "id": "looking-million",
   "metadata": {},
   "source": [
    "### [참고] 람다 표현식 사용법"
   ]
  },
  {
   "cell_type": "code",
   "execution_count": null,
   "id": "rural-institute",
   "metadata": {},
   "outputs": [],
   "source": [
    "# lambda 표현식은 '한 줄의 코드'로 함수를 만들 때 사용합니다.\n",
    "BMI2 = lambda height = 175, weight = 65: weight / (height/100)**2\n",
    "BMI2(190, 85)"
   ]
  },
  {
   "cell_type": "code",
   "execution_count": null,
   "id": "harmful-crossing",
   "metadata": {},
   "outputs": [],
   "source": [
    "# lambda 표현식은 함수명 없이도 사용할 수 있으므로 '익명함수'로 불립니다.\n",
    "(lambda height, weight: weight / (height/100)**2)(190, 85)"
   ]
  },
  {
   "cell_type": "markdown",
   "id": "alive-supply",
   "metadata": {},
   "source": [
    "## End of Document"
   ]
  }
 ],
 "metadata": {
  "kernelspec": {
   "display_name": "Python 3 (ipykernel)",
   "language": "python",
   "name": "python3"
  },
  "language_info": {
   "codemirror_mode": {
    "name": "ipython",
    "version": 3
   },
   "file_extension": ".py",
   "mimetype": "text/x-python",
   "name": "python",
   "nbconvert_exporter": "python",
   "pygments_lexer": "ipython3",
   "version": "3.9.7"
  },
  "toc": {
   "base_numbering": 1,
   "nav_menu": {},
   "number_sections": true,
   "sideBar": true,
   "skip_h1_title": false,
   "title_cell": "Table of Contents",
   "title_sidebar": "Contents",
   "toc_cell": false,
   "toc_position": {},
   "toc_section_display": true,
   "toc_window_display": false
  },
  "varInspector": {
   "cols": {
    "lenName": 16,
    "lenType": 16,
    "lenVar": 40
   },
   "kernels_config": {
    "python": {
     "delete_cmd_postfix": "",
     "delete_cmd_prefix": "del ",
     "library": "var_list.py",
     "varRefreshCmd": "print(var_dic_list())"
    },
    "r": {
     "delete_cmd_postfix": ") ",
     "delete_cmd_prefix": "rm(",
     "library": "var_list.r",
     "varRefreshCmd": "cat(var_dic_list()) "
    }
   },
   "types_to_exclude": [
    "module",
    "function",
    "builtin_function_or_method",
    "instance",
    "_Feature"
   ],
   "window_display": false
  }
 },
 "nbformat": 4,
 "nbformat_minor": 5
}
