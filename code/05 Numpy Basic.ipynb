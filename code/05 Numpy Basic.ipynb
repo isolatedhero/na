{
 "cells": [
  {
   "cell_type": "markdown",
   "id": "a97a133f",
   "metadata": {},
   "source": [
    "## numpy 기초"
   ]
  },
  {
   "cell_type": "markdown",
   "id": "human-lawrence",
   "metadata": {},
   "source": [
    "### 라이브러리 호출"
   ]
  },
  {
   "cell_type": "raw",
   "id": "ec44178a",
   "metadata": {},
   "source": [
    "# numpy 라이브러리를 설치합니다.\n",
    "# [참고] 아나콘다를 설치했다면 아래 코드를 실행하지 않아도 됩니다.\n",
    "!pip install numpy"
   ]
  },
  {
   "cell_type": "code",
   "execution_count": 1,
   "id": "facial-pizza",
   "metadata": {
    "ExecuteTime": {
     "end_time": "2022-06-09T13:22:39.328857Z",
     "start_time": "2022-06-09T13:22:39.271009Z"
    }
   },
   "outputs": [],
   "source": [
    "# numpy 라이브러리를 호출합니다.\n",
    "import numpy as np"
   ]
  },
  {
   "cell_type": "markdown",
   "id": "coupled-assistant",
   "metadata": {},
   "source": [
    "### 1차원 배열 생성"
   ]
  },
  {
   "cell_type": "code",
   "execution_count": 2,
   "id": "published-rally",
   "metadata": {
    "ExecuteTime": {
     "end_time": "2022-06-09T13:22:39.333469Z",
     "start_time": "2022-06-09T13:22:39.331173Z"
    }
   },
   "outputs": [],
   "source": [
    "# 리스트로 1차원 배열을 생성합니다.\n",
    "ar1 = np.array(object = [1, 2, 3])"
   ]
  },
  {
   "cell_type": "code",
   "execution_count": 3,
   "id": "latter-chocolate",
   "metadata": {
    "ExecuteTime": {
     "end_time": "2022-06-09T13:22:39.342605Z",
     "start_time": "2022-06-09T13:22:39.335282Z"
    }
   },
   "outputs": [
    {
     "data": {
      "text/plain": [
       "array([1, 2, 3])"
      ]
     },
     "execution_count": 3,
     "metadata": {},
     "output_type": "execute_result"
    }
   ],
   "source": [
    "# ar1을 출력합니다. 원소를 가로 방향으로 출력합니다.\n",
    "ar1"
   ]
  },
  {
   "cell_type": "code",
   "execution_count": 4,
   "id": "above-radius",
   "metadata": {
    "ExecuteTime": {
     "end_time": "2022-06-09T13:22:39.348692Z",
     "start_time": "2022-06-09T13:22:39.345445Z"
    }
   },
   "outputs": [
    {
     "data": {
      "text/plain": [
       "numpy.ndarray"
      ]
     },
     "execution_count": 4,
     "metadata": {},
     "output_type": "execute_result"
    }
   ],
   "source": [
    "# ar1의 클래스를 확인합니다. ar1의 클래스는 numpy.ndarray입니다.\n",
    "type(ar1)"
   ]
  },
  {
   "cell_type": "code",
   "execution_count": 5,
   "id": "attractive-corps",
   "metadata": {
    "ExecuteTime": {
     "end_time": "2022-06-09T13:22:39.358801Z",
     "start_time": "2022-06-09T13:22:39.355526Z"
    }
   },
   "outputs": [
    {
     "data": {
      "text/plain": [
       "(3,)"
      ]
     },
     "execution_count": 5,
     "metadata": {},
     "output_type": "execute_result"
    }
   ],
   "source": [
    "# ar1의 형태(행 개수, 열 개수)를 확인합니다.\n",
    "ar1.shape"
   ]
  },
  {
   "cell_type": "code",
   "execution_count": 6,
   "id": "c77c0fbd",
   "metadata": {},
   "outputs": [
    {
     "data": {
      "text/plain": [
       "3"
      ]
     },
     "execution_count": 6,
     "metadata": {},
     "output_type": "execute_result"
    }
   ],
   "source": [
    "# ar1의 원소 개수를 확인합니다.\n",
    "ar1.size"
   ]
  },
  {
   "cell_type": "code",
   "execution_count": 7,
   "id": "tested-consent",
   "metadata": {
    "ExecuteTime": {
     "end_time": "2022-06-09T13:22:39.364019Z",
     "start_time": "2022-06-09T13:22:39.360516Z"
    }
   },
   "outputs": [
    {
     "data": {
      "text/plain": [
       "dtype('int64')"
      ]
     },
     "execution_count": 7,
     "metadata": {},
     "output_type": "execute_result"
    }
   ],
   "source": [
    "# ar1의 원소 자료형을 확인합니다. ar1의 원소 자료형은 numpy.int64입니다.\n",
    "# [참고] Windows에서는 정수를 numpy.int32로 생성합니다.\n",
    "ar1.dtype"
   ]
  },
  {
   "cell_type": "markdown",
   "id": "random-product",
   "metadata": {},
   "source": [
    "### 1차원 배열의 원소 자료형 변환"
   ]
  },
  {
   "cell_type": "code",
   "execution_count": 8,
   "id": "df565221",
   "metadata": {
    "ExecuteTime": {
     "end_time": "2022-06-09T13:22:39.367899Z",
     "start_time": "2022-06-09T13:22:39.365841Z"
    }
   },
   "outputs": [],
   "source": [
    "# 다양한 자료형을 원소로 갖는 리스트를 생성합니다.\n",
    "a = [1, 2.0, '3']"
   ]
  },
  {
   "cell_type": "code",
   "execution_count": 9,
   "id": "deluxe-measurement",
   "metadata": {
    "ExecuteTime": {
     "end_time": "2022-06-09T13:22:39.371842Z",
     "start_time": "2022-06-09T13:22:39.369714Z"
    }
   },
   "outputs": [],
   "source": [
    "# 리스트로 배열을 생성하면 원소 자료형을 자동 변환합니다.\n",
    "# [참고] 정수 < 실수 < 문자열 방향으로 변환합니다.\n",
    "ar1 = np.array(object = a)"
   ]
  },
  {
   "cell_type": "code",
   "execution_count": 10,
   "id": "91d229f9",
   "metadata": {
    "ExecuteTime": {
     "end_time": "2022-06-09T13:22:39.379669Z",
     "start_time": "2022-06-09T13:22:39.376513Z"
    }
   },
   "outputs": [
    {
     "data": {
      "text/plain": [
       "array(['1', '2.0', '3'], dtype='<U32')"
      ]
     },
     "execution_count": 10,
     "metadata": {},
     "output_type": "execute_result"
    }
   ],
   "source": [
    "# ar1을 출력합니다. ar1의 원소 자료형은 '<U32'입니다.\n",
    "ar1"
   ]
  },
  {
   "cell_type": "code",
   "execution_count": 11,
   "id": "green-edinburgh",
   "metadata": {
    "ExecuteTime": {
     "end_time": "2022-06-09T13:22:39.384993Z",
     "start_time": "2022-06-09T13:22:39.381604Z"
    }
   },
   "outputs": [
    {
     "data": {
      "text/plain": [
       "array([1., 2., 3.])"
      ]
     },
     "execution_count": 11,
     "metadata": {},
     "output_type": "execute_result"
    }
   ],
   "source": [
    "# ar1의 원소 자료형을 실수로 변환합니다.\n",
    "ar1.astype(float)"
   ]
  },
  {
   "cell_type": "raw",
   "id": "09ed7cdd-b1f8-4893-b34b-e769623e4fa1",
   "metadata": {},
   "source": [
    "# ar1의 원소 자료형을 정수로 변환하려고 하면 '2.0' 때문에 에러가 발생합니다!\n",
    "ar1.astype(int)"
   ]
  },
  {
   "cell_type": "code",
   "execution_count": 12,
   "id": "b14286e6",
   "metadata": {
    "ExecuteTime": {
     "end_time": "2022-06-09T13:22:39.390355Z",
     "start_time": "2022-06-09T13:22:39.386874Z"
    }
   },
   "outputs": [
    {
     "data": {
      "text/plain": [
       "array([1, 2, 3])"
      ]
     },
     "execution_count": 12,
     "metadata": {},
     "output_type": "execute_result"
    }
   ],
   "source": [
    "# ar1의 원소 자료형을 실수로 변환하면 여전히 배열이므로 이어서 정수로 변환할 수 있습니다.\n",
    "ar1.astype(float).astype(int)"
   ]
  },
  {
   "cell_type": "markdown",
   "id": "9f6cb212",
   "metadata": {},
   "source": [
    "### [참고] 배열을 생성할 때 원소 자료형 지정"
   ]
  },
  {
   "cell_type": "code",
   "execution_count": 13,
   "id": "179a174d",
   "metadata": {
    "ExecuteTime": {
     "end_time": "2022-06-09T13:22:39.395630Z",
     "start_time": "2022-06-09T13:22:39.392181Z"
    }
   },
   "outputs": [
    {
     "data": {
      "text/plain": [
       "array([1., 2., 3.])"
      ]
     },
     "execution_count": 13,
     "metadata": {},
     "output_type": "execute_result"
    }
   ],
   "source": [
    "# 배열의 원소 자료형을 실수로 지정합니다.\n",
    "np.array(object = a, dtype = float)"
   ]
  },
  {
   "cell_type": "code",
   "execution_count": 14,
   "id": "8af01f56",
   "metadata": {
    "ExecuteTime": {
     "end_time": "2022-06-09T13:22:39.400829Z",
     "start_time": "2022-06-09T13:22:39.397449Z"
    }
   },
   "outputs": [
    {
     "data": {
      "text/plain": [
       "array([1, 2, 3])"
      ]
     },
     "execution_count": 14,
     "metadata": {},
     "output_type": "execute_result"
    }
   ],
   "source": [
    "# 배열의 원소 자료형을 정수로 지정합니다.\n",
    "np.array(object = a, dtype = int)"
   ]
  },
  {
   "cell_type": "code",
   "execution_count": 15,
   "id": "ddfa9a85",
   "metadata": {
    "ExecuteTime": {
     "end_time": "2022-06-09T13:22:39.405721Z",
     "start_time": "2022-06-09T13:22:39.402504Z"
    }
   },
   "outputs": [
    {
     "data": {
      "text/plain": [
       "array(['1', '2.0', '3'], dtype='<U3')"
      ]
     },
     "execution_count": 15,
     "metadata": {},
     "output_type": "execute_result"
    }
   ],
   "source": [
    "# 배열의 원소 자료형을 문자열로 지정합니다.\n",
    "np.array(object = a, dtype = str)"
   ]
  },
  {
   "cell_type": "code",
   "execution_count": 16,
   "id": "349063f4",
   "metadata": {
    "ExecuteTime": {
     "end_time": "2022-06-09T13:22:39.411009Z",
     "start_time": "2022-06-09T13:22:39.407716Z"
    }
   },
   "outputs": [
    {
     "data": {
      "text/plain": [
       "array([1, 2.0, '3'], dtype=object)"
      ]
     },
     "execution_count": 16,
     "metadata": {},
     "output_type": "execute_result"
    }
   ],
   "source": [
    "# 배열의 원소 자료형을 객체로 지정합니다.\n",
    "# 리스트의 원소 자료형을 그대로 유지합니다.\n",
    "np.array(object = a, dtype = object)"
   ]
  },
  {
   "cell_type": "markdown",
   "id": "7e37be6d",
   "metadata": {},
   "source": [
    "### 간격이 일정한 배열 생성"
   ]
  },
  {
   "cell_type": "code",
   "execution_count": 17,
   "id": "innocent-think",
   "metadata": {
    "ExecuteTime": {
     "end_time": "2022-06-09T13:22:39.416087Z",
     "start_time": "2022-06-09T13:22:39.412784Z"
    }
   },
   "outputs": [
    {
     "data": {
      "text/plain": [
       "array([0, 1, 2, 3, 4])"
      ]
     },
     "execution_count": 17,
     "metadata": {},
     "output_type": "execute_result"
    }
   ],
   "source": [
    "# 0부터 4까지 연속된 정수를 반환합니다.\n",
    "np.arange(5)"
   ]
  },
  {
   "cell_type": "code",
   "execution_count": 18,
   "id": "dominican-classics",
   "metadata": {
    "ExecuteTime": {
     "end_time": "2022-06-09T13:22:39.420860Z",
     "start_time": "2022-06-09T13:22:39.417734Z"
    }
   },
   "outputs": [
    {
     "data": {
      "text/plain": [
       "array([1, 2, 3, 4, 5])"
      ]
     },
     "execution_count": 18,
     "metadata": {},
     "output_type": "execute_result"
    }
   ],
   "source": [
    "# 1부터 5까지 연속된 정수를 반환합니다.\n",
    "np.arange(start = 1, stop = 6)"
   ]
  },
  {
   "cell_type": "code",
   "execution_count": 19,
   "id": "destroyed-boundary",
   "metadata": {
    "ExecuteTime": {
     "end_time": "2022-06-09T13:22:39.425564Z",
     "start_time": "2022-06-09T13:22:39.422482Z"
    }
   },
   "outputs": [
    {
     "data": {
      "text/plain": [
       "array([1, 3, 5, 7, 9])"
      ]
     },
     "execution_count": 19,
     "metadata": {},
     "output_type": "execute_result"
    }
   ],
   "source": [
    "# 1부터 10에서 홀수인 정수를 반환합니다.\n",
    "np.arange(start = 1, stop = 11, step = 2)"
   ]
  },
  {
   "cell_type": "code",
   "execution_count": 20,
   "id": "dutch-fusion",
   "metadata": {
    "ExecuteTime": {
     "end_time": "2022-06-09T13:22:39.430361Z",
     "start_time": "2022-06-09T13:22:39.427165Z"
    }
   },
   "outputs": [
    {
     "data": {
      "text/plain": [
       "array([0. , 0.1, 0.2, 0.3, 0.4, 0.5, 0.6, 0.7, 0.8, 0.9])"
      ]
     },
     "execution_count": 20,
     "metadata": {},
     "output_type": "execute_result"
    }
   ],
   "source": [
    "# 0부터 1까지 0.1 간격의 연속된 실수를 반환합니다. [참고] 1을 포함하지 않습니다.\n",
    "np.arange(start = 0, stop = 1, step = 0.1)"
   ]
  },
  {
   "cell_type": "code",
   "execution_count": 21,
   "id": "6895f6af",
   "metadata": {
    "ExecuteTime": {
     "end_time": "2022-06-09T13:22:39.438519Z",
     "start_time": "2022-06-09T13:22:39.432208Z"
    }
   },
   "outputs": [
    {
     "data": {
      "text/plain": [
       "array([0. , 0.1, 0.2, 0.3, 0.4, 0.5, 0.6, 0.7, 0.8, 0.9, 1. ])"
      ]
     },
     "execution_count": 21,
     "metadata": {},
     "output_type": "execute_result"
    }
   ],
   "source": [
    "# 0~1을 10등분하는 (즉, 원소가 11개인) 실수형 배열을 생성합니다.\n",
    "np.linspace(start = 0, stop = 1, num = 10+1)"
   ]
  },
  {
   "cell_type": "code",
   "execution_count": 22,
   "id": "51d0efca",
   "metadata": {
    "ExecuteTime": {
     "end_time": "2022-06-09T13:22:39.443948Z",
     "start_time": "2022-06-09T13:22:39.440304Z"
    },
    "scrolled": true
   },
   "outputs": [
    {
     "data": {
      "text/plain": [
       "array([80.        , 79.83333333, 79.66666667, 79.5       , 79.33333333,\n",
       "       79.16666667, 79.        , 78.83333333, 78.66666667, 78.5       ,\n",
       "       78.33333333, 78.16666667, 78.        , 77.83333333, 77.66666667,\n",
       "       77.5       , 77.33333333, 77.16666667, 77.        , 76.83333333,\n",
       "       76.66666667, 76.5       , 76.33333333, 76.16666667, 76.        ,\n",
       "       75.83333333, 75.66666667, 75.5       , 75.33333333, 75.16666667,\n",
       "       75.        ])"
      ]
     },
     "execution_count": 22,
     "metadata": {},
     "output_type": "execute_result"
    }
   ],
   "source": [
    "# 80~75를 30등분하는 실수형 배열을 생성합니다.\n",
    "np.linspace(start = 80, stop = 75, num = 30+1)"
   ]
  },
  {
   "cell_type": "markdown",
   "id": "60369222",
   "metadata": {},
   "source": [
    "### 원소를 반복한 배열 생성"
   ]
  },
  {
   "cell_type": "code",
   "execution_count": 23,
   "id": "13beded3",
   "metadata": {
    "ExecuteTime": {
     "end_time": "2022-06-09T13:22:39.448851Z",
     "start_time": "2022-06-09T13:22:39.445636Z"
    }
   },
   "outputs": [
    {
     "data": {
      "text/plain": [
       "array(['1', '2.0', '3', '1', '2.0', '3'], dtype='<U32')"
      ]
     },
     "execution_count": 23,
     "metadata": {},
     "output_type": "execute_result"
    }
   ],
   "source": [
    "# 배열의 전체 원소를 두 번 반복합니다.\n",
    "np.tile(A = ar1, reps = 2)"
   ]
  },
  {
   "cell_type": "code",
   "execution_count": 24,
   "id": "434a9b35",
   "metadata": {
    "ExecuteTime": {
     "end_time": "2022-06-09T13:22:39.454994Z",
     "start_time": "2022-06-09T13:22:39.450680Z"
    }
   },
   "outputs": [
    {
     "data": {
      "text/plain": [
       "array(['1', '1', '2.0', '2.0', '3', '3'], dtype='<U32')"
      ]
     },
     "execution_count": 24,
     "metadata": {},
     "output_type": "execute_result"
    }
   ],
   "source": [
    "# 배열의 각 원소를 두 번씩 반복합니다.\n",
    "np.repeat(a = ar1, repeats = 2)"
   ]
  },
  {
   "cell_type": "code",
   "execution_count": 25,
   "id": "3a3dfa80",
   "metadata": {
    "ExecuteTime": {
     "end_time": "2022-06-09T13:22:39.462120Z",
     "start_time": "2022-06-09T13:22:39.457738Z"
    }
   },
   "outputs": [
    {
     "data": {
      "text/plain": [
       "array(['1', '1', '1', '2.0', '2.0', '3'], dtype='<U32')"
      ]
     },
     "execution_count": 25,
     "metadata": {},
     "output_type": "execute_result"
    }
   ],
   "source": [
    "# 배열 원소별로 반복할 횟수를 지정합니다.\n",
    "np.repeat(a = ar1, repeats = [3, 2, 1])"
   ]
  },
  {
   "cell_type": "code",
   "execution_count": 26,
   "id": "ac0bfe4d",
   "metadata": {
    "ExecuteTime": {
     "end_time": "2022-06-09T13:22:39.467941Z",
     "start_time": "2022-06-09T13:22:39.464442Z"
    }
   },
   "outputs": [
    {
     "data": {
      "text/plain": [
       "array(['1', '1', '1', '2.0', '2.0', '3'], dtype='<U32')"
      ]
     },
     "execution_count": 26,
     "metadata": {},
     "output_type": "execute_result"
    }
   ],
   "source": [
    "# 반복 횟수를 range() 함수로 지정할 수 있습니다.\n",
    "np.repeat(a = ar1, repeats = range(3, 0, -1))"
   ]
  },
  {
   "cell_type": "markdown",
   "id": "fifth-medium",
   "metadata": {},
   "source": [
    "### 1차원 배열 인덱싱 및 슬라이싱"
   ]
  },
  {
   "cell_type": "code",
   "execution_count": 27,
   "id": "statutory-resolution",
   "metadata": {
    "ExecuteTime": {
     "end_time": "2022-06-09T13:22:39.472078Z",
     "start_time": "2022-06-09T13:22:39.469764Z"
    }
   },
   "outputs": [],
   "source": [
    "# 1부터 11까지 홀수인 정수를 원소로 갖는 1차원 배열을 생성합니다. \n",
    "ar1 = np.arange(start = 1, stop = 12, step = 2)"
   ]
  },
  {
   "cell_type": "code",
   "execution_count": 28,
   "id": "raised-richardson",
   "metadata": {
    "ExecuteTime": {
     "end_time": "2022-06-09T13:22:39.483677Z",
     "start_time": "2022-06-09T13:22:39.480279Z"
    }
   },
   "outputs": [
    {
     "data": {
      "text/plain": [
       "1"
      ]
     },
     "execution_count": 28,
     "metadata": {},
     "output_type": "execute_result"
    }
   ],
   "source": [
    "# ar1의 0번 인덱스(첫 번째) 원소를 선택합니다.\n",
    "ar1[0]"
   ]
  },
  {
   "cell_type": "code",
   "execution_count": 29,
   "id": "velvet-bottom",
   "metadata": {
    "ExecuteTime": {
     "end_time": "2022-06-09T13:22:39.488229Z",
     "start_time": "2022-06-09T13:22:39.485241Z"
    }
   },
   "outputs": [
    {
     "data": {
      "text/plain": [
       "3"
      ]
     },
     "execution_count": 29,
     "metadata": {},
     "output_type": "execute_result"
    }
   ],
   "source": [
    "# ar1의 1번 인덱스(두 번째) 원소를 선택합니다.\n",
    "ar1[1]"
   ]
  },
  {
   "cell_type": "code",
   "execution_count": 30,
   "id": "pressed-import",
   "metadata": {
    "ExecuteTime": {
     "end_time": "2022-06-09T13:22:39.492601Z",
     "start_time": "2022-06-09T13:22:39.489841Z"
    }
   },
   "outputs": [
    {
     "data": {
      "text/plain": [
       "11"
      ]
     },
     "execution_count": 30,
     "metadata": {},
     "output_type": "execute_result"
    }
   ],
   "source": [
    "# ar1의 -1번 인덱스(마지막) 원소를 선택합니다.\n",
    "ar1[-1]"
   ]
  },
  {
   "cell_type": "code",
   "execution_count": 31,
   "id": "checked-madonna",
   "metadata": {
    "ExecuteTime": {
     "end_time": "2022-06-09T13:22:39.497383Z",
     "start_time": "2022-06-09T13:22:39.494269Z"
    }
   },
   "outputs": [
    {
     "data": {
      "text/plain": [
       "array([1, 3, 5])"
      ]
     },
     "execution_count": 31,
     "metadata": {},
     "output_type": "execute_result"
    }
   ],
   "source": [
    "# ar1의 0~2번 인덱스 원소를 선택합니다. \n",
    "ar1[:3]"
   ]
  },
  {
   "cell_type": "code",
   "execution_count": 32,
   "id": "thorough-jacket",
   "metadata": {
    "ExecuteTime": {
     "end_time": "2022-06-09T13:22:39.501975Z",
     "start_time": "2022-06-09T13:22:39.499067Z"
    }
   },
   "outputs": [
    {
     "data": {
      "text/plain": [
       "array([ 7,  9, 11])"
      ]
     },
     "execution_count": 32,
     "metadata": {},
     "output_type": "execute_result"
    }
   ],
   "source": [
    "# ar1의 3번 인덱스 원소부터 마지막 원소까지 선택합니다.\n",
    "ar1[3:]"
   ]
  },
  {
   "cell_type": "code",
   "execution_count": 33,
   "id": "controlling-transparency",
   "metadata": {
    "ExecuteTime": {
     "end_time": "2022-06-09T13:22:39.506410Z",
     "start_time": "2022-06-09T13:22:39.503575Z"
    }
   },
   "outputs": [
    {
     "data": {
      "text/plain": [
       "array([7, 5, 3])"
      ]
     },
     "execution_count": 33,
     "metadata": {},
     "output_type": "execute_result"
    }
   ],
   "source": [
    "# 정수 스칼라 또는 슬라이스 대신 리스트를 지정하는 배열 인덱싱이 가능합니다.\n",
    "# [주의] 리스트는 배열 인덱싱을 실행할 수 없습니다!\n",
    "ar1[[3, 2, 1]]"
   ]
  },
  {
   "cell_type": "code",
   "execution_count": 34,
   "id": "controlled-binary",
   "metadata": {
    "ExecuteTime": {
     "end_time": "2022-06-09T13:22:39.516244Z",
     "start_time": "2022-06-09T13:22:39.512902Z"
    }
   },
   "outputs": [
    {
     "data": {
      "text/plain": [
       "array([7, 7, 7])"
      ]
     },
     "execution_count": 34,
     "metadata": {},
     "output_type": "execute_result"
    }
   ],
   "source": [
    "# 리스트 원소를 반복하면 같은 원소를 여러 번 선택합니다.\n",
    "ar1[[3, 3, 3]]"
   ]
  },
  {
   "cell_type": "markdown",
   "id": "neural-norman",
   "metadata": {},
   "source": [
    "### 2차원 배열 생성"
   ]
  },
  {
   "cell_type": "code",
   "execution_count": 35,
   "id": "spanish-flexibility",
   "metadata": {
    "ExecuteTime": {
     "end_time": "2022-06-09T13:22:39.525080Z",
     "start_time": "2022-06-09T13:22:39.522824Z"
    }
   },
   "outputs": [],
   "source": [
    "# 같은 길이의 리스트를 원소로 갖는 리스트로 2차원 배열을 생성합니다.\n",
    "ar2 = np.array(object = [[1, 2, 3], [4, 5, 6]])"
   ]
  },
  {
   "cell_type": "code",
   "execution_count": 36,
   "id": "architectural-wallpaper",
   "metadata": {
    "ExecuteTime": {
     "end_time": "2022-06-09T13:22:39.530105Z",
     "start_time": "2022-06-09T13:22:39.526770Z"
    }
   },
   "outputs": [
    {
     "data": {
      "text/plain": [
       "array([[1, 2, 3],\n",
       "       [4, 5, 6]])"
      ]
     },
     "execution_count": 36,
     "metadata": {},
     "output_type": "execute_result"
    }
   ],
   "source": [
    "# ar2를 출력합니다. 전체 원소를 2행 3열로 배치합니다.\n",
    "ar2"
   ]
  },
  {
   "cell_type": "code",
   "execution_count": 37,
   "id": "dutch-saying",
   "metadata": {
    "ExecuteTime": {
     "end_time": "2022-06-09T13:22:39.535065Z",
     "start_time": "2022-06-09T13:22:39.531902Z"
    }
   },
   "outputs": [
    {
     "data": {
      "text/plain": [
       "numpy.ndarray"
      ]
     },
     "execution_count": 37,
     "metadata": {},
     "output_type": "execute_result"
    }
   ],
   "source": [
    "# ar2의 클래스를 확인합니다. ar2의 클래스는 numpy.ndarray입니다.\n",
    "type(ar2)"
   ]
  },
  {
   "cell_type": "code",
   "execution_count": 38,
   "id": "minimal-allowance",
   "metadata": {
    "ExecuteTime": {
     "end_time": "2022-06-09T13:22:39.544449Z",
     "start_time": "2022-06-09T13:22:39.541126Z"
    }
   },
   "outputs": [
    {
     "data": {
      "text/plain": [
       "(2, 3)"
      ]
     },
     "execution_count": 38,
     "metadata": {},
     "output_type": "execute_result"
    }
   ],
   "source": [
    "# ar2의 형태(행 개수, 열 개수)를 확인합니다.\n",
    "ar2.shape"
   ]
  },
  {
   "cell_type": "code",
   "execution_count": 39,
   "id": "f0609a42",
   "metadata": {},
   "outputs": [
    {
     "data": {
      "text/plain": [
       "6"
      ]
     },
     "execution_count": 39,
     "metadata": {},
     "output_type": "execute_result"
    }
   ],
   "source": [
    "# ar2의 원소 개수를 확인합니다.\n",
    "ar2.size"
   ]
  },
  {
   "cell_type": "code",
   "execution_count": 40,
   "id": "instant-solution",
   "metadata": {
    "ExecuteTime": {
     "end_time": "2022-06-09T13:22:39.550254Z",
     "start_time": "2022-06-09T13:22:39.546346Z"
    }
   },
   "outputs": [
    {
     "data": {
      "text/plain": [
       "dtype('int64')"
      ]
     },
     "execution_count": 40,
     "metadata": {},
     "output_type": "execute_result"
    }
   ],
   "source": [
    "# ar2의 원소 자료형을 확인합니다. ar2의 원소 자료형은 numpy.int64입니다.\n",
    "ar2.dtype"
   ]
  },
  {
   "cell_type": "markdown",
   "id": "patent-recorder",
   "metadata": {},
   "source": [
    "### 배열의 재구조화"
   ]
  },
  {
   "cell_type": "code",
   "execution_count": 41,
   "id": "stable-capital",
   "metadata": {
    "ExecuteTime": {
     "end_time": "2022-06-09T13:22:39.555432Z",
     "start_time": "2022-06-09T13:22:39.552765Z"
    }
   },
   "outputs": [],
   "source": [
    "# 0부터 11까지 12개의 정수를 원소로 갖는 1차원 배열을 생성합니다.\n",
    "ar1 = np.arange(12)"
   ]
  },
  {
   "cell_type": "code",
   "execution_count": 42,
   "id": "utility-acrobat",
   "metadata": {
    "ExecuteTime": {
     "end_time": "2022-06-09T13:22:39.560477Z",
     "start_time": "2022-06-09T13:22:39.557219Z"
    }
   },
   "outputs": [
    {
     "data": {
      "text/plain": [
       "array([[ 0,  1,  2],\n",
       "       [ 3,  4,  5],\n",
       "       [ 6,  7,  8],\n",
       "       [ 9, 10, 11]])"
      ]
     },
     "execution_count": 42,
     "metadata": {},
     "output_type": "execute_result"
    }
   ],
   "source": [
    "# ar1을 4행 3열인 2차원 배열로 변환합니다. 원소 입력 방향은 가로입니다.\n",
    "# [주의] 1차원 배열 원소 개수의 약수만 행 또는 열 개수로 설정할 수 있습니다.\n",
    "ar1.reshape(4, 3)"
   ]
  },
  {
   "cell_type": "code",
   "execution_count": 43,
   "id": "animal-professor",
   "metadata": {
    "ExecuteTime": {
     "end_time": "2022-06-09T13:22:39.565569Z",
     "start_time": "2022-06-09T13:22:39.562167Z"
    }
   },
   "outputs": [
    {
     "data": {
      "text/plain": [
       "array([[ 0,  4,  8],\n",
       "       [ 1,  5,  9],\n",
       "       [ 2,  6, 10],\n",
       "       [ 3,  7, 11]])"
      ]
     },
     "execution_count": 43,
     "metadata": {},
     "output_type": "execute_result"
    }
   ],
   "source": [
    "# order = 'F'를 추가하면 원소 입력 방향을 세로로 변경합니다.\n",
    "# [참고] order 매개변수에 전달하는 인수의 기본값은 'C'입니다.\n",
    "ar1.reshape(4, 3, order = 'F')"
   ]
  },
  {
   "cell_type": "code",
   "execution_count": 44,
   "id": "lucky-stretch",
   "metadata": {
    "ExecuteTime": {
     "end_time": "2022-06-09T13:22:39.570743Z",
     "start_time": "2022-06-09T13:22:39.567100Z"
    }
   },
   "outputs": [
    {
     "data": {
      "text/plain": [
       "array([[ 0,  1,  2],\n",
       "       [ 3,  4,  5],\n",
       "       [ 6,  7,  8],\n",
       "       [ 9, 10, 11]])"
      ]
     },
     "execution_count": 44,
     "metadata": {},
     "output_type": "execute_result"
    }
   ],
   "source": [
    "# ar1을 4행 3열인 2차원 배열로 변환하고 ar2에 할당합니다.\n",
    "# [참고] 열 위치에 -1을 지정하면 열 개수를 자동 계산합니다.\n",
    "ar2 = ar1.reshape(4, -1)\n",
    "ar2"
   ]
  },
  {
   "cell_type": "code",
   "execution_count": 45,
   "id": "8f394354",
   "metadata": {
    "ExecuteTime": {
     "end_time": "2022-06-09T13:22:39.576005Z",
     "start_time": "2022-06-09T13:22:39.572720Z"
    }
   },
   "outputs": [
    {
     "data": {
      "text/plain": [
       "array([ 0,  1,  2,  3,  4,  5,  6,  7,  8,  9, 10, 11])"
      ]
     },
     "execution_count": 45,
     "metadata": {},
     "output_type": "execute_result"
    }
   ],
   "source": [
    "# 2차원 배열을 1차원 배열로 변환합니다.\n",
    "ar2.flatten()"
   ]
  },
  {
   "cell_type": "markdown",
   "id": "3e891501",
   "metadata": {},
   "source": [
    "### [참고] 배열의 결합"
   ]
  },
  {
   "cell_type": "code",
   "execution_count": 46,
   "id": "1250532c",
   "metadata": {},
   "outputs": [
    {
     "data": {
      "text/plain": [
       "array([[ 0,  0],\n",
       "       [ 1,  1],\n",
       "       [ 2,  2],\n",
       "       [ 3,  3],\n",
       "       [ 4,  4],\n",
       "       [ 5,  5],\n",
       "       [ 6,  6],\n",
       "       [ 7,  7],\n",
       "       [ 8,  8],\n",
       "       [ 9,  9],\n",
       "       [10, 10],\n",
       "       [11, 11]])"
      ]
     },
     "execution_count": 46,
     "metadata": {},
     "output_type": "execute_result"
    }
   ],
   "source": [
    "# 원소 개수가 같은 1차원 배열을 가로 방향으로 쌓은 2차원 배열을 생성합니다.\n",
    "np.column_stack(tup = (ar1, ar1))"
   ]
  },
  {
   "cell_type": "code",
   "execution_count": 47,
   "id": "5ab1dac9",
   "metadata": {},
   "outputs": [
    {
     "data": {
      "text/plain": [
       "array([[ 0,  1,  2,  3,  4,  5,  6,  7,  8,  9, 10, 11],\n",
       "       [ 0,  1,  2,  3,  4,  5,  6,  7,  8,  9, 10, 11]])"
      ]
     },
     "execution_count": 47,
     "metadata": {},
     "output_type": "execute_result"
    }
   ],
   "source": [
    "# 원소 개수가 같은 1차원 배열을 세로 방향으로 쌓은 2차원 배열을 생성합니다.\n",
    "np.row_stack(tup = (ar1, ar1))"
   ]
  },
  {
   "cell_type": "code",
   "execution_count": 48,
   "id": "b1a58ee5",
   "metadata": {},
   "outputs": [
    {
     "data": {
      "text/plain": [
       "array([ 0,  1,  2,  3,  4,  5,  6,  7,  8,  9, 10, 11,  0,  1,  2,  3,  4,\n",
       "        5,  6,  7,  8,  9, 10, 11])"
      ]
     },
     "execution_count": 48,
     "metadata": {},
     "output_type": "execute_result"
    }
   ],
   "source": [
    "# 두 개 이상의 1차원 배열을 일렬로 결합하여 커다란 1차원 배열을 생성합니다.\n",
    "# [참고] 리스트를 + 연산자로 결합하는 것과 같은 동작입니다.\n",
    "np.concatenate((ar1, ar1))"
   ]
  },
  {
   "cell_type": "markdown",
   "id": "visible-router",
   "metadata": {},
   "source": [
    "### 2차원 배열 인덱싱 및 슬라이싱"
   ]
  },
  {
   "cell_type": "code",
   "execution_count": 49,
   "id": "lesbian-flooring",
   "metadata": {
    "ExecuteTime": {
     "end_time": "2022-06-09T13:22:39.580865Z",
     "start_time": "2022-06-09T13:22:39.577681Z"
    }
   },
   "outputs": [
    {
     "data": {
      "text/plain": [
       "0"
      ]
     },
     "execution_count": 49,
     "metadata": {},
     "output_type": "execute_result"
    }
   ],
   "source": [
    "# ar2의 1행 1열 원소를 선택합니다.\n",
    "ar2[0, 0]"
   ]
  },
  {
   "cell_type": "code",
   "execution_count": 50,
   "id": "legislative-horror",
   "metadata": {
    "ExecuteTime": {
     "end_time": "2022-06-09T13:22:39.585618Z",
     "start_time": "2022-06-09T13:22:39.582450Z"
    }
   },
   "outputs": [
    {
     "data": {
      "text/plain": [
       "4"
      ]
     },
     "execution_count": 50,
     "metadata": {},
     "output_type": "execute_result"
    }
   ],
   "source": [
    "# ar2의 2행 2열 원소를 선택합니다. \n",
    "ar2[1, 1]"
   ]
  },
  {
   "cell_type": "code",
   "execution_count": 51,
   "id": "answering-huntington",
   "metadata": {
    "ExecuteTime": {
     "end_time": "2022-06-09T13:22:39.590825Z",
     "start_time": "2022-06-09T13:22:39.587407Z"
    }
   },
   "outputs": [
    {
     "data": {
      "text/plain": [
       "array([[0, 1],\n",
       "       [3, 4]])"
      ]
     },
     "execution_count": 51,
     "metadata": {},
     "output_type": "execute_result"
    }
   ],
   "source": [
    "# ar2의 1~2행 1~2열 원소를 선택합니다.\n",
    "ar2[0:2, 0:2]"
   ]
  },
  {
   "cell_type": "code",
   "execution_count": 52,
   "id": "fiscal-reaction",
   "metadata": {
    "ExecuteTime": {
     "end_time": "2022-06-09T13:22:39.595930Z",
     "start_time": "2022-06-09T13:22:39.592630Z"
    }
   },
   "outputs": [
    {
     "data": {
      "text/plain": [
       "array([[ 1,  2],\n",
       "       [ 4,  5],\n",
       "       [ 7,  8],\n",
       "       [10, 11]])"
      ]
     },
     "execution_count": 52,
     "metadata": {},
     "output_type": "execute_result"
    }
   ],
   "source": [
    "# ar2의 전체 행 2~3열 원소를 선택합니다.\n",
    "# [주의] 전체 행을 선택하려면 빈 콜론을 추가합니다.\n",
    "ar2[:, 1:3]"
   ]
  },
  {
   "cell_type": "code",
   "execution_count": 53,
   "id": "exotic-start",
   "metadata": {
    "ExecuteTime": {
     "end_time": "2022-06-09T13:22:39.600835Z",
     "start_time": "2022-06-09T13:22:39.597574Z"
    }
   },
   "outputs": [
    {
     "data": {
      "text/plain": [
       "array([[ 2,  1],\n",
       "       [ 5,  4],\n",
       "       [ 8,  7],\n",
       "       [11, 10]])"
      ]
     },
     "execution_count": 53,
     "metadata": {},
     "output_type": "execute_result"
    }
   ],
   "source": [
    "# ar2의 일부 열 순서를 변경합니다.\n",
    "# [주의] 행과 열 순서를 함께 변경할 수 없습니다.\n",
    "ar2[:, [2, 1]]"
   ]
  },
  {
   "cell_type": "markdown",
   "id": "64515bb3",
   "metadata": {},
   "source": [
    "### 배열 산술 연산"
   ]
  },
  {
   "cell_type": "code",
   "execution_count": 54,
   "id": "58af504e",
   "metadata": {
    "ExecuteTime": {
     "end_time": "2022-06-09T13:22:39.605769Z",
     "start_time": "2022-06-09T13:22:39.602353Z"
    }
   },
   "outputs": [
    {
     "data": {
      "text/plain": [
       "array([0, 1, 2])"
      ]
     },
     "execution_count": 54,
     "metadata": {},
     "output_type": "execute_result"
    }
   ],
   "source": [
    "# 원소가 3개인 1차원 배열을 생성합니다.\n",
    "ar1 = np.array(object = range(3))\n",
    "ar1"
   ]
  },
  {
   "cell_type": "code",
   "execution_count": 55,
   "id": "ac043242",
   "metadata": {
    "ExecuteTime": {
     "end_time": "2022-06-09T13:22:39.610660Z",
     "start_time": "2022-06-09T13:22:39.607347Z"
    }
   },
   "outputs": [
    {
     "data": {
      "text/plain": [
       "array([[0],\n",
       "       [1],\n",
       "       [2]])"
      ]
     },
     "execution_count": 55,
     "metadata": {},
     "output_type": "execute_result"
    }
   ],
   "source": [
    "# 3행 1열인 2차원 배열을 생성합니다.\n",
    "ar2 = ar1.reshape(-1, 1)\n",
    "ar2"
   ]
  },
  {
   "cell_type": "code",
   "execution_count": 56,
   "id": "266a40e6",
   "metadata": {
    "ExecuteTime": {
     "end_time": "2022-06-09T13:22:39.615353Z",
     "start_time": "2022-06-09T13:22:39.612337Z"
    }
   },
   "outputs": [
    {
     "data": {
      "text/plain": [
       "array([1, 2, 3])"
      ]
     },
     "execution_count": 56,
     "metadata": {},
     "output_type": "execute_result"
    }
   ],
   "source": [
    "# ar1의 각 원소에 1을 더합니다.\n",
    "ar1 + 1"
   ]
  },
  {
   "cell_type": "code",
   "execution_count": 57,
   "id": "afdc62a2",
   "metadata": {
    "ExecuteTime": {
     "end_time": "2022-06-09T13:22:39.620105Z",
     "start_time": "2022-06-09T13:22:39.616947Z"
    }
   },
   "outputs": [
    {
     "data": {
      "text/plain": [
       "array([[0],\n",
       "       [2],\n",
       "       [4]])"
      ]
     },
     "execution_count": 57,
     "metadata": {},
     "output_type": "execute_result"
    }
   ],
   "source": [
    "# ar2의 각 원소에 2를 곱합니다.\n",
    "ar2 * 2"
   ]
  },
  {
   "cell_type": "code",
   "execution_count": 58,
   "id": "e24943b8",
   "metadata": {
    "ExecuteTime": {
     "end_time": "2022-06-09T13:22:39.625073Z",
     "start_time": "2022-06-09T13:22:39.621849Z"
    }
   },
   "outputs": [
    {
     "data": {
      "text/plain": [
       "array([[0, 1, 2],\n",
       "       [1, 2, 3],\n",
       "       [2, 3, 4]])"
      ]
     },
     "execution_count": 58,
     "metadata": {},
     "output_type": "execute_result"
    }
   ],
   "source": [
    "# ar1과 ar2를 더합니다.\n",
    "ar1 + ar2"
   ]
  },
  {
   "cell_type": "markdown",
   "id": "38b7b65c",
   "metadata": {},
   "source": [
    "### 수학 관련 값과 함수"
   ]
  },
  {
   "cell_type": "code",
   "execution_count": 59,
   "id": "317c8c6f",
   "metadata": {
    "ExecuteTime": {
     "end_time": "2022-06-09T13:22:39.629746Z",
     "start_time": "2022-06-09T13:22:39.626768Z"
    }
   },
   "outputs": [
    {
     "data": {
      "text/plain": [
       "2.718281828459045"
      ]
     },
     "execution_count": 59,
     "metadata": {},
     "output_type": "execute_result"
    }
   ],
   "source": [
    "# 자연상수(2.7182)를 반환합니다.\n",
    "np.e"
   ]
  },
  {
   "cell_type": "code",
   "execution_count": 60,
   "id": "402a2af9",
   "metadata": {
    "ExecuteTime": {
     "end_time": "2022-06-09T13:22:39.634266Z",
     "start_time": "2022-06-09T13:22:39.631312Z"
    }
   },
   "outputs": [
    {
     "data": {
      "text/plain": [
       "3.141592653589793"
      ]
     },
     "execution_count": 60,
     "metadata": {},
     "output_type": "execute_result"
    }
   ],
   "source": [
    "# 파이(3.141592)를 반환합니다.\n",
    "np.pi"
   ]
  },
  {
   "cell_type": "code",
   "execution_count": 61,
   "id": "e85c2989",
   "metadata": {
    "ExecuteTime": {
     "end_time": "2022-06-09T13:22:39.638772Z",
     "start_time": "2022-06-09T13:22:39.635894Z"
    }
   },
   "outputs": [
    {
     "data": {
      "text/plain": [
       "nan"
      ]
     },
     "execution_count": 61,
     "metadata": {},
     "output_type": "execute_result"
    }
   ],
   "source": [
    "# 결측값을 반환합니다.\n",
    "np.nan"
   ]
  },
  {
   "cell_type": "code",
   "execution_count": 62,
   "id": "a58214a1",
   "metadata": {
    "ExecuteTime": {
     "end_time": "2022-06-09T13:22:39.643963Z",
     "start_time": "2022-06-09T13:22:39.640362Z"
    }
   },
   "outputs": [
    {
     "data": {
      "text/plain": [
       "inf"
      ]
     },
     "execution_count": 62,
     "metadata": {},
     "output_type": "execute_result"
    }
   ],
   "source": [
    "# 무한대를 반환합니다.\n",
    "np.inf"
   ]
  },
  {
   "cell_type": "code",
   "execution_count": 63,
   "id": "7a7c0d78",
   "metadata": {
    "ExecuteTime": {
     "end_time": "2022-06-09T13:22:39.649277Z",
     "start_time": "2022-06-09T13:22:39.646094Z"
    }
   },
   "outputs": [
    {
     "data": {
      "text/plain": [
       "2.0"
      ]
     },
     "execution_count": 63,
     "metadata": {},
     "output_type": "execute_result"
    }
   ],
   "source": [
    "# 소수점을 버립니다.\n",
    "np.floor(np.e)"
   ]
  },
  {
   "cell_type": "code",
   "execution_count": 64,
   "id": "fd7d06b4",
   "metadata": {
    "ExecuteTime": {
     "end_time": "2022-06-09T13:22:39.654090Z",
     "start_time": "2022-06-09T13:22:39.650915Z"
    }
   },
   "outputs": [
    {
     "data": {
      "text/plain": [
       "4.0"
      ]
     },
     "execution_count": 64,
     "metadata": {},
     "output_type": "execute_result"
    }
   ],
   "source": [
    "# 소수점을 올립니다.\n",
    "np.ceil(np.pi)"
   ]
  },
  {
   "cell_type": "code",
   "execution_count": 65,
   "id": "fe6fa3d5",
   "metadata": {
    "ExecuteTime": {
     "end_time": "2022-06-09T13:22:39.659320Z",
     "start_time": "2022-06-09T13:22:39.656015Z"
    }
   },
   "outputs": [
    {
     "data": {
      "text/plain": [
       "2.72"
      ]
     },
     "execution_count": 65,
     "metadata": {},
     "output_type": "execute_result"
    }
   ],
   "source": [
    "# 소수점 둘째자리까지 남도록 반올림합니다.\n",
    "np.round(np.e, 2)"
   ]
  },
  {
   "cell_type": "code",
   "execution_count": 66,
   "id": "c4fb4e35",
   "metadata": {
    "ExecuteTime": {
     "end_time": "2022-06-09T13:22:39.664727Z",
     "start_time": "2022-06-09T13:22:39.661657Z"
    }
   },
   "outputs": [
    {
     "data": {
      "text/plain": [
       "2.0"
      ]
     },
     "execution_count": 66,
     "metadata": {},
     "output_type": "execute_result"
    }
   ],
   "source": [
    "# 제곱근을 반환합니다.\n",
    "np.sqrt(4)"
   ]
  },
  {
   "cell_type": "code",
   "execution_count": 67,
   "id": "05bd1458",
   "metadata": {
    "ExecuteTime": {
     "end_time": "2022-06-09T13:22:39.669655Z",
     "start_time": "2022-06-09T13:22:39.666423Z"
    }
   },
   "outputs": [
    {
     "data": {
      "text/plain": [
       "8"
      ]
     },
     "execution_count": 67,
     "metadata": {},
     "output_type": "execute_result"
    }
   ],
   "source": [
    "# 거듭제곱을 반환합니다.\n",
    "np.power(2, 3)"
   ]
  },
  {
   "cell_type": "code",
   "execution_count": 68,
   "id": "2638b184",
   "metadata": {
    "ExecuteTime": {
     "end_time": "2022-06-09T13:22:39.674132Z",
     "start_time": "2022-06-09T13:22:39.671294Z"
    }
   },
   "outputs": [
    {
     "data": {
      "text/plain": [
       "2.718281828459045"
      ]
     },
     "execution_count": 68,
     "metadata": {},
     "output_type": "execute_result"
    }
   ],
   "source": [
    "# 자연상수 거듭제곱을 반환합니다.\n",
    "np.exp(1)"
   ]
  },
  {
   "cell_type": "code",
   "execution_count": 69,
   "id": "b4df29e2",
   "metadata": {
    "ExecuteTime": {
     "end_time": "2022-06-09T13:22:39.678895Z",
     "start_time": "2022-06-09T13:22:39.675886Z"
    }
   },
   "outputs": [
    {
     "data": {
      "text/plain": [
       "2.302585092994046"
      ]
     },
     "execution_count": 69,
     "metadata": {},
     "output_type": "execute_result"
    }
   ],
   "source": [
    "# 자연로그를 반환합니다.\n",
    "np.log(10)"
   ]
  },
  {
   "cell_type": "code",
   "execution_count": 70,
   "id": "7b414f96",
   "metadata": {
    "ExecuteTime": {
     "end_time": "2022-06-09T13:22:39.683297Z",
     "start_time": "2022-06-09T13:22:39.680402Z"
    },
    "scrolled": true
   },
   "outputs": [
    {
     "data": {
      "text/plain": [
       "3"
      ]
     },
     "execution_count": 70,
     "metadata": {},
     "output_type": "execute_result"
    }
   ],
   "source": [
    "# 모든 원소를 더합니다.\n",
    "np.sum(ar1)"
   ]
  },
  {
   "cell_type": "code",
   "execution_count": 71,
   "id": "63e29631",
   "metadata": {
    "ExecuteTime": {
     "end_time": "2022-06-09T13:22:39.688278Z",
     "start_time": "2022-06-09T13:22:39.684964Z"
    }
   },
   "outputs": [
    {
     "data": {
      "text/plain": [
       "0"
      ]
     },
     "execution_count": 71,
     "metadata": {},
     "output_type": "execute_result"
    }
   ],
   "source": [
    "# 모든 원소를 곱합니다.\n",
    "np.prod(ar1)"
   ]
  },
  {
   "cell_type": "code",
   "execution_count": 72,
   "id": "09d72f29",
   "metadata": {
    "ExecuteTime": {
     "end_time": "2022-06-09T13:22:39.693085Z",
     "start_time": "2022-06-09T13:22:39.689902Z"
    }
   },
   "outputs": [
    {
     "data": {
      "text/plain": [
       "array([1, 1])"
      ]
     },
     "execution_count": 72,
     "metadata": {},
     "output_type": "execute_result"
    }
   ],
   "source": [
    "# 원소의 차이를 반환합니다.\n",
    "np.diff(ar1)"
   ]
  },
  {
   "cell_type": "code",
   "execution_count": 73,
   "id": "f15dd6b8",
   "metadata": {
    "ExecuteTime": {
     "end_time": "2022-06-09T13:22:39.697987Z",
     "start_time": "2022-06-09T13:22:39.694745Z"
    }
   },
   "outputs": [
    {
     "data": {
      "text/plain": [
       "0"
      ]
     },
     "execution_count": 73,
     "metadata": {},
     "output_type": "execute_result"
    }
   ],
   "source": [
    "# 최솟값을 반환합니다.\n",
    "np.min(ar1)"
   ]
  },
  {
   "cell_type": "code",
   "execution_count": 74,
   "id": "67ca03a4",
   "metadata": {
    "ExecuteTime": {
     "end_time": "2022-06-09T13:22:39.702725Z",
     "start_time": "2022-06-09T13:22:39.699694Z"
    }
   },
   "outputs": [
    {
     "data": {
      "text/plain": [
       "2"
      ]
     },
     "execution_count": 74,
     "metadata": {},
     "output_type": "execute_result"
    }
   ],
   "source": [
    "# 최댓값을 반환합니다.\n",
    "np.max(ar1)"
   ]
  },
  {
   "cell_type": "code",
   "execution_count": 75,
   "id": "440f9b71",
   "metadata": {
    "ExecuteTime": {
     "end_time": "2022-06-09T13:22:39.707500Z",
     "start_time": "2022-06-09T13:22:39.704390Z"
    }
   },
   "outputs": [
    {
     "data": {
      "text/plain": [
       "1.0"
      ]
     },
     "execution_count": 75,
     "metadata": {},
     "output_type": "execute_result"
    }
   ],
   "source": [
    "# 평균을 반환합니다.\n",
    "np.mean(ar1)"
   ]
  },
  {
   "cell_type": "code",
   "execution_count": 76,
   "id": "c927af65",
   "metadata": {
    "ExecuteTime": {
     "end_time": "2022-06-09T13:22:39.712142Z",
     "start_time": "2022-06-09T13:22:39.709115Z"
    }
   },
   "outputs": [
    {
     "data": {
      "text/plain": [
       "1.0"
      ]
     },
     "execution_count": 76,
     "metadata": {},
     "output_type": "execute_result"
    }
   ],
   "source": [
    "# 중위수를 반환합니다.\n",
    "np.median(ar1)"
   ]
  },
  {
   "cell_type": "code",
   "execution_count": 77,
   "id": "f18b3040",
   "metadata": {
    "ExecuteTime": {
     "end_time": "2022-06-09T13:22:39.717043Z",
     "start_time": "2022-06-09T13:22:39.713825Z"
    }
   },
   "outputs": [
    {
     "data": {
      "text/plain": [
       "0.6666666666666666"
      ]
     },
     "execution_count": 77,
     "metadata": {},
     "output_type": "execute_result"
    }
   ],
   "source": [
    "# 분산을 반환합니다.\n",
    "np.var(ar1)"
   ]
  },
  {
   "cell_type": "code",
   "execution_count": 78,
   "id": "6c9ef401",
   "metadata": {
    "ExecuteTime": {
     "end_time": "2022-06-09T13:22:39.721738Z",
     "start_time": "2022-06-09T13:22:39.718596Z"
    }
   },
   "outputs": [
    {
     "data": {
      "text/plain": [
       "0.816496580927726"
      ]
     },
     "execution_count": 78,
     "metadata": {},
     "output_type": "execute_result"
    }
   ],
   "source": [
    "# 표준편차를 반환합니다.\n",
    "np.std(ar1)"
   ]
  },
  {
   "cell_type": "code",
   "execution_count": 79,
   "id": "caad3e4b",
   "metadata": {
    "ExecuteTime": {
     "end_time": "2022-06-09T13:22:39.726316Z",
     "start_time": "2022-06-09T13:22:39.723349Z"
    }
   },
   "outputs": [
    {
     "data": {
      "text/plain": [
       "3"
      ]
     },
     "execution_count": 79,
     "metadata": {},
     "output_type": "execute_result"
    }
   ],
   "source": [
    "# 원소 개수를 반환합니다.\n",
    "np.size(ar1)"
   ]
  },
  {
   "cell_type": "markdown",
   "id": "vocational-sacrifice",
   "metadata": {},
   "source": [
    "## End of Document"
   ]
  }
 ],
 "metadata": {
  "kernelspec": {
   "display_name": "Python 3 (ipykernel)",
   "language": "python",
   "name": "python3"
  },
  "language_info": {
   "codemirror_mode": {
    "name": "ipython",
    "version": 3
   },
   "file_extension": ".py",
   "mimetype": "text/x-python",
   "name": "python",
   "nbconvert_exporter": "python",
   "pygments_lexer": "ipython3",
   "version": "3.10.4"
  },
  "toc": {
   "base_numbering": 1,
   "nav_menu": {},
   "number_sections": false,
   "sideBar": true,
   "skip_h1_title": false,
   "title_cell": "Table of Contents",
   "title_sidebar": "Contents",
   "toc_cell": false,
   "toc_position": {},
   "toc_section_display": true,
   "toc_window_display": false
  },
  "varInspector": {
   "cols": {
    "lenName": 16,
    "lenType": 16,
    "lenVar": 40
   },
   "kernels_config": {
    "python": {
     "delete_cmd_postfix": "",
     "delete_cmd_prefix": "del ",
     "library": "var_list.py",
     "varRefreshCmd": "print(var_dic_list())"
    },
    "r": {
     "delete_cmd_postfix": ") ",
     "delete_cmd_prefix": "rm(",
     "library": "var_list.r",
     "varRefreshCmd": "cat(var_dic_list()) "
    }
   },
   "types_to_exclude": [
    "module",
    "function",
    "builtin_function_or_method",
    "instance",
    "_Feature"
   ],
   "window_display": false
  }
 },
 "nbformat": 4,
 "nbformat_minor": 5
}
