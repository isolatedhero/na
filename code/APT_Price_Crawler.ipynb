{
 "cells": [
  {
   "cell_type": "raw",
   "id": "01e89d07-60d8-425a-be13-209e4250437c",
   "metadata": {},
   "source": [
    "!pip install xmltodict"
   ]
  },
  {
   "cell_type": "code",
   "execution_count": null,
   "id": "2e95b511-8e4a-4319-8bc2-0cdd2d933b91",
   "metadata": {},
   "outputs": [],
   "source": [
    "import requests\n",
    "import xmltodict\n",
    "import pandas as pd\n",
    "import numpy as np"
   ]
  },
  {
   "cell_type": "code",
   "execution_count": null,
   "id": "7c9ed3c2-af3a-4198-8ae8-c8b4daab0cdf",
   "metadata": {},
   "outputs": [],
   "source": [
    "# 공공데이터포털 api key(decoding)\n",
    "key = ''"
   ]
  },
  {
   "cell_type": "code",
   "execution_count": null,
   "id": "fd3f8238-37db-476a-b3dc-5e806e6c4b40",
   "metadata": {},
   "outputs": [],
   "source": [
    "def getAptPrice(areaCd, ymonth, apiKey):\n",
    "    url = 'http://openapi.molit.go.kr:8081/'\n",
    "    path = 'OpenAPI_ToolInstallPackage/service/rest/RTMSOBJSvc/'\n",
    "    oper = 'getRTMSDataSvcAptTrade'\n",
    "    qry = {\n",
    "        'serviceKey': apiKey,\n",
    "        'LAWD_CD': areaCd,\n",
    "        'DEAL_YMD': ymonth\n",
    "    }\n",
    "    res = requests.get(url = url + path + oper, params = qry)\n",
    "    dat = xmltodict.parse(xml_input = res.text)\n",
    "    df = pd.DataFrame(data = dat['response']['body']['items']['item'])\n",
    "    return df"
   ]
  },
  {
   "cell_type": "code",
   "execution_count": null,
   "id": "45e5bc9e-8635-4f03-9494-c1a98b7d06e7",
   "metadata": {},
   "outputs": [],
   "source": [
    "months = [str(i) for i in range(202201, 202207)]"
   ]
  },
  {
   "cell_type": "code",
   "execution_count": null,
   "id": "7176f24a-1b34-437a-8760-862ee4639687",
   "metadata": {},
   "outputs": [],
   "source": [
    "apt = pd.DataFrame()\n",
    "for month in months:\n",
    "    df = getAptPrice(areaCd = '47210', ymonth = month, apiKey = key)\n",
    "    apt = pd.concat(objs = [apt, df], ignore_index = True)"
   ]
  },
  {
   "cell_type": "code",
   "execution_count": null,
   "id": "55bf06a5-5a5d-47fb-8886-d743145cd61d",
   "metadata": {},
   "outputs": [],
   "source": [
    "apt.info()"
   ]
  },
  {
   "cell_type": "code",
   "execution_count": null,
   "id": "2a680cf4-103f-4637-a081-aba312fda25b",
   "metadata": {},
   "outputs": [],
   "source": [
    "apt = apt.drop(columns = ['거래유형', '중개사소재지', '해제사유발생일', '해제여부'])"
   ]
  },
  {
   "cell_type": "code",
   "execution_count": null,
   "id": "7d09cfa0-06d0-4fa4-a789-9c361530c1ad",
   "metadata": {},
   "outputs": [],
   "source": [
    "apt.head()"
   ]
  },
  {
   "cell_type": "code",
   "execution_count": null,
   "id": "cfa26152-fa23-422a-b580-e153ad0c6b67",
   "metadata": {},
   "outputs": [],
   "source": [
    "apt['시도명'] = '경상북도'\n",
    "apt['시군구'] = '영주시'"
   ]
  },
  {
   "cell_type": "code",
   "execution_count": null,
   "id": "3fb8193f-242e-4097-a7e2-067fcde56a8d",
   "metadata": {},
   "outputs": [],
   "source": [
    "apt['거래일'] = apt[['년', '월', '일']].apply(lambda x: '-'.join(x), axis = 1)"
   ]
  },
  {
   "cell_type": "code",
   "execution_count": null,
   "id": "0637f828-cabb-48cf-8fc7-d452beffadbf",
   "metadata": {},
   "outputs": [],
   "source": [
    "apt['거래일'] = apt['거래일'].astype(np.datetime64)"
   ]
  },
  {
   "cell_type": "code",
   "execution_count": null,
   "id": "af66a8be-7d1b-4cc2-9e0c-adbf4a190333",
   "metadata": {},
   "outputs": [],
   "source": [
    "apt.columns"
   ]
  },
  {
   "cell_type": "code",
   "execution_count": null,
   "id": "3fbb72b5-46bf-4a1b-9ab1-83df75719b8c",
   "metadata": {},
   "outputs": [],
   "source": [
    "cols = ['지역코드', '아파트', '시도명', '시군구', '법정동', '지번', '거래일', '전용면적', '층', '거래금액']"
   ]
  },
  {
   "cell_type": "code",
   "execution_count": null,
   "id": "bd77c3aa-4c0c-40f1-9cc2-aaac0a65af60",
   "metadata": {},
   "outputs": [],
   "source": [
    "apt = apt[cols]"
   ]
  },
  {
   "cell_type": "code",
   "execution_count": null,
   "id": "68ed14aa-7108-48cb-be91-5e50023423ee",
   "metadata": {},
   "outputs": [],
   "source": [
    "apt.head()"
   ]
  },
  {
   "cell_type": "code",
   "execution_count": null,
   "id": "411839e9-ba2e-4132-8166-6855036a718f",
   "metadata": {},
   "outputs": [],
   "source": [
    "import os"
   ]
  },
  {
   "cell_type": "code",
   "execution_count": null,
   "id": "ae5b2405-5be6-403a-b72d-19d35b2accaa",
   "metadata": {},
   "outputs": [],
   "source": [
    "os.getcwd()"
   ]
  },
  {
   "cell_type": "code",
   "execution_count": null,
   "id": "9dda790a-223b-4223-a321-727df76a9e17",
   "metadata": {},
   "outputs": [],
   "source": [
    "os.chdir('../data')"
   ]
  },
  {
   "cell_type": "code",
   "execution_count": null,
   "id": "db475b9b-bc14-464b-a1e9-2c9e6b99a3eb",
   "metadata": {},
   "outputs": [],
   "source": [
    "apt.to_excel(excel_writer = 'APT_Price_Youngju_2022.xlsx', index = None)"
   ]
  },
  {
   "cell_type": "code",
   "execution_count": null,
   "id": "debc453c-ce24-423d-b4ab-db5cc9b486f9",
   "metadata": {},
   "outputs": [],
   "source": [
    "apt.to_csv(path_or_buf = 'APT_Price_Youngju_2022.csv', index = None)"
   ]
  },
  {
   "cell_type": "code",
   "execution_count": null,
   "id": "c6ef1617-5a01-4dd1-aded-43407c98c79a",
   "metadata": {},
   "outputs": [],
   "source": [
    "os.listdir()"
   ]
  },
  {
   "cell_type": "code",
   "execution_count": null,
   "id": "5f3f71dd-4e25-4566-8306-856cc15d2158",
   "metadata": {},
   "outputs": [],
   "source": []
  }
 ],
 "metadata": {
  "kernelspec": {
   "display_name": "Python 3",
   "language": "python",
   "name": "python3"
  },
  "language_info": {
   "codemirror_mode": {
    "name": "ipython",
    "version": 3
   },
   "file_extension": ".py",
   "mimetype": "text/x-python",
   "name": "python",
   "nbconvert_exporter": "python",
   "pygments_lexer": "ipython3",
   "version": "3.10.4"
  }
 },
 "nbformat": 4,
 "nbformat_minor": 5
}
