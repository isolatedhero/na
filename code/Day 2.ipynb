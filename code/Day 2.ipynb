{
 "cells": [
  {
   "cell_type": "markdown",
   "id": "c2dbbc22",
   "metadata": {},
   "source": [
    "## Day 2"
   ]
  },
  {
   "cell_type": "code",
   "execution_count": 1,
   "id": "57dc4ac2",
   "metadata": {},
   "outputs": [
    {
     "data": {
      "text/plain": [
       "{1, 2, 3}"
      ]
     },
     "execution_count": 1,
     "metadata": {},
     "output_type": "execute_result"
    }
   ],
   "source": [
    "s = {3, 1, 2, 1}\n",
    "s"
   ]
  },
  {
   "cell_type": "code",
   "execution_count": 2,
   "id": "3c9b3538",
   "metadata": {},
   "outputs": [
    {
     "data": {
      "text/plain": [
       "set"
      ]
     },
     "execution_count": 2,
     "metadata": {},
     "output_type": "execute_result"
    }
   ],
   "source": [
    "type(s)"
   ]
  },
  {
   "cell_type": "code",
   "execution_count": 3,
   "id": "f95d05ec",
   "metadata": {},
   "outputs": [
    {
     "data": {
      "text/plain": [
       "[1, 5, 3]"
      ]
     },
     "execution_count": 3,
     "metadata": {},
     "output_type": "execute_result"
    }
   ],
   "source": [
    "b = [1, 5, 3]\n",
    "b"
   ]
  },
  {
   "cell_type": "code",
   "execution_count": 10,
   "id": "e91429c5",
   "metadata": {},
   "outputs": [],
   "source": [
    "b = set(b)"
   ]
  },
  {
   "cell_type": "code",
   "execution_count": 5,
   "id": "6b503aec",
   "metadata": {},
   "outputs": [
    {
     "data": {
      "text/plain": [
       "[1, 2, 3]"
      ]
     },
     "execution_count": 5,
     "metadata": {},
     "output_type": "execute_result"
    }
   ],
   "source": [
    "list(s)"
   ]
  },
  {
   "cell_type": "code",
   "execution_count": 6,
   "id": "e9a95e68",
   "metadata": {},
   "outputs": [
    {
     "data": {
      "text/plain": [
       "{1, 3}"
      ]
     },
     "execution_count": 6,
     "metadata": {},
     "output_type": "execute_result"
    }
   ],
   "source": [
    "s & b"
   ]
  },
  {
   "cell_type": "code",
   "execution_count": 7,
   "id": "85bd6ea2",
   "metadata": {},
   "outputs": [
    {
     "data": {
      "text/plain": [
       "{1, 2, 3, 5}"
      ]
     },
     "execution_count": 7,
     "metadata": {},
     "output_type": "execute_result"
    }
   ],
   "source": [
    "s | b"
   ]
  },
  {
   "cell_type": "code",
   "execution_count": 9,
   "id": "98687cac",
   "metadata": {},
   "outputs": [
    {
     "data": {
      "text/plain": [
       "{2}"
      ]
     },
     "execution_count": 9,
     "metadata": {},
     "output_type": "execute_result"
    }
   ],
   "source": [
    "s - b"
   ]
  },
  {
   "cell_type": "code",
   "execution_count": 18,
   "id": "bdc312f7",
   "metadata": {},
   "outputs": [],
   "source": [
    "# 리스트 생성\n",
    "a = [1, 1.0, '1', '2', 2.0, 2]\n",
    "b = ['2', 2, 2.0, 3.0, 3, '3']"
   ]
  },
  {
   "cell_type": "code",
   "execution_count": 19,
   "id": "6c8d427b",
   "metadata": {},
   "outputs": [
    {
     "data": {
      "text/plain": [
       "{1, '1', '2', 2.0}"
      ]
     },
     "execution_count": 19,
     "metadata": {},
     "output_type": "execute_result"
    }
   ],
   "source": [
    "# 집합이 되면서 정수와 실수는 하나로 합쳐지는데 앞선 자료형으로 통일됨\n",
    "sa = set(a)\n",
    "sa"
   ]
  },
  {
   "cell_type": "code",
   "execution_count": 20,
   "id": "9b7b2756",
   "metadata": {},
   "outputs": [
    {
     "data": {
      "text/plain": [
       "{2, '2', '3', 3.0}"
      ]
     },
     "execution_count": 20,
     "metadata": {},
     "output_type": "execute_result"
    }
   ],
   "source": [
    "# 자료형의 순서는 정수, 문자열, 실수 순\n",
    "sb = set(b)\n",
    "sb"
   ]
  },
  {
   "cell_type": "code",
   "execution_count": 21,
   "id": "513df158",
   "metadata": {},
   "outputs": [
    {
     "data": {
      "text/plain": [
       "{2, '2'}"
      ]
     },
     "execution_count": 21,
     "metadata": {},
     "output_type": "execute_result"
    }
   ],
   "source": [
    "# 교집합은 뒤에 오는 집합의 자료형으로 통일됨\n",
    "sa & sb"
   ]
  },
  {
   "cell_type": "code",
   "execution_count": 22,
   "id": "99067f75",
   "metadata": {},
   "outputs": [
    {
     "data": {
      "text/plain": [
       "{1, '1', '2', 2.0, '3', 3.0}"
      ]
     },
     "execution_count": 22,
     "metadata": {},
     "output_type": "execute_result"
    }
   ],
   "source": [
    "# 합집합은 앞에 오는 집합의 자료형으로 통일됨\n",
    "sa | sb"
   ]
  },
  {
   "cell_type": "markdown",
   "id": "cbb87b8e",
   "metadata": {},
   "source": [
    "### 신민철님 질문"
   ]
  },
  {
   "cell_type": "code",
   "execution_count": 34,
   "id": "6cdf441c",
   "metadata": {},
   "outputs": [
    {
     "name": "stdout",
     "output_type": "stream",
     "text": [
      "sa는 {'2', 1, 2.0, '1'}\n",
      "sb는 {'2', 2, 3.0, '3'}\n",
      "교집합은 {'2', 2}\n",
      "합집합은 {1, 2.0, 3.0, '3', '2', '1'}\n"
     ]
    }
   ],
   "source": [
    "# 리스트 생성\n",
    "a = [1, 1.0, '1', '2', 2.0, 2]\n",
    "b = ['2', 2, 2.0, 3.0, 3, '3']\n",
    "\n",
    "# 집합이 되면서 정수와 실수는 하나로 합쳐지는데 앞선 자료형으로 통일됨\n",
    "sa = set(a)\n",
    "print('sa는', sa)\n",
    "\n",
    "# 자료형의 순서는 정수, 문자열, 실수 순\n",
    "sb = set(b)\n",
    "print('sb는', sb)\n",
    "\n",
    "# 교집합은 뒤에 오는 집합의 자료형으로 통일됨\n",
    "print('교집합은', sa & sb)\n",
    "\n",
    "# 합집합은 앞에 오는 집합의 자료형으로 통일됨\n",
    "print('합집합은', sa | sb)"
   ]
  },
  {
   "cell_type": "code",
   "execution_count": null,
   "id": "de832c67",
   "metadata": {},
   "outputs": [],
   "source": [
    "'교집합'"
   ]
  },
  {
   "cell_type": "code",
   "execution_count": null,
   "id": "ccf3bc02",
   "metadata": {},
   "outputs": [],
   "source": []
  },
  {
   "cell_type": "code",
   "execution_count": 1,
   "id": "72e0ff76",
   "metadata": {},
   "outputs": [
    {
     "name": "stdout",
     "output_type": "stream",
     "text": [
      "Interactive namespace is empty.\n"
     ]
    }
   ],
   "source": [
    "%whos"
   ]
  },
  {
   "cell_type": "code",
   "execution_count": 2,
   "id": "11f18763",
   "metadata": {},
   "outputs": [
    {
     "name": "stdout",
     "output_type": "stream",
     "text": [
      "전공: 응용통계학\n"
     ]
    }
   ],
   "source": [
    "major = input('전공: ')"
   ]
  },
  {
   "cell_type": "code",
   "execution_count": 3,
   "id": "25d75df0",
   "metadata": {},
   "outputs": [
    {
     "name": "stdout",
     "output_type": "stream",
     "text": [
      "Variable   Type    Data/Info\n",
      "----------------------------\n",
      "major      str     응용통계학\n"
     ]
    }
   ],
   "source": [
    "%whos"
   ]
  },
  {
   "cell_type": "code",
   "execution_count": 4,
   "id": "802e78c5",
   "metadata": {},
   "outputs": [
    {
     "name": "stdout",
     "output_type": "stream",
     "text": [
      "응용통계학\n"
     ]
    }
   ],
   "source": [
    "print(major)"
   ]
  },
  {
   "cell_type": "code",
   "execution_count": 7,
   "id": "1ea587d4",
   "metadata": {},
   "outputs": [
    {
     "name": "stdout",
     "output_type": "stream",
     "text": [
      "전공: 경제학\n",
      "Study anything!\n"
     ]
    }
   ],
   "source": [
    "major = input('전공: ')\n",
    "if '통계' in major:\n",
    "    print('Study R!')\n",
    "elif '컴퓨터' in major:\n",
    "    print('Study Python!')\n",
    "else:\n",
    "    print('Study anything!')"
   ]
  },
  {
   "cell_type": "code",
   "execution_count": 8,
   "id": "af3e7f25",
   "metadata": {},
   "outputs": [],
   "source": [
    "menu = ['짜장면', '탕수육', '짬뽕', '깐풍기', '전가복', '샥스핀']"
   ]
  },
  {
   "cell_type": "code",
   "execution_count": 11,
   "id": "263fae7e",
   "metadata": {},
   "outputs": [
    {
     "name": "stdout",
     "output_type": "stream",
     "text": [
      "짜장면\n",
      "탕수육\n",
      "짬뽕\n",
      "깐풍기\n",
      "전가복\n",
      "샥스핀\n"
     ]
    }
   ],
   "source": [
    "for item in menu:\n",
    "    print(item)"
   ]
  },
  {
   "cell_type": "code",
   "execution_count": 15,
   "id": "bd024b90",
   "metadata": {},
   "outputs": [
    {
     "name": "stdout",
     "output_type": "stream",
     "text": [
      "짜장면 시킬까요?\n",
      "탕수육 시킬까요?\n",
      "짬뽕 시킬까요?\n",
      "깐풍기 시킬까요?\n",
      "전가복 시킬까요?\n",
      "샥스핀 시킬까요?\n"
     ]
    }
   ],
   "source": [
    "for item in menu:\n",
    "    print(item, '시킬까요?')"
   ]
  },
  {
   "cell_type": "code",
   "execution_count": 17,
   "id": "71883ddd",
   "metadata": {},
   "outputs": [
    {
     "name": "stdout",
     "output_type": "stream",
     "text": [
      "짜장면 시킬까요?\n",
      "-> 요리부터 주문합시다!\n",
      "-> 다음 메뉴가 뭔가요?\n",
      "\n",
      "탕수육 시킬까요?\n",
      "-> 다음 메뉴가 뭔가요?\n",
      "\n",
      "짬뽕 시킬까요?\n",
      "-> 요리부터 주문합시다!\n",
      "-> 다음 메뉴가 뭔가요?\n",
      "\n",
      "깐풍기 시킬까요?\n",
      "-> 다음 메뉴가 뭔가요?\n",
      "\n",
      "전가복 시킬까요?\n",
      "-> 다음 메뉴가 뭔가요?\n",
      "\n",
      "샥스핀 시킬까요?\n",
      "-> 다음 메뉴가 뭔가요?\n",
      "\n"
     ]
    }
   ],
   "source": [
    "for item in menu:\n",
    "    print(item, '시킬까요?')\n",
    "    if item in ['짜장면', '짬뽕']:\n",
    "        print('-> 요리부터 주문합시다!')\n",
    "    print('-> 다음 메뉴가 뭔가요?\\n')"
   ]
  },
  {
   "cell_type": "code",
   "execution_count": 18,
   "id": "2a3bc63b",
   "metadata": {},
   "outputs": [
    {
     "name": "stdout",
     "output_type": "stream",
     "text": [
      "짜장면 시킬까요?\n",
      "탕수육 시킬까요?\n",
      "-> 다음 메뉴가 뭔가요?\n",
      "\n",
      "짬뽕 시킬까요?\n",
      "깐풍기 시킬까요?\n",
      "-> 다음 메뉴가 뭔가요?\n",
      "\n",
      "전가복 시킬까요?\n",
      "-> 다음 메뉴가 뭔가요?\n",
      "\n",
      "샥스핀 시킬까요?\n",
      "-> 다음 메뉴가 뭔가요?\n",
      "\n"
     ]
    }
   ],
   "source": [
    "for item in menu:\n",
    "    print(item, '시킬까요?')\n",
    "    if item in ['짜장면', '짬뽕']:\n",
    "        continue\n",
    "        print('-> 요리부터 주문합시다!')\n",
    "    print('-> 다음 메뉴가 뭔가요?\\n')"
   ]
  },
  {
   "cell_type": "code",
   "execution_count": 19,
   "id": "f3f333c1",
   "metadata": {},
   "outputs": [
    {
     "name": "stdout",
     "output_type": "stream",
     "text": [
      "짜장면 시킬까요?\n",
      "-> 다음 메뉴가 뭔가요?\n",
      "\n",
      "탕수육 시킬까요?\n",
      "-> 다음 메뉴가 뭔가요?\n",
      "\n",
      "짬뽕 시킬까요?\n",
      "-> 다음 메뉴가 뭔가요?\n",
      "\n",
      "깐풍기 시킬까요?\n",
      "-> 다음 메뉴가 뭔가요?\n",
      "\n",
      "전가복 시킬까요?\n"
     ]
    }
   ],
   "source": [
    "for item in menu:\n",
    "    print(item, '시킬까요?')\n",
    "    if item in ['전가복', '샥스핀']:\n",
    "        break\n",
    "        print('-> 요리부터 주문합시다!')\n",
    "    print('-> 다음 메뉴가 뭔가요?\\n')"
   ]
  },
  {
   "cell_type": "markdown",
   "id": "081592b6",
   "metadata": {},
   "source": [
    "### 김한수님 질문"
   ]
  },
  {
   "cell_type": "code",
   "execution_count": 20,
   "id": "ee04e931",
   "metadata": {},
   "outputs": [],
   "source": [
    "name = ['hansoo', 'hoon']\n",
    "rate = [1.0, 1.3]"
   ]
  },
  {
   "cell_type": "code",
   "execution_count": 21,
   "id": "badbdf0d",
   "metadata": {},
   "outputs": [
    {
     "name": "stdout",
     "output_type": "stream",
     "text": [
      "hansoo pay low cost tax 1.00%\n",
      "hoon pay low cost tax 1.30%\n"
     ]
    }
   ],
   "source": [
    "for i, y in zip(name, rate):\n",
    "    print(f\"{i} pay low cost tax {y:.2f}%\")"
   ]
  },
  {
   "cell_type": "markdown",
   "id": "87a65e33",
   "metadata": {},
   "source": [
    "### 명지우님 질문"
   ]
  },
  {
   "cell_type": "code",
   "execution_count": 25,
   "id": "e71917b5",
   "metadata": {},
   "outputs": [
    {
     "name": "stdout",
     "output_type": "stream",
     "text": [
      "*** 2단 ***\n",
      "2 * 1 = 2\n",
      "2 * 2 = 4\n",
      "2 * 3 = 6\n",
      "2 * 4 = 8\n",
      "2 * 5 = 10\n",
      "2 * 6 = 12\n",
      "2 * 7 = 14\n",
      "2 * 8 = 16\n",
      "2 * 9 = 18\n",
      "2 * 10 = 20\n",
      "2 * 11 = 22\n",
      "2 * 12 = 24\n",
      "2 * 13 = 26\n",
      "2 * 14 = 28\n",
      "2 * 15 = 30\n",
      "2 * 16 = 32\n",
      "2 * 17 = 34\n",
      "2 * 18 = 36\n",
      "2 * 19 = 38\n",
      "\n",
      "*** 3단 ***\n",
      "3 * 1 = 3\n",
      "3 * 2 = 6\n",
      "3 * 3 = 9\n",
      "3 * 4 = 12\n",
      "3 * 5 = 15\n",
      "3 * 6 = 18\n",
      "3 * 7 = 21\n",
      "3 * 8 = 24\n",
      "3 * 9 = 27\n",
      "3 * 10 = 30\n",
      "3 * 11 = 33\n",
      "3 * 12 = 36\n",
      "3 * 13 = 39\n",
      "3 * 14 = 42\n",
      "3 * 15 = 45\n",
      "3 * 16 = 48\n",
      "3 * 17 = 51\n",
      "3 * 18 = 54\n",
      "3 * 19 = 57\n",
      "\n",
      "*** 4단 ***\n",
      "4 * 1 = 4\n",
      "4 * 2 = 8\n",
      "4 * 3 = 12\n",
      "4 * 4 = 16\n",
      "4 * 5 = 20\n",
      "4 * 6 = 24\n",
      "4 * 7 = 28\n",
      "4 * 8 = 32\n",
      "4 * 9 = 36\n",
      "4 * 10 = 40\n",
      "4 * 11 = 44\n",
      "4 * 12 = 48\n",
      "4 * 13 = 52\n",
      "4 * 14 = 56\n",
      "4 * 15 = 60\n",
      "4 * 16 = 64\n",
      "4 * 17 = 68\n",
      "4 * 18 = 72\n",
      "4 * 19 = 76\n",
      "\n",
      "*** 5단 ***\n",
      "5 * 1 = 5\n",
      "5 * 2 = 10\n",
      "5 * 3 = 15\n",
      "5 * 4 = 20\n",
      "5 * 5 = 25\n",
      "5 * 6 = 30\n",
      "5 * 7 = 35\n",
      "5 * 8 = 40\n",
      "5 * 9 = 45\n",
      "5 * 10 = 50\n",
      "5 * 11 = 55\n",
      "5 * 12 = 60\n",
      "5 * 13 = 65\n",
      "5 * 14 = 70\n",
      "5 * 15 = 75\n",
      "5 * 16 = 80\n",
      "5 * 17 = 85\n",
      "5 * 18 = 90\n",
      "5 * 19 = 95\n",
      "\n",
      "*** 6단 ***\n",
      "6 * 1 = 6\n",
      "6 * 2 = 12\n",
      "6 * 3 = 18\n",
      "6 * 4 = 24\n",
      "6 * 5 = 30\n",
      "6 * 6 = 36\n",
      "6 * 7 = 42\n",
      "6 * 8 = 48\n",
      "6 * 9 = 54\n",
      "6 * 10 = 60\n",
      "6 * 11 = 66\n",
      "6 * 12 = 72\n",
      "6 * 13 = 78\n",
      "6 * 14 = 84\n",
      "6 * 15 = 90\n",
      "6 * 16 = 96\n",
      "6 * 17 = 102\n",
      "6 * 18 = 108\n",
      "6 * 19 = 114\n",
      "\n",
      "*** 7단 ***\n",
      "7 * 1 = 7\n",
      "7 * 2 = 14\n",
      "7 * 3 = 21\n",
      "7 * 4 = 28\n",
      "7 * 5 = 35\n",
      "7 * 6 = 42\n",
      "7 * 7 = 49\n",
      "7 * 8 = 56\n",
      "7 * 9 = 63\n",
      "7 * 10 = 70\n",
      "7 * 11 = 77\n",
      "7 * 12 = 84\n",
      "7 * 13 = 91\n",
      "7 * 14 = 98\n",
      "7 * 15 = 105\n",
      "7 * 16 = 112\n",
      "7 * 17 = 119\n",
      "7 * 18 = 126\n",
      "7 * 19 = 133\n",
      "\n",
      "*** 8단 ***\n",
      "8 * 1 = 8\n",
      "8 * 2 = 16\n",
      "8 * 3 = 24\n",
      "8 * 4 = 32\n",
      "8 * 5 = 40\n",
      "8 * 6 = 48\n",
      "8 * 7 = 56\n",
      "8 * 8 = 64\n",
      "8 * 9 = 72\n",
      "8 * 10 = 80\n",
      "8 * 11 = 88\n",
      "8 * 12 = 96\n",
      "8 * 13 = 104\n",
      "8 * 14 = 112\n",
      "8 * 15 = 120\n",
      "8 * 16 = 128\n",
      "8 * 17 = 136\n",
      "8 * 18 = 144\n",
      "8 * 19 = 152\n",
      "\n",
      "*** 9단 ***\n",
      "9 * 1 = 9\n",
      "9 * 2 = 18\n",
      "9 * 3 = 27\n",
      "9 * 4 = 36\n",
      "9 * 5 = 45\n",
      "9 * 6 = 54\n",
      "9 * 7 = 63\n",
      "9 * 8 = 72\n",
      "9 * 9 = 81\n",
      "9 * 10 = 90\n",
      "9 * 11 = 99\n",
      "9 * 12 = 108\n",
      "9 * 13 = 117\n",
      "9 * 14 = 126\n",
      "9 * 15 = 135\n",
      "9 * 16 = 144\n",
      "9 * 17 = 153\n",
      "9 * 18 = 162\n",
      "9 * 19 = 171\n",
      "\n",
      "*** 10단 ***\n",
      "10 * 1 = 10\n",
      "10 * 2 = 20\n",
      "10 * 3 = 30\n",
      "10 * 4 = 40\n",
      "10 * 5 = 50\n",
      "10 * 6 = 60\n",
      "10 * 7 = 70\n",
      "10 * 8 = 80\n",
      "10 * 9 = 90\n",
      "10 * 10 = 100\n",
      "10 * 11 = 110\n",
      "10 * 12 = 120\n",
      "10 * 13 = 130\n",
      "10 * 14 = 140\n",
      "10 * 15 = 150\n",
      "10 * 16 = 160\n",
      "10 * 17 = 170\n",
      "10 * 18 = 180\n",
      "10 * 19 = 190\n",
      "\n",
      "*** 11단 ***\n",
      "11 * 1 = 11\n",
      "11 * 2 = 22\n",
      "11 * 3 = 33\n",
      "11 * 4 = 44\n",
      "11 * 5 = 55\n",
      "11 * 6 = 66\n",
      "11 * 7 = 77\n",
      "11 * 8 = 88\n",
      "11 * 9 = 99\n",
      "11 * 10 = 110\n",
      "11 * 11 = 121\n",
      "11 * 12 = 132\n",
      "11 * 13 = 143\n",
      "11 * 14 = 154\n",
      "11 * 15 = 165\n",
      "11 * 16 = 176\n",
      "11 * 17 = 187\n",
      "11 * 18 = 198\n",
      "11 * 19 = 209\n",
      "\n",
      "*** 12단 ***\n",
      "12 * 1 = 12\n",
      "12 * 2 = 24\n",
      "12 * 3 = 36\n",
      "12 * 4 = 48\n",
      "12 * 5 = 60\n",
      "12 * 6 = 72\n",
      "12 * 7 = 84\n",
      "12 * 8 = 96\n",
      "12 * 9 = 108\n",
      "12 * 10 = 120\n",
      "12 * 11 = 132\n",
      "12 * 12 = 144\n",
      "12 * 13 = 156\n",
      "12 * 14 = 168\n",
      "12 * 15 = 180\n",
      "12 * 16 = 192\n",
      "12 * 17 = 204\n",
      "12 * 18 = 216\n",
      "12 * 19 = 228\n",
      "\n",
      "*** 13단 ***\n",
      "13 * 1 = 13\n",
      "13 * 2 = 26\n",
      "13 * 3 = 39\n",
      "13 * 4 = 52\n",
      "13 * 5 = 65\n",
      "13 * 6 = 78\n",
      "13 * 7 = 91\n",
      "13 * 8 = 104\n",
      "13 * 9 = 117\n",
      "13 * 10 = 130\n",
      "13 * 11 = 143\n",
      "13 * 12 = 156\n",
      "13 * 13 = 169\n",
      "13 * 14 = 182\n",
      "13 * 15 = 195\n",
      "13 * 16 = 208\n",
      "13 * 17 = 221\n",
      "13 * 18 = 234\n",
      "13 * 19 = 247\n",
      "\n",
      "*** 14단 ***\n",
      "14 * 1 = 14\n",
      "14 * 2 = 28\n",
      "14 * 3 = 42\n",
      "14 * 4 = 56\n",
      "14 * 5 = 70\n",
      "14 * 6 = 84\n",
      "14 * 7 = 98\n",
      "14 * 8 = 112\n",
      "14 * 9 = 126\n",
      "14 * 10 = 140\n",
      "14 * 11 = 154\n",
      "14 * 12 = 168\n",
      "14 * 13 = 182\n",
      "14 * 14 = 196\n",
      "14 * 15 = 210\n",
      "14 * 16 = 224\n",
      "14 * 17 = 238\n",
      "14 * 18 = 252\n",
      "14 * 19 = 266\n",
      "\n",
      "*** 15단 ***\n",
      "15 * 1 = 15\n",
      "15 * 2 = 30\n",
      "15 * 3 = 45\n",
      "15 * 4 = 60\n",
      "15 * 5 = 75\n",
      "15 * 6 = 90\n",
      "15 * 7 = 105\n",
      "15 * 8 = 120\n",
      "15 * 9 = 135\n",
      "15 * 10 = 150\n",
      "15 * 11 = 165\n",
      "15 * 12 = 180\n",
      "15 * 13 = 195\n",
      "15 * 14 = 210\n",
      "15 * 15 = 225\n",
      "15 * 16 = 240\n",
      "15 * 17 = 255\n",
      "15 * 18 = 270\n",
      "15 * 19 = 285\n",
      "\n",
      "*** 16단 ***\n",
      "16 * 1 = 16\n",
      "16 * 2 = 32\n",
      "16 * 3 = 48\n",
      "16 * 4 = 64\n",
      "16 * 5 = 80\n",
      "16 * 6 = 96\n",
      "16 * 7 = 112\n",
      "16 * 8 = 128\n",
      "16 * 9 = 144\n",
      "16 * 10 = 160\n",
      "16 * 11 = 176\n",
      "16 * 12 = 192\n",
      "16 * 13 = 208\n",
      "16 * 14 = 224\n",
      "16 * 15 = 240\n",
      "16 * 16 = 256\n",
      "16 * 17 = 272\n",
      "16 * 18 = 288\n",
      "16 * 19 = 304\n",
      "\n",
      "*** 17단 ***\n",
      "17 * 1 = 17\n",
      "17 * 2 = 34\n",
      "17 * 3 = 51\n",
      "17 * 4 = 68\n",
      "17 * 5 = 85\n",
      "17 * 6 = 102\n",
      "17 * 7 = 119\n",
      "17 * 8 = 136\n",
      "17 * 9 = 153\n",
      "17 * 10 = 170\n",
      "17 * 11 = 187\n",
      "17 * 12 = 204\n",
      "17 * 13 = 221\n",
      "17 * 14 = 238\n",
      "17 * 15 = 255\n",
      "17 * 16 = 272\n",
      "17 * 17 = 289\n",
      "17 * 18 = 306\n",
      "17 * 19 = 323\n",
      "\n",
      "*** 18단 ***\n",
      "18 * 1 = 18\n",
      "18 * 2 = 36\n",
      "18 * 3 = 54\n",
      "18 * 4 = 72\n",
      "18 * 5 = 90\n",
      "18 * 6 = 108\n",
      "18 * 7 = 126\n",
      "18 * 8 = 144\n",
      "18 * 9 = 162\n",
      "18 * 10 = 180\n",
      "18 * 11 = 198\n",
      "18 * 12 = 216\n",
      "18 * 13 = 234\n",
      "18 * 14 = 252\n",
      "18 * 15 = 270\n",
      "18 * 16 = 288\n",
      "18 * 17 = 306\n",
      "18 * 18 = 324\n",
      "18 * 19 = 342\n",
      "\n",
      "*** 19단 ***\n",
      "19 * 1 = 19\n",
      "19 * 2 = 38\n",
      "19 * 3 = 57\n",
      "19 * 4 = 76\n",
      "19 * 5 = 95\n",
      "19 * 6 = 114\n",
      "19 * 7 = 133\n",
      "19 * 8 = 152\n",
      "19 * 9 = 171\n",
      "19 * 10 = 190\n",
      "19 * 11 = 209\n",
      "19 * 12 = 228\n",
      "19 * 13 = 247\n",
      "19 * 14 = 266\n",
      "19 * 15 = 285\n",
      "19 * 16 = 304\n",
      "19 * 17 = 323\n",
      "19 * 18 = 342\n",
      "19 * 19 = 361\n",
      "\n"
     ]
    }
   ],
   "source": [
    "# ctrl + /: 주석 일괄 처리\n",
    "for i in range(2, 20):\n",
    "    print(f'*** {i}단 ***')\n",
    "    for j in range(1, 20):\n",
    "        print(f'{i} * {j} = {i*j}')\n",
    "    print('')"
   ]
  },
  {
   "cell_type": "code",
   "execution_count": 30,
   "id": "9afe2208",
   "metadata": {},
   "outputs": [
    {
     "name": "stdout",
     "output_type": "stream",
     "text": [
      "1 * 1 = 1\n",
      "2 * 2 = 4\n",
      "3 * 3 = 9\n",
      "4 * 4 = 16\n",
      "5 * 5 = 25\n",
      "6 * 6 = 36\n",
      "7 * 7 = 49\n",
      "8 * 8 = 64\n",
      "9 * 9 = 81\n"
     ]
    }
   ],
   "source": [
    "for i, j in zip(range(1, 20), range(1, 10)):\n",
    "    print(f'{i} * {j} = {i*j}')"
   ]
  },
  {
   "cell_type": "code",
   "execution_count": 35,
   "id": "d96b4917",
   "metadata": {},
   "outputs": [
    {
     "data": {
      "text/plain": [
       "[1, 2, 3, 4, 5, 6, 7, 8, 9, 10]"
      ]
     },
     "execution_count": 35,
     "metadata": {},
     "output_type": "execute_result"
    }
   ],
   "source": [
    "nums = list(range(1, 11))\n",
    "nums"
   ]
  },
  {
   "cell_type": "code",
   "execution_count": 39,
   "id": "04fc9891",
   "metadata": {},
   "outputs": [],
   "source": [
    "sqrs = []"
   ]
  },
  {
   "cell_type": "code",
   "execution_count": 40,
   "id": "29100742",
   "metadata": {},
   "outputs": [
    {
     "name": "stdout",
     "output_type": "stream",
     "text": [
      "Variable   Type     Data/Info\n",
      "-----------------------------\n",
      "a          list     n=6\n",
      "b          list     n=6\n",
      "i          int      9\n",
      "item       str      전가복\n",
      "j          int      9\n",
      "major      str      경제학\n",
      "menu       list     n=6\n",
      "name       list     n=2\n",
      "num        int      1\n",
      "nums       list     n=10\n",
      "rate       list     n=2\n",
      "sa         set      {'2', 1, 2.0, '1'}\n",
      "sb         set      {'2', 2, 3.0, '3'}\n",
      "sqrs       list     n=0\n",
      "y          float    1.3\n"
     ]
    }
   ],
   "source": [
    "%whos"
   ]
  },
  {
   "cell_type": "code",
   "execution_count": 41,
   "id": "7b619a96",
   "metadata": {},
   "outputs": [],
   "source": [
    "for num in nums:\n",
    "    sqrs.append(num ** 2)"
   ]
  },
  {
   "cell_type": "code",
   "execution_count": 42,
   "id": "d75f010b",
   "metadata": {},
   "outputs": [
    {
     "data": {
      "text/plain": [
       "[1, 4, 9, 16, 25, 36, 49, 64, 81, 100]"
      ]
     },
     "execution_count": 42,
     "metadata": {},
     "output_type": "execute_result"
    }
   ],
   "source": [
    "sqrs"
   ]
  },
  {
   "cell_type": "code",
   "execution_count": 45,
   "id": "d54ccae9",
   "metadata": {},
   "outputs": [
    {
     "data": {
      "text/plain": [
       "[1, 4, 9, 16, 25, 36, 49, 64, 81, 100]"
      ]
     },
     "execution_count": 45,
     "metadata": {},
     "output_type": "execute_result"
    }
   ],
   "source": [
    "[num ** 2 for num in nums]"
   ]
  },
  {
   "cell_type": "code",
   "execution_count": 46,
   "id": "5c02cedb",
   "metadata": {},
   "outputs": [
    {
     "data": {
      "text/plain": [
       "[4, 16, 36, 64, 100]"
      ]
     },
     "execution_count": 46,
     "metadata": {},
     "output_type": "execute_result"
    }
   ],
   "source": [
    "sqrs = []\n",
    "for num in nums:\n",
    "    if num % 2 == 0:\n",
    "        sqrs.append(num ** 2)\n",
    "sqrs"
   ]
  },
  {
   "cell_type": "code",
   "execution_count": 47,
   "id": "0970c476",
   "metadata": {},
   "outputs": [
    {
     "data": {
      "text/plain": [
       "[4, 16, 36, 64, 100]"
      ]
     },
     "execution_count": 47,
     "metadata": {},
     "output_type": "execute_result"
    }
   ],
   "source": [
    "[num ** 2 for num in nums if num % 2 == 0]"
   ]
  },
  {
   "cell_type": "code",
   "execution_count": null,
   "id": "714ef7a0",
   "metadata": {},
   "outputs": [],
   "source": [
    "for i in range(2, 20):\n",
    "    for j in range(1, 20):\n",
    "        print(f'{i} * {j} = {i*j}')"
   ]
  },
  {
   "cell_type": "code",
   "execution_count": 48,
   "id": "d5a3e20f",
   "metadata": {},
   "outputs": [
    {
     "data": {
      "text/plain": [
       "['2 * 1 = 2',\n",
       " '2 * 2 = 4',\n",
       " '2 * 3 = 6',\n",
       " '2 * 4 = 8',\n",
       " '2 * 5 = 10',\n",
       " '2 * 6 = 12',\n",
       " '2 * 7 = 14',\n",
       " '2 * 8 = 16',\n",
       " '2 * 9 = 18',\n",
       " '2 * 10 = 20',\n",
       " '2 * 11 = 22',\n",
       " '2 * 12 = 24',\n",
       " '2 * 13 = 26',\n",
       " '2 * 14 = 28',\n",
       " '2 * 15 = 30',\n",
       " '2 * 16 = 32',\n",
       " '2 * 17 = 34',\n",
       " '2 * 18 = 36',\n",
       " '2 * 19 = 38',\n",
       " '3 * 1 = 3',\n",
       " '3 * 2 = 6',\n",
       " '3 * 3 = 9',\n",
       " '3 * 4 = 12',\n",
       " '3 * 5 = 15',\n",
       " '3 * 6 = 18',\n",
       " '3 * 7 = 21',\n",
       " '3 * 8 = 24',\n",
       " '3 * 9 = 27',\n",
       " '3 * 10 = 30',\n",
       " '3 * 11 = 33',\n",
       " '3 * 12 = 36',\n",
       " '3 * 13 = 39',\n",
       " '3 * 14 = 42',\n",
       " '3 * 15 = 45',\n",
       " '3 * 16 = 48',\n",
       " '3 * 17 = 51',\n",
       " '3 * 18 = 54',\n",
       " '3 * 19 = 57',\n",
       " '4 * 1 = 4',\n",
       " '4 * 2 = 8',\n",
       " '4 * 3 = 12',\n",
       " '4 * 4 = 16',\n",
       " '4 * 5 = 20',\n",
       " '4 * 6 = 24',\n",
       " '4 * 7 = 28',\n",
       " '4 * 8 = 32',\n",
       " '4 * 9 = 36',\n",
       " '4 * 10 = 40',\n",
       " '4 * 11 = 44',\n",
       " '4 * 12 = 48',\n",
       " '4 * 13 = 52',\n",
       " '4 * 14 = 56',\n",
       " '4 * 15 = 60',\n",
       " '4 * 16 = 64',\n",
       " '4 * 17 = 68',\n",
       " '4 * 18 = 72',\n",
       " '4 * 19 = 76',\n",
       " '5 * 1 = 5',\n",
       " '5 * 2 = 10',\n",
       " '5 * 3 = 15',\n",
       " '5 * 4 = 20',\n",
       " '5 * 5 = 25',\n",
       " '5 * 6 = 30',\n",
       " '5 * 7 = 35',\n",
       " '5 * 8 = 40',\n",
       " '5 * 9 = 45',\n",
       " '5 * 10 = 50',\n",
       " '5 * 11 = 55',\n",
       " '5 * 12 = 60',\n",
       " '5 * 13 = 65',\n",
       " '5 * 14 = 70',\n",
       " '5 * 15 = 75',\n",
       " '5 * 16 = 80',\n",
       " '5 * 17 = 85',\n",
       " '5 * 18 = 90',\n",
       " '5 * 19 = 95',\n",
       " '6 * 1 = 6',\n",
       " '6 * 2 = 12',\n",
       " '6 * 3 = 18',\n",
       " '6 * 4 = 24',\n",
       " '6 * 5 = 30',\n",
       " '6 * 6 = 36',\n",
       " '6 * 7 = 42',\n",
       " '6 * 8 = 48',\n",
       " '6 * 9 = 54',\n",
       " '6 * 10 = 60',\n",
       " '6 * 11 = 66',\n",
       " '6 * 12 = 72',\n",
       " '6 * 13 = 78',\n",
       " '6 * 14 = 84',\n",
       " '6 * 15 = 90',\n",
       " '6 * 16 = 96',\n",
       " '6 * 17 = 102',\n",
       " '6 * 18 = 108',\n",
       " '6 * 19 = 114',\n",
       " '7 * 1 = 7',\n",
       " '7 * 2 = 14',\n",
       " '7 * 3 = 21',\n",
       " '7 * 4 = 28',\n",
       " '7 * 5 = 35',\n",
       " '7 * 6 = 42',\n",
       " '7 * 7 = 49',\n",
       " '7 * 8 = 56',\n",
       " '7 * 9 = 63',\n",
       " '7 * 10 = 70',\n",
       " '7 * 11 = 77',\n",
       " '7 * 12 = 84',\n",
       " '7 * 13 = 91',\n",
       " '7 * 14 = 98',\n",
       " '7 * 15 = 105',\n",
       " '7 * 16 = 112',\n",
       " '7 * 17 = 119',\n",
       " '7 * 18 = 126',\n",
       " '7 * 19 = 133',\n",
       " '8 * 1 = 8',\n",
       " '8 * 2 = 16',\n",
       " '8 * 3 = 24',\n",
       " '8 * 4 = 32',\n",
       " '8 * 5 = 40',\n",
       " '8 * 6 = 48',\n",
       " '8 * 7 = 56',\n",
       " '8 * 8 = 64',\n",
       " '8 * 9 = 72',\n",
       " '8 * 10 = 80',\n",
       " '8 * 11 = 88',\n",
       " '8 * 12 = 96',\n",
       " '8 * 13 = 104',\n",
       " '8 * 14 = 112',\n",
       " '8 * 15 = 120',\n",
       " '8 * 16 = 128',\n",
       " '8 * 17 = 136',\n",
       " '8 * 18 = 144',\n",
       " '8 * 19 = 152',\n",
       " '9 * 1 = 9',\n",
       " '9 * 2 = 18',\n",
       " '9 * 3 = 27',\n",
       " '9 * 4 = 36',\n",
       " '9 * 5 = 45',\n",
       " '9 * 6 = 54',\n",
       " '9 * 7 = 63',\n",
       " '9 * 8 = 72',\n",
       " '9 * 9 = 81',\n",
       " '9 * 10 = 90',\n",
       " '9 * 11 = 99',\n",
       " '9 * 12 = 108',\n",
       " '9 * 13 = 117',\n",
       " '9 * 14 = 126',\n",
       " '9 * 15 = 135',\n",
       " '9 * 16 = 144',\n",
       " '9 * 17 = 153',\n",
       " '9 * 18 = 162',\n",
       " '9 * 19 = 171',\n",
       " '10 * 1 = 10',\n",
       " '10 * 2 = 20',\n",
       " '10 * 3 = 30',\n",
       " '10 * 4 = 40',\n",
       " '10 * 5 = 50',\n",
       " '10 * 6 = 60',\n",
       " '10 * 7 = 70',\n",
       " '10 * 8 = 80',\n",
       " '10 * 9 = 90',\n",
       " '10 * 10 = 100',\n",
       " '10 * 11 = 110',\n",
       " '10 * 12 = 120',\n",
       " '10 * 13 = 130',\n",
       " '10 * 14 = 140',\n",
       " '10 * 15 = 150',\n",
       " '10 * 16 = 160',\n",
       " '10 * 17 = 170',\n",
       " '10 * 18 = 180',\n",
       " '10 * 19 = 190',\n",
       " '11 * 1 = 11',\n",
       " '11 * 2 = 22',\n",
       " '11 * 3 = 33',\n",
       " '11 * 4 = 44',\n",
       " '11 * 5 = 55',\n",
       " '11 * 6 = 66',\n",
       " '11 * 7 = 77',\n",
       " '11 * 8 = 88',\n",
       " '11 * 9 = 99',\n",
       " '11 * 10 = 110',\n",
       " '11 * 11 = 121',\n",
       " '11 * 12 = 132',\n",
       " '11 * 13 = 143',\n",
       " '11 * 14 = 154',\n",
       " '11 * 15 = 165',\n",
       " '11 * 16 = 176',\n",
       " '11 * 17 = 187',\n",
       " '11 * 18 = 198',\n",
       " '11 * 19 = 209',\n",
       " '12 * 1 = 12',\n",
       " '12 * 2 = 24',\n",
       " '12 * 3 = 36',\n",
       " '12 * 4 = 48',\n",
       " '12 * 5 = 60',\n",
       " '12 * 6 = 72',\n",
       " '12 * 7 = 84',\n",
       " '12 * 8 = 96',\n",
       " '12 * 9 = 108',\n",
       " '12 * 10 = 120',\n",
       " '12 * 11 = 132',\n",
       " '12 * 12 = 144',\n",
       " '12 * 13 = 156',\n",
       " '12 * 14 = 168',\n",
       " '12 * 15 = 180',\n",
       " '12 * 16 = 192',\n",
       " '12 * 17 = 204',\n",
       " '12 * 18 = 216',\n",
       " '12 * 19 = 228',\n",
       " '13 * 1 = 13',\n",
       " '13 * 2 = 26',\n",
       " '13 * 3 = 39',\n",
       " '13 * 4 = 52',\n",
       " '13 * 5 = 65',\n",
       " '13 * 6 = 78',\n",
       " '13 * 7 = 91',\n",
       " '13 * 8 = 104',\n",
       " '13 * 9 = 117',\n",
       " '13 * 10 = 130',\n",
       " '13 * 11 = 143',\n",
       " '13 * 12 = 156',\n",
       " '13 * 13 = 169',\n",
       " '13 * 14 = 182',\n",
       " '13 * 15 = 195',\n",
       " '13 * 16 = 208',\n",
       " '13 * 17 = 221',\n",
       " '13 * 18 = 234',\n",
       " '13 * 19 = 247',\n",
       " '14 * 1 = 14',\n",
       " '14 * 2 = 28',\n",
       " '14 * 3 = 42',\n",
       " '14 * 4 = 56',\n",
       " '14 * 5 = 70',\n",
       " '14 * 6 = 84',\n",
       " '14 * 7 = 98',\n",
       " '14 * 8 = 112',\n",
       " '14 * 9 = 126',\n",
       " '14 * 10 = 140',\n",
       " '14 * 11 = 154',\n",
       " '14 * 12 = 168',\n",
       " '14 * 13 = 182',\n",
       " '14 * 14 = 196',\n",
       " '14 * 15 = 210',\n",
       " '14 * 16 = 224',\n",
       " '14 * 17 = 238',\n",
       " '14 * 18 = 252',\n",
       " '14 * 19 = 266',\n",
       " '15 * 1 = 15',\n",
       " '15 * 2 = 30',\n",
       " '15 * 3 = 45',\n",
       " '15 * 4 = 60',\n",
       " '15 * 5 = 75',\n",
       " '15 * 6 = 90',\n",
       " '15 * 7 = 105',\n",
       " '15 * 8 = 120',\n",
       " '15 * 9 = 135',\n",
       " '15 * 10 = 150',\n",
       " '15 * 11 = 165',\n",
       " '15 * 12 = 180',\n",
       " '15 * 13 = 195',\n",
       " '15 * 14 = 210',\n",
       " '15 * 15 = 225',\n",
       " '15 * 16 = 240',\n",
       " '15 * 17 = 255',\n",
       " '15 * 18 = 270',\n",
       " '15 * 19 = 285',\n",
       " '16 * 1 = 16',\n",
       " '16 * 2 = 32',\n",
       " '16 * 3 = 48',\n",
       " '16 * 4 = 64',\n",
       " '16 * 5 = 80',\n",
       " '16 * 6 = 96',\n",
       " '16 * 7 = 112',\n",
       " '16 * 8 = 128',\n",
       " '16 * 9 = 144',\n",
       " '16 * 10 = 160',\n",
       " '16 * 11 = 176',\n",
       " '16 * 12 = 192',\n",
       " '16 * 13 = 208',\n",
       " '16 * 14 = 224',\n",
       " '16 * 15 = 240',\n",
       " '16 * 16 = 256',\n",
       " '16 * 17 = 272',\n",
       " '16 * 18 = 288',\n",
       " '16 * 19 = 304',\n",
       " '17 * 1 = 17',\n",
       " '17 * 2 = 34',\n",
       " '17 * 3 = 51',\n",
       " '17 * 4 = 68',\n",
       " '17 * 5 = 85',\n",
       " '17 * 6 = 102',\n",
       " '17 * 7 = 119',\n",
       " '17 * 8 = 136',\n",
       " '17 * 9 = 153',\n",
       " '17 * 10 = 170',\n",
       " '17 * 11 = 187',\n",
       " '17 * 12 = 204',\n",
       " '17 * 13 = 221',\n",
       " '17 * 14 = 238',\n",
       " '17 * 15 = 255',\n",
       " '17 * 16 = 272',\n",
       " '17 * 17 = 289',\n",
       " '17 * 18 = 306',\n",
       " '17 * 19 = 323',\n",
       " '18 * 1 = 18',\n",
       " '18 * 2 = 36',\n",
       " '18 * 3 = 54',\n",
       " '18 * 4 = 72',\n",
       " '18 * 5 = 90',\n",
       " '18 * 6 = 108',\n",
       " '18 * 7 = 126',\n",
       " '18 * 8 = 144',\n",
       " '18 * 9 = 162',\n",
       " '18 * 10 = 180',\n",
       " '18 * 11 = 198',\n",
       " '18 * 12 = 216',\n",
       " '18 * 13 = 234',\n",
       " '18 * 14 = 252',\n",
       " '18 * 15 = 270',\n",
       " '18 * 16 = 288',\n",
       " '18 * 17 = 306',\n",
       " '18 * 18 = 324',\n",
       " '18 * 19 = 342',\n",
       " '19 * 1 = 19',\n",
       " '19 * 2 = 38',\n",
       " '19 * 3 = 57',\n",
       " '19 * 4 = 76',\n",
       " '19 * 5 = 95',\n",
       " '19 * 6 = 114',\n",
       " '19 * 7 = 133',\n",
       " '19 * 8 = 152',\n",
       " '19 * 9 = 171',\n",
       " '19 * 10 = 190',\n",
       " '19 * 11 = 209',\n",
       " '19 * 12 = 228',\n",
       " '19 * 13 = 247',\n",
       " '19 * 14 = 266',\n",
       " '19 * 15 = 285',\n",
       " '19 * 16 = 304',\n",
       " '19 * 17 = 323',\n",
       " '19 * 18 = 342',\n",
       " '19 * 19 = 361']"
      ]
     },
     "execution_count": 48,
     "metadata": {},
     "output_type": "execute_result"
    }
   ],
   "source": [
    "[f'{i} * {j} = {i*j}' for i in range(2, 20) for j in range(1, 20)]"
   ]
  },
  {
   "cell_type": "code",
   "execution_count": 50,
   "id": "09e67312",
   "metadata": {},
   "outputs": [
    {
     "name": "stdout",
     "output_type": "stream",
     "text": [
      "(0, 1)\n",
      "(1, 2)\n",
      "(2, 3)\n",
      "(3, 4)\n",
      "(4, 5)\n",
      "(5, 6)\n",
      "(6, 7)\n",
      "(7, 8)\n",
      "(8, 9)\n",
      "(9, 10)\n"
     ]
    }
   ],
   "source": [
    "for i in enumerate(nums):\n",
    "    print(i)"
   ]
  },
  {
   "cell_type": "code",
   "execution_count": 51,
   "id": "ff7729ff",
   "metadata": {},
   "outputs": [
    {
     "name": "stdout",
     "output_type": "stream",
     "text": [
      "0 인덱스 원소의 값은 1입니다.\n",
      "1 인덱스 원소의 값은 2입니다.\n",
      "2 인덱스 원소의 값은 3입니다.\n",
      "3 인덱스 원소의 값은 4입니다.\n",
      "4 인덱스 원소의 값은 5입니다.\n",
      "5 인덱스 원소의 값은 6입니다.\n",
      "6 인덱스 원소의 값은 7입니다.\n",
      "7 인덱스 원소의 값은 8입니다.\n",
      "8 인덱스 원소의 값은 9입니다.\n",
      "9 인덱스 원소의 값은 10입니다.\n"
     ]
    }
   ],
   "source": [
    "for index, value in enumerate(nums):\n",
    "    print(f'{index} 인덱스 원소의 값은 {value}입니다.')"
   ]
  },
  {
   "cell_type": "code",
   "execution_count": 53,
   "id": "de9d2deb",
   "metadata": {},
   "outputs": [],
   "source": [
    "nums[2] = '3'"
   ]
  },
  {
   "cell_type": "code",
   "execution_count": 54,
   "id": "2b29a5bc",
   "metadata": {},
   "outputs": [
    {
     "name": "stdout",
     "output_type": "stream",
     "text": [
      "1\n",
      "4\n"
     ]
    },
    {
     "ename": "TypeError",
     "evalue": "unsupported operand type(s) for ** or pow(): 'str' and 'int'",
     "output_type": "error",
     "traceback": [
      "\u001b[0;31m---------------------------------------------------------------------------\u001b[0m",
      "\u001b[0;31mTypeError\u001b[0m                                 Traceback (most recent call last)",
      "Input \u001b[0;32mIn [54]\u001b[0m, in \u001b[0;36m<cell line: 1>\u001b[0;34m()\u001b[0m\n\u001b[1;32m      1\u001b[0m \u001b[38;5;28;01mfor\u001b[39;00m num \u001b[38;5;129;01min\u001b[39;00m nums:\n\u001b[0;32m----> 2\u001b[0m     \u001b[38;5;28mprint\u001b[39m(\u001b[43mnum\u001b[49m\u001b[43m \u001b[49m\u001b[38;5;241;43m*\u001b[39;49m\u001b[38;5;241;43m*\u001b[39;49m\u001b[43m \u001b[49m\u001b[38;5;241;43m2\u001b[39;49m)\n",
      "\u001b[0;31mTypeError\u001b[0m: unsupported operand type(s) for ** or pow(): 'str' and 'int'"
     ]
    }
   ],
   "source": [
    "for num in nums:\n",
    "    print(num ** 2)"
   ]
  },
  {
   "cell_type": "code",
   "execution_count": 55,
   "id": "85888842",
   "metadata": {},
   "outputs": [
    {
     "name": "stdout",
     "output_type": "stream",
     "text": [
      "1\n",
      "4\n",
      "에러가 발생했습니다!\n",
      "16\n",
      "25\n",
      "36\n",
      "49\n",
      "64\n",
      "81\n",
      "100\n"
     ]
    }
   ],
   "source": [
    "for num in nums:\n",
    "    try:\n",
    "        print(num ** 2)\n",
    "    except:\n",
    "        print('에러가 발생했습니다!')"
   ]
  },
  {
   "cell_type": "code",
   "execution_count": 56,
   "id": "f0c352cc",
   "metadata": {},
   "outputs": [
    {
     "name": "stdout",
     "output_type": "stream",
     "text": [
      "1\n",
      "4\n",
      "unsupported operand type(s) for ** or pow(): 'str' and 'int'\n",
      "16\n",
      "25\n",
      "36\n",
      "49\n",
      "64\n",
      "81\n",
      "100\n"
     ]
    }
   ],
   "source": [
    "for num in nums:\n",
    "    try:\n",
    "        print(num ** 2)\n",
    "    except Exception as e:\n",
    "        print(e)"
   ]
  },
  {
   "cell_type": "code",
   "execution_count": 57,
   "id": "5f4b2fd5",
   "metadata": {},
   "outputs": [
    {
     "name": "stdout",
     "output_type": "stream",
     "text": [
      "5\n",
      "4\n",
      "3\n",
      "2\n",
      "1\n"
     ]
    }
   ],
   "source": [
    "i = 5\n",
    "while i > 0:\n",
    "    print(i)\n",
    "    i -= 1"
   ]
  },
  {
   "cell_type": "code",
   "execution_count": 58,
   "id": "c5deb465",
   "metadata": {},
   "outputs": [],
   "source": [
    "def BMI(height, weight):\n",
    "    bmi = weight / (height/100)**2\n",
    "    return bmi"
   ]
  },
  {
   "cell_type": "code",
   "execution_count": 59,
   "id": "f618567b",
   "metadata": {},
   "outputs": [
    {
     "data": {
      "text/plain": [
       "21.224489795918366"
      ]
     },
     "execution_count": 59,
     "metadata": {},
     "output_type": "execute_result"
    }
   ],
   "source": [
    "BMI(175, 65)"
   ]
  },
  {
   "cell_type": "code",
   "execution_count": 60,
   "id": "e41dab00",
   "metadata": {},
   "outputs": [
    {
     "data": {
      "text/plain": [
       "21.224489795918366"
      ]
     },
     "execution_count": 60,
     "metadata": {},
     "output_type": "execute_result"
    }
   ],
   "source": [
    "BMI(height = 175, weight = 65)"
   ]
  },
  {
   "cell_type": "code",
   "execution_count": 61,
   "id": "67f53202",
   "metadata": {},
   "outputs": [
    {
     "data": {
      "text/plain": [
       "21.224489795918366"
      ]
     },
     "execution_count": 61,
     "metadata": {},
     "output_type": "execute_result"
    }
   ],
   "source": [
    "BMI(weight = 65, height = 175)"
   ]
  },
  {
   "cell_type": "code",
   "execution_count": 62,
   "id": "2dccb494",
   "metadata": {},
   "outputs": [
    {
     "data": {
      "text/plain": [
       "414.20118343195264"
      ]
     },
     "execution_count": 62,
     "metadata": {},
     "output_type": "execute_result"
    }
   ],
   "source": [
    "BMI(65, 175)"
   ]
  },
  {
   "cell_type": "code",
   "execution_count": 63,
   "id": "642b428a",
   "metadata": {},
   "outputs": [],
   "source": [
    "def BMI(height = 175, weight = 65):\n",
    "    bmi = weight / (height/100)**2\n",
    "    return bmi"
   ]
  },
  {
   "cell_type": "code",
   "execution_count": 64,
   "id": "79d6ff60",
   "metadata": {},
   "outputs": [
    {
     "data": {
      "text/plain": [
       "21.224489795918366"
      ]
     },
     "execution_count": 64,
     "metadata": {},
     "output_type": "execute_result"
    }
   ],
   "source": [
    "BMI()"
   ]
  },
  {
   "cell_type": "code",
   "execution_count": 65,
   "id": "57a47e17",
   "metadata": {},
   "outputs": [
    {
     "data": {
      "text/plain": [
       "26.315789473684212"
      ]
     },
     "execution_count": 65,
     "metadata": {},
     "output_type": "execute_result"
    }
   ],
   "source": [
    "BMI(height = 190, weight = 95)"
   ]
  },
  {
   "cell_type": "code",
   "execution_count": 66,
   "id": "94e85079",
   "metadata": {},
   "outputs": [],
   "source": [
    "BMI2 = lambda height, weight: weight / (height/100)**2"
   ]
  },
  {
   "cell_type": "code",
   "execution_count": 67,
   "id": "7ff6b6aa",
   "metadata": {},
   "outputs": [
    {
     "data": {
      "text/plain": [
       "21.224489795918366"
      ]
     },
     "execution_count": 67,
     "metadata": {},
     "output_type": "execute_result"
    }
   ],
   "source": [
    "BMI2(175, 65)"
   ]
  },
  {
   "cell_type": "code",
   "execution_count": 68,
   "id": "fca939f1",
   "metadata": {},
   "outputs": [
    {
     "data": {
      "text/plain": [
       "21.224489795918366"
      ]
     },
     "execution_count": 68,
     "metadata": {},
     "output_type": "execute_result"
    }
   ],
   "source": [
    "(lambda height, weight: weight / (height/100)**2)(175, 65)"
   ]
  },
  {
   "cell_type": "code",
   "execution_count": 69,
   "id": "a62b1add",
   "metadata": {},
   "outputs": [],
   "source": [
    "def printValues1(a, b, c):\n",
    "    for i in [a, b, c]:\n",
    "        print(i)"
   ]
  },
  {
   "cell_type": "code",
   "execution_count": 70,
   "id": "10f0f252",
   "metadata": {},
   "outputs": [
    {
     "name": "stdout",
     "output_type": "stream",
     "text": [
      "1\n",
      "2\n",
      "3\n"
     ]
    }
   ],
   "source": [
    "printValues1(a = 1, b = 2, c = 3)"
   ]
  },
  {
   "cell_type": "code",
   "execution_count": 71,
   "id": "2c9e612f",
   "metadata": {},
   "outputs": [
    {
     "ename": "TypeError",
     "evalue": "printValues1() missing 1 required positional argument: 'c'",
     "output_type": "error",
     "traceback": [
      "\u001b[0;31m---------------------------------------------------------------------------\u001b[0m",
      "\u001b[0;31mTypeError\u001b[0m                                 Traceback (most recent call last)",
      "Input \u001b[0;32mIn [71]\u001b[0m, in \u001b[0;36m<cell line: 1>\u001b[0;34m()\u001b[0m\n\u001b[0;32m----> 1\u001b[0m \u001b[43mprintValues1\u001b[49m\u001b[43m(\u001b[49m\u001b[43ma\u001b[49m\u001b[43m \u001b[49m\u001b[38;5;241;43m=\u001b[39;49m\u001b[43m \u001b[49m\u001b[38;5;241;43m1\u001b[39;49m\u001b[43m,\u001b[49m\u001b[43m \u001b[49m\u001b[43mb\u001b[49m\u001b[43m \u001b[49m\u001b[38;5;241;43m=\u001b[39;49m\u001b[43m \u001b[49m\u001b[38;5;241;43m2\u001b[39;49m\u001b[43m)\u001b[49m\n",
      "\u001b[0;31mTypeError\u001b[0m: printValues1() missing 1 required positional argument: 'c'"
     ]
    }
   ],
   "source": [
    "printValues1(a = 1, b = 2)"
   ]
  },
  {
   "cell_type": "code",
   "execution_count": 73,
   "id": "bc480ed5",
   "metadata": {},
   "outputs": [],
   "source": [
    "def printValues2(*args):\n",
    "    for i in args:\n",
    "        print(i)"
   ]
  },
  {
   "cell_type": "code",
   "execution_count": 74,
   "id": "6b6271ea",
   "metadata": {},
   "outputs": [
    {
     "name": "stdout",
     "output_type": "stream",
     "text": [
      "1\n",
      "2\n",
      "3\n"
     ]
    }
   ],
   "source": [
    "printValues2(1, 2, 3)"
   ]
  },
  {
   "cell_type": "code",
   "execution_count": 75,
   "id": "34eaf0d7",
   "metadata": {},
   "outputs": [
    {
     "name": "stdout",
     "output_type": "stream",
     "text": [
      "1\n",
      "2\n"
     ]
    }
   ],
   "source": [
    "printValues2(1, 2)"
   ]
  },
  {
   "cell_type": "code",
   "execution_count": 85,
   "id": "750f18af",
   "metadata": {},
   "outputs": [],
   "source": [
    "def printValues3(**kwargs):\n",
    "    for i in kwargs.items():\n",
    "        print(f'{i[0]}은(는) {i[1]}입니다.')"
   ]
  },
  {
   "cell_type": "code",
   "execution_count": 86,
   "id": "813a8330",
   "metadata": {},
   "outputs": [
    {
     "name": "stdout",
     "output_type": "stream",
     "text": [
      "메뉴은(는) 순대국입니다.\n",
      "가격은(는) 9000입니다.\n"
     ]
    }
   ],
   "source": [
    "printValues3(메뉴 = '순대국', 가격 = 9000)"
   ]
  },
  {
   "cell_type": "code",
   "execution_count": 87,
   "id": "dd8d1dd8",
   "metadata": {},
   "outputs": [],
   "source": [
    "import os, shutil"
   ]
  },
  {
   "cell_type": "code",
   "execution_count": 88,
   "id": "7161b772",
   "metadata": {},
   "outputs": [
    {
     "data": {
      "text/plain": [
       "'/Users/drkevin/Documents/PythonBasicProgramming-main/code'"
      ]
     },
     "execution_count": 88,
     "metadata": {},
     "output_type": "execute_result"
    }
   ],
   "source": [
    "os.getcwd()"
   ]
  },
  {
   "cell_type": "code",
   "execution_count": null,
   "id": "afe45b5b",
   "metadata": {},
   "outputs": [],
   "source": [
    "# 절대경로 방식\n",
    "os.chdir(path = '/Users/drkevin/Documents/PythonBasicProgramming-main/data')"
   ]
  },
  {
   "cell_type": "code",
   "execution_count": 89,
   "id": "a817e321",
   "metadata": {},
   "outputs": [],
   "source": [
    "# 상대경로 방식\n",
    "os.chdir(path = '../data')"
   ]
  },
  {
   "cell_type": "code",
   "execution_count": 90,
   "id": "aa53278a",
   "metadata": {},
   "outputs": [
    {
     "data": {
      "text/plain": [
       "'/Users/drkevin/Documents/PythonBasicProgramming-main/data'"
      ]
     },
     "execution_count": 90,
     "metadata": {},
     "output_type": "execute_result"
    }
   ],
   "source": [
    "os.getcwd()"
   ]
  },
  {
   "cell_type": "code",
   "execution_count": 91,
   "id": "ddcde020",
   "metadata": {},
   "outputs": [],
   "source": [
    "file = open(file = 'test.txt', mode = 'w', encoding = 'UTF-8')"
   ]
  },
  {
   "cell_type": "code",
   "execution_count": 92,
   "id": "5e48798d",
   "metadata": {},
   "outputs": [],
   "source": [
    "for i in range(1, 6):\n",
    "    file.write(f'{i}번째 페이지 수집 중!\\n')"
   ]
  },
  {
   "cell_type": "code",
   "execution_count": 93,
   "id": "8c847765",
   "metadata": {},
   "outputs": [],
   "source": [
    "file.close()"
   ]
  },
  {
   "cell_type": "code",
   "execution_count": 94,
   "id": "a79e4433",
   "metadata": {},
   "outputs": [],
   "source": [
    "file = open(file = 'test.txt', mode = 'a', encoding = 'UTF-8')"
   ]
  },
  {
   "cell_type": "code",
   "execution_count": 95,
   "id": "282cfc9c",
   "metadata": {},
   "outputs": [],
   "source": [
    "for i in range(11, 16):\n",
    "    file.write(f'{i}번째 페이지 수집 중!\\n')"
   ]
  },
  {
   "cell_type": "code",
   "execution_count": 96,
   "id": "128b37ca",
   "metadata": {},
   "outputs": [],
   "source": [
    "file.close()"
   ]
  },
  {
   "cell_type": "code",
   "execution_count": 97,
   "id": "0a7ce1b3",
   "metadata": {},
   "outputs": [],
   "source": [
    "file = open(file = 'test.txt', mode = 'r', encoding = 'UTF-8')"
   ]
  },
  {
   "cell_type": "code",
   "execution_count": 98,
   "id": "4df5ab53",
   "metadata": {},
   "outputs": [],
   "source": [
    "text = file.read()"
   ]
  },
  {
   "cell_type": "code",
   "execution_count": 99,
   "id": "64742768",
   "metadata": {},
   "outputs": [
    {
     "data": {
      "text/plain": [
       "'1번째 페이지 수집 중!\\n2번째 페이지 수집 중!\\n3번째 페이지 수집 중!\\n4번째 페이지 수집 중!\\n5번째 페이지 수집 중!\\n11번째 페이지 수집 중!\\n12번째 페이지 수집 중!\\n13번째 페이지 수집 중!\\n14번째 페이지 수집 중!\\n15번째 페이지 수집 중!\\n'"
      ]
     },
     "execution_count": 99,
     "metadata": {},
     "output_type": "execute_result"
    }
   ],
   "source": [
    "text"
   ]
  },
  {
   "cell_type": "code",
   "execution_count": 100,
   "id": "2ee64a9b",
   "metadata": {},
   "outputs": [
    {
     "data": {
      "text/plain": [
       "str"
      ]
     },
     "execution_count": 100,
     "metadata": {},
     "output_type": "execute_result"
    }
   ],
   "source": [
    "type(text)"
   ]
  },
  {
   "cell_type": "code",
   "execution_count": 101,
   "id": "f462a959",
   "metadata": {},
   "outputs": [
    {
     "data": {
      "text/plain": [
       "b'1\\xeb\\xb2\\x88\\xec\\xa7\\xb8 \\xed\\x8e\\x98\\xec\\x9d\\xb4\\xec\\xa7\\x80 \\xec\\x88\\x98\\xec\\xa7\\x91 \\xec\\xa4\\x91!\\n2\\xeb\\xb2\\x88\\xec\\xa7\\xb8 \\xed\\x8e\\x98\\xec\\x9d\\xb4\\xec\\xa7\\x80 \\xec\\x88\\x98\\xec\\xa7\\x91 \\xec\\xa4\\x91!\\n3\\xeb\\xb2\\x88\\xec\\xa7\\xb8 \\xed\\x8e\\x98\\xec\\x9d\\xb4\\xec\\xa7\\x80 \\xec\\x88\\x98\\xec\\xa7\\x91 \\xec\\xa4\\x91!\\n4\\xeb\\xb2\\x88\\xec\\xa7\\xb8 \\xed\\x8e\\x98\\xec\\x9d\\xb4\\xec\\xa7\\x80 \\xec\\x88\\x98\\xec\\xa7\\x91 \\xec\\xa4\\x91!\\n5\\xeb\\xb2\\x88\\xec\\xa7\\xb8 \\xed\\x8e\\x98\\xec\\x9d\\xb4\\xec\\xa7\\x80 \\xec\\x88\\x98\\xec\\xa7\\x91 \\xec\\xa4\\x91!\\n11\\xeb\\xb2\\x88\\xec\\xa7\\xb8 \\xed\\x8e\\x98\\xec\\x9d\\xb4\\xec\\xa7\\x80 \\xec\\x88\\x98\\xec\\xa7\\x91 \\xec\\xa4\\x91!\\n12\\xeb\\xb2\\x88\\xec\\xa7\\xb8 \\xed\\x8e\\x98\\xec\\x9d\\xb4\\xec\\xa7\\x80 \\xec\\x88\\x98\\xec\\xa7\\x91 \\xec\\xa4\\x91!\\n13\\xeb\\xb2\\x88\\xec\\xa7\\xb8 \\xed\\x8e\\x98\\xec\\x9d\\xb4\\xec\\xa7\\x80 \\xec\\x88\\x98\\xec\\xa7\\x91 \\xec\\xa4\\x91!\\n14\\xeb\\xb2\\x88\\xec\\xa7\\xb8 \\xed\\x8e\\x98\\xec\\x9d\\xb4\\xec\\xa7\\x80 \\xec\\x88\\x98\\xec\\xa7\\x91 \\xec\\xa4\\x91!\\n15\\xeb\\xb2\\x88\\xec\\xa7\\xb8 \\xed\\x8e\\x98\\xec\\x9d\\xb4\\xec\\xa7\\x80 \\xec\\x88\\x98\\xec\\xa7\\x91 \\xec\\xa4\\x91!\\n'"
      ]
     },
     "execution_count": 101,
     "metadata": {},
     "output_type": "execute_result"
    }
   ],
   "source": [
    "text.encode(encoding = 'UTF-8')"
   ]
  },
  {
   "cell_type": "code",
   "execution_count": 102,
   "id": "769d4b61",
   "metadata": {},
   "outputs": [],
   "source": [
    "file = open(file = 'test.txt', mode = 'rb')"
   ]
  },
  {
   "cell_type": "code",
   "execution_count": 103,
   "id": "4ab6fab4",
   "metadata": {},
   "outputs": [],
   "source": [
    "text = file.read()"
   ]
  },
  {
   "cell_type": "code",
   "execution_count": 104,
   "id": "ca208c9c",
   "metadata": {},
   "outputs": [
    {
     "data": {
      "text/plain": [
       "b'1\\xeb\\xb2\\x88\\xec\\xa7\\xb8 \\xed\\x8e\\x98\\xec\\x9d\\xb4\\xec\\xa7\\x80 \\xec\\x88\\x98\\xec\\xa7\\x91 \\xec\\xa4\\x91!\\n2\\xeb\\xb2\\x88\\xec\\xa7\\xb8 \\xed\\x8e\\x98\\xec\\x9d\\xb4\\xec\\xa7\\x80 \\xec\\x88\\x98\\xec\\xa7\\x91 \\xec\\xa4\\x91!\\n3\\xeb\\xb2\\x88\\xec\\xa7\\xb8 \\xed\\x8e\\x98\\xec\\x9d\\xb4\\xec\\xa7\\x80 \\xec\\x88\\x98\\xec\\xa7\\x91 \\xec\\xa4\\x91!\\n4\\xeb\\xb2\\x88\\xec\\xa7\\xb8 \\xed\\x8e\\x98\\xec\\x9d\\xb4\\xec\\xa7\\x80 \\xec\\x88\\x98\\xec\\xa7\\x91 \\xec\\xa4\\x91!\\n5\\xeb\\xb2\\x88\\xec\\xa7\\xb8 \\xed\\x8e\\x98\\xec\\x9d\\xb4\\xec\\xa7\\x80 \\xec\\x88\\x98\\xec\\xa7\\x91 \\xec\\xa4\\x91!\\n11\\xeb\\xb2\\x88\\xec\\xa7\\xb8 \\xed\\x8e\\x98\\xec\\x9d\\xb4\\xec\\xa7\\x80 \\xec\\x88\\x98\\xec\\xa7\\x91 \\xec\\xa4\\x91!\\n12\\xeb\\xb2\\x88\\xec\\xa7\\xb8 \\xed\\x8e\\x98\\xec\\x9d\\xb4\\xec\\xa7\\x80 \\xec\\x88\\x98\\xec\\xa7\\x91 \\xec\\xa4\\x91!\\n13\\xeb\\xb2\\x88\\xec\\xa7\\xb8 \\xed\\x8e\\x98\\xec\\x9d\\xb4\\xec\\xa7\\x80 \\xec\\x88\\x98\\xec\\xa7\\x91 \\xec\\xa4\\x91!\\n14\\xeb\\xb2\\x88\\xec\\xa7\\xb8 \\xed\\x8e\\x98\\xec\\x9d\\xb4\\xec\\xa7\\x80 \\xec\\x88\\x98\\xec\\xa7\\x91 \\xec\\xa4\\x91!\\n15\\xeb\\xb2\\x88\\xec\\xa7\\xb8 \\xed\\x8e\\x98\\xec\\x9d\\xb4\\xec\\xa7\\x80 \\xec\\x88\\x98\\xec\\xa7\\x91 \\xec\\xa4\\x91!\\n'"
      ]
     },
     "execution_count": 104,
     "metadata": {},
     "output_type": "execute_result"
    }
   ],
   "source": [
    "text"
   ]
  },
  {
   "cell_type": "code",
   "execution_count": 105,
   "id": "f439b420",
   "metadata": {},
   "outputs": [
    {
     "data": {
      "text/plain": [
       "bytes"
      ]
     },
     "execution_count": 105,
     "metadata": {},
     "output_type": "execute_result"
    }
   ],
   "source": [
    "type(text)"
   ]
  },
  {
   "cell_type": "code",
   "execution_count": 106,
   "id": "5848f840",
   "metadata": {},
   "outputs": [
    {
     "data": {
      "text/plain": [
       "'1번째 페이지 수집 중!\\n2번째 페이지 수집 중!\\n3번째 페이지 수집 중!\\n4번째 페이지 수집 중!\\n5번째 페이지 수집 중!\\n11번째 페이지 수집 중!\\n12번째 페이지 수집 중!\\n13번째 페이지 수집 중!\\n14번째 페이지 수집 중!\\n15번째 페이지 수집 중!\\n'"
      ]
     },
     "execution_count": 106,
     "metadata": {},
     "output_type": "execute_result"
    }
   ],
   "source": [
    "text.decode(encoding = 'UTF-8')"
   ]
  },
  {
   "cell_type": "markdown",
   "id": "d48146e0",
   "metadata": {},
   "source": [
    "### 김근환님 질문"
   ]
  },
  {
   "cell_type": "code",
   "execution_count": 110,
   "id": "cae9aed6",
   "metadata": {},
   "outputs": [],
   "source": [
    "file = open(file = 'test.txt', mode = 'rb')"
   ]
  },
  {
   "cell_type": "code",
   "execution_count": 111,
   "id": "8bcd29b7",
   "metadata": {},
   "outputs": [],
   "source": [
    "text = file.read()"
   ]
  },
  {
   "cell_type": "code",
   "execution_count": 112,
   "id": "ff7dfce5",
   "metadata": {},
   "outputs": [
    {
     "data": {
      "text/plain": [
       "b'1\\xeb\\xb2\\x88\\xec\\xa7\\xb8 \\xed\\x8e\\x98\\xec\\x9d\\xb4\\xec\\xa7\\x80 \\xec\\x88\\x98\\xec\\xa7\\x91 \\xec\\xa4\\x91!\\n2\\xeb\\xb2\\x88\\xec\\xa7\\xb8 \\xed\\x8e\\x98\\xec\\x9d\\xb4\\xec\\xa7\\x80 \\xec\\x88\\x98\\xec\\xa7\\x91 \\xec\\xa4\\x91!\\n3\\xeb\\xb2\\x88\\xec\\xa7\\xb8 \\xed\\x8e\\x98\\xec\\x9d\\xb4\\xec\\xa7\\x80 \\xec\\x88\\x98\\xec\\xa7\\x91 \\xec\\xa4\\x91!\\n4\\xeb\\xb2\\x88\\xec\\xa7\\xb8 \\xed\\x8e\\x98\\xec\\x9d\\xb4\\xec\\xa7\\x80 \\xec\\x88\\x98\\xec\\xa7\\x91 \\xec\\xa4\\x91!\\n5\\xeb\\xb2\\x88\\xec\\xa7\\xb8 \\xed\\x8e\\x98\\xec\\x9d\\xb4\\xec\\xa7\\x80 \\xec\\x88\\x98\\xec\\xa7\\x91 \\xec\\xa4\\x91!\\n11\\xeb\\xb2\\x88\\xec\\xa7\\xb8 \\xed\\x8e\\x98\\xec\\x9d\\xb4\\xec\\xa7\\x80 \\xec\\x88\\x98\\xec\\xa7\\x91 \\xec\\xa4\\x91!\\n12\\xeb\\xb2\\x88\\xec\\xa7\\xb8 \\xed\\x8e\\x98\\xec\\x9d\\xb4\\xec\\xa7\\x80 \\xec\\x88\\x98\\xec\\xa7\\x91 \\xec\\xa4\\x91!\\n13\\xeb\\xb2\\x88\\xec\\xa7\\xb8 \\xed\\x8e\\x98\\xec\\x9d\\xb4\\xec\\xa7\\x80 \\xec\\x88\\x98\\xec\\xa7\\x91 \\xec\\xa4\\x91!\\n14\\xeb\\xb2\\x88\\xec\\xa7\\xb8 \\xed\\x8e\\x98\\xec\\x9d\\xb4\\xec\\xa7\\x80 \\xec\\x88\\x98\\xec\\xa7\\x91 \\xec\\xa4\\x91!\\n15\\xeb\\xb2\\x88\\xec\\xa7\\xb8 \\xed\\x8e\\x98\\xec\\x9d\\xb4\\xec\\xa7\\x80 \\xec\\x88\\x98\\xec\\xa7\\x91 \\xec\\xa4\\x91!\\n'"
      ]
     },
     "execution_count": 112,
     "metadata": {},
     "output_type": "execute_result"
    }
   ],
   "source": [
    "text"
   ]
  },
  {
   "cell_type": "code",
   "execution_count": 113,
   "id": "1390283a",
   "metadata": {},
   "outputs": [
    {
     "data": {
      "text/plain": [
       "b'1\\xeb\\xb2\\x88\\xec\\xa7\\xb8 \\xed\\x8e\\x98\\xec\\x9d\\xb4\\xec\\xa7\\x80 \\xec\\x88\\x98\\xec\\xa7\\x91 \\xec\\xa4\\x91!\\n2\\xeb\\xb2\\x88\\xec\\xa7\\xb8 \\xed\\x8e\\x98\\xec\\x9d\\xb4\\xec\\xa7\\x80 \\xec\\x88\\x98\\xec\\xa7\\x91 \\xec\\xa4\\x91!\\n3\\xeb\\xb2\\x88\\xec\\xa7\\xb8 \\xed\\x8e\\x98\\xec\\x9d\\xb4\\xec\\xa7\\x80 \\xec\\x88\\x98\\xec\\xa7\\x91 \\xec\\xa4\\x91!\\n4\\xeb\\xb2\\x88\\xec\\xa7\\xb8 \\xed\\x8e\\x98\\xec\\x9d\\xb4\\xec\\xa7\\x80 \\xec\\x88\\x98\\xec\\xa7\\x91 \\xec\\xa4\\x91!\\n5\\xeb\\xb2\\x88\\xec\\xa7\\xb8 \\xed\\x8e\\x98\\xec\\x9d\\xb4\\xec\\xa7\\x80 \\xec\\x88\\x98\\xec\\xa7\\x91 \\xec\\xa4\\x91!\\n11\\xeb\\xb2\\x88\\xec\\xa7\\xb8 \\xed\\x8e\\x98\\xec\\x9d\\xb4\\xec\\xa7\\x80 \\xec\\x88\\x98\\xec\\xa7\\x91 \\xec\\xa4\\x91!\\n12\\xeb\\xb2\\x88\\xec\\xa7\\xb8 \\xed\\x8e\\x98\\xec\\x9d\\xb4\\xec\\xa7\\x80 \\xec\\x88\\x98\\xec\\xa7\\x91 \\xec\\xa4\\x91!\\n13\\xeb\\xb2\\x88\\xec\\xa7\\xb8 \\xed\\x8e\\x98\\xec\\x9d\\xb4\\xec\\xa7\\x80 \\xec\\x88\\x98\\xec\\xa7\\x91 \\xec\\xa4\\x91!\\n14\\xeb\\xb2\\x88\\xec\\xa7\\xb8 \\xed\\x8e\\x98\\xec\\x9d\\xb4\\xec\\xa7\\x80 \\xec\\x88\\x98\\xec\\xa7\\x91 \\xec\\xa4\\x91!\\n15\\xeb\\xb2\\x88\\xec\\xa7\\xb8 \\xed\\x8e\\x98\\xec\\x9d\\xb4\\xec\\xa7\\x80 \\xec\\x88\\x98\\xec\\xa7\\x91 \\xec\\xa4\\x91!\\n'"
      ]
     },
     "execution_count": 113,
     "metadata": {},
     "output_type": "execute_result"
    }
   ],
   "source": [
    "text"
   ]
  },
  {
   "cell_type": "code",
   "execution_count": 114,
   "id": "e9cb8bad",
   "metadata": {},
   "outputs": [],
   "source": [
    "os.mkdir(path = './temp')"
   ]
  },
  {
   "cell_type": "code",
   "execution_count": 115,
   "id": "384b5554",
   "metadata": {},
   "outputs": [
    {
     "data": {
      "text/plain": [
       "'copy1.txt'"
      ]
     },
     "execution_count": 115,
     "metadata": {},
     "output_type": "execute_result"
    }
   ],
   "source": [
    "shutil.copy(src = 'test.txt', dst = 'copy1.txt')"
   ]
  },
  {
   "cell_type": "code",
   "execution_count": 116,
   "id": "64251770",
   "metadata": {},
   "outputs": [
    {
     "data": {
      "text/plain": [
       "'./temp/test.txt'"
      ]
     },
     "execution_count": 116,
     "metadata": {},
     "output_type": "execute_result"
    }
   ],
   "source": [
    "shutil.copy(src = 'test.txt', dst = './temp')"
   ]
  },
  {
   "cell_type": "code",
   "execution_count": 117,
   "id": "820d5616",
   "metadata": {},
   "outputs": [
    {
     "data": {
      "text/plain": [
       "'./temp/copy1.txt'"
      ]
     },
     "execution_count": 117,
     "metadata": {},
     "output_type": "execute_result"
    }
   ],
   "source": [
    "shutil.move(src = 'copy1.txt', dst = './temp')"
   ]
  },
  {
   "cell_type": "code",
   "execution_count": 118,
   "id": "61c87ccf",
   "metadata": {},
   "outputs": [
    {
     "data": {
      "text/plain": [
       "['temp',\n",
       " 'Naver_APT_Detail_Seoul.xlsx',\n",
       " 'Naver_APT_Detail_Seoul.csv',\n",
       " 'APT_Price_Seoul_2021.csv',\n",
       " 'KBO_Hitters_2021.xlsx',\n",
       " 'KBO_Hitters_2021.csv',\n",
       " 'test.txt',\n",
       " 'APT_Price_Seoul_2021.xlsx']"
      ]
     },
     "execution_count": 118,
     "metadata": {},
     "output_type": "execute_result"
    }
   ],
   "source": [
    "os.listdir()"
   ]
  },
  {
   "cell_type": "code",
   "execution_count": 120,
   "id": "615e9f96",
   "metadata": {},
   "outputs": [
    {
     "data": {
      "text/plain": [
       "['Naver_APT_Detail_Seoul.xlsx',\n",
       " 'KBO_Hitters_2021.xlsx',\n",
       " 'APT_Price_Seoul_2021.xlsx']"
      ]
     },
     "execution_count": 120,
     "metadata": {},
     "output_type": "execute_result"
    }
   ],
   "source": [
    "files = [i for i in os.listdir() if 'xlsx' in i]\n",
    "files"
   ]
  },
  {
   "cell_type": "code",
   "execution_count": 121,
   "id": "edb0ea17",
   "metadata": {},
   "outputs": [],
   "source": [
    "for file in files:\n",
    "    shutil.copy(src = file, dst = './temp')"
   ]
  },
  {
   "cell_type": "code",
   "execution_count": 122,
   "id": "29313e38",
   "metadata": {},
   "outputs": [
    {
     "data": {
      "text/plain": [
       "['Naver_APT_Detail_Seoul.xlsx',\n",
       " 'copy1.txt',\n",
       " 'KBO_Hitters_2021.xlsx',\n",
       " 'test.txt',\n",
       " 'APT_Price_Seoul_2021.xlsx']"
      ]
     },
     "execution_count": 122,
     "metadata": {},
     "output_type": "execute_result"
    }
   ],
   "source": [
    "os.listdir(path = './temp')"
   ]
  },
  {
   "cell_type": "code",
   "execution_count": 123,
   "id": "218b852f",
   "metadata": {},
   "outputs": [],
   "source": [
    "os.chdir(path = './temp')"
   ]
  },
  {
   "cell_type": "code",
   "execution_count": 124,
   "id": "f685add5",
   "metadata": {},
   "outputs": [
    {
     "data": {
      "text/plain": [
       "'/Users/drkevin/Documents/PythonBasicProgramming-main/data/temp'"
      ]
     },
     "execution_count": 124,
     "metadata": {},
     "output_type": "execute_result"
    }
   ],
   "source": [
    "os.getcwd()"
   ]
  },
  {
   "cell_type": "code",
   "execution_count": 125,
   "id": "0f86155b",
   "metadata": {},
   "outputs": [
    {
     "data": {
      "text/plain": [
       "['Naver_APT_Detail_Seoul.xlsx',\n",
       " 'copy1.txt',\n",
       " 'KBO_Hitters_2021.xlsx',\n",
       " 'test.txt',\n",
       " 'APT_Price_Seoul_2021.xlsx']"
      ]
     },
     "execution_count": 125,
     "metadata": {},
     "output_type": "execute_result"
    }
   ],
   "source": [
    "os.listdir()"
   ]
  },
  {
   "cell_type": "code",
   "execution_count": 126,
   "id": "14715eea",
   "metadata": {},
   "outputs": [],
   "source": [
    "os.rename(src = 'test.txt', dst = 'copy2.txt')"
   ]
  },
  {
   "cell_type": "code",
   "execution_count": 127,
   "id": "c48f8533",
   "metadata": {},
   "outputs": [],
   "source": [
    "os.mkdir(path = './temp2')"
   ]
  },
  {
   "cell_type": "code",
   "execution_count": 128,
   "id": "b68f71e9",
   "metadata": {},
   "outputs": [],
   "source": [
    "os.remove(path = 'copy1.txt')"
   ]
  },
  {
   "cell_type": "code",
   "execution_count": 129,
   "id": "c8ba9ff2",
   "metadata": {},
   "outputs": [
    {
     "ename": "PermissionError",
     "evalue": "[Errno 1] Operation not permitted: './temp2'",
     "output_type": "error",
     "traceback": [
      "\u001b[0;31m---------------------------------------------------------------------------\u001b[0m",
      "\u001b[0;31mPermissionError\u001b[0m                           Traceback (most recent call last)",
      "Input \u001b[0;32mIn [129]\u001b[0m, in \u001b[0;36m<cell line: 1>\u001b[0;34m()\u001b[0m\n\u001b[0;32m----> 1\u001b[0m \u001b[43mos\u001b[49m\u001b[38;5;241;43m.\u001b[39;49m\u001b[43mremove\u001b[49m\u001b[43m(\u001b[49m\u001b[43mpath\u001b[49m\u001b[43m \u001b[49m\u001b[38;5;241;43m=\u001b[39;49m\u001b[43m \u001b[49m\u001b[38;5;124;43m'\u001b[39;49m\u001b[38;5;124;43m./temp2\u001b[39;49m\u001b[38;5;124;43m'\u001b[39;49m\u001b[43m)\u001b[49m\n",
      "\u001b[0;31mPermissionError\u001b[0m: [Errno 1] Operation not permitted: './temp2'"
     ]
    }
   ],
   "source": [
    "os.remove(path = './temp2')"
   ]
  },
  {
   "cell_type": "code",
   "execution_count": 130,
   "id": "30a0cfe1",
   "metadata": {},
   "outputs": [
    {
     "ename": "PermissionError",
     "evalue": "[Errno 1] Operation not permitted: 'temp2'",
     "output_type": "error",
     "traceback": [
      "\u001b[0;31m---------------------------------------------------------------------------\u001b[0m",
      "\u001b[0;31mPermissionError\u001b[0m                           Traceback (most recent call last)",
      "Input \u001b[0;32mIn [130]\u001b[0m, in \u001b[0;36m<cell line: 1>\u001b[0;34m()\u001b[0m\n\u001b[1;32m      1\u001b[0m \u001b[38;5;28;01mfor\u001b[39;00m i \u001b[38;5;129;01min\u001b[39;00m os\u001b[38;5;241m.\u001b[39mlistdir():\n\u001b[0;32m----> 2\u001b[0m     \u001b[43mos\u001b[49m\u001b[38;5;241;43m.\u001b[39;49m\u001b[43mremove\u001b[49m\u001b[43m(\u001b[49m\u001b[43mi\u001b[49m\u001b[43m)\u001b[49m\n",
      "\u001b[0;31mPermissionError\u001b[0m: [Errno 1] Operation not permitted: 'temp2'"
     ]
    }
   ],
   "source": [
    "for i in os.listdir():\n",
    "    os.remove(i)"
   ]
  },
  {
   "cell_type": "code",
   "execution_count": 131,
   "id": "efe94307",
   "metadata": {},
   "outputs": [
    {
     "name": "stdout",
     "output_type": "stream",
     "text": [
      "temp2\n"
     ]
    }
   ],
   "source": [
    "print(i)"
   ]
  },
  {
   "cell_type": "code",
   "execution_count": 132,
   "id": "a22510d4",
   "metadata": {},
   "outputs": [
    {
     "data": {
      "text/plain": [
       "True"
      ]
     },
     "execution_count": 132,
     "metadata": {},
     "output_type": "execute_result"
    }
   ],
   "source": [
    "os.path.isdir(i)"
   ]
  },
  {
   "cell_type": "code",
   "execution_count": 133,
   "id": "f560ef78",
   "metadata": {
    "scrolled": true
   },
   "outputs": [
    {
     "data": {
      "text/plain": [
       "False"
      ]
     },
     "execution_count": 133,
     "metadata": {},
     "output_type": "execute_result"
    }
   ],
   "source": [
    "os.path.isfile(i)"
   ]
  },
  {
   "cell_type": "code",
   "execution_count": 134,
   "id": "fc9a0bdc",
   "metadata": {},
   "outputs": [],
   "source": [
    "for i in os.listdir():\n",
    "    if os.path.isfile(i):\n",
    "        os.remove(i)"
   ]
  },
  {
   "cell_type": "code",
   "execution_count": null,
   "id": "3c767a06",
   "metadata": {},
   "outputs": [],
   "source": [
    "not os.path.isdir(s = i)"
   ]
  },
  {
   "cell_type": "code",
   "execution_count": null,
   "id": "02de4de1",
   "metadata": {},
   "outputs": [],
   "source": []
  },
  {
   "cell_type": "code",
   "execution_count": 135,
   "id": "ac92787d",
   "metadata": {},
   "outputs": [],
   "source": [
    "os.chdir('..')"
   ]
  },
  {
   "cell_type": "code",
   "execution_count": 136,
   "id": "3db41546",
   "metadata": {},
   "outputs": [
    {
     "data": {
      "text/plain": [
       "'/Users/drkevin/Documents/PythonBasicProgramming-main/data'"
      ]
     },
     "execution_count": 136,
     "metadata": {},
     "output_type": "execute_result"
    }
   ],
   "source": [
    "os.getcwd()"
   ]
  },
  {
   "cell_type": "code",
   "execution_count": 137,
   "id": "295cba54",
   "metadata": {},
   "outputs": [
    {
     "data": {
      "text/plain": [
       "['temp',\n",
       " 'Naver_APT_Detail_Seoul.xlsx',\n",
       " 'Naver_APT_Detail_Seoul.csv',\n",
       " 'APT_Price_Seoul_2021.csv',\n",
       " 'KBO_Hitters_2021.xlsx',\n",
       " 'KBO_Hitters_2021.csv',\n",
       " 'test.txt',\n",
       " 'APT_Price_Seoul_2021.xlsx']"
      ]
     },
     "execution_count": 137,
     "metadata": {},
     "output_type": "execute_result"
    }
   ],
   "source": [
    "os.listdir()"
   ]
  },
  {
   "cell_type": "code",
   "execution_count": 138,
   "id": "741dcca0",
   "metadata": {},
   "outputs": [
    {
     "ename": "OSError",
     "evalue": "[Errno 66] Directory not empty: 'temp'",
     "output_type": "error",
     "traceback": [
      "\u001b[0;31m---------------------------------------------------------------------------\u001b[0m",
      "\u001b[0;31mOSError\u001b[0m                                   Traceback (most recent call last)",
      "Input \u001b[0;32mIn [138]\u001b[0m, in \u001b[0;36m<cell line: 1>\u001b[0;34m()\u001b[0m\n\u001b[0;32m----> 1\u001b[0m \u001b[43mos\u001b[49m\u001b[38;5;241;43m.\u001b[39;49m\u001b[43mrmdir\u001b[49m\u001b[43m(\u001b[49m\u001b[38;5;124;43m'\u001b[39;49m\u001b[38;5;124;43mtemp\u001b[39;49m\u001b[38;5;124;43m'\u001b[39;49m\u001b[43m)\u001b[49m\n",
      "\u001b[0;31mOSError\u001b[0m: [Errno 66] Directory not empty: 'temp'"
     ]
    }
   ],
   "source": [
    "os.rmdir('temp')"
   ]
  },
  {
   "cell_type": "code",
   "execution_count": 139,
   "id": "3b490668",
   "metadata": {},
   "outputs": [],
   "source": [
    "shutil.rmtree('temp')"
   ]
  },
  {
   "cell_type": "code",
   "execution_count": 140,
   "id": "6d0b0ef8",
   "metadata": {},
   "outputs": [],
   "source": [
    "from datetime import datetime, timedelta"
   ]
  },
  {
   "cell_type": "code",
   "execution_count": 141,
   "id": "c9788ee9",
   "metadata": {},
   "outputs": [],
   "source": [
    "ctime = datetime.now()"
   ]
  },
  {
   "cell_type": "code",
   "execution_count": 142,
   "id": "7ef70819",
   "metadata": {},
   "outputs": [
    {
     "data": {
      "text/plain": [
       "datetime.datetime(2022, 4, 26, 13, 43, 49, 803433)"
      ]
     },
     "execution_count": 142,
     "metadata": {},
     "output_type": "execute_result"
    }
   ],
   "source": [
    "ctime"
   ]
  },
  {
   "cell_type": "code",
   "execution_count": 143,
   "id": "76e8e45f",
   "metadata": {},
   "outputs": [
    {
     "data": {
      "text/plain": [
       "datetime.date(2022, 4, 26)"
      ]
     },
     "execution_count": 143,
     "metadata": {},
     "output_type": "execute_result"
    }
   ],
   "source": [
    "ctime.date()"
   ]
  },
  {
   "cell_type": "code",
   "execution_count": 144,
   "id": "5b7939d6",
   "metadata": {},
   "outputs": [
    {
     "data": {
      "text/plain": [
       "datetime.time(13, 43, 49, 803433)"
      ]
     },
     "execution_count": 144,
     "metadata": {},
     "output_type": "execute_result"
    }
   ],
   "source": [
    "ctime.time()"
   ]
  },
  {
   "cell_type": "code",
   "execution_count": 145,
   "id": "62350a47",
   "metadata": {},
   "outputs": [
    {
     "data": {
      "text/plain": [
       "1650948229.803433"
      ]
     },
     "execution_count": 145,
     "metadata": {},
     "output_type": "execute_result"
    }
   ],
   "source": [
    "ctime.timestamp()"
   ]
  },
  {
   "cell_type": "code",
   "execution_count": 146,
   "id": "29b00430",
   "metadata": {},
   "outputs": [
    {
     "data": {
      "text/plain": [
       "'2022년 04월 26일 13:43:49 Tuesday'"
      ]
     },
     "execution_count": 146,
     "metadata": {},
     "output_type": "execute_result"
    }
   ],
   "source": [
    "ctime.strftime('%Y년 %m월 %d일 %H:%M:%S %A')"
   ]
  },
  {
   "cell_type": "code",
   "execution_count": 147,
   "id": "c96966f9",
   "metadata": {},
   "outputs": [
    {
     "data": {
      "text/plain": [
       "datetime.datetime(2001, 2, 3, 4, 5, 6)"
      ]
     },
     "execution_count": 147,
     "metadata": {},
     "output_type": "execute_result"
    }
   ],
   "source": [
    "birth = '2001년 2월 3일 4시 5분 6초'\n",
    "birth = datetime.strptime(birth, '%Y년 %m월 %d일 %H시 %M분 %S초')\n",
    "birth"
   ]
  },
  {
   "cell_type": "code",
   "execution_count": 148,
   "id": "64cb7d31",
   "metadata": {},
   "outputs": [
    {
     "data": {
      "text/plain": [
       "datetime.datetime(2001, 2, 3, 4, 5, 6)"
      ]
     },
     "execution_count": 148,
     "metadata": {},
     "output_type": "execute_result"
    }
   ],
   "source": [
    "birth = datetime(2001, 2, 3, 4, 5, 6)\n",
    "birth"
   ]
  },
  {
   "cell_type": "code",
   "execution_count": 149,
   "id": "5ef245cf",
   "metadata": {},
   "outputs": [],
   "source": [
    "dtGap = ctime - birth"
   ]
  },
  {
   "cell_type": "code",
   "execution_count": 151,
   "id": "1f521faa",
   "metadata": {},
   "outputs": [
    {
     "data": {
      "text/plain": [
       "7752"
      ]
     },
     "execution_count": 151,
     "metadata": {},
     "output_type": "execute_result"
    }
   ],
   "source": [
    "dtGap.days"
   ]
  },
  {
   "cell_type": "code",
   "execution_count": 153,
   "id": "8b086afb",
   "metadata": {},
   "outputs": [
    {
     "data": {
      "text/plain": [
       "162792000"
      ]
     },
     "execution_count": 153,
     "metadata": {},
     "output_type": "execute_result"
    }
   ],
   "source": [
    "dtGap.days * 3 * 7000"
   ]
  },
  {
   "cell_type": "code",
   "execution_count": 154,
   "id": "13712e1f",
   "metadata": {
    "scrolled": true
   },
   "outputs": [
    {
     "data": {
      "text/plain": [
       "['__abs__',\n",
       " '__add__',\n",
       " '__bool__',\n",
       " '__class__',\n",
       " '__delattr__',\n",
       " '__dir__',\n",
       " '__divmod__',\n",
       " '__doc__',\n",
       " '__eq__',\n",
       " '__floordiv__',\n",
       " '__format__',\n",
       " '__ge__',\n",
       " '__getattribute__',\n",
       " '__gt__',\n",
       " '__hash__',\n",
       " '__init__',\n",
       " '__init_subclass__',\n",
       " '__le__',\n",
       " '__lt__',\n",
       " '__mod__',\n",
       " '__mul__',\n",
       " '__ne__',\n",
       " '__neg__',\n",
       " '__new__',\n",
       " '__pos__',\n",
       " '__radd__',\n",
       " '__rdivmod__',\n",
       " '__reduce__',\n",
       " '__reduce_ex__',\n",
       " '__repr__',\n",
       " '__rfloordiv__',\n",
       " '__rmod__',\n",
       " '__rmul__',\n",
       " '__rsub__',\n",
       " '__rtruediv__',\n",
       " '__setattr__',\n",
       " '__sizeof__',\n",
       " '__str__',\n",
       " '__sub__',\n",
       " '__subclasshook__',\n",
       " '__truediv__',\n",
       " 'days',\n",
       " 'max',\n",
       " 'microseconds',\n",
       " 'min',\n",
       " 'resolution',\n",
       " 'seconds',\n",
       " 'total_seconds']"
      ]
     },
     "execution_count": 154,
     "metadata": {},
     "output_type": "execute_result"
    }
   ],
   "source": [
    "dir(dtGap)"
   ]
  },
  {
   "cell_type": "code",
   "execution_count": 155,
   "id": "5ef94f9e",
   "metadata": {},
   "outputs": [],
   "source": [
    "d_day = datetime(2022, 1, 1, 19, 0, 0)"
   ]
  },
  {
   "cell_type": "code",
   "execution_count": 156,
   "id": "d610f519",
   "metadata": {},
   "outputs": [
    {
     "data": {
      "text/plain": [
       "datetime.datetime(2022, 4, 10, 19, 0)"
      ]
     },
     "execution_count": 156,
     "metadata": {},
     "output_type": "execute_result"
    }
   ],
   "source": [
    "d_day + timedelta(days = 99)"
   ]
  },
  {
   "cell_type": "code",
   "execution_count": 158,
   "id": "bc57ae0c",
   "metadata": {},
   "outputs": [],
   "source": [
    "spot = d_day - timedelta(hours = 2)"
   ]
  },
  {
   "cell_type": "code",
   "execution_count": 160,
   "id": "20de60b2",
   "metadata": {},
   "outputs": [
    {
     "data": {
      "text/plain": [
       "'01월 01일'"
      ]
     },
     "execution_count": 160,
     "metadata": {},
     "output_type": "execute_result"
    }
   ],
   "source": [
    "spot.strftime('%m월 %d일')"
   ]
  },
  {
   "cell_type": "code",
   "execution_count": 166,
   "id": "101075fa",
   "metadata": {},
   "outputs": [],
   "source": [
    "ctime = datetime.now()\n",
    "today = ctime.strftime('%y/%m/%d')"
   ]
  },
  {
   "cell_type": "code",
   "execution_count": 167,
   "id": "d188dd92",
   "metadata": {},
   "outputs": [
    {
     "data": {
      "text/plain": [
       "'Result_22/04/26.xlsx'"
      ]
     },
     "execution_count": 167,
     "metadata": {},
     "output_type": "execute_result"
    }
   ],
   "source": [
    "fileName = f'Result_{today}.xlsx'\n",
    "fileName"
   ]
  },
  {
   "cell_type": "code",
   "execution_count": 168,
   "id": "654fffdc",
   "metadata": {},
   "outputs": [],
   "source": [
    "import locale"
   ]
  },
  {
   "cell_type": "code",
   "execution_count": 169,
   "id": "f813c7a6",
   "metadata": {},
   "outputs": [
    {
     "data": {
      "text/plain": [
       "(None, None)"
      ]
     },
     "execution_count": 169,
     "metadata": {},
     "output_type": "execute_result"
    }
   ],
   "source": [
    "locale.getlocale(category = locale.LC_TIME)"
   ]
  },
  {
   "cell_type": "code",
   "execution_count": 170,
   "id": "cb9aa30c",
   "metadata": {},
   "outputs": [
    {
     "data": {
      "text/plain": [
       "'ko_KR'"
      ]
     },
     "execution_count": 170,
     "metadata": {},
     "output_type": "execute_result"
    }
   ],
   "source": [
    "locale.setlocale(category = locale.LC_TIME, locale = 'ko_KR')"
   ]
  },
  {
   "cell_type": "code",
   "execution_count": 171,
   "id": "a6e7ee98",
   "metadata": {},
   "outputs": [
    {
     "data": {
      "text/plain": [
       "'2022년 04월 26일 14:22:15 화요일'"
      ]
     },
     "execution_count": 171,
     "metadata": {},
     "output_type": "execute_result"
    }
   ],
   "source": [
    "ctime.strftime('%Y년 %m월 %d일 %H:%M:%S %A')"
   ]
  },
  {
   "cell_type": "raw",
   "id": "26e19789",
   "metadata": {},
   "source": [
    "!pip install numpy"
   ]
  },
  {
   "cell_type": "code",
   "execution_count": 172,
   "id": "d72b6c64",
   "metadata": {},
   "outputs": [],
   "source": [
    "import numpy as np"
   ]
  },
  {
   "cell_type": "code",
   "execution_count": 173,
   "id": "e89bf153",
   "metadata": {},
   "outputs": [],
   "source": [
    "ar1 = np.array([1, 2, 3])"
   ]
  },
  {
   "cell_type": "code",
   "execution_count": 174,
   "id": "31763a8e",
   "metadata": {},
   "outputs": [
    {
     "data": {
      "text/plain": [
       "array([1, 2, 3])"
      ]
     },
     "execution_count": 174,
     "metadata": {},
     "output_type": "execute_result"
    }
   ],
   "source": [
    "ar1"
   ]
  },
  {
   "cell_type": "code",
   "execution_count": 175,
   "id": "9119157d",
   "metadata": {},
   "outputs": [
    {
     "name": "stdout",
     "output_type": "stream",
     "text": [
      "[1 2 3]\n"
     ]
    }
   ],
   "source": [
    "print(ar1)"
   ]
  },
  {
   "cell_type": "code",
   "execution_count": 176,
   "id": "89786fee",
   "metadata": {},
   "outputs": [],
   "source": [
    "a = [1, 2, 3]"
   ]
  },
  {
   "cell_type": "code",
   "execution_count": 177,
   "id": "099529d7",
   "metadata": {},
   "outputs": [
    {
     "name": "stdout",
     "output_type": "stream",
     "text": [
      "[1, 2, 3]\n"
     ]
    }
   ],
   "source": [
    "print(a)"
   ]
  },
  {
   "cell_type": "code",
   "execution_count": 178,
   "id": "f57a2285",
   "metadata": {},
   "outputs": [
    {
     "data": {
      "text/plain": [
       "numpy.ndarray"
      ]
     },
     "execution_count": 178,
     "metadata": {},
     "output_type": "execute_result"
    }
   ],
   "source": [
    "type(ar1)"
   ]
  },
  {
   "cell_type": "code",
   "execution_count": 179,
   "id": "910f2aed",
   "metadata": {},
   "outputs": [
    {
     "data": {
      "text/plain": [
       "list"
      ]
     },
     "execution_count": 179,
     "metadata": {},
     "output_type": "execute_result"
    }
   ],
   "source": [
    "type(a)"
   ]
  },
  {
   "cell_type": "code",
   "execution_count": 180,
   "id": "071cb0f9",
   "metadata": {},
   "outputs": [
    {
     "data": {
      "text/plain": [
       "1"
      ]
     },
     "execution_count": 180,
     "metadata": {},
     "output_type": "execute_result"
    }
   ],
   "source": [
    "ar1.ndim"
   ]
  },
  {
   "cell_type": "code",
   "execution_count": 181,
   "id": "7e7461fa",
   "metadata": {},
   "outputs": [
    {
     "data": {
      "text/plain": [
       "(3,)"
      ]
     },
     "execution_count": 181,
     "metadata": {},
     "output_type": "execute_result"
    }
   ],
   "source": [
    "ar1.shape"
   ]
  },
  {
   "cell_type": "code",
   "execution_count": 182,
   "id": "66ca2333",
   "metadata": {},
   "outputs": [
    {
     "data": {
      "text/plain": [
       "dtype('int64')"
      ]
     },
     "execution_count": 182,
     "metadata": {},
     "output_type": "execute_result"
    }
   ],
   "source": [
    "ar1.dtype"
   ]
  },
  {
   "cell_type": "code",
   "execution_count": 183,
   "id": "0993d213",
   "metadata": {},
   "outputs": [],
   "source": [
    "a = [1, 2.0, '3']"
   ]
  },
  {
   "cell_type": "code",
   "execution_count": 184,
   "id": "4d459b0b",
   "metadata": {},
   "outputs": [],
   "source": [
    "ar1 = np.array(a)"
   ]
  },
  {
   "cell_type": "code",
   "execution_count": 185,
   "id": "24847808",
   "metadata": {},
   "outputs": [
    {
     "data": {
      "text/plain": [
       "array(['1', '2.0', '3'], dtype='<U32')"
      ]
     },
     "execution_count": 185,
     "metadata": {},
     "output_type": "execute_result"
    }
   ],
   "source": [
    "ar1"
   ]
  },
  {
   "cell_type": "code",
   "execution_count": 186,
   "id": "7776bd27",
   "metadata": {},
   "outputs": [
    {
     "data": {
      "text/plain": [
       "array([1., 2., 3.])"
      ]
     },
     "execution_count": 186,
     "metadata": {},
     "output_type": "execute_result"
    }
   ],
   "source": [
    "ar1.astype('float')"
   ]
  },
  {
   "cell_type": "code",
   "execution_count": 187,
   "id": "d191746c",
   "metadata": {},
   "outputs": [
    {
     "ename": "ValueError",
     "evalue": "invalid literal for int() with base 10: '2.0'",
     "output_type": "error",
     "traceback": [
      "\u001b[0;31m---------------------------------------------------------------------------\u001b[0m",
      "\u001b[0;31mValueError\u001b[0m                                Traceback (most recent call last)",
      "Input \u001b[0;32mIn [187]\u001b[0m, in \u001b[0;36m<cell line: 1>\u001b[0;34m()\u001b[0m\n\u001b[0;32m----> 1\u001b[0m \u001b[43mar1\u001b[49m\u001b[38;5;241;43m.\u001b[39;49m\u001b[43mastype\u001b[49m\u001b[43m(\u001b[49m\u001b[38;5;124;43m'\u001b[39;49m\u001b[38;5;124;43mint\u001b[39;49m\u001b[38;5;124;43m'\u001b[39;49m\u001b[43m)\u001b[49m\n",
      "\u001b[0;31mValueError\u001b[0m: invalid literal for int() with base 10: '2.0'"
     ]
    }
   ],
   "source": [
    "ar1.astype('int')"
   ]
  },
  {
   "cell_type": "code",
   "execution_count": 188,
   "id": "0da5b75d",
   "metadata": {},
   "outputs": [
    {
     "data": {
      "text/plain": [
       "array([1, 2, 3])"
      ]
     },
     "execution_count": 188,
     "metadata": {},
     "output_type": "execute_result"
    }
   ],
   "source": [
    "ar1.astype('float').astype('int')"
   ]
  },
  {
   "cell_type": "code",
   "execution_count": 189,
   "id": "87afb8fe",
   "metadata": {},
   "outputs": [
    {
     "data": {
      "text/plain": [
       "array([1., 2., 3.])"
      ]
     },
     "execution_count": 189,
     "metadata": {},
     "output_type": "execute_result"
    }
   ],
   "source": [
    "np.array(object = a, dtype = 'float')"
   ]
  },
  {
   "cell_type": "code",
   "execution_count": 190,
   "id": "962c02f6",
   "metadata": {},
   "outputs": [
    {
     "data": {
      "text/plain": [
       "array([1, 2, 3])"
      ]
     },
     "execution_count": 190,
     "metadata": {},
     "output_type": "execute_result"
    }
   ],
   "source": [
    "np.array(object = a, dtype = 'int')"
   ]
  },
  {
   "cell_type": "code",
   "execution_count": 191,
   "id": "37ef8780",
   "metadata": {},
   "outputs": [
    {
     "data": {
      "text/plain": [
       "array(['1', '2.0', '3'], dtype='<U3')"
      ]
     },
     "execution_count": 191,
     "metadata": {},
     "output_type": "execute_result"
    }
   ],
   "source": [
    "np.array(object = a, dtype = 'str')"
   ]
  },
  {
   "cell_type": "code",
   "execution_count": 192,
   "id": "7c587391",
   "metadata": {},
   "outputs": [
    {
     "data": {
      "text/plain": [
       "array([1, 2.0, '3'], dtype=object)"
      ]
     },
     "execution_count": 192,
     "metadata": {},
     "output_type": "execute_result"
    }
   ],
   "source": [
    "np.array(object = a, dtype = 'object')"
   ]
  },
  {
   "cell_type": "code",
   "execution_count": 193,
   "id": "02d24c08",
   "metadata": {},
   "outputs": [
    {
     "data": {
      "text/plain": [
       "array([0, 1, 2, 3, 4])"
      ]
     },
     "execution_count": 193,
     "metadata": {},
     "output_type": "execute_result"
    }
   ],
   "source": [
    "np.arange(5)"
   ]
  },
  {
   "cell_type": "code",
   "execution_count": 194,
   "id": "dfc2fd9e",
   "metadata": {},
   "outputs": [
    {
     "data": {
      "text/plain": [
       "array([1, 2, 3, 4, 5])"
      ]
     },
     "execution_count": 194,
     "metadata": {},
     "output_type": "execute_result"
    }
   ],
   "source": [
    "np.arange(1, 6)"
   ]
  },
  {
   "cell_type": "code",
   "execution_count": 195,
   "id": "2cd61625",
   "metadata": {},
   "outputs": [
    {
     "data": {
      "text/plain": [
       "array([1, 3, 5, 7, 9])"
      ]
     },
     "execution_count": 195,
     "metadata": {},
     "output_type": "execute_result"
    }
   ],
   "source": [
    "np.arange(1, 11, 2)"
   ]
  },
  {
   "cell_type": "code",
   "execution_count": 196,
   "id": "542a401e",
   "metadata": {},
   "outputs": [
    {
     "data": {
      "text/plain": [
       "array([0. , 0.1, 0.2, 0.3, 0.4, 0.5, 0.6, 0.7, 0.8, 0.9])"
      ]
     },
     "execution_count": 196,
     "metadata": {},
     "output_type": "execute_result"
    }
   ],
   "source": [
    "np.arange(0, 1, 0.1)"
   ]
  },
  {
   "cell_type": "code",
   "execution_count": 197,
   "id": "73e8a858",
   "metadata": {
    "collapsed": true
   },
   "outputs": [
    {
     "ename": "TypeError",
     "evalue": "'float' object cannot be interpreted as an integer",
     "output_type": "error",
     "traceback": [
      "\u001b[0;31m---------------------------------------------------------------------------\u001b[0m",
      "\u001b[0;31mTypeError\u001b[0m                                 Traceback (most recent call last)",
      "Input \u001b[0;32mIn [197]\u001b[0m, in \u001b[0;36m<cell line: 1>\u001b[0;34m()\u001b[0m\n\u001b[0;32m----> 1\u001b[0m \u001b[38;5;28;43mrange\u001b[39;49m\u001b[43m(\u001b[49m\u001b[38;5;241;43m0\u001b[39;49m\u001b[43m,\u001b[49m\u001b[43m \u001b[49m\u001b[38;5;241;43m1\u001b[39;49m\u001b[43m,\u001b[49m\u001b[43m \u001b[49m\u001b[38;5;241;43m0.1\u001b[39;49m\u001b[43m)\u001b[49m\n",
      "\u001b[0;31mTypeError\u001b[0m: 'float' object cannot be interpreted as an integer"
     ]
    }
   ],
   "source": [
    "range(0, 1, 0.1)"
   ]
  },
  {
   "cell_type": "code",
   "execution_count": 198,
   "id": "704aebe7",
   "metadata": {},
   "outputs": [
    {
     "data": {
      "text/plain": [
       "array([0. , 0.1, 0.2, 0.3, 0.4, 0.5, 0.6, 0.7, 0.8, 0.9, 1. ])"
      ]
     },
     "execution_count": 198,
     "metadata": {},
     "output_type": "execute_result"
    }
   ],
   "source": [
    "np.arange(0, 1.1, 0.1)"
   ]
  },
  {
   "cell_type": "code",
   "execution_count": 199,
   "id": "eea8a4e2",
   "metadata": {},
   "outputs": [
    {
     "data": {
      "text/plain": [
       "array([0. , 0.1, 0.2, 0.3, 0.4, 0.5, 0.6, 0.7, 0.8, 0.9, 1. ])"
      ]
     },
     "execution_count": 199,
     "metadata": {},
     "output_type": "execute_result"
    }
   ],
   "source": [
    "np.linspace(0, 1, num = 11)"
   ]
  },
  {
   "cell_type": "code",
   "execution_count": 200,
   "id": "179530ec",
   "metadata": {},
   "outputs": [
    {
     "data": {
      "text/plain": [
       "array([80.        , 79.83870968, 79.67741935, 79.51612903, 79.35483871,\n",
       "       79.19354839, 79.03225806, 78.87096774, 78.70967742, 78.5483871 ,\n",
       "       78.38709677, 78.22580645, 78.06451613, 77.90322581, 77.74193548,\n",
       "       77.58064516, 77.41935484, 77.25806452, 77.09677419, 76.93548387,\n",
       "       76.77419355, 76.61290323, 76.4516129 , 76.29032258, 76.12903226,\n",
       "       75.96774194, 75.80645161, 75.64516129, 75.48387097, 75.32258065,\n",
       "       75.16129032, 75.        ])"
      ]
     },
     "execution_count": 200,
     "metadata": {},
     "output_type": "execute_result"
    }
   ],
   "source": [
    "np.linspace(80, 75, num = 32)"
   ]
  },
  {
   "cell_type": "code",
   "execution_count": 201,
   "id": "f5e65e20",
   "metadata": {},
   "outputs": [
    {
     "data": {
      "text/plain": [
       "array(['1', '2.0', '3'], dtype='<U32')"
      ]
     },
     "execution_count": 201,
     "metadata": {},
     "output_type": "execute_result"
    }
   ],
   "source": [
    "ar1"
   ]
  },
  {
   "cell_type": "code",
   "execution_count": 202,
   "id": "7cdf7f9c",
   "metadata": {},
   "outputs": [
    {
     "data": {
      "text/plain": [
       "array(['1', '2.0', '3', '1', '2.0', '3'], dtype='<U32')"
      ]
     },
     "execution_count": 202,
     "metadata": {},
     "output_type": "execute_result"
    }
   ],
   "source": [
    "np.tile(ar1, 2)"
   ]
  },
  {
   "cell_type": "code",
   "execution_count": 203,
   "id": "467e553f",
   "metadata": {},
   "outputs": [
    {
     "data": {
      "text/plain": [
       "array(['1', '1', '2.0', '2.0', '3', '3'], dtype='<U32')"
      ]
     },
     "execution_count": 203,
     "metadata": {},
     "output_type": "execute_result"
    }
   ],
   "source": [
    "np.repeat(ar1, 2)"
   ]
  },
  {
   "cell_type": "code",
   "execution_count": 204,
   "id": "d57a7dd7",
   "metadata": {},
   "outputs": [
    {
     "data": {
      "text/plain": [
       "array(['1', '2.0', '2.0', '3', '3', '3'], dtype='<U32')"
      ]
     },
     "execution_count": 204,
     "metadata": {},
     "output_type": "execute_result"
    }
   ],
   "source": [
    "np.repeat(ar1, [1, 2, 3])"
   ]
  },
  {
   "cell_type": "code",
   "execution_count": 206,
   "id": "ec6cdcce",
   "metadata": {},
   "outputs": [
    {
     "data": {
      "text/plain": [
       "array(['1', '1', '1', '2.0', '2.0', '3'], dtype='<U32')"
      ]
     },
     "execution_count": 206,
     "metadata": {},
     "output_type": "execute_result"
    }
   ],
   "source": [
    "np.repeat(ar1, range(3, 0, -1))"
   ]
  },
  {
   "cell_type": "code",
   "execution_count": 207,
   "id": "93ac80e7",
   "metadata": {},
   "outputs": [
    {
     "data": {
      "text/plain": [
       "array([ 1,  3,  5,  7,  9, 11])"
      ]
     },
     "execution_count": 207,
     "metadata": {},
     "output_type": "execute_result"
    }
   ],
   "source": [
    "ar1 = np.arange(1, 12, 2)\n",
    "ar1"
   ]
  },
  {
   "cell_type": "code",
   "execution_count": 208,
   "id": "b0f8959a",
   "metadata": {},
   "outputs": [
    {
     "data": {
      "text/plain": [
       "1"
      ]
     },
     "execution_count": 208,
     "metadata": {},
     "output_type": "execute_result"
    }
   ],
   "source": [
    "ar1[0]"
   ]
  },
  {
   "cell_type": "code",
   "execution_count": 209,
   "id": "5c93739f",
   "metadata": {},
   "outputs": [
    {
     "data": {
      "text/plain": [
       "numpy.int64"
      ]
     },
     "execution_count": 209,
     "metadata": {},
     "output_type": "execute_result"
    }
   ],
   "source": [
    "type(ar1[0])"
   ]
  },
  {
   "cell_type": "code",
   "execution_count": 210,
   "id": "6e6e522d",
   "metadata": {},
   "outputs": [
    {
     "data": {
      "text/plain": [
       "3"
      ]
     },
     "execution_count": 210,
     "metadata": {},
     "output_type": "execute_result"
    }
   ],
   "source": [
    "ar1[1]"
   ]
  },
  {
   "cell_type": "code",
   "execution_count": 211,
   "id": "3275d23c",
   "metadata": {},
   "outputs": [
    {
     "data": {
      "text/plain": [
       "11"
      ]
     },
     "execution_count": 211,
     "metadata": {},
     "output_type": "execute_result"
    }
   ],
   "source": [
    "ar1[-1]"
   ]
  },
  {
   "cell_type": "code",
   "execution_count": 212,
   "id": "457b4125",
   "metadata": {},
   "outputs": [
    {
     "data": {
      "text/plain": [
       "array([7, 5, 3])"
      ]
     },
     "execution_count": 212,
     "metadata": {},
     "output_type": "execute_result"
    }
   ],
   "source": [
    "ar1[[3, 2, 1]]"
   ]
  },
  {
   "cell_type": "code",
   "execution_count": 213,
   "id": "b62da20a",
   "metadata": {},
   "outputs": [
    {
     "data": {
      "text/plain": [
       "[1, 2.0, '3']"
      ]
     },
     "execution_count": 213,
     "metadata": {},
     "output_type": "execute_result"
    }
   ],
   "source": [
    "a"
   ]
  },
  {
   "cell_type": "code",
   "execution_count": 214,
   "id": "c23895b4",
   "metadata": {
    "collapsed": true
   },
   "outputs": [
    {
     "ename": "TypeError",
     "evalue": "list indices must be integers or slices, not list",
     "output_type": "error",
     "traceback": [
      "\u001b[0;31m---------------------------------------------------------------------------\u001b[0m",
      "\u001b[0;31mTypeError\u001b[0m                                 Traceback (most recent call last)",
      "Input \u001b[0;32mIn [214]\u001b[0m, in \u001b[0;36m<cell line: 1>\u001b[0;34m()\u001b[0m\n\u001b[0;32m----> 1\u001b[0m \u001b[43ma\u001b[49m\u001b[43m[\u001b[49m\u001b[43m[\u001b[49m\u001b[38;5;241;43m2\u001b[39;49m\u001b[43m,\u001b[49m\u001b[43m \u001b[49m\u001b[38;5;241;43m1\u001b[39;49m\u001b[43m,\u001b[49m\u001b[43m \u001b[49m\u001b[38;5;241;43m0\u001b[39;49m\u001b[43m]\u001b[49m\u001b[43m]\u001b[49m\n",
      "\u001b[0;31mTypeError\u001b[0m: list indices must be integers or slices, not list"
     ]
    }
   ],
   "source": [
    "a[[2, 1, 0]]"
   ]
  },
  {
   "cell_type": "code",
   "execution_count": 215,
   "id": "2f4756b9",
   "metadata": {},
   "outputs": [
    {
     "data": {
      "text/plain": [
       "array([7, 7, 7])"
      ]
     },
     "execution_count": 215,
     "metadata": {},
     "output_type": "execute_result"
    }
   ],
   "source": [
    "ar1[[3, 3, 3]]"
   ]
  },
  {
   "cell_type": "code",
   "execution_count": 216,
   "id": "1449cfe1",
   "metadata": {},
   "outputs": [
    {
     "data": {
      "text/plain": [
       "array([3, 5, 7])"
      ]
     },
     "execution_count": 216,
     "metadata": {},
     "output_type": "execute_result"
    }
   ],
   "source": [
    "ar1[range(1, 4)]"
   ]
  },
  {
   "cell_type": "code",
   "execution_count": null,
   "id": "2eea7eb7",
   "metadata": {},
   "outputs": [],
   "source": []
  },
  {
   "cell_type": "code",
   "execution_count": 248,
   "id": "5f9d39ed",
   "metadata": {},
   "outputs": [
    {
     "data": {
      "text/plain": [
       "array([3, 3, 3, 3, 3, 3, 3, 3, 3, 3, 3, 3, 3, 3, 3, 3, 3, 3, 3, 3, 3, 3,\n",
       "       3, 3, 3, 3, 3, 3, 3, 3, 3, 3, 3, 3, 3, 3, 3, 3, 3, 3, 3, 3, 3, 3,\n",
       "       3, 3, 3, 3, 3, 3, 3, 3, 3, 3, 3, 3, 3, 3, 3, 3, 3, 3, 3, 3, 3, 3,\n",
       "       3, 3, 3, 3, 3, 3, 3, 3, 3, 3, 3, 3, 3, 3, 3, 3, 3, 3, 3, 3, 3, 3,\n",
       "       3, 3, 3, 3, 3, 3, 3, 3, 3, 3, 3, 3])"
      ]
     },
     "execution_count": 248,
     "metadata": {},
     "output_type": "execute_result"
    }
   ],
   "source": [
    "np.tile(np.array([3]), 100)"
   ]
  },
  {
   "cell_type": "code",
   "execution_count": 218,
   "id": "6104cec2",
   "metadata": {},
   "outputs": [
    {
     "data": {
      "text/plain": [
       "array([7, 7, 7, 7, 7, 7, 7, 7, 7, 7, 7, 7, 7, 7, 7, 7, 7, 7, 7, 7, 7, 7,\n",
       "       7, 7, 7, 7, 7, 7, 7, 7, 7, 7, 7, 7, 7, 7, 7, 7, 7, 7, 7, 7, 7, 7,\n",
       "       7, 7, 7, 7, 7, 7, 7, 7, 7, 7, 7, 7, 7, 7, 7, 7, 7, 7, 7, 7, 7, 7,\n",
       "       7, 7, 7, 7, 7, 7, 7, 7, 7, 7, 7, 7, 7, 7, 7, 7, 7, 7, 7, 7, 7, 7,\n",
       "       7, 7, 7, 7, 7, 7, 7, 7, 7, 7, 7, 7])"
      ]
     },
     "execution_count": 218,
     "metadata": {},
     "output_type": "execute_result"
    }
   ],
   "source": [
    "ar1[np.tile(np.array([3]), 100)]"
   ]
  },
  {
   "cell_type": "code",
   "execution_count": 219,
   "id": "9d69bd74",
   "metadata": {},
   "outputs": [
    {
     "data": {
      "text/plain": [
       "array([1, 3, 5])"
      ]
     },
     "execution_count": 219,
     "metadata": {},
     "output_type": "execute_result"
    }
   ],
   "source": [
    "ar1[:3]"
   ]
  },
  {
   "cell_type": "code",
   "execution_count": 220,
   "id": "fac73848",
   "metadata": {},
   "outputs": [
    {
     "data": {
      "text/plain": [
       "array([ 7,  9, 11])"
      ]
     },
     "execution_count": 220,
     "metadata": {},
     "output_type": "execute_result"
    }
   ],
   "source": [
    "ar1[3:]"
   ]
  },
  {
   "cell_type": "code",
   "execution_count": 221,
   "id": "f3fef8df",
   "metadata": {},
   "outputs": [
    {
     "data": {
      "text/plain": [
       "array([ 1,  3,  5,  7,  9, 11])"
      ]
     },
     "execution_count": 221,
     "metadata": {},
     "output_type": "execute_result"
    }
   ],
   "source": [
    "ar1[:]"
   ]
  },
  {
   "cell_type": "code",
   "execution_count": 222,
   "id": "38c6bfab",
   "metadata": {},
   "outputs": [],
   "source": [
    "ar2 = np.array([[1, 2, 3], [4, 5, 6]])"
   ]
  },
  {
   "cell_type": "code",
   "execution_count": 223,
   "id": "60e8e67c",
   "metadata": {},
   "outputs": [
    {
     "data": {
      "text/plain": [
       "array([[1, 2, 3],\n",
       "       [4, 5, 6]])"
      ]
     },
     "execution_count": 223,
     "metadata": {},
     "output_type": "execute_result"
    }
   ],
   "source": [
    "ar2"
   ]
  },
  {
   "cell_type": "code",
   "execution_count": 224,
   "id": "ac70bf87",
   "metadata": {},
   "outputs": [
    {
     "data": {
      "text/plain": [
       "numpy.ndarray"
      ]
     },
     "execution_count": 224,
     "metadata": {},
     "output_type": "execute_result"
    }
   ],
   "source": [
    "type(ar2)"
   ]
  },
  {
   "cell_type": "code",
   "execution_count": 225,
   "id": "7340de2c",
   "metadata": {},
   "outputs": [
    {
     "data": {
      "text/plain": [
       "2"
      ]
     },
     "execution_count": 225,
     "metadata": {},
     "output_type": "execute_result"
    }
   ],
   "source": [
    "ar2.ndim"
   ]
  },
  {
   "cell_type": "code",
   "execution_count": 226,
   "id": "20370210",
   "metadata": {},
   "outputs": [
    {
     "data": {
      "text/plain": [
       "(2, 3)"
      ]
     },
     "execution_count": 226,
     "metadata": {},
     "output_type": "execute_result"
    }
   ],
   "source": [
    "ar2.shape"
   ]
  },
  {
   "cell_type": "code",
   "execution_count": 227,
   "id": "9c095ebc",
   "metadata": {},
   "outputs": [
    {
     "data": {
      "text/plain": [
       "dtype('int64')"
      ]
     },
     "execution_count": 227,
     "metadata": {},
     "output_type": "execute_result"
    }
   ],
   "source": [
    "ar2.dtype"
   ]
  },
  {
   "cell_type": "code",
   "execution_count": 228,
   "id": "6f7ee00d",
   "metadata": {},
   "outputs": [
    {
     "data": {
      "text/plain": [
       "array([ 0,  1,  2,  3,  4,  5,  6,  7,  8,  9, 10, 11])"
      ]
     },
     "execution_count": 228,
     "metadata": {},
     "output_type": "execute_result"
    }
   ],
   "source": [
    "ar1 = np.arange(12)\n",
    "ar1"
   ]
  },
  {
   "cell_type": "code",
   "execution_count": 229,
   "id": "cca26547",
   "metadata": {},
   "outputs": [
    {
     "data": {
      "text/plain": [
       "array([[ 0,  1,  2,  3],\n",
       "       [ 4,  5,  6,  7],\n",
       "       [ 8,  9, 10, 11]])"
      ]
     },
     "execution_count": 229,
     "metadata": {},
     "output_type": "execute_result"
    }
   ],
   "source": [
    "ar1.reshape(3, 4, order = 'C')"
   ]
  },
  {
   "cell_type": "code",
   "execution_count": 230,
   "id": "8ad69816",
   "metadata": {},
   "outputs": [
    {
     "data": {
      "text/plain": [
       "array([[ 0,  3,  6,  9],\n",
       "       [ 1,  4,  7, 10],\n",
       "       [ 2,  5,  8, 11]])"
      ]
     },
     "execution_count": 230,
     "metadata": {},
     "output_type": "execute_result"
    }
   ],
   "source": [
    "ar1.reshape(3, 4, order = 'F')"
   ]
  },
  {
   "cell_type": "code",
   "execution_count": 231,
   "id": "3f69826a",
   "metadata": {},
   "outputs": [
    {
     "data": {
      "text/plain": [
       "array([[ 0,  1,  2],\n",
       "       [ 3,  4,  5],\n",
       "       [ 6,  7,  8],\n",
       "       [ 9, 10, 11]])"
      ]
     },
     "execution_count": 231,
     "metadata": {},
     "output_type": "execute_result"
    }
   ],
   "source": [
    "ar2 = ar1.reshape(4, -1)\n",
    "ar2"
   ]
  },
  {
   "cell_type": "code",
   "execution_count": 232,
   "id": "64cbf7f8",
   "metadata": {},
   "outputs": [
    {
     "data": {
      "text/plain": [
       "array([ 0,  1,  2,  3,  4,  5,  6,  7,  8,  9, 10, 11])"
      ]
     },
     "execution_count": 232,
     "metadata": {},
     "output_type": "execute_result"
    }
   ],
   "source": [
    "ar2.flatten()"
   ]
  },
  {
   "cell_type": "code",
   "execution_count": 233,
   "id": "b4c84c26",
   "metadata": {},
   "outputs": [],
   "source": [
    "ar2 = ar1.reshape(3, 4, order = 'F')"
   ]
  },
  {
   "cell_type": "code",
   "execution_count": 235,
   "id": "1207867a",
   "metadata": {},
   "outputs": [
    {
     "data": {
      "text/plain": [
       "array([ 0,  1,  2,  3,  4,  5,  6,  7,  8,  9, 10, 11])"
      ]
     },
     "execution_count": 235,
     "metadata": {},
     "output_type": "execute_result"
    }
   ],
   "source": [
    "ar2.flatten(order = 'F')"
   ]
  },
  {
   "cell_type": "code",
   "execution_count": 237,
   "id": "08963d93",
   "metadata": {},
   "outputs": [
    {
     "data": {
      "text/plain": [
       "array([[ 0,  1,  2],\n",
       "       [ 3,  4,  5],\n",
       "       [ 6,  7,  8],\n",
       "       [ 9, 10, 11]])"
      ]
     },
     "execution_count": 237,
     "metadata": {},
     "output_type": "execute_result"
    }
   ],
   "source": [
    "ar2 = ar1.reshape(4, -1)\n",
    "ar2"
   ]
  },
  {
   "cell_type": "code",
   "execution_count": 238,
   "id": "231dbbd0",
   "metadata": {},
   "outputs": [
    {
     "data": {
      "text/plain": [
       "0"
      ]
     },
     "execution_count": 238,
     "metadata": {},
     "output_type": "execute_result"
    }
   ],
   "source": [
    "ar2[0, 0]"
   ]
  },
  {
   "cell_type": "code",
   "execution_count": 239,
   "id": "bf6dd583",
   "metadata": {},
   "outputs": [
    {
     "data": {
      "text/plain": [
       "4"
      ]
     },
     "execution_count": 239,
     "metadata": {},
     "output_type": "execute_result"
    }
   ],
   "source": [
    "ar2[1, 1]"
   ]
  },
  {
   "cell_type": "code",
   "execution_count": 240,
   "id": "7b920af5",
   "metadata": {},
   "outputs": [
    {
     "data": {
      "text/plain": [
       "array([[0, 1],\n",
       "       [3, 4]])"
      ]
     },
     "execution_count": 240,
     "metadata": {},
     "output_type": "execute_result"
    }
   ],
   "source": [
    "ar2[0:2, 0:2]"
   ]
  },
  {
   "cell_type": "code",
   "execution_count": 241,
   "id": "99d43651",
   "metadata": {},
   "outputs": [
    {
     "data": {
      "text/plain": [
       "array([[ 1,  2],\n",
       "       [ 4,  5],\n",
       "       [ 7,  8],\n",
       "       [10, 11]])"
      ]
     },
     "execution_count": 241,
     "metadata": {},
     "output_type": "execute_result"
    }
   ],
   "source": [
    "ar2[:, 1:3]"
   ]
  },
  {
   "cell_type": "code",
   "execution_count": 242,
   "id": "246d0587",
   "metadata": {},
   "outputs": [
    {
     "data": {
      "text/plain": [
       "array([[ 2,  1],\n",
       "       [ 5,  4],\n",
       "       [ 8,  7],\n",
       "       [11, 10]])"
      ]
     },
     "execution_count": 242,
     "metadata": {},
     "output_type": "execute_result"
    }
   ],
   "source": [
    "ar2[:, [2, 1]]"
   ]
  },
  {
   "cell_type": "code",
   "execution_count": 243,
   "id": "d4e23452",
   "metadata": {},
   "outputs": [
    {
     "data": {
      "text/plain": [
       "array([0, 1, 2])"
      ]
     },
     "execution_count": 243,
     "metadata": {},
     "output_type": "execute_result"
    }
   ],
   "source": [
    "ar1 = np.array(range(3))\n",
    "ar1"
   ]
  },
  {
   "cell_type": "code",
   "execution_count": 244,
   "id": "44a4e0b9",
   "metadata": {},
   "outputs": [
    {
     "data": {
      "text/plain": [
       "array([[0],\n",
       "       [1],\n",
       "       [2]])"
      ]
     },
     "execution_count": 244,
     "metadata": {},
     "output_type": "execute_result"
    }
   ],
   "source": [
    "ar2 = ar1.reshape(-1, 1)\n",
    "ar2"
   ]
  },
  {
   "cell_type": "code",
   "execution_count": 245,
   "id": "a5a6d7a3",
   "metadata": {},
   "outputs": [
    {
     "data": {
      "text/plain": [
       "array([1, 2, 3])"
      ]
     },
     "execution_count": 245,
     "metadata": {},
     "output_type": "execute_result"
    }
   ],
   "source": [
    "ar1 + 1"
   ]
  },
  {
   "cell_type": "code",
   "execution_count": 246,
   "id": "d27920cf",
   "metadata": {},
   "outputs": [
    {
     "data": {
      "text/plain": [
       "array([[0],\n",
       "       [2],\n",
       "       [4]])"
      ]
     },
     "execution_count": 246,
     "metadata": {},
     "output_type": "execute_result"
    }
   ],
   "source": [
    "ar2 * 2"
   ]
  },
  {
   "cell_type": "code",
   "execution_count": 247,
   "id": "686b608c",
   "metadata": {},
   "outputs": [
    {
     "data": {
      "text/plain": [
       "array([[0, 1, 2],\n",
       "       [1, 2, 3],\n",
       "       [2, 3, 4]])"
      ]
     },
     "execution_count": 247,
     "metadata": {},
     "output_type": "execute_result"
    }
   ],
   "source": [
    "ar1 + ar2"
   ]
  },
  {
   "cell_type": "raw",
   "id": "ad2bd762",
   "metadata": {},
   "source": [
    "!pip install pandas"
   ]
  },
  {
   "cell_type": "code",
   "execution_count": 249,
   "id": "e071269e",
   "metadata": {},
   "outputs": [],
   "source": [
    "import pandas as pd"
   ]
  },
  {
   "cell_type": "code",
   "execution_count": 250,
   "id": "33f1a011",
   "metadata": {},
   "outputs": [
    {
     "data": {
      "text/plain": [
       "0    1\n",
       "1    3\n",
       "2    5\n",
       "dtype: int64"
      ]
     },
     "execution_count": 250,
     "metadata": {},
     "output_type": "execute_result"
    }
   ],
   "source": [
    "sr = pd.Series(data = np.arange(1, 6, 2))\n",
    "sr"
   ]
  },
  {
   "cell_type": "code",
   "execution_count": 251,
   "id": "c97c3c3d",
   "metadata": {},
   "outputs": [
    {
     "data": {
      "text/plain": [
       "pandas.core.series.Series"
      ]
     },
     "execution_count": 251,
     "metadata": {},
     "output_type": "execute_result"
    }
   ],
   "source": [
    "type(sr)"
   ]
  },
  {
   "cell_type": "code",
   "execution_count": 252,
   "id": "0e935f79",
   "metadata": {},
   "outputs": [
    {
     "data": {
      "text/plain": [
       "1"
      ]
     },
     "execution_count": 252,
     "metadata": {},
     "output_type": "execute_result"
    }
   ],
   "source": [
    "sr.ndim"
   ]
  },
  {
   "cell_type": "code",
   "execution_count": 253,
   "id": "3c1abeee",
   "metadata": {},
   "outputs": [
    {
     "data": {
      "text/plain": [
       "(3,)"
      ]
     },
     "execution_count": 253,
     "metadata": {},
     "output_type": "execute_result"
    }
   ],
   "source": [
    "sr.shape"
   ]
  },
  {
   "cell_type": "code",
   "execution_count": 254,
   "id": "30e95970",
   "metadata": {},
   "outputs": [
    {
     "data": {
      "text/plain": [
       "dtype('int64')"
      ]
     },
     "execution_count": 254,
     "metadata": {},
     "output_type": "execute_result"
    }
   ],
   "source": [
    "sr.dtypes"
   ]
  },
  {
   "cell_type": "code",
   "execution_count": 255,
   "id": "a36b12be",
   "metadata": {},
   "outputs": [
    {
     "data": {
      "text/plain": [
       "0      1\n",
       "1    2.0\n",
       "2      3\n",
       "dtype: object"
      ]
     },
     "execution_count": 255,
     "metadata": {},
     "output_type": "execute_result"
    }
   ],
   "source": [
    "sr1 = pd.Series(data = [1, 2.0, '3'])\n",
    "sr1"
   ]
  },
  {
   "cell_type": "code",
   "execution_count": 257,
   "id": "f29722e3",
   "metadata": {},
   "outputs": [
    {
     "name": "stdout",
     "output_type": "stream",
     "text": [
      "<class 'int'>\n",
      "<class 'float'>\n",
      "<class 'str'>\n"
     ]
    }
   ],
   "source": [
    "for i in range(3):\n",
    "    print(type(sr1[i]))"
   ]
  },
  {
   "cell_type": "code",
   "execution_count": 259,
   "id": "a15c1996",
   "metadata": {},
   "outputs": [
    {
     "data": {
      "text/plain": [
       "a    1\n",
       "b    3\n",
       "c    5\n",
       "dtype: int64"
      ]
     },
     "execution_count": 259,
     "metadata": {},
     "output_type": "execute_result"
    }
   ],
   "source": [
    "pd.Series(data = {'a': 1, 'b': 3, 'c': 5})"
   ]
  },
  {
   "cell_type": "code",
   "execution_count": 260,
   "id": "bb1bec2b",
   "metadata": {},
   "outputs": [
    {
     "data": {
      "text/plain": [
       "0    1\n",
       "1    3\n",
       "2    5\n",
       "dtype: int64"
      ]
     },
     "execution_count": 260,
     "metadata": {},
     "output_type": "execute_result"
    }
   ],
   "source": [
    "sr"
   ]
  },
  {
   "cell_type": "code",
   "execution_count": 261,
   "id": "f73b18b0",
   "metadata": {},
   "outputs": [
    {
     "data": {
      "text/plain": [
       "array([1, 3, 5])"
      ]
     },
     "execution_count": 261,
     "metadata": {},
     "output_type": "execute_result"
    }
   ],
   "source": [
    "sr.values"
   ]
  },
  {
   "cell_type": "code",
   "execution_count": 262,
   "id": "5ea846d3",
   "metadata": {},
   "outputs": [
    {
     "data": {
      "text/plain": [
       "RangeIndex(start=0, stop=3, step=1)"
      ]
     },
     "execution_count": 262,
     "metadata": {},
     "output_type": "execute_result"
    }
   ],
   "source": [
    "sr.index"
   ]
  },
  {
   "cell_type": "code",
   "execution_count": 263,
   "id": "3e5f8783",
   "metadata": {},
   "outputs": [],
   "source": [
    "sr.index = ['a', 'b', 'c']"
   ]
  },
  {
   "cell_type": "code",
   "execution_count": 264,
   "id": "f746ec38",
   "metadata": {},
   "outputs": [
    {
     "data": {
      "text/plain": [
       "a    1\n",
       "b    3\n",
       "c    5\n",
       "dtype: int64"
      ]
     },
     "execution_count": 264,
     "metadata": {},
     "output_type": "execute_result"
    }
   ],
   "source": [
    "sr"
   ]
  },
  {
   "cell_type": "code",
   "execution_count": 266,
   "id": "cd73fa46",
   "metadata": {},
   "outputs": [
    {
     "data": {
      "text/plain": [
       "1"
      ]
     },
     "execution_count": 266,
     "metadata": {},
     "output_type": "execute_result"
    }
   ],
   "source": [
    "sr.iloc[0]"
   ]
  },
  {
   "cell_type": "code",
   "execution_count": 267,
   "id": "35b00dd3",
   "metadata": {},
   "outputs": [
    {
     "data": {
      "text/plain": [
       "a    1\n",
       "dtype: int64"
      ]
     },
     "execution_count": 267,
     "metadata": {},
     "output_type": "execute_result"
    }
   ],
   "source": [
    "sr.iloc[[0]]"
   ]
  },
  {
   "cell_type": "code",
   "execution_count": 268,
   "id": "0497c521",
   "metadata": {},
   "outputs": [
    {
     "data": {
      "text/plain": [
       "a    1\n",
       "c    5\n",
       "dtype: int64"
      ]
     },
     "execution_count": 268,
     "metadata": {},
     "output_type": "execute_result"
    }
   ],
   "source": [
    "sr.iloc[[0, 2]]"
   ]
  },
  {
   "cell_type": "code",
   "execution_count": 269,
   "id": "82601fa7",
   "metadata": {},
   "outputs": [
    {
     "data": {
      "text/plain": [
       "a    1\n",
       "b    3\n",
       "dtype: int64"
      ]
     },
     "execution_count": 269,
     "metadata": {},
     "output_type": "execute_result"
    }
   ],
   "source": [
    "sr.iloc[0:2]"
   ]
  },
  {
   "cell_type": "code",
   "execution_count": 270,
   "id": "616ccb9b",
   "metadata": {},
   "outputs": [
    {
     "data": {
      "text/plain": [
       "1"
      ]
     },
     "execution_count": 270,
     "metadata": {},
     "output_type": "execute_result"
    }
   ],
   "source": [
    "sr.loc['a']"
   ]
  },
  {
   "cell_type": "code",
   "execution_count": 271,
   "id": "c868e00c",
   "metadata": {},
   "outputs": [
    {
     "data": {
      "text/plain": [
       "a    1\n",
       "dtype: int64"
      ]
     },
     "execution_count": 271,
     "metadata": {},
     "output_type": "execute_result"
    }
   ],
   "source": [
    "sr.loc[['a']]"
   ]
  },
  {
   "cell_type": "code",
   "execution_count": 272,
   "id": "336dab82",
   "metadata": {},
   "outputs": [
    {
     "data": {
      "text/plain": [
       "a    1\n",
       "c    5\n",
       "dtype: int64"
      ]
     },
     "execution_count": 272,
     "metadata": {},
     "output_type": "execute_result"
    }
   ],
   "source": [
    "sr.loc[['a', 'c']]"
   ]
  },
  {
   "cell_type": "code",
   "execution_count": 273,
   "id": "dccc8c02",
   "metadata": {},
   "outputs": [
    {
     "data": {
      "text/plain": [
       "a    1\n",
       "b    3\n",
       "c    5\n",
       "dtype: int64"
      ]
     },
     "execution_count": 273,
     "metadata": {},
     "output_type": "execute_result"
    }
   ],
   "source": [
    "sr.loc['a':'c']"
   ]
  },
  {
   "cell_type": "code",
   "execution_count": 274,
   "id": "96129f0c",
   "metadata": {},
   "outputs": [
    {
     "data": {
      "text/plain": [
       "a    False\n",
       "b     True\n",
       "c     True\n",
       "dtype: bool"
      ]
     },
     "execution_count": 274,
     "metadata": {},
     "output_type": "execute_result"
    }
   ],
   "source": [
    "sr >= 3"
   ]
  },
  {
   "cell_type": "code",
   "execution_count": 275,
   "id": "feddbe72",
   "metadata": {},
   "outputs": [
    {
     "data": {
      "text/plain": [
       "b    3\n",
       "c    5\n",
       "dtype: int64"
      ]
     },
     "execution_count": 275,
     "metadata": {},
     "output_type": "execute_result"
    }
   ],
   "source": [
    "sr.loc[sr >= 3]"
   ]
  },
  {
   "cell_type": "code",
   "execution_count": 276,
   "id": "461be4ee",
   "metadata": {},
   "outputs": [
    {
     "ename": "ValueError",
     "evalue": "iLocation based boolean indexing cannot use an indexable as a mask",
     "output_type": "error",
     "traceback": [
      "\u001b[0;31m---------------------------------------------------------------------------\u001b[0m",
      "\u001b[0;31mValueError\u001b[0m                                Traceback (most recent call last)",
      "Input \u001b[0;32mIn [276]\u001b[0m, in \u001b[0;36m<cell line: 1>\u001b[0;34m()\u001b[0m\n\u001b[0;32m----> 1\u001b[0m \u001b[43msr\u001b[49m\u001b[38;5;241;43m.\u001b[39;49m\u001b[43miloc\u001b[49m\u001b[43m[\u001b[49m\u001b[43msr\u001b[49m\u001b[43m \u001b[49m\u001b[38;5;241;43m>\u001b[39;49m\u001b[38;5;241;43m=\u001b[39;49m\u001b[43m \u001b[49m\u001b[38;5;241;43m3\u001b[39;49m\u001b[43m]\u001b[49m\n",
      "File \u001b[0;32m~/opt/anaconda3/envs/dk2/lib/python3.10/site-packages/pandas/core/indexing.py:967\u001b[0m, in \u001b[0;36m_LocationIndexer.__getitem__\u001b[0;34m(self, key)\u001b[0m\n\u001b[1;32m    964\u001b[0m axis \u001b[38;5;241m=\u001b[39m \u001b[38;5;28mself\u001b[39m\u001b[38;5;241m.\u001b[39maxis \u001b[38;5;129;01mor\u001b[39;00m \u001b[38;5;241m0\u001b[39m\n\u001b[1;32m    966\u001b[0m maybe_callable \u001b[38;5;241m=\u001b[39m com\u001b[38;5;241m.\u001b[39mapply_if_callable(key, \u001b[38;5;28mself\u001b[39m\u001b[38;5;241m.\u001b[39mobj)\n\u001b[0;32m--> 967\u001b[0m \u001b[38;5;28;01mreturn\u001b[39;00m \u001b[38;5;28;43mself\u001b[39;49m\u001b[38;5;241;43m.\u001b[39;49m\u001b[43m_getitem_axis\u001b[49m\u001b[43m(\u001b[49m\u001b[43mmaybe_callable\u001b[49m\u001b[43m,\u001b[49m\u001b[43m \u001b[49m\u001b[43maxis\u001b[49m\u001b[38;5;241;43m=\u001b[39;49m\u001b[43maxis\u001b[49m\u001b[43m)\u001b[49m\n",
      "File \u001b[0;32m~/opt/anaconda3/envs/dk2/lib/python3.10/site-packages/pandas/core/indexing.py:1506\u001b[0m, in \u001b[0;36m_iLocIndexer._getitem_axis\u001b[0;34m(self, key, axis)\u001b[0m\n\u001b[1;32m   1503\u001b[0m     key \u001b[38;5;241m=\u001b[39m np\u001b[38;5;241m.\u001b[39masarray(key)\n\u001b[1;32m   1505\u001b[0m \u001b[38;5;28;01mif\u001b[39;00m com\u001b[38;5;241m.\u001b[39mis_bool_indexer(key):\n\u001b[0;32m-> 1506\u001b[0m     \u001b[38;5;28;43mself\u001b[39;49m\u001b[38;5;241;43m.\u001b[39;49m\u001b[43m_validate_key\u001b[49m\u001b[43m(\u001b[49m\u001b[43mkey\u001b[49m\u001b[43m,\u001b[49m\u001b[43m \u001b[49m\u001b[43maxis\u001b[49m\u001b[43m)\u001b[49m\n\u001b[1;32m   1507\u001b[0m     \u001b[38;5;28;01mreturn\u001b[39;00m \u001b[38;5;28mself\u001b[39m\u001b[38;5;241m.\u001b[39m_getbool_axis(key, axis\u001b[38;5;241m=\u001b[39maxis)\n\u001b[1;32m   1509\u001b[0m \u001b[38;5;66;03m# a list of integers\u001b[39;00m\n",
      "File \u001b[0;32m~/opt/anaconda3/envs/dk2/lib/python3.10/site-packages/pandas/core/indexing.py:1352\u001b[0m, in \u001b[0;36m_iLocIndexer._validate_key\u001b[0;34m(self, key, axis)\u001b[0m\n\u001b[1;32m   1346\u001b[0m         \u001b[38;5;28;01mif\u001b[39;00m key\u001b[38;5;241m.\u001b[39mindex\u001b[38;5;241m.\u001b[39minferred_type \u001b[38;5;241m==\u001b[39m \u001b[38;5;124m\"\u001b[39m\u001b[38;5;124minteger\u001b[39m\u001b[38;5;124m\"\u001b[39m:\n\u001b[1;32m   1347\u001b[0m             \u001b[38;5;28;01mraise\u001b[39;00m \u001b[38;5;167;01mNotImplementedError\u001b[39;00m(\n\u001b[1;32m   1348\u001b[0m                 \u001b[38;5;124m\"\u001b[39m\u001b[38;5;124miLocation based boolean \u001b[39m\u001b[38;5;124m\"\u001b[39m\n\u001b[1;32m   1349\u001b[0m                 \u001b[38;5;124m\"\u001b[39m\u001b[38;5;124mindexing on an integer type \u001b[39m\u001b[38;5;124m\"\u001b[39m\n\u001b[1;32m   1350\u001b[0m                 \u001b[38;5;124m\"\u001b[39m\u001b[38;5;124mis not available\u001b[39m\u001b[38;5;124m\"\u001b[39m\n\u001b[1;32m   1351\u001b[0m             )\n\u001b[0;32m-> 1352\u001b[0m         \u001b[38;5;28;01mraise\u001b[39;00m \u001b[38;5;167;01mValueError\u001b[39;00m(\n\u001b[1;32m   1353\u001b[0m             \u001b[38;5;124m\"\u001b[39m\u001b[38;5;124miLocation based boolean indexing cannot use \u001b[39m\u001b[38;5;124m\"\u001b[39m\n\u001b[1;32m   1354\u001b[0m             \u001b[38;5;124m\"\u001b[39m\u001b[38;5;124man indexable as a mask\u001b[39m\u001b[38;5;124m\"\u001b[39m\n\u001b[1;32m   1355\u001b[0m         )\n\u001b[1;32m   1356\u001b[0m     \u001b[38;5;28;01mreturn\u001b[39;00m\n\u001b[1;32m   1358\u001b[0m \u001b[38;5;28;01mif\u001b[39;00m \u001b[38;5;28misinstance\u001b[39m(key, \u001b[38;5;28mslice\u001b[39m):\n",
      "\u001b[0;31mValueError\u001b[0m: iLocation based boolean indexing cannot use an indexable as a mask"
     ]
    }
   ],
   "source": [
    "sr.iloc[sr >= 3]"
   ]
  },
  {
   "cell_type": "code",
   "execution_count": 277,
   "id": "1ea425f5",
   "metadata": {},
   "outputs": [
    {
     "data": {
      "text/plain": [
       "b    3\n",
       "c    5\n",
       "dtype: int64"
      ]
     },
     "execution_count": 277,
     "metadata": {},
     "output_type": "execute_result"
    }
   ],
   "source": [
    "sr[sr >= 3]"
   ]
  },
  {
   "cell_type": "code",
   "execution_count": 279,
   "id": "13d44e95",
   "metadata": {},
   "outputs": [
    {
     "data": {
      "text/plain": [
       "a    False\n",
       "b     True\n",
       "c     True\n",
       "dtype: bool"
      ]
     },
     "execution_count": 279,
     "metadata": {},
     "output_type": "execute_result"
    }
   ],
   "source": [
    "sr >= 3"
   ]
  },
  {
   "cell_type": "code",
   "execution_count": 284,
   "id": "7bbd0e7c",
   "metadata": {},
   "outputs": [
    {
     "data": {
      "text/plain": [
       "a     True\n",
       "b     True\n",
       "c    False\n",
       "dtype: bool"
      ]
     },
     "execution_count": 284,
     "metadata": {},
     "output_type": "execute_result"
    }
   ],
   "source": [
    "sr < 5"
   ]
  },
  {
   "cell_type": "code",
   "execution_count": 285,
   "id": "c9363a14",
   "metadata": {},
   "outputs": [
    {
     "data": {
      "text/plain": [
       "a    False\n",
       "b     True\n",
       "c    False\n",
       "dtype: bool"
      ]
     },
     "execution_count": 285,
     "metadata": {},
     "output_type": "execute_result"
    }
   ],
   "source": [
    "(sr >= 3) & (sr < 5)"
   ]
  },
  {
   "cell_type": "code",
   "execution_count": 286,
   "id": "837ff247",
   "metadata": {},
   "outputs": [
    {
     "data": {
      "text/plain": [
       "b    3\n",
       "dtype: int64"
      ]
     },
     "execution_count": 286,
     "metadata": {},
     "output_type": "execute_result"
    }
   ],
   "source": [
    "sr.loc[(sr >= 3) & (sr < 5)]"
   ]
  },
  {
   "cell_type": "code",
   "execution_count": null,
   "id": "229f4d66",
   "metadata": {},
   "outputs": [],
   "source": []
  }
 ],
 "metadata": {
  "kernelspec": {
   "display_name": "Python 3 (ipykernel)",
   "language": "python",
   "name": "python3"
  },
  "language_info": {
   "codemirror_mode": {
    "name": "ipython",
    "version": 3
   },
   "file_extension": ".py",
   "mimetype": "text/x-python",
   "name": "python",
   "nbconvert_exporter": "python",
   "pygments_lexer": "ipython3",
   "version": "3.10.3"
  }
 },
 "nbformat": 4,
 "nbformat_minor": 5
}
