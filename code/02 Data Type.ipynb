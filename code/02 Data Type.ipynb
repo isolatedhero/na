{
 "cells": [
  {
   "cell_type": "markdown",
   "id": "96237ba2",
   "metadata": {},
   "source": [
    "## 자료형(Data Types)"
   ]
  },
  {
   "cell_type": "markdown",
   "id": "worse-origin",
   "metadata": {},
   "source": [
    "### 수: 정수, 실수"
   ]
  },
  {
   "cell_type": "code",
   "execution_count": null,
   "id": "unlike-vegetation",
   "metadata": {
    "ExecuteTime": {
     "end_time": "2022-05-23T13:09:01.249916Z",
     "start_time": "2022-05-23T13:09:01.244001Z"
    }
   },
   "outputs": [],
   "source": [
    "# a에 정수 3을 할당합니다.\n",
    "a = 3"
   ]
  },
  {
   "cell_type": "code",
   "execution_count": null,
   "id": "designing-diabetes",
   "metadata": {
    "ExecuteTime": {
     "end_time": "2022-05-23T13:09:01.261064Z",
     "start_time": "2022-05-23T13:09:01.254024Z"
    }
   },
   "outputs": [],
   "source": [
    "# a를 출력합니다.\n",
    "a"
   ]
  },
  {
   "cell_type": "code",
   "execution_count": null,
   "id": "convenient-counter",
   "metadata": {
    "ExecuteTime": {
     "end_time": "2022-05-23T13:09:01.266730Z",
     "start_time": "2022-05-23T13:09:01.263535Z"
    }
   },
   "outputs": [],
   "source": [
    "# a의 클래스를 확인합니다. a의 클래스는 int입니다.\n",
    "type(a)"
   ]
  },
  {
   "cell_type": "code",
   "execution_count": null,
   "id": "adjacent-superintendent",
   "metadata": {
    "ExecuteTime": {
     "end_time": "2022-05-23T13:09:01.270740Z",
     "start_time": "2022-05-23T13:09:01.268637Z"
    }
   },
   "outputs": [],
   "source": [
    "# b에 실수 3.0을 할당합니다.\n",
    "b = 3.0"
   ]
  },
  {
   "cell_type": "code",
   "execution_count": null,
   "id": "posted-intention",
   "metadata": {
    "ExecuteTime": {
     "end_time": "2022-05-23T13:09:01.275525Z",
     "start_time": "2022-05-23T13:09:01.272409Z"
    }
   },
   "outputs": [],
   "source": [
    "# b를 출력합니다.\n",
    "b"
   ]
  },
  {
   "cell_type": "code",
   "execution_count": null,
   "id": "received-commerce",
   "metadata": {
    "ExecuteTime": {
     "end_time": "2022-05-23T13:09:01.280100Z",
     "start_time": "2022-05-23T13:09:01.277106Z"
    }
   },
   "outputs": [],
   "source": [
    "# b의 클래스를 확인합니다. b의 클래스는 float입니다.\n",
    "type(b)"
   ]
  },
  {
   "cell_type": "markdown",
   "id": "sustainable-paint",
   "metadata": {},
   "source": [
    "### 산술 연산자"
   ]
  },
  {
   "cell_type": "code",
   "execution_count": null,
   "id": "proper-xerox",
   "metadata": {
    "ExecuteTime": {
     "end_time": "2022-05-23T13:09:01.284701Z",
     "start_time": "2022-05-23T13:09:01.281760Z"
    }
   },
   "outputs": [],
   "source": [
    "# a와 b를 더합니다.\n",
    "a + b"
   ]
  },
  {
   "cell_type": "code",
   "execution_count": null,
   "id": "supported-balance",
   "metadata": {
    "ExecuteTime": {
     "end_time": "2022-05-23T13:09:01.289064Z",
     "start_time": "2022-05-23T13:09:01.286196Z"
    }
   },
   "outputs": [],
   "source": [
    "# a에서 b를 뺍니다.\n",
    "a - b"
   ]
  },
  {
   "cell_type": "code",
   "execution_count": null,
   "id": "gothic-organization",
   "metadata": {
    "ExecuteTime": {
     "end_time": "2022-05-23T13:09:01.296089Z",
     "start_time": "2022-05-23T13:09:01.292906Z"
    }
   },
   "outputs": [],
   "source": [
    "# a와 b를 곱합니다.\n",
    "a * b"
   ]
  },
  {
   "cell_type": "code",
   "execution_count": null,
   "id": "sought-terrace",
   "metadata": {
    "ExecuteTime": {
     "end_time": "2022-05-23T13:09:01.300685Z",
     "start_time": "2022-05-23T13:09:01.297597Z"
    }
   },
   "outputs": [],
   "source": [
    "# a를 b로 거듭제곱합니다.\n",
    "a ** b"
   ]
  },
  {
   "cell_type": "code",
   "execution_count": null,
   "id": "funky-entry",
   "metadata": {
    "ExecuteTime": {
     "end_time": "2022-05-23T13:09:01.305467Z",
     "start_time": "2022-05-23T13:09:01.302172Z"
    }
   },
   "outputs": [],
   "source": [
    "# a를 b로 나눕니다.\n",
    "a / b"
   ]
  },
  {
   "cell_type": "code",
   "execution_count": null,
   "id": "worldwide-experiment",
   "metadata": {
    "ExecuteTime": {
     "end_time": "2022-05-23T13:09:01.310265Z",
     "start_time": "2022-05-23T13:09:01.307102Z"
    }
   },
   "outputs": [],
   "source": [
    "# a를 b로 나눈 나머지를 반환합니다.\n",
    "a % b"
   ]
  },
  {
   "cell_type": "code",
   "execution_count": null,
   "id": "approved-asset",
   "metadata": {
    "ExecuteTime": {
     "end_time": "2022-05-23T13:09:01.315185Z",
     "start_time": "2022-05-23T13:09:01.311997Z"
    }
   },
   "outputs": [],
   "source": [
    "# a를 b로 나눈 (소수점 이하를 절사한) 몫을 반환합니다.\n",
    "a // b"
   ]
  },
  {
   "cell_type": "markdown",
   "id": "cardiovascular-encounter",
   "metadata": {},
   "source": [
    "### 할당 연산자"
   ]
  },
  {
   "cell_type": "code",
   "execution_count": null,
   "id": "thermal-happiness",
   "metadata": {
    "ExecuteTime": {
     "end_time": "2022-05-23T13:09:01.320243Z",
     "start_time": "2022-05-23T13:09:01.316971Z"
    }
   },
   "outputs": [],
   "source": [
    "# a에 정수 5를 할당하고 a를 출력합니다.\n",
    "a = 5\n",
    "a"
   ]
  },
  {
   "cell_type": "code",
   "execution_count": null,
   "id": "animated-requirement",
   "metadata": {
    "ExecuteTime": {
     "end_time": "2022-05-23T13:09:01.325077Z",
     "start_time": "2022-05-23T13:09:01.321861Z"
    }
   },
   "outputs": [],
   "source": [
    "# a에 1을 더한 결과를 a에 재할당하고 a를 출력합니다.\n",
    "a += 1\n",
    "a"
   ]
  },
  {
   "cell_type": "code",
   "execution_count": null,
   "id": "tracked-variance",
   "metadata": {
    "ExecuteTime": {
     "end_time": "2022-05-23T13:09:01.383124Z",
     "start_time": "2022-05-23T13:09:01.326650Z"
    }
   },
   "outputs": [],
   "source": [
    "# a에서 2를 뺀 결과를 a에 재할당하고 a를 출력합니다.\n",
    "a -= 2\n",
    "a"
   ]
  },
  {
   "cell_type": "code",
   "execution_count": null,
   "id": "wrapped-bridges",
   "metadata": {
    "ExecuteTime": {
     "end_time": "2022-05-23T13:09:01.439289Z",
     "start_time": "2022-05-23T13:09:01.384731Z"
    }
   },
   "outputs": [],
   "source": [
    "# b에 3을 곱한 결과를 b에 재할당하고 a를 출력합니다.\n",
    "b *= 3\n",
    "b"
   ]
  },
  {
   "cell_type": "code",
   "execution_count": null,
   "id": "brief-oliver",
   "metadata": {
    "ExecuteTime": {
     "end_time": "2022-05-23T13:09:01.443877Z",
     "start_time": "2022-05-23T13:09:01.440851Z"
    }
   },
   "outputs": [],
   "source": [
    "# b를 4로 나눈 결과를 b에 재할당하고 a를 출력합니다.\n",
    "b /= 4\n",
    "b"
   ]
  },
  {
   "cell_type": "markdown",
   "id": "athletic-hamilton",
   "metadata": {},
   "source": [
    "### 비교 연산자"
   ]
  },
  {
   "cell_type": "code",
   "execution_count": null,
   "id": "competent-revolution",
   "metadata": {
    "ExecuteTime": {
     "end_time": "2022-05-23T13:09:01.449378Z",
     "start_time": "2022-05-23T13:09:01.445534Z"
    }
   },
   "outputs": [],
   "source": [
    "# a가 4보다 크면 True, 작거나 같으면 False를 반환합니다.\n",
    "a > 4"
   ]
  },
  {
   "cell_type": "code",
   "execution_count": null,
   "id": "based-kenya",
   "metadata": {
    "ExecuteTime": {
     "end_time": "2022-05-23T13:09:01.455329Z",
     "start_time": "2022-05-23T13:09:01.451572Z"
    }
   },
   "outputs": [],
   "source": [
    "# a가 4보다 크거나 같으면 True, 작으면 False를 반환합니다.\n",
    "a >= 4"
   ]
  },
  {
   "cell_type": "code",
   "execution_count": null,
   "id": "valuable-charles",
   "metadata": {
    "ExecuteTime": {
     "end_time": "2022-05-23T13:09:01.460589Z",
     "start_time": "2022-05-23T13:09:01.456740Z"
    }
   },
   "outputs": [],
   "source": [
    "# a가 4보다 작으면 True, 크거나 같으면 False를 반환합니다.\n",
    "a < 4"
   ]
  },
  {
   "cell_type": "code",
   "execution_count": null,
   "id": "standing-morning",
   "metadata": {
    "ExecuteTime": {
     "end_time": "2022-05-23T13:09:01.464836Z",
     "start_time": "2022-05-23T13:09:01.462193Z"
    }
   },
   "outputs": [],
   "source": [
    "# a가 4보다 작거나 같으면 True, 크면 False를 반환합니다.\n",
    "a <= 4"
   ]
  },
  {
   "cell_type": "code",
   "execution_count": null,
   "id": "fossil-capture",
   "metadata": {
    "ExecuteTime": {
     "end_time": "2022-05-23T13:09:01.470109Z",
     "start_time": "2022-05-23T13:09:01.466642Z"
    }
   },
   "outputs": [],
   "source": [
    "# a가 4이면 True, 다르면 False를 반환합니다.\n",
    "a == 4"
   ]
  },
  {
   "cell_type": "code",
   "execution_count": null,
   "id": "seasonal-chester",
   "metadata": {
    "ExecuteTime": {
     "end_time": "2022-05-23T13:09:01.480088Z",
     "start_time": "2022-05-23T13:09:01.476994Z"
    }
   },
   "outputs": [],
   "source": [
    "# a가 4가 아니면 True, 같으면 False를 반환합니다.\n",
    "a != 4"
   ]
  },
  {
   "cell_type": "markdown",
   "id": "reverse-therapist",
   "metadata": {},
   "source": [
    "### 논리 연산자"
   ]
  },
  {
   "cell_type": "code",
   "execution_count": null,
   "id": "85591f12",
   "metadata": {
    "ExecuteTime": {
     "end_time": "2022-05-23T13:09:01.484746Z",
     "start_time": "2022-05-23T13:09:01.481817Z"
    }
   },
   "outputs": [],
   "source": [
    "# 비교 연산을 실행하여 True 또는 False를 반환합니다.\n",
    "a > 3"
   ]
  },
  {
   "cell_type": "code",
   "execution_count": null,
   "id": "664f99f3",
   "metadata": {
    "ExecuteTime": {
     "end_time": "2022-05-23T13:09:01.489406Z",
     "start_time": "2022-05-23T13:09:01.486336Z"
    }
   },
   "outputs": [],
   "source": [
    "# 비교 연산을 실행하여 True 또는 False를 반환합니다.\n",
    "b > 3"
   ]
  },
  {
   "cell_type": "code",
   "execution_count": null,
   "id": "suitable-nirvana",
   "metadata": {
    "ExecuteTime": {
     "end_time": "2022-05-23T13:09:01.494024Z",
     "start_time": "2022-05-23T13:09:01.490984Z"
    }
   },
   "outputs": [],
   "source": [
    "# [논리곱] 두 진리값이 모두 True면 True, 아니면 False를 반환합니다.\n",
    "a > 3 and b > 3"
   ]
  },
  {
   "cell_type": "code",
   "execution_count": null,
   "id": "statewide-distance",
   "metadata": {
    "ExecuteTime": {
     "end_time": "2022-05-23T13:09:01.498572Z",
     "start_time": "2022-05-23T13:09:01.495569Z"
    }
   },
   "outputs": [],
   "source": [
    "# [논리합] 두 진리값 중 하나 이상 True면 True, 아니면 False를 반환합니다.\n",
    "a > 3 or b > 3"
   ]
  },
  {
   "cell_type": "code",
   "execution_count": null,
   "id": "macro-movement",
   "metadata": {
    "ExecuteTime": {
     "end_time": "2022-05-23T13:09:01.503570Z",
     "start_time": "2022-05-23T13:09:01.500240Z"
    }
   },
   "outputs": [],
   "source": [
    "# [논리부정] not 뒤에 오는 진리값을 반전합니다.\n",
    "not (a > 3 and b > 3)"
   ]
  },
  {
   "cell_type": "code",
   "execution_count": null,
   "id": "1086073d",
   "metadata": {
    "ExecuteTime": {
     "end_time": "2022-05-23T13:09:01.508131Z",
     "start_time": "2022-05-23T13:09:01.505116Z"
    }
   },
   "outputs": [],
   "source": [
    "# [논리부정] not 뒤에 오는 진리값을 반전합니다.\n",
    "not (a > 3 or b > 3)"
   ]
  },
  {
   "cell_type": "markdown",
   "id": "unique-verification",
   "metadata": {},
   "source": [
    "### 문자열"
   ]
  },
  {
   "cell_type": "code",
   "execution_count": null,
   "id": "configured-repository",
   "metadata": {
    "ExecuteTime": {
     "end_time": "2022-05-23T13:09:01.512560Z",
     "start_time": "2022-05-23T13:09:01.510469Z"
    }
   },
   "outputs": [],
   "source": [
    "# str1에 문자열을 할당합니다. 홑따옴표를 사용했습니다.\n",
    "str1 = 'Life is short, '"
   ]
  },
  {
   "cell_type": "code",
   "execution_count": null,
   "id": "indonesian-marking",
   "metadata": {
    "ExecuteTime": {
     "end_time": "2022-05-23T13:09:01.517031Z",
     "start_time": "2022-05-23T13:09:01.514142Z"
    }
   },
   "outputs": [],
   "source": [
    "# str1을 출력합니다.\n",
    "str1"
   ]
  },
  {
   "cell_type": "code",
   "execution_count": null,
   "id": "sublime-trace",
   "metadata": {
    "ExecuteTime": {
     "end_time": "2022-05-23T13:09:01.520890Z",
     "start_time": "2022-05-23T13:09:01.518627Z"
    }
   },
   "outputs": [],
   "source": [
    "# print() 함수를 실행하면 따옴표 없이 글자만 출력합니다.\n",
    "print(str1)"
   ]
  },
  {
   "cell_type": "code",
   "execution_count": null,
   "id": "dangerous-refrigerator",
   "metadata": {
    "ExecuteTime": {
     "end_time": "2022-05-23T13:09:01.526253Z",
     "start_time": "2022-05-23T13:09:01.522545Z"
    }
   },
   "outputs": [],
   "source": [
    "# str1의 클래스를 확인합니다. str1의 클래스는 str입니다.\n",
    "type(str1)"
   ]
  },
  {
   "cell_type": "code",
   "execution_count": null,
   "id": "fewer-aircraft",
   "metadata": {
    "ExecuteTime": {
     "end_time": "2022-05-23T13:09:01.531921Z",
     "start_time": "2022-05-23T13:09:01.528336Z"
    }
   },
   "outputs": [],
   "source": [
    "# str1의 글자수를 반환합니다.\n",
    "len(str1)"
   ]
  },
  {
   "cell_type": "code",
   "execution_count": null,
   "id": "reported-greece",
   "metadata": {
    "ExecuteTime": {
     "end_time": "2022-05-23T13:09:01.535658Z",
     "start_time": "2022-05-23T13:09:01.533457Z"
    }
   },
   "outputs": [],
   "source": [
    "# str2에 문자열을 할당합니다. 겹따옴표를 사용했습니다.\n",
    "str2 = \"you need Python!\""
   ]
  },
  {
   "cell_type": "code",
   "execution_count": null,
   "id": "constitutional-trunk",
   "metadata": {
    "ExecuteTime": {
     "end_time": "2022-05-23T13:09:01.541121Z",
     "start_time": "2022-05-23T13:09:01.537941Z"
    }
   },
   "outputs": [],
   "source": [
    "# str2를 출력합니다.\n",
    "str2"
   ]
  },
  {
   "cell_type": "markdown",
   "id": "continuous-inspiration",
   "metadata": {},
   "source": [
    "### [참고] 다양한 문자열 생성법"
   ]
  },
  {
   "cell_type": "code",
   "execution_count": null,
   "id": "municipal-maple",
   "metadata": {
    "ExecuteTime": {
     "end_time": "2022-05-23T13:09:01.546449Z",
     "start_time": "2022-05-23T13:09:01.543449Z"
    }
   },
   "outputs": [],
   "source": [
    "# 홑따옴표로 감싼 문자열 안에 홑따옴표를 추가할 수 없습니다.\n",
    "'Monty Python's Flying Circus'"
   ]
  },
  {
   "cell_type": "code",
   "execution_count": null,
   "id": "imposed-mechanism",
   "metadata": {
    "ExecuteTime": {
     "end_time": "2022-05-23T13:09:29.348772Z",
     "start_time": "2022-05-23T13:09:29.345346Z"
    }
   },
   "outputs": [],
   "source": [
    "# 문자열 안에 홑따옴표를 추가하려면 문자열을 홑따옴표 대신에 겹따옴표로 감싸야 합니다.\n",
    "\"Monty Python's Flying Circus\""
   ]
  },
  {
   "cell_type": "code",
   "execution_count": null,
   "id": "special-commitment",
   "metadata": {
    "ExecuteTime": {
     "end_time": "2022-05-23T13:09:29.705942Z",
     "start_time": "2022-05-23T13:09:29.702669Z"
    }
   },
   "outputs": [],
   "source": [
    "# 홑따옴표로 감싸려면 안쪽 따옴표 앞에 역슬래쉬(\\) 기호를 추가해야 합니다.\n",
    "'Monty Python\\'s Flying Circus'"
   ]
  },
  {
   "cell_type": "code",
   "execution_count": null,
   "id": "requested-click",
   "metadata": {
    "ExecuteTime": {
     "end_time": "2022-05-23T13:09:30.046227Z",
     "start_time": "2022-05-23T13:09:30.043422Z"
    }
   },
   "outputs": [],
   "source": [
    "# 두 가지 경우를 모두 포함하는 예제입니다.\n",
    "'I\\'m saying \"You need Python!\" now.'"
   ]
  },
  {
   "cell_type": "code",
   "execution_count": null,
   "id": "classical-disney",
   "metadata": {
    "ExecuteTime": {
     "end_time": "2022-05-23T13:09:30.496289Z",
     "start_time": "2022-05-23T13:09:30.493209Z"
    }
   },
   "outputs": [],
   "source": [
    "# 문자열을 겹따옴표로 감쌌다면 문자열 안 겹따옴표 앞에 \\ 기호를 추가합니다.\n",
    "\"I'm saying \\\"You need Python!\\\" now.\""
   ]
  },
  {
   "cell_type": "code",
   "execution_count": null,
   "id": "crazy-criterion",
   "metadata": {
    "ExecuteTime": {
     "end_time": "2022-05-23T13:09:31.012730Z",
     "start_time": "2022-05-23T13:09:31.009588Z"
    }
   },
   "outputs": [],
   "source": [
    "# 여러 줄의 문자열을 생성하려면 홑따옴표나 겹따옴표를 세 번 반복합니다.\n",
    "'''hello!\n",
    "Good to see you.'''"
   ]
  },
  {
   "cell_type": "markdown",
   "id": "authentic-champion",
   "metadata": {},
   "source": [
    "### 문자열 연산자"
   ]
  },
  {
   "cell_type": "code",
   "execution_count": null,
   "id": "split-andorra",
   "metadata": {
    "ExecuteTime": {
     "end_time": "2022-05-23T13:09:31.800278Z",
     "start_time": "2022-05-23T13:09:31.797605Z"
    }
   },
   "outputs": [],
   "source": [
    "# + 연산자는 두 문자열을 결합합니다. [주의] 수와 문자열을 섞으면 에러가 발생합니다.\n",
    "str1 + str2"
   ]
  },
  {
   "cell_type": "code",
   "execution_count": null,
   "id": "international-bolivia",
   "metadata": {
    "ExecuteTime": {
     "end_time": "2022-05-23T13:09:32.115711Z",
     "start_time": "2022-05-23T13:09:32.112756Z"
    }
   },
   "outputs": [],
   "source": [
    "# * 연산자는 왼쪽 문자열을 오른쪽에 지정한 횟수만큼 반복합니다.\n",
    "str2 * 3"
   ]
  },
  {
   "cell_type": "code",
   "execution_count": null,
   "id": "offshore-europe",
   "metadata": {
    "ExecuteTime": {
     "end_time": "2022-05-23T13:09:32.621443Z",
     "start_time": "2022-05-23T13:09:32.618417Z"
    }
   },
   "outputs": [],
   "source": [
    "# str1에 'a'가 있으면 True, 없으면 False를 반환합니다.\n",
    "'a' in str1"
   ]
  },
  {
   "cell_type": "code",
   "execution_count": null,
   "id": "straight-region",
   "metadata": {
    "ExecuteTime": {
     "end_time": "2022-05-23T13:09:33.005313Z",
     "start_time": "2022-05-23T13:09:33.002138Z"
    }
   },
   "outputs": [],
   "source": [
    "# str1에 'a'가 없으면 True, 있으면 False를 반환합니다.\n",
    "'a' not in str1"
   ]
  },
  {
   "cell_type": "markdown",
   "id": "smart-evolution",
   "metadata": {},
   "source": [
    "### 문자열의 인덱싱"
   ]
  },
  {
   "cell_type": "code",
   "execution_count": null,
   "id": "worthy-adelaide",
   "metadata": {
    "ExecuteTime": {
     "end_time": "2022-05-23T13:09:33.734406Z",
     "start_time": "2022-05-23T13:09:33.732090Z"
    }
   },
   "outputs": [],
   "source": [
    "# sen에 문자열을 할당합니다.\n",
    "sen = '아버지가 안방에 들어가신다.'"
   ]
  },
  {
   "cell_type": "code",
   "execution_count": null,
   "id": "willing-breakdown",
   "metadata": {
    "ExecuteTime": {
     "end_time": "2022-05-23T13:09:34.155621Z",
     "start_time": "2022-05-23T13:09:34.152541Z"
    }
   },
   "outputs": [],
   "source": [
    "# sen의 첫 번째 문자(0번 인덱스)를 선택합니다.\n",
    "sen[0]"
   ]
  },
  {
   "cell_type": "code",
   "execution_count": null,
   "id": "formed-church",
   "metadata": {
    "ExecuteTime": {
     "end_time": "2022-05-23T13:09:34.715073Z",
     "start_time": "2022-05-23T13:09:34.712040Z"
    }
   },
   "outputs": [],
   "source": [
    "# sen의 두 번째 문자(1번 인덱스)를 선택합니다.\n",
    "sen[1]"
   ]
  },
  {
   "cell_type": "code",
   "execution_count": null,
   "id": "8aac4d98",
   "metadata": {
    "ExecuteTime": {
     "end_time": "2022-05-23T13:09:35.232827Z",
     "start_time": "2022-05-23T13:09:35.229579Z"
    }
   },
   "outputs": [],
   "source": [
    "# sen의 마지막 문자(-1번 인덱스)를 선택합니다.\n",
    "sen[-1]"
   ]
  },
  {
   "cell_type": "markdown",
   "id": "impaired-simulation",
   "metadata": {},
   "source": [
    "### 문자열의 슬라이싱"
   ]
  },
  {
   "cell_type": "code",
   "execution_count": null,
   "id": "renewable-blair",
   "metadata": {
    "ExecuteTime": {
     "end_time": "2022-05-23T13:09:36.041797Z",
     "start_time": "2022-05-23T13:09:36.038386Z"
    }
   },
   "outputs": [],
   "source": [
    "# sen의 1~3번째 문자를 결합합니다.\n",
    "sen[0] + sen[1] + sen[2]"
   ]
  },
  {
   "cell_type": "code",
   "execution_count": null,
   "id": "upset-hebrew",
   "metadata": {
    "ExecuteTime": {
     "end_time": "2022-05-23T13:09:36.492050Z",
     "start_time": "2022-05-23T13:09:36.489065Z"
    }
   },
   "outputs": [],
   "source": [
    "# sen의 첫 번째 문자(0번 인덱스)부터 세 번째 문자(3-1번 인덱스)를 선택합니다.\n",
    "sen[0:3]"
   ]
  },
  {
   "cell_type": "code",
   "execution_count": null,
   "id": "behavioral-reduction",
   "metadata": {
    "ExecuteTime": {
     "end_time": "2022-05-23T13:09:36.894739Z",
     "start_time": "2022-05-23T13:09:36.891577Z"
    }
   },
   "outputs": [],
   "source": [
    "# 콜론 앞에 정수를 생략하면 첫 번째 문자부터 선택합니다.\n",
    "sen[:3]"
   ]
  },
  {
   "cell_type": "code",
   "execution_count": null,
   "id": "weird-cooling",
   "metadata": {
    "ExecuteTime": {
     "end_time": "2022-05-23T13:09:37.243301Z",
     "start_time": "2022-05-23T13:09:37.240223Z"
    }
   },
   "outputs": [],
   "source": [
    "# 콜론 뒤에 정수를 생략하면 마지막 문자까지 선택합니다.\n",
    "sen[9:]"
   ]
  },
  {
   "cell_type": "code",
   "execution_count": null,
   "id": "complete-samuel",
   "metadata": {
    "ExecuteTime": {
     "end_time": "2022-05-23T13:09:37.577065Z",
     "start_time": "2022-05-23T13:09:37.573981Z"
    }
   },
   "outputs": [],
   "source": [
    "# sen의 열 번째 문자부터 끝에서 두 번째 문자(-2번 인덱스)를 선택합니다.\n",
    "sen[9:-1]"
   ]
  },
  {
   "cell_type": "code",
   "execution_count": null,
   "id": "acquired-wrestling",
   "metadata": {
    "ExecuteTime": {
     "end_time": "2022-05-23T13:09:37.818236Z",
     "start_time": "2022-05-23T13:09:37.815150Z"
    }
   },
   "outputs": [],
   "source": [
    "# sen의 문자열 전체를 선택합니다.\n",
    "sen[:]"
   ]
  },
  {
   "cell_type": "markdown",
   "id": "beginning-resistance",
   "metadata": {},
   "source": [
    "### 문자열 공백 제거 및 변경"
   ]
  },
  {
   "cell_type": "code",
   "execution_count": null,
   "id": "likely-generator",
   "metadata": {
    "ExecuteTime": {
     "end_time": "2022-05-23T13:09:38.481024Z",
     "start_time": "2022-05-23T13:09:38.478775Z"
    }
   },
   "outputs": [],
   "source": [
    "# 문자열 양쪽에 공백을 추가합니다.\n",
    "sen = '\\n 나의 살던 고향은 꽃피는 산골 \\t'"
   ]
  },
  {
   "cell_type": "code",
   "execution_count": null,
   "id": "defensive-convergence",
   "metadata": {
    "ExecuteTime": {
     "end_time": "2022-05-23T13:09:38.843832Z",
     "start_time": "2022-05-23T13:09:38.840892Z"
    }
   },
   "outputs": [],
   "source": [
    "# sen을 출력하면 문자열 양쪽에 공백이 보입니다.\n",
    "sen"
   ]
  },
  {
   "cell_type": "code",
   "execution_count": null,
   "id": "dependent-whale",
   "metadata": {
    "ExecuteTime": {
     "end_time": "2022-05-23T13:09:39.212920Z",
     "start_time": "2022-05-23T13:09:39.209029Z"
    },
    "scrolled": true
   },
   "outputs": [],
   "source": [
    "# sen의 속성과 방식 목록을 출력합니다.\n",
    "dir(sen)"
   ]
  },
  {
   "cell_type": "code",
   "execution_count": null,
   "id": "convertible-muslim",
   "metadata": {
    "ExecuteTime": {
     "end_time": "2022-05-23T13:09:39.542232Z",
     "start_time": "2022-05-23T13:09:39.540171Z"
    }
   },
   "outputs": [],
   "source": [
    "# sen의 양쪽 공백을 제거하고 sen에 재할당합니다.\n",
    "sen = sen.strip()"
   ]
  },
  {
   "cell_type": "code",
   "execution_count": null,
   "id": "weekly-train",
   "metadata": {
    "ExecuteTime": {
     "end_time": "2022-05-23T13:09:39.926761Z",
     "start_time": "2022-05-23T13:09:39.923787Z"
    }
   },
   "outputs": [],
   "source": [
    "# 문자열 양쪽에 있는 공백을 제거했습니다.\n",
    "sen"
   ]
  },
  {
   "cell_type": "code",
   "execution_count": null,
   "id": "athletic-snapshot",
   "metadata": {
    "ExecuteTime": {
     "end_time": "2022-05-23T13:09:40.272995Z",
     "start_time": "2022-05-23T13:09:40.269588Z"
    }
   },
   "outputs": [],
   "source": [
    "# sen의 '산골'을 '공원'으로 바꾼 결과를 반환합니다.\n",
    "sen.replace('산골', '공원')"
   ]
  },
  {
   "cell_type": "code",
   "execution_count": null,
   "id": "worst-drawing",
   "metadata": {
    "ExecuteTime": {
     "end_time": "2022-05-23T13:09:40.610895Z",
     "start_time": "2022-05-23T13:09:40.607945Z"
    }
   },
   "outputs": [],
   "source": [
    "# 위 코드를 실행하고 sen에 재할당하지 않았으므로 sen에 '산골'이 그대로 남아있습니다.\n",
    "sen"
   ]
  },
  {
   "cell_type": "markdown",
   "id": "computational-frank",
   "metadata": {},
   "source": [
    "### 문자열 인덱스 확인"
   ]
  },
  {
   "cell_type": "code",
   "execution_count": null,
   "id": "compact-forward",
   "metadata": {
    "ExecuteTime": {
     "end_time": "2022-05-23T13:09:41.329894Z",
     "start_time": "2022-05-23T13:09:41.326336Z"
    }
   },
   "outputs": [],
   "source": [
    "# sen에 있는 공백 개수를 반환합니다.\n",
    "sen.count(' ')"
   ]
  },
  {
   "cell_type": "code",
   "execution_count": null,
   "id": "judicial-minneapolis",
   "metadata": {
    "ExecuteTime": {
     "end_time": "2022-05-23T13:09:41.655846Z",
     "start_time": "2022-05-23T13:09:41.652713Z"
    }
   },
   "outputs": [],
   "source": [
    "# sen에서 공백이 처음 나오는 인덱스를 반환합니다.\n",
    "# [참고] index() 함수에 탐색 범위(시작과 끝 인덱스)를 설정할 수 있습니다.\n",
    "sen.index(' ')"
   ]
  },
  {
   "cell_type": "code",
   "execution_count": null,
   "id": "refined-elements",
   "metadata": {
    "ExecuteTime": {
     "end_time": "2022-05-23T13:09:41.937726Z",
     "start_time": "2022-05-23T13:09:41.933990Z"
    }
   },
   "outputs": [],
   "source": [
    "# 3번부터 마지막 인덱스로 탐색 범위를 지정하고 공백을 탐색합니다.\n",
    "sen.index(' ', 3, len(sen))"
   ]
  },
  {
   "cell_type": "code",
   "execution_count": null,
   "id": "comic-sellers",
   "metadata": {
    "ExecuteTime": {
     "end_time": "2022-05-23T13:09:42.262546Z",
     "start_time": "2022-05-23T13:09:42.259592Z"
    }
   },
   "outputs": [],
   "source": [
    "# 두 글자 이상인 문자열을 탐색하면 첫 번째 글자의 인덱스를 반환합니다.\n",
    "sen.index('산골')"
   ]
  },
  {
   "cell_type": "code",
   "execution_count": null,
   "id": "broad-regulation",
   "metadata": {
    "ExecuteTime": {
     "end_time": "2022-05-23T13:09:42.563838Z",
     "start_time": "2022-05-23T13:09:42.552334Z"
    }
   },
   "outputs": [],
   "source": [
    "# sen에 없는 문자열을 입력하면 에러가 발생합니다.\n",
    "sen.index('공원')"
   ]
  },
  {
   "cell_type": "code",
   "execution_count": null,
   "id": "cross-madrid",
   "metadata": {
    "ExecuteTime": {
     "end_time": "2022-05-23T13:09:42.836344Z",
     "start_time": "2022-05-23T13:09:42.832254Z"
    }
   },
   "outputs": [],
   "source": [
    "# find() 함수는 index() 함수와 같은 기능을 수행하지만 에러 대신 -1을 반환합니다.\n",
    "sen.find('공원')"
   ]
  },
  {
   "cell_type": "markdown",
   "id": "static-mineral",
   "metadata": {},
   "source": [
    "### 문자열 분리 및 결합"
   ]
  },
  {
   "cell_type": "code",
   "execution_count": null,
   "id": "offensive-spoke",
   "metadata": {
    "ExecuteTime": {
     "end_time": "2022-05-23T13:09:44.310857Z",
     "start_time": "2022-05-23T13:09:44.307284Z"
    }
   },
   "outputs": [],
   "source": [
    "# sen을 구분자 '은'으로 분리합니다. [참고] 문자열을 분리하면 리스트로 반환합니다.\n",
    "sen.split('은')"
   ]
  },
  {
   "cell_type": "code",
   "execution_count": null,
   "id": "swedish-civilization",
   "metadata": {
    "ExecuteTime": {
     "end_time": "2022-05-23T13:09:44.546439Z",
     "start_time": "2022-05-23T13:09:44.544319Z"
    }
   },
   "outputs": [],
   "source": [
    "# sen을 공백으로 분리한 결과를 strs에 할당합니다.\n",
    "strs = sen.split()"
   ]
  },
  {
   "cell_type": "code",
   "execution_count": null,
   "id": "twelve-mediterranean",
   "metadata": {
    "ExecuteTime": {
     "end_time": "2022-05-23T13:09:44.780895Z",
     "start_time": "2022-05-23T13:09:44.778008Z"
    }
   },
   "outputs": [],
   "source": [
    "# strs를 출력합니다. 대괄호 안에 여러 문자열이 포함되어 있습니다.\n",
    "strs"
   ]
  },
  {
   "cell_type": "code",
   "execution_count": null,
   "id": "centered-negotiation",
   "metadata": {
    "ExecuteTime": {
     "end_time": "2022-05-23T13:09:45.164443Z",
     "start_time": "2022-05-23T13:09:45.161383Z"
    }
   },
   "outputs": [],
   "source": [
    "# strs의 클래스를 확인합니다. strs의 클래스는 list입니다.\n",
    "type(strs)"
   ]
  },
  {
   "cell_type": "code",
   "execution_count": null,
   "id": "structured-ordinance",
   "metadata": {
    "ExecuteTime": {
     "end_time": "2022-05-23T13:09:45.481013Z",
     "start_time": "2022-05-23T13:09:45.477972Z"
    }
   },
   "outputs": [],
   "source": [
    "# strs의 원소 사이에 공백을 추가하여 문자열로 결합합니다.\n",
    "' '.join(strs)"
   ]
  },
  {
   "cell_type": "code",
   "execution_count": null,
   "id": "finnish-identity",
   "metadata": {
    "ExecuteTime": {
     "end_time": "2022-05-23T13:09:45.898479Z",
     "start_time": "2022-05-23T13:09:45.895533Z"
    }
   },
   "outputs": [],
   "source": [
    "# 구분자에 따라 실행 결과가 달라집니다.\n",
    "'-'.join(strs)"
   ]
  },
  {
   "cell_type": "markdown",
   "id": "earlier-circular",
   "metadata": {},
   "source": [
    "### 자료형 변환"
   ]
  },
  {
   "cell_type": "code",
   "execution_count": null,
   "id": "systematic-arrival",
   "metadata": {
    "ExecuteTime": {
     "end_time": "2022-05-23T13:09:47.122056Z",
     "start_time": "2022-05-23T13:09:47.119737Z"
    }
   },
   "outputs": [],
   "source": [
    "# a에 문자열 '1.2'를 할당합니다.\n",
    "a = '1.2'"
   ]
  },
  {
   "cell_type": "code",
   "execution_count": null,
   "id": "beneficial-mailing",
   "metadata": {
    "ExecuteTime": {
     "end_time": "2022-05-23T13:09:47.628019Z",
     "start_time": "2022-05-23T13:09:47.624969Z"
    }
   },
   "outputs": [],
   "source": [
    "# a의 클래스는 str입니다.\n",
    "type(a)"
   ]
  },
  {
   "cell_type": "code",
   "execution_count": null,
   "id": "generous-outside",
   "metadata": {
    "ExecuteTime": {
     "end_time": "2022-05-23T13:09:47.864570Z",
     "start_time": "2022-05-23T13:09:47.862564Z"
    }
   },
   "outputs": [],
   "source": [
    "# a를 실수로 변환한 결과를 b에 할당합니다.\n",
    "b = float(a)"
   ]
  },
  {
   "cell_type": "code",
   "execution_count": null,
   "id": "circular-brand",
   "metadata": {
    "ExecuteTime": {
     "end_time": "2022-05-23T13:09:48.066922Z",
     "start_time": "2022-05-23T13:09:48.063980Z"
    }
   },
   "outputs": [],
   "source": [
    "# b의 클래스는 float입니다.\n",
    "type(b)"
   ]
  },
  {
   "cell_type": "code",
   "execution_count": null,
   "id": "italic-limit",
   "metadata": {
    "ExecuteTime": {
     "end_time": "2022-05-23T13:09:48.311483Z",
     "start_time": "2022-05-23T13:09:48.299354Z"
    }
   },
   "outputs": [],
   "source": [
    "# 소수점 있는 문자열을 정수로 변환할 수 없습니다.\n",
    "c = int(a)"
   ]
  },
  {
   "cell_type": "code",
   "execution_count": null,
   "id": "spread-tenant",
   "metadata": {
    "ExecuteTime": {
     "end_time": "2022-05-23T13:09:48.532025Z",
     "start_time": "2022-05-23T13:09:48.529935Z"
    }
   },
   "outputs": [],
   "source": [
    "# b를 정수로 변환한 결과를 c에 할당합니다.\n",
    "c = int(b)"
   ]
  },
  {
   "cell_type": "code",
   "execution_count": null,
   "id": "nominated-secretary",
   "metadata": {
    "ExecuteTime": {
     "end_time": "2022-05-23T13:09:49.000646Z",
     "start_time": "2022-05-23T13:09:48.997744Z"
    }
   },
   "outputs": [],
   "source": [
    "# c의 클래스는 int입니다.\n",
    "type(c)"
   ]
  },
  {
   "cell_type": "markdown",
   "id": "junior-peoples",
   "metadata": {},
   "source": [
    "### 문자열 포맷팅: 포맷 코드"
   ]
  },
  {
   "cell_type": "code",
   "execution_count": null,
   "id": "overall-overview",
   "metadata": {
    "ExecuteTime": {
     "end_time": "2022-05-23T13:09:49.596732Z",
     "start_time": "2022-05-23T13:09:49.594691Z"
    }
   },
   "outputs": [],
   "source": [
    "# name과 rate에 적당한 값을 할당합니다.\n",
    "rate = 3.2\n",
    "name = '홍길동'"
   ]
  },
  {
   "cell_type": "code",
   "execution_count": null,
   "id": "4b42ea66",
   "metadata": {
    "ExecuteTime": {
     "end_time": "2022-05-23T13:09:49.922849Z",
     "start_time": "2022-05-23T13:09:49.919562Z"
    }
   },
   "outputs": [],
   "source": [
    "# 문자열을 결합합니다.\n",
    "name + ' 고객님의 이자율은 ' + str(rate) + ' %입니다.'"
   ]
  },
  {
   "cell_type": "code",
   "execution_count": null,
   "id": "loving-helen",
   "metadata": {
    "ExecuteTime": {
     "end_time": "2022-05-23T13:09:50.170238Z",
     "start_time": "2022-05-23T13:09:50.167245Z"
    }
   },
   "outputs": [],
   "source": [
    "# name과 rate의 값을 포맷 코드인 '%s'와 '%f'에 각각 대입합니다.\n",
    "'%s 고객님의 이자율은 %f %%입니다.' %(name, rate)"
   ]
  },
  {
   "cell_type": "code",
   "execution_count": null,
   "id": "compound-associate",
   "metadata": {
    "ExecuteTime": {
     "end_time": "2022-05-23T13:09:50.418382Z",
     "start_time": "2022-05-23T13:09:50.415317Z"
    }
   },
   "outputs": [],
   "source": [
    "# 실수의 소수점 자리수를 설정할 수 있습니다.\n",
    "'%s 고객님의 이자율은 %.2f %%입니다.' %(name, rate)"
   ]
  },
  {
   "cell_type": "markdown",
   "id": "novel-albuquerque",
   "metadata": {},
   "source": [
    "### 문자열 포맷팅: format(), f-문자열"
   ]
  },
  {
   "cell_type": "code",
   "execution_count": null,
   "id": "tender-ghana",
   "metadata": {
    "ExecuteTime": {
     "end_time": "2022-05-23T13:09:51.049657Z",
     "start_time": "2022-05-23T13:09:51.046585Z"
    }
   },
   "outputs": [],
   "source": [
    "# 중괄호 안에 인덱스 또는 변수명을 지정합니다.\n",
    "'{0} 고객님의 이자율은 {1} %입니다.'.format(name, rate)"
   ]
  },
  {
   "cell_type": "code",
   "execution_count": null,
   "id": "sunrise-matter",
   "metadata": {
    "ExecuteTime": {
     "end_time": "2022-05-23T13:09:51.284925Z",
     "start_time": "2022-05-23T13:09:51.281871Z"
    }
   },
   "outputs": [],
   "source": [
    "# 인덱스를 생략하면 순서대로 변수의 값을 대입합니다.\n",
    "'{} 고객님의 이자율은 {} %입니다.'.format(name, rate)"
   ]
  },
  {
   "cell_type": "code",
   "execution_count": null,
   "id": "renewable-charge",
   "metadata": {
    "ExecuteTime": {
     "end_time": "2022-05-23T13:09:51.646375Z",
     "start_time": "2022-05-23T13:09:51.643128Z"
    }
   },
   "outputs": [],
   "source": [
    "# 실수의 소수점 자리수를 지정하려면 반드시 콜론을 추가해야 합니다.\n",
    "'{0} 고객님의 이자율은 {1:.2f} %입니다.'.format(name, rate)"
   ]
  },
  {
   "cell_type": "code",
   "execution_count": null,
   "id": "sound-rings",
   "metadata": {
    "ExecuteTime": {
     "end_time": "2022-05-23T13:09:51.936440Z",
     "start_time": "2022-05-23T13:09:51.933588Z"
    }
   },
   "outputs": [],
   "source": [
    "# Python 3.6에서 도입된 f-문자열을 사용하면 간결하게 코딩할 수 있습니다.\n",
    "f'{name} 고객님의 이자율은 {rate:.2f} %입니다.'"
   ]
  },
  {
   "cell_type": "markdown",
   "id": "applicable-vulnerability",
   "metadata": {},
   "source": [
    "### 부울"
   ]
  },
  {
   "cell_type": "code",
   "execution_count": null,
   "id": "ranging-alexandria",
   "metadata": {
    "ExecuteTime": {
     "end_time": "2022-05-23T13:09:52.567500Z",
     "start_time": "2022-05-23T13:09:52.565452Z"
    }
   },
   "outputs": [],
   "source": [
    "# a에 True를 할당합니다. [주의] 따옴표로 감싸면 문자열이 됩니다.\n",
    "a = True"
   ]
  },
  {
   "cell_type": "code",
   "execution_count": null,
   "id": "multiple-reggae",
   "metadata": {
    "ExecuteTime": {
     "end_time": "2022-05-23T13:09:52.937123Z",
     "start_time": "2022-05-23T13:09:52.934100Z"
    }
   },
   "outputs": [],
   "source": [
    "# a의 클래스를 확인합니다. a의 클래스는 bool입니다.\n",
    "type(a)"
   ]
  },
  {
   "cell_type": "code",
   "execution_count": null,
   "id": "b6514678",
   "metadata": {
    "ExecuteTime": {
     "end_time": "2022-05-23T13:09:53.321275Z",
     "start_time": "2022-05-23T13:09:53.318310Z"
    }
   },
   "outputs": [],
   "source": [
    "# True는 정수 1, False는 정수 0이므로 더하면 1을 반환합니다.\n",
    "True + False"
   ]
  },
  {
   "cell_type": "code",
   "execution_count": null,
   "id": "macro-burden",
   "metadata": {
    "ExecuteTime": {
     "end_time": "2022-05-23T13:09:53.670422Z",
     "start_time": "2022-05-23T13:09:53.667135Z"
    }
   },
   "outputs": [],
   "source": [
    "# 어떤 객체에 값 또는 원소가 있으면 True, 없으면 False를 반환합니다.\n",
    "bool(1)"
   ]
  },
  {
   "cell_type": "markdown",
   "id": "alive-supply",
   "metadata": {},
   "source": [
    "## End of Document"
   ]
  }
 ],
 "metadata": {
  "kernelspec": {
   "display_name": "Python 3 (ipykernel)",
   "language": "python",
   "name": "python3"
  },
  "language_info": {
   "codemirror_mode": {
    "name": "ipython",
    "version": 3
   },
   "file_extension": ".py",
   "mimetype": "text/x-python",
   "name": "python",
   "nbconvert_exporter": "python",
   "pygments_lexer": "ipython3",
   "version": "3.10.4"
  },
  "toc": {
   "base_numbering": 1,
   "nav_menu": {},
   "number_sections": false,
   "sideBar": true,
   "skip_h1_title": false,
   "title_cell": "Table of Contents",
   "title_sidebar": "Contents",
   "toc_cell": false,
   "toc_position": {},
   "toc_section_display": true,
   "toc_window_display": false
  },
  "varInspector": {
   "cols": {
    "lenName": 16,
    "lenType": 16,
    "lenVar": 40
   },
   "kernels_config": {
    "python": {
     "delete_cmd_postfix": "",
     "delete_cmd_prefix": "del ",
     "library": "var_list.py",
     "varRefreshCmd": "print(var_dic_list())"
    },
    "r": {
     "delete_cmd_postfix": ") ",
     "delete_cmd_prefix": "rm(",
     "library": "var_list.r",
     "varRefreshCmd": "cat(var_dic_list()) "
    }
   },
   "position": {
    "height": "299.844px",
    "left": "687.859px",
    "right": "20px",
    "top": "90px",
    "width": "325px"
   },
   "types_to_exclude": [
    "module",
    "function",
    "builtin_function_or_method",
    "instance",
    "_Feature"
   ],
   "window_display": false
  }
 },
 "nbformat": 4,
 "nbformat_minor": 5
}
