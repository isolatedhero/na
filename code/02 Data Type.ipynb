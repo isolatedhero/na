{
 "cells": [
  {
   "cell_type": "markdown",
   "id": "96237ba2",
   "metadata": {},
   "source": [
    "## 자료형(Data Types)"
   ]
  },
  {
   "cell_type": "markdown",
   "id": "worse-origin",
   "metadata": {},
   "source": [
    "### 수: 정수, 실수"
   ]
  },
  {
   "cell_type": "code",
   "execution_count": 1,
   "id": "unlike-vegetation",
   "metadata": {},
   "outputs": [],
   "source": [
    "# a에 정수 3을 할당합니다.\n",
    "a = 3"
   ]
  },
  {
   "cell_type": "code",
   "execution_count": 2,
   "id": "designing-diabetes",
   "metadata": {},
   "outputs": [
    {
     "data": {
      "text/plain": [
       "3"
      ]
     },
     "execution_count": 2,
     "metadata": {},
     "output_type": "execute_result"
    }
   ],
   "source": [
    "# a를 출력합니다.\n",
    "a"
   ]
  },
  {
   "cell_type": "code",
   "execution_count": 3,
   "id": "convenient-counter",
   "metadata": {},
   "outputs": [
    {
     "data": {
      "text/plain": [
       "int"
      ]
     },
     "execution_count": 3,
     "metadata": {},
     "output_type": "execute_result"
    }
   ],
   "source": [
    "# a의 클래스를 확인합니다. a의 클래스는 int입니다.\n",
    "type(a)"
   ]
  },
  {
   "cell_type": "code",
   "execution_count": 4,
   "id": "adjacent-superintendent",
   "metadata": {},
   "outputs": [],
   "source": [
    "# b에 실수 3.0을 할당합니다.\n",
    "b = 3.0"
   ]
  },
  {
   "cell_type": "code",
   "execution_count": 5,
   "id": "posted-intention",
   "metadata": {},
   "outputs": [
    {
     "data": {
      "text/plain": [
       "3.0"
      ]
     },
     "execution_count": 5,
     "metadata": {},
     "output_type": "execute_result"
    }
   ],
   "source": [
    "# b를 출력합니다.\n",
    "b"
   ]
  },
  {
   "cell_type": "code",
   "execution_count": 6,
   "id": "received-commerce",
   "metadata": {},
   "outputs": [
    {
     "data": {
      "text/plain": [
       "float"
      ]
     },
     "execution_count": 6,
     "metadata": {},
     "output_type": "execute_result"
    }
   ],
   "source": [
    "# b의 클래스를 확인합니다. b의 클래스는 float입니다.\n",
    "type(b)"
   ]
  },
  {
   "cell_type": "markdown",
   "id": "sustainable-paint",
   "metadata": {},
   "source": [
    "### 산술 연산자"
   ]
  },
  {
   "cell_type": "code",
   "execution_count": 7,
   "id": "proper-xerox",
   "metadata": {},
   "outputs": [
    {
     "data": {
      "text/plain": [
       "6.0"
      ]
     },
     "execution_count": 7,
     "metadata": {},
     "output_type": "execute_result"
    }
   ],
   "source": [
    "# a와 b를 더합니다.\n",
    "a + b"
   ]
  },
  {
   "cell_type": "code",
   "execution_count": 8,
   "id": "supported-balance",
   "metadata": {},
   "outputs": [
    {
     "data": {
      "text/plain": [
       "0.0"
      ]
     },
     "execution_count": 8,
     "metadata": {},
     "output_type": "execute_result"
    }
   ],
   "source": [
    "# a에서 b를 뺍니다.\n",
    "a - b"
   ]
  },
  {
   "cell_type": "code",
   "execution_count": 9,
   "id": "gothic-organization",
   "metadata": {},
   "outputs": [
    {
     "data": {
      "text/plain": [
       "9.0"
      ]
     },
     "execution_count": 9,
     "metadata": {},
     "output_type": "execute_result"
    }
   ],
   "source": [
    "# a와 b를 곱합니다.\n",
    "a * b"
   ]
  },
  {
   "cell_type": "code",
   "execution_count": 10,
   "id": "sought-terrace",
   "metadata": {},
   "outputs": [
    {
     "data": {
      "text/plain": [
       "27.0"
      ]
     },
     "execution_count": 10,
     "metadata": {},
     "output_type": "execute_result"
    }
   ],
   "source": [
    "# a를 b로 거듭제곱합니다.\n",
    "a ** b"
   ]
  },
  {
   "cell_type": "code",
   "execution_count": 11,
   "id": "funky-entry",
   "metadata": {},
   "outputs": [
    {
     "data": {
      "text/plain": [
       "1.0"
      ]
     },
     "execution_count": 11,
     "metadata": {},
     "output_type": "execute_result"
    }
   ],
   "source": [
    "# a를 b로 나눕니다.\n",
    "a / b"
   ]
  },
  {
   "cell_type": "code",
   "execution_count": 12,
   "id": "worldwide-experiment",
   "metadata": {},
   "outputs": [
    {
     "data": {
      "text/plain": [
       "0.0"
      ]
     },
     "execution_count": 12,
     "metadata": {},
     "output_type": "execute_result"
    }
   ],
   "source": [
    "# a를 b로 나눈 나머지를 반환합니다.\n",
    "a % b"
   ]
  },
  {
   "cell_type": "code",
   "execution_count": 13,
   "id": "approved-asset",
   "metadata": {},
   "outputs": [
    {
     "data": {
      "text/plain": [
       "1.0"
      ]
     },
     "execution_count": 13,
     "metadata": {},
     "output_type": "execute_result"
    }
   ],
   "source": [
    "# a를 b로 나눈 (소수점 이하를 절사한) 몫을 반환합니다.\n",
    "a // b"
   ]
  },
  {
   "cell_type": "markdown",
   "id": "cardiovascular-encounter",
   "metadata": {},
   "source": [
    "### 할당 연산자"
   ]
  },
  {
   "cell_type": "code",
   "execution_count": 14,
   "id": "thermal-happiness",
   "metadata": {},
   "outputs": [
    {
     "data": {
      "text/plain": [
       "5"
      ]
     },
     "execution_count": 14,
     "metadata": {},
     "output_type": "execute_result"
    }
   ],
   "source": [
    "# a에 정수 5를 할당하고 a를 출력합니다.\n",
    "a = 5\n",
    "a"
   ]
  },
  {
   "cell_type": "code",
   "execution_count": 15,
   "id": "animated-requirement",
   "metadata": {},
   "outputs": [
    {
     "data": {
      "text/plain": [
       "6"
      ]
     },
     "execution_count": 15,
     "metadata": {},
     "output_type": "execute_result"
    }
   ],
   "source": [
    "# a에 1을 더하고 a에 재할당한 다음 a를 출력합니다.\n",
    "a += 1\n",
    "a"
   ]
  },
  {
   "cell_type": "code",
   "execution_count": 16,
   "id": "tracked-variance",
   "metadata": {},
   "outputs": [
    {
     "data": {
      "text/plain": [
       "4"
      ]
     },
     "execution_count": 16,
     "metadata": {},
     "output_type": "execute_result"
    }
   ],
   "source": [
    "# a에서 2를 빼고 a에 재할당한 다음 a를 출력합니다.\n",
    "a -= 2\n",
    "a"
   ]
  },
  {
   "cell_type": "code",
   "execution_count": 17,
   "id": "wrapped-bridges",
   "metadata": {},
   "outputs": [
    {
     "data": {
      "text/plain": [
       "9.0"
      ]
     },
     "execution_count": 17,
     "metadata": {},
     "output_type": "execute_result"
    }
   ],
   "source": [
    "# b에 3을 곱하고 b에 재할당한 다음 b를 출력합니다.\n",
    "b *= 3\n",
    "b"
   ]
  },
  {
   "cell_type": "code",
   "execution_count": 18,
   "id": "brief-oliver",
   "metadata": {},
   "outputs": [
    {
     "data": {
      "text/plain": [
       "2.25"
      ]
     },
     "execution_count": 18,
     "metadata": {},
     "output_type": "execute_result"
    }
   ],
   "source": [
    "# b를 4로 나누고 b에 재할당한 다음 b를 출력합니다.\n",
    "b /= 4\n",
    "b"
   ]
  },
  {
   "cell_type": "markdown",
   "id": "athletic-hamilton",
   "metadata": {},
   "source": [
    "### 비교 연산자"
   ]
  },
  {
   "cell_type": "code",
   "execution_count": 19,
   "id": "competent-revolution",
   "metadata": {},
   "outputs": [
    {
     "data": {
      "text/plain": [
       "False"
      ]
     },
     "execution_count": 19,
     "metadata": {},
     "output_type": "execute_result"
    }
   ],
   "source": [
    "# a가 4보다 크면 True, 작거나 같으면 False를 반환합니다.\n",
    "a > 4"
   ]
  },
  {
   "cell_type": "code",
   "execution_count": 20,
   "id": "based-kenya",
   "metadata": {},
   "outputs": [
    {
     "data": {
      "text/plain": [
       "True"
      ]
     },
     "execution_count": 20,
     "metadata": {},
     "output_type": "execute_result"
    }
   ],
   "source": [
    "# a가 4보다 크거나 같으면 True, 작으면 False를 반환합니다.\n",
    "a >= 4"
   ]
  },
  {
   "cell_type": "code",
   "execution_count": 21,
   "id": "valuable-charles",
   "metadata": {},
   "outputs": [
    {
     "data": {
      "text/plain": [
       "False"
      ]
     },
     "execution_count": 21,
     "metadata": {},
     "output_type": "execute_result"
    }
   ],
   "source": [
    "# a가 4보다 작으면 True, 크거나 같으면 False를 반환합니다.\n",
    "a < 4"
   ]
  },
  {
   "cell_type": "code",
   "execution_count": 22,
   "id": "standing-morning",
   "metadata": {},
   "outputs": [
    {
     "data": {
      "text/plain": [
       "True"
      ]
     },
     "execution_count": 22,
     "metadata": {},
     "output_type": "execute_result"
    }
   ],
   "source": [
    "# a가 4보다 작거나 같으면 True, 크면 False를 반환합니다.\n",
    "a <= 4"
   ]
  },
  {
   "cell_type": "code",
   "execution_count": 23,
   "id": "fossil-capture",
   "metadata": {},
   "outputs": [
    {
     "data": {
      "text/plain": [
       "True"
      ]
     },
     "execution_count": 23,
     "metadata": {},
     "output_type": "execute_result"
    }
   ],
   "source": [
    "# a가 4이면 True, 4가 아니면 False를 반환합니다.\n",
    "a == 4"
   ]
  },
  {
   "cell_type": "code",
   "execution_count": 24,
   "id": "seasonal-chester",
   "metadata": {},
   "outputs": [
    {
     "data": {
      "text/plain": [
       "False"
      ]
     },
     "execution_count": 24,
     "metadata": {},
     "output_type": "execute_result"
    }
   ],
   "source": [
    "# a가 4가 아니면 True, 4이면 False를 반환합니다.\n",
    "a != 4"
   ]
  },
  {
   "cell_type": "markdown",
   "id": "reverse-therapist",
   "metadata": {},
   "source": [
    "### 논리 연산자"
   ]
  },
  {
   "cell_type": "code",
   "execution_count": 25,
   "id": "85591f12",
   "metadata": {},
   "outputs": [
    {
     "name": "stdout",
     "output_type": "stream",
     "text": [
      "True\n",
      "False\n"
     ]
    }
   ],
   "source": [
    "# 비교 연산을 실행하여 True 또는 False를 반환합니다.\n",
    "print(a > 3)\n",
    "print(b > 3)"
   ]
  },
  {
   "cell_type": "code",
   "execution_count": 26,
   "id": "suitable-nirvana",
   "metadata": {},
   "outputs": [
    {
     "data": {
      "text/plain": [
       "False"
      ]
     },
     "execution_count": 26,
     "metadata": {},
     "output_type": "execute_result"
    }
   ],
   "source": [
    "# [논리곱] 두 진리값이 모두 True면 True, 아니면 False를 반환합니다.\n",
    "a > 3 and b > 3"
   ]
  },
  {
   "cell_type": "code",
   "execution_count": 27,
   "id": "statewide-distance",
   "metadata": {},
   "outputs": [
    {
     "data": {
      "text/plain": [
       "True"
      ]
     },
     "execution_count": 27,
     "metadata": {},
     "output_type": "execute_result"
    }
   ],
   "source": [
    "# [논리합] 두 진리값 중 하나 이상 True면 True, 아니면 False를 반환합니다.\n",
    "a > 3 or b > 3"
   ]
  },
  {
   "cell_type": "code",
   "execution_count": 28,
   "id": "macro-movement",
   "metadata": {},
   "outputs": [
    {
     "data": {
      "text/plain": [
       "True"
      ]
     },
     "execution_count": 28,
     "metadata": {},
     "output_type": "execute_result"
    }
   ],
   "source": [
    "# [논리부정] not 뒤에 오는 진리값을 반전합니다.\n",
    "not (a > 3 and b > 3)"
   ]
  },
  {
   "cell_type": "code",
   "execution_count": 29,
   "id": "1086073d",
   "metadata": {},
   "outputs": [
    {
     "data": {
      "text/plain": [
       "False"
      ]
     },
     "execution_count": 29,
     "metadata": {},
     "output_type": "execute_result"
    }
   ],
   "source": [
    "# [논리부정] not 뒤에 오는 진리값을 반전합니다.\n",
    "not (a > 3 or b > 3)"
   ]
  },
  {
   "cell_type": "markdown",
   "id": "unique-verification",
   "metadata": {},
   "source": [
    "### 문자열"
   ]
  },
  {
   "cell_type": "code",
   "execution_count": 30,
   "id": "configured-repository",
   "metadata": {},
   "outputs": [],
   "source": [
    "# str1에 문자열을 할당합니다. 홑따옴표를 사용했습니다.\n",
    "str1 = 'Life is short, '"
   ]
  },
  {
   "cell_type": "code",
   "execution_count": 31,
   "id": "indonesian-marking",
   "metadata": {},
   "outputs": [
    {
     "data": {
      "text/plain": [
       "'Life is short, '"
      ]
     },
     "execution_count": 31,
     "metadata": {},
     "output_type": "execute_result"
    }
   ],
   "source": [
    "# str1을 출력합니다.\n",
    "str1"
   ]
  },
  {
   "cell_type": "code",
   "execution_count": 32,
   "id": "sublime-trace",
   "metadata": {},
   "outputs": [
    {
     "name": "stdout",
     "output_type": "stream",
     "text": [
      "Life is short, \n"
     ]
    }
   ],
   "source": [
    "# print() 함수를 실행하면 따옴표 없이 글자만 출력합니다.\n",
    "print(str1)"
   ]
  },
  {
   "cell_type": "code",
   "execution_count": 33,
   "id": "dangerous-refrigerator",
   "metadata": {},
   "outputs": [
    {
     "data": {
      "text/plain": [
       "str"
      ]
     },
     "execution_count": 33,
     "metadata": {},
     "output_type": "execute_result"
    }
   ],
   "source": [
    "# str1의 클래스를 확인합니다. str1의 클래스는 str입니다.\n",
    "type(str1)"
   ]
  },
  {
   "cell_type": "code",
   "execution_count": 34,
   "id": "fewer-aircraft",
   "metadata": {},
   "outputs": [
    {
     "data": {
      "text/plain": [
       "15"
      ]
     },
     "execution_count": 34,
     "metadata": {},
     "output_type": "execute_result"
    }
   ],
   "source": [
    "# str1의 글자수를 반환합니다.\n",
    "len(str1)"
   ]
  },
  {
   "cell_type": "code",
   "execution_count": 35,
   "id": "reported-greece",
   "metadata": {},
   "outputs": [],
   "source": [
    "# str2에 문자열을 할당합니다. 겹따옴표를 사용했습니다.\n",
    "str2 = \"you need Python!\""
   ]
  },
  {
   "cell_type": "code",
   "execution_count": 36,
   "id": "constitutional-trunk",
   "metadata": {},
   "outputs": [
    {
     "data": {
      "text/plain": [
       "'you need Python!'"
      ]
     },
     "execution_count": 36,
     "metadata": {},
     "output_type": "execute_result"
    }
   ],
   "source": [
    "# str2를 출력합니다.\n",
    "str2"
   ]
  },
  {
   "cell_type": "markdown",
   "id": "continuous-inspiration",
   "metadata": {},
   "source": [
    "### [참고] 다양한 문자열 생성법"
   ]
  },
  {
   "cell_type": "raw",
   "id": "4bdea9c1",
   "metadata": {},
   "source": [
    "# 홑따옴표로 감싼 문자열 안에 홑따옴표를 추가할 수 없습니다.\n",
    "'Monty Python's Flying Circus'"
   ]
  },
  {
   "cell_type": "code",
   "execution_count": 37,
   "id": "imposed-mechanism",
   "metadata": {},
   "outputs": [
    {
     "data": {
      "text/plain": [
       "\"Monty Python's Flying Circus\""
      ]
     },
     "execution_count": 37,
     "metadata": {},
     "output_type": "execute_result"
    }
   ],
   "source": [
    "# 문자열 안에 홑따옴표를 추가하려면 문자열을 홑따옴표 대신에 겹따옴표로 감싸야 합니다.\n",
    "\"Monty Python's Flying Circus\""
   ]
  },
  {
   "cell_type": "code",
   "execution_count": 38,
   "id": "special-commitment",
   "metadata": {},
   "outputs": [
    {
     "data": {
      "text/plain": [
       "\"Monty Python's Flying Circus\""
      ]
     },
     "execution_count": 38,
     "metadata": {},
     "output_type": "execute_result"
    }
   ],
   "source": [
    "# 홑따옴표로 감싸려면 안쪽 따옴표 앞에 역슬래쉬(\\) 기호를 추가해야 합니다.\n",
    "'Monty Python\\'s Flying Circus'"
   ]
  },
  {
   "cell_type": "code",
   "execution_count": 39,
   "id": "requested-click",
   "metadata": {},
   "outputs": [
    {
     "data": {
      "text/plain": [
       "'I\\'m saying \"You need Python!\" now.'"
      ]
     },
     "execution_count": 39,
     "metadata": {},
     "output_type": "execute_result"
    }
   ],
   "source": [
    "# 두 가지 경우를 모두 포함하는 예제입니다.\n",
    "'I\\'m saying \"You need Python!\" now.'"
   ]
  },
  {
   "cell_type": "code",
   "execution_count": 40,
   "id": "classical-disney",
   "metadata": {},
   "outputs": [
    {
     "data": {
      "text/plain": [
       "'I\\'m saying \"You need Python!\" now.'"
      ]
     },
     "execution_count": 40,
     "metadata": {},
     "output_type": "execute_result"
    }
   ],
   "source": [
    "# 문자열을 겹따옴표로 감쌌다면 문자열 안 겹따옴표 앞에 \\ 기호를 추가합니다.\n",
    "\"I'm saying \\\"You need Python!\\\" now.\""
   ]
  },
  {
   "cell_type": "code",
   "execution_count": 41,
   "id": "crazy-criterion",
   "metadata": {},
   "outputs": [
    {
     "data": {
      "text/plain": [
       "'hello!\\nGood to see you.'"
      ]
     },
     "execution_count": 41,
     "metadata": {},
     "output_type": "execute_result"
    }
   ],
   "source": [
    "# 여러 줄의 문자열을 생성하려면 홑따옴표나 겹따옴표를 세 번 반복합니다.\n",
    "'''hello!\n",
    "Good to see you.'''"
   ]
  },
  {
   "cell_type": "markdown",
   "id": "authentic-champion",
   "metadata": {},
   "source": [
    "### 문자열 연산자"
   ]
  },
  {
   "cell_type": "code",
   "execution_count": 42,
   "id": "split-andorra",
   "metadata": {},
   "outputs": [
    {
     "data": {
      "text/plain": [
       "'Life is short, you need Python!'"
      ]
     },
     "execution_count": 42,
     "metadata": {},
     "output_type": "execute_result"
    }
   ],
   "source": [
    "# + 연산자는 두 문자열을 결합합니다. [주의] 수와 문자열을 섞으면 에러가 발생합니다.\n",
    "str1 + str2"
   ]
  },
  {
   "cell_type": "code",
   "execution_count": 43,
   "id": "international-bolivia",
   "metadata": {},
   "outputs": [
    {
     "data": {
      "text/plain": [
       "'you need Python!you need Python!you need Python!'"
      ]
     },
     "execution_count": 43,
     "metadata": {},
     "output_type": "execute_result"
    }
   ],
   "source": [
    "# * 연산자는 왼쪽 문자열을 오른쪽에 지정한 횟수만큼 반복합니다.\n",
    "str2 * 3"
   ]
  },
  {
   "cell_type": "code",
   "execution_count": 44,
   "id": "offshore-europe",
   "metadata": {},
   "outputs": [
    {
     "data": {
      "text/plain": [
       "False"
      ]
     },
     "execution_count": 44,
     "metadata": {},
     "output_type": "execute_result"
    }
   ],
   "source": [
    "# str1에 'a'가 있으면 True, 없으면 False를 반환합니다.\n",
    "'a' in str1"
   ]
  },
  {
   "cell_type": "code",
   "execution_count": 45,
   "id": "straight-region",
   "metadata": {},
   "outputs": [
    {
     "data": {
      "text/plain": [
       "True"
      ]
     },
     "execution_count": 45,
     "metadata": {},
     "output_type": "execute_result"
    }
   ],
   "source": [
    "# str1에 'a'가 없으면 True, 있으면 False를 반환합니다.\n",
    "'a' not in str1"
   ]
  },
  {
   "cell_type": "markdown",
   "id": "smart-evolution",
   "metadata": {},
   "source": [
    "### 문자열의 인덱싱"
   ]
  },
  {
   "cell_type": "code",
   "execution_count": 46,
   "id": "worthy-adelaide",
   "metadata": {},
   "outputs": [],
   "source": [
    "# sen에 문자열을 할당합니다.\n",
    "sen = '아버지가 안방에 들어가신다.'"
   ]
  },
  {
   "cell_type": "code",
   "execution_count": 47,
   "id": "willing-breakdown",
   "metadata": {},
   "outputs": [
    {
     "data": {
      "text/plain": [
       "'아'"
      ]
     },
     "execution_count": 47,
     "metadata": {},
     "output_type": "execute_result"
    }
   ],
   "source": [
    "# sen의 0번 인덱스(첫 번째) 문자를 선택합니다.\n",
    "sen[0]"
   ]
  },
  {
   "cell_type": "code",
   "execution_count": 48,
   "id": "formed-church",
   "metadata": {},
   "outputs": [
    {
     "data": {
      "text/plain": [
       "'버'"
      ]
     },
     "execution_count": 48,
     "metadata": {},
     "output_type": "execute_result"
    }
   ],
   "source": [
    "# sen의 1번 인덱스(두 번째) 문자를 선택합니다.\n",
    "sen[1]"
   ]
  },
  {
   "cell_type": "code",
   "execution_count": 49,
   "id": "8aac4d98",
   "metadata": {},
   "outputs": [
    {
     "data": {
      "text/plain": [
       "'.'"
      ]
     },
     "execution_count": 49,
     "metadata": {},
     "output_type": "execute_result"
    }
   ],
   "source": [
    "# sen의 -1번 인덱스(마지막) 문자를 선택합니다.\n",
    "sen[-1]"
   ]
  },
  {
   "cell_type": "markdown",
   "id": "impaired-simulation",
   "metadata": {},
   "source": [
    "### 문자열의 슬라이싱"
   ]
  },
  {
   "cell_type": "code",
   "execution_count": 50,
   "id": "renewable-blair",
   "metadata": {},
   "outputs": [
    {
     "data": {
      "text/plain": [
       "'아버지'"
      ]
     },
     "execution_count": 50,
     "metadata": {},
     "output_type": "execute_result"
    }
   ],
   "source": [
    "# sen의 0~2번 인덱스 문자를 결합합니다.\n",
    "sen[0] + sen[1] + sen[2]"
   ]
  },
  {
   "cell_type": "code",
   "execution_count": 51,
   "id": "upset-hebrew",
   "metadata": {},
   "outputs": [
    {
     "data": {
      "text/plain": [
       "'아버지'"
      ]
     },
     "execution_count": 51,
     "metadata": {},
     "output_type": "execute_result"
    }
   ],
   "source": [
    "# sen의 0번 인덱스(첫 번째)부터 3-1번 인덱스(세 번째)까지 연속한 문자를 선택합니다.\n",
    "sen[0:3]"
   ]
  },
  {
   "cell_type": "code",
   "execution_count": 52,
   "id": "behavioral-reduction",
   "metadata": {},
   "outputs": [
    {
     "data": {
      "text/plain": [
       "'아버지'"
      ]
     },
     "execution_count": 52,
     "metadata": {},
     "output_type": "execute_result"
    }
   ],
   "source": [
    "# 콜론 앞에 정수를 생략하면 첫 번째 문자부터 선택합니다.\n",
    "sen[:3]"
   ]
  },
  {
   "cell_type": "code",
   "execution_count": 53,
   "id": "weird-cooling",
   "metadata": {},
   "outputs": [
    {
     "data": {
      "text/plain": [
       "'들어가신다.'"
      ]
     },
     "execution_count": 53,
     "metadata": {},
     "output_type": "execute_result"
    }
   ],
   "source": [
    "# 콜론 뒤에 정수를 생략하면 마지막 문자까지 선택합니다.\n",
    "sen[9:]"
   ]
  },
  {
   "cell_type": "code",
   "execution_count": 54,
   "id": "complete-samuel",
   "metadata": {},
   "outputs": [
    {
     "data": {
      "text/plain": [
       "'들어가신다'"
      ]
     },
     "execution_count": 54,
     "metadata": {},
     "output_type": "execute_result"
    }
   ],
   "source": [
    "# sen의 9번 인덱스(열 번째)부터 -2번 인덱스(끝에서 두 번째)까지 연속한 문자를 선택합니다.\n",
    "sen[9:-1]"
   ]
  },
  {
   "cell_type": "code",
   "execution_count": 55,
   "id": "acquired-wrestling",
   "metadata": {},
   "outputs": [
    {
     "data": {
      "text/plain": [
       "'아버지가 안방에 들어가신다.'"
      ]
     },
     "execution_count": 55,
     "metadata": {},
     "output_type": "execute_result"
    }
   ],
   "source": [
    "# 빈 콜론을 입력하면 처음부터 끝까지 연속한 문자를 선택합니다.\n",
    "# [주의] 대괄호 안에 아무것도 입력하지 않으면 에러가 발생합니다.\n",
    "sen[:]"
   ]
  },
  {
   "cell_type": "markdown",
   "id": "beginning-resistance",
   "metadata": {},
   "source": [
    "### 문자열 공백 제거 및 변경"
   ]
  },
  {
   "cell_type": "code",
   "execution_count": 56,
   "id": "likely-generator",
   "metadata": {},
   "outputs": [],
   "source": [
    "# 문자열 양쪽에 공백을 추가합니다.\n",
    "sen = '\\n 나의 살던 고향은 꽃피는 산골 \\t'"
   ]
  },
  {
   "cell_type": "code",
   "execution_count": 57,
   "id": "defensive-convergence",
   "metadata": {},
   "outputs": [
    {
     "data": {
      "text/plain": [
       "'\\n 나의 살던 고향은 꽃피는 산골 \\t'"
      ]
     },
     "execution_count": 57,
     "metadata": {},
     "output_type": "execute_result"
    }
   ],
   "source": [
    "# sen을 출력하면 문자열 양쪽에 공백이 보입니다.\n",
    "sen"
   ]
  },
  {
   "cell_type": "code",
   "execution_count": 58,
   "id": "dependent-whale",
   "metadata": {
    "scrolled": true
   },
   "outputs": [
    {
     "data": {
      "text/plain": [
       "['__add__',\n",
       " '__class__',\n",
       " '__contains__',\n",
       " '__delattr__',\n",
       " '__dir__',\n",
       " '__doc__',\n",
       " '__eq__',\n",
       " '__format__',\n",
       " '__ge__',\n",
       " '__getattribute__',\n",
       " '__getitem__',\n",
       " '__getnewargs__',\n",
       " '__gt__',\n",
       " '__hash__',\n",
       " '__init__',\n",
       " '__init_subclass__',\n",
       " '__iter__',\n",
       " '__le__',\n",
       " '__len__',\n",
       " '__lt__',\n",
       " '__mod__',\n",
       " '__mul__',\n",
       " '__ne__',\n",
       " '__new__',\n",
       " '__reduce__',\n",
       " '__reduce_ex__',\n",
       " '__repr__',\n",
       " '__rmod__',\n",
       " '__rmul__',\n",
       " '__setattr__',\n",
       " '__sizeof__',\n",
       " '__str__',\n",
       " '__subclasshook__',\n",
       " 'capitalize',\n",
       " 'casefold',\n",
       " 'center',\n",
       " 'count',\n",
       " 'encode',\n",
       " 'endswith',\n",
       " 'expandtabs',\n",
       " 'find',\n",
       " 'format',\n",
       " 'format_map',\n",
       " 'index',\n",
       " 'isalnum',\n",
       " 'isalpha',\n",
       " 'isascii',\n",
       " 'isdecimal',\n",
       " 'isdigit',\n",
       " 'isidentifier',\n",
       " 'islower',\n",
       " 'isnumeric',\n",
       " 'isprintable',\n",
       " 'isspace',\n",
       " 'istitle',\n",
       " 'isupper',\n",
       " 'join',\n",
       " 'ljust',\n",
       " 'lower',\n",
       " 'lstrip',\n",
       " 'maketrans',\n",
       " 'partition',\n",
       " 'removeprefix',\n",
       " 'removesuffix',\n",
       " 'replace',\n",
       " 'rfind',\n",
       " 'rindex',\n",
       " 'rjust',\n",
       " 'rpartition',\n",
       " 'rsplit',\n",
       " 'rstrip',\n",
       " 'split',\n",
       " 'splitlines',\n",
       " 'startswith',\n",
       " 'strip',\n",
       " 'swapcase',\n",
       " 'title',\n",
       " 'translate',\n",
       " 'upper',\n",
       " 'zfill']"
      ]
     },
     "execution_count": 58,
     "metadata": {},
     "output_type": "execute_result"
    }
   ],
   "source": [
    "# sen의 속성과 방식 목록을 출력합니다.\n",
    "dir(sen)"
   ]
  },
  {
   "cell_type": "code",
   "execution_count": 59,
   "id": "convertible-muslim",
   "metadata": {},
   "outputs": [],
   "source": [
    "# sen에서 양쪽 공백을 제거하고 sen에 재할당합니다.\n",
    "sen = sen.strip()"
   ]
  },
  {
   "cell_type": "code",
   "execution_count": 60,
   "id": "weekly-train",
   "metadata": {},
   "outputs": [
    {
     "data": {
      "text/plain": [
       "'나의 살던 고향은 꽃피는 산골'"
      ]
     },
     "execution_count": 60,
     "metadata": {},
     "output_type": "execute_result"
    }
   ],
   "source": [
    "# sen을 출력하면 문자열 양쪽에 있던 공백이 없습니다.\n",
    "sen"
   ]
  },
  {
   "cell_type": "code",
   "execution_count": 61,
   "id": "athletic-snapshot",
   "metadata": {},
   "outputs": [
    {
     "data": {
      "text/plain": [
       "'나의 살던 고향은 꽃피는 공원'"
      ]
     },
     "execution_count": 61,
     "metadata": {},
     "output_type": "execute_result"
    }
   ],
   "source": [
    "# sen에서 '산골'을 '공원'으로 바꾼 결과를 반환합니다.\n",
    "sen.replace('산골', '공원')"
   ]
  },
  {
   "cell_type": "code",
   "execution_count": 62,
   "id": "worst-drawing",
   "metadata": {},
   "outputs": [
    {
     "data": {
      "text/plain": [
       "'나의 살던 고향은 꽃피는 산골'"
      ]
     },
     "execution_count": 62,
     "metadata": {},
     "output_type": "execute_result"
    }
   ],
   "source": [
    "# 위 코드를 실행하고 sen에 재할당하지 않았으므로 sen에 '산골'이 그대로 남아있습니다.\n",
    "sen"
   ]
  },
  {
   "cell_type": "markdown",
   "id": "computational-frank",
   "metadata": {},
   "source": [
    "### 문자열 인덱스 확인"
   ]
  },
  {
   "cell_type": "code",
   "execution_count": 63,
   "id": "compact-forward",
   "metadata": {},
   "outputs": [
    {
     "data": {
      "text/plain": [
       "4"
      ]
     },
     "execution_count": 63,
     "metadata": {},
     "output_type": "execute_result"
    }
   ],
   "source": [
    "# sen에 있는 공백 개수를 반환합니다.\n",
    "sen.count(' ')"
   ]
  },
  {
   "cell_type": "code",
   "execution_count": 64,
   "id": "judicial-minneapolis",
   "metadata": {},
   "outputs": [
    {
     "data": {
      "text/plain": [
       "2"
      ]
     },
     "execution_count": 64,
     "metadata": {},
     "output_type": "execute_result"
    }
   ],
   "source": [
    "# sen에서 공백이 처음 나오는 인덱스를 반환합니다.\n",
    "# [참고] index() 함수에 탐색 범위(시작과 끝 인덱스)를 설정할 수 있습니다.\n",
    "sen.index(' ')"
   ]
  },
  {
   "cell_type": "code",
   "execution_count": 65,
   "id": "refined-elements",
   "metadata": {},
   "outputs": [
    {
     "data": {
      "text/plain": [
       "5"
      ]
     },
     "execution_count": 65,
     "metadata": {},
     "output_type": "execute_result"
    }
   ],
   "source": [
    "# 탐색 범위(3번 인덱스부터 마지막)를 지정하고 공백을 탐색합니다.\n",
    "sen.index(' ', 3, len(sen))"
   ]
  },
  {
   "cell_type": "code",
   "execution_count": 66,
   "id": "comic-sellers",
   "metadata": {},
   "outputs": [
    {
     "data": {
      "text/plain": [
       "14"
      ]
     },
     "execution_count": 66,
     "metadata": {},
     "output_type": "execute_result"
    }
   ],
   "source": [
    "# 두 글자 이상인 문자열을 지정하면 첫 번째 글자의 인덱스를 반환합니다.\n",
    "sen.index('산골')"
   ]
  },
  {
   "cell_type": "raw",
   "id": "7eb0dc99",
   "metadata": {},
   "source": [
    "# sen에 없는 문자열을 지정하면 에러가 발생합니다.\n",
    "sen.index('공원')"
   ]
  },
  {
   "cell_type": "code",
   "execution_count": 67,
   "id": "cross-madrid",
   "metadata": {},
   "outputs": [
    {
     "data": {
      "text/plain": [
       "-1"
      ]
     },
     "execution_count": 67,
     "metadata": {},
     "output_type": "execute_result"
    }
   ],
   "source": [
    "# find() 함수는 index() 함수와 같은 기능을 수행하지만 에러 대신 -1을 반환합니다.\n",
    "sen.find('공원')"
   ]
  },
  {
   "cell_type": "markdown",
   "id": "static-mineral",
   "metadata": {},
   "source": [
    "### 문자열 분리 및 결합"
   ]
  },
  {
   "cell_type": "code",
   "execution_count": 68,
   "id": "offensive-spoke",
   "metadata": {},
   "outputs": [
    {
     "data": {
      "text/plain": [
       "['나의 살던 고향', ' 꽃피는 산골']"
      ]
     },
     "execution_count": 68,
     "metadata": {},
     "output_type": "execute_result"
    }
   ],
   "source": [
    "# sen을 구분자 '은'으로 분리합니다. [참고] 문자열을 분리하면 리스트로 반환합니다.\n",
    "sen.split('은')"
   ]
  },
  {
   "cell_type": "code",
   "execution_count": 69,
   "id": "swedish-civilization",
   "metadata": {},
   "outputs": [],
   "source": [
    "# sen을 공백으로 분리하고 strs에 할당합니다.\n",
    "strs = sen.split()"
   ]
  },
  {
   "cell_type": "code",
   "execution_count": 70,
   "id": "twelve-mediterranean",
   "metadata": {},
   "outputs": [
    {
     "data": {
      "text/plain": [
       "['나의', '살던', '고향은', '꽃피는', '산골']"
      ]
     },
     "execution_count": 70,
     "metadata": {},
     "output_type": "execute_result"
    }
   ],
   "source": [
    "# strs를 출력합니다. 대괄호 안에 여러 문자열이 있습니다.\n",
    "strs"
   ]
  },
  {
   "cell_type": "code",
   "execution_count": 71,
   "id": "centered-negotiation",
   "metadata": {},
   "outputs": [
    {
     "data": {
      "text/plain": [
       "list"
      ]
     },
     "execution_count": 71,
     "metadata": {},
     "output_type": "execute_result"
    }
   ],
   "source": [
    "# strs의 클래스를 확인합니다. strs의 클래스는 list입니다.\n",
    "type(strs)"
   ]
  },
  {
   "cell_type": "code",
   "execution_count": 72,
   "id": "structured-ordinance",
   "metadata": {},
   "outputs": [
    {
     "data": {
      "text/plain": [
       "'나의 살던 고향은 꽃피는 산골'"
      ]
     },
     "execution_count": 72,
     "metadata": {},
     "output_type": "execute_result"
    }
   ],
   "source": [
    "# strs의 원소 사이에 공백을 추가하여 문자열로 결합합니다.\n",
    "' '.join(strs)"
   ]
  },
  {
   "cell_type": "code",
   "execution_count": 73,
   "id": "finnish-identity",
   "metadata": {},
   "outputs": [
    {
     "data": {
      "text/plain": [
       "'나의-살던-고향은-꽃피는-산골'"
      ]
     },
     "execution_count": 73,
     "metadata": {},
     "output_type": "execute_result"
    }
   ],
   "source": [
    "# 구분자에 따라 실행 결과가 달라집니다.\n",
    "'-'.join(strs)"
   ]
  },
  {
   "cell_type": "markdown",
   "id": "earlier-circular",
   "metadata": {},
   "source": [
    "### 자료형 변환"
   ]
  },
  {
   "cell_type": "code",
   "execution_count": 74,
   "id": "systematic-arrival",
   "metadata": {},
   "outputs": [
    {
     "data": {
      "text/plain": [
       "'1.2'"
      ]
     },
     "execution_count": 74,
     "metadata": {},
     "output_type": "execute_result"
    }
   ],
   "source": [
    "# a에 문자열 '1.2'를 할당합니다.\n",
    "a = '1.2'\n",
    "a"
   ]
  },
  {
   "cell_type": "code",
   "execution_count": 75,
   "id": "beneficial-mailing",
   "metadata": {},
   "outputs": [
    {
     "data": {
      "text/plain": [
       "str"
      ]
     },
     "execution_count": 75,
     "metadata": {},
     "output_type": "execute_result"
    }
   ],
   "source": [
    "# a의 클래스는 str입니다.\n",
    "type(a)"
   ]
  },
  {
   "cell_type": "code",
   "execution_count": 76,
   "id": "generous-outside",
   "metadata": {},
   "outputs": [
    {
     "data": {
      "text/plain": [
       "1.2"
      ]
     },
     "execution_count": 76,
     "metadata": {},
     "output_type": "execute_result"
    }
   ],
   "source": [
    "# a를 실수로 변환하고 b에 할당합니다.\n",
    "b = float(a)\n",
    "b"
   ]
  },
  {
   "cell_type": "code",
   "execution_count": 77,
   "id": "circular-brand",
   "metadata": {},
   "outputs": [
    {
     "data": {
      "text/plain": [
       "float"
      ]
     },
     "execution_count": 77,
     "metadata": {},
     "output_type": "execute_result"
    }
   ],
   "source": [
    "# b의 클래스는 float입니다.\n",
    "type(b)"
   ]
  },
  {
   "cell_type": "raw",
   "id": "bba8d5ff",
   "metadata": {},
   "source": [
    "# 소수점 있는 문자열을 정수로 변환할 수 없습니다.\n",
    "c = int(a)"
   ]
  },
  {
   "cell_type": "code",
   "execution_count": 78,
   "id": "spread-tenant",
   "metadata": {},
   "outputs": [
    {
     "data": {
      "text/plain": [
       "1"
      ]
     },
     "execution_count": 78,
     "metadata": {},
     "output_type": "execute_result"
    }
   ],
   "source": [
    "# b를 정수로 변환하고 c에 할당합니다.\n",
    "c = int(b)\n",
    "c"
   ]
  },
  {
   "cell_type": "code",
   "execution_count": 79,
   "id": "nominated-secretary",
   "metadata": {},
   "outputs": [
    {
     "data": {
      "text/plain": [
       "int"
      ]
     },
     "execution_count": 79,
     "metadata": {},
     "output_type": "execute_result"
    }
   ],
   "source": [
    "# c의 클래스는 int입니다.\n",
    "type(c)"
   ]
  },
  {
   "cell_type": "markdown",
   "id": "junior-peoples",
   "metadata": {},
   "source": [
    "### 문자열 포맷팅: 포맷 코드"
   ]
  },
  {
   "cell_type": "code",
   "execution_count": 80,
   "id": "overall-overview",
   "metadata": {},
   "outputs": [],
   "source": [
    "# name과 rate에 적당한 값을 할당합니다.\n",
    "name = '홍길동'\n",
    "rate = 3.2"
   ]
  },
  {
   "cell_type": "code",
   "execution_count": 81,
   "id": "4b42ea66",
   "metadata": {},
   "outputs": [
    {
     "data": {
      "text/plain": [
       "'홍길동 고객님의 이자율은 3.2 %입니다.'"
      ]
     },
     "execution_count": 81,
     "metadata": {},
     "output_type": "execute_result"
    }
   ],
   "source": [
    "# 여러 문자열을 결합합니다.\n",
    "name + ' 고객님의 이자율은 ' + str(rate) + ' %입니다.'"
   ]
  },
  {
   "cell_type": "code",
   "execution_count": 82,
   "id": "loving-helen",
   "metadata": {},
   "outputs": [
    {
     "data": {
      "text/plain": [
       "'홍길동 고객님의 이자율은 3.200000 %입니다.'"
      ]
     },
     "execution_count": 82,
     "metadata": {},
     "output_type": "execute_result"
    }
   ],
   "source": [
    "# name과 rate에 할당한 값을 포맷 코드('%s'와 '%f')에 대입합니다.\n",
    "'%s 고객님의 이자율은 %f %%입니다.' %(name, rate)"
   ]
  },
  {
   "cell_type": "code",
   "execution_count": 83,
   "id": "compound-associate",
   "metadata": {},
   "outputs": [
    {
     "data": {
      "text/plain": [
       "'홍길동 고객님의 이자율은 3.20 %입니다.'"
      ]
     },
     "execution_count": 83,
     "metadata": {},
     "output_type": "execute_result"
    }
   ],
   "source": [
    "# 실수의 소수점 자리수를 설정할 수 있습니다.\n",
    "'%s 고객님의 이자율은 %.2f %%입니다.' %(name, rate)"
   ]
  },
  {
   "cell_type": "markdown",
   "id": "novel-albuquerque",
   "metadata": {},
   "source": [
    "### 문자열 포맷팅: format(), f-문자열"
   ]
  },
  {
   "cell_type": "code",
   "execution_count": 84,
   "id": "tender-ghana",
   "metadata": {},
   "outputs": [
    {
     "data": {
      "text/plain": [
       "'홍길동 고객님의 이자율은 3.2 %입니다.'"
      ]
     },
     "execution_count": 84,
     "metadata": {},
     "output_type": "execute_result"
    }
   ],
   "source": [
    "# 중괄호 안에 인덱스 또는 변수명을 지정합니다.\n",
    "'{0} 고객님의 이자율은 {1} %입니다.'.format(name, rate)"
   ]
  },
  {
   "cell_type": "code",
   "execution_count": 85,
   "id": "sunrise-matter",
   "metadata": {},
   "outputs": [
    {
     "data": {
      "text/plain": [
       "'홍길동 고객님의 이자율은 3.2 %입니다.'"
      ]
     },
     "execution_count": 85,
     "metadata": {},
     "output_type": "execute_result"
    }
   ],
   "source": [
    "# 인덱스를 생략하면 변수값을 순서대로 대입합니다.\n",
    "'{} 고객님의 이자율은 {} %입니다.'.format(name, rate)"
   ]
  },
  {
   "cell_type": "code",
   "execution_count": 86,
   "id": "renewable-charge",
   "metadata": {},
   "outputs": [
    {
     "data": {
      "text/plain": [
       "'홍길동 고객님의 이자율은 3.20 %입니다.'"
      ]
     },
     "execution_count": 86,
     "metadata": {},
     "output_type": "execute_result"
    }
   ],
   "source": [
    "# 실수의 소수점 자리수를 지정하려면 % 대신 콜론을 추가합니다.\n",
    "'{0} 고객님의 이자율은 {1:.2f} %입니다.'.format(name, rate)"
   ]
  },
  {
   "cell_type": "code",
   "execution_count": 87,
   "id": "sound-rings",
   "metadata": {},
   "outputs": [
    {
     "data": {
      "text/plain": [
       "'홍길동 고객님의 이자율은 3.20 %입니다.'"
      ]
     },
     "execution_count": 87,
     "metadata": {},
     "output_type": "execute_result"
    }
   ],
   "source": [
    "# Python 3.6에서 도입한 f-문자열을 사용하면 코드 가독성을 높일 수 있습니다.\n",
    "f'{name} 고객님의 이자율은 {rate:.2f} %입니다.'"
   ]
  },
  {
   "cell_type": "markdown",
   "id": "applicable-vulnerability",
   "metadata": {},
   "source": [
    "### 부울"
   ]
  },
  {
   "cell_type": "code",
   "execution_count": 88,
   "id": "ranging-alexandria",
   "metadata": {},
   "outputs": [],
   "source": [
    "# a에 True를 할당합니다. [주의] 따옴표로 감싸면 문자열이 됩니다.\n",
    "a = True"
   ]
  },
  {
   "cell_type": "code",
   "execution_count": 89,
   "id": "multiple-reggae",
   "metadata": {},
   "outputs": [
    {
     "data": {
      "text/plain": [
       "bool"
      ]
     },
     "execution_count": 89,
     "metadata": {},
     "output_type": "execute_result"
    }
   ],
   "source": [
    "# a의 클래스를 확인합니다. a의 클래스는 bool입니다.\n",
    "type(a)"
   ]
  },
  {
   "cell_type": "code",
   "execution_count": 90,
   "id": "b6514678",
   "metadata": {},
   "outputs": [
    {
     "data": {
      "text/plain": [
       "1"
      ]
     },
     "execution_count": 90,
     "metadata": {},
     "output_type": "execute_result"
    }
   ],
   "source": [
    "# True는 정수 1, False는 정수 0이므로 진리값을 더하면 True 개수를 반환합니다.\n",
    "True + False"
   ]
  },
  {
   "cell_type": "code",
   "execution_count": 91,
   "id": "macro-burden",
   "metadata": {},
   "outputs": [
    {
     "data": {
      "text/plain": [
       "True"
      ]
     },
     "execution_count": 91,
     "metadata": {},
     "output_type": "execute_result"
    }
   ],
   "source": [
    "# 어떤 객체에 값 또는 원소가 있으면 True, 없으면 False를 반환합니다.\n",
    "bool(1)"
   ]
  },
  {
   "cell_type": "markdown",
   "id": "alive-supply",
   "metadata": {},
   "source": [
    "## End of Document"
   ]
  }
 ],
 "metadata": {
  "kernelspec": {
   "display_name": "Python 3",
   "language": "python",
   "name": "python3"
  },
  "language_info": {
   "codemirror_mode": {
    "name": "ipython",
    "version": 3
   },
   "file_extension": ".py",
   "mimetype": "text/x-python",
   "name": "python",
   "nbconvert_exporter": "python",
   "pygments_lexer": "ipython3",
   "version": "3.10.4"
  },
  "toc": {
   "base_numbering": 1,
   "nav_menu": {},
   "number_sections": false,
   "sideBar": true,
   "skip_h1_title": false,
   "title_cell": "Table of Contents",
   "title_sidebar": "Contents",
   "toc_cell": false,
   "toc_position": {},
   "toc_section_display": true,
   "toc_window_display": false
  },
  "varInspector": {
   "cols": {
    "lenName": 16,
    "lenType": 16,
    "lenVar": 40
   },
   "kernels_config": {
    "python": {
     "delete_cmd_postfix": "",
     "delete_cmd_prefix": "del ",
     "library": "var_list.py",
     "varRefreshCmd": "print(var_dic_list())"
    },
    "r": {
     "delete_cmd_postfix": ") ",
     "delete_cmd_prefix": "rm(",
     "library": "var_list.r",
     "varRefreshCmd": "cat(var_dic_list()) "
    }
   },
   "position": {
    "height": "299.844px",
    "left": "687.859px",
    "right": "20px",
    "top": "90px",
    "width": "325px"
   },
   "types_to_exclude": [
    "module",
    "function",
    "builtin_function_or_method",
    "instance",
    "_Feature"
   ],
   "window_display": false
  }
 },
 "nbformat": 4,
 "nbformat_minor": 5
}
