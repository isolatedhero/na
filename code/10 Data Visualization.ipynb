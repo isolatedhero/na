{
 "cells": [
  {
   "cell_type": "markdown",
   "id": "4a126b4d",
   "metadata": {},
   "source": [
    "## 데이터 시각화"
   ]
  },
  {
   "cell_type": "markdown",
   "id": "c0d55f24",
   "metadata": {},
   "source": [
    "### 관련 라이브러리 호출"
   ]
  },
  {
   "cell_type": "code",
   "execution_count": null,
   "id": "36550452",
   "metadata": {
    "ExecuteTime": {
     "end_time": "2022-05-20T06:13:53.173390Z",
     "start_time": "2022-05-20T06:13:52.707459Z"
    }
   },
   "outputs": [],
   "source": [
    "# 관련 라이브러리를 호출합니다.\n",
    "import os\n",
    "import chardet\n",
    "import numpy as np\n",
    "import pandas as pd\n",
    "import joblib"
   ]
  },
  {
   "cell_type": "markdown",
   "id": "a65db77f",
   "metadata": {},
   "source": [
    "### 작업 경로 확인 및 변경"
   ]
  },
  {
   "cell_type": "code",
   "execution_count": null,
   "id": "cb66b080",
   "metadata": {
    "ExecuteTime": {
     "end_time": "2022-05-20T06:13:53.190426Z",
     "start_time": "2022-05-20T06:13:53.183345Z"
    }
   },
   "outputs": [],
   "source": [
    "# 현재 작업 경로를 확인합니다.\n",
    "os.getcwd()"
   ]
  },
  {
   "cell_type": "code",
   "execution_count": null,
   "id": "479ac0b2",
   "metadata": {
    "ExecuteTime": {
     "end_time": "2022-05-20T06:13:53.282937Z",
     "start_time": "2022-05-20T06:13:53.280808Z"
    }
   },
   "outputs": [],
   "source": [
    "# data 폴더로 작업 경로를 변경합니다.\n",
    "os.chdir(path = '../data')"
   ]
  },
  {
   "cell_type": "code",
   "execution_count": null,
   "id": "c5aea48f",
   "metadata": {
    "ExecuteTime": {
     "end_time": "2022-05-20T06:13:53.488084Z",
     "start_time": "2022-05-20T06:13:53.484993Z"
    }
   },
   "outputs": [],
   "source": [
    "# 현재 작업 경로에 있는 폴더명과 파일명을 출력합니다.\n",
    "os.listdir()"
   ]
  },
  {
   "cell_type": "markdown",
   "id": "2edc0eb7",
   "metadata": {},
   "source": [
    "### 실습 데이터셋 준비: csv 파일"
   ]
  },
  {
   "cell_type": "code",
   "execution_count": null,
   "id": "60ae513d",
   "metadata": {
    "ExecuteTime": {
     "end_time": "2022-05-20T06:13:54.070987Z",
     "start_time": "2022-05-20T06:13:54.068977Z"
    }
   },
   "outputs": [],
   "source": [
    "# csv 파일명을 재사용할 수 있도록 변수에 할당합니다.\n",
    "file = 'APT_List_Seoul_2021.csv'"
   ]
  },
  {
   "cell_type": "code",
   "execution_count": null,
   "id": "6740a3c6",
   "metadata": {
    "ExecuteTime": {
     "end_time": "2022-05-20T06:13:54.393117Z",
     "start_time": "2022-05-20T06:13:54.385636Z"
    }
   },
   "outputs": [],
   "source": [
    "# csv 파일을 바이너리 모드로 읽습니다.\n",
    "raw = open(file = file, mode = 'rb').read()"
   ]
  },
  {
   "cell_type": "code",
   "execution_count": null,
   "id": "d67814c8",
   "metadata": {
    "ExecuteTime": {
     "end_time": "2022-05-20T06:13:54.611855Z",
     "start_time": "2022-05-20T06:13:54.608582Z"
    }
   },
   "outputs": [],
   "source": [
    "# csv 파일의 문자 인코딩 방식을 확인합니다.\n",
    "chardet.detect(raw[:100])"
   ]
  },
  {
   "cell_type": "code",
   "execution_count": null,
   "id": "c8a71c58",
   "metadata": {
    "ExecuteTime": {
     "end_time": "2022-05-20T06:13:54.981830Z",
     "start_time": "2022-05-20T06:13:54.811004Z"
    }
   },
   "outputs": [],
   "source": [
    "# csv 파일을 읽고 데이터프레임을 생성합니다.\n",
    "apt = pd.read_csv(filepath_or_buffer = file, parse_dates = ['거래일'])"
   ]
  },
  {
   "cell_type": "markdown",
   "id": "6cd877d5",
   "metadata": {},
   "source": [
    "### 실습 데이터셋 준비: z 파일"
   ]
  },
  {
   "cell_type": "code",
   "execution_count": null,
   "id": "eff1ecf2",
   "metadata": {
    "ExecuteTime": {
     "end_time": "2022-05-20T06:13:55.320739Z",
     "start_time": "2022-05-20T06:13:55.260221Z"
    }
   },
   "outputs": [],
   "source": [
    "# z 파일을 호출하고 데이터프레임 apt에 할당합니다.\n",
    "apt = joblib.load(filename = 'APT_List_Seoul_2021.z')"
   ]
  },
  {
   "cell_type": "code",
   "execution_count": null,
   "id": "4e7db604",
   "metadata": {
    "ExecuteTime": {
     "end_time": "2022-05-20T06:13:55.556366Z",
     "start_time": "2022-05-20T06:13:55.508700Z"
    },
    "scrolled": true
   },
   "outputs": [],
   "source": [
    "# apt의 정보를 확인합니다.\n",
    "apt.info()"
   ]
  },
  {
   "cell_type": "code",
   "execution_count": null,
   "id": "27ac8cff",
   "metadata": {
    "ExecuteTime": {
     "end_time": "2022-05-20T06:13:55.817478Z",
     "start_time": "2022-05-20T06:13:55.802838Z"
    }
   },
   "outputs": [],
   "source": [
    "# apt의 처음 5행을 출력합니다.\n",
    "apt.head()"
   ]
  },
  {
   "cell_type": "markdown",
   "id": "sound-defense",
   "metadata": {},
   "source": [
    "### 시각화 설정: 스타일시트"
   ]
  },
  {
   "cell_type": "raw",
   "id": "ce9ebf1f",
   "metadata": {},
   "source": [
    "# seaborn 라이브러리를 설치합니다.\n",
    "# [참고] 아나콘다를 설치했다면 아래 코드를 실행하지 않아도 됩니다.\n",
    "# [참고] matplotlib 라이브러리도 함께 설치됩니다.\n",
    "!pip install seaborn"
   ]
  },
  {
   "cell_type": "code",
   "execution_count": null,
   "id": "verified-houston",
   "metadata": {
    "ExecuteTime": {
     "end_time": "2022-05-20T06:13:58.118701Z",
     "start_time": "2022-05-20T06:13:56.723657Z"
    }
   },
   "outputs": [],
   "source": [
    "# 관련 라이브러리를 호출합니다.\n",
    "import seaborn as sns\n",
    "import matplotlib.pyplot as plt\n",
    "import matplotlib.font_manager as fm"
   ]
  },
  {
   "cell_type": "code",
   "execution_count": null,
   "id": "3657d8ee",
   "metadata": {
    "ExecuteTime": {
     "end_time": "2022-05-20T06:13:58.227887Z",
     "start_time": "2022-05-20T06:13:58.223830Z"
    },
    "scrolled": true
   },
   "outputs": [],
   "source": [
    "# matplotlib 라이브러리에서 사용할 수 있는 스타일시트 목록을 확인합니다.\n",
    "plt.style.available"
   ]
  },
  {
   "cell_type": "code",
   "execution_count": null,
   "id": "50bbaea4",
   "metadata": {
    "ExecuteTime": {
     "end_time": "2022-05-20T06:13:58.337810Z",
     "start_time": "2022-05-20T06:13:58.335425Z"
    }
   },
   "outputs": [],
   "source": [
    "# 그래프에 적용할 스타일시트를 지정합니다.\n",
    "plt.style.use(style = 'seaborn-white')"
   ]
  },
  {
   "cell_type": "markdown",
   "id": "imposed-slave",
   "metadata": {},
   "source": [
    "### 시각화 설정: 한글폰트"
   ]
  },
  {
   "cell_type": "code",
   "execution_count": null,
   "id": "separated-donna",
   "metadata": {
    "ExecuteTime": {
     "end_time": "2022-05-20T06:13:58.596645Z",
     "start_time": "2022-05-20T06:13:58.439776Z"
    }
   },
   "outputs": [],
   "source": [
    "# 현재 사용 중인 컴퓨터에 설치된 전체 폰트 파일명을 리스트로 반환합니다.\n",
    "fontList = fm.findSystemFonts(fontext = 'ttf')"
   ]
  },
  {
   "cell_type": "code",
   "execution_count": null,
   "id": "informational-giant",
   "metadata": {
    "ExecuteTime": {
     "end_time": "2022-05-20T06:13:58.716268Z",
     "start_time": "2022-05-20T06:13:58.714163Z"
    }
   },
   "outputs": [],
   "source": [
    "# 특정 문자열을 갖는 파일명을 남깁니다.\n",
    "fontPath = [font for font in fontList if 'Gamja' in font]"
   ]
  },
  {
   "cell_type": "code",
   "execution_count": null,
   "id": "88c6a3c5",
   "metadata": {
    "ExecuteTime": {
     "end_time": "2022-05-20T06:13:58.822845Z",
     "start_time": "2022-05-20T06:13:58.820405Z"
    }
   },
   "outputs": [],
   "source": [
    "# fontPath를 오름차순 정렬합니다.\n",
    "fontPath.sort()"
   ]
  },
  {
   "cell_type": "code",
   "execution_count": null,
   "id": "eleven-wound",
   "metadata": {
    "ExecuteTime": {
     "end_time": "2022-05-20T06:13:58.935115Z",
     "start_time": "2022-05-20T06:13:58.929360Z"
    }
   },
   "outputs": [],
   "source": [
    "# 반복문으로 폰트명을 출력합니다.\n",
    "for font in fontPath:\n",
    "    print(fm.FontProperties(fname = font).get_name())"
   ]
  },
  {
   "cell_type": "markdown",
   "id": "378d8068",
   "metadata": {},
   "source": [
    "### 시각화 설정: 그래픽 파라미터"
   ]
  },
  {
   "cell_type": "code",
   "execution_count": null,
   "id": "positive-reasoning",
   "metadata": {
    "ExecuteTime": {
     "end_time": "2022-05-20T06:13:59.090429Z",
     "start_time": "2022-05-20T06:13:59.088148Z"
    }
   },
   "outputs": [],
   "source": [
    "# 그래프 크기 및 해상도를 설정합니다.\n",
    "plt.rc(group = 'figure', figsize = (12, 6), dpi = 100)"
   ]
  },
  {
   "cell_type": "code",
   "execution_count": null,
   "id": "sized-citation",
   "metadata": {
    "ExecuteTime": {
     "end_time": "2022-05-20T06:13:59.296033Z",
     "start_time": "2022-05-20T06:13:59.293721Z"
    }
   },
   "outputs": [],
   "source": [
    "# 한글폰트와 글자 크기를 설정합니다.\n",
    "plt.rc(group = 'font', family = 'Gamja Flower', size = 10)"
   ]
  },
  {
   "cell_type": "code",
   "execution_count": null,
   "id": "d79dbc92",
   "metadata": {
    "ExecuteTime": {
     "end_time": "2022-05-20T06:13:59.496035Z",
     "start_time": "2022-05-20T06:13:59.493884Z"
    }
   },
   "outputs": [],
   "source": [
    "# 유니코드 마이너스를 축에 출력하지 않도록 설정합니다.\n",
    "plt.rc(group = 'axes', unicode_minus = False)"
   ]
  },
  {
   "cell_type": "code",
   "execution_count": null,
   "id": "35cf3eed",
   "metadata": {
    "ExecuteTime": {
     "end_time": "2022-05-20T06:13:59.922559Z",
     "start_time": "2022-05-20T06:13:59.920384Z"
    }
   },
   "outputs": [],
   "source": [
    "# 범례에 채우기 색과 테두리 색을 추가합니다.\n",
    "plt.rc(group = 'legend', frameon = True, fc = '1', ec = '0')"
   ]
  },
  {
   "cell_type": "markdown",
   "id": "8dde36cd",
   "metadata": {},
   "source": [
    "### [참고] 한글을 네모로 출력하는 문제 해결 방법"
   ]
  },
  {
   "cell_type": "raw",
   "id": "c64c4b26",
   "metadata": {},
   "source": [
    "# 관련 라이브러리를 호출합니다.\n",
    "import matplotlib, glob"
   ]
  },
  {
   "cell_type": "raw",
   "id": "01af09c3",
   "metadata": {},
   "source": [
    "# matplotlib 라이브러리 임시 폴더 경로를 path에 할당합니다.\n",
    "path = matplotlib.get_cachedir()"
   ]
  },
  {
   "cell_type": "raw",
   "id": "b56e8c94",
   "metadata": {},
   "source": [
    "# 폰트 목록을 담고 있는 json 파일명을 file에 할당합니다.\n",
    "file = glob.glob(pathname = f'{path}/fontlist-*.json')[0]"
   ]
  },
  {
   "cell_type": "raw",
   "id": "5adcd506",
   "metadata": {},
   "source": [
    "# matplotlib 라이브러리의 임시 폴더에 있는 json 파일을 삭제합니다.\n",
    "os.remove(path = file)"
   ]
  },
  {
   "cell_type": "markdown",
   "id": "ae31677a",
   "metadata": {},
   "source": [
    "### [참고] 그래픽 파라미터 설정 관련 모듈 생성"
   ]
  },
  {
   "cell_type": "raw",
   "id": "f351573f",
   "metadata": {},
   "source": [
    "# 시각화 설정 모듈을 호출합니다.\n",
    "from GraphicSetting import *"
   ]
  },
  {
   "cell_type": "markdown",
   "id": "e290bc30",
   "metadata": {},
   "source": [
    "### [참고] Python 파일 탐색 경로 확인"
   ]
  },
  {
   "cell_type": "raw",
   "id": "5d29f879",
   "metadata": {},
   "source": [
    "# 관련 라이브러리를 호출합니다.\n",
    "import sys"
   ]
  },
  {
   "cell_type": "raw",
   "id": "7fcb1eb4",
   "metadata": {},
   "source": [
    "# Python 파일 탐색 경로를 확인합니다.\n",
    "sys.path"
   ]
  },
  {
   "cell_type": "markdown",
   "id": "located-cricket",
   "metadata": {},
   "source": [
    "### 히스토그램 그리기"
   ]
  },
  {
   "cell_type": "code",
   "execution_count": null,
   "id": "6d6a2c21",
   "metadata": {
    "ExecuteTime": {
     "end_time": "2022-05-20T06:15:50.330788Z",
     "start_time": "2022-05-20T06:15:50.037881Z"
    }
   },
   "outputs": [],
   "source": [
    "# 평당금액으로 히스토그램을 그립니다.\n",
    "sns.histplot(data = apt, x = '평당금액');"
   ]
  },
  {
   "cell_type": "code",
   "execution_count": null,
   "id": "19387f18",
   "metadata": {
    "ExecuteTime": {
     "end_time": "2022-05-20T06:22:24.922870Z",
     "start_time": "2022-05-20T06:22:24.727207Z"
    }
   },
   "outputs": [],
   "source": [
    "# 히스토그램에 그래픽 요소를 추가하고, 막대 개수를 50으로 지정합니다.\n",
    "sns.histplot(data = apt, x = '평당금액', bins = 50, \n",
    "             color = '1', edgecolor = '0');"
   ]
  },
  {
   "cell_type": "code",
   "execution_count": null,
   "id": "28ca75b2",
   "metadata": {
    "ExecuteTime": {
     "end_time": "2022-05-20T06:24:19.400925Z",
     "start_time": "2022-05-20T06:24:19.229019Z"
    }
   },
   "outputs": [],
   "source": [
    "# 히스토그램에 그래픽 요소를 추가하고, 막대 너비를 500으로 지정합니다.\n",
    "sns.histplot(data = apt, x = '평당금액', binwidth = 500, \n",
    "             color = '1', edgecolor = '0');"
   ]
  },
  {
   "cell_type": "markdown",
   "id": "580304ab",
   "metadata": {},
   "source": [
    "### [참고] 색상 목록"
   ]
  },
  {
   "cell_type": "code",
   "execution_count": null,
   "id": "2e769e42",
   "metadata": {
    "ExecuteTime": {
     "end_time": "2022-05-19T17:31:52.614142Z",
     "start_time": "2022-05-19T17:31:52.612187Z"
    }
   },
   "outputs": [],
   "source": [
    "# 관련 라이브러리를 호출합니다.\n",
    "import matplotlib.colors as mcolors"
   ]
  },
  {
   "cell_type": "code",
   "execution_count": null,
   "id": "490166f3",
   "metadata": {
    "ExecuteTime": {
     "end_time": "2022-05-19T17:31:53.752716Z",
     "start_time": "2022-05-19T17:31:53.746429Z"
    },
    "scrolled": true
   },
   "outputs": [],
   "source": [
    "# 148가지 색이름과 Hex Code를 딕셔너리로 출력합니다.\n",
    "mcolors.CSS4_COLORS"
   ]
  },
  {
   "cell_type": "markdown",
   "id": "90081572",
   "metadata": {},
   "source": [
    "### 히스토그램 계급 설정"
   ]
  },
  {
   "cell_type": "code",
   "execution_count": null,
   "id": "dimensional-bermuda",
   "metadata": {
    "ExecuteTime": {
     "end_time": "2022-05-19T17:31:04.849612Z",
     "start_time": "2022-05-19T17:31:04.842452Z"
    }
   },
   "outputs": [],
   "source": [
    "# 평당금액 최솟값과 최댓값을 확인합니다.\n",
    "apt['평당금액'].describe()[['min', 'max']]"
   ]
  },
  {
   "cell_type": "code",
   "execution_count": null,
   "id": "detected-revision",
   "metadata": {
    "ExecuteTime": {
     "end_time": "2022-05-19T17:31:05.111040Z",
     "start_time": "2022-05-19T17:31:05.109048Z"
    }
   },
   "outputs": [],
   "source": [
    "# 히스토그램 계급(막대 경계)을 설정합니다.\n",
    "bins = np.arange(start = 500, stop = 17501, step = 500)\n",
    "bins"
   ]
  },
  {
   "cell_type": "code",
   "execution_count": null,
   "id": "c8b6b484",
   "metadata": {},
   "outputs": [],
   "source": [
    "# 히스토그램에 계급을 추가합니다.\n",
    "sns.histplot(data = apt, x = '평당금액', bins = bins, \n",
    "             color = '1', edgecolor = '0');"
   ]
  },
  {
   "cell_type": "markdown",
   "id": "b316a863",
   "metadata": {},
   "source": [
    "### 히스토그램 막대 채우기 색 변경"
   ]
  },
  {
   "cell_type": "code",
   "execution_count": null,
   "id": "b3c2edf9",
   "metadata": {},
   "outputs": [],
   "source": [
    "# 금액구분(범주형 변수)에 따라 채우기 색을 다르게 설정합니다.\n",
    "sns.histplot(data = apt, x = '평당금액', bins = bins, \n",
    "             hue = '금액구분', edgecolor = '0');"
   ]
  },
  {
   "cell_type": "code",
   "execution_count": null,
   "id": "c9b78a72",
   "metadata": {},
   "outputs": [],
   "source": [
    "# 채우기 색 배합을 범주형 변수에 적합한 팔레트로 변경합니다.\n",
    "sns.histplot(data = apt, x = '평당금액', bins = bins, \n",
    "             hue = '금액구분', edgecolor = '0', palette = 'Set1');"
   ]
  },
  {
   "cell_type": "markdown",
   "id": "lesser-adapter",
   "metadata": {},
   "source": [
    "### [참고] 팔레트 탐색: Color Brewer"
   ]
  },
  {
   "cell_type": "code",
   "execution_count": null,
   "id": "7d66f4d7",
   "metadata": {
    "ExecuteTime": {
     "end_time": "2022-05-19T17:34:50.040307Z",
     "start_time": "2022-05-19T17:34:49.953215Z"
    }
   },
   "outputs": [],
   "source": [
    "# Color Brewer Palette를 탐색합니다.\n",
    "sns.choose_colorbrewer_palette(data_type = 'sequential')"
   ]
  },
  {
   "cell_type": "markdown",
   "id": "f17dd680",
   "metadata": {},
   "source": [
    "### [참고] 팔레트 설정"
   ]
  },
  {
   "cell_type": "code",
   "execution_count": null,
   "id": "obvious-syracuse",
   "metadata": {
    "ExecuteTime": {
     "end_time": "2022-05-19T17:34:57.929121Z",
     "start_time": "2022-05-19T17:34:57.925679Z"
    }
   },
   "outputs": [],
   "source": [
    "# 기본 팔레트 색을 출력합니다.\n",
    "sns.color_palette()"
   ]
  },
  {
   "cell_type": "code",
   "execution_count": null,
   "id": "vietnamese-hebrew",
   "metadata": {
    "ExecuteTime": {
     "end_time": "2022-05-19T17:35:13.491509Z",
     "start_time": "2022-05-19T17:35:13.487855Z"
    }
   },
   "outputs": [],
   "source": [
    "# Color Brewer에서 탐색한 팔레트 색을 출력합니다.\n",
    "sns.color_palette(palette = 'Set1', n_colors = 9)"
   ]
  },
  {
   "cell_type": "code",
   "execution_count": null,
   "id": "838e21c1",
   "metadata": {
    "ExecuteTime": {
     "end_time": "2022-05-19T17:35:22.162514Z",
     "start_time": "2022-05-19T17:35:22.160154Z"
    }
   },
   "outputs": [],
   "source": [
    "# 기본 팔레트를 변경합니다.\n",
    "sns.set_palette(palette = 'Set1', n_colors = 9)"
   ]
  },
  {
   "cell_type": "code",
   "execution_count": null,
   "id": "3f3dcbe6",
   "metadata": {
    "ExecuteTime": {
     "end_time": "2022-05-19T17:35:27.733174Z",
     "start_time": "2022-05-19T17:35:27.729940Z"
    }
   },
   "outputs": [],
   "source": [
    "# 새로 설정한 기본 팔레트 색을 확인합니다.\n",
    "sns.color_palette()"
   ]
  },
  {
   "cell_type": "markdown",
   "id": "a40e7731",
   "metadata": {},
   "source": [
    "### [참고] 사용자 팔레트 생성"
   ]
  },
  {
   "cell_type": "code",
   "execution_count": null,
   "id": "274ed003",
   "metadata": {
    "ExecuteTime": {
     "end_time": "2022-05-19T17:35:49.501464Z",
     "start_time": "2022-05-19T17:35:49.499504Z"
    }
   },
   "outputs": [],
   "source": [
    "# 원하는 색이름을 원소로 갖는 리스트(사용자 팔레트)를 생성합니다.\n",
    "myPal = ['skyblue', 'orange']"
   ]
  },
  {
   "cell_type": "code",
   "execution_count": null,
   "id": "336b8b73",
   "metadata": {
    "ExecuteTime": {
     "end_time": "2022-05-19T17:35:57.074449Z",
     "start_time": "2022-05-19T17:35:56.450964Z"
    }
   },
   "outputs": [],
   "source": [
    "# 기존 그래프에 사용자 팔레트를 적용합니다.\n",
    "sns.histplot(data = apt, x = '평당금액', bins = bins, \n",
    "             hue = '금액구분', edgecolor = '0', palette = myPal, \n",
    "             hue_order = ['5천 미만', '5천 이상']);"
   ]
  },
  {
   "cell_type": "markdown",
   "id": "9f5f0111",
   "metadata": {},
   "source": [
    "### 히스토그램에 제목 및 축이름 추가"
   ]
  },
  {
   "cell_type": "code",
   "execution_count": null,
   "id": "98d663a6",
   "metadata": {},
   "outputs": [],
   "source": [
    "# 히스토그램에 제목을 추가합니다.\n",
    "sns.histplot(data = apt, x = '평당금액', bins = bins, \n",
    "             hue = '금액구분', edgecolor = '0', palette = myPal, \n",
    "             hue_order = ['5천 미만', '5천 이상'])\n",
    "plt.title(label = '평당금액의 분포')\n",
    "plt.xlabel(xlabel = '평당금액')\n",
    "plt.ylabel(ylabel = '거래건수');"
   ]
  },
  {
   "cell_type": "code",
   "execution_count": null,
   "id": "a8fe502d",
   "metadata": {},
   "outputs": [],
   "source": [
    "# 히스토그램에 제목을 추가합니다.\n",
    "sns.histplot(data = apt, x = '평당금액', bins = bins, \n",
    "             hue = '금액구분', edgecolor = '0', palette = myPal, \n",
    "             hue_order = ['5천 미만', '5천 이상'])\n",
    "plt.title(label = '평당금액의 분포')\n",
    "plt.xlabel(xlabel = '평당금액')\n",
    "plt.ylabel(ylabel = '거래건수');"
   ]
  },
  {
   "cell_type": "markdown",
   "id": "3b278898",
   "metadata": {},
   "source": [
    "### 히스토그램에 커널 밀도 추정 곡선 추가"
   ]
  },
  {
   "cell_type": "code",
   "execution_count": null,
   "id": "311d3aad",
   "metadata": {},
   "outputs": [],
   "source": [
    "# 히스토그램의 y축을 빈도수 대신 밀도로 변경합니다.\n",
    "sns.histplot(data = apt, x = '평당금액', bins = bins, \n",
    "             color = '1', edgecolor = '0', \n",
    "             stat = 'density')\n",
    "\n",
    "# 히스토그램에 커널 밀도 추정 곡선을 추가합니다.\n",
    "sns.kdeplot(data = apt, x = '평당금액', color = 'red', \n",
    "            linewidth = 1.5, linestyle = '--');"
   ]
  },
  {
   "cell_type": "markdown",
   "id": "c7e40765",
   "metadata": {},
   "source": [
    "### 관심 있는 자치구 선택"
   ]
  },
  {
   "cell_type": "code",
   "execution_count": null,
   "id": "approved-garlic",
   "metadata": {
    "ExecuteTime": {
     "end_time": "2022-05-19T17:32:16.257762Z",
     "start_time": "2022-05-19T17:32:16.229799Z"
    }
   },
   "outputs": [],
   "source": [
    "# apt에서 관심 있는 자치구를 선택하고 sub에 할당합니다.\n",
    "sub = apt[apt['자치구'].str.contains(pat = '강[남동북]')].copy()"
   ]
  },
  {
   "cell_type": "code",
   "execution_count": null,
   "id": "e0bd3d65",
   "metadata": {
    "ExecuteTime": {
     "end_time": "2022-05-19T17:32:26.745014Z",
     "start_time": "2022-05-19T17:32:26.738145Z"
    }
   },
   "outputs": [],
   "source": [
    "# 자치구별 평당금액 평균(분포의 중심)을 확인합니다.\n",
    "sub.groupby(by = ['자치구']).mean()['평당금액']"
   ]
  },
  {
   "cell_type": "code",
   "execution_count": null,
   "id": "incorporated-profile",
   "metadata": {
    "ExecuteTime": {
     "end_time": "2022-05-19T17:32:36.170489Z",
     "start_time": "2022-05-19T17:32:36.163840Z"
    }
   },
   "outputs": [],
   "source": [
    "# 평당금액 최솟값과 최댓값을 확인합니다.\n",
    "sub['평당금액'].describe()[['min', 'max']]"
   ]
  },
  {
   "cell_type": "code",
   "execution_count": null,
   "id": "metropolitan-province",
   "metadata": {
    "ExecuteTime": {
     "end_time": "2022-05-19T17:32:45.640262Z",
     "start_time": "2022-05-19T17:32:45.638117Z"
    }
   },
   "outputs": [],
   "source": [
    "# 히스토그램의 계급을 다시 설정합니다.\n",
    "bins = np.arange(start = 500, stop = 15001, step = 250)"
   ]
  },
  {
   "cell_type": "markdown",
   "id": "69cd11d0",
   "metadata": {},
   "source": [
    "### 히스토그램을 겹쳐서 그리기"
   ]
  },
  {
   "cell_type": "code",
   "execution_count": null,
   "id": "afb96803",
   "metadata": {},
   "outputs": [],
   "source": [
    "# 자치구별 히스토그램을 겹쳐서 그립니다.\n",
    "sns.histplot(data = sub, x = '평당금액', bins = bins, \n",
    "             hue = '자치구', palette = 'Set1');"
   ]
  },
  {
   "cell_type": "code",
   "execution_count": null,
   "id": "d071af40",
   "metadata": {
    "ExecuteTime": {
     "end_time": "2022-05-19T17:33:08.212889Z",
     "start_time": "2022-05-19T17:33:08.026436Z"
    }
   },
   "outputs": [],
   "source": [
    "# 커널 밀도 추정 곡선을 겹쳐서 그리는 것이 더 낫습니다.\n",
    "sns.kdeplot(data = sub, x = '평당금액', shade = True,\n",
    "            hue = '자치구', palette = 'Set1');"
   ]
  },
  {
   "cell_type": "markdown",
   "id": "9c6bb10f",
   "metadata": {},
   "source": [
    "### 히스토그램을 나눠서 그리기"
   ]
  },
  {
   "cell_type": "code",
   "execution_count": null,
   "id": "beneficial-incident",
   "metadata": {
    "ExecuteTime": {
     "end_time": "2022-05-19T17:34:37.205791Z",
     "start_time": "2022-05-19T17:34:36.508178Z"
    }
   },
   "outputs": [],
   "source": [
    "# 자치구별 히스토그램을 열(가로) 방향으로 나눠서 그립니다.\n",
    "sns.displot(data = sub, x = '평당금액', bins = bins, \n",
    "            hue = '자치구', palette = 'Set1', \n",
    "            col = '자치구', legend = False, \n",
    "            height = 3, aspect = 1.2);"
   ]
  },
  {
   "cell_type": "markdown",
   "id": "incorrect-tonight",
   "metadata": {},
   "source": [
    "### 일변량 상자 수염 그림 그리기"
   ]
  },
  {
   "cell_type": "code",
   "execution_count": null,
   "id": "2bb86c0d",
   "metadata": {
    "ExecuteTime": {
     "end_time": "2022-05-19T17:36:20.710110Z",
     "start_time": "2022-05-19T17:36:20.707773Z"
    }
   },
   "outputs": [],
   "source": [
    "# 이상치 요소를 딕셔너리로 생성합니다.\n",
    "flierprops = {'marker': 'o', \n",
    "              'markersize': 5, \n",
    "              'markerfacecolor': 'pink',\n",
    "              'markeredgecolor': 'red'}"
   ]
  },
  {
   "cell_type": "code",
   "execution_count": null,
   "id": "destroyed-afternoon",
   "metadata": {
    "ExecuteTime": {
     "end_time": "2022-05-19T17:36:25.416245Z",
     "start_time": "2022-05-19T17:36:25.308310Z"
    }
   },
   "outputs": [],
   "source": [
    "# 평당금액으로 상자 수염 그림을 그립니다.\n",
    "sns.boxplot(data = apt, y = '평당금액', \n",
    "            color = '0.8', flierprops = flierprops);"
   ]
  },
  {
   "cell_type": "markdown",
   "id": "8566b93e",
   "metadata": {},
   "source": [
    "### 이변량 상자 수염 그림 그리기"
   ]
  },
  {
   "cell_type": "code",
   "execution_count": null,
   "id": "6c2af0f2",
   "metadata": {
    "ExecuteTime": {
     "end_time": "2022-05-19T17:36:37.078437Z",
     "start_time": "2022-05-19T17:36:37.064939Z"
    }
   },
   "outputs": [],
   "source": [
    "# apt의 자치구별 평당금액 중위수를 오름차순 정렬한 grp를 생성합니다.\n",
    "grp = apt.groupby(by = ['자치구']).median()['평당금액']\n",
    "grp = grp.sort_values()\n",
    "grp.head()"
   ]
  },
  {
   "cell_type": "code",
   "execution_count": null,
   "id": "4cc2b4c3",
   "metadata": {
    "ExecuteTime": {
     "end_time": "2022-05-19T17:37:02.221065Z",
     "start_time": "2022-05-19T17:37:01.849081Z"
    }
   },
   "outputs": [],
   "source": [
    "# x축에 자치구, y축에 평당금액을 지정하고 이변량 상자 수염 그림을 그립니다.\n",
    "sns.boxplot(data = apt, x = '자치구', y = '평당금액', \n",
    "            flierprops = flierprops, order = grp.index)\n",
    "plt.xticks(rotation = 30);"
   ]
  },
  {
   "cell_type": "markdown",
   "id": "victorian-listening",
   "metadata": {},
   "source": [
    "### 일변량 막대그래프 그리기"
   ]
  },
  {
   "cell_type": "code",
   "execution_count": null,
   "id": "f2337b4a",
   "metadata": {
    "ExecuteTime": {
     "end_time": "2022-05-19T17:37:50.211001Z",
     "start_time": "2022-05-19T17:37:50.168905Z"
    }
   },
   "outputs": [],
   "source": [
    "# apt의 자치구별 평당금액 빈도수를 내림차순 정렬한 grp를 생성합니다.\n",
    "grp = apt.groupby(by = ['자치구']).count()['평당금액']\n",
    "grp = grp.sort_values(ascending = False)\n",
    "grp.head()"
   ]
  },
  {
   "cell_type": "code",
   "execution_count": null,
   "id": "4cc15ced",
   "metadata": {
    "ExecuteTime": {
     "end_time": "2022-05-19T17:38:10.175093Z",
     "start_time": "2022-05-19T17:38:09.836005Z"
    }
   },
   "outputs": [],
   "source": [
    "# 자치구별 빈도수로 일변량 막대그래프를 그립니다.\n",
    "sns.countplot(data = apt, x = '자치구', order = grp.index)\n",
    "plt.ylim(0, 4000)\n",
    "plt.xticks(rotation = 30)\n",
    "\n",
    "# 막대 위에 자치구별 빈도수를 텍스트로 추가합니다.\n",
    "for i, v in enumerate(grp):\n",
    "    plt.text(x = i, y = v, s = v, ha = 'center', va = 'bottom', \n",
    "             color = 'black', fontsize = 12, fontweight = 'bold')"
   ]
  },
  {
   "cell_type": "markdown",
   "id": "de73b0c9",
   "metadata": {},
   "source": [
    "### [참고] 파이 차트 그리기"
   ]
  },
  {
   "cell_type": "code",
   "execution_count": null,
   "id": "8dfb32c9",
   "metadata": {
    "ExecuteTime": {
     "end_time": "2022-05-19T17:38:31.045379Z",
     "start_time": "2022-05-19T17:38:30.767487Z"
    }
   },
   "outputs": [],
   "source": [
    "# 자치구별 빈도수로 파이차트를 그립니다.\n",
    "plt.figure(figsize = (8, 8), dpi = 100)\n",
    "pal = sns.color_palette(palette = 'Greys', n_colors = 40)[:25]\n",
    "plt.pie(x = grp.values, labels = grp.index, colors = pal, \n",
    "        autopct = '%.1f%%', pctdistance = 0.95, labeldistance = 1,\n",
    "        startangle = 90, counterclock = False, rotatelabels = True, \n",
    "        wedgeprops = dict(edgecolor = '0.8', linestyle = '--'));"
   ]
  },
  {
   "cell_type": "markdown",
   "id": "4207726a",
   "metadata": {},
   "source": [
    "### 이변량 막대그래프 그리기"
   ]
  },
  {
   "cell_type": "code",
   "execution_count": null,
   "id": "73afd607",
   "metadata": {
    "ExecuteTime": {
     "end_time": "2022-05-19T17:39:09.208410Z",
     "start_time": "2022-05-19T17:39:09.198673Z"
    }
   },
   "outputs": [],
   "source": [
    "# apt의 자치구별 평당금액 평균을 내림차순 정렬한 grp를 생성합니다.\n",
    "grp = apt.groupby(by = ['자치구']).mean()['평당금액']\n",
    "grp = grp.sort_values(ascending = False).round(0).astype('int')\n",
    "grp.head()"
   ]
  },
  {
   "cell_type": "code",
   "execution_count": null,
   "id": "84ab7258",
   "metadata": {
    "ExecuteTime": {
     "end_time": "2022-05-19T17:39:09.859145Z",
     "start_time": "2022-05-19T17:39:09.579222Z"
    }
   },
   "outputs": [],
   "source": [
    "# 자치구별 평당금액 평균으로 이변량 막대그래프를 그립니다.\n",
    "sns.barplot(data = apt, x = '자치구', y = '평당금액', order = grp.index, \n",
    "            estimator = np.mean, ci = None)\n",
    "plt.ylim(0, 8000)\n",
    "plt.xticks(rotation = 30)\n",
    "\n",
    "# 막대 위에 평당금액 평균을 텍스트로 추가합니다.\n",
    "for i, v in enumerate(grp):\n",
    "    plt.text(x = i, y = v, s = v, ha = 'center', va = 'bottom',\n",
    "             color = 'black', fontsize = 12, fontweight = 'bold')"
   ]
  },
  {
   "cell_type": "markdown",
   "id": "bf50f6d3",
   "metadata": {},
   "source": [
    "### [참고] 묶음 막대그래프 그리기"
   ]
  },
  {
   "cell_type": "code",
   "execution_count": null,
   "id": "6e4e63e6",
   "metadata": {
    "ExecuteTime": {
     "end_time": "2022-05-19T17:39:53.655334Z",
     "start_time": "2022-05-19T17:39:53.647667Z"
    }
   },
   "outputs": [],
   "source": [
    "# sub의 자치구와 금액구분별 평당금액 평균으로 grp를 생성합니다.\n",
    "grp = sub.groupby(by = ['자치구', '금액구분']).mean()['평당금액']\n",
    "grp = grp.round(0).astype('int')\n",
    "grp.head()"
   ]
  },
  {
   "cell_type": "code",
   "execution_count": null,
   "id": "e9ad1bf6",
   "metadata": {
    "ExecuteTime": {
     "end_time": "2022-05-19T17:39:54.156386Z",
     "start_time": "2022-05-19T17:39:54.020064Z"
    }
   },
   "outputs": [],
   "source": [
    "# 이변량 막대그래프의 x축에 범주형 변수를 추가한 묶음 막대그래프를 그립니다.\n",
    "sns.barplot(data = sub, x = '자치구', y = '평당금액', hue = '금액구분', \n",
    "            order = grp.index.levels[0], hue_order = grp.index.levels[1],\n",
    "            estimator = np.mean, ci = None, palette = myPal)\n",
    "\n",
    "# 묶음 막대 위에 평당금액 평균을 텍스트로 추가합니다.\n",
    "for i, v in enumerate(grp):\n",
    "    if i % 2 == 0:\n",
    "        i = i/2 - 0.2\n",
    "    else:\n",
    "        i = (i-1)/2 + 0.2\n",
    "    plt.text(x = i, y = v, s = v, ha = 'center', va = 'bottom')"
   ]
  },
  {
   "cell_type": "markdown",
   "id": "artistic-hometown",
   "metadata": {},
   "source": [
    "### 선그래프 그리기"
   ]
  },
  {
   "cell_type": "code",
   "execution_count": null,
   "id": "collect-credit",
   "metadata": {
    "ExecuteTime": {
     "end_time": "2022-05-19T17:40:07.555589Z",
     "start_time": "2022-05-19T17:40:07.540510Z"
    }
   },
   "outputs": [],
   "source": [
    "# apt에 거래월을 추가합니다.\n",
    "apt['거래월'] = apt['거래일'].dt.month\n",
    "apt.head()"
   ]
  },
  {
   "cell_type": "code",
   "execution_count": null,
   "id": "corporate-times",
   "metadata": {
    "ExecuteTime": {
     "end_time": "2022-05-19T17:40:16.783231Z",
     "start_time": "2022-05-19T17:40:16.620923Z"
    }
   },
   "outputs": [],
   "source": [
    "# 거래월별 평당금액 평균으로 선그래프를 그립니다.\n",
    "sns.lineplot(data = apt, x = '거래월', y = '평당금액', color = 'red', \n",
    "             markers = True, style = 1, legend = False, \n",
    "             estimator = np.mean, ci = None);"
   ]
  },
  {
   "cell_type": "markdown",
   "id": "64e9411a",
   "metadata": {},
   "source": [
    "### [참고] x축 눈금명 변경"
   ]
  },
  {
   "cell_type": "code",
   "execution_count": null,
   "id": "92f36ef9",
   "metadata": {
    "ExecuteTime": {
     "end_time": "2022-05-19T17:40:46.966742Z",
     "start_time": "2022-05-19T17:40:46.963351Z"
    }
   },
   "outputs": [],
   "source": [
    "# 선그래프에 추가할 x축 눈금명을 생성합니다.\n",
    "months = [f'{str(i)}월' for i in range(1, 13)]\n",
    "months"
   ]
  },
  {
   "cell_type": "code",
   "execution_count": null,
   "id": "b3d57fe9",
   "metadata": {
    "ExecuteTime": {
     "end_time": "2022-05-19T17:40:53.326825Z",
     "start_time": "2022-05-19T17:40:53.161149Z"
    }
   },
   "outputs": [],
   "source": [
    "# 선그래프에 x축 눈금 위치와 눈금명을 지정합니다.\n",
    "sns.lineplot(data = apt, x = '거래월', y = '평당금액', color = 'red', \n",
    "             markers = True, style = 1, legend = False, \n",
    "             estimator = np.mean, ci = None)\n",
    "plt.xticks(ticks = range(1, 13), labels = months);"
   ]
  },
  {
   "cell_type": "markdown",
   "id": "99fff4fe",
   "metadata": {},
   "source": [
    "### 선그래프를 겹쳐서 그리기"
   ]
  },
  {
   "cell_type": "code",
   "execution_count": null,
   "id": "fb566b7e",
   "metadata": {
    "ExecuteTime": {
     "end_time": "2022-05-19T17:41:09.781475Z",
     "start_time": "2022-05-19T17:41:09.778512Z"
    }
   },
   "outputs": [],
   "source": [
    "# sub에 거래월을 추가합니다.\n",
    "sub['거래월'] = sub['거래일'].dt.month"
   ]
  },
  {
   "cell_type": "code",
   "execution_count": null,
   "id": "smart-socket",
   "metadata": {
    "ExecuteTime": {
     "end_time": "2022-05-19T17:41:18.330219Z",
     "start_time": "2022-05-19T17:41:18.146471Z"
    }
   },
   "outputs": [],
   "source": [
    "# 자치구별 선그래프를 겹쳐서 그립니다.\n",
    "sns.lineplot(data = sub, x = '거래월', y = '평당금액', hue = '자치구', \n",
    "             markers = True, style = '자치구', \n",
    "             estimator = np.mean, ci = None)\n",
    "plt.xticks(ticks = range(1, 13), labels = months);"
   ]
  },
  {
   "cell_type": "markdown",
   "id": "stunning-witness",
   "metadata": {},
   "source": [
    "### 산점도 그리기"
   ]
  },
  {
   "cell_type": "code",
   "execution_count": null,
   "id": "bright-saturn",
   "metadata": {
    "ExecuteTime": {
     "end_time": "2022-05-19T17:41:35.719005Z",
     "start_time": "2022-05-19T17:41:35.507291Z"
    }
   },
   "outputs": [],
   "source": [
    "# 전용면적과 거래금액으로 산점도를 그립니다.\n",
    "sns.scatterplot(data = apt, x = '전용면적', y = '거래금액', \n",
    "                color = '0.3', edgecolor = '0.9', \n",
    "                linewidth = 0.5, alpha = 0.5);"
   ]
  },
  {
   "cell_type": "code",
   "execution_count": null,
   "id": "a06d035d",
   "metadata": {
    "ExecuteTime": {
     "end_time": "2022-05-19T17:41:44.025948Z",
     "start_time": "2022-05-19T17:41:43.044624Z"
    }
   },
   "outputs": [],
   "source": [
    "# 세대수(연속형 변수)에 따라 채우기 색을 다르게 설정합니다.\n",
    "sns.scatterplot(data = apt, x = '전용면적', y = '거래금액', \n",
    "                hue = '세대수', palette = 'RdYlGn', edgecolor = '0.9', \n",
    "                linewidth = 0.5, alpha = 0.5);"
   ]
  },
  {
   "cell_type": "markdown",
   "id": "b2ef7f86",
   "metadata": {},
   "source": [
    "### 강남구 데이터로 산점도 그리기"
   ]
  },
  {
   "cell_type": "code",
   "execution_count": null,
   "id": "e4354c5f",
   "metadata": {
    "ExecuteTime": {
     "end_time": "2022-05-19T17:41:59.938238Z",
     "start_time": "2022-05-19T17:41:59.931593Z"
    }
   },
   "outputs": [],
   "source": [
    "# apt에서 강남구만 선택하고 gng에 할당합니다.\n",
    "gng = apt[apt['자치구'].eq('강남구')].copy()"
   ]
  },
  {
   "cell_type": "code",
   "execution_count": null,
   "id": "96b27b6f",
   "metadata": {
    "ExecuteTime": {
     "end_time": "2022-05-19T17:42:58.150140Z",
     "start_time": "2022-05-19T17:42:58.003851Z"
    }
   },
   "outputs": [],
   "source": [
    "# gng로 산점도를 그립니다.\n",
    "sns.scatterplot(data = gng, x = '전용면적', y = '거래금액', \n",
    "                color = '0.3', edgecolor = '0.9', \n",
    "                linewidth = 0.5, alpha = 0.5);"
   ]
  },
  {
   "cell_type": "markdown",
   "id": "fe6f9ab7",
   "metadata": {},
   "source": [
    "### 산점도에 회귀직선, 수직선 및 수평선 추가"
   ]
  },
  {
   "cell_type": "code",
   "execution_count": null,
   "id": "3d6dc1aa",
   "metadata": {
    "ExecuteTime": {
     "end_time": "2022-05-19T17:43:26.786701Z",
     "start_time": "2022-05-19T17:43:26.635790Z"
    },
    "scrolled": false
   },
   "outputs": [],
   "source": [
    "# 산점도에 회귀직선, 수직선(x 평균) 및 수평선(y 평균)을 추가합니다.\n",
    "sns.regplot(data = gng, x = '전용면적', y = '거래금액', \n",
    "            scatter_kws = dict(color = '0.3', ec = '0.9', alpha = 0.5),  \n",
    "            line_kws = dict(color = 'red', lw = 1.5), ci = None)\n",
    "\n",
    "plt.axvline(x = gng['전용면적'].mean(), color = 'red', linestyle = '--')\n",
    "plt.axhline(y = gng['거래금액'].mean(), color = 'red', linestyle = '--');"
   ]
  },
  {
   "cell_type": "markdown",
   "id": "dietary-transparency",
   "metadata": {},
   "source": [
    "### 산점도 행렬 그리기"
   ]
  },
  {
   "cell_type": "code",
   "execution_count": null,
   "id": "moral-documentation",
   "metadata": {
    "ExecuteTime": {
     "end_time": "2022-05-19T17:44:08.815174Z",
     "start_time": "2022-05-19T17:44:08.813074Z"
    }
   },
   "outputs": [],
   "source": [
    "# 산점도 행렬에 추가할 변수명으로 리스트를 생성합니다.(4~5개가 적당)\n",
    "cols = ['거래금액', '전용면적', '층', '세대수', '경도']"
   ]
  },
  {
   "cell_type": "code",
   "execution_count": null,
   "id": "rough-scanner",
   "metadata": {
    "ExecuteTime": {
     "end_time": "2022-05-19T17:44:18.343485Z",
     "start_time": "2022-05-19T17:44:15.023283Z"
    },
    "scrolled": false
   },
   "outputs": [],
   "source": [
    "# 산점도 행렬을 그립니다.\n",
    "sns.pairplot(data = sub[cols], plot_kws = dict(color = '0.8', ec = '1'));"
   ]
  },
  {
   "cell_type": "markdown",
   "id": "70cf1c6b",
   "metadata": {},
   "source": [
    "### 산점도 행렬을 간결하게 그리기"
   ]
  },
  {
   "cell_type": "code",
   "execution_count": null,
   "id": "1d7bdaeb",
   "metadata": {
    "ExecuteTime": {
     "end_time": "2022-05-19T17:45:48.575672Z",
     "start_time": "2022-05-19T17:45:47.116964Z"
    }
   },
   "outputs": [],
   "source": [
    "# x축에 입력변수, y축에 목표변수를 산점도 행렬을 간결하게 그립니다.\n",
    "sns.pairplot(data = sub, \n",
    "             x_vars = ['전용면적', '층', '세대수', '경도'], \n",
    "             y_vars = '거래금액', \n",
    "             kind = 'reg', \n",
    "             plot_kws = dict(scatter_kws = dict(color = '0.8', ec = '1'),\n",
    "                             line_kws = dict(color = 'red', lw = 1.5)));"
   ]
  },
  {
   "cell_type": "markdown",
   "id": "portuguese-field",
   "metadata": {},
   "source": [
    "## End of Document"
   ]
  }
 ],
 "metadata": {
  "kernelspec": {
   "display_name": "Python 3 (ipykernel)",
   "language": "python",
   "name": "python3"
  },
  "language_info": {
   "codemirror_mode": {
    "name": "ipython",
    "version": 3
   },
   "file_extension": ".py",
   "mimetype": "text/x-python",
   "name": "python",
   "nbconvert_exporter": "python",
   "pygments_lexer": "ipython3",
   "version": "3.10.4"
  },
  "toc": {
   "base_numbering": 1,
   "nav_menu": {},
   "number_sections": false,
   "sideBar": true,
   "skip_h1_title": false,
   "title_cell": "Table of Contents",
   "title_sidebar": "Contents",
   "toc_cell": false,
   "toc_position": {},
   "toc_section_display": true,
   "toc_window_display": false
  },
  "varInspector": {
   "cols": {
    "lenName": 16,
    "lenType": 16,
    "lenVar": 40
   },
   "kernels_config": {
    "python": {
     "delete_cmd_postfix": "",
     "delete_cmd_prefix": "del ",
     "library": "var_list.py",
     "varRefreshCmd": "print(var_dic_list())"
    },
    "r": {
     "delete_cmd_postfix": ") ",
     "delete_cmd_prefix": "rm(",
     "library": "var_list.r",
     "varRefreshCmd": "cat(var_dic_list()) "
    }
   },
   "types_to_exclude": [
    "module",
    "function",
    "builtin_function_or_method",
    "instance",
    "_Feature"
   ],
   "window_display": false
  }
 },
 "nbformat": 4,
 "nbformat_minor": 5
}
