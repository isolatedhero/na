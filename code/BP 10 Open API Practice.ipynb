{
 "cells": [
  {
   "cell_type": "markdown",
   "metadata": {},
   "source": [
    "# 공공데이터포털 실습: 서울 아파트 실거래가"
   ]
  },
  {
   "cell_type": "markdown",
   "metadata": {},
   "source": [
    "- 지역코드와 거래년월을 입력하면 해당 거래 데이터를 수집하는 사용자 정의 함수를 생성합니다.\n",
    "- 지역코드와 거래년월을 변경하면 원하는 데이터를 빠르게 수집할 수 있습니다."
   ]
  },
  {
   "cell_type": "markdown",
   "metadata": {},
   "source": [
    "### 작업경로 설정"
   ]
  },
  {
   "cell_type": "code",
   "execution_count": null,
   "metadata": {},
   "outputs": [],
   "source": [
    "# 관련 라이브러리를 호출합니다.\n",
    "import os"
   ]
  },
  {
   "cell_type": "code",
   "execution_count": null,
   "metadata": {},
   "outputs": [],
   "source": [
    "# 현재 작업경로를 확인합니다.\n",
    "os.getcwd()"
   ]
  },
  {
   "cell_type": "code",
   "execution_count": null,
   "metadata": {},
   "outputs": [],
   "source": [
    "# data 폴더로 작업경로를 변경합니다.\n",
    "os.chdir(path = '../data')"
   ]
  },
  {
   "cell_type": "code",
   "execution_count": null,
   "metadata": {},
   "outputs": [],
   "source": [
    "# 작업경로에 포함된 폴더명과 파일명을 출력합니다.\n",
    "os.listdir()"
   ]
  },
  {
   "cell_type": "markdown",
   "metadata": {},
   "source": [
    "### 아파트 거래 데이터 수집하는 사용자 정의 함수 생성"
   ]
  },
  {
   "cell_type": "code",
   "execution_count": null,
   "metadata": {},
   "outputs": [],
   "source": [
    "# 공공데이터포털 일반인증키를 설정합니다.\n",
    "apiKey = '공공데이터포털에서 발급받은 일반인증키를 여기에 붙여넣으세요!'"
   ]
  },
  {
   "cell_type": "code",
   "execution_count": null,
   "metadata": {},
   "outputs": [],
   "source": [
    "# 관련 라이브러리를 호출합니다.\n",
    "import requests\n",
    "import xmltodict\n",
    "import pandas as pd\n",
    "\n",
    "# 지역코드와 거래년월을 입력하면 데이터를 수집하는 사용자 정의 함수를 생성합니다.\n",
    "def aptPrice(areaCd, ymonth, apiKey):\n",
    "    \n",
    "    # 요청 URL을 설정합니다.\n",
    "    url = 'http://openapi.molit.go.kr:8081/OpenAPI_ToolInstallPackage/service/rest/RTMSOBJSvc/getRTMSDataSvcAptTrade'\n",
    "    \n",
    "    # Query String을 생성합니다.\n",
    "    query = {'LAWD_CD': areaCd, 'DEAL_YMD': ymonth, 'serviceKey': apiKey}\n",
    "    \n",
    "    # HTTP 요청을 실행합니다.\n",
    "    res = requests.get(url = url, params = query)\n",
    "    \n",
    "    # str 자료형을 collections.OrderedDict 자료형으로 변환합니다.\n",
    "    dat = xmltodict.parse(xml_input = res.text)\n",
    "    \n",
    "    # dat를 데이터프레임으로 변환합니다.\n",
    "    df = pd.DataFrame(data = dat['response']['body']['items']['item'])\n",
    "    \n",
    "    # 데이터프레임을 반환합니다.\n",
    "    return df"
   ]
  },
  {
   "cell_type": "code",
   "execution_count": null,
   "metadata": {},
   "outputs": [],
   "source": [
    "# 예제 데이터로 실습\n",
    "apt = aptPrice(areaCd = '11680', ymonth = '202112', apiKey = apiKey)"
   ]
  },
  {
   "cell_type": "code",
   "execution_count": null,
   "metadata": {},
   "outputs": [],
   "source": [
    "# 처음 다섯 행만 출력합니다.\n",
    "apt.head()"
   ]
  },
  {
   "cell_type": "markdown",
   "metadata": {},
   "source": [
    "### 지역코드 준비"
   ]
  },
  {
   "cell_type": "code",
   "execution_count": null,
   "metadata": {},
   "outputs": [],
   "source": [
    "# 서울특별시 자치구 정보가 포함된 엑셀파일을 읽습니다.\n",
    "dong = pd.read_excel(io = 'Area_Code.xlsx')"
   ]
  },
  {
   "cell_type": "code",
   "execution_count": null,
   "metadata": {},
   "outputs": [],
   "source": [
    "# 처음 10행만 출력합니다.\n",
    "dong.head(n = 10)"
   ]
  },
  {
   "cell_type": "code",
   "execution_count": null,
   "metadata": {},
   "outputs": [],
   "source": [
    "# 데이터프레임의 정보를 확인합니다.\n",
    "dong.info()"
   ]
  },
  {
   "cell_type": "markdown",
   "metadata": {},
   "source": [
    "### 반복문 실행"
   ]
  },
  {
   "cell_type": "code",
   "execution_count": null,
   "metadata": {},
   "outputs": [],
   "source": [
    "# 거래년월을 설정합니다.\n",
    "ymonth = '202112'"
   ]
  },
  {
   "cell_type": "code",
   "execution_count": null,
   "metadata": {},
   "outputs": [],
   "source": [
    "# 관련 라이브러리를 호출합니다.\n",
    "# [참고] 웹 크롤링을 실행할 때 잠시 멈춤 동작을 추가해야 합니다.\n",
    "import time\n",
    "\n",
    "# 최종 결과를 저장할 빈 데이터프레임을 생성합니다.\n",
    "apt = pd.DataFrame()\n",
    "\n",
    "# 데이터프레임 dong의 행 길이를 nrow에 할당합니다.\n",
    "nrow = len(dong)\n",
    "\n",
    "# 반복문을 실행합니다.\n",
    "for i in range(nrow):\n",
    "    \n",
    "    # 지역명을 설정합니다.\n",
    "    areaNm = dong['sido'][i] + ' ' + dong['sigg'][i]\n",
    "    \n",
    "    # 현재 진행상황을 출력합니다. 이 코드를 생략하면 진행상황을 알 수 없게 됩니다.\n",
    "    print(f'[{i+1}/{nrow}] {areaNm} 아파트 매매 데이터 수집 중!')\n",
    "    \n",
    "    # 지역코드를 설정합니다. 정수를 문자열로 변경한 다음, 처음 5글자만 잘라냅니다.\n",
    "    areaCd = dong['code'][i].astype(str)[0:5]\n",
    "    \n",
    "    # 거래 건수가 없으면 aptPrice() 함수는 에러를 발생하고 반복문이 중단됩니다.\n",
    "    # 따라서 try, except 문으로 에러가 발생하면 다음 자치구로 이동시킵니다.\n",
    "    try:\n",
    "        \n",
    "        # 서울특별시 자치구 단위로 거래 데이터를 수집합니다.\n",
    "        df = aptPrice(areaCd = areaCd, ymonth = ymonth, apiKey = apiKey)\n",
    "        \n",
    "        # 필요한 컬럼을 추가합니다.\n",
    "        df['시도'] = dong['sido'][i]\n",
    "        df['시군구'] = dong['sigg'][i]\n",
    "        \n",
    "        # 최종 결과 데이터프레임에 apt를 추가합니다.\n",
    "        # [참고] 인덱스가 중복되면 에러가 발생합니다.\n",
    "        apt = pd.concat(objs = [apt, df], ignore_index = True)\n",
    "    \n",
    "    except:\n",
    "        print('>> 거래 건수가 없습니다. 다음 자치구로 이동합니다!')\n",
    "        next\n",
    "    \n",
    "    # 1초 간 멈춥니다.\n",
    "    time.sleep(1)\n",
    "\n",
    "# 데이터 수집 완료\n",
    "print('>> 모든 데이터를 수집했습니다!')"
   ]
  },
  {
   "cell_type": "code",
   "execution_count": null,
   "metadata": {},
   "outputs": [],
   "source": [
    "# 최종 결과 데이터프레임의 정보를 확인합니다.\n",
    "apt.info()"
   ]
  },
  {
   "cell_type": "code",
   "execution_count": null,
   "metadata": {},
   "outputs": [],
   "source": [
    "# 시군구별 아파트매매 건수를 확인합니다.\n",
    "apt.groupby('시군구').count()['거래금액'].sort_values(ascending = False)"
   ]
  },
  {
   "cell_type": "markdown",
   "metadata": {},
   "source": [
    "### 엑셀 파일로 저장"
   ]
  },
  {
   "cell_type": "code",
   "execution_count": null,
   "metadata": {},
   "outputs": [],
   "source": [
    "# 저장할 엑셀 파일명을 생성합니다.\n",
    "file = f'APT_Price_Seoul_{ymonth}.xlsx'"
   ]
  },
  {
   "cell_type": "code",
   "execution_count": null,
   "metadata": {},
   "outputs": [],
   "source": [
    "# 엑셀 파일로 저장합니다.\n",
    "apt.to_excel(excel_writer = file, index = False)"
   ]
  },
  {
   "cell_type": "code",
   "execution_count": null,
   "metadata": {},
   "outputs": [],
   "source": [
    "# 작업경로에 포함된 폴더명과 파일명을 출력합니다.\n",
    "os.listdir()"
   ]
  },
  {
   "cell_type": "markdown",
   "metadata": {},
   "source": [
    "## End of Document"
   ]
  }
 ],
 "metadata": {
  "kernelspec": {
   "display_name": "Python 3 (ipykernel)",
   "language": "python",
   "name": "python3"
  },
  "language_info": {
   "codemirror_mode": {
    "name": "ipython",
    "version": 3
   },
   "file_extension": ".py",
   "mimetype": "text/x-python",
   "name": "python",
   "nbconvert_exporter": "python",
   "pygments_lexer": "ipython3",
   "version": "3.9.7"
  },
  "toc": {
   "base_numbering": 1,
   "nav_menu": {},
   "number_sections": true,
   "sideBar": true,
   "skip_h1_title": false,
   "title_cell": "Table of Contents",
   "title_sidebar": "Contents",
   "toc_cell": false,
   "toc_position": {},
   "toc_section_display": true,
   "toc_window_display": false
  },
  "varInspector": {
   "cols": {
    "lenName": 16,
    "lenType": 16,
    "lenVar": 40
   },
   "kernels_config": {
    "python": {
     "delete_cmd_postfix": "",
     "delete_cmd_prefix": "del ",
     "library": "var_list.py",
     "varRefreshCmd": "print(var_dic_list())"
    },
    "r": {
     "delete_cmd_postfix": ") ",
     "delete_cmd_prefix": "rm(",
     "library": "var_list.r",
     "varRefreshCmd": "cat(var_dic_list()) "
    }
   },
   "types_to_exclude": [
    "module",
    "function",
    "builtin_function_or_method",
    "instance",
    "_Feature"
   ],
   "window_display": false
  }
 },
 "nbformat": 4,
 "nbformat_minor": 4
}
