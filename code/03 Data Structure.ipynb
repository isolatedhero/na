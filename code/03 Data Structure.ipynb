{
 "cells": [
  {
   "cell_type": "markdown",
   "id": "96237ba2",
   "metadata": {},
   "source": [
    "## 자료구조(Data Structures)"
   ]
  },
  {
   "cell_type": "markdown",
   "id": "coastal-potter",
   "metadata": {},
   "source": [
    "### 리스트"
   ]
  },
  {
   "cell_type": "code",
   "execution_count": null,
   "id": "important-receiver",
   "metadata": {
    "ExecuteTime": {
     "end_time": "2022-06-12T06:39:00.528353Z",
     "start_time": "2022-06-12T06:39:00.517159Z"
    }
   },
   "outputs": [],
   "source": [
    "# 빈 리스트를 생성합니다.\n",
    "# [참고] 리스트를 생성할 때 대괄호 안에 원소를 콤마로 나열합니다. \n",
    "a = []\n",
    "a"
   ]
  },
  {
   "cell_type": "code",
   "execution_count": null,
   "id": "intense-wallace",
   "metadata": {
    "ExecuteTime": {
     "end_time": "2022-06-12T06:39:00.533431Z",
     "start_time": "2022-06-12T06:39:00.530363Z"
    }
   },
   "outputs": [],
   "source": [
    "# a의 클래스를 확인합니다. a의 클래스는 list입니다.\n",
    "type(a)"
   ]
  },
  {
   "cell_type": "code",
   "execution_count": null,
   "id": "innocent-hydrogen",
   "metadata": {
    "ExecuteTime": {
     "end_time": "2022-06-12T06:39:00.538238Z",
     "start_time": "2022-06-12T06:39:00.535027Z"
    }
   },
   "outputs": [],
   "source": [
    "# 리스트는 원소를 입력한 순서를 유지하며, 원소의 중복을 허용합니다.\n",
    "b = [1, 5, 3, 3]\n",
    "b"
   ]
  },
  {
   "cell_type": "code",
   "execution_count": null,
   "id": "e8099c6d",
   "metadata": {
    "ExecuteTime": {
     "end_time": "2022-06-12T06:39:00.543976Z",
     "start_time": "2022-06-12T06:39:00.540721Z"
    }
   },
   "outputs": [],
   "source": [
    "# 리스트의 길이(원소 개수)를 반환합니다.\n",
    "len(b)"
   ]
  },
  {
   "cell_type": "code",
   "execution_count": null,
   "id": "happy-handle",
   "metadata": {
    "ExecuteTime": {
     "end_time": "2022-06-12T06:39:00.548665Z",
     "start_time": "2022-06-12T06:39:00.545514Z"
    }
   },
   "outputs": [],
   "source": [
    "# 리스트는 다양한 자료형을 원소로 가질 수 있습니다.\n",
    "c = [1, 2.0, '3']\n",
    "c"
   ]
  },
  {
   "cell_type": "code",
   "execution_count": null,
   "id": "technological-password",
   "metadata": {
    "ExecuteTime": {
     "end_time": "2022-06-12T06:39:00.553385Z",
     "start_time": "2022-06-12T06:39:00.550187Z"
    }
   },
   "outputs": [],
   "source": [
    "# 리스트는 리스트를 원소로 가질 수 있습니다.\n",
    "[a, b, c]"
   ]
  },
  {
   "cell_type": "markdown",
   "id": "living-cornwall",
   "metadata": {},
   "source": [
    "### 리스트 연산자"
   ]
  },
  {
   "cell_type": "code",
   "execution_count": null,
   "id": "systematic-complexity",
   "metadata": {
    "ExecuteTime": {
     "end_time": "2022-06-12T06:39:00.558165Z",
     "start_time": "2022-06-12T06:39:00.555119Z"
    }
   },
   "outputs": [],
   "source": [
    "# + 연산자는 두 리스트를 결합합니다.\n",
    "b + c"
   ]
  },
  {
   "cell_type": "code",
   "execution_count": null,
   "id": "accompanied-cross",
   "metadata": {
    "ExecuteTime": {
     "end_time": "2022-06-12T06:39:00.562838Z",
     "start_time": "2022-06-12T06:39:00.559750Z"
    }
   },
   "outputs": [],
   "source": [
    "# * 연산자는 왼쪽 리스트를 오른쪽에 지정한 횟수만큼 반복합니다.\n",
    "c * 2"
   ]
  },
  {
   "cell_type": "code",
   "execution_count": null,
   "id": "behind-folks",
   "metadata": {
    "ExecuteTime": {
     "end_time": "2022-06-12T06:39:00.567586Z",
     "start_time": "2022-06-12T06:39:00.564538Z"
    }
   },
   "outputs": [],
   "source": [
    "# b에 정수 1이 있으면 True, 없으면 False를 반환합니다.\n",
    "1 in b"
   ]
  },
  {
   "cell_type": "code",
   "execution_count": null,
   "id": "automated-broad",
   "metadata": {
    "ExecuteTime": {
     "end_time": "2022-06-12T06:39:00.574600Z",
     "start_time": "2022-06-12T06:39:00.571261Z"
    }
   },
   "outputs": [],
   "source": [
    "# b에 정수 1이 없으면 True, 있으면 False를 반환합니다.\n",
    "1 not in b"
   ]
  },
  {
   "cell_type": "markdown",
   "id": "cognitive-survey",
   "metadata": {},
   "source": [
    "### 리스트 인덱싱"
   ]
  },
  {
   "cell_type": "code",
   "execution_count": null,
   "id": "naked-interface",
   "metadata": {
    "ExecuteTime": {
     "end_time": "2022-06-12T06:39:00.578380Z",
     "start_time": "2022-06-12T06:39:00.576154Z"
    }
   },
   "outputs": [],
   "source": [
    "# 실습할 리스트를 생성합니다.\n",
    "a = [1, 2, '3', '4', ['가', '나', '다']]"
   ]
  },
  {
   "cell_type": "code",
   "execution_count": null,
   "id": "careful-suffering",
   "metadata": {
    "ExecuteTime": {
     "end_time": "2022-06-12T06:39:00.583058Z",
     "start_time": "2022-06-12T06:39:00.580015Z"
    }
   },
   "outputs": [],
   "source": [
    "# a의 0번과 1번 인덱스 원소를 더합니다.\n",
    "a[0] + a[1]"
   ]
  },
  {
   "cell_type": "code",
   "execution_count": null,
   "id": "acute-charter",
   "metadata": {
    "ExecuteTime": {
     "end_time": "2022-06-12T06:39:00.587759Z",
     "start_time": "2022-06-12T06:39:00.584579Z"
    }
   },
   "outputs": [],
   "source": [
    "# a의 2번과 3번 인덱스 원소를 결합합니다.\n",
    "a[2] + a[3]"
   ]
  },
  {
   "cell_type": "code",
   "execution_count": null,
   "id": "adjusted-cincinnati",
   "metadata": {
    "ExecuteTime": {
     "end_time": "2022-06-12T06:39:00.592424Z",
     "start_time": "2022-06-12T06:39:00.589381Z"
    }
   },
   "outputs": [],
   "source": [
    "# a의 4번 인덱스 원소는 리스트이므로 대괄호를 이어서 사용하면 리스트의 원소를 반환합니다.\n",
    "a[4][0]"
   ]
  },
  {
   "cell_type": "markdown",
   "id": "desperate-television",
   "metadata": {},
   "source": [
    "### 리스트 슬라이싱"
   ]
  },
  {
   "cell_type": "code",
   "execution_count": null,
   "id": "received-cabinet",
   "metadata": {
    "ExecuteTime": {
     "end_time": "2022-06-12T06:39:00.597075Z",
     "start_time": "2022-06-12T06:39:00.593985Z"
    }
   },
   "outputs": [],
   "source": [
    "# a의 0~1번 인덱스 원소를 선택하고 리스트로 반환합니다.\n",
    "a[0:2]"
   ]
  },
  {
   "cell_type": "code",
   "execution_count": null,
   "id": "brief-symphony",
   "metadata": {
    "ExecuteTime": {
     "end_time": "2022-06-12T06:39:00.601748Z",
     "start_time": "2022-06-12T06:39:00.598731Z"
    }
   },
   "outputs": [],
   "source": [
    "# a의 2~3번 인덱스 원소를 선택하고 리스트로 반환합니다.\n",
    "a[2:4]"
   ]
  },
  {
   "cell_type": "code",
   "execution_count": null,
   "id": "unable-distinction",
   "metadata": {
    "ExecuteTime": {
     "end_time": "2022-06-12T06:39:00.606213Z",
     "start_time": "2022-06-12T06:39:00.603318Z"
    }
   },
   "outputs": [],
   "source": [
    "# a의 0~3번 인덱스 원소를 선택하고 리스트로 반환합니다.\n",
    "a[:4]"
   ]
  },
  {
   "cell_type": "code",
   "execution_count": null,
   "id": "elect-apparel",
   "metadata": {
    "ExecuteTime": {
     "end_time": "2022-06-12T06:39:00.610956Z",
     "start_time": "2022-06-12T06:39:00.607883Z"
    }
   },
   "outputs": [],
   "source": [
    "# a의 4번~마지막 원소를 선택하고 리스트로 반환합니다.\n",
    "a[4:]"
   ]
  },
  {
   "cell_type": "markdown",
   "id": "beneficial-horizontal",
   "metadata": {},
   "source": [
    "### [참고] 리스트 인덱싱 및 슬라이싱 관련 주의사항"
   ]
  },
  {
   "cell_type": "raw",
   "id": "09ab314e",
   "metadata": {},
   "source": [
    "# 대괄호 안에 아무것도 지정하지 않으면 에러가 발생합니다.\n",
    "a[]"
   ]
  },
  {
   "cell_type": "code",
   "execution_count": null,
   "id": "pointed-investor",
   "metadata": {
    "ExecuteTime": {
     "end_time": "2022-06-12T06:39:00.615449Z",
     "start_time": "2022-06-12T06:39:00.612576Z"
    }
   },
   "outputs": [],
   "source": [
    "# 빈 콜론을 지정하면 리스트의 전체 원소를 반환합니다.\n",
    "a[:]"
   ]
  },
  {
   "cell_type": "code",
   "execution_count": null,
   "id": "applied-mechanism",
   "metadata": {
    "ExecuteTime": {
     "end_time": "2022-06-12T06:39:00.619987Z",
     "start_time": "2022-06-12T06:39:00.616890Z"
    }
   },
   "outputs": [],
   "source": [
    "# 대괄호 안에 인덱스를 스칼라(길이가 1인 값)로 지정하면 해당 원소를 본래 자료형으로 반환합니다.\n",
    "a[0]"
   ]
  },
  {
   "cell_type": "code",
   "execution_count": null,
   "id": "therapeutic-ballet",
   "metadata": {
    "ExecuteTime": {
     "end_time": "2022-06-12T06:39:00.624818Z",
     "start_time": "2022-06-12T06:39:00.621713Z"
    }
   },
   "outputs": [],
   "source": [
    "# 대괄호 안에 콜론을 사용한 슬라이스를 지정하면 항상 리스트로 반환합니다.\n",
    "a[0:1]"
   ]
  },
  {
   "cell_type": "raw",
   "id": "5e58701f",
   "metadata": {},
   "source": [
    "# 대괄호 안에 리스트를 지정하면 에러가 발생합니다.\n",
    "a[[0, 2]]"
   ]
  },
  {
   "cell_type": "code",
   "execution_count": null,
   "id": "1aca7862",
   "metadata": {
    "ExecuteTime": {
     "end_time": "2022-06-12T06:39:00.633245Z",
     "start_time": "2022-06-12T06:39:00.630113Z"
    }
   },
   "outputs": [],
   "source": [
    "# 리스트의 0번과 2번 인덱스 원소를 선택하고 리스트로 반환합니다.\n",
    "[a[0], a[2]]"
   ]
  },
  {
   "cell_type": "markdown",
   "id": "funded-haiti",
   "metadata": {},
   "source": [
    "### range() 함수 사용법"
   ]
  },
  {
   "cell_type": "code",
   "execution_count": null,
   "id": "false-occupation",
   "metadata": {
    "ExecuteTime": {
     "end_time": "2022-06-12T06:39:00.637966Z",
     "start_time": "2022-06-12T06:39:00.634967Z"
    }
   },
   "outputs": [],
   "source": [
    "# 0부터 4까지 연속한 정수를 a에 할당하고 a를 출력합니다.\n",
    "a = range(5)\n",
    "a"
   ]
  },
  {
   "cell_type": "code",
   "execution_count": null,
   "id": "retained-creation",
   "metadata": {
    "ExecuteTime": {
     "end_time": "2022-06-12T06:39:00.642571Z",
     "start_time": "2022-06-12T06:39:00.639611Z"
    }
   },
   "outputs": [],
   "source": [
    "# a의 클래스를 확인합니다. a의 클래스는 range입니다.\n",
    "type(a)"
   ]
  },
  {
   "cell_type": "code",
   "execution_count": null,
   "id": "institutional-leadership",
   "metadata": {
    "ExecuteTime": {
     "end_time": "2022-06-12T06:39:00.647521Z",
     "start_time": "2022-06-12T06:39:00.644260Z"
    }
   },
   "outputs": [],
   "source": [
    "# a를 리스트로 변환하여 a에 재할당하고 a를 출력합니다.\n",
    "a = list(a)\n",
    "a"
   ]
  },
  {
   "cell_type": "code",
   "execution_count": null,
   "id": "5e22382a",
   "metadata": {
    "ExecuteTime": {
     "end_time": "2022-06-12T06:39:00.652194Z",
     "start_time": "2022-06-12T06:39:00.649262Z"
    }
   },
   "outputs": [],
   "source": [
    "# a의 클래스를 확인합니다. a의 클래스는 list입니다.\n",
    "type(a)"
   ]
  },
  {
   "cell_type": "code",
   "execution_count": null,
   "id": "tough-accounting",
   "metadata": {
    "ExecuteTime": {
     "end_time": "2022-06-12T06:39:00.657143Z",
     "start_time": "2022-06-12T06:39:00.653799Z"
    }
   },
   "outputs": [],
   "source": [
    "# 0이 아닌 정수로 시작하려면 range() 함수에 시작과 끝+1 정수를 지정합니다.\n",
    "list(range(1, 6))"
   ]
  },
  {
   "cell_type": "code",
   "execution_count": null,
   "id": "chief-herald",
   "metadata": {
    "ExecuteTime": {
     "end_time": "2022-06-12T06:39:00.661927Z",
     "start_time": "2022-06-12T06:39:00.658766Z"
    }
   },
   "outputs": [],
   "source": [
    "# 간격을 설정하려면 range() 함수에 시작, 끝+1 및 간격을 지정합니다.\n",
    "list(range(1, 11, 2))"
   ]
  },
  {
   "cell_type": "markdown",
   "id": "chronic-remove",
   "metadata": {},
   "source": [
    "### 이중 콜론 연산자"
   ]
  },
  {
   "cell_type": "code",
   "execution_count": null,
   "id": "sustained-alexandria",
   "metadata": {
    "ExecuteTime": {
     "end_time": "2022-06-12T06:39:00.666846Z",
     "start_time": "2022-06-12T06:39:00.663625Z"
    }
   },
   "outputs": [],
   "source": [
    "# 1부터 7까지 연속한 정수를 원소로 갖는 리스트를 a에 할당합니다.\n",
    "a = list(range(1, 8))\n",
    "a"
   ]
  },
  {
   "cell_type": "code",
   "execution_count": null,
   "id": "brown-reservoir",
   "metadata": {
    "ExecuteTime": {
     "end_time": "2022-06-12T06:39:00.671621Z",
     "start_time": "2022-06-12T06:39:00.668519Z"
    }
   },
   "outputs": [],
   "source": [
    "# 1~4번 인덱스 원소에서 두 칸 간격으로 원소를 선택하고 리스트로 반환합니다.\n",
    "a[1:5:2]"
   ]
  },
  {
   "cell_type": "code",
   "execution_count": null,
   "id": "cooperative-inventory",
   "metadata": {
    "ExecuteTime": {
     "end_time": "2022-06-12T06:39:00.676350Z",
     "start_time": "2022-06-12T06:39:00.673272Z"
    }
   },
   "outputs": [],
   "source": [
    "# 0~4번 인덱스 원소에서 두 칸 간격으로 인덱스 원소를 선택하고 리스트로 반환합니다.\n",
    "a[:5:2]"
   ]
  },
  {
   "cell_type": "code",
   "execution_count": null,
   "id": "northern-final",
   "metadata": {
    "ExecuteTime": {
     "end_time": "2022-06-12T06:39:00.681063Z",
     "start_time": "2022-06-12T06:39:00.678002Z"
    }
   },
   "outputs": [],
   "source": [
    "# 1번 인덱스 원소부터 마지막 원소까지 두 칸 간격으로 원소를 선택하고 리스트로 반환합니다.\n",
    "a[1::2]"
   ]
  },
  {
   "cell_type": "code",
   "execution_count": null,
   "id": "acknowledged-arthritis",
   "metadata": {
    "ExecuteTime": {
     "end_time": "2022-06-12T06:39:00.685866Z",
     "start_time": "2022-06-12T06:39:00.682736Z"
    }
   },
   "outputs": [],
   "source": [
    "# 처음부터 마지막 원소까지 두 칸 간격으로 원소를 선택하고 리스트로 반환합니다.\n",
    "a[::2]"
   ]
  },
  {
   "cell_type": "code",
   "execution_count": null,
   "id": "municipal-yellow",
   "metadata": {
    "ExecuteTime": {
     "end_time": "2022-06-12T06:39:00.690642Z",
     "start_time": "2022-06-12T06:39:00.687446Z"
    }
   },
   "outputs": [],
   "source": [
    "# 전체 원소를 역순으로 반환합니다. [주의] 내림차순 정렬이 아닙니다.\n",
    "a[::-1]"
   ]
  },
  {
   "cell_type": "markdown",
   "id": "expressed-inflation",
   "metadata": {},
   "source": [
    "### 리스트 원소 추가 및 삽입"
   ]
  },
  {
   "cell_type": "code",
   "execution_count": null,
   "id": "simplified-artwork",
   "metadata": {
    "ExecuteTime": {
     "end_time": "2022-06-12T06:39:00.695428Z",
     "start_time": "2022-06-12T06:39:00.692204Z"
    }
   },
   "outputs": [],
   "source": [
    "# 정수 5를 리스트의 마지막 원소로 추가합니다.\n",
    "a.append(5)\n",
    "a"
   ]
  },
  {
   "cell_type": "code",
   "execution_count": null,
   "id": "canadian-anniversary",
   "metadata": {
    "ExecuteTime": {
     "end_time": "2022-06-12T06:39:00.700160Z",
     "start_time": "2022-06-12T06:39:00.697094Z"
    }
   },
   "outputs": [],
   "source": [
    "# 리스트 [6, 7]을 리스트의 마지막 원소로 추가합니다.\n",
    "a.append([6, 7])\n",
    "a"
   ]
  },
  {
   "cell_type": "code",
   "execution_count": null,
   "id": "intended-thanksgiving",
   "metadata": {
    "ExecuteTime": {
     "end_time": "2022-06-12T06:39:00.705067Z",
     "start_time": "2022-06-12T06:39:00.701718Z"
    }
   },
   "outputs": [],
   "source": [
    "# 정수 8, 9를 리스트의 마지막 원소로 추가합니다.\n",
    "a.extend([8, 9])\n",
    "a"
   ]
  },
  {
   "cell_type": "code",
   "execution_count": null,
   "id": "failing-reliance",
   "metadata": {
    "ExecuteTime": {
     "end_time": "2022-06-12T06:39:00.710121Z",
     "start_time": "2022-06-12T06:39:00.706823Z"
    }
   },
   "outputs": [],
   "source": [
    "# 리스트의 1번 인덱스에 리스트 [6, 7]을 삽입합니다.\n",
    "a.insert(1, [6, 7])\n",
    "a"
   ]
  },
  {
   "cell_type": "markdown",
   "id": "288e3e4d",
   "metadata": {},
   "source": [
    "### 리스트 원소 삭제"
   ]
  },
  {
   "cell_type": "code",
   "execution_count": null,
   "id": "filled-tracker",
   "metadata": {
    "ExecuteTime": {
     "end_time": "2022-06-12T06:39:00.715131Z",
     "start_time": "2022-06-12T06:39:00.711713Z"
    }
   },
   "outputs": [],
   "source": [
    "# 리스트에서 원소 [6, 7]을 삭제합니다.\n",
    "a.remove([6, 7])\n",
    "a"
   ]
  },
  {
   "cell_type": "code",
   "execution_count": null,
   "id": "34cbac59",
   "metadata": {
    "ExecuteTime": {
     "end_time": "2022-06-12T06:39:00.719752Z",
     "start_time": "2022-06-12T06:39:00.716678Z"
    }
   },
   "outputs": [],
   "source": [
    "# 리스트에서 원소 [6, 7]을 한 번 더 삭제합니다.\n",
    "a.remove([6, 7])\n",
    "a"
   ]
  },
  {
   "cell_type": "raw",
   "id": "b4b94bd8",
   "metadata": {},
   "source": [
    "# 리스트에 원소 [6, 7]이 없으므로 에러가 발생합니다.\n",
    "a.remove([6, 7])"
   ]
  },
  {
   "cell_type": "code",
   "execution_count": null,
   "id": "given-animation",
   "metadata": {
    "ExecuteTime": {
     "end_time": "2022-06-12T06:39:00.724594Z",
     "start_time": "2022-06-12T06:39:00.721351Z"
    }
   },
   "outputs": [],
   "source": [
    "# 리스트의 6번 인덱스 원소를 출력하고 해당 원소를 삭제합니다.\n",
    "a.pop(6)\n",
    "a"
   ]
  },
  {
   "cell_type": "code",
   "execution_count": null,
   "id": "9bfda07e",
   "metadata": {
    "ExecuteTime": {
     "end_time": "2022-06-12T06:39:00.729197Z",
     "start_time": "2022-06-12T06:39:00.726156Z"
    }
   },
   "outputs": [],
   "source": [
    "# 리스트의 마지막 원소를 출력하고 해당 원소를 삭제합니다.\n",
    "a.pop()\n",
    "a"
   ]
  },
  {
   "cell_type": "markdown",
   "id": "numerous-boundary",
   "metadata": {},
   "source": [
    "### 리스트 원소 변경"
   ]
  },
  {
   "cell_type": "code",
   "execution_count": null,
   "id": "dangerous-clarity",
   "metadata": {
    "ExecuteTime": {
     "end_time": "2022-06-12T06:39:00.734095Z",
     "start_time": "2022-06-12T06:39:00.730874Z"
    }
   },
   "outputs": [],
   "source": [
    "# 리스트의 1번 인덱스 원소를 정수 6으로 변경합니다.\n",
    "a[1] = 6\n",
    "a"
   ]
  },
  {
   "cell_type": "code",
   "execution_count": null,
   "id": "original-fitness",
   "metadata": {
    "ExecuteTime": {
     "end_time": "2022-06-12T06:39:00.738894Z",
     "start_time": "2022-06-12T06:39:00.735687Z"
    }
   },
   "outputs": [],
   "source": [
    "# 리스트의 3~4번 인덱스 원소를 리스트 [7, 8]의 원소로 변경합니다.\n",
    "# [참고] 왼쪽 리스트 원소 개수와 오른쪽 리스트 원소 개수가 다를 수 있습니다.\n",
    "a[3:5] = [7, 8]\n",
    "a"
   ]
  },
  {
   "cell_type": "code",
   "execution_count": null,
   "id": "laughing-bradford",
   "metadata": {
    "ExecuteTime": {
     "end_time": "2022-06-12T06:39:00.743699Z",
     "start_time": "2022-06-12T06:39:00.740435Z"
    }
   },
   "outputs": [],
   "source": [
    "# 리스트의 2번 인덱스 원소를 리스트 [3, 4]로 변경합니다.\n",
    "a[2] = [3, 4]\n",
    "a"
   ]
  },
  {
   "cell_type": "markdown",
   "id": "backed-cosmetic",
   "metadata": {},
   "source": [
    "### 리스트 원소 확인"
   ]
  },
  {
   "cell_type": "code",
   "execution_count": null,
   "id": "north-gothic",
   "metadata": {
    "ExecuteTime": {
     "end_time": "2022-06-12T06:39:00.754816Z",
     "start_time": "2022-06-12T06:39:00.751461Z"
    }
   },
   "outputs": [],
   "source": [
    "# 리스트에서 원소 6의 개수를 반환합니다.\n",
    "a.count(6)"
   ]
  },
  {
   "cell_type": "code",
   "execution_count": null,
   "id": "finite-humanitarian",
   "metadata": {
    "ExecuteTime": {
     "end_time": "2022-06-12T06:39:00.759264Z",
     "start_time": "2022-06-12T06:39:00.756093Z"
    }
   },
   "outputs": [],
   "source": [
    "# 리스트에 원소 3이 없으므로 0을 반환합니다.\n",
    "a.count(3)"
   ]
  },
  {
   "cell_type": "code",
   "execution_count": null,
   "id": "heated-conversation",
   "metadata": {
    "ExecuteTime": {
     "end_time": "2022-06-12T06:39:00.764155Z",
     "start_time": "2022-06-12T06:39:00.761050Z"
    }
   },
   "outputs": [],
   "source": [
    "# 리스트에서 원소 6이 처음 나오는 인덱스를 반환합니다.\n",
    "a.index(6)"
   ]
  },
  {
   "cell_type": "raw",
   "id": "4bc3a150",
   "metadata": {},
   "source": [
    "# 리스트에 원소 3이 없으므로 에러가 발생합니다.\n",
    "a.index(3)"
   ]
  },
  {
   "cell_type": "raw",
   "id": "f1726a52",
   "metadata": {},
   "source": [
    "# 리스트에 find() 함수가 없으므로 에러가 발생합니다.\n",
    "a.find(3)"
   ]
  },
  {
   "cell_type": "markdown",
   "id": "soviet-highland",
   "metadata": {},
   "source": [
    "### 리스트 원소 정렬"
   ]
  },
  {
   "cell_type": "raw",
   "id": "cce85622",
   "metadata": {},
   "source": [
    "# 리스트 원소에 자료형이 섞여 있으면 원소를 정렬할 수 없으므로 에러가 발생합니다.\n",
    "a.sort()"
   ]
  },
  {
   "cell_type": "code",
   "execution_count": null,
   "id": "indie-religion",
   "metadata": {
    "ExecuteTime": {
     "end_time": "2022-06-12T06:39:00.767873Z",
     "start_time": "2022-06-12T06:39:00.765680Z"
    }
   },
   "outputs": [],
   "source": [
    "# 리스트에서 원소 [3, 4]를 삭제합니다.\n",
    "a.remove([3, 4])"
   ]
  },
  {
   "cell_type": "code",
   "execution_count": null,
   "id": "opposite-mozambique",
   "metadata": {
    "ExecuteTime": {
     "end_time": "2022-06-12T06:39:00.772598Z",
     "start_time": "2022-06-12T06:39:00.769525Z"
    }
   },
   "outputs": [],
   "source": [
    "# 리스트 원소를 오름차순 정렬합니다.\n",
    "a.sort()\n",
    "a"
   ]
  },
  {
   "cell_type": "code",
   "execution_count": null,
   "id": "7083c218",
   "metadata": {
    "ExecuteTime": {
     "end_time": "2022-06-12T06:39:00.777433Z",
     "start_time": "2022-06-12T06:39:00.774168Z"
    }
   },
   "outputs": [],
   "source": [
    "# 리스트 원소를 내림차순 정렬합니다.\n",
    "a.sort(reverse = True)\n",
    "a"
   ]
  },
  {
   "cell_type": "code",
   "execution_count": null,
   "id": "modular-complement",
   "metadata": {
    "ExecuteTime": {
     "end_time": "2022-06-12T06:39:00.782115Z",
     "start_time": "2022-06-12T06:39:00.778992Z"
    }
   },
   "outputs": [],
   "source": [
    "# 리스트 원소를 역순으로 변경합니다.\n",
    "c.reverse()\n",
    "c"
   ]
  },
  {
   "cell_type": "markdown",
   "id": "joined-platform",
   "metadata": {},
   "source": [
    "### 튜플"
   ]
  },
  {
   "cell_type": "code",
   "execution_count": null,
   "id": "internal-lease",
   "metadata": {
    "ExecuteTime": {
     "end_time": "2022-06-12T06:39:00.786974Z",
     "start_time": "2022-06-12T06:39:00.783761Z"
    }
   },
   "outputs": [],
   "source": [
    "# 튜플을 생성합니다.\n",
    "# [참고] 튜플을 생성할 때 소괄호 안에 원소를 콤마로 나열합니다.\n",
    "t = (1, 2.0, '3')\n",
    "t"
   ]
  },
  {
   "cell_type": "code",
   "execution_count": null,
   "id": "unlike-bracelet",
   "metadata": {
    "ExecuteTime": {
     "end_time": "2022-06-12T06:39:00.791441Z",
     "start_time": "2022-06-12T06:39:00.788517Z"
    }
   },
   "outputs": [],
   "source": [
    "# t의 클래스를 확인합니다. t의 클래스는 tuple입니다.\n",
    "type(t)"
   ]
  },
  {
   "cell_type": "code",
   "execution_count": null,
   "id": "insured-criminal",
   "metadata": {
    "ExecuteTime": {
     "end_time": "2022-06-12T06:39:00.795997Z",
     "start_time": "2022-06-12T06:39:00.793017Z"
    }
   },
   "outputs": [],
   "source": [
    "# tuple() 클래스 함수는 리스트를 튜플로 변환합니다.\n",
    "tuple(c)"
   ]
  },
  {
   "cell_type": "code",
   "execution_count": null,
   "id": "842ab841",
   "metadata": {
    "ExecuteTime": {
     "end_time": "2022-06-12T06:39:00.800283Z",
     "start_time": "2022-06-12T06:39:00.797647Z"
    }
   },
   "outputs": [],
   "source": [
    "# list() 클래스 함수는 튜플을 리스트로 변환합니다.\n",
    "list(t)"
   ]
  },
  {
   "cell_type": "raw",
   "id": "2578aabb",
   "metadata": {},
   "source": [
    "# 튜플에 append() 함수가 없으므로 에러가 발생합니다.\n",
    "t.append(4)"
   ]
  },
  {
   "cell_type": "raw",
   "id": "e165f01a",
   "metadata": {},
   "source": [
    "# 튜플에 remove() 함수가 없으므로 에러가 발생합니다.\n",
    "t.remove(1)"
   ]
  },
  {
   "cell_type": "raw",
   "id": "f5e18388",
   "metadata": {},
   "source": [
    "# 튜플은 원소를 할당할 수 없으므로 에러가 발생합니다.\n",
    "t[2] = 3"
   ]
  },
  {
   "cell_type": "markdown",
   "id": "varying-northern",
   "metadata": {},
   "source": [
    "### 딕셔너리"
   ]
  },
  {
   "cell_type": "code",
   "execution_count": null,
   "id": "protected-unknown",
   "metadata": {
    "ExecuteTime": {
     "end_time": "2022-06-12T06:39:00.805083Z",
     "start_time": "2022-06-12T06:39:00.801784Z"
    }
   },
   "outputs": [],
   "source": [
    "# 딕셔너리를 생성합니다.\n",
    "# [참고] 딕셔너리를 생성할 때 중괄호 안에 'key': value를 콤마로 연결합니다.\n",
    "d = {'item': 'pants', 'size': ['S', 'M', 'L']}\n",
    "d"
   ]
  },
  {
   "cell_type": "code",
   "execution_count": null,
   "id": "three-classics",
   "metadata": {
    "ExecuteTime": {
     "end_time": "2022-06-12T06:39:00.809436Z",
     "start_time": "2022-06-12T06:39:00.806718Z"
    }
   },
   "outputs": [],
   "source": [
    "# d의 클래스를 확인합니다. d의 클래스는 dict입니다.\n",
    "type(d)"
   ]
  },
  {
   "cell_type": "code",
   "execution_count": null,
   "id": "1840bf1d",
   "metadata": {
    "ExecuteTime": {
     "end_time": "2022-06-12T06:39:00.814271Z",
     "start_time": "2022-06-12T06:39:00.811039Z"
    }
   },
   "outputs": [],
   "source": [
    "# 같은 값을 원소로 갖는 리스트와 비교합니다.\n",
    "a = ['pants', ['S', 'M', 'L']]\n",
    "a"
   ]
  },
  {
   "cell_type": "markdown",
   "id": "137e7ae5",
   "metadata": {},
   "source": [
    "### [참고] dict() 클래스 함수 사용법"
   ]
  },
  {
   "cell_type": "code",
   "execution_count": null,
   "id": "further-elimination",
   "metadata": {
    "ExecuteTime": {
     "end_time": "2022-06-12T06:39:00.818896Z",
     "start_time": "2022-06-12T06:39:00.815952Z"
    }
   },
   "outputs": [],
   "source": [
    "# dict() 클래스 함수는 키를 따옴표로 감싸지 않고 콜론 대신 등호를 사용합니다.\n",
    "dict(item = 'pants', size = ['S', 'M', 'L'])"
   ]
  },
  {
   "cell_type": "raw",
   "id": "dc0d7bd8",
   "metadata": {},
   "source": [
    "# 키를 따옴표로 감싸면 에러가 발생합니다.\n",
    "dict('item' = 'pants', 'size' = ['S', 'M', 'L'])"
   ]
  },
  {
   "cell_type": "raw",
   "id": "3dea6b3a",
   "metadata": {},
   "source": [
    "# 등호 대신 콜론을 사용하면 에러가 발생합니다.\n",
    "dict(item: 'pants', size: ['S', 'M', 'L'])"
   ]
  },
  {
   "cell_type": "code",
   "execution_count": null,
   "id": "31720b1f",
   "metadata": {
    "ExecuteTime": {
     "end_time": "2022-06-12T06:39:00.824286Z",
     "start_time": "2022-06-12T06:39:00.820768Z"
    }
   },
   "outputs": [],
   "source": [
    "# 빈 딕셔너리를 생성합니다.\n",
    "dict()"
   ]
  },
  {
   "cell_type": "markdown",
   "id": "strategic-flood",
   "metadata": {},
   "source": [
    "### 딕셔너리 원소 확인 및 선택"
   ]
  },
  {
   "cell_type": "code",
   "execution_count": null,
   "id": "forced-ebony",
   "metadata": {
    "ExecuteTime": {
     "end_time": "2022-06-12T06:39:00.829659Z",
     "start_time": "2022-06-12T06:39:00.826001Z"
    }
   },
   "outputs": [],
   "source": [
    "# d에 'item'인 키가 있으면 True, 없으면 False를 반환합니다.\n",
    "'item' in d"
   ]
  },
  {
   "cell_type": "code",
   "execution_count": null,
   "id": "be17cdf5",
   "metadata": {
    "ExecuteTime": {
     "end_time": "2022-06-12T06:39:00.837055Z",
     "start_time": "2022-06-12T06:39:00.831647Z"
    }
   },
   "outputs": [],
   "source": [
    "# d에 'shop'인 키가 있으면 True, 없으면 False를 반환합니다.\n",
    "'shop' in d"
   ]
  },
  {
   "cell_type": "code",
   "execution_count": null,
   "id": "elegant-patent",
   "metadata": {
    "ExecuteTime": {
     "end_time": "2022-06-12T06:39:00.842285Z",
     "start_time": "2022-06-12T06:39:00.839114Z"
    }
   },
   "outputs": [],
   "source": [
    "# d에서 키가 'item'인 값을 반환합니다.\n",
    "d['item']"
   ]
  },
  {
   "cell_type": "raw",
   "id": "a38ec196",
   "metadata": {},
   "source": [
    "# d에서 키가 'shop'인 값을 반환합니다. \n",
    "# [주의] 딕셔너리에 없는 키를 입력하면 에러가 발생합니다.\n",
    "d['shop']"
   ]
  },
  {
   "cell_type": "markdown",
   "id": "armed-african",
   "metadata": {},
   "source": [
    "### 딕셔너리 원소 추가, 삭제 및 변경"
   ]
  },
  {
   "cell_type": "code",
   "execution_count": null,
   "id": "julian-ocean",
   "metadata": {
    "ExecuteTime": {
     "end_time": "2022-06-12T06:39:00.852670Z",
     "start_time": "2022-06-12T06:39:00.849270Z"
    }
   },
   "outputs": [],
   "source": [
    "# d에 키가 'shop', 값이 'A1'인 원소를 추가합니다.\n",
    "d['shop'] = 'A1'\n",
    "d"
   ]
  },
  {
   "cell_type": "code",
   "execution_count": null,
   "id": "amateur-insulin",
   "metadata": {
    "ExecuteTime": {
     "end_time": "2022-06-12T06:39:00.857295Z",
     "start_time": "2022-06-12T06:39:00.854349Z"
    }
   },
   "outputs": [],
   "source": [
    "# d에서 키가 'item'인 원소를 삭제합니다.\n",
    "del d['item']\n",
    "d"
   ]
  },
  {
   "cell_type": "code",
   "execution_count": null,
   "id": "sapphire-plaza",
   "metadata": {
    "ExecuteTime": {
     "end_time": "2022-06-12T06:39:00.862039Z",
     "start_time": "2022-06-12T06:39:00.858764Z"
    }
   },
   "outputs": [],
   "source": [
    "# d에서 키가 'shop'인 값을 'A2'로 변경합니다.\n",
    "d['shop'] = 'A2'\n",
    "d"
   ]
  },
  {
   "cell_type": "markdown",
   "id": "manual-estate",
   "metadata": {},
   "source": [
    "### [참고] 딕셔너리 키와 값 반환"
   ]
  },
  {
   "cell_type": "code",
   "execution_count": null,
   "id": "national-swimming",
   "metadata": {
    "ExecuteTime": {
     "end_time": "2022-06-12T06:39:00.866443Z",
     "start_time": "2022-06-12T06:39:00.863601Z"
    }
   },
   "outputs": [],
   "source": [
    "# 딕셔너리의 키를 dict_keys 클래스로 반환합니다.\n",
    "d.keys()"
   ]
  },
  {
   "cell_type": "code",
   "execution_count": null,
   "id": "parallel-compound",
   "metadata": {
    "ExecuteTime": {
     "end_time": "2022-06-12T06:39:00.871023Z",
     "start_time": "2022-06-12T06:39:00.867987Z"
    }
   },
   "outputs": [],
   "source": [
    "# 딕셔너리의 값을 dict_values 클래스로 반환합니다.\n",
    "d.values()"
   ]
  },
  {
   "cell_type": "code",
   "execution_count": null,
   "id": "f62bda56",
   "metadata": {
    "ExecuteTime": {
     "end_time": "2022-06-12T06:39:00.875613Z",
     "start_time": "2022-06-12T06:39:00.872634Z"
    }
   },
   "outputs": [],
   "source": [
    "# 딕셔너리의 키와 값의 쌍을 튜플로 묶어서 dict_items 클래스로 반환합니다.\n",
    "d.items()"
   ]
  },
  {
   "cell_type": "code",
   "execution_count": null,
   "id": "f5f7f928",
   "metadata": {
    "ExecuteTime": {
     "end_time": "2022-06-12T06:39:00.879879Z",
     "start_time": "2022-06-12T06:39:00.877125Z"
    }
   },
   "outputs": [],
   "source": [
    "# 반복문으로 딕셔너리의 키와 값을 차례대로 출력합니다.\n",
    "for item in d.items():\n",
    "    print(item)"
   ]
  },
  {
   "cell_type": "markdown",
   "id": "electronic-henry",
   "metadata": {},
   "source": [
    "### 집합"
   ]
  },
  {
   "cell_type": "code",
   "execution_count": null,
   "id": "martial-compact",
   "metadata": {
    "ExecuteTime": {
     "end_time": "2022-06-12T06:39:00.884719Z",
     "start_time": "2022-06-12T06:39:00.881502Z"
    }
   },
   "outputs": [],
   "source": [
    "# 집합을 생성합니다.\n",
    "# [참고] 집합을 생성할 때 중괄호 안에 원소를 콤마로 나열합니다.\n",
    "s = {3, 1, 2, 1}\n",
    "s"
   ]
  },
  {
   "cell_type": "code",
   "execution_count": null,
   "id": "plastic-honduras",
   "metadata": {
    "ExecuteTime": {
     "end_time": "2022-06-12T06:39:00.889136Z",
     "start_time": "2022-06-12T06:39:00.886267Z"
    }
   },
   "outputs": [],
   "source": [
    "# s의 클래스를 확인합니다. s의 클래스는 set입니다.\n",
    "type(s)"
   ]
  },
  {
   "cell_type": "code",
   "execution_count": null,
   "id": "satisfactory-gossip",
   "metadata": {
    "ExecuteTime": {
     "end_time": "2022-06-12T06:39:00.893774Z",
     "start_time": "2022-06-12T06:39:00.890726Z"
    }
   },
   "outputs": [],
   "source": [
    "# set() 클래스 함수는 리스트를 집합으로 변환합니다.\n",
    "set(b)"
   ]
  },
  {
   "cell_type": "code",
   "execution_count": null,
   "id": "0662875d",
   "metadata": {
    "ExecuteTime": {
     "end_time": "2022-06-12T06:39:00.898219Z",
     "start_time": "2022-06-12T06:39:00.895359Z"
    }
   },
   "outputs": [],
   "source": [
    "# list() 클래스 함수는 집합을 리스트로 변환합니다.\n",
    "list(s)"
   ]
  },
  {
   "cell_type": "code",
   "execution_count": null,
   "id": "d8d385b4",
   "metadata": {
    "ExecuteTime": {
     "end_time": "2022-06-12T06:39:00.902712Z",
     "start_time": "2022-06-12T06:39:00.899857Z"
    }
   },
   "outputs": [],
   "source": [
    "# 두 집합의 교집합을 반환합니다.\n",
    "s & set(b)"
   ]
  },
  {
   "cell_type": "code",
   "execution_count": null,
   "id": "1b78539c",
   "metadata": {
    "ExecuteTime": {
     "end_time": "2022-06-12T06:39:00.907280Z",
     "start_time": "2022-06-12T06:39:00.904268Z"
    }
   },
   "outputs": [],
   "source": [
    "# 두 집합의 합집합을 반환합니다.\n",
    "s | set(b)"
   ]
  },
  {
   "cell_type": "code",
   "execution_count": null,
   "id": "badcb0a6",
   "metadata": {
    "ExecuteTime": {
     "end_time": "2022-06-12T06:39:00.911704Z",
     "start_time": "2022-06-12T06:39:00.908892Z"
    }
   },
   "outputs": [],
   "source": [
    "# 두 집합의 차집합을 반환합니다.\n",
    "s - set(b)"
   ]
  },
  {
   "cell_type": "markdown",
   "id": "0bdbd753",
   "metadata": {},
   "source": [
    "### [참고] 집합 원소 생성 기준"
   ]
  },
  {
   "cell_type": "code",
   "execution_count": null,
   "id": "559bde30",
   "metadata": {
    "ExecuteTime": {
     "end_time": "2022-06-12T06:39:00.916273Z",
     "start_time": "2022-06-12T06:39:00.913257Z"
    }
   },
   "outputs": [],
   "source": [
    "# 정수와 실수는 앞선 자료형으로 적용합니다.\n",
    "{1, 1.0, 2.0, 2}"
   ]
  },
  {
   "cell_type": "code",
   "execution_count": null,
   "id": "f56631fc",
   "metadata": {
    "ExecuteTime": {
     "end_time": "2022-06-12T06:39:00.920927Z",
     "start_time": "2022-06-12T06:39:00.917885Z"
    }
   },
   "outputs": [],
   "source": [
    "# 문자열은 정수/실수와 별개로 존재합니다.\n",
    "{1, '1'}"
   ]
  },
  {
   "cell_type": "code",
   "execution_count": null,
   "id": "7c7f55a2",
   "metadata": {
    "ExecuteTime": {
     "end_time": "2022-06-12T06:39:00.925257Z",
     "start_time": "2022-06-12T06:39:00.922443Z"
    }
   },
   "outputs": [],
   "source": [
    "# 정수, 문자열, 실수 순서로 정렬합니다.\n",
    "{1.0, 1, '1'}"
   ]
  },
  {
   "cell_type": "code",
   "execution_count": null,
   "id": "99b2ef1f",
   "metadata": {
    "ExecuteTime": {
     "end_time": "2022-06-12T06:39:00.929621Z",
     "start_time": "2022-06-12T06:39:00.926889Z"
    }
   },
   "outputs": [],
   "source": [
    "# 교집합은 오른쪽 집합의 자료형을 따릅니다.\n",
    "{1} & {1.0}"
   ]
  },
  {
   "cell_type": "code",
   "execution_count": null,
   "id": "d962fad3",
   "metadata": {
    "ExecuteTime": {
     "end_time": "2022-06-12T06:39:00.933904Z",
     "start_time": "2022-06-12T06:39:00.931198Z"
    }
   },
   "outputs": [],
   "source": [
    "# 교집합은 왼쪽 집합의 자료형을 따릅니다.\n",
    "{1} | {1.0}"
   ]
  },
  {
   "cell_type": "code",
   "execution_count": null,
   "id": "6fe187c0",
   "metadata": {
    "ExecuteTime": {
     "end_time": "2022-06-12T06:39:00.938319Z",
     "start_time": "2022-06-12T06:39:00.935375Z"
    }
   },
   "outputs": [],
   "source": [
    "# 차집합은 왼쪽 집합의 자료형을 따릅니다.\n",
    "{1, 2} - {1.0}"
   ]
  },
  {
   "cell_type": "markdown",
   "id": "alive-supply",
   "metadata": {},
   "source": [
    "## End of Document"
   ]
  }
 ],
 "metadata": {
  "kernelspec": {
   "display_name": "Python 3",
   "language": "python",
   "name": "python3"
  },
  "language_info": {
   "codemirror_mode": {
    "name": "ipython",
    "version": 3
   },
   "file_extension": ".py",
   "mimetype": "text/x-python",
   "name": "python",
   "nbconvert_exporter": "python",
   "pygments_lexer": "ipython3",
   "version": "3.10.4"
  },
  "toc": {
   "base_numbering": 1,
   "nav_menu": {},
   "number_sections": false,
   "sideBar": true,
   "skip_h1_title": false,
   "title_cell": "Table of Contents",
   "title_sidebar": "Contents",
   "toc_cell": false,
   "toc_position": {},
   "toc_section_display": true,
   "toc_window_display": false
  },
  "varInspector": {
   "cols": {
    "lenName": 16,
    "lenType": 16,
    "lenVar": 40
   },
   "kernels_config": {
    "python": {
     "delete_cmd_postfix": "",
     "delete_cmd_prefix": "del ",
     "library": "var_list.py",
     "varRefreshCmd": "print(var_dic_list())"
    },
    "r": {
     "delete_cmd_postfix": ") ",
     "delete_cmd_prefix": "rm(",
     "library": "var_list.r",
     "varRefreshCmd": "cat(var_dic_list()) "
    }
   },
   "types_to_exclude": [
    "module",
    "function",
    "builtin_function_or_method",
    "instance",
    "_Feature"
   ],
   "window_display": false
  }
 },
 "nbformat": 4,
 "nbformat_minor": 5
}
