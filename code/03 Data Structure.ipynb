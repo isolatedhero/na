{
 "cells": [
  {
   "cell_type": "markdown",
   "id": "96237ba2",
   "metadata": {},
   "source": [
    "## 자료구조(Data Structures)"
   ]
  },
  {
   "cell_type": "markdown",
   "id": "coastal-potter",
   "metadata": {},
   "source": [
    "### 리스트"
   ]
  },
  {
   "cell_type": "code",
   "execution_count": null,
   "id": "important-receiver",
   "metadata": {},
   "outputs": [],
   "source": [
    "# 빈 리스트를 생성합니다. 리스트를 생성할 때 대괄호 안에 원소를 콤마로 나열합니다. \n",
    "a = []\n",
    "a"
   ]
  },
  {
   "cell_type": "code",
   "execution_count": null,
   "id": "intense-wallace",
   "metadata": {},
   "outputs": [],
   "source": [
    "# a의 클래스를 확인합니다. a의 클래스는 list입니다.\n",
    "type(a)"
   ]
  },
  {
   "cell_type": "code",
   "execution_count": null,
   "id": "innocent-hydrogen",
   "metadata": {},
   "outputs": [],
   "source": [
    "# 리스트는 원소를 입력한 순서를 유지합니다.\n",
    "b = [1, 5, 3]\n",
    "b"
   ]
  },
  {
   "cell_type": "code",
   "execution_count": null,
   "id": "e8099c6d",
   "metadata": {},
   "outputs": [],
   "source": [
    "# 리스트의 길이(원소 개수)를 반환합니다.\n",
    "len(b)"
   ]
  },
  {
   "cell_type": "code",
   "execution_count": null,
   "id": "happy-handle",
   "metadata": {},
   "outputs": [],
   "source": [
    "# 리스트는 다양한 자료형을 원소로 가질 수 있습니다.\n",
    "c = [1, 2.0, '3']\n",
    "c"
   ]
  },
  {
   "cell_type": "code",
   "execution_count": null,
   "id": "technological-password",
   "metadata": {},
   "outputs": [],
   "source": [
    "# 리스트는 리스트를 원소로 가질 수 있습니다.\n",
    "[a, b, c]"
   ]
  },
  {
   "cell_type": "markdown",
   "id": "living-cornwall",
   "metadata": {},
   "source": [
    "### 리스트 연산자"
   ]
  },
  {
   "cell_type": "code",
   "execution_count": null,
   "id": "systematic-complexity",
   "metadata": {},
   "outputs": [],
   "source": [
    "# + 연산자는 두 리스트를 결합합니다.\n",
    "b + c"
   ]
  },
  {
   "cell_type": "code",
   "execution_count": null,
   "id": "accompanied-cross",
   "metadata": {},
   "outputs": [],
   "source": [
    "# * 연산자는 왼쪽 리스트를 오른쪽에 지정한 횟수만큼 반복합니다.\n",
    "c * 2"
   ]
  },
  {
   "cell_type": "code",
   "execution_count": null,
   "id": "behind-folks",
   "metadata": {},
   "outputs": [],
   "source": [
    "# b에 정수 1이 있으면 True, 없으면 False를 반환합니다.\n",
    "1 in b"
   ]
  },
  {
   "cell_type": "code",
   "execution_count": null,
   "id": "automated-broad",
   "metadata": {},
   "outputs": [],
   "source": [
    "# b에 정수 1이 없으면 True, 있으면 False를 반환합니다.\n",
    "1 not in b"
   ]
  },
  {
   "cell_type": "markdown",
   "id": "cognitive-survey",
   "metadata": {},
   "source": [
    "### 리스트 인덱싱"
   ]
  },
  {
   "cell_type": "code",
   "execution_count": null,
   "id": "naked-interface",
   "metadata": {},
   "outputs": [],
   "source": [
    "# 실습 리스트를 생성합니다.\n",
    "a = [1, 2, '3', '4', ['가', '나', '다']]"
   ]
  },
  {
   "cell_type": "code",
   "execution_count": null,
   "id": "careful-suffering",
   "metadata": {},
   "outputs": [],
   "source": [
    "# a의 0번과 1번 인덱스 원소를 더합니다.\n",
    "a[0] + a[1]"
   ]
  },
  {
   "cell_type": "code",
   "execution_count": null,
   "id": "acute-charter",
   "metadata": {},
   "outputs": [],
   "source": [
    "# a의 2번과 3번 인덱스 원소를 결합합니다.\n",
    "a[2] + a[3]"
   ]
  },
  {
   "cell_type": "code",
   "execution_count": null,
   "id": "adjusted-cincinnati",
   "metadata": {},
   "outputs": [],
   "source": [
    "# a의 4번 인덱스 원소는 리스트이므로 대괄호를 이어서 사용하면 리스트의 원소를 반환합니다.\n",
    "a[4][0]"
   ]
  },
  {
   "cell_type": "markdown",
   "id": "desperate-television",
   "metadata": {},
   "source": [
    "### 리스트 슬라이싱"
   ]
  },
  {
   "cell_type": "code",
   "execution_count": null,
   "id": "received-cabinet",
   "metadata": {},
   "outputs": [],
   "source": [
    "# a의 0~1번 인덱스 원소를 선택하고 리스트로 반환합니다.\n",
    "a[0:2]"
   ]
  },
  {
   "cell_type": "code",
   "execution_count": null,
   "id": "brief-symphony",
   "metadata": {},
   "outputs": [],
   "source": [
    "# a의 2~3번 인덱스 원소를 선택하고 리스트로 반환합니다.\n",
    "a[2:4]"
   ]
  },
  {
   "cell_type": "code",
   "execution_count": null,
   "id": "unable-distinction",
   "metadata": {},
   "outputs": [],
   "source": [
    "# a의 0~3번 인덱스 원소를 선택하고 리스트로 반환합니다.\n",
    "a[:4]"
   ]
  },
  {
   "cell_type": "code",
   "execution_count": null,
   "id": "elect-apparel",
   "metadata": {},
   "outputs": [],
   "source": [
    "# a의 4~마지막 원소를 선택하고 리스트로 반환합니다.\n",
    "a[4:]"
   ]
  },
  {
   "cell_type": "markdown",
   "id": "beneficial-horizontal",
   "metadata": {},
   "source": [
    "### [참고] 리스트 인덱싱 및 슬라이싱 관련 주의사항"
   ]
  },
  {
   "cell_type": "code",
   "execution_count": null,
   "id": "increased-employment",
   "metadata": {},
   "outputs": [],
   "source": [
    "# 대괄호 안에 아무것도 지정하지 않으면 에러가 발생합니다.\n",
    "a[]"
   ]
  },
  {
   "cell_type": "code",
   "execution_count": null,
   "id": "pointed-investor",
   "metadata": {},
   "outputs": [],
   "source": [
    "# 빈 콜론을 지정하면 리스트 a의 전체 원소를 반환합니다.\n",
    "a[:]"
   ]
  },
  {
   "cell_type": "code",
   "execution_count": null,
   "id": "applied-mechanism",
   "metadata": {},
   "outputs": [],
   "source": [
    "# 대괄호 안에 인덱스를 스칼라(길이가 1인 값)로 지정하면 해당 원소를 본래 자료형으로 반환합니다.\n",
    "a[0]"
   ]
  },
  {
   "cell_type": "code",
   "execution_count": null,
   "id": "therapeutic-ballet",
   "metadata": {},
   "outputs": [],
   "source": [
    "# 대괄호 안에 슬라이를 지정하면 해당 원소를 항상 리스트로 반환합니다.\n",
    "a[0:1]"
   ]
  },
  {
   "cell_type": "code",
   "execution_count": null,
   "id": "juvenile-baseline",
   "metadata": {},
   "outputs": [],
   "source": [
    "# 대괄호 안에 리스트를 지정하면 에러가 발생합니다.\n",
    "a[[0, 2]]"
   ]
  },
  {
   "cell_type": "code",
   "execution_count": null,
   "id": "1aca7862",
   "metadata": {},
   "outputs": [],
   "source": [
    "# 만약 a의 0번과 2번 인덱스 원소로 리스트를 생성하려면 왼쪽과 같이 코딩합니다.\n",
    "[a[0], a[2]]"
   ]
  },
  {
   "cell_type": "markdown",
   "id": "funded-haiti",
   "metadata": {},
   "source": [
    "### range() 함수 사용법"
   ]
  },
  {
   "cell_type": "code",
   "execution_count": null,
   "id": "false-occupation",
   "metadata": {},
   "outputs": [],
   "source": [
    "# 0부터 4까지 연속한 정수를 a에 할당하고 a를 출력합니다.\n",
    "a = range(5)\n",
    "a"
   ]
  },
  {
   "cell_type": "code",
   "execution_count": null,
   "id": "retained-creation",
   "metadata": {},
   "outputs": [],
   "source": [
    "# a의 클래스를 확인합니다. a의 클래스는 range입니다.\n",
    "type(a)"
   ]
  },
  {
   "cell_type": "code",
   "execution_count": null,
   "id": "institutional-leadership",
   "metadata": {},
   "outputs": [],
   "source": [
    "# a를 리스트로 변환하여 a에 재할당하고 a를 출력합니다.\n",
    "a = list(a)\n",
    "a"
   ]
  },
  {
   "cell_type": "code",
   "execution_count": null,
   "id": "5e22382a",
   "metadata": {},
   "outputs": [],
   "source": [
    "# a의 클래스를 확인합니다. a의 클래스는 list입니다.\n",
    "type(a)"
   ]
  },
  {
   "cell_type": "code",
   "execution_count": null,
   "id": "tough-accounting",
   "metadata": {},
   "outputs": [],
   "source": [
    "# 0이 아닌 정수로 시작하려면 range() 함수에 시작과 끝+1 정수를 지정합니다.\n",
    "list(range(1, 6))"
   ]
  },
  {
   "cell_type": "code",
   "execution_count": null,
   "id": "chief-herald",
   "metadata": {},
   "outputs": [],
   "source": [
    "# 간격을 설정하려면 range() 함수에 시작, 끝+1 및 간격을 지정합니다.\n",
    "list(range(1, 11, 2))"
   ]
  },
  {
   "cell_type": "markdown",
   "id": "chronic-remove",
   "metadata": {},
   "source": [
    "### 이중 콜론 연산자"
   ]
  },
  {
   "cell_type": "code",
   "execution_count": null,
   "id": "sustained-alexandria",
   "metadata": {},
   "outputs": [],
   "source": [
    "# 1부터 7까지 연속한 정수를 원소로 갖는 리스트를 a에 할당합니다.\n",
    "a = list(range(1, 8))\n",
    "a"
   ]
  },
  {
   "cell_type": "code",
   "execution_count": null,
   "id": "brown-reservoir",
   "metadata": {},
   "outputs": [],
   "source": [
    "# a의 1~4번 인덱스 원소에서 1번, 3번 인덱스 원소를 선택하고 리스트로 반환합니다.\n",
    "a[1:5:2]"
   ]
  },
  {
   "cell_type": "code",
   "execution_count": null,
   "id": "cooperative-inventory",
   "metadata": {},
   "outputs": [],
   "source": [
    "# a의 0~4번 인덱스 원소에서 0번, 2번, 4번 인덱스 원소를 선택하고 리스트로 반환합니다.\n",
    "a[:5:2]"
   ]
  },
  {
   "cell_type": "code",
   "execution_count": null,
   "id": "northern-final",
   "metadata": {},
   "outputs": [],
   "source": [
    "# a의 1번 인덱스 원소에서 마지막 원소까지 두 칸 간격으로 원소를 선택하고 리스트로 반환합니다.\n",
    "a[1::2]"
   ]
  },
  {
   "cell_type": "code",
   "execution_count": null,
   "id": "acknowledged-arthritis",
   "metadata": {},
   "outputs": [],
   "source": [
    "# a의 처음부터 마지막 원소까지 두 칸 간격으로 원소를 선택하고 리스트로 반환합니다.\n",
    "a[::2]"
   ]
  },
  {
   "cell_type": "code",
   "execution_count": null,
   "id": "municipal-yellow",
   "metadata": {},
   "outputs": [],
   "source": [
    "# a의 전체 원소를 역순으로 반환합니다. [주의] 내림차순 정렬이 아닙니다.\n",
    "a[::-1]"
   ]
  },
  {
   "cell_type": "markdown",
   "id": "expressed-inflation",
   "metadata": {},
   "source": [
    "### 리스트 원소 추가 및 삽입"
   ]
  },
  {
   "cell_type": "code",
   "execution_count": null,
   "id": "simplified-artwork",
   "metadata": {},
   "outputs": [],
   "source": [
    "# 정수 5를 a의 마지막 원소로 추가합니다.\n",
    "a.append(5)\n",
    "a"
   ]
  },
  {
   "cell_type": "code",
   "execution_count": null,
   "id": "canadian-anniversary",
   "metadata": {},
   "outputs": [],
   "source": [
    "# 리스트 [6, 7]을 a의 마지막 원소로 추가합니다.\n",
    "a.append([6, 7])\n",
    "a"
   ]
  },
  {
   "cell_type": "code",
   "execution_count": null,
   "id": "intended-thanksgiving",
   "metadata": {},
   "outputs": [],
   "source": [
    "# 정수 8, 9를 a의 마지막 원소로 추가합니다.\n",
    "a.extend([8, 9])\n",
    "a"
   ]
  },
  {
   "cell_type": "code",
   "execution_count": null,
   "id": "failing-reliance",
   "metadata": {},
   "outputs": [],
   "source": [
    "# a의 1번 인덱스에 리스트 [6, 7]을 삽입합니다.\n",
    "a.insert(1, [6, 7])\n",
    "a"
   ]
  },
  {
   "cell_type": "markdown",
   "id": "288e3e4d",
   "metadata": {},
   "source": [
    "### 리스트 원소 삭제"
   ]
  },
  {
   "cell_type": "code",
   "execution_count": null,
   "id": "filled-tracker",
   "metadata": {},
   "outputs": [],
   "source": [
    "# a에서 [6, 7]을 삭제합니다.\n",
    "a.remove([6, 7])\n",
    "a"
   ]
  },
  {
   "cell_type": "code",
   "execution_count": null,
   "id": "34cbac59",
   "metadata": {},
   "outputs": [],
   "source": [
    "# a에서 [6, 7]을 한 번 더 삭제합니다.\n",
    "a.remove([6, 7])\n",
    "a"
   ]
  },
  {
   "cell_type": "code",
   "execution_count": null,
   "id": "840695db",
   "metadata": {},
   "outputs": [],
   "source": [
    "# a에 [6, 7]이 없으므로 에러가 발생합니다.\n",
    "a.remove([6, 7])"
   ]
  },
  {
   "cell_type": "code",
   "execution_count": null,
   "id": "given-animation",
   "metadata": {},
   "outputs": [],
   "source": [
    "# a의 6번 인덱스 원소를 출력하고 해당 원소를 삭제합니다.\n",
    "a.pop(6)\n",
    "a"
   ]
  },
  {
   "cell_type": "code",
   "execution_count": null,
   "id": "9bfda07e",
   "metadata": {},
   "outputs": [],
   "source": [
    "# a의 마지막 원소를 출력하고 해당 원소를 삭제합니다.\n",
    "a.pop()\n",
    "a"
   ]
  },
  {
   "cell_type": "markdown",
   "id": "numerous-boundary",
   "metadata": {},
   "source": [
    "### 리스트 원소 변경"
   ]
  },
  {
   "cell_type": "code",
   "execution_count": null,
   "id": "dangerous-clarity",
   "metadata": {},
   "outputs": [],
   "source": [
    "# a의 0번 인덱스 원소를 정수 6으로 변경합니다.\n",
    "a[0] = 6\n",
    "a"
   ]
  },
  {
   "cell_type": "code",
   "execution_count": null,
   "id": "original-fitness",
   "metadata": {},
   "outputs": [],
   "source": [
    "# a의 3~4번 인덱스 원소를 리스트 [7, 8]의 원소로 변경합니다.\n",
    "# [참고] 왼쪽 리스트 원소 개수와 오른쪽 리스트 원소 개수가 달라도 됩니다.\n",
    "a[3:5] = [7, 8]\n",
    "a"
   ]
  },
  {
   "cell_type": "code",
   "execution_count": null,
   "id": "laughing-bradford",
   "metadata": {},
   "outputs": [],
   "source": [
    "# a의 2번 인덱스 원소를 리스트 [3, 4]로 변경합니다.\n",
    "a[2] = [3, 4]\n",
    "a"
   ]
  },
  {
   "cell_type": "markdown",
   "id": "backed-cosmetic",
   "metadata": {},
   "source": [
    "### 리스트 원소 확인"
   ]
  },
  {
   "cell_type": "code",
   "execution_count": null,
   "id": "north-gothic",
   "metadata": {},
   "outputs": [],
   "source": [
    "# a에 1의 개수를 반환합니다.\n",
    "a.count(1)"
   ]
  },
  {
   "cell_type": "code",
   "execution_count": null,
   "id": "finite-humanitarian",
   "metadata": {},
   "outputs": [],
   "source": [
    "# a에 2가 없으므로 0을 반환합니다.\n",
    "a.count(2)"
   ]
  },
  {
   "cell_type": "code",
   "execution_count": null,
   "id": "heated-conversation",
   "metadata": {},
   "outputs": [],
   "source": [
    "# a에 1이 처음 나오는 인덱스를 반환합니다.\n",
    "a.index(1)"
   ]
  },
  {
   "cell_type": "code",
   "execution_count": null,
   "id": "missing-barrel",
   "metadata": {},
   "outputs": [],
   "source": [
    "# a에 2가 없으므로 에러가 발생합니다.\n",
    "a.index(2)"
   ]
  },
  {
   "cell_type": "code",
   "execution_count": null,
   "id": "f4987cc2",
   "metadata": {},
   "outputs": [],
   "source": [
    "# 리스트에는 find() 함수가 없으므로 에러가 발생합니다.\n",
    "a.find(2)"
   ]
  },
  {
   "cell_type": "markdown",
   "id": "soviet-highland",
   "metadata": {},
   "source": [
    "### 리스트 원소 정렬"
   ]
  },
  {
   "cell_type": "code",
   "execution_count": null,
   "id": "f74e4d76",
   "metadata": {},
   "outputs": [],
   "source": [
    "# a에는 정수와 리스트가 섞여 있으므로 에러가 발생합니다.\n",
    "a.sort()"
   ]
  },
  {
   "cell_type": "code",
   "execution_count": null,
   "id": "indie-religion",
   "metadata": {},
   "outputs": [],
   "source": [
    "# a에서 리스트 [3, 4]를 삭제합니다.\n",
    "a.remove([3, 4])"
   ]
  },
  {
   "cell_type": "code",
   "execution_count": null,
   "id": "opposite-mozambique",
   "metadata": {},
   "outputs": [],
   "source": [
    "# a의 원소를 오름차순 정렬합니다.\n",
    "a.sort()\n",
    "a"
   ]
  },
  {
   "cell_type": "code",
   "execution_count": null,
   "id": "7083c218",
   "metadata": {},
   "outputs": [],
   "source": [
    "# a의 원소를 내림차순 정렬합니다.\n",
    "a.sort(reverse = True)\n",
    "a"
   ]
  },
  {
   "cell_type": "code",
   "execution_count": null,
   "id": "25b8d71d",
   "metadata": {},
   "outputs": [],
   "source": [
    "# c에는 정수, 실수, 문자열이 섞여 있으므로 에러가 발생합니다.\n",
    "c.sort()"
   ]
  },
  {
   "cell_type": "code",
   "execution_count": null,
   "id": "modular-complement",
   "metadata": {},
   "outputs": [],
   "source": [
    "# c의 원소를 역순으로 변경합니다.\n",
    "c.reverse()\n",
    "c"
   ]
  },
  {
   "cell_type": "markdown",
   "id": "joined-platform",
   "metadata": {},
   "source": [
    "### 튜플"
   ]
  },
  {
   "cell_type": "code",
   "execution_count": null,
   "id": "internal-lease",
   "metadata": {},
   "outputs": [],
   "source": [
    "# 튜플을 생성합니다. 튜플을 생성할 때 소괄호 안에 원소를 콤마로 나열합니다.\n",
    "t = (1, 2.0, '3')\n",
    "t"
   ]
  },
  {
   "cell_type": "code",
   "execution_count": null,
   "id": "unlike-bracelet",
   "metadata": {},
   "outputs": [],
   "source": [
    "# t의 클래스를 확인합니다. t의 클래스는 tuple입니다.\n",
    "type(t)"
   ]
  },
  {
   "cell_type": "code",
   "execution_count": null,
   "id": "insured-criminal",
   "metadata": {},
   "outputs": [],
   "source": [
    "# tuple() 클래스 함수는 리스트를 튜플로 변환합니다.\n",
    "tuple(c)"
   ]
  },
  {
   "cell_type": "code",
   "execution_count": null,
   "id": "842ab841",
   "metadata": {},
   "outputs": [],
   "source": [
    "# list() 클래스 함수는 튜플을 리스트로 변환합니다.\n",
    "list(t)"
   ]
  },
  {
   "cell_type": "code",
   "execution_count": null,
   "id": "bf583d51",
   "metadata": {},
   "outputs": [],
   "source": [
    "# 튜플에는 append() 함수가 없으므로 에러가 발생합니다.\n",
    "t.append(4)"
   ]
  },
  {
   "cell_type": "code",
   "execution_count": null,
   "id": "e7d3c609",
   "metadata": {},
   "outputs": [],
   "source": [
    "# 튜플에는 remove() 함수가 없으므로 에러가 발생합니다.\n",
    "t.remove(1)"
   ]
  },
  {
   "cell_type": "code",
   "execution_count": null,
   "id": "31e62129",
   "metadata": {},
   "outputs": [],
   "source": [
    "# 튜플에는 원소를 할당할 수 없으므로 에러가 발생합니다.\n",
    "t[2] = 3"
   ]
  },
  {
   "cell_type": "markdown",
   "id": "varying-northern",
   "metadata": {},
   "source": [
    "### 딕셔너리"
   ]
  },
  {
   "cell_type": "code",
   "execution_count": null,
   "id": "protected-unknown",
   "metadata": {},
   "outputs": [],
   "source": [
    "# 딕셔너리를 생성합니다. 딕셔너리를 생성할 때 중괄호 안에 'key': value를 콤마로 연결합니다.\n",
    "d = {'item': 'pants', 'size': ['S', 'M', 'L']}\n",
    "d"
   ]
  },
  {
   "cell_type": "code",
   "execution_count": null,
   "id": "three-classics",
   "metadata": {},
   "outputs": [],
   "source": [
    "# d의 클래스를 확인합니다. d의 클래스는 dict입니다.\n",
    "type(d)"
   ]
  },
  {
   "cell_type": "code",
   "execution_count": null,
   "id": "1840bf1d",
   "metadata": {},
   "outputs": [],
   "source": [
    "# 같은 값을 원소로 갖는 리스트와 비교합니다.\n",
    "a = ['pants', ['S', 'M', 'L']]\n",
    "a"
   ]
  },
  {
   "cell_type": "markdown",
   "id": "137e7ae5",
   "metadata": {},
   "source": [
    "### [참고] dict() 클래스 함수 사용법"
   ]
  },
  {
   "cell_type": "code",
   "execution_count": null,
   "id": "further-elimination",
   "metadata": {},
   "outputs": [],
   "source": [
    "# dict() 클래스 함수는 key를 따옴표로 감싸지 않고 콜론 대신 등호를 사용합니다.\n",
    "dict(item = 'pants', size = ['S', 'M', 'L'])"
   ]
  },
  {
   "cell_type": "code",
   "execution_count": null,
   "id": "a7c99c8d",
   "metadata": {},
   "outputs": [],
   "source": [
    "# key를 따옴표로 감싸면 에러가 발생합니다.\n",
    "dict('item' = 'pants', 'size' = ['S', 'M', 'L'])"
   ]
  },
  {
   "cell_type": "code",
   "execution_count": null,
   "id": "58304590",
   "metadata": {},
   "outputs": [],
   "source": [
    "# 등호 대신 콜론을 사용하면 에러가 발생합니다.\n",
    "dict(item: 'pants', size: ['S', 'M', 'L'])"
   ]
  },
  {
   "cell_type": "code",
   "execution_count": null,
   "id": "31720b1f",
   "metadata": {},
   "outputs": [],
   "source": [
    "# 빈 딕셔너리를 생성합니다.\n",
    "dict()"
   ]
  },
  {
   "cell_type": "markdown",
   "id": "strategic-flood",
   "metadata": {},
   "source": [
    "### 딕셔너리 원소 확인 및 선택"
   ]
  },
  {
   "cell_type": "code",
   "execution_count": null,
   "id": "forced-ebony",
   "metadata": {},
   "outputs": [],
   "source": [
    "# d에 'item'인 key가 있으면 True, 없으면 False를 반환합니다.\n",
    "'item' in d"
   ]
  },
  {
   "cell_type": "code",
   "execution_count": null,
   "id": "be17cdf5",
   "metadata": {},
   "outputs": [],
   "source": [
    "# d에 'shop'인 key가 있으면 True, 없으면 False를 반환합니다.\n",
    "'shop' in d"
   ]
  },
  {
   "cell_type": "code",
   "execution_count": null,
   "id": "elegant-patent",
   "metadata": {
    "scrolled": true
   },
   "outputs": [],
   "source": [
    "# d에서 key가 'item'인 value를 반환합니다.\n",
    "d['item']"
   ]
  },
  {
   "cell_type": "code",
   "execution_count": null,
   "id": "excessive-modification",
   "metadata": {},
   "outputs": [],
   "source": [
    "# d에서 key가 'shop'인 value를 반환합니다. \n",
    "# [주의] 딕셔너리에 없는 key를 입력하면 에러가 발생합니다.\n",
    "d['shop']"
   ]
  },
  {
   "cell_type": "markdown",
   "id": "armed-african",
   "metadata": {},
   "source": [
    "### 딕셔너리 원소 추가, 삭제 및 변경"
   ]
  },
  {
   "cell_type": "code",
   "execution_count": null,
   "id": "julian-ocean",
   "metadata": {},
   "outputs": [],
   "source": [
    "# d에 key가 'shop', value가 'A1'인 원소를 추가합니다.\n",
    "d['shop'] = 'A1'\n",
    "d"
   ]
  },
  {
   "cell_type": "code",
   "execution_count": null,
   "id": "amateur-insulin",
   "metadata": {},
   "outputs": [],
   "source": [
    "# d에서 key가 'item'인 원소를 삭제합니다.\n",
    "del d['item']\n",
    "d"
   ]
  },
  {
   "cell_type": "code",
   "execution_count": null,
   "id": "sapphire-plaza",
   "metadata": {},
   "outputs": [],
   "source": [
    "# d에서 key가 'shop'인 value를 'A2'로 변경합니다.\n",
    "d['shop'] = 'A2'\n",
    "d"
   ]
  },
  {
   "cell_type": "markdown",
   "id": "manual-estate",
   "metadata": {},
   "source": [
    "### [참고] 딕셔너리 key와 value 반환"
   ]
  },
  {
   "cell_type": "code",
   "execution_count": null,
   "id": "national-swimming",
   "metadata": {},
   "outputs": [],
   "source": [
    "# d의 key를 반환합니다.\n",
    "d.keys()"
   ]
  },
  {
   "cell_type": "code",
   "execution_count": null,
   "id": "parallel-compound",
   "metadata": {},
   "outputs": [],
   "source": [
    "# d의 values를 반환합니다.\n",
    "d.values()"
   ]
  },
  {
   "cell_type": "code",
   "execution_count": null,
   "id": "f62bda56",
   "metadata": {},
   "outputs": [],
   "source": [
    "# d의 key와 value 쌍을 튜플로 반환합니다.\n",
    "d.items()"
   ]
  },
  {
   "cell_type": "markdown",
   "id": "electronic-henry",
   "metadata": {},
   "source": [
    "### 집합"
   ]
  },
  {
   "cell_type": "code",
   "execution_count": null,
   "id": "martial-compact",
   "metadata": {},
   "outputs": [],
   "source": [
    "# 집합을 생성합니다. 집합을 생성할 때 중괄호 안에 원소를 콤마로 나열합니다.\n",
    "s = {3, 1, 2, 1}\n",
    "s"
   ]
  },
  {
   "cell_type": "code",
   "execution_count": null,
   "id": "plastic-honduras",
   "metadata": {},
   "outputs": [],
   "source": [
    "# s의 클래스를 확인합니다. s의 클래스는 set입니다.\n",
    "type(s)"
   ]
  },
  {
   "cell_type": "code",
   "execution_count": null,
   "id": "satisfactory-gossip",
   "metadata": {},
   "outputs": [],
   "source": [
    "# set() 클래스 함수는 리스트를 집합으로 변환합니다.\n",
    "set(b)"
   ]
  },
  {
   "cell_type": "code",
   "execution_count": null,
   "id": "0662875d",
   "metadata": {},
   "outputs": [],
   "source": [
    "# list() 클래스 함수는 집합을 리스트로 변환합니다.\n",
    "list(s)"
   ]
  },
  {
   "cell_type": "code",
   "execution_count": null,
   "id": "d8d385b4",
   "metadata": {},
   "outputs": [],
   "source": [
    "# 두 집합의 교집합을 반환합니다.\n",
    "s & set(b)"
   ]
  },
  {
   "cell_type": "code",
   "execution_count": null,
   "id": "1b78539c",
   "metadata": {},
   "outputs": [],
   "source": [
    "# 두 집합의 합집합을 반환합니다.\n",
    "s | set(b)"
   ]
  },
  {
   "cell_type": "code",
   "execution_count": null,
   "id": "badcb0a6",
   "metadata": {},
   "outputs": [],
   "source": [
    "# 두 집합의 차집합을 반환합니다.\n",
    "s - set(b)"
   ]
  },
  {
   "cell_type": "markdown",
   "id": "0bdbd753",
   "metadata": {},
   "source": [
    "### [참고] 집합 원소 생성 기준"
   ]
  },
  {
   "cell_type": "code",
   "execution_count": null,
   "id": "559bde30",
   "metadata": {},
   "outputs": [],
   "source": [
    "# 정수와 실수는 앞선 자료형으로 적용합니다.\n",
    "{1, 1.0, 2.0, 2}"
   ]
  },
  {
   "cell_type": "code",
   "execution_count": null,
   "id": "f56631fc",
   "metadata": {},
   "outputs": [],
   "source": [
    "# 문자열은 정수/실수와 별개로 존재합니다.\n",
    "{1, '1'}"
   ]
  },
  {
   "cell_type": "code",
   "execution_count": null,
   "id": "7c7f55a2",
   "metadata": {},
   "outputs": [],
   "source": [
    "# 정수, 문자열, 실수 순서로 정렬합니다.\n",
    "{1.0, 1, '1'}"
   ]
  },
  {
   "cell_type": "code",
   "execution_count": null,
   "id": "99b2ef1f",
   "metadata": {},
   "outputs": [],
   "source": [
    "# 교집합은 오른쪽 집합의 자료형을 따릅니다.\n",
    "{1} & {1.0}"
   ]
  },
  {
   "cell_type": "code",
   "execution_count": null,
   "id": "d962fad3",
   "metadata": {},
   "outputs": [],
   "source": [
    "# 교집합은 왼쪽 집합의 자료형을 따릅니다.\n",
    "{1} | {1.0}"
   ]
  },
  {
   "cell_type": "code",
   "execution_count": null,
   "id": "6fe187c0",
   "metadata": {},
   "outputs": [],
   "source": [
    "# 차집합은 왼쪽 집합의 자료형을 따릅니다.\n",
    "{1, 2} - {1.0}"
   ]
  },
  {
   "cell_type": "markdown",
   "id": "alive-supply",
   "metadata": {},
   "source": [
    "## End of Document"
   ]
  }
 ],
 "metadata": {
  "kernelspec": {
   "display_name": "Python 3 (ipykernel)",
   "language": "python",
   "name": "python3"
  },
  "language_info": {
   "codemirror_mode": {
    "name": "ipython",
    "version": 3
   },
   "file_extension": ".py",
   "mimetype": "text/x-python",
   "name": "python",
   "nbconvert_exporter": "python",
   "pygments_lexer": "ipython3",
   "version": "3.10.4"
  },
  "toc": {
   "base_numbering": 1,
   "nav_menu": {},
   "number_sections": false,
   "sideBar": true,
   "skip_h1_title": false,
   "title_cell": "Table of Contents",
   "title_sidebar": "Contents",
   "toc_cell": false,
   "toc_position": {},
   "toc_section_display": true,
   "toc_window_display": false
  },
  "varInspector": {
   "cols": {
    "lenName": 16,
    "lenType": 16,
    "lenVar": 40
   },
   "kernels_config": {
    "python": {
     "delete_cmd_postfix": "",
     "delete_cmd_prefix": "del ",
     "library": "var_list.py",
     "varRefreshCmd": "print(var_dic_list())"
    },
    "r": {
     "delete_cmd_postfix": ") ",
     "delete_cmd_prefix": "rm(",
     "library": "var_list.r",
     "varRefreshCmd": "cat(var_dic_list()) "
    }
   },
   "types_to_exclude": [
    "module",
    "function",
    "builtin_function_or_method",
    "instance",
    "_Feature"
   ],
   "window_display": false
  }
 },
 "nbformat": 4,
 "nbformat_minor": 5
}
