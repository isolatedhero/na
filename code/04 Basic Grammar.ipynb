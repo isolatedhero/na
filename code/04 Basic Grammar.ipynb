{
 "cells": [
  {
   "cell_type": "markdown",
   "id": "96237ba2",
   "metadata": {},
   "source": [
    "## 제어문"
   ]
  },
  {
   "cell_type": "markdown",
   "id": "emerging-stevens",
   "metadata": {},
   "source": [
    "### if 조건문"
   ]
  },
  {
   "cell_type": "code",
   "execution_count": 1,
   "id": "written-import",
   "metadata": {},
   "outputs": [
    {
     "name": "stdin",
     "output_type": "stream",
     "text": [
      "점수:  75\n"
     ]
    },
    {
     "data": {
      "text/plain": [
       "'75'"
      ]
     },
     "execution_count": 1,
     "metadata": {},
     "output_type": "execute_result"
    }
   ],
   "source": [
    "# 콘솔에서 값을 입력받고 변수에 문자열로 할당합니다.\n",
    "score = input('점수: ')\n",
    "score"
   ]
  },
  {
   "cell_type": "code",
   "execution_count": 2,
   "id": "ecd81cd8",
   "metadata": {},
   "outputs": [
    {
     "data": {
      "text/plain": [
       "75.0"
      ]
     },
     "execution_count": 2,
     "metadata": {},
     "output_type": "execute_result"
    }
   ],
   "source": [
    "# score를 실수로 변환합니다.\n",
    "score = float(score)\n",
    "score"
   ]
  },
  {
   "cell_type": "code",
   "execution_count": 3,
   "id": "moved-diamond",
   "metadata": {},
   "outputs": [
    {
     "name": "stdout",
     "output_type": "stream",
     "text": [
      "불합격\n"
     ]
    }
   ],
   "source": [
    "# 조건문을 실행하고 점수에 따라 합격 여부를 출력합니다.\n",
    "if score >= 90:\n",
    "    print('합격')\n",
    "elif score >= 80:\n",
    "    print('재검사')\n",
    "else:\n",
    "    print('불합격')"
   ]
  },
  {
   "cell_type": "markdown",
   "id": "dominant-indian",
   "metadata": {},
   "source": [
    "### for 반복문"
   ]
  },
  {
   "cell_type": "code",
   "execution_count": 4,
   "id": "experimental-forest",
   "metadata": {},
   "outputs": [],
   "source": [
    "# 중식당 메뉴로 리스트를 생성합니다.\n",
    "menu = ['짜장면', '탕수육', '깐풍기', '짬뽕', '전가복', '샥스핀']"
   ]
  },
  {
   "cell_type": "code",
   "execution_count": 5,
   "id": "cooked-chase",
   "metadata": {},
   "outputs": [
    {
     "name": "stdout",
     "output_type": "stream",
     "text": [
      "짜장면\n",
      "탕수육\n",
      "깐풍기\n",
      "짬뽕\n",
      "전가복\n",
      "샥스핀\n"
     ]
    }
   ],
   "source": [
    "# 반복문을 사용하여 중식당 메뉴를 차례대로 출력합니다.\n",
    "for item in menu:\n",
    "    print(item)"
   ]
  },
  {
   "cell_type": "code",
   "execution_count": 6,
   "id": "intermediate-horror",
   "metadata": {},
   "outputs": [
    {
     "name": "stdout",
     "output_type": "stream",
     "text": [
      "짜장면 시킬까요?\n",
      "탕수육 시킬까요?\n",
      "깐풍기 시킬까요?\n",
      "짬뽕 시킬까요?\n",
      "전가복 시킬까요?\n",
      "샥스핀 시킬까요?\n"
     ]
    }
   ],
   "source": [
    "# 여러 객체를 결합한 문자열을 출력합니다.\n",
    "for item in menu:\n",
    "    print(item, '시킬까요?', sep = ' ', end = '\\n')"
   ]
  },
  {
   "cell_type": "markdown",
   "id": "beac0331",
   "metadata": {},
   "source": [
    "### 반복문 안에 조건문 추가"
   ]
  },
  {
   "cell_type": "code",
   "execution_count": 7,
   "id": "1dc99c50",
   "metadata": {},
   "outputs": [
    {
     "name": "stdout",
     "output_type": "stream",
     "text": [
      "짜장면 시킬까요?\n",
      "-> 요리부터 주문합시다!\n",
      "-> 다음 메뉴는 뭔가요?\n",
      "\n",
      "탕수육 시킬까요?\n",
      "-> 다음 메뉴는 뭔가요?\n",
      "\n",
      "깐풍기 시킬까요?\n",
      "-> 다음 메뉴는 뭔가요?\n",
      "\n",
      "짬뽕 시킬까요?\n",
      "-> 요리부터 주문합시다!\n",
      "-> 다음 메뉴는 뭔가요?\n",
      "\n",
      "전가복 시킬까요?\n",
      "-> 다음 메뉴는 뭔가요?\n",
      "\n",
      "샥스핀 시킬까요?\n",
      "-> 다음 메뉴는 뭔가요?\n",
      "\n"
     ]
    }
   ],
   "source": [
    "# 반복문 안에 조건문을 추가하여 코드를 제어합니다.\n",
    "for item in menu:\n",
    "    print(item, '시킬까요?')\n",
    "    if item in ['짜장면', '짬뽕']:\n",
    "        print('-> 요리부터 주문합시다!')\n",
    "    print('-> 다음 메뉴는 뭔가요?\\n')"
   ]
  },
  {
   "cell_type": "markdown",
   "id": "b1a531bd",
   "metadata": {},
   "source": [
    "### 반복문 제어: continue"
   ]
  },
  {
   "cell_type": "code",
   "execution_count": 8,
   "id": "a2214dd5",
   "metadata": {},
   "outputs": [
    {
     "name": "stdout",
     "output_type": "stream",
     "text": [
      "짜장면 시킬까요?\n",
      "탕수육 시킬까요?\n",
      "-> 다음 메뉴는 뭔가요?\n",
      "\n",
      "깐풍기 시킬까요?\n",
      "-> 다음 메뉴는 뭔가요?\n",
      "\n",
      "짬뽕 시킬까요?\n",
      "전가복 시킬까요?\n",
      "-> 다음 메뉴는 뭔가요?\n",
      "\n",
      "샥스핀 시킬까요?\n",
      "-> 다음 메뉴는 뭔가요?\n",
      "\n"
     ]
    }
   ],
   "source": [
    "# 반복문에서 continue를 만나면 아래 코드를 실행하지 않고 처음으로 되돌아갑니다.\n",
    "for item in menu:\n",
    "    print(item, '시킬까요?')\n",
    "    if item in ['짜장면', '짬뽕']:\n",
    "        continue\n",
    "        print('-> 요리부터 주문합시다!')\n",
    "    print('-> 다음 메뉴는 뭔가요?\\n')"
   ]
  },
  {
   "cell_type": "markdown",
   "id": "06113b1a",
   "metadata": {},
   "source": [
    "### 반복문 제어: break"
   ]
  },
  {
   "cell_type": "code",
   "execution_count": 9,
   "id": "plain-medication",
   "metadata": {},
   "outputs": [
    {
     "name": "stdout",
     "output_type": "stream",
     "text": [
      "짜장면 시킬까요?\n",
      "-> 다음 메뉴는 뭔가요?\n",
      "\n",
      "탕수육 시킬까요?\n",
      "-> 다음 메뉴는 뭔가요?\n",
      "\n",
      "깐풍기 시킬까요?\n",
      "-> 다음 메뉴는 뭔가요?\n",
      "\n",
      "짬뽕 시킬까요?\n",
      "-> 다음 메뉴는 뭔가요?\n",
      "\n",
      "전가복 시킬까요?\n"
     ]
    }
   ],
   "source": [
    "# 반복문에서 break를 만나면 반복문을 중단합니다.\n",
    "for item in menu:\n",
    "    print(item, '시킬까요?')\n",
    "    if item in ['전가복', '샥스핀']:\n",
    "        break\n",
    "        print('-> 요리부터 주문합시다!')\n",
    "    print('-> 다음 메뉴는 뭔가요?\\n')"
   ]
  },
  {
   "cell_type": "markdown",
   "id": "seven-electronics",
   "metadata": {},
   "source": [
    "### [참고] 중첩 for 반복문"
   ]
  },
  {
   "cell_type": "code",
   "execution_count": 10,
   "id": "certified-accordance",
   "metadata": {
    "scrolled": true
   },
   "outputs": [
    {
     "name": "stdout",
     "output_type": "stream",
     "text": [
      "*** 2단 ***\n",
      "2 * 1 = 2\n",
      "2 * 2 = 4\n",
      "2 * 3 = 6\n",
      "2 * 4 = 8\n",
      "2 * 5 = 10\n",
      "2 * 6 = 12\n",
      "2 * 7 = 14\n",
      "2 * 8 = 16\n",
      "2 * 9 = 18\n",
      "\n",
      "*** 3단 ***\n",
      "3 * 1 = 3\n",
      "3 * 2 = 6\n",
      "3 * 3 = 9\n",
      "3 * 4 = 12\n",
      "3 * 5 = 15\n",
      "3 * 6 = 18\n",
      "3 * 7 = 21\n",
      "3 * 8 = 24\n",
      "3 * 9 = 27\n",
      "\n",
      "*** 4단 ***\n",
      "4 * 1 = 4\n",
      "4 * 2 = 8\n",
      "4 * 3 = 12\n",
      "4 * 4 = 16\n",
      "4 * 5 = 20\n",
      "4 * 6 = 24\n",
      "4 * 7 = 28\n",
      "4 * 8 = 32\n",
      "4 * 9 = 36\n",
      "\n",
      "*** 5단 ***\n",
      "5 * 1 = 5\n",
      "5 * 2 = 10\n",
      "5 * 3 = 15\n",
      "5 * 4 = 20\n",
      "5 * 5 = 25\n",
      "5 * 6 = 30\n",
      "5 * 7 = 35\n",
      "5 * 8 = 40\n",
      "5 * 9 = 45\n",
      "\n",
      "*** 6단 ***\n",
      "6 * 1 = 6\n",
      "6 * 2 = 12\n",
      "6 * 3 = 18\n",
      "6 * 4 = 24\n",
      "6 * 5 = 30\n",
      "6 * 6 = 36\n",
      "6 * 7 = 42\n",
      "6 * 8 = 48\n",
      "6 * 9 = 54\n",
      "\n",
      "*** 7단 ***\n",
      "7 * 1 = 7\n",
      "7 * 2 = 14\n",
      "7 * 3 = 21\n",
      "7 * 4 = 28\n",
      "7 * 5 = 35\n",
      "7 * 6 = 42\n",
      "7 * 7 = 49\n",
      "7 * 8 = 56\n",
      "7 * 9 = 63\n",
      "\n",
      "*** 8단 ***\n",
      "8 * 1 = 8\n",
      "8 * 2 = 16\n",
      "8 * 3 = 24\n",
      "8 * 4 = 32\n",
      "8 * 5 = 40\n",
      "8 * 6 = 48\n",
      "8 * 7 = 56\n",
      "8 * 8 = 64\n",
      "8 * 9 = 72\n",
      "\n",
      "*** 9단 ***\n",
      "9 * 1 = 9\n",
      "9 * 2 = 18\n",
      "9 * 3 = 27\n",
      "9 * 4 = 36\n",
      "9 * 5 = 45\n",
      "9 * 6 = 54\n",
      "9 * 7 = 63\n",
      "9 * 8 = 72\n",
      "9 * 9 = 81\n",
      "\n",
      "반복문 실행 완료!\n"
     ]
    }
   ],
   "source": [
    "# 두 리스트 원소로 가능한 모든 경우의 수를 반복 실행합니다.(구구단 만들기)\n",
    "for i in range(2, 10):\n",
    "    print(f'*** {i}단 ***')\n",
    "    for j in range(1, 10):\n",
    "        print(f'{i} * {j} = {i*j}')\n",
    "    print()\n",
    "print('반복문 실행 완료!')"
   ]
  },
  {
   "cell_type": "markdown",
   "id": "c4cbe765",
   "metadata": {},
   "source": [
    "### 반복문 실행 결과를 리스트에 추가"
   ]
  },
  {
   "cell_type": "code",
   "execution_count": 11,
   "id": "3d9cc67b",
   "metadata": {},
   "outputs": [
    {
     "data": {
      "text/plain": [
       "[1, 4, 9, 16, 25, 36, 49, 64, 81, 100]"
      ]
     },
     "execution_count": 11,
     "metadata": {},
     "output_type": "execute_result"
    }
   ],
   "source": [
    "# for 반복문을 실행하기 전에 값을 저장할 빈 리스트를 미리 생성합니다.\n",
    "sqrs = []\n",
    "\n",
    "# 정수 1~10을 차례대로 i에 할당하고 아래 코드를 반복 실행합니다.\n",
    "# i를 제곱한 값을 sqrs의 마지막 원소로 추가합니다.\n",
    "# [주의] sqrs를 미리 생성하지 않으면 에러가 발생합니다.\n",
    "for i in range(1, 11):\n",
    "    sqrs.append(i ** 2)\n",
    "    \n",
    "# sqrs를 출력합니다.\n",
    "sqrs"
   ]
  },
  {
   "cell_type": "code",
   "execution_count": 12,
   "id": "73cda14b",
   "metadata": {},
   "outputs": [
    {
     "data": {
      "text/plain": [
       "[4, 16, 36, 64, 100]"
      ]
     },
     "execution_count": 12,
     "metadata": {},
     "output_type": "execute_result"
    }
   ],
   "source": [
    "# sqrs를 다시 빈 리스트로 생성합니다.\n",
    "sqrs = []\n",
    "\n",
    "# 정수 1~10에서 짝수만 제곱한 값을 원소로 갖는 리스트를 생성합니다.\n",
    "# i가 짝수일 때 i를 제곱한 값을 sqrs의 마지막 원소로 추가합니다.\n",
    "for i in range(1, 11):\n",
    "    if i % 2 == 0:\n",
    "        sqrs.append(i ** 2)\n",
    "    \n",
    "# sqrs를 출력합니다.\n",
    "sqrs"
   ]
  },
  {
   "cell_type": "markdown",
   "id": "noted-patent",
   "metadata": {},
   "source": [
    "### [참고] 리스트 컴프리헨션"
   ]
  },
  {
   "cell_type": "code",
   "execution_count": 13,
   "id": "chinese-cathedral",
   "metadata": {},
   "outputs": [
    {
     "data": {
      "text/plain": [
       "[1, 4, 9, 16, 25, 36, 49, 64, 81, 100]"
      ]
     },
     "execution_count": 13,
     "metadata": {},
     "output_type": "execute_result"
    }
   ],
   "source": [
    "# 한 줄 코드로 for 반복문과 같은 결과를 반환합니다.\n",
    "# [참고] 빈 리스트를 미리 생성할 필요가 없습니다.\n",
    "[i ** 2 for i in range(1, 11)]"
   ]
  },
  {
   "cell_type": "code",
   "execution_count": 14,
   "id": "russian-record",
   "metadata": {},
   "outputs": [
    {
     "data": {
      "text/plain": [
       "[4, 16, 36, 64, 100]"
      ]
     },
     "execution_count": 14,
     "metadata": {},
     "output_type": "execute_result"
    }
   ],
   "source": [
    "# 반복문 뒤에 조건문을 추가하면 조건을 만족하는 원소만 리스트에 포함시킵니다.\n",
    "[i ** 2 for i in range(1, 11) if i % 2 == 0]"
   ]
  },
  {
   "cell_type": "code",
   "execution_count": 15,
   "id": "dependent-killing",
   "metadata": {
    "scrolled": true
   },
   "outputs": [
    {
     "data": {
      "text/plain": [
       "['2 * 1 = 2',\n",
       " '2 * 2 = 4',\n",
       " '2 * 3 = 6',\n",
       " '2 * 4 = 8',\n",
       " '2 * 5 = 10',\n",
       " '2 * 6 = 12',\n",
       " '2 * 7 = 14',\n",
       " '2 * 8 = 16',\n",
       " '2 * 9 = 18',\n",
       " '3 * 1 = 3',\n",
       " '3 * 2 = 6',\n",
       " '3 * 3 = 9',\n",
       " '3 * 4 = 12',\n",
       " '3 * 5 = 15',\n",
       " '3 * 6 = 18',\n",
       " '3 * 7 = 21',\n",
       " '3 * 8 = 24',\n",
       " '3 * 9 = 27',\n",
       " '4 * 1 = 4',\n",
       " '4 * 2 = 8',\n",
       " '4 * 3 = 12',\n",
       " '4 * 4 = 16',\n",
       " '4 * 5 = 20',\n",
       " '4 * 6 = 24',\n",
       " '4 * 7 = 28',\n",
       " '4 * 8 = 32',\n",
       " '4 * 9 = 36',\n",
       " '5 * 1 = 5',\n",
       " '5 * 2 = 10',\n",
       " '5 * 3 = 15',\n",
       " '5 * 4 = 20',\n",
       " '5 * 5 = 25',\n",
       " '5 * 6 = 30',\n",
       " '5 * 7 = 35',\n",
       " '5 * 8 = 40',\n",
       " '5 * 9 = 45',\n",
       " '6 * 1 = 6',\n",
       " '6 * 2 = 12',\n",
       " '6 * 3 = 18',\n",
       " '6 * 4 = 24',\n",
       " '6 * 5 = 30',\n",
       " '6 * 6 = 36',\n",
       " '6 * 7 = 42',\n",
       " '6 * 8 = 48',\n",
       " '6 * 9 = 54',\n",
       " '7 * 1 = 7',\n",
       " '7 * 2 = 14',\n",
       " '7 * 3 = 21',\n",
       " '7 * 4 = 28',\n",
       " '7 * 5 = 35',\n",
       " '7 * 6 = 42',\n",
       " '7 * 7 = 49',\n",
       " '7 * 8 = 56',\n",
       " '7 * 9 = 63',\n",
       " '8 * 1 = 8',\n",
       " '8 * 2 = 16',\n",
       " '8 * 3 = 24',\n",
       " '8 * 4 = 32',\n",
       " '8 * 5 = 40',\n",
       " '8 * 6 = 48',\n",
       " '8 * 7 = 56',\n",
       " '8 * 8 = 64',\n",
       " '8 * 9 = 72',\n",
       " '9 * 1 = 9',\n",
       " '9 * 2 = 18',\n",
       " '9 * 3 = 27',\n",
       " '9 * 4 = 36',\n",
       " '9 * 5 = 45',\n",
       " '9 * 6 = 54',\n",
       " '9 * 7 = 63',\n",
       " '9 * 8 = 72',\n",
       " '9 * 9 = 81']"
      ]
     },
     "execution_count": 15,
     "metadata": {},
     "output_type": "execute_result"
    }
   ],
   "source": [
    "# 중첩 for 반복문을 리스트 컴프리헨션으로 실행합니다.\n",
    "[f'{i} * {j} = {i*j}' for i in range(2, 10) for j in range(1, 10)]"
   ]
  },
  {
   "cell_type": "markdown",
   "id": "6a0946ec",
   "metadata": {},
   "source": [
    "### [참고] zip() 함수 사용법"
   ]
  },
  {
   "cell_type": "code",
   "execution_count": 16,
   "id": "40dbc623",
   "metadata": {},
   "outputs": [
    {
     "name": "stdout",
     "output_type": "stream",
     "text": [
      "(2, 1)\n",
      "(3, 2)\n",
      "(4, 3)\n",
      "(5, 4)\n",
      "(6, 5)\n",
      "(7, 6)\n",
      "(8, 7)\n",
      "(9, 8)\n"
     ]
    }
   ],
   "source": [
    "# zip() 함수는 지정한 여러 객체에서 같은 인덱스 원소 쌍을 튜플로 반환합니다.\n",
    "for i in zip(range(2, 10), range(1, 10)):\n",
    "    print(i)"
   ]
  },
  {
   "cell_type": "code",
   "execution_count": 17,
   "id": "simplified-professor",
   "metadata": {},
   "outputs": [
    {
     "name": "stdout",
     "output_type": "stream",
     "text": [
      "2 * 1 = 2\n",
      "3 * 2 = 6\n",
      "4 * 3 = 12\n",
      "5 * 4 = 20\n",
      "6 * 5 = 30\n",
      "7 * 6 = 42\n",
      "8 * 7 = 56\n",
      "9 * 8 = 72\n"
     ]
    }
   ],
   "source": [
    "# 두 객체에서 같은 인덱스 원소를 변수 i와 j로 받아서 반복문을 실행합니다.\n",
    "# [참고] 튜플 원소를 변수 i와 j로 받도록 튜플을 언패킹합니다.\n",
    "for i, j in zip(range(2, 10), range(1, 10)):\n",
    "    print(f'{i} * {j} = {i*j}')"
   ]
  },
  {
   "cell_type": "markdown",
   "id": "7a6856fc",
   "metadata": {},
   "source": [
    "### [참고] enumerate() 함수 사용법"
   ]
  },
  {
   "cell_type": "code",
   "execution_count": 18,
   "id": "93b659a5",
   "metadata": {},
   "outputs": [
    {
     "name": "stdout",
     "output_type": "stream",
     "text": [
      "(0, 1)\n",
      "(1, 2)\n",
      "(2, 3)\n",
      "(3, 4)\n",
      "(4, 5)\n",
      "(5, 6)\n",
      "(6, 7)\n",
      "(7, 8)\n",
      "(8, 9)\n",
      "(9, 10)\n"
     ]
    }
   ],
   "source": [
    "# enumerate() 함수는 지정한 객체의 인덱스와 원소 쌍을 튜플로 반환합니다.\n",
    "for i in enumerate(range(1, 11)):\n",
    "    print(i)"
   ]
  },
  {
   "cell_type": "code",
   "execution_count": 19,
   "id": "2021ffe7",
   "metadata": {},
   "outputs": [
    {
     "name": "stdout",
     "output_type": "stream",
     "text": [
      "0번 인덱스 원소는 1입니다.\n",
      "1번 인덱스 원소는 2입니다.\n",
      "2번 인덱스 원소는 3입니다.\n",
      "3번 인덱스 원소는 4입니다.\n",
      "4번 인덱스 원소는 5입니다.\n",
      "5번 인덱스 원소는 6입니다.\n",
      "6번 인덱스 원소는 7입니다.\n",
      "7번 인덱스 원소는 8입니다.\n",
      "8번 인덱스 원소는 9입니다.\n",
      "9번 인덱스 원소는 10입니다.\n"
     ]
    }
   ],
   "source": [
    "# 객체의 인덱스와 원소를 변수 i와 v로 받아서 반복문을 실행합니다.\n",
    "for i, v in enumerate(range(1, 11)):\n",
    "    print(f'{i}번 인덱스 원소는 {v}입니다.')"
   ]
  },
  {
   "cell_type": "markdown",
   "id": "a3210e84",
   "metadata": {},
   "source": [
    "### 반복문에서 에러 발생"
   ]
  },
  {
   "cell_type": "raw",
   "id": "b00a0dfe",
   "metadata": {},
   "source": [
    "# 반복문 실행 도중 에러가 발생하면 반복문을 중단합니다.\n",
    "for i in range(1, 11):\n",
    "    if i % 3 == 0:\n",
    "        i = str(i)\n",
    "    print(i ** 2)"
   ]
  },
  {
   "cell_type": "markdown",
   "id": "df7de124",
   "metadata": {},
   "source": [
    "### 반복문에 예외 처리 추가"
   ]
  },
  {
   "cell_type": "code",
   "execution_count": 20,
   "id": "de265ad5",
   "metadata": {},
   "outputs": [
    {
     "name": "stdout",
     "output_type": "stream",
     "text": [
      "1\n",
      "4\n",
      "unsupported operand type(s) for ** or pow(): 'str' and 'int'\n",
      "16\n",
      "25\n",
      "unsupported operand type(s) for ** or pow(): 'str' and 'int'\n",
      "49\n",
      "64\n",
      "unsupported operand type(s) for ** or pow(): 'str' and 'int'\n",
      "100\n"
     ]
    }
   ],
   "source": [
    "# 반복문에 예외 처리를 추가하면 도중에 에러가 발생해도 끝까지 실행합니다.\n",
    "for i in range(1, 11):\n",
    "    if i % 3 == 0:\n",
    "        i = str(i)\n",
    "    try:\n",
    "        print(i ** 2)\n",
    "    except Exception as e:\n",
    "        print(e)"
   ]
  },
  {
   "cell_type": "markdown",
   "id": "accredited-asset",
   "metadata": {},
   "source": [
    "### while 반복문"
   ]
  },
  {
   "cell_type": "code",
   "execution_count": 21,
   "id": "f460c279",
   "metadata": {},
   "outputs": [
    {
     "name": "stdout",
     "output_type": "stream",
     "text": [
      "10\n"
     ]
    }
   ],
   "source": [
    "# for 반복문에서 사용했던 변수 i를 출력합니다.\n",
    "print(i)"
   ]
  },
  {
   "cell_type": "code",
   "execution_count": 22,
   "id": "beginning-constitutional",
   "metadata": {},
   "outputs": [
    {
     "name": "stdout",
     "output_type": "stream",
     "text": [
      "10\n",
      "9\n",
      "8\n",
      "7\n",
      "6\n",
      "5\n",
      "4\n",
      "3\n",
      "2\n",
      "1\n"
     ]
    }
   ],
   "source": [
    "# while 반복문을 실행하여 변수 i에서 1씩 차감한 값을 출력합니다.\n",
    "while i > 0:\n",
    "    print(i)\n",
    "    i -= 1"
   ]
  },
  {
   "cell_type": "code",
   "execution_count": 23,
   "id": "274e7825-f075-4e4e-b06a-c4f5b6b288a9",
   "metadata": {},
   "outputs": [
    {
     "name": "stdout",
     "output_type": "stream",
     "text": [
      "0\n"
     ]
    }
   ],
   "source": [
    "# 변수 i를 출력합니다.\n",
    "print(i)"
   ]
  },
  {
   "cell_type": "code",
   "execution_count": 24,
   "id": "8201e82b",
   "metadata": {},
   "outputs": [
    {
     "name": "stdout",
     "output_type": "stream",
     "text": [
      "10000\n"
     ]
    }
   ],
   "source": [
    "# while 반복문에서 break를 만나면 반복문을 중단합니다.\n",
    "while True:\n",
    "    i += 1\n",
    "    if i >= 10000:\n",
    "        break\n",
    "\n",
    "# 변수 i를 출력합니다.\n",
    "print(i)"
   ]
  },
  {
   "cell_type": "markdown",
   "id": "secret-equity",
   "metadata": {},
   "source": [
    "### 사용자 정의 함수"
   ]
  },
  {
   "cell_type": "code",
   "execution_count": 25,
   "id": "knowing-combine",
   "metadata": {},
   "outputs": [],
   "source": [
    "# 체질량지수를 반환하는 사용자 정의 함수를 생성합니다.\n",
    "def BMI(hgt, wgt):\n",
    "    bmi = wgt / (hgt/100) ** 2\n",
    "    return bmi"
   ]
  },
  {
   "cell_type": "code",
   "execution_count": 26,
   "id": "based-building",
   "metadata": {},
   "outputs": [
    {
     "data": {
      "text/plain": [
       "21.224489795918366"
      ]
     },
     "execution_count": 26,
     "metadata": {},
     "output_type": "execute_result"
    }
   ],
   "source": [
    "# 매개변수 없이 인수만 지정하여 실행합니다.\n",
    "BMI(175, 65)"
   ]
  },
  {
   "cell_type": "code",
   "execution_count": 27,
   "id": "d1d2f1c8",
   "metadata": {},
   "outputs": [
    {
     "data": {
      "text/plain": [
       "21.224489795918366"
      ]
     },
     "execution_count": 27,
     "metadata": {},
     "output_type": "execute_result"
    }
   ],
   "source": [
    "# 매개변수와 인수를 등호로 연결하여 실행합니다.\n",
    "BMI(hgt = 175, wgt = 65)"
   ]
  },
  {
   "cell_type": "markdown",
   "id": "4f8e14a7",
   "metadata": {},
   "source": [
    "### 인수의 기본값 설정 및 독스트링 추가"
   ]
  },
  {
   "cell_type": "code",
   "execution_count": 28,
   "id": "generic-patrol",
   "metadata": {},
   "outputs": [],
   "source": [
    "# 사용자 정의 함수에서 인수의 기본값을 설정하고 독스트링을 추가합니다.\n",
    "def BMI(hgt = 175, wgt = 65):\n",
    "    '''\n",
    "    This function returns BMI from height(cm) and weight(kg).\n",
    "    '''\n",
    "    return wgt / (hgt/100) ** 2"
   ]
  },
  {
   "cell_type": "code",
   "execution_count": 29,
   "id": "stable-maintenance",
   "metadata": {},
   "outputs": [
    {
     "data": {
      "text/plain": [
       "21.224489795918366"
      ]
     },
     "execution_count": 29,
     "metadata": {},
     "output_type": "execute_result"
    }
   ],
   "source": [
    "# 사용자 정의 함수를 실행할 때 인수를 생략하면 기본값을 적용합니다.\n",
    "BMI()"
   ]
  },
  {
   "cell_type": "markdown",
   "id": "looking-million",
   "metadata": {},
   "source": [
    "### [참고] 람다 표현식 사용법"
   ]
  },
  {
   "cell_type": "code",
   "execution_count": 30,
   "id": "rural-institute",
   "metadata": {},
   "outputs": [],
   "source": [
    "# 람다 표현식은 한 줄 코드로 함수를 만들 때 사용합니다.\n",
    "BMI2 = lambda hgt, wgt: wgt / (hgt/100) ** 2"
   ]
  },
  {
   "cell_type": "code",
   "execution_count": 31,
   "id": "d4f20f62",
   "metadata": {},
   "outputs": [
    {
     "data": {
      "text/plain": [
       "23.545706371191137"
      ]
     },
     "execution_count": 31,
     "metadata": {},
     "output_type": "execute_result"
    }
   ],
   "source": [
    "# 람다 표현식으로 정의한 함수를 실행합니다.\n",
    "BMI2(hgt = 190, wgt = 85)"
   ]
  },
  {
   "cell_type": "code",
   "execution_count": 32,
   "id": "harmful-crossing",
   "metadata": {},
   "outputs": [
    {
     "data": {
      "text/plain": [
       "23.545706371191137"
      ]
     },
     "execution_count": 32,
     "metadata": {},
     "output_type": "execute_result"
    }
   ],
   "source": [
    "# 람다 표현식을 괄호로 감싸면 함수처럼 실행할 수 있으므로 익명함수라 합니다.\n",
    "(lambda hgt, wgt: wgt / (hgt/100) ** 2)(190, 85)"
   ]
  },
  {
   "cell_type": "markdown",
   "id": "258c1d3d",
   "metadata": {},
   "source": [
    "### 사용자 정의 함수 주의사항"
   ]
  },
  {
   "cell_type": "code",
   "execution_count": 33,
   "id": "f6fd57f3",
   "metadata": {},
   "outputs": [],
   "source": [
    "# 함수를 정의할 때 입력받을 매개변수를 나열합니다.\n",
    "def printValues1(a, b, c):\n",
    "    for i in (a, b, c):\n",
    "        print(i)"
   ]
  },
  {
   "cell_type": "code",
   "execution_count": 34,
   "id": "ae2fdf06",
   "metadata": {},
   "outputs": [
    {
     "name": "stdout",
     "output_type": "stream",
     "text": [
      "1\n",
      "2\n",
      "3\n"
     ]
    }
   ],
   "source": [
    "# 함수에서 정의한 매개변수 개수만큼 인수를 지정합니다.\n",
    "printValues1(a = 1, b = 2, c = 3)"
   ]
  },
  {
   "cell_type": "raw",
   "id": "8427a7cd",
   "metadata": {},
   "source": [
    "# c 매개변수를 누락했으므로 에러가 발생합니다.\n",
    "printValues1(a = 1, b = 2)"
   ]
  },
  {
   "cell_type": "markdown",
   "id": "6388906f",
   "metadata": {},
   "source": [
    "### 여러 인수를 튜플로 받는 함수"
   ]
  },
  {
   "cell_type": "code",
   "execution_count": 35,
   "id": "b40b6a05",
   "metadata": {},
   "outputs": [],
   "source": [
    "# 함수를 정의할 때 매개변수 대신 가변 인수 *args를 지정합니다.\n",
    "# [참고] args는 위치 인수를 튜플로 전달받습니다.\n",
    "def printValues2(*args):\n",
    "    for i in args:\n",
    "        print(i)"
   ]
  },
  {
   "cell_type": "code",
   "execution_count": 36,
   "id": "cfa04450",
   "metadata": {},
   "outputs": [
    {
     "name": "stdout",
     "output_type": "stream",
     "text": [
      "1\n",
      "2\n",
      "3\n"
     ]
    }
   ],
   "source": [
    "# 함수의 괄호 안에 원하는 개수만큼 인수를 지정할 수 있습니다.\n",
    "printValues2(1, 2, 3)"
   ]
  },
  {
   "cell_type": "code",
   "execution_count": 37,
   "id": "259b4c64",
   "metadata": {},
   "outputs": [
    {
     "name": "stdout",
     "output_type": "stream",
     "text": [
      "1\n",
      "2\n"
     ]
    }
   ],
   "source": [
    "# 위치 인수를 2개 지정해도 에러가 발생하지 않습니다.\n",
    "printValues2(1, 2)"
   ]
  },
  {
   "cell_type": "markdown",
   "id": "bcf2a16f",
   "metadata": {},
   "source": [
    "### 여러 인수를 딕셔너리로 받는 함수"
   ]
  },
  {
   "cell_type": "code",
   "execution_count": 38,
   "id": "49e5ed9e",
   "metadata": {},
   "outputs": [],
   "source": [
    "# 함수를 정의할 때 매개변수 대신 키워드 가변 인수 **kwargs를 지정합니다.\n",
    "# [참고] kwargs는 키워드 인수를 딕셔너리로 전달받습니다.\n",
    "def printValues3(**kwargs):\n",
    "    for i in kwargs.items():\n",
    "        print(f'{i[0]}은(는) {i[1]}입니다.')"
   ]
  },
  {
   "cell_type": "code",
   "execution_count": 39,
   "id": "20abe55d",
   "metadata": {},
   "outputs": [
    {
     "name": "stdout",
     "output_type": "stream",
     "text": [
      "메뉴은(는) 순대국입니다.\n"
     ]
    }
   ],
   "source": [
    "# 함수의 괄호 안에 dict() 클래스 함수처럼 키와 값을 등호로 연결하여 지정합니다.\n",
    "printValues3(메뉴 = '순대국')"
   ]
  },
  {
   "cell_type": "code",
   "execution_count": 40,
   "id": "6a29fde5",
   "metadata": {},
   "outputs": [
    {
     "name": "stdout",
     "output_type": "stream",
     "text": [
      "메뉴은(는) 순대국입니다.\n",
      "가격은(는) 9000입니다.\n"
     ]
    }
   ],
   "source": [
    "# 키워드 인수를 여러 개 지정할 수 있습니다.\n",
    "printValues3(메뉴 = '순대국', 가격 = 9000)"
   ]
  },
  {
   "cell_type": "markdown",
   "id": "fe2df9a1",
   "metadata": {},
   "source": [
    "### 사용자 정의 함수 모듈 호출"
   ]
  },
  {
   "cell_type": "code",
   "execution_count": 41,
   "id": "4c3939c3",
   "metadata": {},
   "outputs": [],
   "source": [
    "# myFuncs 모듈을 호출합니다.\n",
    "import myFuncs"
   ]
  },
  {
   "cell_type": "code",
   "execution_count": 42,
   "id": "47762bd6",
   "metadata": {},
   "outputs": [
    {
     "name": "stdout",
     "output_type": "stream",
     "text": [
      "메뉴은(는) 순대국입니다.\n",
      "가격은(는) 9000입니다.\n"
     ]
    }
   ],
   "source": [
    "# 함수는 myFuncs 모듈에 속하므로 함수명 앞에 myFuncs를 추가해야 합니다.\n",
    "myFuncs.printValues3(메뉴 = '순대국', 가격 = 9000)"
   ]
  },
  {
   "cell_type": "code",
   "execution_count": 43,
   "id": "0271ffc3",
   "metadata": {},
   "outputs": [],
   "source": [
    "# myFuncs 모듈을 mf라는 가명으로 호출합니다.\n",
    "import myFuncs as mf"
   ]
  },
  {
   "cell_type": "code",
   "execution_count": 44,
   "id": "a4ba0ea7",
   "metadata": {},
   "outputs": [
    {
     "name": "stdout",
     "output_type": "stream",
     "text": [
      "메뉴은(는) 순대국입니다.\n",
      "가격은(는) 9000입니다.\n"
     ]
    }
   ],
   "source": [
    "# 함수는 mf 모듈에 속하므로 함수명 앞에 mf를 추가해야 합니다.\n",
    "mf.printValues3(메뉴 = '순대국', 가격 = 9000)"
   ]
  },
  {
   "cell_type": "code",
   "execution_count": 45,
   "id": "e8be3774",
   "metadata": {},
   "outputs": [],
   "source": [
    "# myFuncs 모듈에서 일부 함수만 호출합니다.\n",
    "from myFuncs import printValues3"
   ]
  },
  {
   "cell_type": "code",
   "execution_count": 46,
   "id": "c4269629",
   "metadata": {},
   "outputs": [
    {
     "name": "stdout",
     "output_type": "stream",
     "text": [
      "메뉴은(는) 순대국입니다.\n",
      "가격은(는) 9000입니다.\n"
     ]
    }
   ],
   "source": [
    "# 함수명 앞에 모듈명을 추가할 수 없습니다.\n",
    "printValues3(메뉴 = '순대국', 가격 = 9000)"
   ]
  },
  {
   "cell_type": "markdown",
   "id": "alive-supply",
   "metadata": {},
   "source": [
    "## End of Document"
   ]
  }
 ],
 "metadata": {
  "kernelspec": {
   "display_name": "Python 3 (ipykernel)",
   "language": "python",
   "name": "python3"
  },
  "language_info": {
   "codemirror_mode": {
    "name": "ipython",
    "version": 3
   },
   "file_extension": ".py",
   "mimetype": "text/x-python",
   "name": "python",
   "nbconvert_exporter": "python",
   "pygments_lexer": "ipython3",
   "version": "3.10.4"
  },
  "toc": {
   "base_numbering": 1,
   "nav_menu": {},
   "number_sections": false,
   "sideBar": true,
   "skip_h1_title": false,
   "title_cell": "Table of Contents",
   "title_sidebar": "Contents",
   "toc_cell": false,
   "toc_position": {},
   "toc_section_display": true,
   "toc_window_display": false
  },
  "varInspector": {
   "cols": {
    "lenName": 16,
    "lenType": 16,
    "lenVar": 40
   },
   "kernels_config": {
    "python": {
     "delete_cmd_postfix": "",
     "delete_cmd_prefix": "del ",
     "library": "var_list.py",
     "varRefreshCmd": "print(var_dic_list())"
    },
    "r": {
     "delete_cmd_postfix": ") ",
     "delete_cmd_prefix": "rm(",
     "library": "var_list.r",
     "varRefreshCmd": "cat(var_dic_list()) "
    }
   },
   "types_to_exclude": [
    "module",
    "function",
    "builtin_function_or_method",
    "instance",
    "_Feature"
   ],
   "window_display": false
  }
 },
 "nbformat": 4,
 "nbformat_minor": 5
}
