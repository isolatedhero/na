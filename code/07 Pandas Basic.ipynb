{
 "cells": [
  {
   "cell_type": "markdown",
   "id": "a97a133f",
   "metadata": {},
   "source": [
    "## pandas 기초"
   ]
  },
  {
   "cell_type": "markdown",
   "id": "exciting-springfield",
   "metadata": {},
   "source": [
    "### 라이브러리 호출"
   ]
  },
  {
   "cell_type": "raw",
   "id": "5a31a87e",
   "metadata": {},
   "source": [
    "# pandas 라이브러리를 설치합니다.\n",
    "# [참고] 아나콘다를 설치했다면 아래 코드를 실행하지 않아도 됩니다.\n",
    "!pip install pandas"
   ]
  },
  {
   "cell_type": "code",
   "execution_count": null,
   "id": "absolute-reasoning",
   "metadata": {},
   "outputs": [],
   "source": [
    "# pandas 라이브러리를 호출합니다. numpy 라이브러리도 함께 호출합니다.\n",
    "import numpy as np\n",
    "import pandas as pd"
   ]
  },
  {
   "cell_type": "markdown",
   "id": "palestinian-savannah",
   "metadata": {},
   "source": [
    "### 시리즈 생성"
   ]
  },
  {
   "cell_type": "code",
   "execution_count": null,
   "id": "lovely-tsunami",
   "metadata": {},
   "outputs": [],
   "source": [
    "# 1차원 배열로 시리즈를 생성합니다.\n",
    "sr = pd.Series(data = np.arange(start = 1, stop = 6, step = 2))"
   ]
  },
  {
   "cell_type": "code",
   "execution_count": null,
   "id": "agricultural-period",
   "metadata": {},
   "outputs": [],
   "source": [
    "# sr을 출력합니다. 인덱스와 값을 세로로 출력하고 맨 아래에 원소의 자료형을 추가합니다.\n",
    "sr"
   ]
  },
  {
   "cell_type": "code",
   "execution_count": null,
   "id": "funded-metadata",
   "metadata": {},
   "outputs": [],
   "source": [
    "# sr의 클래스를 확인합니다. sr의 클래스는 pandas.core.series.Series입니다.\n",
    "type(sr)"
   ]
  },
  {
   "cell_type": "code",
   "execution_count": null,
   "id": "f2da0e93",
   "metadata": {},
   "outputs": [],
   "source": [
    "# sr의 차원을 확인합니다.(1차원)\n",
    "sr.ndim"
   ]
  },
  {
   "cell_type": "code",
   "execution_count": null,
   "id": "lyric-bottom",
   "metadata": {},
   "outputs": [],
   "source": [
    "# sr의 형태를 확인합니다. sr은 1차원이며 원소 개수는 3입니다.\n",
    "sr.shape"
   ]
  },
  {
   "cell_type": "code",
   "execution_count": null,
   "id": "under-peninsula",
   "metadata": {},
   "outputs": [],
   "source": [
    "# sr 원소의 자료형을 확인합니다.\n",
    "sr.dtype"
   ]
  },
  {
   "cell_type": "markdown",
   "id": "b2a23999",
   "metadata": {},
   "source": [
    "### 시리즈 값과 인덱스 확인"
   ]
  },
  {
   "cell_type": "code",
   "execution_count": null,
   "id": "anonymous-treatment",
   "metadata": {},
   "outputs": [],
   "source": [
    "# sr의 원소를 확인합니다.\n",
    "sr.values"
   ]
  },
  {
   "cell_type": "code",
   "execution_count": null,
   "id": "metric-evans",
   "metadata": {},
   "outputs": [],
   "source": [
    "# sr의 인덱스를 확인합니다.\n",
    "sr.index"
   ]
  },
  {
   "cell_type": "code",
   "execution_count": null,
   "id": "f82ecca6",
   "metadata": {},
   "outputs": [],
   "source": [
    "# sr 인덱스의 클래스를 확인합니다.\n",
    "type(sr.index)"
   ]
  },
  {
   "cell_type": "markdown",
   "id": "8cbc0a5a",
   "metadata": {},
   "source": [
    "### [참고] 시리즈를 생성하는 다른 방법"
   ]
  },
  {
   "cell_type": "code",
   "execution_count": null,
   "id": "b940a628",
   "metadata": {},
   "outputs": [],
   "source": [
    "# 다양한 자료형을 원소를 갖는 리스트로 시리즈를 생성합니다.\n",
    "sr1 = pd.Series(data = [1, 2.0, '3'], index = ['a', 'b', 'c'])"
   ]
  },
  {
   "cell_type": "code",
   "execution_count": null,
   "id": "cd6f6a03",
   "metadata": {},
   "outputs": [],
   "source": [
    "# sr1을 출력합니다. \n",
    "# sr1의 자료형은 'object'이며 원소별 자료형이 다릅니다. 문자열을 따옴표 없이 출력합니다.\n",
    "sr1"
   ]
  },
  {
   "cell_type": "code",
   "execution_count": null,
   "id": "b153973a",
   "metadata": {},
   "outputs": [],
   "source": [
    "# 반복문으로 sr1의 원소별 클래스를 출력합니다. 원소의 자료형이 제각각입니다.\n",
    "for i in sr1:\n",
    "    print(type(i))"
   ]
  },
  {
   "cell_type": "code",
   "execution_count": null,
   "id": "protected-donna",
   "metadata": {},
   "outputs": [],
   "source": [
    "# 딕셔너리로 시리즈를 생성합니다. 딕셔너리의 key를 인덱스로 설정됩니다.\n",
    "pd.Series(data = {'a': 1, 'b': 3, 'c': 5})"
   ]
  },
  {
   "cell_type": "markdown",
   "id": "funded-copyright",
   "metadata": {},
   "source": [
    "### 시리즈 인덱스 변경"
   ]
  },
  {
   "cell_type": "code",
   "execution_count": null,
   "id": "46fe8cf0",
   "metadata": {},
   "outputs": [],
   "source": [
    "# sr의 인덱스를 변경합니다.\n",
    "sr.index = [1, 1.0, '1']\n",
    "sr"
   ]
  },
  {
   "cell_type": "code",
   "execution_count": null,
   "id": "a450ec84",
   "metadata": {},
   "outputs": [],
   "source": [
    "# sr 인덱스의 클래스를 확인합니다.\n",
    "type(sr.index)"
   ]
  },
  {
   "cell_type": "code",
   "execution_count": null,
   "id": "under-london",
   "metadata": {},
   "outputs": [],
   "source": [
    "# sr의 인덱스를 변경합니다.\n",
    "sr.index = ['a', 'b', 'c']\n",
    "sr"
   ]
  },
  {
   "cell_type": "code",
   "execution_count": null,
   "id": "d50fdce7",
   "metadata": {},
   "outputs": [],
   "source": [
    "# sr 인덱스의 클래스를 확인합니다.\n",
    "type(sr.index)"
   ]
  },
  {
   "cell_type": "markdown",
   "id": "laughing-effects",
   "metadata": {},
   "source": [
    "### 시리즈 인덱싱 및 슬라이싱: iloc 인덱서"
   ]
  },
  {
   "cell_type": "code",
   "execution_count": null,
   "id": "proof-governor",
   "metadata": {},
   "outputs": [],
   "source": [
    "# 대괄호 안에 정수 인덱스를 스칼라로 지정하면 해당 원소를 반환합니다.\n",
    "sr.iloc[0]"
   ]
  },
  {
   "cell_type": "code",
   "execution_count": null,
   "id": "cloudy-wildlife",
   "metadata": {},
   "outputs": [],
   "source": [
    "# 대괄호 안에 정수 스칼라 대신 리스트로 지정하면 해당 원소를 시리즈로 반환합니다.\n",
    "sr.iloc[[0]]"
   ]
  },
  {
   "cell_type": "code",
   "execution_count": null,
   "id": "latest-involvement",
   "metadata": {},
   "outputs": [],
   "source": [
    "# 연속하지 않는 인덱스는 반드시 리스트로 지정합니다.\n",
    "sr.iloc[[0, 2]]"
   ]
  },
  {
   "cell_type": "code",
   "execution_count": null,
   "id": "dramatic-associate",
   "metadata": {},
   "outputs": [],
   "source": [
    "# 정수 인덱스로 슬라이싱하면 연속한 원소를 시리즈로 반환합니다.\n",
    "# [참고] iloc 인덱서는 콜론 오른쪽 인덱스를 포함하지 않습니다.\n",
    "sr.iloc[0:2]"
   ]
  },
  {
   "cell_type": "markdown",
   "id": "de1175a6",
   "metadata": {},
   "source": [
    "### 시리즈 인덱싱 및 슬라이싱: loc 인덱서"
   ]
  },
  {
   "cell_type": "code",
   "execution_count": null,
   "id": "closing-concept",
   "metadata": {},
   "outputs": [],
   "source": [
    "# 대괄호 안에 행이름을 스칼라로 지정하면 해당 원소를 반환합니다.\n",
    "sr.loc['a']"
   ]
  },
  {
   "cell_type": "code",
   "execution_count": null,
   "id": "infinite-fireplace",
   "metadata": {},
   "outputs": [],
   "source": [
    "# 대괄호 안에 행이름 스칼라 대신 리스트로 지정하면 해당 원소를 시리즈로 반환합니다.\n",
    "sr.loc[['a']]"
   ]
  },
  {
   "cell_type": "code",
   "execution_count": null,
   "id": "genetic-delay",
   "metadata": {},
   "outputs": [],
   "source": [
    "# 연속하지 않는 행이름은 반드시 리스트로 지정합니다.\n",
    "sr.loc[['a', 'c']]"
   ]
  },
  {
   "cell_type": "code",
   "execution_count": null,
   "id": "emerging-federal",
   "metadata": {},
   "outputs": [],
   "source": [
    "# 행이름으로 콜론을 사용한 슬라이싱하면 연속한 원소를 시리즈로 반환합니다.\n",
    "# [참고] loc 인덱서는 콜론 오른쪽 행이름을 포함합니다!\n",
    "sr.loc['a':'c']"
   ]
  },
  {
   "cell_type": "markdown",
   "id": "f9edcc80",
   "metadata": {},
   "source": [
    "### [참고] 인덱서를 반드시 사용해야 하나?"
   ]
  },
  {
   "cell_type": "code",
   "execution_count": null,
   "id": "5c562fb4",
   "metadata": {},
   "outputs": [],
   "source": [
    "# 인덱스가 정수 1부터 시작하는 시리즈를 생성합니다.\n",
    "sr2 = pd.Series(data = range(3), index = range(1, 4))\n",
    "sr2"
   ]
  },
  {
   "cell_type": "code",
   "execution_count": null,
   "id": "b0d34ef5",
   "metadata": {
    "scrolled": true
   },
   "outputs": [],
   "source": [
    "# sr2의 행이름에 정수 0이 없으므로 에러가 발생합니다.\n",
    "sr2[0]"
   ]
  },
  {
   "cell_type": "code",
   "execution_count": null,
   "id": "e0c2aa0d",
   "metadata": {},
   "outputs": [],
   "source": [
    "# sr2의 행이름이 정수 1인 원소를 선택합니다.\n",
    "sr2[1]"
   ]
  },
  {
   "cell_type": "code",
   "execution_count": null,
   "id": "c132666b",
   "metadata": {},
   "outputs": [],
   "source": [
    "# 인덱스가 중복하는 시리즈를 생성합니다.\n",
    "sr3 = pd.Series(data = range(3), index = np.tile(1, 3))\n",
    "sr3"
   ]
  },
  {
   "cell_type": "code",
   "execution_count": null,
   "id": "db90ba77",
   "metadata": {},
   "outputs": [],
   "source": [
    "# sr3의 행이름이 정수 1인 원소를 모두 선택합니다.\n",
    "sr3[1]"
   ]
  },
  {
   "cell_type": "code",
   "execution_count": null,
   "id": "67e360eb",
   "metadata": {},
   "outputs": [],
   "source": [
    "# sr3의 첫 번째 원소를 선택하려면 iloc 인덱서를 사용해야 합니다.\n",
    "sr3.iloc[0]"
   ]
  },
  {
   "cell_type": "markdown",
   "id": "46c3a812",
   "metadata": {},
   "source": [
    "### 시리즈의 불리언 인덱싱"
   ]
  },
  {
   "cell_type": "code",
   "execution_count": null,
   "id": "interstate-range",
   "metadata": {},
   "outputs": [],
   "source": [
    "# 시리즈로 비교 연산을 실행합니다.\n",
    "sr >= 3"
   ]
  },
  {
   "cell_type": "code",
   "execution_count": null,
   "id": "paperback-stupid",
   "metadata": {},
   "outputs": [],
   "source": [
    "# 대괄호 안에 비교 연산 코드를 지정하면 True에 해당하는 원소를 선택합니다.\n",
    "# [주의] iloc 인덱서를 사용하면 에러가 발생합니다.\n",
    "sr.loc[sr >= 3]"
   ]
  },
  {
   "cell_type": "code",
   "execution_count": null,
   "id": "occupied-chapel",
   "metadata": {},
   "outputs": [],
   "source": [
    "# 두 개 이상의 조건을 고려하려면 비트 연산자를 추가합니다.\n",
    "# [주의] 반드시 개별 조건을 소괄호로 감싸야 합니다.\n",
    "sr.loc[(sr >= 3) & (sr < 5)]"
   ]
  },
  {
   "cell_type": "code",
   "execution_count": null,
   "id": "7e946e12",
   "metadata": {},
   "outputs": [],
   "source": [
    "# [참고] loc 인덱서를 생략할 수 있지만 인덱서를 추가하는 것이 좋습니다.\n",
    "# 데이터프레임으로 불리언 인덱싱할 때 반드시 추가해야 하기 때문입니다.\n",
    "sr[(sr >= 3) & (sr < 5)]"
   ]
  },
  {
   "cell_type": "markdown",
   "id": "cbd4501c",
   "metadata": {},
   "source": [
    "### 비트 연산자 활용법"
   ]
  },
  {
   "cell_type": "code",
   "execution_count": null,
   "id": "4becbfd2",
   "metadata": {},
   "outputs": [],
   "source": [
    "# 부울형 시리즈에 논리 연산자를 사용하면 에러가 발생합니다.\n",
    "sr >= 3 and sr < 5"
   ]
  },
  {
   "cell_type": "code",
   "execution_count": null,
   "id": "462948d9",
   "metadata": {},
   "outputs": [],
   "source": [
    "# 논리 연산자는 진리값(True 또는 False 스칼라)에서 사용합니다.\n",
    "sr[0] >= 3 and sr[0] < 5"
   ]
  },
  {
   "cell_type": "code",
   "execution_count": null,
   "id": "dc34f9cf",
   "metadata": {},
   "outputs": [],
   "source": [
    "# 대응하는 원소가 모두 True면 True, 아니면 False를 반환합니다.[논리곱]\n",
    "(sr >= 3) & (sr < 5)"
   ]
  },
  {
   "cell_type": "code",
   "execution_count": null,
   "id": "513149a3",
   "metadata": {},
   "outputs": [],
   "source": [
    "# 대응하는 원소 중 하나라도 True면 True, 아니면 False를 반환합니다.[논리합]\n",
    "(sr >= 3) | (sr < 5)"
   ]
  },
  {
   "cell_type": "code",
   "execution_count": null,
   "id": "39f8a1a7",
   "metadata": {},
   "outputs": [],
   "source": [
    "# 대응하는 원소가 다르면 True, 같으면 False를 반환합니다.[배타적 논리합]\n",
    "(sr >= 3) ^ (sr < 5)"
   ]
  },
  {
   "cell_type": "code",
   "execution_count": null,
   "id": "a79baf36",
   "metadata": {},
   "outputs": [],
   "source": [
    "# True를 False로, False를 True로 반전합니다.[논리부정]\n",
    "~ (sr >= 3)"
   ]
  },
  {
   "cell_type": "markdown",
   "id": "2a5b7129",
   "metadata": {},
   "source": [
    "### 얕은 복사 vs 깊은 복사"
   ]
  },
  {
   "cell_type": "code",
   "execution_count": null,
   "id": "b5e11547",
   "metadata": {},
   "outputs": [],
   "source": [
    "# sr1을 얕은 복사한 sr4를 생성합니다.\n",
    "sr4 = sr1\n",
    "sr4"
   ]
  },
  {
   "cell_type": "code",
   "execution_count": null,
   "id": "5d1b874b",
   "metadata": {},
   "outputs": [],
   "source": [
    "# sr4의 첫 번째 원소를 2로 변경합니다.\n",
    "sr4.loc['a'] = 2\n",
    "sr4"
   ]
  },
  {
   "cell_type": "code",
   "execution_count": null,
   "id": "f938287d",
   "metadata": {},
   "outputs": [],
   "source": [
    "# sr1의 첫 번째 원소가 바뀌었습니다. [참고] 두 변수가 가리키는 객체가 같습니다.\n",
    "sr1"
   ]
  },
  {
   "cell_type": "code",
   "execution_count": null,
   "id": "cd272613",
   "metadata": {},
   "outputs": [],
   "source": [
    "# sr1을 깊은 복사한 sr5를 생성합니다.\n",
    "sr5 = sr1.copy()\n",
    "sr5"
   ]
  },
  {
   "cell_type": "code",
   "execution_count": null,
   "id": "9d0aa9c0",
   "metadata": {},
   "outputs": [],
   "source": [
    "# sr5의 첫 번째 원소를 1로 변경합니다.\n",
    "sr5.loc['a'] = 1\n",
    "sr5"
   ]
  },
  {
   "cell_type": "code",
   "execution_count": null,
   "id": "3535ea8d",
   "metadata": {},
   "outputs": [],
   "source": [
    "# sr1의 첫 번째 원소가 바뀌지 않았습니다. [참고] 두 변수가 가리키는 객체가 다릅니다.\n",
    "sr1"
   ]
  },
  {
   "cell_type": "markdown",
   "id": "associate-parker",
   "metadata": {},
   "source": [
    "### 데이터프레임 생성"
   ]
  },
  {
   "cell_type": "code",
   "execution_count": null,
   "id": "immune-commons",
   "metadata": {},
   "outputs": [],
   "source": [
    "# 리스트로 데이터프레임을 생성합니다.\n",
    "df = pd.DataFrame(data = [[1, 2, 3], [4, 5, 6]],\n",
    "                  index = [1, 2],\n",
    "                  columns = ['A', 'B', 'C'])"
   ]
  },
  {
   "cell_type": "code",
   "execution_count": null,
   "id": "inner-hindu",
   "metadata": {},
   "outputs": [],
   "source": [
    "# df를 출력합니다.\n",
    "df"
   ]
  },
  {
   "cell_type": "code",
   "execution_count": null,
   "id": "promising-composer",
   "metadata": {},
   "outputs": [],
   "source": [
    "# df의 클래스를 확인합니다. df의 클래스는 pandas.core.frame.DataFrame입니다.\n",
    "type(df)"
   ]
  },
  {
   "cell_type": "code",
   "execution_count": null,
   "id": "eleven-minutes",
   "metadata": {},
   "outputs": [],
   "source": [
    "# 딕셔너리로 데이터프레임을 생성합니다.\n",
    "# 딕셔너리 key를 열이름으로 적용하고, value를 열(세로 방향)로 입력합니다.\n",
    "pd.DataFrame(data = {'A': [1, 2, 3], \n",
    "                     'B': [4, 5, 6]})"
   ]
  },
  {
   "cell_type": "code",
   "execution_count": null,
   "id": "focused-sustainability",
   "metadata": {},
   "outputs": [],
   "source": [
    "# 딕셔너리를 원소로 갖는 리스트로 데이터프레임을 생성합니다.\n",
    "# 리스트 원소를 행(가로 방향)으로 입력합니다.\n",
    "pd.DataFrame(data = [{'A': 1, 'B': 2, 'C': 3},\n",
    "                     {'A': 4, 'B': 5, 'C': 6}])"
   ]
  },
  {
   "cell_type": "markdown",
   "id": "separate-clarity",
   "metadata": {},
   "source": [
    "### 데이터프레임 확인"
   ]
  },
  {
   "cell_type": "code",
   "execution_count": null,
   "id": "5a79e620",
   "metadata": {},
   "outputs": [],
   "source": [
    "# df의 차원을 확인합니다.(2차원)\n",
    "df.ndim"
   ]
  },
  {
   "cell_type": "code",
   "execution_count": null,
   "id": "waiting-camel",
   "metadata": {},
   "outputs": [],
   "source": [
    "# df의 형태를 확인합니다. df의 행 개수와 열 개수를 튜플로 반환합니다.\n",
    "df.shape"
   ]
  },
  {
   "cell_type": "code",
   "execution_count": null,
   "id": "individual-hardwood",
   "metadata": {},
   "outputs": [],
   "source": [
    "# df의 열별 자료형을 확인합니다. \n",
    "df.dtypes"
   ]
  },
  {
   "cell_type": "code",
   "execution_count": null,
   "id": "composite-bible",
   "metadata": {},
   "outputs": [],
   "source": [
    "# df의 셀 값을 확인합니다.\n",
    "df.values"
   ]
  },
  {
   "cell_type": "code",
   "execution_count": null,
   "id": "beneficial-latest",
   "metadata": {},
   "outputs": [],
   "source": [
    "# df의 행이름(인덱스)을 확인합니다. \n",
    "df.index"
   ]
  },
  {
   "cell_type": "code",
   "execution_count": null,
   "id": "iraqi-morgan",
   "metadata": {},
   "outputs": [],
   "source": [
    "# df의 열이름(컬럼명)을 확인합니다. \n",
    "df.columns"
   ]
  },
  {
   "cell_type": "code",
   "execution_count": null,
   "id": "collaborative-spirituality",
   "metadata": {},
   "outputs": [],
   "source": [
    "# df의 정보를 확인합니다.\n",
    "# (행 개수, 열 개수, 행이름, 열이름, 열별 결측값을 제외한 원소 개수 및 자료형)\n",
    "df.info()"
   ]
  },
  {
   "cell_type": "markdown",
   "id": "vocational-sacrifice",
   "metadata": {},
   "source": [
    "## End of Document"
   ]
  }
 ],
 "metadata": {
  "kernelspec": {
   "display_name": "Python 3 (ipykernel)",
   "language": "python",
   "name": "python3"
  },
  "language_info": {
   "codemirror_mode": {
    "name": "ipython",
    "version": 3
   },
   "file_extension": ".py",
   "mimetype": "text/x-python",
   "name": "python",
   "nbconvert_exporter": "python",
   "pygments_lexer": "ipython3",
   "version": "3.10.4"
  },
  "toc": {
   "base_numbering": 1,
   "nav_menu": {},
   "number_sections": false,
   "sideBar": true,
   "skip_h1_title": false,
   "title_cell": "Table of Contents",
   "title_sidebar": "Contents",
   "toc_cell": false,
   "toc_position": {},
   "toc_section_display": true,
   "toc_window_display": false
  },
  "varInspector": {
   "cols": {
    "lenName": 16,
    "lenType": 16,
    "lenVar": 40
   },
   "kernels_config": {
    "python": {
     "delete_cmd_postfix": "",
     "delete_cmd_prefix": "del ",
     "library": "var_list.py",
     "varRefreshCmd": "print(var_dic_list())"
    },
    "r": {
     "delete_cmd_postfix": ") ",
     "delete_cmd_prefix": "rm(",
     "library": "var_list.r",
     "varRefreshCmd": "cat(var_dic_list()) "
    }
   },
   "types_to_exclude": [
    "module",
    "function",
    "builtin_function_or_method",
    "instance",
    "_Feature"
   ],
   "window_display": false
  }
 },
 "nbformat": 4,
 "nbformat_minor": 5
}
