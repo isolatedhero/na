{
 "cells": [
  {
   "cell_type": "code",
   "execution_count": null,
   "id": "eb5fa6d3",
   "metadata": {},
   "outputs": [],
   "source": [
    "import os\n",
    "import numpy as np\n",
    "import pandas as pd"
   ]
  },
  {
   "cell_type": "code",
   "execution_count": null,
   "id": "ca209380",
   "metadata": {},
   "outputs": [],
   "source": [
    "sr = pd.Series(data = np.arange(1, 6, 2))"
   ]
  },
  {
   "cell_type": "code",
   "execution_count": null,
   "id": "e79edc4a",
   "metadata": {},
   "outputs": [],
   "source": [
    "sr"
   ]
  },
  {
   "cell_type": "code",
   "execution_count": null,
   "id": "59eb9c8e",
   "metadata": {},
   "outputs": [],
   "source": [
    "type(sr)"
   ]
  },
  {
   "cell_type": "code",
   "execution_count": null,
   "id": "51fd6867",
   "metadata": {},
   "outputs": [],
   "source": [
    "sr.ndim"
   ]
  },
  {
   "cell_type": "code",
   "execution_count": null,
   "id": "a9768faa",
   "metadata": {},
   "outputs": [],
   "source": [
    "sr.shape"
   ]
  },
  {
   "cell_type": "code",
   "execution_count": null,
   "id": "309faf36",
   "metadata": {},
   "outputs": [],
   "source": [
    "sr.dtypes"
   ]
  },
  {
   "cell_type": "code",
   "execution_count": null,
   "id": "37e89232",
   "metadata": {},
   "outputs": [],
   "source": [
    "sr.index"
   ]
  },
  {
   "cell_type": "code",
   "execution_count": null,
   "id": "788922df",
   "metadata": {},
   "outputs": [],
   "source": [
    "sr.index = ['a', 'b', 'c']"
   ]
  },
  {
   "cell_type": "code",
   "execution_count": null,
   "id": "2cb20df2",
   "metadata": {},
   "outputs": [],
   "source": [
    "sr"
   ]
  },
  {
   "cell_type": "code",
   "execution_count": null,
   "id": "72dc7269",
   "metadata": {},
   "outputs": [],
   "source": [
    "sr.values"
   ]
  },
  {
   "cell_type": "code",
   "execution_count": null,
   "id": "13b22da3",
   "metadata": {},
   "outputs": [],
   "source": [
    "sr1 = pd.Series(data = [1, 2.0, '3'], index = ['a', 'b', 'c'])"
   ]
  },
  {
   "cell_type": "code",
   "execution_count": null,
   "id": "5e07e546",
   "metadata": {},
   "outputs": [],
   "source": [
    "sr1.dtypes"
   ]
  },
  {
   "cell_type": "code",
   "execution_count": null,
   "id": "9c6cd373",
   "metadata": {},
   "outputs": [],
   "source": [
    "sr1"
   ]
  },
  {
   "cell_type": "code",
   "execution_count": null,
   "id": "afbfc105",
   "metadata": {},
   "outputs": [],
   "source": [
    "sr + 1"
   ]
  },
  {
   "cell_type": "code",
   "execution_count": null,
   "id": "e6adafc2",
   "metadata": {},
   "outputs": [],
   "source": [
    "sr1 + '1'"
   ]
  },
  {
   "cell_type": "code",
   "execution_count": null,
   "id": "2ce9274c",
   "metadata": {},
   "outputs": [],
   "source": [
    "sr1 = sr1.astype('str')"
   ]
  },
  {
   "cell_type": "code",
   "execution_count": null,
   "id": "87bcb370",
   "metadata": {},
   "outputs": [],
   "source": [
    "sr1"
   ]
  },
  {
   "cell_type": "code",
   "execution_count": null,
   "id": "ed36802b",
   "metadata": {},
   "outputs": [],
   "source": [
    "sr1 + '1'"
   ]
  },
  {
   "cell_type": "code",
   "execution_count": null,
   "id": "10041825",
   "metadata": {},
   "outputs": [],
   "source": [
    "sr.iloc[0]"
   ]
  },
  {
   "cell_type": "code",
   "execution_count": null,
   "id": "457f0b29",
   "metadata": {},
   "outputs": [],
   "source": [
    "sr.iloc[[0]]"
   ]
  },
  {
   "cell_type": "code",
   "execution_count": null,
   "id": "fc001e6f",
   "metadata": {},
   "outputs": [],
   "source": [
    "sr.iloc[[0, 2]]"
   ]
  },
  {
   "cell_type": "code",
   "execution_count": null,
   "id": "f8ea7abd",
   "metadata": {},
   "outputs": [],
   "source": [
    "sr.iloc[0:2]"
   ]
  },
  {
   "cell_type": "code",
   "execution_count": null,
   "id": "18dac499",
   "metadata": {},
   "outputs": [],
   "source": [
    "sr"
   ]
  },
  {
   "cell_type": "code",
   "execution_count": null,
   "id": "82179c6e",
   "metadata": {},
   "outputs": [],
   "source": [
    "sr.loc['a']"
   ]
  },
  {
   "cell_type": "code",
   "execution_count": null,
   "id": "6637df42",
   "metadata": {},
   "outputs": [],
   "source": [
    "sr.loc[['a', 'b']]"
   ]
  },
  {
   "cell_type": "code",
   "execution_count": null,
   "id": "40c22be6",
   "metadata": {},
   "outputs": [],
   "source": [
    "sr.loc['a':'c']"
   ]
  },
  {
   "cell_type": "code",
   "execution_count": null,
   "id": "250a4840",
   "metadata": {},
   "outputs": [],
   "source": [
    "sr >= 3"
   ]
  },
  {
   "cell_type": "code",
   "execution_count": null,
   "id": "2bbc573a",
   "metadata": {},
   "outputs": [],
   "source": [
    "sr.loc[sr >= 3]"
   ]
  },
  {
   "cell_type": "code",
   "execution_count": null,
   "id": "4c5946b0",
   "metadata": {},
   "outputs": [],
   "source": [
    "sr.iloc[sr >= 3]"
   ]
  },
  {
   "cell_type": "code",
   "execution_count": null,
   "id": "5eea16e9",
   "metadata": {},
   "outputs": [],
   "source": [
    "(sr >= 3) & (sr < 5)"
   ]
  },
  {
   "cell_type": "code",
   "execution_count": null,
   "id": "2269cb2d",
   "metadata": {},
   "outputs": [],
   "source": [
    "sr.loc[(sr >= 3) & (sr < 5)]"
   ]
  },
  {
   "cell_type": "code",
   "execution_count": null,
   "id": "5dbf1750",
   "metadata": {},
   "outputs": [],
   "source": [
    "(sr >= 3).sum()"
   ]
  },
  {
   "cell_type": "code",
   "execution_count": null,
   "id": "442c4acf",
   "metadata": {},
   "outputs": [],
   "source": [
    "sr >= 3"
   ]
  },
  {
   "cell_type": "code",
   "execution_count": null,
   "id": "d1eeb97c",
   "metadata": {},
   "outputs": [],
   "source": [
    "sr < 5"
   ]
  },
  {
   "cell_type": "code",
   "execution_count": null,
   "id": "47b59512",
   "metadata": {},
   "outputs": [],
   "source": [
    "(sr >= 3) | (sr < 5)"
   ]
  },
  {
   "cell_type": "code",
   "execution_count": null,
   "id": "6cf29aac",
   "metadata": {},
   "outputs": [],
   "source": [
    "~ (sr >= 3)"
   ]
  },
  {
   "cell_type": "code",
   "execution_count": null,
   "id": "438e01af",
   "metadata": {},
   "outputs": [],
   "source": [
    "sr2 = pd.Series(data = range(3), index = range(1, 4))\n",
    "sr2"
   ]
  },
  {
   "cell_type": "code",
   "execution_count": null,
   "id": "b56983c5",
   "metadata": {},
   "outputs": [],
   "source": [
    "sr2[0]"
   ]
  },
  {
   "cell_type": "code",
   "execution_count": null,
   "id": "6cdea955",
   "metadata": {},
   "outputs": [],
   "source": [
    "sr2[1]"
   ]
  },
  {
   "cell_type": "code",
   "execution_count": null,
   "id": "42503e8a",
   "metadata": {},
   "outputs": [],
   "source": [
    "sr3 = pd.Series(data = range(3), index = np.tile(1, 3))"
   ]
  },
  {
   "cell_type": "code",
   "execution_count": null,
   "id": "420796c7",
   "metadata": {},
   "outputs": [],
   "source": [
    "sr3"
   ]
  },
  {
   "cell_type": "code",
   "execution_count": null,
   "id": "54537f47",
   "metadata": {},
   "outputs": [],
   "source": [
    "sr3[1]"
   ]
  },
  {
   "cell_type": "code",
   "execution_count": null,
   "id": "53c20b51",
   "metadata": {},
   "outputs": [],
   "source": [
    "sr3.iloc[0]"
   ]
  },
  {
   "cell_type": "code",
   "execution_count": null,
   "id": "95759a20",
   "metadata": {},
   "outputs": [],
   "source": [
    "sr"
   ]
  },
  {
   "cell_type": "code",
   "execution_count": null,
   "id": "8bff4f95",
   "metadata": {},
   "outputs": [],
   "source": [
    "sr1 = sr\n",
    "sr1"
   ]
  },
  {
   "cell_type": "code",
   "execution_count": null,
   "id": "0b8c57ef",
   "metadata": {},
   "outputs": [],
   "source": [
    "sr1.loc['a'] = 2\n",
    "sr1"
   ]
  },
  {
   "cell_type": "code",
   "execution_count": null,
   "id": "38057faf",
   "metadata": {},
   "outputs": [],
   "source": [
    "sr"
   ]
  },
  {
   "cell_type": "code",
   "execution_count": null,
   "id": "f90d0496",
   "metadata": {},
   "outputs": [],
   "source": [
    "sr2 = sr.copy()\n",
    "sr2"
   ]
  },
  {
   "cell_type": "code",
   "execution_count": null,
   "id": "342d8ef0",
   "metadata": {},
   "outputs": [],
   "source": [
    "sr2.loc['a'] = 1\n",
    "sr2"
   ]
  },
  {
   "cell_type": "code",
   "execution_count": null,
   "id": "c1301518",
   "metadata": {},
   "outputs": [],
   "source": [
    "sr"
   ]
  },
  {
   "cell_type": "code",
   "execution_count": null,
   "id": "34332314",
   "metadata": {},
   "outputs": [],
   "source": [
    "df = pd.DataFrame(data = [[1, 2, 3], [4, 5, 6]],\n",
    "                  index = [1, 2], \n",
    "                  columns = ['A', 'B', 'C'])"
   ]
  },
  {
   "cell_type": "code",
   "execution_count": null,
   "id": "4f641039",
   "metadata": {},
   "outputs": [],
   "source": [
    "df"
   ]
  },
  {
   "cell_type": "code",
   "execution_count": null,
   "id": "e11cb976",
   "metadata": {},
   "outputs": [],
   "source": [
    "type(df)"
   ]
  },
  {
   "cell_type": "code",
   "execution_count": null,
   "id": "b7d49b82",
   "metadata": {},
   "outputs": [],
   "source": [
    "df.ndim"
   ]
  },
  {
   "cell_type": "code",
   "execution_count": null,
   "id": "291bc8c2",
   "metadata": {},
   "outputs": [],
   "source": [
    "df.shape"
   ]
  },
  {
   "cell_type": "code",
   "execution_count": null,
   "id": "514ad462",
   "metadata": {},
   "outputs": [],
   "source": [
    "df.dtypes"
   ]
  },
  {
   "cell_type": "code",
   "execution_count": null,
   "id": "f0cb9921",
   "metadata": {},
   "outputs": [],
   "source": [
    "df.values"
   ]
  },
  {
   "cell_type": "code",
   "execution_count": null,
   "id": "06f780a8",
   "metadata": {},
   "outputs": [],
   "source": [
    "df.index"
   ]
  },
  {
   "cell_type": "code",
   "execution_count": null,
   "id": "a468230a",
   "metadata": {},
   "outputs": [],
   "source": [
    "df.columns"
   ]
  },
  {
   "cell_type": "code",
   "execution_count": null,
   "id": "7c4e8b11",
   "metadata": {},
   "outputs": [],
   "source": [
    "df.info()"
   ]
  },
  {
   "cell_type": "raw",
   "id": "cd9ce961",
   "metadata": {},
   "source": [
    "!pip install chardet"
   ]
  },
  {
   "cell_type": "raw",
   "id": "78b16df8",
   "metadata": {},
   "source": [
    "!pip install openpyxl"
   ]
  },
  {
   "cell_type": "code",
   "execution_count": null,
   "id": "a4fd0fe8",
   "metadata": {},
   "outputs": [],
   "source": [
    "import os, chardet\n",
    "import numpy as np\n",
    "import pandas as pd"
   ]
  },
  {
   "cell_type": "code",
   "execution_count": null,
   "id": "23a5349b",
   "metadata": {},
   "outputs": [],
   "source": [
    "os.getcwd()"
   ]
  },
  {
   "cell_type": "code",
   "execution_count": null,
   "id": "98ba09d1",
   "metadata": {},
   "outputs": [],
   "source": [
    "os.chdir('../data')"
   ]
  },
  {
   "cell_type": "code",
   "execution_count": null,
   "id": "1ad739d4",
   "metadata": {},
   "outputs": [],
   "source": [
    "# os.chdir('D:/data')"
   ]
  },
  {
   "cell_type": "code",
   "execution_count": null,
   "id": "5e2d561f",
   "metadata": {},
   "outputs": [],
   "source": [
    "files = os.listdir()\n",
    "files.sort()\n",
    "files"
   ]
  },
  {
   "cell_type": "code",
   "execution_count": null,
   "id": "2419b115",
   "metadata": {},
   "outputs": [],
   "source": [
    "df = pd.read_excel('KBO_Hitters_2021.xlsx', sheet_name = 'Hitters', skiprows = 4)"
   ]
  },
  {
   "cell_type": "code",
   "execution_count": null,
   "id": "e3213016",
   "metadata": {},
   "outputs": [],
   "source": [
    "df"
   ]
  },
  {
   "cell_type": "code",
   "execution_count": null,
   "id": "098a6e57",
   "metadata": {},
   "outputs": [],
   "source": [
    "df.head(n = 10)"
   ]
  },
  {
   "cell_type": "code",
   "execution_count": null,
   "id": "c06c8e83",
   "metadata": {},
   "outputs": [],
   "source": [
    "df.tail(n = 10)"
   ]
  },
  {
   "cell_type": "code",
   "execution_count": null,
   "id": "065dd8fc",
   "metadata": {},
   "outputs": [],
   "source": [
    "df.shape[0]"
   ]
  },
  {
   "cell_type": "code",
   "execution_count": null,
   "id": "550b5458",
   "metadata": {},
   "outputs": [],
   "source": [
    "df.index = range(1, df.shape[0]+1)"
   ]
  },
  {
   "cell_type": "code",
   "execution_count": null,
   "id": "56355d55",
   "metadata": {},
   "outputs": [],
   "source": [
    "df"
   ]
  },
  {
   "cell_type": "code",
   "execution_count": null,
   "id": "f91ea615",
   "metadata": {},
   "outputs": [],
   "source": [
    "df.to_excel('test.xlsx', index = None)"
   ]
  },
  {
   "cell_type": "code",
   "execution_count": null,
   "id": "de8fefeb",
   "metadata": {},
   "outputs": [],
   "source": [
    "os.listdir()"
   ]
  },
  {
   "cell_type": "code",
   "execution_count": null,
   "id": "626857ab",
   "metadata": {},
   "outputs": [],
   "source": [
    "fileName = 'KBO_Hitters_2021.csv'"
   ]
  },
  {
   "cell_type": "code",
   "execution_count": null,
   "id": "b9545450",
   "metadata": {},
   "outputs": [],
   "source": [
    "raw = open(file = fileName, mode = 'rb').read()"
   ]
  },
  {
   "cell_type": "code",
   "execution_count": null,
   "id": "3fd4ad74",
   "metadata": {},
   "outputs": [],
   "source": [
    "raw"
   ]
  },
  {
   "cell_type": "code",
   "execution_count": null,
   "id": "1f8c7a30",
   "metadata": {},
   "outputs": [],
   "source": [
    "chardet.detect(raw)"
   ]
  },
  {
   "cell_type": "code",
   "execution_count": null,
   "id": "ee58cf2f",
   "metadata": {},
   "outputs": [],
   "source": [
    "df1 = pd.read_csv(fileName, encoding = 'EUC-KR')"
   ]
  },
  {
   "cell_type": "code",
   "execution_count": null,
   "id": "2194fbcb",
   "metadata": {},
   "outputs": [],
   "source": [
    "df1.to_csv('test.csv', index = None, encoding = 'UTF-8')"
   ]
  },
  {
   "cell_type": "code",
   "execution_count": null,
   "id": "39b2508a",
   "metadata": {},
   "outputs": [],
   "source": [
    "raw = open(file = 'test.csv', mode = 'rb').read()"
   ]
  },
  {
   "cell_type": "code",
   "execution_count": null,
   "id": "1f098bac",
   "metadata": {},
   "outputs": [],
   "source": [
    "chardet.detect(raw)"
   ]
  },
  {
   "cell_type": "code",
   "execution_count": null,
   "id": "adb4f9bc",
   "metadata": {},
   "outputs": [],
   "source": [
    "df2 = pd.read_csv('test.csv')"
   ]
  },
  {
   "cell_type": "code",
   "execution_count": null,
   "id": "40a944f6",
   "metadata": {},
   "outputs": [],
   "source": [
    "df"
   ]
  },
  {
   "cell_type": "code",
   "execution_count": null,
   "id": "9ac21dd7",
   "metadata": {},
   "outputs": [],
   "source": [
    "df.iloc[0]"
   ]
  },
  {
   "cell_type": "code",
   "execution_count": null,
   "id": "f11799ec",
   "metadata": {},
   "outputs": [],
   "source": [
    "df.iloc[[0]]"
   ]
  },
  {
   "cell_type": "code",
   "execution_count": null,
   "id": "ef6f04d2",
   "metadata": {},
   "outputs": [],
   "source": [
    "df.iloc[0:10]"
   ]
  },
  {
   "cell_type": "code",
   "execution_count": null,
   "id": "b3df7308",
   "metadata": {},
   "outputs": [],
   "source": [
    "df.iloc[0:10, :]"
   ]
  },
  {
   "cell_type": "code",
   "execution_count": null,
   "id": "61c969f7",
   "metadata": {},
   "outputs": [],
   "source": [
    "df.iloc[0:10, 0:12]"
   ]
  },
  {
   "cell_type": "code",
   "execution_count": null,
   "id": "c8da3123",
   "metadata": {},
   "outputs": [],
   "source": [
    "df.iloc[:, [1, 0, 5, 6]]"
   ]
  },
  {
   "cell_type": "code",
   "execution_count": null,
   "id": "5a59bc04",
   "metadata": {},
   "outputs": [],
   "source": [
    "df"
   ]
  },
  {
   "cell_type": "code",
   "execution_count": null,
   "id": "88a813e5",
   "metadata": {},
   "outputs": [],
   "source": [
    "df.loc[1]"
   ]
  },
  {
   "cell_type": "code",
   "execution_count": null,
   "id": "57db5b3b",
   "metadata": {},
   "outputs": [],
   "source": [
    "df.loc[[1]]"
   ]
  },
  {
   "cell_type": "code",
   "execution_count": null,
   "id": "3c332a6a",
   "metadata": {},
   "outputs": [],
   "source": [
    "df.loc[1:10]"
   ]
  },
  {
   "cell_type": "code",
   "execution_count": null,
   "id": "c8542cbf",
   "metadata": {},
   "outputs": [],
   "source": [
    "df.loc[1:10, :]"
   ]
  },
  {
   "cell_type": "code",
   "execution_count": null,
   "id": "7fa25747",
   "metadata": {},
   "outputs": [],
   "source": [
    "df.loc[1:10, '선수명':'도루']"
   ]
  },
  {
   "cell_type": "code",
   "execution_count": null,
   "id": "c8eb1718",
   "metadata": {},
   "outputs": [],
   "source": [
    "df.loc[:, ['팀명', '선수명', '안타', '홈런']]"
   ]
  },
  {
   "cell_type": "markdown",
   "id": "559b48a5",
   "metadata": {},
   "source": [
    "### 이현숙님 질문"
   ]
  },
  {
   "cell_type": "code",
   "execution_count": null,
   "id": "90ea6be1",
   "metadata": {},
   "outputs": [],
   "source": [
    "df1 = df[['팀명', '선수명', '안타', '홈런']].copy()"
   ]
  },
  {
   "cell_type": "code",
   "execution_count": null,
   "id": "f4b2ce37",
   "metadata": {},
   "outputs": [],
   "source": [
    "df1"
   ]
  },
  {
   "cell_type": "code",
   "execution_count": null,
   "id": "908ca2ad",
   "metadata": {},
   "outputs": [],
   "source": [
    "df1.columns = np.tile('팀명', 4)"
   ]
  },
  {
   "cell_type": "code",
   "execution_count": null,
   "id": "ac12faf5",
   "metadata": {},
   "outputs": [],
   "source": [
    "df1.iloc[:, 1]"
   ]
  },
  {
   "cell_type": "code",
   "execution_count": null,
   "id": "8585bd9a",
   "metadata": {},
   "outputs": [],
   "source": []
  },
  {
   "cell_type": "code",
   "execution_count": null,
   "id": "79d40f40",
   "metadata": {},
   "outputs": [],
   "source": []
  },
  {
   "cell_type": "code",
   "execution_count": null,
   "id": "e004c61a",
   "metadata": {},
   "outputs": [],
   "source": [
    "import os, chardet\n",
    "import numpy as np\n",
    "import pandas as pd"
   ]
  },
  {
   "cell_type": "code",
   "execution_count": null,
   "id": "a1eb436f",
   "metadata": {},
   "outputs": [],
   "source": [
    "os.getcwd()"
   ]
  },
  {
   "cell_type": "code",
   "execution_count": null,
   "id": "978b97f1",
   "metadata": {},
   "outputs": [],
   "source": [
    "os.chdir('../data')"
   ]
  },
  {
   "cell_type": "code",
   "execution_count": null,
   "id": "5abe7d81",
   "metadata": {},
   "outputs": [],
   "source": [
    "os.listdir()"
   ]
  },
  {
   "cell_type": "code",
   "execution_count": null,
   "id": "f45c4cc4",
   "metadata": {},
   "outputs": [],
   "source": [
    "%time price = pd.read_excel('APT_Price_Seoul_2021.xlsx')"
   ]
  },
  {
   "cell_type": "code",
   "execution_count": null,
   "id": "39908714",
   "metadata": {},
   "outputs": [],
   "source": [
    "price.info()"
   ]
  },
  {
   "cell_type": "code",
   "execution_count": null,
   "id": "816df7b8",
   "metadata": {},
   "outputs": [],
   "source": [
    "price.head()"
   ]
  },
  {
   "cell_type": "code",
   "execution_count": null,
   "id": "c7029bfd",
   "metadata": {},
   "outputs": [],
   "source": [
    "%time detail = pd.read_excel('Naver_APT_Detail_Seoul.xlsx')"
   ]
  },
  {
   "cell_type": "code",
   "execution_count": null,
   "id": "b23f0131",
   "metadata": {},
   "outputs": [],
   "source": [
    "detail.info()"
   ]
  },
  {
   "cell_type": "code",
   "execution_count": null,
   "id": "d0757978",
   "metadata": {},
   "outputs": [],
   "source": [
    "detail.head()"
   ]
  },
  {
   "cell_type": "code",
   "execution_count": null,
   "id": "317b93dc",
   "metadata": {},
   "outputs": [],
   "source": [
    "fileName = 'APT_Price_Seoul_2021.csv'"
   ]
  },
  {
   "cell_type": "code",
   "execution_count": null,
   "id": "c9715eb9",
   "metadata": {},
   "outputs": [],
   "source": [
    "raw = open(file = fileName, mode = 'rb').read()"
   ]
  },
  {
   "cell_type": "code",
   "execution_count": null,
   "id": "69a54c98",
   "metadata": {},
   "outputs": [],
   "source": [
    "raw[:100]"
   ]
  },
  {
   "cell_type": "code",
   "execution_count": null,
   "id": "95b0b8d2",
   "metadata": {},
   "outputs": [],
   "source": [
    "%time chardet.detect(raw[:100])"
   ]
  },
  {
   "cell_type": "code",
   "execution_count": null,
   "id": "85ec8f7b",
   "metadata": {},
   "outputs": [],
   "source": [
    "%time df = pd.read_csv(fileName)"
   ]
  },
  {
   "cell_type": "code",
   "execution_count": null,
   "id": "15cc0cf3",
   "metadata": {},
   "outputs": [],
   "source": [
    "df.info()"
   ]
  },
  {
   "cell_type": "code",
   "execution_count": null,
   "id": "d131c71a",
   "metadata": {},
   "outputs": [],
   "source": [
    "df = pd.read_csv(fileName, parse_dates = ['거래일'])"
   ]
  },
  {
   "cell_type": "code",
   "execution_count": null,
   "id": "2ba3132d",
   "metadata": {},
   "outputs": [],
   "source": [
    "df.info()"
   ]
  },
  {
   "cell_type": "code",
   "execution_count": null,
   "id": "f3a06f7b",
   "metadata": {},
   "outputs": [],
   "source": [
    "price['거래금액']"
   ]
  },
  {
   "cell_type": "code",
   "execution_count": null,
   "id": "94ceff7d",
   "metadata": {},
   "outputs": [],
   "source": [
    "price[['거래금액']]"
   ]
  },
  {
   "cell_type": "code",
   "execution_count": null,
   "id": "771b2958",
   "metadata": {},
   "outputs": [],
   "source": [
    "price[['거래일', '거래금액']]"
   ]
  },
  {
   "cell_type": "code",
   "execution_count": null,
   "id": "7fb8ce5e",
   "metadata": {},
   "outputs": [],
   "source": [
    "price.loc[:, '거래일':'거래금액']"
   ]
  },
  {
   "cell_type": "code",
   "execution_count": null,
   "id": "df3fbc30",
   "metadata": {},
   "outputs": [],
   "source": [
    "price.dtypes"
   ]
  },
  {
   "cell_type": "code",
   "execution_count": null,
   "id": "65889b10",
   "metadata": {},
   "outputs": [],
   "source": [
    "price.dtypes == 'int64'"
   ]
  },
  {
   "cell_type": "code",
   "execution_count": null,
   "id": "1e0b07e4",
   "metadata": {},
   "outputs": [],
   "source": [
    "price.loc[:, price.dtypes == 'int64']"
   ]
  },
  {
   "cell_type": "code",
   "execution_count": null,
   "id": "41806067",
   "metadata": {},
   "outputs": [],
   "source": [
    "price.drop(labels = ['지역코드'], axis = 1, )"
   ]
  },
  {
   "cell_type": "code",
   "execution_count": null,
   "id": "532e3b9c",
   "metadata": {},
   "outputs": [],
   "source": [
    "price.head()"
   ]
  },
  {
   "cell_type": "code",
   "execution_count": null,
   "id": "c35c79a6",
   "metadata": {},
   "outputs": [],
   "source": [
    "price = price.drop(labels = ['지역코드'], axis = 1)"
   ]
  },
  {
   "cell_type": "code",
   "execution_count": null,
   "id": "4d8831d0",
   "metadata": {},
   "outputs": [],
   "source": [
    "price.head()"
   ]
  },
  {
   "cell_type": "code",
   "execution_count": null,
   "id": "2feab846",
   "metadata": {},
   "outputs": [],
   "source": [
    "price.rename(columns = {'시도명': '시도', '시군구': '자치구'})"
   ]
  },
  {
   "cell_type": "code",
   "execution_count": null,
   "id": "d4a7b414",
   "metadata": {},
   "outputs": [],
   "source": [
    "price.columns"
   ]
  },
  {
   "cell_type": "code",
   "execution_count": null,
   "id": "b8b197e8",
   "metadata": {},
   "outputs": [],
   "source": [
    "price.columns = ['아파트', '시도', '자치구', '읍면동', '지번', '거래일', '전용면적', '층', '거래금액']"
   ]
  },
  {
   "cell_type": "code",
   "execution_count": null,
   "id": "3fd90908",
   "metadata": {},
   "outputs": [],
   "source": [
    "price.head()"
   ]
  },
  {
   "cell_type": "code",
   "execution_count": null,
   "id": "c8e2d36c",
   "metadata": {
    "scrolled": true
   },
   "outputs": [],
   "source": [
    "price['거래금액'].astype('float')"
   ]
  },
  {
   "cell_type": "code",
   "execution_count": null,
   "id": "99c152f0",
   "metadata": {},
   "outputs": [],
   "source": [
    "price['거래금액'] = price['거래금액'].str.replace(',', '')"
   ]
  },
  {
   "cell_type": "code",
   "execution_count": null,
   "id": "e284c40f",
   "metadata": {},
   "outputs": [],
   "source": [
    "price['거래금액'] = price['거래금액'].astype('float')"
   ]
  },
  {
   "cell_type": "code",
   "execution_count": null,
   "id": "490d0191",
   "metadata": {},
   "outputs": [],
   "source": [
    "price['거래일'] = price['거래일'].astype('str')"
   ]
  },
  {
   "cell_type": "code",
   "execution_count": null,
   "id": "8a7285b2",
   "metadata": {},
   "outputs": [],
   "source": [
    "price.dtypes"
   ]
  },
  {
   "cell_type": "code",
   "execution_count": null,
   "id": "d39bf000",
   "metadata": {},
   "outputs": [],
   "source": [
    "price = price.astype({'거래일': 'datetime64', '층': 'float'})"
   ]
  },
  {
   "cell_type": "code",
   "execution_count": null,
   "id": "bc073872",
   "metadata": {},
   "outputs": [],
   "source": [
    "price.dtypes"
   ]
  },
  {
   "cell_type": "code",
   "execution_count": null,
   "id": "91e1105b",
   "metadata": {},
   "outputs": [],
   "source": [
    "cols = ['층', '거래금액']"
   ]
  },
  {
   "cell_type": "code",
   "execution_count": null,
   "id": "6ca146ae",
   "metadata": {},
   "outputs": [],
   "source": [
    "price[cols] = price[cols].astype('int')"
   ]
  },
  {
   "cell_type": "code",
   "execution_count": null,
   "id": "b3391852",
   "metadata": {},
   "outputs": [],
   "source": [
    "price.dtypes"
   ]
  },
  {
   "cell_type": "code",
   "execution_count": null,
   "id": "c596117e",
   "metadata": {},
   "outputs": [],
   "source": [
    "dates = pd.DataFrame(data = ['2022년 1월 1일', '2022년 4월 1일'], \n",
    "                     columns = ['Date'])"
   ]
  },
  {
   "cell_type": "code",
   "execution_count": null,
   "id": "2a8fa04f",
   "metadata": {},
   "outputs": [],
   "source": [
    "dates"
   ]
  },
  {
   "cell_type": "code",
   "execution_count": null,
   "id": "11b93c8e",
   "metadata": {},
   "outputs": [],
   "source": [
    "dates.info()"
   ]
  },
  {
   "cell_type": "code",
   "execution_count": null,
   "id": "ba682461",
   "metadata": {
    "scrolled": true
   },
   "outputs": [],
   "source": [
    "dates['Date'].astype('datetime64')"
   ]
  },
  {
   "cell_type": "code",
   "execution_count": null,
   "id": "52b97f58",
   "metadata": {},
   "outputs": [],
   "source": [
    "pd.to_datetime(arg = dates['Date'], format = '%Y년 %m월 %d일')"
   ]
  },
  {
   "cell_type": "code",
   "execution_count": null,
   "id": "0461467b",
   "metadata": {},
   "outputs": [],
   "source": [
    "price['거래일'].dt.year"
   ]
  },
  {
   "cell_type": "code",
   "execution_count": null,
   "id": "ae975dc7",
   "metadata": {},
   "outputs": [],
   "source": [
    "price['거래일'].dt.strftime('%A')"
   ]
  },
  {
   "cell_type": "code",
   "execution_count": null,
   "id": "3ba93f5c",
   "metadata": {},
   "outputs": [],
   "source": [
    "price['거래일'].dt.day_name('ko_KR')"
   ]
  },
  {
   "cell_type": "code",
   "execution_count": null,
   "id": "582d40c8",
   "metadata": {},
   "outputs": [],
   "source": [
    "df1 = price[price['거래금액'] >= 1000000].copy()"
   ]
  },
  {
   "cell_type": "code",
   "execution_count": null,
   "id": "813a1466",
   "metadata": {},
   "outputs": [],
   "source": [
    "df1.head()"
   ]
  },
  {
   "cell_type": "code",
   "execution_count": null,
   "id": "1bb77b16",
   "metadata": {},
   "outputs": [],
   "source": [
    "df1"
   ]
  },
  {
   "cell_type": "code",
   "execution_count": null,
   "id": "487fe773",
   "metadata": {},
   "outputs": [],
   "source": [
    "df1.info()"
   ]
  },
  {
   "cell_type": "code",
   "execution_count": null,
   "id": "f1c79ea1",
   "metadata": {},
   "outputs": [],
   "source": [
    "df2 = price[(price['거래금액'] < 1000000) & (price['층'] >= 60)].copy()"
   ]
  },
  {
   "cell_type": "code",
   "execution_count": null,
   "id": "ca732b1a",
   "metadata": {},
   "outputs": [],
   "source": [
    "df2"
   ]
  },
  {
   "cell_type": "code",
   "execution_count": null,
   "id": "165ec83c",
   "metadata": {},
   "outputs": [],
   "source": [
    "df2.iloc[0]"
   ]
  },
  {
   "cell_type": "code",
   "execution_count": null,
   "id": "72ada2c8",
   "metadata": {},
   "outputs": [],
   "source": [
    "df2.loc[507]"
   ]
  },
  {
   "cell_type": "code",
   "execution_count": null,
   "id": "c5ce1cce",
   "metadata": {},
   "outputs": [],
   "source": [
    "df2.info()"
   ]
  },
  {
   "cell_type": "code",
   "execution_count": null,
   "id": "ac8b5939",
   "metadata": {},
   "outputs": [],
   "source": [
    "price['층'].gt(60).sum()"
   ]
  },
  {
   "cell_type": "code",
   "execution_count": null,
   "id": "0b630051",
   "metadata": {},
   "outputs": [],
   "source": [
    "price['층'].ge(60).sum()"
   ]
  },
  {
   "cell_type": "code",
   "execution_count": null,
   "id": "206fac25",
   "metadata": {},
   "outputs": [],
   "source": [
    "price['층'].lt(60).sum()"
   ]
  },
  {
   "cell_type": "code",
   "execution_count": null,
   "id": "9e270358",
   "metadata": {},
   "outputs": [],
   "source": [
    "price['층'].le(60).sum()"
   ]
  },
  {
   "cell_type": "code",
   "execution_count": null,
   "id": "8c5e6db8",
   "metadata": {},
   "outputs": [],
   "source": [
    "price['층'].eq(60).sum()"
   ]
  },
  {
   "cell_type": "code",
   "execution_count": null,
   "id": "4108be53",
   "metadata": {},
   "outputs": [],
   "source": [
    "price['층'].ne(60).sum()"
   ]
  },
  {
   "cell_type": "code",
   "execution_count": null,
   "id": "54f73c91",
   "metadata": {},
   "outputs": [],
   "source": [
    "price['거래금액'].lt(1000000) & price['층'].ge(60)"
   ]
  },
  {
   "cell_type": "code",
   "execution_count": null,
   "id": "c8c4ed23",
   "metadata": {},
   "outputs": [],
   "source": [
    "price.head()"
   ]
  },
  {
   "cell_type": "code",
   "execution_count": null,
   "id": "bf4b8a6b",
   "metadata": {},
   "outputs": [],
   "source": [
    "price[price['자치구'].eq('강남구')]"
   ]
  },
  {
   "cell_type": "code",
   "execution_count": null,
   "id": "b27d9f12",
   "metadata": {},
   "outputs": [],
   "source": [
    "price[price['자치구'].eq('강남구') | price['자치구'].eq('서초구')]"
   ]
  },
  {
   "cell_type": "code",
   "execution_count": null,
   "id": "08e84fa9",
   "metadata": {},
   "outputs": [],
   "source": [
    "price[price['자치구'].eq('강남구') | price['자치구'].eq('서초구') | price['자치구'].eq('송파구')]"
   ]
  },
  {
   "cell_type": "code",
   "execution_count": null,
   "id": "e17ff70f",
   "metadata": {},
   "outputs": [],
   "source": [
    "price[price['자치구'].isin(['강남구', '서초구', '송파구'])]"
   ]
  },
  {
   "cell_type": "code",
   "execution_count": null,
   "id": "003c49e1",
   "metadata": {},
   "outputs": [],
   "source": [
    "price[price['자치구'].str.contains('강남|서초|송파')]"
   ]
  },
  {
   "cell_type": "code",
   "execution_count": null,
   "id": "d41c9edf",
   "metadata": {},
   "outputs": [],
   "source": [
    "price[price['자치구'].isin(['강남구', '강동구', '강북구', '강서구'])]"
   ]
  },
  {
   "cell_type": "code",
   "execution_count": null,
   "id": "9a73ee90",
   "metadata": {},
   "outputs": [],
   "source": [
    "price[price['자치구'].str.contains('^강')]"
   ]
  },
  {
   "cell_type": "code",
   "execution_count": null,
   "id": "25a32d0d",
   "metadata": {},
   "outputs": [],
   "source": [
    "prod = pd.Series(data = ['55 ABC-DEFG', '66 ABD-IJKF', 'OLED77 ADF-KIOF'])"
   ]
  },
  {
   "cell_type": "code",
   "execution_count": null,
   "id": "d3616c56",
   "metadata": {},
   "outputs": [],
   "source": [
    "prod.str.split(pat = ' |-', expand = True)"
   ]
  },
  {
   "cell_type": "code",
   "execution_count": null,
   "id": "9d7a8a06",
   "metadata": {},
   "outputs": [],
   "source": [
    "prod.str.find(sub = '66')"
   ]
  },
  {
   "cell_type": "code",
   "execution_count": null,
   "id": "91654fcf",
   "metadata": {},
   "outputs": [],
   "source": [
    "prod.str.replace(pat = ' |-', repl = '', regex = True)"
   ]
  },
  {
   "cell_type": "code",
   "execution_count": null,
   "id": "603e4da8",
   "metadata": {},
   "outputs": [],
   "source": [
    "prod.str.slice(start = 0, stop = 2)"
   ]
  },
  {
   "cell_type": "code",
   "execution_count": null,
   "id": "cd6950d5",
   "metadata": {},
   "outputs": [],
   "source": [
    "prod.str.extract(pat = '(\\\\d{2})')"
   ]
  },
  {
   "cell_type": "code",
   "execution_count": null,
   "id": "e6a39d8e",
   "metadata": {},
   "outputs": [],
   "source": [
    "addr = pd.Series(data = ['서울특별시 강남구 역삼동', '인천시 중구 남동', '부산시 해운대구 중동'])"
   ]
  },
  {
   "cell_type": "code",
   "execution_count": null,
   "id": "0bb4b267",
   "metadata": {},
   "outputs": [],
   "source": [
    "# 한글완성형 11172글자에 대해 글자수는 1~무제한이면서 동으로 끝나는 글자를 찾아라!\n",
    "addr.str.extract('([가-힣]+동)')"
   ]
  },
  {
   "cell_type": "code",
   "execution_count": null,
   "id": "7bcbe43e",
   "metadata": {},
   "outputs": [],
   "source": [
    "text = pd.Series(data = ['오늘 냉면 맛있다 ㅋㅋㅋㅋㅋ', '어제 강의 재미없다 ㅠㅠ', '금요일에 놀아야지 ㅎㅎㅎ'])"
   ]
  },
  {
   "cell_type": "code",
   "execution_count": null,
   "id": "8c16e107",
   "metadata": {},
   "outputs": [],
   "source": [
    "text.str.extract('([ㄱ-ㅎㅏ-ㅣ]+)')"
   ]
  },
  {
   "cell_type": "code",
   "execution_count": null,
   "id": "3a0612b1",
   "metadata": {},
   "outputs": [],
   "source": [
    "text.str.replace('([ㄱ-ㅎㅏ-ㅣ]+)', '')"
   ]
  },
  {
   "cell_type": "code",
   "execution_count": null,
   "id": "60458694",
   "metadata": {},
   "outputs": [],
   "source": [
    "df1"
   ]
  },
  {
   "cell_type": "code",
   "execution_count": null,
   "id": "cf088717",
   "metadata": {},
   "outputs": [],
   "source": [
    "df1.index"
   ]
  },
  {
   "cell_type": "code",
   "execution_count": null,
   "id": "5db94d1e",
   "metadata": {},
   "outputs": [],
   "source": [
    "df1.drop(labels = [10512, 10513])"
   ]
  },
  {
   "cell_type": "code",
   "execution_count": null,
   "id": "2f770210",
   "metadata": {},
   "outputs": [],
   "source": [
    "df1.drop(labels = df1.index[0:2])"
   ]
  },
  {
   "cell_type": "code",
   "execution_count": null,
   "id": "d6cdad7e",
   "metadata": {},
   "outputs": [],
   "source": [
    "df1 = df1.reset_index(drop = True)"
   ]
  },
  {
   "cell_type": "code",
   "execution_count": null,
   "id": "e1493198",
   "metadata": {},
   "outputs": [],
   "source": [
    "df2 = df2.reset_index(drop = True)"
   ]
  },
  {
   "cell_type": "code",
   "execution_count": null,
   "id": "81f21f91",
   "metadata": {},
   "outputs": [],
   "source": [
    "df1"
   ]
  },
  {
   "cell_type": "code",
   "execution_count": null,
   "id": "a05b8457",
   "metadata": {},
   "outputs": [],
   "source": [
    "df2"
   ]
  },
  {
   "cell_type": "code",
   "execution_count": null,
   "id": "58a59fc8",
   "metadata": {},
   "outputs": [],
   "source": [
    "df1.index"
   ]
  },
  {
   "cell_type": "code",
   "execution_count": null,
   "id": "ead9bbd0",
   "metadata": {},
   "outputs": [],
   "source": [
    "df1.drop(labels = df1.index[0:2])"
   ]
  },
  {
   "cell_type": "code",
   "execution_count": null,
   "id": "629167aa",
   "metadata": {},
   "outputs": [],
   "source": [
    "price.isna()"
   ]
  },
  {
   "cell_type": "code",
   "execution_count": null,
   "id": "827efd86",
   "metadata": {},
   "outputs": [],
   "source": [
    "price.isna().sum()"
   ]
  },
  {
   "cell_type": "code",
   "execution_count": null,
   "id": "6dc0746a",
   "metadata": {},
   "outputs": [],
   "source": [
    "price.info()"
   ]
  },
  {
   "cell_type": "code",
   "execution_count": null,
   "id": "16086e13",
   "metadata": {},
   "outputs": [],
   "source": [
    "price[price['지번'].isna()]"
   ]
  },
  {
   "cell_type": "code",
   "execution_count": null,
   "id": "f8d047c0",
   "metadata": {},
   "outputs": [],
   "source": [
    "type(price.loc[1900, '지번'])"
   ]
  },
  {
   "cell_type": "code",
   "execution_count": null,
   "id": "6495051e",
   "metadata": {},
   "outputs": [],
   "source": [
    "price.iloc[1899:1902]"
   ]
  },
  {
   "cell_type": "code",
   "execution_count": null,
   "id": "128cf6f0",
   "metadata": {},
   "outputs": [],
   "source": [
    "price.iloc[1899:1902].fillna(value = '')"
   ]
  },
  {
   "cell_type": "code",
   "execution_count": null,
   "id": "28459a37",
   "metadata": {},
   "outputs": [],
   "source": [
    "price.iloc[1899:1902].fillna(method = 'ffill')"
   ]
  },
  {
   "cell_type": "code",
   "execution_count": null,
   "id": "06123f2c",
   "metadata": {},
   "outputs": [],
   "source": [
    "price.iloc[1899:1902].fillna(method = 'bfill')"
   ]
  },
  {
   "cell_type": "markdown",
   "id": "82b25e1b",
   "metadata": {},
   "source": [
    "### 신민철님 질문"
   ]
  },
  {
   "cell_type": "code",
   "execution_count": null,
   "id": "1f3694af",
   "metadata": {},
   "outputs": [],
   "source": [
    "imsi = price.iloc[1899:1902].copy()"
   ]
  },
  {
   "cell_type": "code",
   "execution_count": null,
   "id": "45e741a4",
   "metadata": {},
   "outputs": [],
   "source": [
    "imsi.isna().sum()"
   ]
  },
  {
   "cell_type": "code",
   "execution_count": null,
   "id": "6d9891a7",
   "metadata": {},
   "outputs": [],
   "source": [
    "imsi = imsi.fillna(value = '')"
   ]
  },
  {
   "cell_type": "code",
   "execution_count": null,
   "id": "bf326c42",
   "metadata": {},
   "outputs": [],
   "source": [
    "imsi.isna().sum()"
   ]
  },
  {
   "cell_type": "code",
   "execution_count": null,
   "id": "9ff1ce3d",
   "metadata": {},
   "outputs": [],
   "source": [
    "price.shape[0]"
   ]
  },
  {
   "cell_type": "code",
   "execution_count": null,
   "id": "cfcaf0a6",
   "metadata": {},
   "outputs": [],
   "source": [
    "price[price['지번'].notna()]"
   ]
  },
  {
   "cell_type": "code",
   "execution_count": null,
   "id": "752dc93d",
   "metadata": {},
   "outputs": [],
   "source": [
    "price.dropna()"
   ]
  },
  {
   "cell_type": "code",
   "execution_count": null,
   "id": "fc61bae7",
   "metadata": {},
   "outputs": [],
   "source": [
    "price = price.dropna(subset = ['지번'])"
   ]
  },
  {
   "cell_type": "code",
   "execution_count": null,
   "id": "dde1bc68",
   "metadata": {},
   "outputs": [],
   "source": [
    "price.shape[0]"
   ]
  },
  {
   "cell_type": "code",
   "execution_count": null,
   "id": "5b351ccf",
   "metadata": {},
   "outputs": [],
   "source": [
    "price.isna().sum()"
   ]
  },
  {
   "cell_type": "code",
   "execution_count": null,
   "id": "8916a5d1",
   "metadata": {},
   "outputs": [],
   "source": [
    "imsi.loc[1900, '지번'] = np.nan\n",
    "imsi"
   ]
  },
  {
   "cell_type": "code",
   "execution_count": null,
   "id": "9263ce61",
   "metadata": {},
   "outputs": [],
   "source": [
    "imsi_1 = imsi.copy()\n",
    "imsi_2 = imsi.copy()"
   ]
  },
  {
   "cell_type": "code",
   "execution_count": null,
   "id": "5b5421bd",
   "metadata": {},
   "outputs": [],
   "source": [
    "imsi_1"
   ]
  },
  {
   "cell_type": "code",
   "execution_count": null,
   "id": "9a5fd686",
   "metadata": {},
   "outputs": [],
   "source": [
    "imsi_2 = imsi_2.fillna(value = '123')\n",
    "imsi_2"
   ]
  },
  {
   "cell_type": "code",
   "execution_count": null,
   "id": "7bc96864",
   "metadata": {},
   "outputs": [],
   "source": [
    "pd.merge(left = imsi_1, \n",
    "         right = imsi_2[['아파트', '시도', '자치구', '읍면동', '지번']], \n",
    "         on = ['아파트', '시도', '자치구', '읍면동'])"
   ]
  },
  {
   "cell_type": "code",
   "execution_count": null,
   "id": "f43dd562",
   "metadata": {},
   "outputs": [],
   "source": [
    "price['평당금액'] = price['거래금액'] / price['전용면적'] * 3.3"
   ]
  },
  {
   "cell_type": "code",
   "execution_count": null,
   "id": "b2d8042f",
   "metadata": {},
   "outputs": [],
   "source": [
    "price.head()"
   ]
  },
  {
   "cell_type": "code",
   "execution_count": null,
   "id": "d826e275",
   "metadata": {},
   "outputs": [],
   "source": [
    "price['평당금액'] = price['평당금액'].round(2)"
   ]
  },
  {
   "cell_type": "code",
   "execution_count": null,
   "id": "1a07d6e7",
   "metadata": {},
   "outputs": [],
   "source": [
    "price['거래금액'] = price['거래금액'] / 10000"
   ]
  },
  {
   "cell_type": "code",
   "execution_count": null,
   "id": "d343bfe0",
   "metadata": {},
   "outputs": [],
   "source": [
    "price.head()"
   ]
  },
  {
   "cell_type": "code",
   "execution_count": null,
   "id": "81afafba",
   "metadata": {},
   "outputs": [],
   "source": [
    "imsi = price.drop(labels = ['평당금액'], axis = 1).copy()"
   ]
  },
  {
   "cell_type": "code",
   "execution_count": null,
   "id": "e4818040",
   "metadata": {},
   "outputs": [],
   "source": [
    "imsi"
   ]
  },
  {
   "cell_type": "code",
   "execution_count": null,
   "id": "3f03cbef",
   "metadata": {},
   "outputs": [],
   "source": [
    "imsi.insert(loc = 8, column = '평당가격', value = price['평당금액'])"
   ]
  },
  {
   "cell_type": "code",
   "execution_count": null,
   "id": "bf9512f3",
   "metadata": {},
   "outputs": [],
   "source": [
    "imsi"
   ]
  },
  {
   "cell_type": "code",
   "execution_count": null,
   "id": "cdf3169b",
   "metadata": {},
   "outputs": [],
   "source": [
    "imsi['거래금액'].shift(1)"
   ]
  },
  {
   "cell_type": "code",
   "execution_count": null,
   "id": "ea79b3f6",
   "metadata": {},
   "outputs": [],
   "source": [
    "imsi['거래금액'].shift(-1)"
   ]
  },
  {
   "cell_type": "code",
   "execution_count": null,
   "id": "ee82e932",
   "metadata": {},
   "outputs": [],
   "source": [
    "imsi['거래금액_1'] = imsi['거래금액'].shift(1)\n",
    "imsi['거래금액_2'] = imsi['거래금액'].shift(2)\n",
    "imsi['거래금액_3'] = imsi['거래금액'].shift(3)"
   ]
  },
  {
   "cell_type": "code",
   "execution_count": null,
   "id": "2e171b24",
   "metadata": {},
   "outputs": [],
   "source": [
    "imsi.head()"
   ]
  },
  {
   "cell_type": "code",
   "execution_count": null,
   "id": "45f2e776",
   "metadata": {},
   "outputs": [],
   "source": [
    "nums = pd.Series(data = np.arange(1, 6))\n",
    "nums"
   ]
  },
  {
   "cell_type": "code",
   "execution_count": null,
   "id": "1fa0660b",
   "metadata": {},
   "outputs": [],
   "source": [
    "nums.rolling(window = 3).mean()"
   ]
  },
  {
   "cell_type": "code",
   "execution_count": null,
   "id": "0b9e9193",
   "metadata": {},
   "outputs": [],
   "source": [
    "nums.rolling(window = 3, min_periods = 1).mean()"
   ]
  },
  {
   "cell_type": "code",
   "execution_count": null,
   "id": "787a2fbb",
   "metadata": {},
   "outputs": [],
   "source": [
    "nums.iloc[2] = np.nan\n",
    "nums"
   ]
  },
  {
   "cell_type": "code",
   "execution_count": null,
   "id": "cec8e722",
   "metadata": {},
   "outputs": [],
   "source": [
    "nums.rolling(window = 3, min_periods = 1).mean()"
   ]
  },
  {
   "cell_type": "code",
   "execution_count": null,
   "id": "73d7fb50",
   "metadata": {},
   "outputs": [],
   "source": [
    "price.loc[price['평당금액'].ge(5000), '금액구분'] = '5천 이상'"
   ]
  },
  {
   "cell_type": "code",
   "execution_count": null,
   "id": "9dccfca6",
   "metadata": {},
   "outputs": [],
   "source": [
    "price.head()"
   ]
  },
  {
   "cell_type": "code",
   "execution_count": null,
   "id": "e1ab7eb2",
   "metadata": {},
   "outputs": [],
   "source": [
    "price.loc[price['평당금액'].lt(5000), '금액구분'] = '5천 미만'"
   ]
  },
  {
   "cell_type": "code",
   "execution_count": null,
   "id": "6c1ffbd9",
   "metadata": {},
   "outputs": [],
   "source": [
    "price.head()"
   ]
  },
  {
   "cell_type": "code",
   "execution_count": null,
   "id": "a3d72ad3",
   "metadata": {},
   "outputs": [],
   "source": [
    "np.where(price['평당금액'].ge(5000), '5천 이상', '5천 미만')"
   ]
  },
  {
   "cell_type": "code",
   "execution_count": null,
   "id": "be036f74",
   "metadata": {},
   "outputs": [],
   "source": [
    "cond = [(price['평당금액'].ge(10000)),\n",
    "        (price['평당금액'].lt(10000) & price['평당금액'].ge(5000)),\n",
    "        (price['평당금액'].lt(5000))]\n",
    "choice = ['1억 이상', '5천 이상', '5천 미만']\n",
    "np.select(cond, choice)"
   ]
  },
  {
   "cell_type": "code",
   "execution_count": null,
   "id": "647f03a7",
   "metadata": {},
   "outputs": [],
   "source": [
    "detail.head()"
   ]
  },
  {
   "cell_type": "code",
   "execution_count": null,
   "id": "8f8bfecb",
   "metadata": {},
   "outputs": [],
   "source": [
    "price.head()"
   ]
  },
  {
   "cell_type": "code",
   "execution_count": null,
   "id": "5c073663",
   "metadata": {},
   "outputs": [],
   "source": [
    "price['주소'] = price['시도'] + ' ' + price['자치구'] + ' ' + price['읍면동'] + ' ' + price['지번']"
   ]
  },
  {
   "cell_type": "code",
   "execution_count": null,
   "id": "b6dc2a12",
   "metadata": {},
   "outputs": [],
   "source": [
    "price.head()"
   ]
  },
  {
   "cell_type": "code",
   "execution_count": null,
   "id": "8a07f3af",
   "metadata": {},
   "outputs": [],
   "source": [
    "cols = ['시도', '자치구', '읍면동', '지번']\n",
    "price[cols]"
   ]
  },
  {
   "cell_type": "code",
   "execution_count": null,
   "id": "2a866497",
   "metadata": {},
   "outputs": [],
   "source": [
    "price[cols].apply(func = lambda x: ' '.join(x), axis = 1)"
   ]
  },
  {
   "cell_type": "code",
   "execution_count": null,
   "id": "b2f52d45",
   "metadata": {},
   "outputs": [],
   "source": [
    "price['아파트']"
   ]
  },
  {
   "cell_type": "code",
   "execution_count": null,
   "id": "aa6b48ef",
   "metadata": {},
   "outputs": [],
   "source": [
    "price['아파트'].map(len)"
   ]
  },
  {
   "cell_type": "code",
   "execution_count": null,
   "id": "ee2f0685",
   "metadata": {},
   "outputs": [],
   "source": [
    "price[cols]"
   ]
  },
  {
   "cell_type": "code",
   "execution_count": null,
   "id": "3e54bf7a",
   "metadata": {},
   "outputs": [],
   "source": [
    "price[cols].apply(len, axis = 1)"
   ]
  },
  {
   "cell_type": "code",
   "execution_count": null,
   "id": "7cb0fa3e",
   "metadata": {},
   "outputs": [],
   "source": [
    "price[cols].apply(len, axis = 0)"
   ]
  },
  {
   "cell_type": "code",
   "execution_count": null,
   "id": "4ec3544a",
   "metadata": {},
   "outputs": [],
   "source": [
    "price[cols].applymap(len)"
   ]
  },
  {
   "cell_type": "code",
   "execution_count": null,
   "id": "6cfb5b04",
   "metadata": {},
   "outputs": [],
   "source": [
    "price['거래금액'].sort_values(ascending = False).head(n = 10)"
   ]
  },
  {
   "cell_type": "code",
   "execution_count": null,
   "id": "ce590a03",
   "metadata": {},
   "outputs": [],
   "source": [
    "price.sort_values(by = ['거래금액'])"
   ]
  },
  {
   "cell_type": "code",
   "execution_count": null,
   "id": "40551149",
   "metadata": {},
   "outputs": [],
   "source": [
    "price.sort_values(by = ['거래금액'], ascending = False)"
   ]
  },
  {
   "cell_type": "code",
   "execution_count": null,
   "id": "c7b6ed92",
   "metadata": {},
   "outputs": [],
   "source": [
    "price.sort_values(by = ['층', '거래금액'], ascending = False)"
   ]
  },
  {
   "cell_type": "code",
   "execution_count": null,
   "id": "5f38293a",
   "metadata": {},
   "outputs": [],
   "source": [
    "price.sort_values(by = ['층', '거래금액'], ascending = [False, True])"
   ]
  },
  {
   "cell_type": "code",
   "execution_count": null,
   "id": "ed3d1fb7",
   "metadata": {},
   "outputs": [],
   "source": [
    "price.count()['거래금액']"
   ]
  },
  {
   "cell_type": "code",
   "execution_count": null,
   "id": "07e0b178",
   "metadata": {},
   "outputs": [],
   "source": [
    "price.sum(numeric_only = True)['거래금액'].round(2)"
   ]
  },
  {
   "cell_type": "code",
   "execution_count": null,
   "id": "297dd279",
   "metadata": {},
   "outputs": [],
   "source": [
    "price.mean(numeric_only = True)['거래금액'].round(2)"
   ]
  },
  {
   "cell_type": "code",
   "execution_count": null,
   "id": "441dfb56",
   "metadata": {},
   "outputs": [],
   "source": [
    "price.std(numeric_only = True)['거래금액'].round(2)"
   ]
  },
  {
   "cell_type": "code",
   "execution_count": null,
   "id": "4c3eb925",
   "metadata": {},
   "outputs": [],
   "source": [
    "price.min()['거래금액']"
   ]
  },
  {
   "cell_type": "code",
   "execution_count": null,
   "id": "0ef1a6ba",
   "metadata": {},
   "outputs": [],
   "source": [
    "price.max()['거래금액']"
   ]
  },
  {
   "cell_type": "code",
   "execution_count": null,
   "id": "c77ad86d",
   "metadata": {},
   "outputs": [],
   "source": [
    "price.describe()['거래금액'].round(2)"
   ]
  },
  {
   "cell_type": "code",
   "execution_count": null,
   "id": "6652b2ed",
   "metadata": {},
   "outputs": [],
   "source": [
    "price.groupby(by = ['자치구']).count()['거래금액'].sort_values(ascending = False)"
   ]
  },
  {
   "cell_type": "code",
   "execution_count": null,
   "id": "ac1e2cf3",
   "metadata": {},
   "outputs": [],
   "source": [
    "price.groupby(by = ['자치구']).sum()['거래금액'].sort_values(ascending = False).round(2)"
   ]
  },
  {
   "cell_type": "code",
   "execution_count": null,
   "id": "a1f8fb8e",
   "metadata": {},
   "outputs": [],
   "source": [
    "price.groupby(by = ['자치구']).mean()['거래금액'].sort_values(ascending = False).round(2)"
   ]
  },
  {
   "cell_type": "code",
   "execution_count": null,
   "id": "4113654e",
   "metadata": {},
   "outputs": [],
   "source": [
    "price.groupby(by = ['자치구']).std()['거래금액'].sort_values(ascending = False).round(2)"
   ]
  },
  {
   "cell_type": "code",
   "execution_count": null,
   "id": "08cce1b3",
   "metadata": {},
   "outputs": [],
   "source": [
    "price.groupby(by = ['자치구']).min()['거래금액'].sort_values(ascending = False).round(2)"
   ]
  },
  {
   "cell_type": "code",
   "execution_count": null,
   "id": "08dc39e6",
   "metadata": {},
   "outputs": [],
   "source": [
    "price.groupby(by = ['자치구']).max()['거래금액'].sort_values(ascending = False).round(2)"
   ]
  },
  {
   "cell_type": "code",
   "execution_count": null,
   "id": "34ef8865",
   "metadata": {},
   "outputs": [],
   "source": [
    "price.groupby(by = ['자치구']).describe()['거래금액'].round(2)"
   ]
  },
  {
   "cell_type": "code",
   "execution_count": null,
   "id": "4d2c8804",
   "metadata": {
    "scrolled": true
   },
   "outputs": [],
   "source": [
    "price.groupby(by = ['자치구']).count()['거래금액'].sort_values()"
   ]
  },
  {
   "cell_type": "code",
   "execution_count": null,
   "id": "cb758ef1",
   "metadata": {
    "scrolled": true
   },
   "outputs": [],
   "source": [
    "price['자치구'].value_counts(ascending = False)"
   ]
  },
  {
   "cell_type": "code",
   "execution_count": null,
   "id": "4539571b",
   "metadata": {},
   "outputs": [],
   "source": [
    "price['자치구'].value_counts(ascending = True)"
   ]
  },
  {
   "cell_type": "code",
   "execution_count": null,
   "id": "ee2c1280",
   "metadata": {},
   "outputs": [],
   "source": [
    "price['자치구'].value_counts().sort_index()"
   ]
  },
  {
   "cell_type": "code",
   "execution_count": null,
   "id": "4ac20a75",
   "metadata": {},
   "outputs": [],
   "source": [
    "price['자치구'].value_counts(normalize = True).round(4) * 100"
   ]
  },
  {
   "cell_type": "code",
   "execution_count": null,
   "id": "7ece5aa4",
   "metadata": {},
   "outputs": [],
   "source": [
    "# 압축파일로 저장\n",
    "import joblib\n",
    "joblib.dump(value = [price, detail], filename = 'Price.z')"
   ]
  },
  {
   "cell_type": "code",
   "execution_count": null,
   "id": "e59891d4",
   "metadata": {},
   "outputs": [],
   "source": []
  }
 ],
 "metadata": {
  "kernelspec": {
   "display_name": "Python 3 (ipykernel)",
   "language": "python",
   "name": "python3"
  },
  "language_info": {
   "codemirror_mode": {
    "name": "ipython",
    "version": 3
   },
   "file_extension": ".py",
   "mimetype": "text/x-python",
   "name": "python",
   "nbconvert_exporter": "python",
   "pygments_lexer": "ipython3",
   "version": "3.10.3"
  }
 },
 "nbformat": 4,
 "nbformat_minor": 5
}
