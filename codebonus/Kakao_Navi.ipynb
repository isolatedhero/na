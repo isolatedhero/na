{
 "cells": [
  {
   "cell_type": "markdown",
   "id": "4d92eb29",
   "metadata": {},
   "source": [
    "## 카카오 내비 데이터 수집"
   ]
  },
  {
   "cell_type": "raw",
   "id": "b8e8fc43",
   "metadata": {},
   "source": [
    "# 관련 라이브러리를 설치합니다.\n",
    "!pip install requests"
   ]
  },
  {
   "cell_type": "code",
   "execution_count": 1,
   "id": "017bb4d5-6895-48b6-9d18-f492c3c62072",
   "metadata": {
    "ExecuteTime": {
     "end_time": "2022-06-17T07:45:34.492550Z",
     "start_time": "2022-06-17T07:45:34.139869Z"
    }
   },
   "outputs": [],
   "source": [
    "# 관련 라이브러리를 호출합니다.\n",
    "import requests\n",
    "from urllib.parse import urlencode\n",
    "import json\n",
    "import pandas as pd\n",
    "from datetime import timedelta"
   ]
  },
  {
   "cell_type": "code",
   "execution_count": 2,
   "id": "57f4f1ec",
   "metadata": {},
   "outputs": [],
   "source": [
    "# 카카오 지도 API REST Key를 지정합니다.\n",
    "apiKey = '8ffa6eab80c438b9504391dfb217f664'"
   ]
  },
  {
   "cell_type": "markdown",
   "id": "2a776669-ee97-4c0a-8bc8-33f782f32178",
   "metadata": {},
   "source": [
    "### 위경도 좌표 얻기"
   ]
  },
  {
   "cell_type": "code",
   "execution_count": 3,
   "id": "9b5168a8",
   "metadata": {
    "ExecuteTime": {
     "end_time": "2022-06-17T07:45:46.220864Z",
     "start_time": "2022-06-17T07:45:46.197030Z"
    }
   },
   "outputs": [],
   "source": [
    "# 도로명주소를 입력하면 위경도 좌표를 반환하는 함수를 생성합니다.\n",
    "def getCoord(addr):\n",
    "    url = 'https://dapi.kakao.com/v2/local/search/address.json'\n",
    "    qry = dict(query = addr)\n",
    "    key = apiKey\n",
    "    auth = f'KakaoAK {apiKey}'\n",
    "    \n",
    "    res = requests.get(\n",
    "        url = url, \n",
    "        params = qry, \n",
    "        headers = dict(Authorization = auth)\n",
    "    )\n",
    "    \n",
    "    dat = json.loads(s = res.text)\n",
    "    return dat['documents'][0]['address']['x'], dat['documents'][0]['address']['y']"
   ]
  },
  {
   "cell_type": "code",
   "execution_count": 4,
   "id": "1e0d8a01",
   "metadata": {
    "ExecuteTime": {
     "end_time": "2022-06-17T07:45:55.994089Z",
     "start_time": "2022-06-17T07:45:55.926895Z"
    }
   },
   "outputs": [
    {
     "data": {
      "text/plain": [
       "('127.011666505681', '37.5570916390478')"
      ]
     },
     "execution_count": 4,
     "metadata": {},
     "output_type": "execute_result"
    }
   ],
   "source": [
    "# 출발지 도로명주소로 위경도 좌표를 얻습니다.\n",
    "getCoord(addr = '서울 중구 다산로 149')"
   ]
  },
  {
   "cell_type": "code",
   "execution_count": 5,
   "id": "c3d49e75",
   "metadata": {
    "ExecuteTime": {
     "end_time": "2022-06-17T07:45:56.880622Z",
     "start_time": "2022-06-17T07:45:56.810493Z"
    }
   },
   "outputs": [
    {
     "data": {
      "text/plain": [
       "('127.421778888836', '37.5003089274379')"
      ]
     },
     "execution_count": 5,
     "metadata": {},
     "output_type": "execute_result"
    }
   ],
   "source": [
    "# 도착지 도로명주소로 위경도 좌표를 얻습니다.\n",
    "getCoord(addr = '경기 양평군 강하면 강남로 316')"
   ]
  },
  {
   "cell_type": "markdown",
   "id": "366bfe66-8654-4d3e-9af0-4171d9f09136",
   "metadata": {},
   "source": [
    "### 두 지역의 네비 결과 얻기"
   ]
  },
  {
   "cell_type": "code",
   "execution_count": 6,
   "id": "7e328b41",
   "metadata": {
    "ExecuteTime": {
     "end_time": "2022-06-17T07:46:11.735576Z",
     "start_time": "2022-06-17T07:46:11.711991Z"
    }
   },
   "outputs": [],
   "source": [
    "# 출발지와 도착지 위경도 좌표로 이동거리와 소요시간을 반환하는 함수를 생성합니다.\n",
    "def getNavi(origin, destination):\n",
    "    url = 'https://apis-navi.kakaomobility.com/v1/directions'\n",
    "\n",
    "    qry = dict(\n",
    "        origin = ','.join(getCoord(addr = origin)),\n",
    "        destination = ','.join(getCoord(addr = destination))\n",
    "    )\n",
    "\n",
    "    urlencode(query = qry, safe = ',')\n",
    "    \n",
    "    auth = f'KakaoAK {apiKey}'\n",
    "\n",
    "    res = requests.get(\n",
    "        url = url, \n",
    "        params = urlencode(query = qry, safe = ','),\n",
    "        headers = dict(Authorization = auth)\n",
    "    )\n",
    "    \n",
    "    dat = json.loads(s = res.text)\n",
    "    dis = f\"{dat['routes'][0]['summary']['distance'] / 1000}km\"\n",
    "    sec = str(timedelta(seconds = dat['routes'][0]['summary']['duration']))\n",
    "    return dis, sec"
   ]
  },
  {
   "cell_type": "code",
   "execution_count": 7,
   "id": "4f7886d6-bdb9-4596-8f8a-2e34af985f3a",
   "metadata": {
    "ExecuteTime": {
     "end_time": "2022-06-17T07:46:15.114394Z",
     "start_time": "2022-06-17T07:46:14.109839Z"
    }
   },
   "outputs": [
    {
     "data": {
      "text/plain": [
       "('53.235km', '1:17:33')"
      ]
     },
     "execution_count": 7,
     "metadata": {},
     "output_type": "execute_result"
    }
   ],
   "source": [
    "# 출발지와 도착지 도로명주소를 입력하고 내비 결과를 얻습니다.\n",
    "getNavi(origin = '서울 중구 다산로 149', \n",
    "        destination = '경기 양평군 강하면 강남로 316')"
   ]
  },
  {
   "cell_type": "markdown",
   "id": "e5f398b9",
   "metadata": {},
   "source": [
    "## End of Document"
   ]
  }
 ],
 "metadata": {
  "kernelspec": {
   "display_name": "Python 3",
   "language": "python",
   "name": "python3"
  },
  "language_info": {
   "codemirror_mode": {
    "name": "ipython",
    "version": 3
   },
   "file_extension": ".py",
   "mimetype": "text/x-python",
   "name": "python",
   "nbconvert_exporter": "python",
   "pygments_lexer": "ipython3",
   "version": "3.10.4"
  },
  "toc": {
   "base_numbering": 1,
   "nav_menu": {},
   "number_sections": true,
   "sideBar": true,
   "skip_h1_title": false,
   "title_cell": "Table of Contents",
   "title_sidebar": "Contents",
   "toc_cell": false,
   "toc_position": {},
   "toc_section_display": true,
   "toc_window_display": false
  },
  "varInspector": {
   "cols": {
    "lenName": 16,
    "lenType": 16,
    "lenVar": 40
   },
   "kernels_config": {
    "python": {
     "delete_cmd_postfix": "",
     "delete_cmd_prefix": "del ",
     "library": "var_list.py",
     "varRefreshCmd": "print(var_dic_list())"
    },
    "r": {
     "delete_cmd_postfix": ") ",
     "delete_cmd_prefix": "rm(",
     "library": "var_list.r",
     "varRefreshCmd": "cat(var_dic_list()) "
    }
   },
   "types_to_exclude": [
    "module",
    "function",
    "builtin_function_or_method",
    "instance",
    "_Feature"
   ],
   "window_display": false
  }
 },
 "nbformat": 4,
 "nbformat_minor": 5
}
