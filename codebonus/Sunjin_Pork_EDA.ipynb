{
 "cells": [
  {
   "cell_type": "markdown",
   "id": "adeb5181-ef01-4986-9365-be14491ceefc",
   "metadata": {
    "tags": []
   },
   "source": [
    "## 선진포크 탐색적 데이터 분석"
   ]
  },
  {
   "cell_type": "markdown",
   "id": "0607dec8-17e4-464c-9310-cca154014bc4",
   "metadata": {},
   "source": [
    "- 선진포크에서 제공한 xlsx 파일을 읽고 데이터프레임을 생성합니다.\n",
    "- 살구색 정보(그룹~육질등급)로 파란색 정보(지방비율과 제품등급)을 추정하는 것을 목표로 합니다.\n",
    "- 데이터프레임에서 녹색 정보(육색~목심탄력)를 삭제합니다."
   ]
  },
  {
   "cell_type": "markdown",
   "id": "35218f58-6989-407f-a570-d64bd20d2c71",
   "metadata": {},
   "source": [
    "### 데이터셋 준비"
   ]
  },
  {
   "cell_type": "code",
   "execution_count": 1,
   "id": "cad0be70-6a1f-4947-a9cc-63a73511bf76",
   "metadata": {
    "ExecuteTime": {
     "end_time": "2022-06-22T10:36:15.503849Z",
     "start_time": "2022-06-22T10:36:15.169721Z"
    }
   },
   "outputs": [],
   "source": [
    "# 관련 라이브러리를 호출합니다.\n",
    "import os\n",
    "import chardet\n",
    "import joblib\n",
    "import numpy as np\n",
    "import pandas as pd"
   ]
  },
  {
   "cell_type": "code",
   "execution_count": 2,
   "id": "8b0ff3d4-f3e5-482d-8901-003bc8149878",
   "metadata": {
    "ExecuteTime": {
     "end_time": "2022-06-22T10:36:15.906985Z",
     "start_time": "2022-06-22T10:36:15.895943Z"
    }
   },
   "outputs": [
    {
     "data": {
      "text/plain": [
       "'C:\\\\Users\\\\drkev\\\\Documents\\\\Sunjin\\\\code'"
      ]
     },
     "execution_count": 2,
     "metadata": {},
     "output_type": "execute_result"
    }
   ],
   "source": [
    "# 현재 작업 경로를 확인합니다.\n",
    "os.getcwd()"
   ]
  },
  {
   "cell_type": "code",
   "execution_count": 3,
   "id": "64d4ee9b-f2d9-4bf4-a3f6-54e022aa2c47",
   "metadata": {
    "ExecuteTime": {
     "end_time": "2022-06-22T10:36:16.466686Z",
     "start_time": "2022-06-22T10:36:16.456686Z"
    }
   },
   "outputs": [],
   "source": [
    "# data 폴더로 작업 경로를 변경합니다.\n",
    "os.chdir(path = '../data')"
   ]
  },
  {
   "cell_type": "code",
   "execution_count": 4,
   "id": "f7420e9c-7911-4b19-b041-7dec54e2ff53",
   "metadata": {
    "ExecuteTime": {
     "end_time": "2022-06-22T10:36:17.215543Z",
     "start_time": "2022-06-22T10:36:17.199427Z"
    }
   },
   "outputs": [
    {
     "data": {
      "text/plain": [
       "['00_raw_digital_mba_공유.csv', '00_raw_digital_mba_공유.xlsx', 'iris.csv']"
      ]
     },
     "execution_count": 4,
     "metadata": {},
     "output_type": "execute_result"
    }
   ],
   "source": [
    "# 현재 작업 경로에 있는 폴더명과 파일명을 출력합니다.\n",
    "os.listdir()"
   ]
  },
  {
   "cell_type": "code",
   "execution_count": 5,
   "id": "2a8f1225",
   "metadata": {
    "ExecuteTime": {
     "end_time": "2022-06-22T10:36:58.132285Z",
     "start_time": "2022-06-22T10:36:33.773054Z"
    }
   },
   "outputs": [
    {
     "name": "stdout",
     "output_type": "stream",
     "text": [
      "CPU times: total: 17.5 s\n",
      "Wall time: 17.5 s\n"
     ]
    }
   ],
   "source": [
    "# xlsx 파일을 읽고 데이터프레임을 생성합니다.\n",
    "%time df = pd.read_excel(io = '00_raw_digital_mba_공유.xlsx', skiprows = 8)"
   ]
  },
  {
   "cell_type": "code",
   "execution_count": 6,
   "id": "596a8236-a63f-4e77-9e08-db4d06494fdd",
   "metadata": {
    "ExecuteTime": {
     "end_time": "2022-06-22T10:37:04.364309Z",
     "start_time": "2022-06-22T10:37:04.353265Z"
    }
   },
   "outputs": [],
   "source": [
    "# csv 파일명을 변수에 할당합니다.\n",
    "fileName = '00_raw_digital_mba_공유.csv'"
   ]
  },
  {
   "cell_type": "code",
   "execution_count": 7,
   "id": "31316db1",
   "metadata": {
    "ExecuteTime": {
     "end_time": "2022-06-22T10:37:08.210516Z",
     "start_time": "2022-06-22T10:37:05.088442Z"
    }
   },
   "outputs": [],
   "source": [
    "# csv 파일로 저장합니다.\n",
    "df.to_csv(path_or_buf = fileName, index = None)"
   ]
  },
  {
   "cell_type": "code",
   "execution_count": 8,
   "id": "30118fec-19b2-4d7e-bcb1-6ce4d94d06f2",
   "metadata": {
    "ExecuteTime": {
     "end_time": "2022-06-22T10:37:09.521431Z",
     "start_time": "2022-06-22T10:37:09.498264Z"
    }
   },
   "outputs": [
    {
     "data": {
      "text/plain": [
       "{'encoding': 'utf-8', 'confidence': 0.99, 'language': ''}"
      ]
     },
     "execution_count": 8,
     "metadata": {},
     "output_type": "execute_result"
    }
   ],
   "source": [
    "# csv 파일을 바이너리로 읽고 인코딩 방식을 확인합니다.\n",
    "raw = open(file = fileName, mode = 'rb').read()\n",
    "chardet.detect(byte_str = raw[:1000])"
   ]
  },
  {
   "cell_type": "code",
   "execution_count": 9,
   "id": "eb1e7cd9-1e45-4dfa-987e-ffcbffb0df0b",
   "metadata": {
    "ExecuteTime": {
     "end_time": "2022-06-22T10:37:11.952543Z",
     "start_time": "2022-06-22T10:37:11.580041Z"
    }
   },
   "outputs": [
    {
     "name": "stdout",
     "output_type": "stream",
     "text": [
      "CPU times: total: 0 ns\n",
      "Wall time: 0 ns\n"
     ]
    }
   ],
   "source": [
    "# csv 파일을 읽고 데이터프레임을 생성합니다.\n",
    "%time\n",
    "df = pd.read_csv(\n",
    "    filepath_or_buffer = fileName, \n",
    "    parse_dates = ['입고일', '도축일', '검품일', '생산일']\n",
    ")"
   ]
  },
  {
   "cell_type": "code",
   "execution_count": 10,
   "id": "2d9dfb0b-0a0d-44b5-889a-8f13a5aa45b3",
   "metadata": {
    "ExecuteTime": {
     "end_time": "2022-06-22T10:37:14.727670Z",
     "start_time": "2022-06-22T10:37:14.611394Z"
    },
    "scrolled": true,
    "tags": []
   },
   "outputs": [
    {
     "name": "stdout",
     "output_type": "stream",
     "text": [
      "<class 'pandas.core.frame.DataFrame'>\n",
      "RangeIndex: 66049 entries, 0 to 66048\n",
      "Data columns (total 25 columns):\n",
      " #   Column  Non-Null Count  Dtype         \n",
      "---  ------  --------------  -----         \n",
      " 0   그룹      66049 non-null  object        \n",
      " 1   농장명     66049 non-null  object        \n",
      " 2   공장명     66049 non-null  object        \n",
      " 3   입고일     66049 non-null  datetime64[ns]\n",
      " 4   도축일     66049 non-null  datetime64[ns]\n",
      " 5   검품일     66049 non-null  datetime64[ns]\n",
      " 6   생산일     66049 non-null  datetime64[ns]\n",
      " 7   도체      66049 non-null  int64         \n",
      " 8   암       66049 non-null  int64         \n",
      " 9   수       66049 non-null  int64         \n",
      " 10  거세      66049 non-null  int64         \n",
      " 11  생체중     66049 non-null  int64         \n",
      " 12  도체중     66049 non-null  int64         \n",
      " 13  등지방두께   66049 non-null  int64         \n",
      " 14  육질등급    66049 non-null  object        \n",
      " 15  육색      66049 non-null  int64         \n",
      " 16  마블링     66049 non-null  int64         \n",
      " 17  육즙      66049 non-null  object        \n",
      " 18  탄력      66049 non-null  object        \n",
      " 19  목식육색    66049 non-null  int64         \n",
      " 20  목심마블링   66049 non-null  int64         \n",
      " 21  목심육즙    66049 non-null  object        \n",
      " 22  목심탄력    66049 non-null  object        \n",
      " 23  지방비율    66049 non-null  int64         \n",
      " 24  제품등급    66049 non-null  int64         \n",
      "dtypes: datetime64[ns](4), int64(13), object(8)\n",
      "memory usage: 12.6+ MB\n"
     ]
    }
   ],
   "source": [
    "# df의 정보를 확인합니다.\n",
    "df.info()"
   ]
  },
  {
   "cell_type": "code",
   "execution_count": 11,
   "id": "75c52e8a-913f-4ad2-96c8-7141a8f1faec",
   "metadata": {
    "ExecuteTime": {
     "end_time": "2022-06-22T10:37:35.552543Z",
     "start_time": "2022-06-22T10:37:35.521791Z"
    }
   },
   "outputs": [
    {
     "data": {
      "text/html": [
       "<div>\n",
       "<style scoped>\n",
       "    .dataframe tbody tr th:only-of-type {\n",
       "        vertical-align: middle;\n",
       "    }\n",
       "\n",
       "    .dataframe tbody tr th {\n",
       "        vertical-align: top;\n",
       "    }\n",
       "\n",
       "    .dataframe thead th {\n",
       "        text-align: right;\n",
       "    }\n",
       "</style>\n",
       "<table border=\"1\" class=\"dataframe\">\n",
       "  <thead>\n",
       "    <tr style=\"text-align: right;\">\n",
       "      <th></th>\n",
       "      <th>그룹</th>\n",
       "      <th>농장명</th>\n",
       "      <th>공장명</th>\n",
       "      <th>입고일</th>\n",
       "      <th>도축일</th>\n",
       "      <th>검품일</th>\n",
       "      <th>생산일</th>\n",
       "      <th>도체</th>\n",
       "      <th>암</th>\n",
       "      <th>수</th>\n",
       "      <th>...</th>\n",
       "      <th>육색</th>\n",
       "      <th>마블링</th>\n",
       "      <th>육즙</th>\n",
       "      <th>탄력</th>\n",
       "      <th>목식육색</th>\n",
       "      <th>목심마블링</th>\n",
       "      <th>목심육즙</th>\n",
       "      <th>목심탄력</th>\n",
       "      <th>지방비율</th>\n",
       "      <th>제품등급</th>\n",
       "    </tr>\n",
       "  </thead>\n",
       "  <tbody>\n",
       "    <tr>\n",
       "      <th>0</th>\n",
       "      <td>농장001_공장E_20201119</td>\n",
       "      <td>농장001</td>\n",
       "      <td>공장E</td>\n",
       "      <td>2020-11-19</td>\n",
       "      <td>2020-11-19</td>\n",
       "      <td>2020-11-20</td>\n",
       "      <td>2020-11-20</td>\n",
       "      <td>2086</td>\n",
       "      <td>0</td>\n",
       "      <td>0</td>\n",
       "      <td>...</td>\n",
       "      <td>3</td>\n",
       "      <td>2</td>\n",
       "      <td>C</td>\n",
       "      <td>C</td>\n",
       "      <td>0</td>\n",
       "      <td>0</td>\n",
       "      <td>C</td>\n",
       "      <td>C</td>\n",
       "      <td>3</td>\n",
       "      <td>2</td>\n",
       "    </tr>\n",
       "    <tr>\n",
       "      <th>1</th>\n",
       "      <td>농장001_공장E_20201119</td>\n",
       "      <td>농장001</td>\n",
       "      <td>공장E</td>\n",
       "      <td>2020-11-19</td>\n",
       "      <td>2020-11-19</td>\n",
       "      <td>2020-11-20</td>\n",
       "      <td>2020-11-20</td>\n",
       "      <td>2060</td>\n",
       "      <td>0</td>\n",
       "      <td>0</td>\n",
       "      <td>...</td>\n",
       "      <td>4</td>\n",
       "      <td>3</td>\n",
       "      <td>C</td>\n",
       "      <td>C</td>\n",
       "      <td>0</td>\n",
       "      <td>0</td>\n",
       "      <td>C</td>\n",
       "      <td>C</td>\n",
       "      <td>4</td>\n",
       "      <td>3</td>\n",
       "    </tr>\n",
       "    <tr>\n",
       "      <th>2</th>\n",
       "      <td>농장001_공장E_20201119</td>\n",
       "      <td>농장001</td>\n",
       "      <td>공장E</td>\n",
       "      <td>2020-11-19</td>\n",
       "      <td>2020-11-19</td>\n",
       "      <td>2020-11-20</td>\n",
       "      <td>2020-11-20</td>\n",
       "      <td>2117</td>\n",
       "      <td>0</td>\n",
       "      <td>0</td>\n",
       "      <td>...</td>\n",
       "      <td>3</td>\n",
       "      <td>3</td>\n",
       "      <td>C</td>\n",
       "      <td>C</td>\n",
       "      <td>0</td>\n",
       "      <td>0</td>\n",
       "      <td>C</td>\n",
       "      <td>C</td>\n",
       "      <td>2</td>\n",
       "      <td>2</td>\n",
       "    </tr>\n",
       "    <tr>\n",
       "      <th>3</th>\n",
       "      <td>농장001_공장E_20201119</td>\n",
       "      <td>농장001</td>\n",
       "      <td>공장E</td>\n",
       "      <td>2020-11-19</td>\n",
       "      <td>2020-11-19</td>\n",
       "      <td>2020-11-20</td>\n",
       "      <td>2020-11-20</td>\n",
       "      <td>2048</td>\n",
       "      <td>1</td>\n",
       "      <td>0</td>\n",
       "      <td>...</td>\n",
       "      <td>3</td>\n",
       "      <td>2</td>\n",
       "      <td>C</td>\n",
       "      <td>C</td>\n",
       "      <td>0</td>\n",
       "      <td>0</td>\n",
       "      <td>C</td>\n",
       "      <td>C</td>\n",
       "      <td>4</td>\n",
       "      <td>3</td>\n",
       "    </tr>\n",
       "    <tr>\n",
       "      <th>4</th>\n",
       "      <td>농장001_공장E_20201119</td>\n",
       "      <td>농장001</td>\n",
       "      <td>공장E</td>\n",
       "      <td>2020-11-19</td>\n",
       "      <td>2020-11-19</td>\n",
       "      <td>2020-11-20</td>\n",
       "      <td>2020-11-20</td>\n",
       "      <td>2110</td>\n",
       "      <td>0</td>\n",
       "      <td>0</td>\n",
       "      <td>...</td>\n",
       "      <td>3</td>\n",
       "      <td>2</td>\n",
       "      <td>C</td>\n",
       "      <td>C</td>\n",
       "      <td>0</td>\n",
       "      <td>0</td>\n",
       "      <td>C</td>\n",
       "      <td>C</td>\n",
       "      <td>2</td>\n",
       "      <td>2</td>\n",
       "    </tr>\n",
       "  </tbody>\n",
       "</table>\n",
       "<p>5 rows × 25 columns</p>\n",
       "</div>"
      ],
      "text/plain": [
       "                   그룹    농장명  공장명        입고일        도축일        검품일        생산일  \\\n",
       "0  농장001_공장E_20201119  농장001  공장E 2020-11-19 2020-11-19 2020-11-20 2020-11-20   \n",
       "1  농장001_공장E_20201119  농장001  공장E 2020-11-19 2020-11-19 2020-11-20 2020-11-20   \n",
       "2  농장001_공장E_20201119  농장001  공장E 2020-11-19 2020-11-19 2020-11-20 2020-11-20   \n",
       "3  농장001_공장E_20201119  농장001  공장E 2020-11-19 2020-11-19 2020-11-20 2020-11-20   \n",
       "4  농장001_공장E_20201119  농장001  공장E 2020-11-19 2020-11-19 2020-11-20 2020-11-20   \n",
       "\n",
       "     도체  암  수  ...  육색  마블링  육즙  탄력 목식육색  목심마블링  목심육즙 목심탄력 지방비율  제품등급  \n",
       "0  2086  0  0  ...   3    2   C   C    0      0     C    C    3     2  \n",
       "1  2060  0  0  ...   4    3   C   C    0      0     C    C    4     3  \n",
       "2  2117  0  0  ...   3    3   C   C    0      0     C    C    2     2  \n",
       "3  2048  1  0  ...   3    2   C   C    0      0     C    C    4     3  \n",
       "4  2110  0  0  ...   3    2   C   C    0      0     C    C    2     2  \n",
       "\n",
       "[5 rows x 25 columns]"
      ]
     },
     "execution_count": 11,
     "metadata": {},
     "output_type": "execute_result"
    }
   ],
   "source": [
    "# df의 처음 5행을 출력합니다.\n",
    "df.head()"
   ]
  },
  {
   "cell_type": "code",
   "execution_count": 12,
   "id": "aa4c5766-17b8-4981-b858-de367918e240",
   "metadata": {
    "ExecuteTime": {
     "end_time": "2022-06-22T10:37:36.240118Z",
     "start_time": "2022-06-22T10:37:36.228925Z"
    }
   },
   "outputs": [
    {
     "data": {
      "text/plain": [
       "20"
      ]
     },
     "execution_count": 12,
     "metadata": {},
     "output_type": "execute_result"
    }
   ],
   "source": [
    "# 데이터프레임 최대 출력 열 개수를 확인합니다.\n",
    "pd.get_option(pat = 'display.max_columns')"
   ]
  },
  {
   "cell_type": "code",
   "execution_count": 13,
   "id": "032a8ff6-c2f0-4a37-827e-b8b57882f0f0",
   "metadata": {
    "ExecuteTime": {
     "end_time": "2022-06-22T10:37:36.900407Z",
     "start_time": "2022-06-22T10:37:36.894027Z"
    }
   },
   "outputs": [],
   "source": [
    "# 데이터프레임 최대 출력 열 개수 제한을 없앱니다.\n",
    "pd.set_option('display.max_columns', None)"
   ]
  },
  {
   "cell_type": "code",
   "execution_count": 14,
   "id": "926fc2ae-07db-4378-9557-88f12699e62d",
   "metadata": {
    "ExecuteTime": {
     "end_time": "2022-06-22T10:37:37.641119Z",
     "start_time": "2022-06-22T10:37:37.612697Z"
    }
   },
   "outputs": [
    {
     "data": {
      "text/html": [
       "<div>\n",
       "<style scoped>\n",
       "    .dataframe tbody tr th:only-of-type {\n",
       "        vertical-align: middle;\n",
       "    }\n",
       "\n",
       "    .dataframe tbody tr th {\n",
       "        vertical-align: top;\n",
       "    }\n",
       "\n",
       "    .dataframe thead th {\n",
       "        text-align: right;\n",
       "    }\n",
       "</style>\n",
       "<table border=\"1\" class=\"dataframe\">\n",
       "  <thead>\n",
       "    <tr style=\"text-align: right;\">\n",
       "      <th></th>\n",
       "      <th>그룹</th>\n",
       "      <th>농장명</th>\n",
       "      <th>공장명</th>\n",
       "      <th>입고일</th>\n",
       "      <th>도축일</th>\n",
       "      <th>검품일</th>\n",
       "      <th>생산일</th>\n",
       "      <th>도체</th>\n",
       "      <th>암</th>\n",
       "      <th>수</th>\n",
       "      <th>거세</th>\n",
       "      <th>생체중</th>\n",
       "      <th>도체중</th>\n",
       "      <th>등지방두께</th>\n",
       "      <th>육질등급</th>\n",
       "      <th>육색</th>\n",
       "      <th>마블링</th>\n",
       "      <th>육즙</th>\n",
       "      <th>탄력</th>\n",
       "      <th>목식육색</th>\n",
       "      <th>목심마블링</th>\n",
       "      <th>목심육즙</th>\n",
       "      <th>목심탄력</th>\n",
       "      <th>지방비율</th>\n",
       "      <th>제품등급</th>\n",
       "    </tr>\n",
       "  </thead>\n",
       "  <tbody>\n",
       "    <tr>\n",
       "      <th>0</th>\n",
       "      <td>농장001_공장E_20201119</td>\n",
       "      <td>농장001</td>\n",
       "      <td>공장E</td>\n",
       "      <td>2020-11-19</td>\n",
       "      <td>2020-11-19</td>\n",
       "      <td>2020-11-20</td>\n",
       "      <td>2020-11-20</td>\n",
       "      <td>2086</td>\n",
       "      <td>0</td>\n",
       "      <td>0</td>\n",
       "      <td>1</td>\n",
       "      <td>96</td>\n",
       "      <td>74</td>\n",
       "      <td>15</td>\n",
       "      <td>2</td>\n",
       "      <td>3</td>\n",
       "      <td>2</td>\n",
       "      <td>C</td>\n",
       "      <td>C</td>\n",
       "      <td>0</td>\n",
       "      <td>0</td>\n",
       "      <td>C</td>\n",
       "      <td>C</td>\n",
       "      <td>3</td>\n",
       "      <td>2</td>\n",
       "    </tr>\n",
       "    <tr>\n",
       "      <th>1</th>\n",
       "      <td>농장001_공장E_20201119</td>\n",
       "      <td>농장001</td>\n",
       "      <td>공장E</td>\n",
       "      <td>2020-11-19</td>\n",
       "      <td>2020-11-19</td>\n",
       "      <td>2020-11-20</td>\n",
       "      <td>2020-11-20</td>\n",
       "      <td>2060</td>\n",
       "      <td>0</td>\n",
       "      <td>0</td>\n",
       "      <td>1</td>\n",
       "      <td>97</td>\n",
       "      <td>75</td>\n",
       "      <td>12</td>\n",
       "      <td>2</td>\n",
       "      <td>4</td>\n",
       "      <td>3</td>\n",
       "      <td>C</td>\n",
       "      <td>C</td>\n",
       "      <td>0</td>\n",
       "      <td>0</td>\n",
       "      <td>C</td>\n",
       "      <td>C</td>\n",
       "      <td>4</td>\n",
       "      <td>3</td>\n",
       "    </tr>\n",
       "    <tr>\n",
       "      <th>2</th>\n",
       "      <td>농장001_공장E_20201119</td>\n",
       "      <td>농장001</td>\n",
       "      <td>공장E</td>\n",
       "      <td>2020-11-19</td>\n",
       "      <td>2020-11-19</td>\n",
       "      <td>2020-11-20</td>\n",
       "      <td>2020-11-20</td>\n",
       "      <td>2117</td>\n",
       "      <td>0</td>\n",
       "      <td>0</td>\n",
       "      <td>1</td>\n",
       "      <td>97</td>\n",
       "      <td>76</td>\n",
       "      <td>16</td>\n",
       "      <td>2</td>\n",
       "      <td>3</td>\n",
       "      <td>3</td>\n",
       "      <td>C</td>\n",
       "      <td>C</td>\n",
       "      <td>0</td>\n",
       "      <td>0</td>\n",
       "      <td>C</td>\n",
       "      <td>C</td>\n",
       "      <td>2</td>\n",
       "      <td>2</td>\n",
       "    </tr>\n",
       "    <tr>\n",
       "      <th>3</th>\n",
       "      <td>농장001_공장E_20201119</td>\n",
       "      <td>농장001</td>\n",
       "      <td>공장E</td>\n",
       "      <td>2020-11-19</td>\n",
       "      <td>2020-11-19</td>\n",
       "      <td>2020-11-20</td>\n",
       "      <td>2020-11-20</td>\n",
       "      <td>2048</td>\n",
       "      <td>1</td>\n",
       "      <td>0</td>\n",
       "      <td>0</td>\n",
       "      <td>100</td>\n",
       "      <td>77</td>\n",
       "      <td>15</td>\n",
       "      <td>2</td>\n",
       "      <td>3</td>\n",
       "      <td>2</td>\n",
       "      <td>C</td>\n",
       "      <td>C</td>\n",
       "      <td>0</td>\n",
       "      <td>0</td>\n",
       "      <td>C</td>\n",
       "      <td>C</td>\n",
       "      <td>4</td>\n",
       "      <td>3</td>\n",
       "    </tr>\n",
       "    <tr>\n",
       "      <th>4</th>\n",
       "      <td>농장001_공장E_20201119</td>\n",
       "      <td>농장001</td>\n",
       "      <td>공장E</td>\n",
       "      <td>2020-11-19</td>\n",
       "      <td>2020-11-19</td>\n",
       "      <td>2020-11-20</td>\n",
       "      <td>2020-11-20</td>\n",
       "      <td>2110</td>\n",
       "      <td>0</td>\n",
       "      <td>0</td>\n",
       "      <td>1</td>\n",
       "      <td>100</td>\n",
       "      <td>77</td>\n",
       "      <td>18</td>\n",
       "      <td>2</td>\n",
       "      <td>3</td>\n",
       "      <td>2</td>\n",
       "      <td>C</td>\n",
       "      <td>C</td>\n",
       "      <td>0</td>\n",
       "      <td>0</td>\n",
       "      <td>C</td>\n",
       "      <td>C</td>\n",
       "      <td>2</td>\n",
       "      <td>2</td>\n",
       "    </tr>\n",
       "  </tbody>\n",
       "</table>\n",
       "</div>"
      ],
      "text/plain": [
       "                   그룹    농장명  공장명        입고일        도축일        검품일        생산일  \\\n",
       "0  농장001_공장E_20201119  농장001  공장E 2020-11-19 2020-11-19 2020-11-20 2020-11-20   \n",
       "1  농장001_공장E_20201119  농장001  공장E 2020-11-19 2020-11-19 2020-11-20 2020-11-20   \n",
       "2  농장001_공장E_20201119  농장001  공장E 2020-11-19 2020-11-19 2020-11-20 2020-11-20   \n",
       "3  농장001_공장E_20201119  농장001  공장E 2020-11-19 2020-11-19 2020-11-20 2020-11-20   \n",
       "4  농장001_공장E_20201119  농장001  공장E 2020-11-19 2020-11-19 2020-11-20 2020-11-20   \n",
       "\n",
       "     도체  암  수  거세  생체중  도체중  등지방두께 육질등급  육색  마블링 육즙 탄력  목식육색  목심마블링 목심육즙 목심탄력  \\\n",
       "0  2086  0  0   1   96   74     15    2   3    2  C  C     0      0    C    C   \n",
       "1  2060  0  0   1   97   75     12    2   4    3  C  C     0      0    C    C   \n",
       "2  2117  0  0   1   97   76     16    2   3    3  C  C     0      0    C    C   \n",
       "3  2048  1  0   0  100   77     15    2   3    2  C  C     0      0    C    C   \n",
       "4  2110  0  0   1  100   77     18    2   3    2  C  C     0      0    C    C   \n",
       "\n",
       "   지방비율  제품등급  \n",
       "0     3     2  \n",
       "1     4     3  \n",
       "2     2     2  \n",
       "3     4     3  \n",
       "4     2     2  "
      ]
     },
     "execution_count": 14,
     "metadata": {},
     "output_type": "execute_result"
    }
   ],
   "source": [
    "# df의 처음 5행을 출력합니다.\n",
    "df.head()"
   ]
  },
  {
   "cell_type": "code",
   "execution_count": 15,
   "id": "b3f44445-ab5b-4df0-a387-d7349a7fb65f",
   "metadata": {
    "ExecuteTime": {
     "end_time": "2022-06-22T10:37:38.256390Z",
     "start_time": "2022-06-22T10:37:38.219833Z"
    }
   },
   "outputs": [],
   "source": [
    "# df에서 살구색 열과 파란색 열을 df1, df2로 각각 생성합니다.\n",
    "df1 = df.loc[:, '그룹':'육질등급'].copy()\n",
    "df2 = df.loc[:, '지방비율':'제품등급'].copy()"
   ]
  },
  {
   "cell_type": "code",
   "execution_count": 16,
   "id": "42a07da7-8847-4227-ba86-3eb81727457b",
   "metadata": {
    "ExecuteTime": {
     "end_time": "2022-06-22T10:37:38.820381Z",
     "start_time": "2022-06-22T10:37:38.811430Z"
    }
   },
   "outputs": [],
   "source": [
    "# df1과 df2를 열(가로) 방향으로 결합하고 df에 재할당합니다.\n",
    "df = pd.concat(objs = [df1, df2], axis = 1)"
   ]
  },
  {
   "cell_type": "code",
   "execution_count": 17,
   "id": "c7875179-2dbc-4b73-be67-9a2feb966209",
   "metadata": {
    "ExecuteTime": {
     "end_time": "2022-06-22T10:37:39.364240Z",
     "start_time": "2022-06-22T10:37:39.336570Z"
    }
   },
   "outputs": [
    {
     "data": {
      "text/plain": [
       "<class 'str'>    66049\n",
       "Name: 육질등급, dtype: int64"
      ]
     },
     "execution_count": 17,
     "metadata": {},
     "output_type": "execute_result"
    }
   ],
   "source": [
    "# 자료형이 'object'인 육질등급의 원소별 자료형 빈도수를 확인합니다.\n",
    "df['육질등급'].map(arg = type).value_counts()"
   ]
  },
  {
   "cell_type": "markdown",
   "id": "d944ce2f-f48c-4a0d-abb2-b6e4fafe9932",
   "metadata": {},
   "source": [
    "### 데이터셋 전처리"
   ]
  },
  {
   "cell_type": "markdown",
   "id": "b427c2b9-f122-41c9-ae8c-da2d5c40249c",
   "metadata": {},
   "source": [
    "#### 불필요한 열 삭제"
   ]
  },
  {
   "cell_type": "code",
   "execution_count": 18,
   "id": "2bb10ec7-39a9-429d-8205-df259549d527",
   "metadata": {
    "ExecuteTime": {
     "end_time": "2022-06-22T10:37:40.679140Z",
     "start_time": "2022-06-22T10:37:40.657840Z"
    }
   },
   "outputs": [],
   "source": [
    "# df에서 그룹을 삭제합니다.\n",
    "df = df.drop(columns = ['그룹'])"
   ]
  },
  {
   "cell_type": "markdown",
   "id": "f00fc9a7-274b-4dc7-b750-514c72d36beb",
   "metadata": {},
   "source": [
    "#### 날짜 데이터 관계 확인"
   ]
  },
  {
   "cell_type": "code",
   "execution_count": 19,
   "id": "5b0ca1c0-2194-45b2-9210-5d97a8ae0784",
   "metadata": {
    "ExecuteTime": {
     "end_time": "2022-06-22T10:37:41.560261Z",
     "start_time": "2022-06-22T10:37:41.542510Z"
    },
    "tags": []
   },
   "outputs": [
    {
     "data": {
      "text/plain": [
       "42704"
      ]
     },
     "execution_count": 19,
     "metadata": {},
     "output_type": "execute_result"
    }
   ],
   "source": [
    "# 입고일과 도축일이 다른 행 개수를 확인합니다.\n",
    "df['입고일'].ne(other = df['도축일']).sum()"
   ]
  },
  {
   "cell_type": "code",
   "execution_count": 20,
   "id": "de9cabfc-5f07-49c4-99f6-ceb1411c0671",
   "metadata": {
    "ExecuteTime": {
     "end_time": "2022-06-22T10:37:41.953954Z",
     "start_time": "2022-06-22T10:37:41.924350Z"
    }
   },
   "outputs": [
    {
     "data": {
      "text/plain": [
       "0 days    23345\n",
       "1 days    42704\n",
       "dtype: int64"
      ]
     },
     "execution_count": 20,
     "metadata": {},
     "output_type": "execute_result"
    }
   ],
   "source": [
    "# 입고일과 도축일 간격을 확인합니다.\n",
    "dayGap = df['도축일'] - df['입고일']\n",
    "dayGap.value_counts().sort_index()"
   ]
  },
  {
   "cell_type": "code",
   "execution_count": 21,
   "id": "666bd45b-aa1b-40e0-a4eb-e6ac204992cf",
   "metadata": {
    "ExecuteTime": {
     "end_time": "2022-06-22T10:37:42.346494Z",
     "start_time": "2022-06-22T10:37:42.326505Z"
    }
   },
   "outputs": [
    {
     "data": {
      "text/plain": [
       "0"
      ]
     },
     "execution_count": 21,
     "metadata": {},
     "output_type": "execute_result"
    }
   ],
   "source": [
    "# 도축일과 검품일이 같은 행 개수를 확인합니다.\n",
    "# 도축 다음 날에 검품이 발생하는 것으로 보입니다.\n",
    "df['도축일'].eq(other = df['검품일']).sum()"
   ]
  },
  {
   "cell_type": "code",
   "execution_count": 22,
   "id": "13d4c713-f25e-4247-a5fb-aee2301d5cd5",
   "metadata": {
    "ExecuteTime": {
     "end_time": "2022-06-22T10:37:42.800102Z",
     "start_time": "2022-06-22T10:37:42.775330Z"
    }
   },
   "outputs": [
    {
     "data": {
      "text/plain": [
       "-22 days       45\n",
       "-21 days      103\n",
       "-20 days       46\n",
       "-16 days       99\n",
       "-15 days      138\n",
       "-13 days      203\n",
       "-12 days      436\n",
       "-11 days       39\n",
       "-10 days      342\n",
       "-9 days       404\n",
       "-8 days       363\n",
       "-7 days       500\n",
       "-6 days       823\n",
       "-5 days      1028\n",
       "-4 days      1651\n",
       "-3 days      2009\n",
       "-2 days      3653\n",
       "-1 days      4043\n",
       "0 days      50124\n",
       "dtype: int64"
      ]
     },
     "execution_count": 22,
     "metadata": {},
     "output_type": "execute_result"
    }
   ],
   "source": [
    "# 검품일과 생산일 간격을 확인합니다.\n",
    "# 생산과 검품은 대개 당일에 모두 실행되지만 최대 3주 간격을 갖습니다.\n",
    "dayGap = df['생산일'] - df['검품일']\n",
    "dayGap.value_counts().sort_index()"
   ]
  },
  {
   "cell_type": "code",
   "execution_count": 23,
   "id": "d7be615a-6e7b-48a0-94e7-942ca5d66fb1",
   "metadata": {
    "ExecuteTime": {
     "end_time": "2022-06-22T10:37:43.224543Z",
     "start_time": "2022-06-22T10:37:43.202359Z"
    }
   },
   "outputs": [],
   "source": [
    "# df에서 입고일, 검품일, 생산일을 삭제합니다.\n",
    "df = df.drop(columns = ['입고일', '검품일', '생산일'])"
   ]
  },
  {
   "cell_type": "code",
   "execution_count": 24,
   "id": "23bac150-996b-4ba6-8ebe-6f0f4be15559",
   "metadata": {
    "ExecuteTime": {
     "end_time": "2022-06-22T10:37:44.479824Z",
     "start_time": "2022-06-22T10:37:43.647971Z"
    }
   },
   "outputs": [],
   "source": [
    "# 도축일로부터 도축년월을 생성합니다.\n",
    "df['도축년월'] = df['도축일'].dt.strftime('%Y년 %m월')"
   ]
  },
  {
   "cell_type": "code",
   "execution_count": 25,
   "id": "a0291c57-f5d3-4528-80e1-63026e87f59d",
   "metadata": {
    "ExecuteTime": {
     "end_time": "2022-06-22T10:37:44.761054Z",
     "start_time": "2022-06-22T10:37:44.718882Z"
    }
   },
   "outputs": [
    {
     "data": {
      "text/plain": [
       "2020년 08월       25\n",
       "2020년 09월     1911\n",
       "2020년 10월     1604\n",
       "2020년 11월     9703\n",
       "2020년 12월     7292\n",
       "2021년 01월     7952\n",
       "2021년 02월     8604\n",
       "2021년 03월     9848\n",
       "2021년 04월    11103\n",
       "2021년 05월     8007\n",
       "Name: 도축년월, dtype: int64"
      ]
     },
     "execution_count": 25,
     "metadata": {},
     "output_type": "execute_result"
    }
   ],
   "source": [
    "# 도축년월 범주별 빈도수를 확인합니다.\n",
    "df['도축년월'].value_counts().sort_index()"
   ]
  },
  {
   "cell_type": "code",
   "execution_count": 26,
   "id": "f3da7560-5338-49a1-9b2e-e8051a55b64c",
   "metadata": {
    "ExecuteTime": {
     "end_time": "2022-06-22T10:37:45.089885Z",
     "start_time": "2022-06-22T10:37:45.049895Z"
    }
   },
   "outputs": [],
   "source": [
    "# 2020년 08월 건수가 매우 작으므로 삭제하는 것이 좋습니다.\n",
    "df = df[df['도축년월'].ne('2020년 08월')]"
   ]
  },
  {
   "cell_type": "markdown",
   "id": "779eea5d-9157-4b96-a8d2-5ef5e5025e6b",
   "metadata": {
    "tags": []
   },
   "source": [
    "#### 도체 중복 건수 확인"
   ]
  },
  {
   "cell_type": "code",
   "execution_count": 27,
   "id": "1878785a-5448-4f9f-a2e3-05eec7ed2ca9",
   "metadata": {
    "ExecuteTime": {
     "end_time": "2022-06-22T10:37:45.997718Z",
     "start_time": "2022-06-22T10:37:45.967834Z"
    }
   },
   "outputs": [
    {
     "data": {
      "text/plain": [
       "62886"
      ]
     },
     "execution_count": 27,
     "metadata": {},
     "output_type": "execute_result"
    }
   ],
   "source": [
    "# 도체의 중복 건수를 확인합니다.\n",
    "df['도체'].duplicated().sum()"
   ]
  },
  {
   "cell_type": "code",
   "execution_count": 28,
   "id": "c6614a79-b979-45e0-9c26-3e6725f34ad8",
   "metadata": {
    "ExecuteTime": {
     "end_time": "2022-06-22T10:37:46.327637Z",
     "start_time": "2022-06-22T10:37:46.318727Z"
    }
   },
   "outputs": [
    {
     "data": {
      "text/plain": [
       "3138"
      ]
     },
     "execution_count": 28,
     "metadata": {},
     "output_type": "execute_result"
    }
   ],
   "source": [
    "# 도체의 중복을 제거한 원소 개수를 확인합니다.\n",
    "# 도체는 돼지 ID 같은데 왜 중복이 많을까요?\n",
    "# ID는 분석할 변수도 아니고 중복이 많아 인덱스로도 사용할 수 없습니다.\n",
    "df['도체'].nunique()"
   ]
  },
  {
   "cell_type": "markdown",
   "id": "0d78f6ed-eb9e-49b9-8e9a-ef2a0c1a0f1a",
   "metadata": {},
   "source": [
    "#### 돼지 성별 열 생성"
   ]
  },
  {
   "cell_type": "code",
   "execution_count": 29,
   "id": "208b2892-fb8c-49b8-9b33-14335d53175b",
   "metadata": {
    "ExecuteTime": {
     "end_time": "2022-06-22T10:37:52.423190Z",
     "start_time": "2022-06-22T10:37:47.141642Z"
    }
   },
   "outputs": [
    {
     "data": {
      "text/plain": [
       "1    66024\n",
       "dtype: int64"
      ]
     },
     "execution_count": 29,
     "metadata": {},
     "output_type": "execute_result"
    }
   ],
   "source": [
    "# 돼지 성별을 '암', '수', '거세'라는 원핫인코딩 변수로 정리되어 있습니다.\n",
    "# 돼지 성별을 의미하는 세 개의 열이름을 리스트로 생성하고 합계가 모두 1인지 확인합니다.\n",
    "cols = ['암', '수', '거세']\n",
    "df[cols].apply(func = np.sum, axis = 1).value_counts()"
   ]
  },
  {
   "cell_type": "code",
   "execution_count": 30,
   "id": "971c8f8e-e159-44d6-aac1-72729da48773",
   "metadata": {
    "ExecuteTime": {
     "end_time": "2022-06-22T10:37:52.626101Z",
     "start_time": "2022-06-22T10:37:52.598338Z"
    }
   },
   "outputs": [],
   "source": [
    "# 그래프를 그리기 위해 원핫인코딩 변수 대신 돼지 성별을 생성합니다.\n",
    "df['성별'] = np.select(\n",
    "    condlist = [df['암'].eq(1), df['수'].eq(1), df['거세'].eq(1)], \n",
    "    choicelist = ['암', '수', '거세']\n",
    ")"
   ]
  },
  {
   "cell_type": "code",
   "execution_count": 31,
   "id": "121990e6-2b05-4c50-8ca8-949ef97cf9f9",
   "metadata": {
    "ExecuteTime": {
     "end_time": "2022-06-22T10:37:52.845955Z",
     "start_time": "2022-06-22T10:37:52.816364Z"
    }
   },
   "outputs": [],
   "source": [
    "# df에서 돼지 성별을 의미하는 세 개의 열이름을 삭제합니다.\n",
    "df = df.drop(columns = cols)"
   ]
  },
  {
   "cell_type": "code",
   "execution_count": 32,
   "id": "2249bdee-7f26-44d4-9fde-cf11e0193595",
   "metadata": {
    "ExecuteTime": {
     "end_time": "2022-06-22T10:37:53.049361Z",
     "start_time": "2022-06-22T10:37:53.023519Z"
    }
   },
   "outputs": [
    {
     "data": {
      "text/plain": [
       "거세    34965\n",
       "수        61\n",
       "암     30998\n",
       "Name: 성별, dtype: int64"
      ]
     },
     "execution_count": 32,
     "metadata": {},
     "output_type": "execute_result"
    }
   ],
   "source": [
    "# 돼지 성별 빈도수를 확인합니다.\n",
    "df['성별'].value_counts().sort_index()"
   ]
  },
  {
   "cell_type": "code",
   "execution_count": 33,
   "id": "7b445e3e-0952-4193-b644-5b6960db5b7d",
   "metadata": {
    "ExecuteTime": {
     "end_time": "2022-06-22T10:37:53.252904Z",
     "start_time": "2022-06-22T10:37:53.223610Z"
    }
   },
   "outputs": [],
   "source": [
    "# 성별이 '수'인 행은 매우 작으므로 삭제하는 것이 좋습니다.\n",
    "df = df[df['성별'].ne('수')]"
   ]
  },
  {
   "cell_type": "markdown",
   "id": "0088aada-c3a9-42fc-8685-f1c0849f2da0",
   "metadata": {},
   "source": [
    "#### 등지방두께와 육질등급 기술통계량 확인"
   ]
  },
  {
   "cell_type": "code",
   "execution_count": 34,
   "id": "fb7c8bf7-d293-41a1-8196-906b66527cf0",
   "metadata": {
    "ExecuteTime": {
     "end_time": "2022-06-22T10:37:53.490225Z",
     "start_time": "2022-06-22T10:37:53.462226Z"
    }
   },
   "outputs": [
    {
     "data": {
      "text/plain": [
       "count    65963.000000\n",
       "mean        21.689432\n",
       "std          4.922365\n",
       "min          6.000000\n",
       "25%         18.000000\n",
       "50%         22.000000\n",
       "75%         25.000000\n",
       "max         47.000000\n",
       "Name: 등지방두께, dtype: float64"
      ]
     },
     "execution_count": 34,
     "metadata": {},
     "output_type": "execute_result"
    }
   ],
   "source": [
    "# 등지방두께의 기술통계량을 확인합니다.\n",
    "df['등지방두께'].describe()"
   ]
  },
  {
   "cell_type": "code",
   "execution_count": 35,
   "id": "2d72510c-e628-458b-9c68-58d0ac553cd5",
   "metadata": {
    "ExecuteTime": {
     "end_time": "2022-06-22T10:37:54.027582Z",
     "start_time": "2022-06-22T10:37:54.001605Z"
    }
   },
   "outputs": [
    {
     "data": {
      "text/plain": [
       "1     22294\n",
       "1+    20794\n",
       "2     22179\n",
       "등외      696\n",
       "Name: 육질등급, dtype: int64"
      ]
     },
     "execution_count": 35,
     "metadata": {},
     "output_type": "execute_result"
    }
   ],
   "source": [
    "# 육질등급 범주별 빈도수를 확인합니다.\n",
    "# 육질등급은 어떻게 결정될까요? 사람이 육안으로 판단하는지 아니면 기계가 판단하는지?\n",
    "df['육질등급'].value_counts().sort_index()"
   ]
  },
  {
   "cell_type": "code",
   "execution_count": 36,
   "id": "a3ed49a5-0541-4611-9bd6-d6e1da0ab13a",
   "metadata": {
    "ExecuteTime": {
     "end_time": "2022-06-22T10:37:54.357815Z",
     "start_time": "2022-06-22T10:37:54.340826Z"
    }
   },
   "outputs": [
    {
     "data": {
      "text/html": [
       "<div>\n",
       "<style scoped>\n",
       "    .dataframe tbody tr th:only-of-type {\n",
       "        vertical-align: middle;\n",
       "    }\n",
       "\n",
       "    .dataframe tbody tr th {\n",
       "        vertical-align: top;\n",
       "    }\n",
       "\n",
       "    .dataframe thead th {\n",
       "        text-align: right;\n",
       "    }\n",
       "</style>\n",
       "<table border=\"1\" class=\"dataframe\">\n",
       "  <thead>\n",
       "    <tr style=\"text-align: right;\">\n",
       "      <th></th>\n",
       "      <th>농장명</th>\n",
       "      <th>공장명</th>\n",
       "      <th>도축일</th>\n",
       "      <th>도체</th>\n",
       "      <th>생체중</th>\n",
       "      <th>도체중</th>\n",
       "      <th>등지방두께</th>\n",
       "      <th>육질등급</th>\n",
       "      <th>지방비율</th>\n",
       "      <th>제품등급</th>\n",
       "      <th>도축년월</th>\n",
       "      <th>성별</th>\n",
       "    </tr>\n",
       "  </thead>\n",
       "  <tbody>\n",
       "    <tr>\n",
       "      <th>0</th>\n",
       "      <td>농장001</td>\n",
       "      <td>공장E</td>\n",
       "      <td>2020-11-19</td>\n",
       "      <td>2086</td>\n",
       "      <td>96</td>\n",
       "      <td>74</td>\n",
       "      <td>15</td>\n",
       "      <td>2</td>\n",
       "      <td>3</td>\n",
       "      <td>2</td>\n",
       "      <td>2020년 11월</td>\n",
       "      <td>거세</td>\n",
       "    </tr>\n",
       "    <tr>\n",
       "      <th>1</th>\n",
       "      <td>농장001</td>\n",
       "      <td>공장E</td>\n",
       "      <td>2020-11-19</td>\n",
       "      <td>2060</td>\n",
       "      <td>97</td>\n",
       "      <td>75</td>\n",
       "      <td>12</td>\n",
       "      <td>2</td>\n",
       "      <td>4</td>\n",
       "      <td>3</td>\n",
       "      <td>2020년 11월</td>\n",
       "      <td>거세</td>\n",
       "    </tr>\n",
       "    <tr>\n",
       "      <th>2</th>\n",
       "      <td>농장001</td>\n",
       "      <td>공장E</td>\n",
       "      <td>2020-11-19</td>\n",
       "      <td>2117</td>\n",
       "      <td>97</td>\n",
       "      <td>76</td>\n",
       "      <td>16</td>\n",
       "      <td>2</td>\n",
       "      <td>2</td>\n",
       "      <td>2</td>\n",
       "      <td>2020년 11월</td>\n",
       "      <td>거세</td>\n",
       "    </tr>\n",
       "    <tr>\n",
       "      <th>3</th>\n",
       "      <td>농장001</td>\n",
       "      <td>공장E</td>\n",
       "      <td>2020-11-19</td>\n",
       "      <td>2048</td>\n",
       "      <td>100</td>\n",
       "      <td>77</td>\n",
       "      <td>15</td>\n",
       "      <td>2</td>\n",
       "      <td>4</td>\n",
       "      <td>3</td>\n",
       "      <td>2020년 11월</td>\n",
       "      <td>암</td>\n",
       "    </tr>\n",
       "    <tr>\n",
       "      <th>4</th>\n",
       "      <td>농장001</td>\n",
       "      <td>공장E</td>\n",
       "      <td>2020-11-19</td>\n",
       "      <td>2110</td>\n",
       "      <td>100</td>\n",
       "      <td>77</td>\n",
       "      <td>18</td>\n",
       "      <td>2</td>\n",
       "      <td>2</td>\n",
       "      <td>2</td>\n",
       "      <td>2020년 11월</td>\n",
       "      <td>거세</td>\n",
       "    </tr>\n",
       "  </tbody>\n",
       "</table>\n",
       "</div>"
      ],
      "text/plain": [
       "     농장명  공장명        도축일    도체  생체중  도체중  등지방두께 육질등급  지방비율  제품등급       도축년월  \\\n",
       "0  농장001  공장E 2020-11-19  2086   96   74     15    2     3     2  2020년 11월   \n",
       "1  농장001  공장E 2020-11-19  2060   97   75     12    2     4     3  2020년 11월   \n",
       "2  농장001  공장E 2020-11-19  2117   97   76     16    2     2     2  2020년 11월   \n",
       "3  농장001  공장E 2020-11-19  2048  100   77     15    2     4     3  2020년 11월   \n",
       "4  농장001  공장E 2020-11-19  2110  100   77     18    2     2     2  2020년 11월   \n",
       "\n",
       "   성별  \n",
       "0  거세  \n",
       "1  거세  \n",
       "2  거세  \n",
       "3   암  \n",
       "4  거세  "
      ]
     },
     "execution_count": 36,
     "metadata": {},
     "output_type": "execute_result"
    }
   ],
   "source": [
    "# df의 처음 5행을 출력합니다.\n",
    "df.head()"
   ]
  },
  {
   "cell_type": "markdown",
   "id": "e202b90a-9c1a-4710-8b16-43da768e3448",
   "metadata": {},
   "source": [
    "### 데이터 시각화"
   ]
  },
  {
   "cell_type": "code",
   "execution_count": 37,
   "id": "e895ca15-d653-43a5-82b5-8e3353e9b3c4",
   "metadata": {
    "ExecuteTime": {
     "end_time": "2022-06-22T10:38:03.969156Z",
     "start_time": "2022-06-22T10:37:55.165557Z"
    }
   },
   "outputs": [],
   "source": [
    "# 관련 라이브러리를 호출합니다.\n",
    "import seaborn as sns\n",
    "import matplotlib.pyplot as plt\n",
    "import matplotlib.font_manager as fm"
   ]
  },
  {
   "cell_type": "code",
   "execution_count": 38,
   "id": "904db1c5-c24f-4abc-a71f-22d0c4b6afde",
   "metadata": {
    "ExecuteTime": {
     "end_time": "2022-06-22T10:38:04.281295Z",
     "start_time": "2022-06-22T10:38:04.129284Z"
    }
   },
   "outputs": [],
   "source": [
    "# 시각화 관련 옵션을 설정하기 전에 빈 그래프를 그립니다.\n",
    "# [참고] plt.close()를 실행하면 그래프를 표시하지 않습니다.\n",
    "plt.plot(0, 0)\n",
    "plt.close()"
   ]
  },
  {
   "cell_type": "code",
   "execution_count": 39,
   "id": "562034a1-f172-4519-b8a8-113c0c1bb7c1",
   "metadata": {
    "ExecuteTime": {
     "end_time": "2022-06-22T10:38:04.485464Z",
     "start_time": "2022-06-22T10:38:04.471608Z"
    }
   },
   "outputs": [],
   "source": [
    "# 시각화 관련 옵션을 설정합니다.\n",
    "plt.rc(group = 'figure', figsize = (8, 4), dpi = 150)\n",
    "plt.rc(group = 'font', family = 'Gamja Flower', size = 10)\n",
    "plt.rc(group = 'axes', unicode_minus = False)\n",
    "plt.rc(group = 'legend', frameon = True, fc = '1', ec = '0')"
   ]
  },
  {
   "cell_type": "markdown",
   "id": "3cca50e7-e90b-4299-af19-7b1ab78eaef3",
   "metadata": {},
   "source": [
    "#### 농장명"
   ]
  },
  {
   "cell_type": "code",
   "execution_count": 40,
   "id": "788720f6-30ab-495c-93af-e6aa36f9d2e2",
   "metadata": {
    "ExecuteTime": {
     "end_time": "2022-06-22T10:38:04.691981Z",
     "start_time": "2022-06-22T10:38:04.667826Z"
    }
   },
   "outputs": [
    {
     "data": {
      "text/plain": [
       "농장027    2891\n",
       "농장128    2129\n",
       "농장107    1964\n",
       "농장105    1897\n",
       "농장046    1846\n",
       "         ... \n",
       "농장006      35\n",
       "농장037      30\n",
       "농장024      30\n",
       "농장101      30\n",
       "농장142      26\n",
       "Name: 농장명, Length: 170, dtype: int64"
      ]
     },
     "execution_count": 40,
     "metadata": {},
     "output_type": "execute_result"
    }
   ],
   "source": [
    "# 농장명 범주별 빈도수를 확인합니다.\n",
    "grp = df['농장명'].value_counts()\n",
    "grp"
   ]
  },
  {
   "cell_type": "code",
   "execution_count": 41,
   "id": "55f95986-c968-48a2-aa6c-37504c536046",
   "metadata": {
    "ExecuteTime": {
     "end_time": "2022-06-22T10:38:07.680919Z",
     "start_time": "2022-06-22T10:38:04.913557Z"
    }
   },
   "outputs": [
    {
     "data": {
      "image/png": "[encoded data removed]",
      "text/plain": [
       "<Figure size 1600x800 with 1 Axes>"
      ]
     },
     "metadata": {
      "needs_background": "light"
     },
     "output_type": "display_data"
    }
   ],
   "source": [
    "# 농장명 범주별 빈도수로 막대그래프를 그립니다.\n",
    "plt.figure(figsize = (16, 8), dpi = 100)\n",
    "sns.countplot(data = df, x = '농장명', order = grp.index)\n",
    "plt.xticks(rotation = 90);"
   ]
  },
  {
   "cell_type": "code",
   "execution_count": 42,
   "id": "fce7720d-b81e-4917-9e55-773fd71d68fa",
   "metadata": {
    "ExecuteTime": {
     "end_time": "2022-06-22T10:38:07.932138Z",
     "start_time": "2022-06-22T10:38:07.902437Z"
    }
   },
   "outputs": [
    {
     "data": {
      "text/plain": [
       "0.95128409221553"
      ]
     },
     "execution_count": 42,
     "metadata": {},
     "output_type": "execute_result"
    }
   ],
   "source": [
    "# 생체중과 도체중의 상관계수를 확인합니다.\n",
    "df['생체중'].corr(df['도체중'])"
   ]
  },
  {
   "cell_type": "code",
   "execution_count": 43,
   "id": "3c89e795-e75b-403c-93ef-16048ce26b80",
   "metadata": {
    "ExecuteTime": {
     "end_time": "2022-06-22T10:38:08.168296Z",
     "start_time": "2022-06-22T10:38:08.138760Z"
    }
   },
   "outputs": [
    {
     "data": {
      "text/html": [
       "<div>\n",
       "<style scoped>\n",
       "    .dataframe tbody tr th:only-of-type {\n",
       "        vertical-align: middle;\n",
       "    }\n",
       "\n",
       "    .dataframe tbody tr th {\n",
       "        vertical-align: top;\n",
       "    }\n",
       "\n",
       "    .dataframe thead th {\n",
       "        text-align: right;\n",
       "    }\n",
       "</style>\n",
       "<table border=\"1\" class=\"dataframe\">\n",
       "  <thead>\n",
       "    <tr style=\"text-align: right;\">\n",
       "      <th></th>\n",
       "      <th>생체중</th>\n",
       "    </tr>\n",
       "    <tr>\n",
       "      <th>농장명</th>\n",
       "      <th></th>\n",
       "    </tr>\n",
       "  </thead>\n",
       "  <tbody>\n",
       "    <tr>\n",
       "      <th>농장080</th>\n",
       "      <td>105.870370</td>\n",
       "    </tr>\n",
       "    <tr>\n",
       "      <th>농장152</th>\n",
       "      <td>108.228814</td>\n",
       "    </tr>\n",
       "    <tr>\n",
       "      <th>농장024</th>\n",
       "      <td>109.100000</td>\n",
       "    </tr>\n",
       "    <tr>\n",
       "      <th>농장083</th>\n",
       "      <td>109.200000</td>\n",
       "    </tr>\n",
       "    <tr>\n",
       "      <th>농장077</th>\n",
       "      <td>110.806034</td>\n",
       "    </tr>\n",
       "    <tr>\n",
       "      <th>...</th>\n",
       "      <td>...</td>\n",
       "    </tr>\n",
       "    <tr>\n",
       "      <th>농장149</th>\n",
       "      <td>123.441176</td>\n",
       "    </tr>\n",
       "    <tr>\n",
       "      <th>농장167</th>\n",
       "      <td>123.881356</td>\n",
       "    </tr>\n",
       "    <tr>\n",
       "      <th>농장143</th>\n",
       "      <td>125.169811</td>\n",
       "    </tr>\n",
       "    <tr>\n",
       "      <th>농장101</th>\n",
       "      <td>126.566667</td>\n",
       "    </tr>\n",
       "    <tr>\n",
       "      <th>농장054</th>\n",
       "      <td>128.000000</td>\n",
       "    </tr>\n",
       "  </tbody>\n",
       "</table>\n",
       "<p>170 rows × 1 columns</p>\n",
       "</div>"
      ],
      "text/plain": [
       "              생체중\n",
       "농장명              \n",
       "농장080  105.870370\n",
       "농장152  108.228814\n",
       "농장024  109.100000\n",
       "농장083  109.200000\n",
       "농장077  110.806034\n",
       "...           ...\n",
       "농장149  123.441176\n",
       "농장167  123.881356\n",
       "농장143  125.169811\n",
       "농장101  126.566667\n",
       "농장054  128.000000\n",
       "\n",
       "[170 rows x 1 columns]"
      ]
     },
     "execution_count": 43,
     "metadata": {},
     "output_type": "execute_result"
    }
   ],
   "source": [
    "# 농장명 범주별 생체중 평균을 확인합니다.\n",
    "grp = pd.pivot_table(data = df, index = '농장명', values = '생체중', aggfunc = np.mean).sort_values(by = ['생체중'])\n",
    "grp"
   ]
  },
  {
   "cell_type": "code",
   "execution_count": 44,
   "id": "19cb6ab1-34b8-4008-8100-407b6b58fa1d",
   "metadata": {
    "ExecuteTime": {
     "end_time": "2022-06-22T10:38:08.374210Z",
     "start_time": "2022-06-22T10:38:08.361943Z"
    }
   },
   "outputs": [],
   "source": [
    "# 이상치 관련 속성을 딕셔너리로 생성합니다.\n",
    "outlier = dict(\n",
    "    marker = 'o',\n",
    "    markersize = 3,\n",
    "    markerfacecolor = 'pink', \n",
    "    markeredgecolor = 'red', \n",
    "    markeredgewidth = 0.2\n",
    ")"
   ]
  },
  {
   "cell_type": "code",
   "execution_count": 45,
   "id": "fcf2bc55-0aa9-44e5-aa23-95f7b45b2576",
   "metadata": {
    "ExecuteTime": {
     "end_time": "2022-06-22T10:38:12.881793Z",
     "start_time": "2022-06-22T10:38:08.644285Z"
    }
   },
   "outputs": [
    {
     "data": {
      "image/png": "[encoded data removed]",
      "text/plain": [
       "<Figure size 1600x800 with 1 Axes>"
      ]
     },
     "metadata": {
      "needs_background": "light"
     },
     "output_type": "display_data"
    }
   ],
   "source": [
    "# 농장명 범주별 생체중 분포를 상자 수염 그림으로 그립니다.\n",
    "plt.figure(figsize = (16, 8), dpi = 100)\n",
    "sns.boxplot(data = df, x = '농장명', y = '생체중', flierprops = outlier, order = grp.index)\n",
    "plt.axhline(y = 60, color = 'red', linestyle = '--')\n",
    "plt.xticks(rotation = 90);"
   ]
  },
  {
   "cell_type": "code",
   "execution_count": 46,
   "id": "1f856b68-959e-4c97-9eb7-6011df6cfb3a",
   "metadata": {
    "ExecuteTime": {
     "end_time": "2022-06-22T10:38:13.102278Z",
     "start_time": "2022-06-22T10:38:13.080805Z"
    }
   },
   "outputs": [
    {
     "data": {
      "text/plain": [
       "array(['농장055', '농장165', '농장155', '농장105', '농장124', '농장033'], dtype=object)"
      ]
     },
     "execution_count": 46,
     "metadata": {},
     "output_type": "execute_result"
    }
   ],
   "source": [
    "# 상자 수염 그림에서 생체중 60 미만은 이상치로 보입니다.\n",
    "# 생체중이 60 미만인 행을 갖는 농장명을 확인합니다.\n",
    "farms = df['농장명'][df['생체중'].lt(60)].unique()\n",
    "farms"
   ]
  },
  {
   "cell_type": "code",
   "execution_count": 47,
   "id": "a9e57c6f-586c-4dd3-a54c-53549a5794b8",
   "metadata": {
    "ExecuteTime": {
     "end_time": "2022-06-22T10:38:13.322379Z",
     "start_time": "2022-06-22T10:38:13.292767Z"
    }
   },
   "outputs": [
    {
     "data": {
      "text/plain": [
       "농장105    1897\n",
       "농장165     516\n",
       "농장124     471\n",
       "농장033     456\n",
       "농장155     380\n",
       "농장055     370\n",
       "Name: 농장명, dtype: int64"
      ]
     },
     "execution_count": 47,
     "metadata": {},
     "output_type": "execute_result"
    }
   ],
   "source": [
    "# 이상치가 많은 농장명의 빈도수를 확인합니다.\n",
    "df['농장명'][df['농장명'].isin(values = farms)].value_counts()"
   ]
  },
  {
   "cell_type": "code",
   "execution_count": 48,
   "id": "034e612c-6bae-4012-a030-3022d052463d",
   "metadata": {
    "ExecuteTime": {
     "end_time": "2022-06-22T10:38:13.588295Z",
     "start_time": "2022-06-22T10:38:13.529106Z"
    }
   },
   "outputs": [
    {
     "data": {
      "text/html": [
       "<div>\n",
       "<style scoped>\n",
       "    .dataframe tbody tr th:only-of-type {\n",
       "        vertical-align: middle;\n",
       "    }\n",
       "\n",
       "    .dataframe tbody tr th {\n",
       "        vertical-align: top;\n",
       "    }\n",
       "\n",
       "    .dataframe thead tr th {\n",
       "        text-align: left;\n",
       "    }\n",
       "\n",
       "    .dataframe thead tr:last-of-type th {\n",
       "        text-align: right;\n",
       "    }\n",
       "</style>\n",
       "<table border=\"1\" class=\"dataframe\">\n",
       "  <thead>\n",
       "    <tr>\n",
       "      <th></th>\n",
       "      <th>mean</th>\n",
       "      <th>std</th>\n",
       "    </tr>\n",
       "    <tr>\n",
       "      <th></th>\n",
       "      <th>생체중</th>\n",
       "      <th>생체중</th>\n",
       "    </tr>\n",
       "    <tr>\n",
       "      <th>농장명</th>\n",
       "      <th></th>\n",
       "      <th></th>\n",
       "    </tr>\n",
       "  </thead>\n",
       "  <tbody>\n",
       "    <tr>\n",
       "      <th>농장001</th>\n",
       "      <td>113.303093</td>\n",
       "      <td>7.924365</td>\n",
       "    </tr>\n",
       "    <tr>\n",
       "      <th>농장002</th>\n",
       "      <td>119.244000</td>\n",
       "      <td>8.474416</td>\n",
       "    </tr>\n",
       "    <tr>\n",
       "      <th>농장003</th>\n",
       "      <td>115.766968</td>\n",
       "      <td>8.862133</td>\n",
       "    </tr>\n",
       "    <tr>\n",
       "      <th>농장004</th>\n",
       "      <td>117.448980</td>\n",
       "      <td>8.967889</td>\n",
       "    </tr>\n",
       "    <tr>\n",
       "      <th>농장005</th>\n",
       "      <td>114.536364</td>\n",
       "      <td>7.614191</td>\n",
       "    </tr>\n",
       "    <tr>\n",
       "      <th>...</th>\n",
       "      <td>...</td>\n",
       "      <td>...</td>\n",
       "    </tr>\n",
       "    <tr>\n",
       "      <th>농장166</th>\n",
       "      <td>118.456929</td>\n",
       "      <td>9.048805</td>\n",
       "    </tr>\n",
       "    <tr>\n",
       "      <th>농장167</th>\n",
       "      <td>123.881356</td>\n",
       "      <td>7.195879</td>\n",
       "    </tr>\n",
       "    <tr>\n",
       "      <th>농장168</th>\n",
       "      <td>112.345455</td>\n",
       "      <td>5.081623</td>\n",
       "    </tr>\n",
       "    <tr>\n",
       "      <th>농장169</th>\n",
       "      <td>112.960630</td>\n",
       "      <td>10.609521</td>\n",
       "    </tr>\n",
       "    <tr>\n",
       "      <th>농장170</th>\n",
       "      <td>119.413190</td>\n",
       "      <td>12.003602</td>\n",
       "    </tr>\n",
       "  </tbody>\n",
       "</table>\n",
       "<p>170 rows × 2 columns</p>\n",
       "</div>"
      ],
      "text/plain": [
       "             mean        std\n",
       "              생체중        생체중\n",
       "농장명                         \n",
       "농장001  113.303093   7.924365\n",
       "농장002  119.244000   8.474416\n",
       "농장003  115.766968   8.862133\n",
       "농장004  117.448980   8.967889\n",
       "농장005  114.536364   7.614191\n",
       "...           ...        ...\n",
       "농장166  118.456929   9.048805\n",
       "농장167  123.881356   7.195879\n",
       "농장168  112.345455   5.081623\n",
       "농장169  112.960630  10.609521\n",
       "농장170  119.413190  12.003602\n",
       "\n",
       "[170 rows x 2 columns]"
      ]
     },
     "execution_count": 48,
     "metadata": {},
     "output_type": "execute_result"
    }
   ],
   "source": [
    "# 농장명 범주별 생체중 평균과 표준편차를 피벗 테이블로 생성합니다.\n",
    "pvt = pd.pivot_table(data = df, values = '생체중', index = '농장명', aggfunc = [np.mean, np.std])\n",
    "pvt"
   ]
  },
  {
   "cell_type": "code",
   "execution_count": 49,
   "id": "b16a9ded-8307-4e69-ab9b-6a013dfb22cb",
   "metadata": {
    "ExecuteTime": {
     "end_time": "2022-06-22T10:38:13.759588Z",
     "start_time": "2022-06-22T10:38:13.746589Z"
    }
   },
   "outputs": [
    {
     "data": {
      "text/plain": [
       "MultiIndex([('mean', '생체중'),\n",
       "            ( 'std', '생체중')],\n",
       "           )"
      ]
     },
     "execution_count": 49,
     "metadata": {},
     "output_type": "execute_result"
    }
   ],
   "source": [
    "# 데이터프레임을 정렬하려면 열이름을 확인해야 합니다.\n",
    "pvt.columns"
   ]
  },
  {
   "cell_type": "code",
   "execution_count": 50,
   "id": "eade8c1b-fb8d-49af-ac47-c37881364852",
   "metadata": {
    "ExecuteTime": {
     "end_time": "2022-06-22T10:38:13.994898Z",
     "start_time": "2022-06-22T10:38:13.966462Z"
    }
   },
   "outputs": [
    {
     "data": {
      "text/html": [
       "<div>\n",
       "<style scoped>\n",
       "    .dataframe tbody tr th:only-of-type {\n",
       "        vertical-align: middle;\n",
       "    }\n",
       "\n",
       "    .dataframe tbody tr th {\n",
       "        vertical-align: top;\n",
       "    }\n",
       "\n",
       "    .dataframe thead tr th {\n",
       "        text-align: left;\n",
       "    }\n",
       "\n",
       "    .dataframe thead tr:last-of-type th {\n",
       "        text-align: right;\n",
       "    }\n",
       "</style>\n",
       "<table border=\"1\" class=\"dataframe\">\n",
       "  <thead>\n",
       "    <tr>\n",
       "      <th></th>\n",
       "      <th>mean</th>\n",
       "      <th>std</th>\n",
       "    </tr>\n",
       "    <tr>\n",
       "      <th></th>\n",
       "      <th>생체중</th>\n",
       "      <th>생체중</th>\n",
       "    </tr>\n",
       "    <tr>\n",
       "      <th>농장명</th>\n",
       "      <th></th>\n",
       "      <th></th>\n",
       "    </tr>\n",
       "  </thead>\n",
       "  <tbody>\n",
       "    <tr>\n",
       "      <th>농장062</th>\n",
       "      <td>112.822034</td>\n",
       "      <td>4.317785</td>\n",
       "    </tr>\n",
       "    <tr>\n",
       "      <th>농장050</th>\n",
       "      <td>111.492669</td>\n",
       "      <td>4.434899</td>\n",
       "    </tr>\n",
       "    <tr>\n",
       "      <th>농장154</th>\n",
       "      <td>115.450980</td>\n",
       "      <td>4.846911</td>\n",
       "    </tr>\n",
       "    <tr>\n",
       "      <th>농장006</th>\n",
       "      <td>122.457143</td>\n",
       "      <td>5.037173</td>\n",
       "    </tr>\n",
       "    <tr>\n",
       "      <th>농장168</th>\n",
       "      <td>112.345455</td>\n",
       "      <td>5.081623</td>\n",
       "    </tr>\n",
       "    <tr>\n",
       "      <th>...</th>\n",
       "      <td>...</td>\n",
       "      <td>...</td>\n",
       "    </tr>\n",
       "    <tr>\n",
       "      <th>농장071</th>\n",
       "      <td>117.757790</td>\n",
       "      <td>14.976179</td>\n",
       "    </tr>\n",
       "    <tr>\n",
       "      <th>농장143</th>\n",
       "      <td>125.169811</td>\n",
       "      <td>15.780320</td>\n",
       "    </tr>\n",
       "    <tr>\n",
       "      <th>농장155</th>\n",
       "      <td>117.768421</td>\n",
       "      <td>15.993866</td>\n",
       "    </tr>\n",
       "    <tr>\n",
       "      <th>농장055</th>\n",
       "      <td>118.800000</td>\n",
       "      <td>16.824070</td>\n",
       "    </tr>\n",
       "    <tr>\n",
       "      <th>농장105</th>\n",
       "      <td>114.469689</td>\n",
       "      <td>19.382646</td>\n",
       "    </tr>\n",
       "  </tbody>\n",
       "</table>\n",
       "<p>170 rows × 2 columns</p>\n",
       "</div>"
      ],
      "text/plain": [
       "             mean        std\n",
       "              생체중        생체중\n",
       "농장명                         \n",
       "농장062  112.822034   4.317785\n",
       "농장050  111.492669   4.434899\n",
       "농장154  115.450980   4.846911\n",
       "농장006  122.457143   5.037173\n",
       "농장168  112.345455   5.081623\n",
       "...           ...        ...\n",
       "농장071  117.757790  14.976179\n",
       "농장143  125.169811  15.780320\n",
       "농장155  117.768421  15.993866\n",
       "농장055  118.800000  16.824070\n",
       "농장105  114.469689  19.382646\n",
       "\n",
       "[170 rows x 2 columns]"
      ]
     },
     "execution_count": 50,
     "metadata": {},
     "output_type": "execute_result"
    }
   ],
   "source": [
    "# 생체중 표준편차로 내림차순 정렬합니다.\n",
    "# 이상치가 많은 두 농장명의 표준편차가 가장 큽니다.\n",
    "pvt.sort_values(by = [( 'std', '생체중')])"
   ]
  },
  {
   "cell_type": "code",
   "execution_count": 51,
   "id": "c9785bc4-dfd2-42cc-a8b4-a12225bf9b98",
   "metadata": {
    "ExecuteTime": {
     "end_time": "2022-06-22T10:38:14.213206Z",
     "start_time": "2022-06-22T10:38:14.168980Z"
    }
   },
   "outputs": [
    {
     "data": {
      "text/html": [
       "<div>\n",
       "<style scoped>\n",
       "    .dataframe tbody tr th:only-of-type {\n",
       "        vertical-align: middle;\n",
       "    }\n",
       "\n",
       "    .dataframe tbody tr th {\n",
       "        vertical-align: top;\n",
       "    }\n",
       "\n",
       "    .dataframe thead th {\n",
       "        text-align: right;\n",
       "    }\n",
       "</style>\n",
       "<table border=\"1\" class=\"dataframe\">\n",
       "  <thead>\n",
       "    <tr style=\"text-align: right;\">\n",
       "      <th></th>\n",
       "      <th>도체중</th>\n",
       "    </tr>\n",
       "    <tr>\n",
       "      <th>농장명</th>\n",
       "      <th></th>\n",
       "    </tr>\n",
       "  </thead>\n",
       "  <tbody>\n",
       "    <tr>\n",
       "      <th>농장080</th>\n",
       "      <td>79.851852</td>\n",
       "    </tr>\n",
       "    <tr>\n",
       "      <th>농장061</th>\n",
       "      <td>83.402778</td>\n",
       "    </tr>\n",
       "    <tr>\n",
       "      <th>농장083</th>\n",
       "      <td>83.430769</td>\n",
       "    </tr>\n",
       "    <tr>\n",
       "      <th>농장152</th>\n",
       "      <td>83.635593</td>\n",
       "    </tr>\n",
       "    <tr>\n",
       "      <th>농장077</th>\n",
       "      <td>83.754310</td>\n",
       "    </tr>\n",
       "    <tr>\n",
       "      <th>...</th>\n",
       "      <td>...</td>\n",
       "    </tr>\n",
       "    <tr>\n",
       "      <th>농장167</th>\n",
       "      <td>93.915254</td>\n",
       "    </tr>\n",
       "    <tr>\n",
       "      <th>농장143</th>\n",
       "      <td>94.584906</td>\n",
       "    </tr>\n",
       "    <tr>\n",
       "      <th>농장026</th>\n",
       "      <td>94.892857</td>\n",
       "    </tr>\n",
       "    <tr>\n",
       "      <th>농장101</th>\n",
       "      <td>96.300000</td>\n",
       "    </tr>\n",
       "    <tr>\n",
       "      <th>농장054</th>\n",
       "      <td>98.261214</td>\n",
       "    </tr>\n",
       "  </tbody>\n",
       "</table>\n",
       "<p>170 rows × 1 columns</p>\n",
       "</div>"
      ],
      "text/plain": [
       "             도체중\n",
       "농장명             \n",
       "농장080  79.851852\n",
       "농장061  83.402778\n",
       "농장083  83.430769\n",
       "농장152  83.635593\n",
       "농장077  83.754310\n",
       "...          ...\n",
       "농장167  93.915254\n",
       "농장143  94.584906\n",
       "농장026  94.892857\n",
       "농장101  96.300000\n",
       "농장054  98.261214\n",
       "\n",
       "[170 rows x 1 columns]"
      ]
     },
     "execution_count": 51,
     "metadata": {},
     "output_type": "execute_result"
    }
   ],
   "source": [
    "# 농장명 범주별 도체중 평균을 확인합니다.\n",
    "grp = pd.pivot_table(data = df, index = '농장명', values = '도체중', aggfunc = np.mean).sort_values(by = ['도체중'])\n",
    "grp"
   ]
  },
  {
   "cell_type": "code",
   "execution_count": 52,
   "id": "88ecaad6-fe7a-4160-9593-cef8b589c470",
   "metadata": {
    "ExecuteTime": {
     "end_time": "2022-06-22T10:38:18.897751Z",
     "start_time": "2022-06-22T10:38:14.450760Z"
    }
   },
   "outputs": [
    {
     "data": {
      "image/png": "[encoded data removed]",
      "text/plain": [
       "<Figure size 1600x800 with 1 Axes>"
      ]
     },
     "metadata": {
      "needs_background": "light"
     },
     "output_type": "display_data"
    }
   ],
   "source": [
    "# 농장명 범주별 도체중 분포를 상자 수염 그림으로 그립니다.\n",
    "plt.figure(figsize = (16, 8), dpi = 100)\n",
    "sns.boxplot(data = df, x = '농장명', y = '도체중', flierprops = outlier, order = grp.index)\n",
    "plt.xticks(rotation = 90);"
   ]
  },
  {
   "cell_type": "markdown",
   "id": "bde1e15d-77fa-4eba-b6bf-7ff29b325b92",
   "metadata": {},
   "source": [
    "#### 공장명"
   ]
  },
  {
   "cell_type": "code",
   "execution_count": 53,
   "id": "f9aa0f65-41de-40ca-897f-e8c43f7cf52c",
   "metadata": {
    "ExecuteTime": {
     "end_time": "2022-06-22T10:38:19.082834Z",
     "start_time": "2022-06-22T10:38:19.067946Z"
    }
   },
   "outputs": [
    {
     "data": {
      "text/plain": [
       "공장D    36711\n",
       "공장E    21728\n",
       "공장C     3257\n",
       "공장A     2898\n",
       "공장B     1369\n",
       "Name: 공장명, dtype: int64"
      ]
     },
     "execution_count": 53,
     "metadata": {},
     "output_type": "execute_result"
    }
   ],
   "source": [
    "# 공장명 범주별 빈도수를 확인합니다.\n",
    "grp = df['공장명'].value_counts()\n",
    "grp"
   ]
  },
  {
   "cell_type": "code",
   "execution_count": 54,
   "id": "3ed7fd94-85ae-4d76-a0dd-0ac73546bd27",
   "metadata": {
    "ExecuteTime": {
     "end_time": "2022-06-22T10:38:19.632006Z",
     "start_time": "2022-06-22T10:38:19.321493Z"
    }
   },
   "outputs": [
    {
     "data": {
      "image/png": "[encoded data removed]",
      "text/plain": [
       "<Figure size 1200x600 with 1 Axes>"
      ]
     },
     "metadata": {
      "needs_background": "light"
     },
     "output_type": "display_data"
    }
   ],
   "source": [
    "# 공장명 범주별 빈도수로 막대그래프를 그립니다.\n",
    "sns.countplot(data = df, x = '공장명', order = grp.index);"
   ]
  },
  {
   "cell_type": "code",
   "execution_count": 55,
   "id": "403232af-063b-45ad-ad13-eb71d91f3ad8",
   "metadata": {
    "ExecuteTime": {
     "end_time": "2022-06-22T10:38:19.848881Z",
     "start_time": "2022-06-22T10:38:19.820470Z"
    }
   },
   "outputs": [
    {
     "data": {
      "text/html": [
       "<div>\n",
       "<style scoped>\n",
       "    .dataframe tbody tr th:only-of-type {\n",
       "        vertical-align: middle;\n",
       "    }\n",
       "\n",
       "    .dataframe tbody tr th {\n",
       "        vertical-align: top;\n",
       "    }\n",
       "\n",
       "    .dataframe thead th {\n",
       "        text-align: right;\n",
       "    }\n",
       "</style>\n",
       "<table border=\"1\" class=\"dataframe\">\n",
       "  <thead>\n",
       "    <tr style=\"text-align: right;\">\n",
       "      <th></th>\n",
       "      <th>생체중</th>\n",
       "    </tr>\n",
       "    <tr>\n",
       "      <th>공장명</th>\n",
       "      <th></th>\n",
       "    </tr>\n",
       "  </thead>\n",
       "  <tbody>\n",
       "    <tr>\n",
       "      <th>공장B</th>\n",
       "      <td>115.173850</td>\n",
       "    </tr>\n",
       "    <tr>\n",
       "      <th>공장C</th>\n",
       "      <td>115.342954</td>\n",
       "    </tr>\n",
       "    <tr>\n",
       "      <th>공장A</th>\n",
       "      <td>115.591442</td>\n",
       "    </tr>\n",
       "    <tr>\n",
       "      <th>공장E</th>\n",
       "      <td>115.881351</td>\n",
       "    </tr>\n",
       "    <tr>\n",
       "      <th>공장D</th>\n",
       "      <td>117.492005</td>\n",
       "    </tr>\n",
       "  </tbody>\n",
       "</table>\n",
       "</div>"
      ],
      "text/plain": [
       "            생체중\n",
       "공장명            \n",
       "공장B  115.173850\n",
       "공장C  115.342954\n",
       "공장A  115.591442\n",
       "공장E  115.881351\n",
       "공장D  117.492005"
      ]
     },
     "execution_count": 55,
     "metadata": {},
     "output_type": "execute_result"
    }
   ],
   "source": [
    "# 공장명 범주별 생체중 평균을 확인합니다.\n",
    "grp = pd.pivot_table(data = df, index = '공장명', values = '생체중', aggfunc = np.mean).sort_values(by = ['생체중'])\n",
    "grp"
   ]
  },
  {
   "cell_type": "code",
   "execution_count": 56,
   "id": "63648921-1484-49a8-85ca-d9f2e978376d",
   "metadata": {
    "ExecuteTime": {
     "end_time": "2022-06-22T10:38:20.369527Z",
     "start_time": "2022-06-22T10:38:20.040067Z"
    }
   },
   "outputs": [
    {
     "data": {
      "image/png": "[encoded data removed]",
      "text/plain": [
       "<Figure size 1200x600 with 1 Axes>"
      ]
     },
     "metadata": {
      "needs_background": "light"
     },
     "output_type": "display_data"
    }
   ],
   "source": [
    "# 공장명 범주별 생체중 분포를 상자 수염 그림으로 그립니다.\n",
    "sns.boxplot(data = df, x = '공장명', y = '생체중', flierprops = outlier, order = grp.index)\n",
    "plt.axhline(y = 60, color = 'red', linestyle = '--');"
   ]
  },
  {
   "cell_type": "code",
   "execution_count": 57,
   "id": "daad8f6a-44cc-4f46-8e94-6fae53a5fe14",
   "metadata": {
    "ExecuteTime": {
     "end_time": "2022-06-22T10:38:20.653930Z",
     "start_time": "2022-06-22T10:38:20.608714Z"
    }
   },
   "outputs": [
    {
     "data": {
      "text/html": [
       "<div>\n",
       "<style scoped>\n",
       "    .dataframe tbody tr th:only-of-type {\n",
       "        vertical-align: middle;\n",
       "    }\n",
       "\n",
       "    .dataframe tbody tr th {\n",
       "        vertical-align: top;\n",
       "    }\n",
       "\n",
       "    .dataframe thead th {\n",
       "        text-align: right;\n",
       "    }\n",
       "</style>\n",
       "<table border=\"1\" class=\"dataframe\">\n",
       "  <thead>\n",
       "    <tr style=\"text-align: right;\">\n",
       "      <th></th>\n",
       "      <th>도체중</th>\n",
       "    </tr>\n",
       "    <tr>\n",
       "      <th>공장명</th>\n",
       "      <th></th>\n",
       "    </tr>\n",
       "  </thead>\n",
       "  <tbody>\n",
       "    <tr>\n",
       "      <th>공장B</th>\n",
       "      <td>87.421476</td>\n",
       "    </tr>\n",
       "    <tr>\n",
       "      <th>공장C</th>\n",
       "      <td>87.867670</td>\n",
       "    </tr>\n",
       "    <tr>\n",
       "      <th>공장E</th>\n",
       "      <td>88.136000</td>\n",
       "    </tr>\n",
       "    <tr>\n",
       "      <th>공장D</th>\n",
       "      <td>89.057939</td>\n",
       "    </tr>\n",
       "    <tr>\n",
       "      <th>공장A</th>\n",
       "      <td>89.110076</td>\n",
       "    </tr>\n",
       "  </tbody>\n",
       "</table>\n",
       "</div>"
      ],
      "text/plain": [
       "           도체중\n",
       "공장명           \n",
       "공장B  87.421476\n",
       "공장C  87.867670\n",
       "공장E  88.136000\n",
       "공장D  89.057939\n",
       "공장A  89.110076"
      ]
     },
     "execution_count": 57,
     "metadata": {},
     "output_type": "execute_result"
    }
   ],
   "source": [
    "# 공장명 범주별 도체중 평균을 확인합니다.\n",
    "grp = pd.pivot_table(data = df, index = '공장명', values = '도체중', aggfunc = np.mean).sort_values(by = ['도체중'])\n",
    "grp"
   ]
  },
  {
   "cell_type": "code",
   "execution_count": 58,
   "id": "a9da1bf2-31f1-4984-9ba4-02e2060234c4",
   "metadata": {
    "ExecuteTime": {
     "end_time": "2022-06-22T10:38:21.095485Z",
     "start_time": "2022-06-22T10:38:20.862477Z"
    }
   },
   "outputs": [
    {
     "data": {
      "image/png": "[encoded data removed]",
      "text/plain": [
       "<Figure size 1200x600 with 1 Axes>"
      ]
     },
     "metadata": {
      "needs_background": "light"
     },
     "output_type": "display_data"
    }
   ],
   "source": [
    "# 공장명 범주별 도체중 분포를 상자 수염 그림으로 그립니다.\n",
    "sns.boxplot(data = df, x = '공장명', y = '도체중', flierprops = outlier, order = grp.index);"
   ]
  },
  {
   "cell_type": "markdown",
   "id": "4ccea10a-d2c9-488a-97ae-6d1efcdd7392",
   "metadata": {},
   "source": [
    "#### 도축년월"
   ]
  },
  {
   "cell_type": "code",
   "execution_count": 59,
   "id": "9678ff9a-32a4-4236-9b78-340419a1be02",
   "metadata": {
    "ExecuteTime": {
     "end_time": "2022-06-22T10:38:21.329986Z",
     "start_time": "2022-06-22T10:38:21.283767Z"
    }
   },
   "outputs": [
    {
     "data": {
      "text/html": [
       "<div>\n",
       "<style scoped>\n",
       "    .dataframe tbody tr th:only-of-type {\n",
       "        vertical-align: middle;\n",
       "    }\n",
       "\n",
       "    .dataframe tbody tr th {\n",
       "        vertical-align: top;\n",
       "    }\n",
       "\n",
       "    .dataframe thead th {\n",
       "        text-align: right;\n",
       "    }\n",
       "</style>\n",
       "<table border=\"1\" class=\"dataframe\">\n",
       "  <thead>\n",
       "    <tr style=\"text-align: right;\">\n",
       "      <th></th>\n",
       "      <th>생체중</th>\n",
       "    </tr>\n",
       "    <tr>\n",
       "      <th>도축년월</th>\n",
       "      <th></th>\n",
       "    </tr>\n",
       "  </thead>\n",
       "  <tbody>\n",
       "    <tr>\n",
       "      <th>2020년 09월</th>\n",
       "      <td>114.779696</td>\n",
       "    </tr>\n",
       "    <tr>\n",
       "      <th>2021년 03월</th>\n",
       "      <td>115.728760</td>\n",
       "    </tr>\n",
       "    <tr>\n",
       "      <th>2021년 04월</th>\n",
       "      <td>116.055776</td>\n",
       "    </tr>\n",
       "    <tr>\n",
       "      <th>2021년 05월</th>\n",
       "      <td>116.224360</td>\n",
       "    </tr>\n",
       "    <tr>\n",
       "      <th>2020년 11월</th>\n",
       "      <td>116.527245</td>\n",
       "    </tr>\n",
       "    <tr>\n",
       "      <th>2021년 02월</th>\n",
       "      <td>116.556706</td>\n",
       "    </tr>\n",
       "    <tr>\n",
       "      <th>2021년 01월</th>\n",
       "      <td>118.006295</td>\n",
       "    </tr>\n",
       "    <tr>\n",
       "      <th>2020년 12월</th>\n",
       "      <td>118.650591</td>\n",
       "    </tr>\n",
       "    <tr>\n",
       "      <th>2020년 10월</th>\n",
       "      <td>119.250468</td>\n",
       "    </tr>\n",
       "  </tbody>\n",
       "</table>\n",
       "</div>"
      ],
      "text/plain": [
       "                  생체중\n",
       "도축년월                 \n",
       "2020년 09월  114.779696\n",
       "2021년 03월  115.728760\n",
       "2021년 04월  116.055776\n",
       "2021년 05월  116.224360\n",
       "2020년 11월  116.527245\n",
       "2021년 02월  116.556706\n",
       "2021년 01월  118.006295\n",
       "2020년 12월  118.650591\n",
       "2020년 10월  119.250468"
      ]
     },
     "execution_count": 59,
     "metadata": {},
     "output_type": "execute_result"
    }
   ],
   "source": [
    "# 도축년월 범주별 생체중 평균을 확인합니다.\n",
    "grp = pd.pivot_table(data = df, index = '도축년월', values = '생체중', aggfunc = np.mean).sort_values(by = ['생체중'])\n",
    "grp"
   ]
  },
  {
   "cell_type": "code",
   "execution_count": 60,
   "id": "2874d0ef-cbbb-486f-9e51-7aa8d740191c",
   "metadata": {
    "ExecuteTime": {
     "end_time": "2022-06-22T10:38:21.832498Z",
     "start_time": "2022-06-22T10:38:21.504745Z"
    }
   },
   "outputs": [
    {
     "data": {
      "image/png": "[encoded data removed]",
      "text/plain": [
       "<Figure size 1200x600 with 1 Axes>"
      ]
     },
     "metadata": {
      "needs_background": "light"
     },
     "output_type": "display_data"
    }
   ],
   "source": [
    "# 도축년월 범주별 생체중 분포를 상자 수염 그림으로 그립니다.\n",
    "sns.boxplot(data = df, x = '도축년월', y = '생체중', flierprops = outlier, order = grp.index);"
   ]
  },
  {
   "cell_type": "code",
   "execution_count": 61,
   "id": "01f45a39-ef5a-4470-a2a0-414d02d563d7",
   "metadata": {
    "ExecuteTime": {
     "end_time": "2022-06-22T10:38:22.130447Z",
     "start_time": "2022-06-22T10:38:22.085573Z"
    }
   },
   "outputs": [
    {
     "data": {
      "text/html": [
       "<div>\n",
       "<style scoped>\n",
       "    .dataframe tbody tr th:only-of-type {\n",
       "        vertical-align: middle;\n",
       "    }\n",
       "\n",
       "    .dataframe tbody tr th {\n",
       "        vertical-align: top;\n",
       "    }\n",
       "\n",
       "    .dataframe thead th {\n",
       "        text-align: right;\n",
       "    }\n",
       "</style>\n",
       "<table border=\"1\" class=\"dataframe\">\n",
       "  <thead>\n",
       "    <tr style=\"text-align: right;\">\n",
       "      <th></th>\n",
       "      <th>도체중</th>\n",
       "    </tr>\n",
       "    <tr>\n",
       "      <th>도축년월</th>\n",
       "      <th></th>\n",
       "    </tr>\n",
       "  </thead>\n",
       "  <tbody>\n",
       "    <tr>\n",
       "      <th>2020년 09월</th>\n",
       "      <td>87.285714</td>\n",
       "    </tr>\n",
       "    <tr>\n",
       "      <th>2020년 10월</th>\n",
       "      <td>90.167395</td>\n",
       "    </tr>\n",
       "    <tr>\n",
       "      <th>2020년 11월</th>\n",
       "      <td>88.203715</td>\n",
       "    </tr>\n",
       "    <tr>\n",
       "      <th>2020년 12월</th>\n",
       "      <td>89.847760</td>\n",
       "    </tr>\n",
       "    <tr>\n",
       "      <th>2021년 01월</th>\n",
       "      <td>90.053003</td>\n",
       "    </tr>\n",
       "    <tr>\n",
       "      <th>2021년 02월</th>\n",
       "      <td>88.407351</td>\n",
       "    </tr>\n",
       "    <tr>\n",
       "      <th>2021년 03월</th>\n",
       "      <td>87.667988</td>\n",
       "    </tr>\n",
       "    <tr>\n",
       "      <th>2021년 04월</th>\n",
       "      <td>88.268517</td>\n",
       "    </tr>\n",
       "    <tr>\n",
       "      <th>2021년 05월</th>\n",
       "      <td>88.841724</td>\n",
       "    </tr>\n",
       "  </tbody>\n",
       "</table>\n",
       "</div>"
      ],
      "text/plain": [
       "                 도체중\n",
       "도축년월                \n",
       "2020년 09월  87.285714\n",
       "2020년 10월  90.167395\n",
       "2020년 11월  88.203715\n",
       "2020년 12월  89.847760\n",
       "2021년 01월  90.053003\n",
       "2021년 02월  88.407351\n",
       "2021년 03월  87.667988\n",
       "2021년 04월  88.268517\n",
       "2021년 05월  88.841724"
      ]
     },
     "execution_count": 61,
     "metadata": {},
     "output_type": "execute_result"
    }
   ],
   "source": [
    "# 도축년월 범주별 도체중 평균을 확인합니다.\n",
    "grp = pd.pivot_table(data = df, index = '도축년월', values = '도체중', aggfunc = np.mean)\n",
    "grp"
   ]
  },
  {
   "cell_type": "code",
   "execution_count": 62,
   "id": "ad989fc1-8d2a-4c5c-af75-5c59beac1c8f",
   "metadata": {
    "ExecuteTime": {
     "end_time": "2022-06-22T10:38:22.793756Z",
     "start_time": "2022-06-22T10:38:22.322699Z"
    }
   },
   "outputs": [
    {
     "data": {
      "image/png": "[encoded data removed]",
      "text/plain": [
       "<Figure size 1200x600 with 1 Axes>"
      ]
     },
     "metadata": {
      "needs_background": "light"
     },
     "output_type": "display_data"
    }
   ],
   "source": [
    "# 도축년월 범주별 도체중 분포를 상자 수염 그림으로 그립니다.\n",
    "sns.boxplot(data = df, x = '도축년월', y = '도체중', flierprops = outlier, order = grp.index)\n",
    "plt.xticks(rotation = 45);"
   ]
  },
  {
   "cell_type": "markdown",
   "id": "f15733a8-d76f-4cd0-bea0-89068a429583",
   "metadata": {},
   "source": [
    "#### 지방비율과 제품등급"
   ]
  },
  {
   "cell_type": "code",
   "execution_count": 63,
   "id": "485b784c-2646-4d11-81bb-958645232cc3",
   "metadata": {
    "ExecuteTime": {
     "end_time": "2022-06-22T10:38:23.095877Z",
     "start_time": "2022-06-22T10:38:23.019838Z"
    }
   },
   "outputs": [
    {
     "data": {
      "text/html": [
       "<div>\n",
       "<style scoped>\n",
       "    .dataframe tbody tr th:only-of-type {\n",
       "        vertical-align: middle;\n",
       "    }\n",
       "\n",
       "    .dataframe tbody tr th {\n",
       "        vertical-align: top;\n",
       "    }\n",
       "\n",
       "    .dataframe thead th {\n",
       "        text-align: right;\n",
       "    }\n",
       "</style>\n",
       "<table border=\"1\" class=\"dataframe\">\n",
       "  <thead>\n",
       "    <tr style=\"text-align: right;\">\n",
       "      <th>제품등급</th>\n",
       "      <th>1</th>\n",
       "      <th>2</th>\n",
       "      <th>3</th>\n",
       "      <th>4</th>\n",
       "      <th>All</th>\n",
       "    </tr>\n",
       "    <tr>\n",
       "      <th>지방비율</th>\n",
       "      <th></th>\n",
       "      <th></th>\n",
       "      <th></th>\n",
       "      <th></th>\n",
       "      <th></th>\n",
       "    </tr>\n",
       "  </thead>\n",
       "  <tbody>\n",
       "    <tr>\n",
       "      <th>1</th>\n",
       "      <td>1493</td>\n",
       "      <td>0</td>\n",
       "      <td>0</td>\n",
       "      <td>0</td>\n",
       "      <td>1493</td>\n",
       "    </tr>\n",
       "    <tr>\n",
       "      <th>2</th>\n",
       "      <td>0</td>\n",
       "      <td>11959</td>\n",
       "      <td>0</td>\n",
       "      <td>0</td>\n",
       "      <td>11959</td>\n",
       "    </tr>\n",
       "    <tr>\n",
       "      <th>3</th>\n",
       "      <td>0</td>\n",
       "      <td>28438</td>\n",
       "      <td>0</td>\n",
       "      <td>0</td>\n",
       "      <td>28438</td>\n",
       "    </tr>\n",
       "    <tr>\n",
       "      <th>4</th>\n",
       "      <td>0</td>\n",
       "      <td>0</td>\n",
       "      <td>13467</td>\n",
       "      <td>0</td>\n",
       "      <td>13467</td>\n",
       "    </tr>\n",
       "    <tr>\n",
       "      <th>5</th>\n",
       "      <td>0</td>\n",
       "      <td>0</td>\n",
       "      <td>5057</td>\n",
       "      <td>0</td>\n",
       "      <td>5057</td>\n",
       "    </tr>\n",
       "    <tr>\n",
       "      <th>6</th>\n",
       "      <td>0</td>\n",
       "      <td>0</td>\n",
       "      <td>0</td>\n",
       "      <td>2994</td>\n",
       "      <td>2994</td>\n",
       "    </tr>\n",
       "    <tr>\n",
       "      <th>7</th>\n",
       "      <td>0</td>\n",
       "      <td>0</td>\n",
       "      <td>0</td>\n",
       "      <td>2240</td>\n",
       "      <td>2240</td>\n",
       "    </tr>\n",
       "    <tr>\n",
       "      <th>8</th>\n",
       "      <td>0</td>\n",
       "      <td>0</td>\n",
       "      <td>0</td>\n",
       "      <td>315</td>\n",
       "      <td>315</td>\n",
       "    </tr>\n",
       "    <tr>\n",
       "      <th>All</th>\n",
       "      <td>1493</td>\n",
       "      <td>40397</td>\n",
       "      <td>18524</td>\n",
       "      <td>5549</td>\n",
       "      <td>65963</td>\n",
       "    </tr>\n",
       "  </tbody>\n",
       "</table>\n",
       "</div>"
      ],
      "text/plain": [
       "제품등급     1      2      3     4    All\n",
       "지방비율                                 \n",
       "1     1493      0      0     0   1493\n",
       "2        0  11959      0     0  11959\n",
       "3        0  28438      0     0  28438\n",
       "4        0      0  13467     0  13467\n",
       "5        0      0   5057     0   5057\n",
       "6        0      0      0  2994   2994\n",
       "7        0      0      0  2240   2240\n",
       "8        0      0      0   315    315\n",
       "All   1493  40397  18524  5549  65963"
      ]
     },
     "execution_count": 63,
     "metadata": {},
     "output_type": "execute_result"
    }
   ],
   "source": [
    "# 지방비율과 제품등급 범주별 빈도수를 피벗 테이블로 생성합니다.\n",
    "# 지방비율에 따라 제품등급이 정해지는 것으로 보입니다.\n",
    "pd.crosstab(index = df['지방비율'], columns = df['제품등급'], margins = True)"
   ]
  },
  {
   "cell_type": "code",
   "execution_count": 64,
   "id": "f9372c49-a23c-46d3-a8d3-d19630a7260a",
   "metadata": {
    "ExecuteTime": {
     "end_time": "2022-06-22T10:38:23.507282Z",
     "start_time": "2022-06-22T10:38:23.315037Z"
    }
   },
   "outputs": [
    {
     "data": {
      "image/png": "[encoded data removed]",
      "text/plain": [
       "<Figure size 1200x600 with 1 Axes>"
      ]
     },
     "metadata": {
      "needs_background": "light"
     },
     "output_type": "display_data"
    }
   ],
   "source": [
    "# 지방비율 빈도수로 막대그래프를 그립니다.\n",
    "sns.countplot(data = df, x = '지방비율', color = 'pink');"
   ]
  },
  {
   "cell_type": "code",
   "execution_count": 65,
   "id": "cbe5ffd7-b933-45c7-a6ea-be47caf2a3b9",
   "metadata": {
    "ExecuteTime": {
     "end_time": "2022-06-22T10:38:23.899440Z",
     "start_time": "2022-06-22T10:38:23.678635Z"
    }
   },
   "outputs": [
    {
     "data": {
      "image/png": "[encoded data removed]",
      "text/plain": [
       "<Figure size 1200x600 with 1 Axes>"
      ]
     },
     "metadata": {
      "needs_background": "light"
     },
     "output_type": "display_data"
    }
   ],
   "source": [
    "# 제품등급 빈도수로 막대그래프를 그립니다.\n",
    "sns.countplot(data = df, x = '제품등급', color = 'pink');"
   ]
  },
  {
   "cell_type": "code",
   "execution_count": 66,
   "id": "c6d4d6ab-90f1-474c-8096-233feb52aa63",
   "metadata": {
    "ExecuteTime": {
     "end_time": "2022-06-22T10:38:24.501091Z",
     "start_time": "2022-06-22T10:38:24.155286Z"
    }
   },
   "outputs": [
    {
     "data": {
      "image/png": "[encoded data removed]",
      "text/plain": [
       "<Figure size 1200x600 with 1 Axes>"
      ]
     },
     "metadata": {
      "needs_background": "light"
     },
     "output_type": "display_data"
    }
   ],
   "source": [
    "# 지방비율 범주별 생체중 분포를 상자 수염 그림으로 그립니다.\n",
    "sns.boxplot(data = df, x = '지방비율', y = '생체중', palette = 'Set1', linewidth = 0.5, flierprops = outlier);"
   ]
  },
  {
   "cell_type": "code",
   "execution_count": 67,
   "id": "a2fad7a8-cd2e-4c3d-8e79-4a3e5e1e708c",
   "metadata": {
    "ExecuteTime": {
     "end_time": "2022-06-22T10:38:24.960780Z",
     "start_time": "2022-06-22T10:38:24.694958Z"
    }
   },
   "outputs": [
    {
     "data": {
      "image/png": "[encoded data removed]",
      "text/plain": [
       "<Figure size 1200x600 with 1 Axes>"
      ]
     },
     "metadata": {
      "needs_background": "light"
     },
     "output_type": "display_data"
    }
   ],
   "source": [
    "# 지방비율 범주별 도체중 분포를 상자 수염 그림으로 그립니다.\n",
    "sns.boxplot(data = df, x = '지방비율', y = '도체중', palette = 'Set1', linewidth = 0.5, flierprops = outlier);"
   ]
  },
  {
   "cell_type": "code",
   "execution_count": 68,
   "id": "99d367ee-7778-4a1d-b9b8-20464793606c",
   "metadata": {
    "ExecuteTime": {
     "end_time": "2022-06-22T10:38:25.384758Z",
     "start_time": "2022-06-22T10:38:25.153418Z"
    }
   },
   "outputs": [
    {
     "data": {
      "image/png": "[encoded data removed]",
      "text/plain": [
       "<Figure size 1200x600 with 1 Axes>"
      ]
     },
     "metadata": {
      "needs_background": "light"
     },
     "output_type": "display_data"
    }
   ],
   "source": [
    "# 제품등급 범주별 생체중 분포를 상자 수염 그림으로 그립니다.\n",
    "sns.boxplot(data = df, x = '제품등급', y = '생체중', palette = 'Set1', linewidth = 0.5, flierprops = outlier);"
   ]
  },
  {
   "cell_type": "code",
   "execution_count": 69,
   "id": "550b8540-5a88-4c30-a9b1-0c661ba6f618",
   "metadata": {
    "ExecuteTime": {
     "end_time": "2022-06-22T10:38:26.063072Z",
     "start_time": "2022-06-22T10:38:25.578305Z"
    }
   },
   "outputs": [
    {
     "data": {
      "image/png": "[encoded data removed]",
      "text/plain": [
       "<Figure size 1200x600 with 1 Axes>"
      ]
     },
     "metadata": {
      "needs_background": "light"
     },
     "output_type": "display_data"
    }
   ],
   "source": [
    "# 제품등급 범주별 도체중 분포를 상자 수염 그림으로 그립니다.\n",
    "sns.boxplot(data = df, x = '제품등급', y = '도체중', palette = 'Set1', linewidth = 0.5, flierprops = outlier);"
   ]
  },
  {
   "cell_type": "markdown",
   "id": "e73265f9-82c1-4730-8343-5a59392f0b4f",
   "metadata": {},
   "source": [
    "#### 성별"
   ]
  },
  {
   "cell_type": "code",
   "execution_count": 70,
   "id": "d76c8004-afd5-44c7-95f6-6f3dc5a70309",
   "metadata": {
    "ExecuteTime": {
     "end_time": "2022-06-22T10:38:26.373547Z",
     "start_time": "2022-06-22T10:38:26.266096Z"
    }
   },
   "outputs": [
    {
     "data": {
      "text/html": [
       "<div>\n",
       "<style scoped>\n",
       "    .dataframe tbody tr th:only-of-type {\n",
       "        vertical-align: middle;\n",
       "    }\n",
       "\n",
       "    .dataframe tbody tr th {\n",
       "        vertical-align: top;\n",
       "    }\n",
       "\n",
       "    .dataframe thead th {\n",
       "        text-align: right;\n",
       "    }\n",
       "</style>\n",
       "<table border=\"1\" class=\"dataframe\">\n",
       "  <thead>\n",
       "    <tr style=\"text-align: right;\">\n",
       "      <th></th>\n",
       "      <th>지방비율</th>\n",
       "      <th>성별</th>\n",
       "      <th>생체중</th>\n",
       "    </tr>\n",
       "  </thead>\n",
       "  <tbody>\n",
       "    <tr>\n",
       "      <th>0</th>\n",
       "      <td>1</td>\n",
       "      <td>거세</td>\n",
       "      <td>398</td>\n",
       "    </tr>\n",
       "    <tr>\n",
       "      <th>1</th>\n",
       "      <td>1</td>\n",
       "      <td>암</td>\n",
       "      <td>1095</td>\n",
       "    </tr>\n",
       "    <tr>\n",
       "      <th>2</th>\n",
       "      <td>2</td>\n",
       "      <td>거세</td>\n",
       "      <td>4311</td>\n",
       "    </tr>\n",
       "    <tr>\n",
       "      <th>3</th>\n",
       "      <td>2</td>\n",
       "      <td>암</td>\n",
       "      <td>7648</td>\n",
       "    </tr>\n",
       "    <tr>\n",
       "      <th>4</th>\n",
       "      <td>3</td>\n",
       "      <td>거세</td>\n",
       "      <td>14083</td>\n",
       "    </tr>\n",
       "    <tr>\n",
       "      <th>5</th>\n",
       "      <td>3</td>\n",
       "      <td>암</td>\n",
       "      <td>14355</td>\n",
       "    </tr>\n",
       "    <tr>\n",
       "      <th>6</th>\n",
       "      <td>4</td>\n",
       "      <td>거세</td>\n",
       "      <td>8588</td>\n",
       "    </tr>\n",
       "    <tr>\n",
       "      <th>7</th>\n",
       "      <td>4</td>\n",
       "      <td>암</td>\n",
       "      <td>4879</td>\n",
       "    </tr>\n",
       "    <tr>\n",
       "      <th>8</th>\n",
       "      <td>5</td>\n",
       "      <td>거세</td>\n",
       "      <td>3468</td>\n",
       "    </tr>\n",
       "    <tr>\n",
       "      <th>9</th>\n",
       "      <td>5</td>\n",
       "      <td>암</td>\n",
       "      <td>1589</td>\n",
       "    </tr>\n",
       "    <tr>\n",
       "      <th>10</th>\n",
       "      <td>6</td>\n",
       "      <td>거세</td>\n",
       "      <td>2136</td>\n",
       "    </tr>\n",
       "    <tr>\n",
       "      <th>11</th>\n",
       "      <td>6</td>\n",
       "      <td>암</td>\n",
       "      <td>858</td>\n",
       "    </tr>\n",
       "    <tr>\n",
       "      <th>12</th>\n",
       "      <td>7</td>\n",
       "      <td>거세</td>\n",
       "      <td>1716</td>\n",
       "    </tr>\n",
       "    <tr>\n",
       "      <th>13</th>\n",
       "      <td>7</td>\n",
       "      <td>암</td>\n",
       "      <td>524</td>\n",
       "    </tr>\n",
       "    <tr>\n",
       "      <th>14</th>\n",
       "      <td>8</td>\n",
       "      <td>거세</td>\n",
       "      <td>265</td>\n",
       "    </tr>\n",
       "    <tr>\n",
       "      <th>15</th>\n",
       "      <td>8</td>\n",
       "      <td>암</td>\n",
       "      <td>50</td>\n",
       "    </tr>\n",
       "  </tbody>\n",
       "</table>\n",
       "</div>"
      ],
      "text/plain": [
       "    지방비율  성별    생체중\n",
       "0      1  거세    398\n",
       "1      1   암   1095\n",
       "2      2  거세   4311\n",
       "3      2   암   7648\n",
       "4      3  거세  14083\n",
       "5      3   암  14355\n",
       "6      4  거세   8588\n",
       "7      4   암   4879\n",
       "8      5  거세   3468\n",
       "9      5   암   1589\n",
       "10     6  거세   2136\n",
       "11     6   암    858\n",
       "12     7  거세   1716\n",
       "13     7   암    524\n",
       "14     8  거세    265\n",
       "15     8   암     50"
      ]
     },
     "execution_count": 70,
     "metadata": {},
     "output_type": "execute_result"
    }
   ],
   "source": [
    "# 성별 지방비율 빈도수를 확인합니다.\n",
    "df.groupby(by = ['지방비율', '성별']).count()['생체중'].reset_index()"
   ]
  },
  {
   "cell_type": "code",
   "execution_count": 71,
   "id": "a0cb72e0-1e60-49c9-b8ac-60eb70f8327a",
   "metadata": {
    "ExecuteTime": {
     "end_time": "2022-06-22T10:38:26.920644Z",
     "start_time": "2022-06-22T10:38:26.563754Z"
    }
   },
   "outputs": [
    {
     "data": {
      "image/png": "[encoded data removed]",
      "text/plain": [
       "<Figure size 1200x600 with 1 Axes>"
      ]
     },
     "metadata": {
      "needs_background": "light"
     },
     "output_type": "display_data"
    }
   ],
   "source": [
    "# 성별 지방비율 빈도수로 막대그래프를 그립니다.\n",
    "# 지방비율이 3을 기준으로 성별에 따라 백분율이 달라지는 것을 알 수 있습니다.\n",
    "sns.countplot(data = df, x = '지방비율', hue = '성별', palette = 'Set1', hue_order = ['거세', '암']);"
   ]
  },
  {
   "cell_type": "code",
   "execution_count": 72,
   "id": "53c36a72-9748-4b26-b75d-96bbc2b82cff",
   "metadata": {
    "ExecuteTime": {
     "end_time": "2022-06-22T10:38:27.183607Z",
     "start_time": "2022-06-22T10:38:27.109090Z"
    }
   },
   "outputs": [
    {
     "data": {
      "text/html": [
       "<div>\n",
       "<style scoped>\n",
       "    .dataframe tbody tr th:only-of-type {\n",
       "        vertical-align: middle;\n",
       "    }\n",
       "\n",
       "    .dataframe tbody tr th {\n",
       "        vertical-align: top;\n",
       "    }\n",
       "\n",
       "    .dataframe thead th {\n",
       "        text-align: right;\n",
       "    }\n",
       "</style>\n",
       "<table border=\"1\" class=\"dataframe\">\n",
       "  <thead>\n",
       "    <tr style=\"text-align: right;\">\n",
       "      <th></th>\n",
       "      <th>제품등급</th>\n",
       "      <th>성별</th>\n",
       "      <th>생체중</th>\n",
       "    </tr>\n",
       "  </thead>\n",
       "  <tbody>\n",
       "    <tr>\n",
       "      <th>0</th>\n",
       "      <td>1</td>\n",
       "      <td>거세</td>\n",
       "      <td>398</td>\n",
       "    </tr>\n",
       "    <tr>\n",
       "      <th>1</th>\n",
       "      <td>1</td>\n",
       "      <td>암</td>\n",
       "      <td>1095</td>\n",
       "    </tr>\n",
       "    <tr>\n",
       "      <th>2</th>\n",
       "      <td>2</td>\n",
       "      <td>거세</td>\n",
       "      <td>18394</td>\n",
       "    </tr>\n",
       "    <tr>\n",
       "      <th>3</th>\n",
       "      <td>2</td>\n",
       "      <td>암</td>\n",
       "      <td>22003</td>\n",
       "    </tr>\n",
       "    <tr>\n",
       "      <th>4</th>\n",
       "      <td>3</td>\n",
       "      <td>거세</td>\n",
       "      <td>12056</td>\n",
       "    </tr>\n",
       "    <tr>\n",
       "      <th>5</th>\n",
       "      <td>3</td>\n",
       "      <td>암</td>\n",
       "      <td>6468</td>\n",
       "    </tr>\n",
       "    <tr>\n",
       "      <th>6</th>\n",
       "      <td>4</td>\n",
       "      <td>거세</td>\n",
       "      <td>4117</td>\n",
       "    </tr>\n",
       "    <tr>\n",
       "      <th>7</th>\n",
       "      <td>4</td>\n",
       "      <td>암</td>\n",
       "      <td>1432</td>\n",
       "    </tr>\n",
       "  </tbody>\n",
       "</table>\n",
       "</div>"
      ],
      "text/plain": [
       "   제품등급  성별    생체중\n",
       "0     1  거세    398\n",
       "1     1   암   1095\n",
       "2     2  거세  18394\n",
       "3     2   암  22003\n",
       "4     3  거세  12056\n",
       "5     3   암   6468\n",
       "6     4  거세   4117\n",
       "7     4   암   1432"
      ]
     },
     "execution_count": 72,
     "metadata": {},
     "output_type": "execute_result"
    }
   ],
   "source": [
    "# 성별 제품등급 빈도수를 확인합니다.\n",
    "df.groupby(by = ['제품등급', '성별']).count()['생체중'].reset_index()"
   ]
  },
  {
   "cell_type": "code",
   "execution_count": 73,
   "id": "6efe07fe-6005-4f70-a924-c02bd7a8a98a",
   "metadata": {
    "ExecuteTime": {
     "end_time": "2022-06-22T10:38:27.691531Z",
     "start_time": "2022-06-22T10:38:27.441673Z"
    }
   },
   "outputs": [
    {
     "data": {
      "image/png": "[encoded data removed]",
      "text/plain": [
       "<Figure size 1200x600 with 1 Axes>"
      ]
     },
     "metadata": {
      "needs_background": "light"
     },
     "output_type": "display_data"
    }
   ],
   "source": [
    "# 성별 제품등급 빈도수로 막대그래프를 그립니다.\n",
    "sns.countplot(data = df, x = '제품등급', hue = '성별', palette = 'Set1', hue_order = ['거세', '암']);"
   ]
  },
  {
   "cell_type": "markdown",
   "id": "8c2a32c4-017a-4fbf-b8dd-1f8055480287",
   "metadata": {},
   "source": [
    "#### 등지방두께"
   ]
  },
  {
   "cell_type": "code",
   "execution_count": 74,
   "id": "9abf6b4d-a0a7-4380-a171-7a7b438e3cd5",
   "metadata": {
    "ExecuteTime": {
     "end_time": "2022-06-22T10:38:27.863096Z",
     "start_time": "2022-06-22T10:38:27.833941Z"
    }
   },
   "outputs": [
    {
     "data": {
      "text/plain": [
       "지방비율\n",
       "1    13.855325\n",
       "2    17.456894\n",
       "3    20.882270\n",
       "4    23.822232\n",
       "5    25.635752\n",
       "6    27.018036\n",
       "7    29.636607\n",
       "8    30.682540\n",
       "Name: 등지방두께, dtype: float64"
      ]
     },
     "execution_count": 74,
     "metadata": {},
     "output_type": "execute_result"
    }
   ],
   "source": [
    "# 지방비율 범주별 등지방두께 평균을 확인합니다.\n",
    "df.groupby(by = ['지방비율']).mean()['등지방두께']"
   ]
  },
  {
   "cell_type": "code",
   "execution_count": 75,
   "id": "05230e67-3860-44cf-829e-160a95ac7c44",
   "metadata": {
    "ExecuteTime": {
     "end_time": "2022-06-22T10:38:28.489627Z",
     "start_time": "2022-06-22T10:38:28.131864Z"
    }
   },
   "outputs": [
    {
     "data": {
      "image/png": "[encoded data removed]",
      "text/plain": [
       "<Figure size 1200x600 with 1 Axes>"
      ]
     },
     "metadata": {
      "needs_background": "light"
     },
     "output_type": "display_data"
    }
   ],
   "source": [
    "# 지방비율 범주별 등지방두께의 분포를 상자 수염 그림으로 그립니다.\n",
    "sns.boxplot(data = df, x = '지방비율', y = '등지방두께', palette = 'Set1', linewidth = 0.5, flierprops = outlier);"
   ]
  },
  {
   "cell_type": "code",
   "execution_count": 76,
   "id": "af8e344e-14cb-4e21-acbf-9e76ef85dc87",
   "metadata": {
    "ExecuteTime": {
     "end_time": "2022-06-22T10:38:28.723329Z",
     "start_time": "2022-06-22T10:38:28.694589Z"
    }
   },
   "outputs": [
    {
     "data": {
      "text/plain": [
       "제품등급\n",
       "1    13.855325\n",
       "2    19.868233\n",
       "3    24.317318\n",
       "4    28.283114\n",
       "Name: 등지방두께, dtype: float64"
      ]
     },
     "execution_count": 76,
     "metadata": {},
     "output_type": "execute_result"
    }
   ],
   "source": [
    "# 제품등급 범주별 등지방두께 평균을 확인합니다.\n",
    "df.groupby(by = ['제품등급']).mean()['등지방두께']"
   ]
  },
  {
   "cell_type": "code",
   "execution_count": 77,
   "id": "700cc2b9-215c-4fff-80e9-fb4c6f86eff7",
   "metadata": {
    "ExecuteTime": {
     "end_time": "2022-06-22T10:38:29.082234Z",
     "start_time": "2022-06-22T10:38:28.897848Z"
    }
   },
   "outputs": [
    {
     "data": {
      "image/png": "[encoded data removed]",
      "text/plain": [
       "<Figure size 1200x600 with 1 Axes>"
      ]
     },
     "metadata": {
      "needs_background": "light"
     },
     "output_type": "display_data"
    }
   ],
   "source": [
    "# 제품등급 범주별 등지방두께의 분포를 상자 수염 그림으로 그립니다.\n",
    "sns.boxplot(data = df, x = '제품등급', y = '등지방두께', palette = 'Set1', linewidth = 0.5, flierprops = outlier);"
   ]
  },
  {
   "cell_type": "markdown",
   "id": "2e454277-44b4-4ccc-8b1f-7c4e34f099c1",
   "metadata": {},
   "source": [
    "#### 육질등급"
   ]
  },
  {
   "cell_type": "code",
   "execution_count": 78,
   "id": "0fe2cd93-bd11-46a1-bde6-207c3cec032b",
   "metadata": {
    "ExecuteTime": {
     "end_time": "2022-06-22T10:38:29.351011Z",
     "start_time": "2022-06-22T10:38:29.242435Z"
    }
   },
   "outputs": [
    {
     "data": {
      "text/html": [
       "<div>\n",
       "<style scoped>\n",
       "    .dataframe tbody tr th:only-of-type {\n",
       "        vertical-align: middle;\n",
       "    }\n",
       "\n",
       "    .dataframe tbody tr th {\n",
       "        vertical-align: top;\n",
       "    }\n",
       "\n",
       "    .dataframe thead th {\n",
       "        text-align: right;\n",
       "    }\n",
       "</style>\n",
       "<table border=\"1\" class=\"dataframe\">\n",
       "  <thead>\n",
       "    <tr style=\"text-align: right;\">\n",
       "      <th>육질등급</th>\n",
       "      <th>1+</th>\n",
       "      <th>1</th>\n",
       "      <th>2</th>\n",
       "      <th>등외</th>\n",
       "    </tr>\n",
       "    <tr>\n",
       "      <th>지방비율</th>\n",
       "      <th></th>\n",
       "      <th></th>\n",
       "      <th></th>\n",
       "      <th></th>\n",
       "    </tr>\n",
       "  </thead>\n",
       "  <tbody>\n",
       "    <tr>\n",
       "      <th>1</th>\n",
       "      <td>11.12</td>\n",
       "      <td>21.30</td>\n",
       "      <td>62.49</td>\n",
       "      <td>5.09</td>\n",
       "    </tr>\n",
       "    <tr>\n",
       "      <th>2</th>\n",
       "      <td>27.32</td>\n",
       "      <td>32.30</td>\n",
       "      <td>39.94</td>\n",
       "      <td>0.43</td>\n",
       "    </tr>\n",
       "    <tr>\n",
       "      <th>3</th>\n",
       "      <td>41.38</td>\n",
       "      <td>36.04</td>\n",
       "      <td>22.14</td>\n",
       "      <td>0.44</td>\n",
       "    </tr>\n",
       "    <tr>\n",
       "      <th>4</th>\n",
       "      <td>31.19</td>\n",
       "      <td>36.94</td>\n",
       "      <td>30.68</td>\n",
       "      <td>1.18</td>\n",
       "    </tr>\n",
       "    <tr>\n",
       "      <th>5</th>\n",
       "      <td>17.70</td>\n",
       "      <td>35.14</td>\n",
       "      <td>45.28</td>\n",
       "      <td>1.88</td>\n",
       "    </tr>\n",
       "    <tr>\n",
       "      <th>6</th>\n",
       "      <td>12.06</td>\n",
       "      <td>26.79</td>\n",
       "      <td>58.45</td>\n",
       "      <td>2.71</td>\n",
       "    </tr>\n",
       "    <tr>\n",
       "      <th>7</th>\n",
       "      <td>5.80</td>\n",
       "      <td>12.99</td>\n",
       "      <td>77.41</td>\n",
       "      <td>3.79</td>\n",
       "    </tr>\n",
       "    <tr>\n",
       "      <th>8</th>\n",
       "      <td>1.90</td>\n",
       "      <td>6.03</td>\n",
       "      <td>85.08</td>\n",
       "      <td>6.98</td>\n",
       "    </tr>\n",
       "    <tr>\n",
       "      <th>All</th>\n",
       "      <td>31.52</td>\n",
       "      <td>33.80</td>\n",
       "      <td>33.62</td>\n",
       "      <td>1.06</td>\n",
       "    </tr>\n",
       "  </tbody>\n",
       "</table>\n",
       "</div>"
      ],
      "text/plain": [
       "육질등급     1+      1      2    등외\n",
       "지방비율                           \n",
       "1     11.12  21.30  62.49  5.09\n",
       "2     27.32  32.30  39.94  0.43\n",
       "3     41.38  36.04  22.14  0.44\n",
       "4     31.19  36.94  30.68  1.18\n",
       "5     17.70  35.14  45.28  1.88\n",
       "6     12.06  26.79  58.45  2.71\n",
       "7      5.80  12.99  77.41  3.79\n",
       "8      1.90   6.03  85.08  6.98\n",
       "All   31.52  33.80  33.62  1.06"
      ]
     },
     "execution_count": 78,
     "metadata": {},
     "output_type": "execute_result"
    }
   ],
   "source": [
    "# 지방비율 범주별 육질등급의 상대도수를 확인합니다.\n",
    "pd.crosstab(index = df['지방비율'], columns = df['육질등급'], normalize = 'index', margins = True)[['1+', '1', '2', '등외']].round(4) * 100"
   ]
  },
  {
   "cell_type": "code",
   "execution_count": 79,
   "id": "922a3d02-41d7-45e8-a836-f003b0116b2c",
   "metadata": {
    "ExecuteTime": {
     "end_time": "2022-06-22T10:38:29.605495Z",
     "start_time": "2022-06-22T10:38:29.575140Z"
    }
   },
   "outputs": [],
   "source": [
    "# 육질등급이 '등외'인 행을 삭제합니다.\n",
    "df = df[df['육질등급'].ne('등외')]"
   ]
  },
  {
   "cell_type": "code",
   "execution_count": 80,
   "id": "73018f10-16be-4747-85a9-88c4617e9a62",
   "metadata": {
    "ExecuteTime": {
     "end_time": "2022-06-22T10:38:30.107302Z",
     "start_time": "2022-06-22T10:38:29.749309Z"
    }
   },
   "outputs": [
    {
     "data": {
      "image/png": "[encoded data removed]",
      "text/plain": [
       "<Figure size 1200x600 with 1 Axes>"
      ]
     },
     "metadata": {
      "needs_background": "light"
     },
     "output_type": "display_data"
    }
   ],
   "source": [
    "# 지방비율 범주별 육질등급 빈도수로 막대그래프를 그립니다.\n",
    "sns.countplot(data = df, x = '지방비율', hue = '육질등급', palette = 'Set1', hue_order = ['1+', '1', '2']);"
   ]
  },
  {
   "cell_type": "code",
   "execution_count": 81,
   "id": "e6736369-b41e-4018-8f6b-b3ce27e98f81",
   "metadata": {
    "ExecuteTime": {
     "end_time": "2022-06-22T10:38:30.359358Z",
     "start_time": "2022-06-22T10:38:30.316662Z"
    }
   },
   "outputs": [
    {
     "data": {
      "text/html": [
       "<div>\n",
       "<style scoped>\n",
       "    .dataframe tbody tr th:only-of-type {\n",
       "        vertical-align: middle;\n",
       "    }\n",
       "\n",
       "    .dataframe tbody tr th {\n",
       "        vertical-align: top;\n",
       "    }\n",
       "\n",
       "    .dataframe thead th {\n",
       "        text-align: right;\n",
       "    }\n",
       "</style>\n",
       "<table border=\"1\" class=\"dataframe\">\n",
       "  <thead>\n",
       "    <tr style=\"text-align: right;\">\n",
       "      <th>육질등급</th>\n",
       "      <th>1+</th>\n",
       "      <th>1</th>\n",
       "      <th>2</th>\n",
       "    </tr>\n",
       "    <tr>\n",
       "      <th>제품등급</th>\n",
       "      <th></th>\n",
       "      <th></th>\n",
       "      <th></th>\n",
       "    </tr>\n",
       "  </thead>\n",
       "  <tbody>\n",
       "    <tr>\n",
       "      <th>1</th>\n",
       "      <td>11.71</td>\n",
       "      <td>22.44</td>\n",
       "      <td>65.84</td>\n",
       "    </tr>\n",
       "    <tr>\n",
       "      <th>2</th>\n",
       "      <td>37.38</td>\n",
       "      <td>35.09</td>\n",
       "      <td>27.53</td>\n",
       "    </tr>\n",
       "    <tr>\n",
       "      <th>3</th>\n",
       "      <td>27.89</td>\n",
       "      <td>36.96</td>\n",
       "      <td>35.15</td>\n",
       "    </tr>\n",
       "    <tr>\n",
       "      <th>4</th>\n",
       "      <td>9.27</td>\n",
       "      <td>20.74</td>\n",
       "      <td>69.99</td>\n",
       "    </tr>\n",
       "  </tbody>\n",
       "</table>\n",
       "</div>"
      ],
      "text/plain": [
       "육질등급     1+      1      2\n",
       "제품등급                     \n",
       "1     11.71  22.44  65.84\n",
       "2     37.38  35.09  27.53\n",
       "3     27.89  36.96  35.15\n",
       "4      9.27  20.74  69.99"
      ]
     },
     "execution_count": 81,
     "metadata": {},
     "output_type": "execute_result"
    }
   ],
   "source": [
    "# 제품등급 범주별 육질등급의 상대도수를 확인합니다.\n",
    "pd.crosstab(index = df['제품등급'], columns = df['육질등급'], normalize = 'index')[['1+', '1', '2']].round(4) * 100"
   ]
  },
  {
   "cell_type": "code",
   "execution_count": 82,
   "id": "d1d85917-7c11-4baf-8714-99fb8a575d60",
   "metadata": {
    "ExecuteTime": {
     "end_time": "2022-06-22T10:38:30.812057Z",
     "start_time": "2022-06-22T10:38:30.565528Z"
    }
   },
   "outputs": [
    {
     "data": {
      "image/png": "[encoded data removed]",
      "text/plain": [
       "<Figure size 1200x600 with 1 Axes>"
      ]
     },
     "metadata": {
      "needs_background": "light"
     },
     "output_type": "display_data"
    }
   ],
   "source": [
    "# 제품등급 범주별 육질등급 빈도수로 막대그래프를 그립니다.\n",
    "sns.countplot(data = df, x = '제품등급', hue = '육질등급', palette = 'Set1', hue_order = ['1+', '1', '2']);"
   ]
  },
  {
   "cell_type": "markdown",
   "id": "4ac5a48a-399c-4623-86bd-b336481b7f13",
   "metadata": {},
   "source": [
    "## End of Document"
   ]
  }
 ],
 "metadata": {
  "kernelspec": {
   "display_name": "Python 3",
   "language": "python",
   "name": "python3"
  },
  "language_info": {
   "codemirror_mode": {
    "name": "ipython",
    "version": 3
   },
   "file_extension": ".py",
   "mimetype": "text/x-python",
   "name": "python",
   "nbconvert_exporter": "python",
   "pygments_lexer": "ipython3",
   "version": "3.10.4"
  },
  "toc": {
   "base_numbering": 1,
   "nav_menu": {},
   "number_sections": true,
   "sideBar": true,
   "skip_h1_title": false,
   "title_cell": "Table of Contents",
   "title_sidebar": "Contents",
   "toc_cell": false,
   "toc_position": {},
   "toc_section_display": true,
   "toc_window_display": false
  },
  "varInspector": {
   "cols": {
    "lenName": 16,
    "lenType": 16,
    "lenVar": 40
   },
   "kernels_config": {
    "python": {
     "delete_cmd_postfix": "",
     "delete_cmd_prefix": "del ",
     "library": "var_list.py",
     "varRefreshCmd": "print(var_dic_list())"
    },
    "r": {
     "delete_cmd_postfix": ") ",
     "delete_cmd_prefix": "rm(",
     "library": "var_list.r",
     "varRefreshCmd": "cat(var_dic_list()) "
    }
   },
   "types_to_exclude": [
    "module",
    "function",
    "builtin_function_or_method",
    "instance",
    "_Feature"
   ],
   "window_display": false
  }
 },
 "nbformat": 4,
 "nbformat_minor": 5
}
