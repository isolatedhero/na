{
 "cells": [
  {
   "cell_type": "markdown",
   "id": "2887e9fb",
   "metadata": {},
   "source": [
    "## 네이버 쇼핑 고객 리뷰 수집\n",
    "\n",
    "- 선진포크 <br>\n",
    "https://shopping.naver.com/market/homeplus/products/4995080486?NaPm=ct%3Dl4hsup8w%7Cci%3Dc7566a3ad63a90c2549dffb537e7243b76914658%7Ctr%3Dslsl%7Csn%3D1586736%7Chk%3D9bd164c802964236d8c384858fb0582fa75ae7fe"
   ]
  },
  {
   "cell_type": "code",
   "execution_count": 1,
   "id": "363736a5",
   "metadata": {
    "ExecuteTime": {
     "end_time": "2022-06-17T01:57:49.602376Z",
     "start_time": "2022-06-17T01:57:49.051277Z"
    }
   },
   "outputs": [],
   "source": [
    "# 관련 라이브러리를 호출합니다.\n",
    "import requests\n",
    "import json\n",
    "import pandas as pd\n",
    "import time"
   ]
  },
  {
   "cell_type": "code",
   "execution_count": 2,
   "id": "903ed541",
   "metadata": {},
   "outputs": [],
   "source": [
    "def NaverShopping(prod, shop, page = 1):\n",
    "    \n",
    "    # 요청 URL을 지정합니다.\n",
    "    url = 'https://shopping.naver.com/v1/reviews/paged-reviews'\n",
    "    \n",
    "    # 쿼리 문자열을 지정합니다.\n",
    "    qry = {\n",
    "        # '_nc_': '1655391600000',\n",
    "        'page': page,\n",
    "        'pageSize': 20,\n",
    "        'merchantNo': shop,\n",
    "        'originProductNo': prod,\n",
    "        'sortType': 'REVIEW_RANKING'\n",
    "    }\n",
    "    \n",
    "    # HTTP 요청을 실행합니다.\n",
    "    res = requests.get(url = url, params = qry)\n",
    "    \n",
    "    # 문자열을 JSON 형태로 변환합니다.\n",
    "    dat = json.loads(s = res.text)\n",
    "    \n",
    "    # 네이버 쇼핑 고객 리뷰를 데이터프레임으로 생성합니다.\n",
    "    df = pd.DataFrame(data = dat['contents'])\n",
    "    \n",
    "    return df"
   ]
  },
  {
   "cell_type": "code",
   "execution_count": 3,
   "id": "9e35f29f",
   "metadata": {},
   "outputs": [
    {
     "name": "stdout",
     "output_type": "stream",
     "text": [
      "현재 1 페이지 수집 중!\n",
      "현재 2 페이지 수집 중!\n",
      "현재 3 페이지 수집 중!\n",
      "현재 4 페이지 수집 중!\n",
      "현재 5 페이지 수집 중!\n",
      "현재 6 페이지 수집 중!\n",
      "현재 7 페이지 수집 중!\n"
     ]
    }
   ],
   "source": [
    "dfAll = pd.DataFrame()\n",
    "\n",
    "for i in range(1, 8):\n",
    "    \n",
    "    time.sleep(1)\n",
    "    print(f'현재 {i} 페이지 수집 중!')\n",
    "    \n",
    "    df = NaverShopping(\n",
    "        prod = '4978004590',\n",
    "        shop = '510758162',\n",
    "        page = i\n",
    "    )\n",
    "    \n",
    "    dfAll = pd.concat(objs = [dfAll, df], axis = 0)"
   ]
  },
  {
   "cell_type": "code",
   "execution_count": 4,
   "id": "58ed2249",
   "metadata": {},
   "outputs": [
    {
     "name": "stdout",
     "output_type": "stream",
     "text": [
      "<class 'pandas.core.frame.DataFrame'>\n",
      "Int64Index: 127 entries, 0 to 6\n",
      "Data columns (total 42 columns):\n",
      " #   Column                          Non-Null Count  Dtype  \n",
      "---  ------                          --------------  -----  \n",
      " 0   id                              127 non-null    object \n",
      " 1   reviewType                      127 non-null    object \n",
      " 2   reviewServiceType               127 non-null    object \n",
      " 3   reviewContentClassType          127 non-null    object \n",
      " 4   reviewScore                     127 non-null    int64  \n",
      " 5   reviewContent                   127 non-null    object \n",
      " 6   createDate                      127 non-null    object \n",
      " 7   repurchase                      122 non-null    object \n",
      " 8   reviewRankingScore              127 non-null    float64\n",
      " 9   writerMemberNo                  127 non-null    int64  \n",
      " 10  checkoutMerchantId              127 non-null    object \n",
      " 11  checkoutMerchantNo              127 non-null    int64  \n",
      " 12  orderNo                         127 non-null    object \n",
      " 13  productOrderNo                  127 non-null    object \n",
      " 14  productNo                       127 non-null    object \n",
      " 15  productName                     127 non-null    object \n",
      " 16  productUrl                      127 non-null    object \n",
      " 17  largeCategorizeCategoryId       127 non-null    object \n",
      " 18  middleCategorizeCategoryId      127 non-null    object \n",
      " 19  smallCategorizeCategoryId       127 non-null    object \n",
      " 20  detailCategorizeCategoryId      127 non-null    object \n",
      " 21  productOptionContent            126 non-null    object \n",
      " 22  originProductNo                 127 non-null    int64  \n",
      " 23  reviewAttaches                  127 non-null    object \n",
      " 24  reviewTopics                    82 non-null     object \n",
      " 25  eventTitle                      127 non-null    object \n",
      " 26  reviewDisplayStatusType         127 non-null    object \n",
      " 27  freeTrialReview                 2 non-null      object \n",
      " 28  writerMemberId                  127 non-null    object \n",
      " 29  writerMemberMaskedId            127 non-null    object \n",
      " 30  writerMemberIdNo                127 non-null    object \n",
      " 31  writerMemberProfileImageUrl     127 non-null    object \n",
      " 32  channelServiceType              127 non-null    object \n",
      " 33  channelId                       127 non-null    int64  \n",
      " 34  reviewEvaluationValueSeqs       127 non-null    object \n",
      " 35  profileImageSourceType          127 non-null    object \n",
      " 36  repThumbnailAttach              72 non-null     object \n",
      " 37  repThumbnailTagNameDescription  127 non-null    object \n",
      " 38  merchantNo                      127 non-null    object \n",
      " 39  merchantName                    127 non-null    object \n",
      " 40  isMyReview                      127 non-null    bool   \n",
      " 41  parentReviewSeq                 1 non-null      object \n",
      "dtypes: bool(1), float64(1), int64(5), object(35)\n",
      "memory usage: 41.8+ KB\n"
     ]
    }
   ],
   "source": [
    "dfAll.info()"
   ]
  },
  {
   "cell_type": "code",
   "execution_count": 5,
   "id": "2e250a4f",
   "metadata": {},
   "outputs": [],
   "source": [
    "dfAll.to_excel('Naver_Shopping_Review.xlsx', index = None)"
   ]
  },
  {
   "cell_type": "code",
   "execution_count": null,
   "id": "8c544a9d",
   "metadata": {},
   "outputs": [],
   "source": []
  },
  {
   "cell_type": "code",
   "execution_count": null,
   "id": "0f400ad0",
   "metadata": {},
   "outputs": [],
   "source": []
  },
  {
   "cell_type": "code",
   "execution_count": null,
   "id": "bfdcfeb0",
   "metadata": {},
   "outputs": [],
   "source": []
  },
  {
   "cell_type": "raw",
   "id": "de6e4a6d",
   "metadata": {
    "ExecuteTime": {
     "end_time": "2022-06-17T01:57:51.454899Z",
     "start_time": "2022-06-17T01:57:51.439909Z"
    }
   },
   "source": [
    "# 요청 URL을 지정합니다.\n",
    "url = 'https://shopping.naver.com/v1/reviews/paged-reviews'"
   ]
  },
  {
   "cell_type": "raw",
   "id": "fa481000",
   "metadata": {
    "ExecuteTime": {
     "end_time": "2022-06-17T01:58:19.759737Z",
     "start_time": "2022-06-17T01:58:19.747626Z"
    }
   },
   "source": [
    "# 쿼리 문자열을 지정합니다.\n",
    "qry = {\n",
    "    '_nc_': '1655391600000',\n",
    "    'page': 1,\n",
    "    'pageSize': 20,\n",
    "    'merchantNo': '510758162',\n",
    "    'originProductNo': '4978004590',\n",
    "    'sortType': 'REVIEW_RANKING'\n",
    "}"
   ]
  },
  {
   "cell_type": "raw",
   "id": "7264bbe6",
   "metadata": {
    "ExecuteTime": {
     "end_time": "2022-06-17T01:58:41.447935Z",
     "start_time": "2022-06-17T01:58:41.351532Z"
    }
   },
   "source": [
    "# HTTP 요청을 실행합니다.\n",
    "res = requests.get(url = url, params = qry)"
   ]
  },
  {
   "cell_type": "raw",
   "id": "a8af6101",
   "metadata": {
    "ExecuteTime": {
     "end_time": "2022-06-17T01:58:50.001525Z",
     "start_time": "2022-06-17T01:58:49.985943Z"
    }
   },
   "source": [
    "# HTTP 응답 상태코드를 확인합니다.\n",
    "res.status_code"
   ]
  },
  {
   "cell_type": "raw",
   "id": "db947efd",
   "metadata": {
    "ExecuteTime": {
     "end_time": "2022-06-17T01:59:00.090334Z",
     "start_time": "2022-06-17T01:59:00.076739Z"
    }
   },
   "source": [
    "# HTTP 응답 헤더 중 콘텐트 타입을 확인합니다.\n",
    "res.headers['content-type']"
   ]
  },
  {
   "cell_type": "raw",
   "id": "f32faca4",
   "metadata": {
    "ExecuteTime": {
     "end_time": "2022-06-17T01:59:04.547934Z",
     "start_time": "2022-06-17T01:59:04.528739Z"
    }
   },
   "source": [
    "# HTTP 응답 바디를 문자열로 출력합니다.\n",
    "res.text"
   ]
  },
  {
   "cell_type": "raw",
   "id": "d93dd9b6",
   "metadata": {
    "ExecuteTime": {
     "end_time": "2022-06-17T01:59:18.940978Z",
     "start_time": "2022-06-17T01:59:18.922570Z"
    }
   },
   "source": [
    "# 문자열을 JSON 형태로 변환합니다.\n",
    "dat = json.loads(s = res.text)"
   ]
  },
  {
   "cell_type": "raw",
   "id": "970f2fe2",
   "metadata": {},
   "source": [
    "# dat를 출력합니다. [참고] dat는 딕셔너리입니다.\n",
    "dat"
   ]
  },
  {
   "cell_type": "raw",
   "id": "bf2a3869",
   "metadata": {
    "ExecuteTime": {
     "end_time": "2022-06-17T01:59:27.052070Z",
     "start_time": "2022-06-17T01:59:27.009548Z"
    }
   },
   "source": [
    "# dat에서 키가 'contents'인 아이템을 선택합니다.\n",
    "dat['contents']"
   ]
  },
  {
   "cell_type": "raw",
   "id": "490c6880",
   "metadata": {
    "ExecuteTime": {
     "end_time": "2022-06-17T01:59:47.168140Z",
     "start_time": "2022-06-17T01:59:47.139892Z"
    }
   },
   "source": [
    "# 네이버 쇼핑 고객 리뷰를 데이터프레임으로 생성합니다.\n",
    "df = pd.DataFrame(data = dat['contents'])"
   ]
  },
  {
   "cell_type": "raw",
   "id": "16680dc7",
   "metadata": {
    "scrolled": true
   },
   "source": [
    "# df의 정보를 확인합니다.\n",
    "df.info()"
   ]
  },
  {
   "cell_type": "raw",
   "id": "bd52d83b",
   "metadata": {
    "ExecuteTime": {
     "end_time": "2022-06-17T02:00:00.066223Z",
     "start_time": "2022-06-17T02:00:00.043230Z"
    }
   },
   "source": [
    "# df의 처음 5행을 출력합니다.\n",
    "df.head()"
   ]
  },
  {
   "cell_type": "markdown",
   "id": "ec95ccc4",
   "metadata": {},
   "source": [
    "## End of Document"
   ]
  }
 ],
 "metadata": {
  "kernelspec": {
   "display_name": "Python 3",
   "language": "python",
   "name": "python3"
  },
  "language_info": {
   "codemirror_mode": {
    "name": "ipython",
    "version": 3
   },
   "file_extension": ".py",
   "mimetype": "text/x-python",
   "name": "python",
   "nbconvert_exporter": "python",
   "pygments_lexer": "ipython3",
   "version": "3.10.4"
  },
  "toc": {
   "base_numbering": 1,
   "nav_menu": {},
   "number_sections": true,
   "sideBar": true,
   "skip_h1_title": false,
   "title_cell": "Table of Contents",
   "title_sidebar": "Contents",
   "toc_cell": false,
   "toc_position": {},
   "toc_section_display": true,
   "toc_window_display": false
  },
  "varInspector": {
   "cols": {
    "lenName": 16,
    "lenType": 16,
    "lenVar": 40
   },
   "kernels_config": {
    "python": {
     "delete_cmd_postfix": "",
     "delete_cmd_prefix": "del ",
     "library": "var_list.py",
     "varRefreshCmd": "print(var_dic_list())"
    },
    "r": {
     "delete_cmd_postfix": ") ",
     "delete_cmd_prefix": "rm(",
     "library": "var_list.r",
     "varRefreshCmd": "cat(var_dic_list()) "
    }
   },
   "types_to_exclude": [
    "module",
    "function",
    "builtin_function_or_method",
    "instance",
    "_Feature"
   ],
   "window_display": false
  }
 },
 "nbformat": 4,
 "nbformat_minor": 5
}
